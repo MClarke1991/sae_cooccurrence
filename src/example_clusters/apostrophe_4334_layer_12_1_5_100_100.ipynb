{
 "cells": [
  {
   "cell_type": "markdown",
   "metadata": {},
   "source": [
    "Performed for a run where the original graphs were run for 100 batchs"
   ]
  },
  {
   "cell_type": "code",
   "execution_count": null,
   "metadata": {},
   "outputs": [],
   "source": [
    "%load_ext autoreload\n",
    "%autoreload 2\n",
    "import logging\n",
    "import os\n",
    "from os.path import join as pj\n",
    "\n",
    "import numpy as np\n",
    "import pandas as pd\n",
    "import torch\n",
    "from sae_lens import SAE, ActivationsStore\n",
    "from transformer_lens import HookedTransformer\n",
    "\n",
    "from sae_cooccurrence.normalised_cooc_functions import (\n",
    "    create_results_dir,\n",
    "    get_sae_release,\n",
    "    neat_sae_id,\n",
    ")\n",
    "from sae_cooccurrence.pca import (\n",
    "    analyze_specific_points_from_thresholded,\n",
    "    calculate_pca_decoder,\n",
    "    create_pca_plots_decoder,\n",
    "    generate_data,\n",
    "    load_data_from_pickle,\n",
    "    plot_doubly_clustered_activation_heatmap,\n",
    "    plot_feature_activation_counts,\n",
    "    plot_feature_activation_trends_representative_points,\n",
    "    plot_pca_explanation_and_save,\n",
    "    plot_pca_feature_strength,\n",
    "    plot_pca_with_active_features,\n",
    "    plot_pca_with_top_feature,\n",
    "    plot_simple_scatter,\n",
    "    plot_token_pca_and_save,\n",
    "    save_data_to_pickle,\n",
    ")\n",
    "from sae_cooccurrence.pca_animation import (\n",
    "    analyze_specific_points_animated_from_thresholded,\n",
    ")\n",
    "from sae_cooccurrence.utils.saving_loading import load_npz_files, set_device\n",
    "from sae_cooccurrence.utils.set_paths import get_git_root"
   ]
  },
  {
   "cell_type": "markdown",
   "metadata": {},
   "source": [
    "# Set up logging and paths\n"
   ]
  },
  {
   "cell_type": "code",
   "execution_count": null,
   "metadata": {},
   "outputs": [],
   "source": [
    "def setup_logging(log_path):\n",
    "    logging.basicConfig(\n",
    "        filename=log_path,\n",
    "        level=logging.INFO,\n",
    "        format=\"%(asctime)s - %(levelname)s - %(message)s\",\n",
    "        datefmt=\"%Y-%m-%d %H:%M:%S\",\n",
    "    )\n",
    "\n",
    "\n",
    "# Config -------------\n",
    "torch.set_grad_enabled(False)\n",
    "device = set_device()\n",
    "git_root = get_git_root()"
   ]
  },
  {
   "cell_type": "markdown",
   "metadata": {},
   "source": [
    "# Settings to perform PCA on a particular subgraph"
   ]
  },
  {
   "cell_type": "code",
   "execution_count": 81,
   "metadata": {},
   "outputs": [],
   "source": [
    "save_figs = True\n",
    "\n",
    "# model_name = \"gpt2-small\"\n",
    "# sae_release_short = \"res-jb-feature-splitting\"\n",
    "# sae_id = \"blocks.8.hook_resid_pre_24576\"\n",
    "# n_batches_reconstruction = 25\n",
    "\n",
    "model_name = \"gemma-2-2b\"\n",
    "sae_release_short = \"gemma-scope-2b-pt-res-canonical\"\n",
    "sae_id = \"layer_12/width_16k/canonical\"\n",
    "n_batches_reconstruction = 500\n",
    "remove_special_tokens = True\n",
    "\n",
    "activation_threshold = 1.5\n",
    "subgraph_id = 4334\n",
    "n_batches_generation = 100"
   ]
  },
  {
   "cell_type": "code",
   "execution_count": null,
   "metadata": {},
   "outputs": [],
   "source": [
    "np.random.seed(1234)\n",
    "\n",
    "fs_splitting_cluster = subgraph_id\n",
    "pca_prefix = \"pca\"\n",
    "\n",
    "# Load model\n",
    "model = HookedTransformer.from_pretrained(model_name, device=device)\n",
    "\n",
    "# Process the specific subgraph\n",
    "sae_id_neat = neat_sae_id(sae_id)\n",
    "results_dir = create_results_dir(\n",
    "    model_name, sae_release_short, sae_id_neat, n_batches_generation\n",
    ")\n",
    "results_path = pj(git_root, results_dir)\n",
    "activation_threshold_safe = str(activation_threshold).replace(\".\", \"_\")\n",
    "\n",
    "thresholded_matrix = np.load(\n",
    "    pj(\n",
    "        results_path,\n",
    "        f\"thresholded_matrices/thresholded_matrix_{activation_threshold_safe}.npz\",\n",
    "    )\n",
    ")[\"arr_0\"]\n",
    "\n",
    "figures_path = pj(git_root, f\"figures/{model_name}/{sae_release_short}/{sae_id_neat}\")\n",
    "pca_dir = f\"{pca_prefix}_{activation_threshold_safe}_subgraph_{subgraph_id}\"\n",
    "pca_path = pj(figures_path, pca_dir)\n",
    "if not os.path.exists(pca_path):\n",
    "    os.makedirs(pca_path)\n",
    "pickle_file = pj(pca_path, f\"pca_data_subgraph_{subgraph_id}.pkl\")\n",
    "\n",
    "# Set up logging\n",
    "log_path = pj(pca_path, \"pca_analysis.log\")\n",
    "setup_logging(log_path)\n",
    "\n",
    "# Log all settings\n",
    "logging.info(\"Script started\")\n",
    "logging.info(\"Settings:\")\n",
    "logging.info(f\"  save_figs: {save_figs}\")\n",
    "logging.info(f\"  git_root: {git_root}\")\n",
    "logging.info(f\"  sae_id: {sae_id}\")\n",
    "logging.info(f\"  activation_threshold: {activation_threshold}\")\n",
    "logging.info(f\"  subgraph_id: {subgraph_id}\")\n",
    "logging.info(f\"  fs_splitting_cluster: {fs_splitting_cluster}\")\n",
    "logging.info(f\"  pca_prefix: {pca_prefix}\")\n",
    "logging.info(f\"  model_name: {model_name}\")\n",
    "logging.info(f\"  sae_release_short: {sae_release_short}\")\n",
    "logging.info(f\"  n_batches_reconstruction: {n_batches_reconstruction}\")\n",
    "logging.info(f\"  device: {device}\")\n",
    "logging.info(f\"  results_path: {results_path}\")\n",
    "logging.info(f\"  pca_path: {pca_path}\")"
   ]
  },
  {
   "cell_type": "code",
   "execution_count": null,
   "metadata": {},
   "outputs": [],
   "source": [
    "node_df = pd.read_csv(\n",
    "    pj(results_path, f\"dataframes/node_info_df_{activation_threshold_safe}.csv\")\n",
    ")\n",
    "logging.info(\n",
    "    f\"Loaded node_df from {pj(results_path, f'dataframes/node_info_df_{activation_threshold_safe}.csv')}\"\n",
    ")\n",
    "\n",
    "overall_feature_activations = load_npz_files(\n",
    "    results_path, \"feature_acts_cooc_activations\"\n",
    ").get(activation_threshold)\n",
    "\n",
    "# with open(pj(results_path, f\"subgraph_objects/activation_{activation_threshold_safe}/subgraph_{subgraph_id}.pkl\"), 'rb') as f:\n",
    "#     subgraph = pickle.load(f)\n",
    "\n",
    "\n",
    "# Filter for the specific subgraph\n",
    "fs_splitting_nodes = node_df.query(\"subgraph_id == @subgraph_id\")[\"node_id\"].tolist()"
   ]
  },
  {
   "cell_type": "code",
   "execution_count": null,
   "metadata": {},
   "outputs": [],
   "source": [
    "regen_data = False\n",
    "if not regen_data:\n",
    "    raise ValueError(\"Are you sure you don't want to use existing data?\")"
   ]
  },
  {
   "cell_type": "code",
   "execution_count": 85,
   "metadata": {},
   "outputs": [],
   "source": [
    "if not regen_data and os.path.exists(pickle_file):\n",
    "    data = load_data_from_pickle(pickle_file)\n",
    "    results = data[\"results\"]\n",
    "    pca_df = data[\"pca_df\"]\n",
    "    pca = data[\"pca\"]\n",
    "    pca_decoder = data[\"pca_decoder\"]\n",
    "    pca_decoder_df = data[\"pca_decoder_df\"]\n",
    "else:\n",
    "    sae_release = get_sae_release(model_name, sae_release_short)\n",
    "\n",
    "    # Load SAE and set up activation store\n",
    "    sae, cfg_dict, sparsity = SAE.from_pretrained(\n",
    "        release=sae_release, sae_id=sae_id, device=device\n",
    "    )\n",
    "    sae.fold_W_dec_norm()\n",
    "\n",
    "    activation_store = ActivationsStore.from_sae(\n",
    "        model=model,\n",
    "        sae=sae,\n",
    "        streaming=True,\n",
    "        store_batch_size_prompts=8,\n",
    "        train_batch_size_tokens=4096,\n",
    "        n_batches_in_buffer=32,\n",
    "        device=device,\n",
    "    )\n",
    "\n",
    "    data = generate_data(\n",
    "        model,\n",
    "        sae,\n",
    "        activation_store,\n",
    "        fs_splitting_nodes,\n",
    "        n_batches_reconstruction,\n",
    "        decoder=False,\n",
    "        remove_special_tokens=remove_special_tokens,\n",
    "        device=device,\n",
    "    )\n",
    "\n",
    "    if regen_data:\n",
    "        save_data_to_pickle(data, pickle_file)\n",
    "\n",
    "    results = data[\"results\"]\n",
    "    pca_df = data[\"pca_df\"]\n",
    "    pca = data[\"pca\"]\n",
    "    pca_decoder = data[\"pca_decoder\"]\n",
    "    pca_decoder_df = data[\"pca_decoder_df\"]"
   ]
  },
  {
   "cell_type": "code",
   "execution_count": null,
   "metadata": {},
   "outputs": [],
   "source": [
    "# # Save pca_df as CSV\n",
    "# pca_df_filename = f\"pca_df_subgraph_{subgraph_id}.csv\"\n",
    "# pca_df.to_csv(pj(pca_path, pca_df_filename), index=False)\n",
    "\n",
    "plot_token_pca_and_save(pca_df, pca_path, subgraph_id, color_by=\"token\", save=save_figs)\n",
    "\n",
    "plot_pca_explanation_and_save(pca, pca_path, subgraph_id, save=save_figs)\n",
    "\n",
    "plot_simple_scatter(results, pca_path, subgraph_id, fs_splitting_nodes, save=save_figs)\n",
    "\n",
    "if pca_decoder is not None:\n",
    "    pca_decoder, pca_decoder_df = calculate_pca_decoder(sae, fs_splitting_nodes)\n",
    "    # Save pca_decoder_df as CSV\n",
    "    pca_decoder_df_filename = f\"pca_decoder_df_subgraph_{subgraph_id}.csv\"\n",
    "    pca_decoder_df.to_csv(pj(pca_path, pca_decoder_df_filename), index=False)\n",
    "\n",
    "    create_pca_plots_decoder(pca_decoder_df, subgraph_id, pca_path, save=save_figs)\n",
    "\n",
    "print(f\"Processing completed for subgraph ID {subgraph_id}\")"
   ]
  },
  {
   "cell_type": "code",
   "execution_count": 87,
   "metadata": {},
   "outputs": [],
   "source": [
    "plot_pca_with_top_feature(\n",
    "    pca_df, results, fs_splitting_nodes, fs_splitting_cluster, pca_path, save=save_figs\n",
    ")"
   ]
  },
  {
   "cell_type": "code",
   "execution_count": 88,
   "metadata": {},
   "outputs": [],
   "source": [
    "plot_pca_feature_strength(\n",
    "    pca_df,\n",
    "    results,\n",
    "    fs_splitting_nodes,\n",
    "    fs_splitting_cluster,\n",
    "    pca_path,\n",
    "    pc_x=\"PC1\",\n",
    "    pc_y=\"PC2\",\n",
    "    save=save_figs,\n",
    ")\n",
    "plot_pca_feature_strength(\n",
    "    pca_df,\n",
    "    results,\n",
    "    fs_splitting_nodes,\n",
    "    fs_splitting_cluster,\n",
    "    pca_path,\n",
    "    pc_x=\"PC1\",\n",
    "    pc_y=\"PC3\",\n",
    "    save=save_figs,\n",
    ")\n",
    "plot_pca_feature_strength(\n",
    "    pca_df,\n",
    "    results,\n",
    "    fs_splitting_nodes,\n",
    "    fs_splitting_cluster,\n",
    "    pca_path,\n",
    "    pc_x=\"PC2\",\n",
    "    pc_y=\"PC3\",\n",
    "    save=save_figs,\n",
    ")"
   ]
  },
  {
   "cell_type": "code",
   "execution_count": 89,
   "metadata": {},
   "outputs": [],
   "source": [
    "plot_pca_with_active_features(\n",
    "    pca_df,\n",
    "    results,\n",
    "    fs_splitting_nodes,\n",
    "    fs_splitting_cluster,\n",
    "    pca_path,\n",
    "    activation_threshold=activation_threshold,\n",
    "    save=save_figs,\n",
    ")"
   ]
  },
  {
   "cell_type": "code",
   "execution_count": 90,
   "metadata": {},
   "outputs": [],
   "source": [
    "plot_doubly_clustered_activation_heatmap(\n",
    "    results,\n",
    "    fs_splitting_nodes,\n",
    "    pca_df,\n",
    "    pca_path,\n",
    "    fs_splitting_cluster,\n",
    "    max_examples=1000,\n",
    "    save=save_figs,\n",
    ")"
   ]
  },
  {
   "cell_type": "code",
   "execution_count": null,
   "metadata": {},
   "outputs": [],
   "source": [
    "# just straight line\n",
    "interesting_point_ids_name_to_thing = [\n",
    "    15554,\n",
    "    20044,\n",
    "    8096,\n",
    "    9367,\n",
    "    5629,\n",
    "    15233,\n",
    "    10617,\n",
    "    14254,\n",
    "    6310,\n",
    "    9660,\n",
    "    4074,\n",
    "]  # Replace with actual IDs of interest\n",
    "analyze_specific_points_from_thresholded(\n",
    "    results=results,\n",
    "    thresholded_matrix=thresholded_matrix,\n",
    "    fs_splitting_nodes=fs_splitting_nodes,\n",
    "    fs_splitting_cluster=fs_splitting_cluster,\n",
    "    activation_threshold=activation_threshold,\n",
    "    node_df=node_df,\n",
    "    pca_df=pca_df,\n",
    "    point_ids=interesting_point_ids_name_to_thing,\n",
    "    subdir=\"straight_line_name_to_thing\",\n",
    "    save_figs=True,\n",
    "    pca_path=pca_path,\n",
    ")"
   ]
  },
  {
   "cell_type": "code",
   "execution_count": null,
   "metadata": {},
   "outputs": [],
   "source": [
    "analyze_specific_points_animated_from_thresholded(\n",
    "    results=results,\n",
    "    thresholded_matrix=thresholded_matrix,\n",
    "    fs_splitting_nodes=fs_splitting_nodes,\n",
    "    fs_splitting_cluster=fs_splitting_cluster,\n",
    "    # activation_threshold=activation_threshold,\n",
    "    node_df=node_df,\n",
    "    pca_df=pca_df,\n",
    "    point_ids=interesting_point_ids_name_to_thing,\n",
    "    # results_path=results_path,\n",
    "    plot_only_fs_nodes=True,\n",
    "    save_gif=True,\n",
    "    gif_path=pca_path,\n",
    "    gif_filename=\"straight_line_name_to_thing.gif\",\n",
    "    frame_folder_name=\"straight_gif_frames_name_to_thing\",\n",
    ")"
   ]
  },
  {
   "cell_type": "code",
   "execution_count": null,
   "metadata": {},
   "outputs": [],
   "source": [
    "plot_feature_activation_trends_representative_points(\n",
    "    results,\n",
    "    fs_splitting_nodes,\n",
    "    interesting_point_ids_name_to_thing,\n",
    "    pca_df,\n",
    "    save_figs=True,\n",
    "    pca_path=pca_path,\n",
    "    subdir=\"straight_line_name_to_thing\",\n",
    "    filename=\"feature_activation_trends_name_to_thing\",\n",
    ")"
   ]
  },
  {
   "cell_type": "code",
   "execution_count": null,
   "metadata": {},
   "outputs": [],
   "source": [
    "# just straight line\n",
    "interesting_point_ids_name_to_generic_person = [\n",
    "    15554,\n",
    "    20105,\n",
    "    17434,\n",
    "    6837,\n",
    "    11308,\n",
    "    19926,\n",
    "    5875,\n",
    "    15795,\n",
    "    14216,\n",
    "    # 17671,\n",
    "    20406,\n",
    "    17631,\n",
    "    17110,\n",
    "    11443,\n",
    "    17133,\n",
    "    17330,\n",
    "    4567,\n",
    "    4895,\n",
    "]  # Replace with actual IDs of interest\n",
    "analyze_specific_points_from_thresholded(\n",
    "    results=results,\n",
    "    thresholded_matrix=thresholded_matrix,\n",
    "    fs_splitting_nodes=fs_splitting_nodes,\n",
    "    fs_splitting_cluster=fs_splitting_cluster,\n",
    "    activation_threshold=activation_threshold,\n",
    "    node_df=node_df,\n",
    "    pca_df=pca_df,\n",
    "    point_ids=interesting_point_ids_name_to_generic_person,\n",
    "    subdir=\"straight_line_name_to_generic_person\",\n",
    "    save_figs=True,\n",
    "    pca_path=pca_path,\n",
    ")"
   ]
  },
  {
   "cell_type": "code",
   "execution_count": null,
   "metadata": {},
   "outputs": [],
   "source": [
    "analyze_specific_points_animated_from_thresholded(\n",
    "    results=results,\n",
    "    thresholded_matrix=thresholded_matrix,\n",
    "    fs_splitting_nodes=fs_splitting_nodes,\n",
    "    fs_splitting_cluster=fs_splitting_cluster,\n",
    "    # activation_threshold=activation_threshold,\n",
    "    node_df=node_df,\n",
    "    pca_df=pca_df,\n",
    "    point_ids=interesting_point_ids_name_to_generic_person,\n",
    "    # results_path=results_path,\n",
    "    plot_only_fs_nodes=True,\n",
    "    save_gif=True,\n",
    "    gif_path=pca_path,\n",
    "    gif_filename=\"straight_line_name_to_generic_person.gif\",\n",
    "    frame_folder_name=\"straight_gif_frames_name_to_generic_person\",\n",
    ")"
   ]
  },
  {
   "cell_type": "code",
   "execution_count": null,
   "metadata": {},
   "outputs": [],
   "source": [
    "plot_feature_activation_trends_representative_points(\n",
    "    results,\n",
    "    fs_splitting_nodes,\n",
    "    interesting_point_ids_name_to_generic_person,\n",
    "    pca_df,\n",
    "    save_figs=True,\n",
    "    pca_path=pca_path,\n",
    "    subdir=\"straight_line_name_to_generic_person\",\n",
    "    filename=\"feature_activation_trends_name_to_generic_person\",\n",
    ")"
   ]
  },
  {
   "cell_type": "code",
   "execution_count": 111,
   "metadata": {},
   "outputs": [],
   "source": [
    "pca_df_max_examples = pca_df.copy()\n",
    "pca_df_max_examples[\"Context\"] = pca_df_max_examples[\"context\"].apply(lambda x: repr(x))\n",
    "pca_df_max_examples[\"combined\"] = (\n",
    "    pca_df_max_examples[\"PC2\"] + pca_df_max_examples[\"PC3\"]\n",
    ")\n",
    "examples = pca_df_max_examples.sort_values(\"combined\", ascending=False).head(10)\n",
    "examples.rename(columns={\"context\": \"Context\"}, inplace=True)\n",
    "# show only columns for point id and context\n",
    "examples[[\"Context\"]].to_csv(pj(pca_path, \"top_examples_top_right.csv\"), index=False)"
   ]
  },
  {
   "cell_type": "code",
   "execution_count": 107,
   "metadata": {},
   "outputs": [
    {
     "data": {
      "text/html": [
       "<div>\n",
       "<style scoped>\n",
       "    .dataframe tbody tr th:only-of-type {\n",
       "        vertical-align: middle;\n",
       "    }\n",
       "\n",
       "    .dataframe tbody tr th {\n",
       "        vertical-align: top;\n",
       "    }\n",
       "\n",
       "    .dataframe thead th {\n",
       "        text-align: right;\n",
       "    }\n",
       "</style>\n",
       "<table border=\"1\" class=\"dataframe\">\n",
       "  <thead>\n",
       "    <tr style=\"text-align: right;\">\n",
       "      <th></th>\n",
       "      <th>PC1</th>\n",
       "      <th>PC2</th>\n",
       "      <th>PC3</th>\n",
       "      <th>tokens</th>\n",
       "      <th>Context</th>\n",
       "      <th>point_id</th>\n",
       "      <th>active_feature</th>\n",
       "      <th>top_activation</th>\n",
       "      <th>top_features</th>\n",
       "      <th>combined</th>\n",
       "    </tr>\n",
       "  </thead>\n",
       "  <tbody>\n",
       "    <tr>\n",
       "      <th>4583</th>\n",
       "      <td>23.958549</td>\n",
       "      <td>7.801569</td>\n",
       "      <td>15.605243</td>\n",
       "      <td>'</td>\n",
       "      <td>the buyers changed their position in reliance...</td>\n",
       "      <td>4583</td>\n",
       "      <td>4572</td>\n",
       "      <td>35.897873</td>\n",
       "      <td>4572, 9754</td>\n",
       "      <td>23.406813</td>\n",
       "    </tr>\n",
       "    <tr>\n",
       "      <th>17337</th>\n",
       "      <td>20.419363</td>\n",
       "      <td>7.034844</td>\n",
       "      <td>15.721357</td>\n",
       "      <td>'</td>\n",
       "      <td>2002. It is apparent from plaintiffs|'| papers...</td>\n",
       "      <td>17337</td>\n",
       "      <td>4572</td>\n",
       "      <td>34.139557</td>\n",
       "      <td>4572, 9754</td>\n",
       "      <td>22.756201</td>\n",
       "    </tr>\n",
       "    <tr>\n",
       "      <th>17308</th>\n",
       "      <td>21.146250</td>\n",
       "      <td>7.231211</td>\n",
       "      <td>15.448147</td>\n",
       "      <td>'</td>\n",
       "      <td>scour the purchase agreement looking for the ...</td>\n",
       "      <td>17308</td>\n",
       "      <td>4572</td>\n",
       "      <td>34.269295</td>\n",
       "      <td>4572, 9754</td>\n",
       "      <td>22.679358</td>\n",
       "    </tr>\n",
       "    <tr>\n",
       "      <th>17330</th>\n",
       "      <td>20.692991</td>\n",
       "      <td>7.188835</td>\n",
       "      <td>15.105166</td>\n",
       "      <td>'</td>\n",
       "      <td>and those records are more than adequate to m...</td>\n",
       "      <td>17330</td>\n",
       "      <td>4572</td>\n",
       "      <td>33.712051</td>\n",
       "      <td>4572, 9754</td>\n",
       "      <td>22.294001</td>\n",
       "    </tr>\n",
       "    <tr>\n",
       "      <th>1070</th>\n",
       "      <td>25.607754</td>\n",
       "      <td>8.240004</td>\n",
       "      <td>13.391506</td>\n",
       "      <td>'</td>\n",
       "      <td>Regarding Jury Deliberations\\n\\nWe next consi...</td>\n",
       "      <td>1070</td>\n",
       "      <td>4572</td>\n",
       "      <td>34.466255</td>\n",
       "      <td>4572, 9754</td>\n",
       "      <td>21.631510</td>\n",
       "    </tr>\n",
       "    <tr>\n",
       "      <th>9976</th>\n",
       "      <td>17.885668</td>\n",
       "      <td>6.633146</td>\n",
       "      <td>14.860841</td>\n",
       "      <td>’</td>\n",
       "      <td>playgrounds, were joined by an increasing awa...</td>\n",
       "      <td>9976</td>\n",
       "      <td>4572</td>\n",
       "      <td>32.005165</td>\n",
       "      <td>4572, 9754</td>\n",
       "      <td>21.493986</td>\n",
       "    </tr>\n",
       "    <tr>\n",
       "      <th>17354</th>\n",
       "      <td>23.038532</td>\n",
       "      <td>6.061219</td>\n",
       "      <td>15.394769</td>\n",
       "      <td>'</td>\n",
       "      <td>alone lay persons on a jury. To prove plainti...</td>\n",
       "      <td>17354</td>\n",
       "      <td>4572</td>\n",
       "      <td>34.520355</td>\n",
       "      <td>4572, 9754</td>\n",
       "      <td>21.455988</td>\n",
       "    </tr>\n",
       "    <tr>\n",
       "      <th>3276</th>\n",
       "      <td>23.302017</td>\n",
       "      <td>7.641175</td>\n",
       "      <td>13.647782</td>\n",
       "      <td>'</td>\n",
       "      <td>unconstitutional. The only issue presented in ...</td>\n",
       "      <td>3276</td>\n",
       "      <td>4572</td>\n",
       "      <td>33.419617</td>\n",
       "      <td>4572, 9754</td>\n",
       "      <td>21.288958</td>\n",
       "    </tr>\n",
       "    <tr>\n",
       "      <th>1077</th>\n",
       "      <td>19.350863</td>\n",
       "      <td>7.044068</td>\n",
       "      <td>14.213270</td>\n",
       "      <td>'</td>\n",
       "      <td>these rules of law.\"\\nAll of the plaintiffs|'...</td>\n",
       "      <td>1077</td>\n",
       "      <td>4572</td>\n",
       "      <td>32.176796</td>\n",
       "      <td>4572, 9754</td>\n",
       "      <td>21.257338</td>\n",
       "    </tr>\n",
       "    <tr>\n",
       "      <th>4584</th>\n",
       "      <td>20.210949</td>\n",
       "      <td>7.266536</td>\n",
       "      <td>13.953338</td>\n",
       "      <td>'</td>\n",
       "      <td>rescind the earnest money agreement because o...</td>\n",
       "      <td>4584</td>\n",
       "      <td>4572</td>\n",
       "      <td>32.389084</td>\n",
       "      <td>4572, 9754</td>\n",
       "      <td>21.219873</td>\n",
       "    </tr>\n",
       "  </tbody>\n",
       "</table>\n",
       "</div>"
      ],
      "text/plain": [
       "             PC1       PC2        PC3 tokens  \\\n",
       "4583   23.958549  7.801569  15.605243      '   \n",
       "17337  20.419363  7.034844  15.721357      '   \n",
       "17308  21.146250  7.231211  15.448147      '   \n",
       "17330  20.692991  7.188835  15.105166      '   \n",
       "1070   25.607754  8.240004  13.391506      '   \n",
       "9976   17.885668  6.633146  14.860841      ’   \n",
       "17354  23.038532  6.061219  15.394769      '   \n",
       "3276   23.302017  7.641175  13.647782      '   \n",
       "1077   19.350863  7.044068  14.213270      '   \n",
       "4584   20.210949  7.266536  13.953338      '   \n",
       "\n",
       "                                                 Context  point_id  \\\n",
       "4583    the buyers changed their position in reliance...      4583   \n",
       "17337  2002. It is apparent from plaintiffs|'| papers...     17337   \n",
       "17308   scour the purchase agreement looking for the ...     17308   \n",
       "17330   and those records are more than adequate to m...     17330   \n",
       "1070    Regarding Jury Deliberations\\n\\nWe next consi...      1070   \n",
       "9976    playgrounds, were joined by an increasing awa...      9976   \n",
       "17354   alone lay persons on a jury. To prove plainti...     17354   \n",
       "3276   unconstitutional. The only issue presented in ...      3276   \n",
       "1077    these rules of law.\"\\nAll of the plaintiffs|'...      1077   \n",
       "4584    rescind the earnest money agreement because o...      4584   \n",
       "\n",
       "      active_feature  top_activation top_features   combined  \n",
       "4583            4572       35.897873   4572, 9754  23.406813  \n",
       "17337           4572       34.139557   4572, 9754  22.756201  \n",
       "17308           4572       34.269295   4572, 9754  22.679358  \n",
       "17330           4572       33.712051   4572, 9754  22.294001  \n",
       "1070            4572       34.466255   4572, 9754  21.631510  \n",
       "9976            4572       32.005165   4572, 9754  21.493986  \n",
       "17354           4572       34.520355   4572, 9754  21.455988  \n",
       "3276            4572       33.419617   4572, 9754  21.288958  \n",
       "1077            4572       32.176796   4572, 9754  21.257338  \n",
       "4584            4572       32.389084   4572, 9754  21.219873  "
      ]
     },
     "execution_count": 107,
     "metadata": {},
     "output_type": "execute_result"
    }
   ],
   "source": [
    "examples"
   ]
  },
  {
   "cell_type": "code",
   "execution_count": 112,
   "metadata": {},
   "outputs": [],
   "source": [
    "pca_df_max_examples = pca_df.copy()\n",
    "pca_df_max_examples[\"Context\"] = pca_df_max_examples[\"context\"].apply(lambda x: repr(x))\n",
    "pca_df_max_examples[\"combined\"] = -pca_df_max_examples[\"PC2\"]\n",
    "examples = pca_df_max_examples.sort_values(\"combined\", ascending=False).head(10)\n",
    "examples.rename(columns={\"context\": \"Context\"}, inplace=True)\n",
    "# show only columns for point id and context\n",
    "examples[[\"Context\"]].to_csv(pj(pca_path, \"top_examples_left.csv\"), index=False)"
   ]
  },
  {
   "cell_type": "code",
   "execution_count": 113,
   "metadata": {},
   "outputs": [],
   "source": [
    "pca_df_max_examples = pca_df.copy()\n",
    "pca_df_max_examples[\"Context\"] = pca_df_max_examples[\"context\"].apply(lambda x: repr(x))\n",
    "pca_df_max_examples[\"combined\"] = (\n",
    "    pca_df_max_examples[\"PC2\"] - pca_df_max_examples[\"PC3\"]\n",
    ")\n",
    "examples = pca_df_max_examples.sort_values(\"combined\", ascending=False).head(10)\n",
    "examples.rename(columns={\"context\": \"Context\"}, inplace=True)\n",
    "# show only columns for point id and context\n",
    "examples[[\"Context\"]].to_csv(pj(pca_path, \"top_examples_bottom_right.csv\"), index=False)"
   ]
  },
  {
   "cell_type": "code",
   "execution_count": 117,
   "metadata": {},
   "outputs": [
    {
     "data": {
      "application/vnd.plotly.v1+json": {
       "config": {
        "plotlyServerURL": "https://plot.ly"
       },
       "data": [
        {
         "hovertemplate": "Point %{x}<br>Active Features: %{y}<br><extra></extra>",
         "text": [
          "1",
          "1",
          "1",
          "1",
          "1",
          "2",
          "3",
          "3",
          "2",
          "2",
          "2",
          "2",
          "2",
          "2",
          "2",
          "2",
          "1"
         ],
         "textposition": "auto",
         "type": "bar",
         "x": [
          0,
          1,
          2,
          3,
          4,
          5,
          6,
          7,
          8,
          9,
          10,
          11,
          12,
          13,
          14,
          15,
          16
         ],
         "y": [
          1,
          1,
          1,
          1,
          1,
          2,
          3,
          3,
          2,
          2,
          2,
          2,
          2,
          2,
          2,
          2,
          1
         ]
        }
       ],
       "layout": {
        "height": 600,
        "showlegend": false,
        "template": {
         "data": {
          "bar": [
           {
            "error_x": {
             "color": "#2a3f5f"
            },
            "error_y": {
             "color": "#2a3f5f"
            },
            "marker": {
             "line": {
              "color": "#E5ECF6",
              "width": 0.5
             },
             "pattern": {
              "fillmode": "overlay",
              "size": 10,
              "solidity": 0.2
             }
            },
            "type": "bar"
           }
          ],
          "barpolar": [
           {
            "marker": {
             "line": {
              "color": "#E5ECF6",
              "width": 0.5
             },
             "pattern": {
              "fillmode": "overlay",
              "size": 10,
              "solidity": 0.2
             }
            },
            "type": "barpolar"
           }
          ],
          "carpet": [
           {
            "aaxis": {
             "endlinecolor": "#2a3f5f",
             "gridcolor": "white",
             "linecolor": "white",
             "minorgridcolor": "white",
             "startlinecolor": "#2a3f5f"
            },
            "baxis": {
             "endlinecolor": "#2a3f5f",
             "gridcolor": "white",
             "linecolor": "white",
             "minorgridcolor": "white",
             "startlinecolor": "#2a3f5f"
            },
            "type": "carpet"
           }
          ],
          "choropleth": [
           {
            "colorbar": {
             "outlinewidth": 0,
             "ticks": ""
            },
            "type": "choropleth"
           }
          ],
          "contour": [
           {
            "colorbar": {
             "outlinewidth": 0,
             "ticks": ""
            },
            "colorscale": [
             [
              0,
              "#0d0887"
             ],
             [
              0.1111111111111111,
              "#46039f"
             ],
             [
              0.2222222222222222,
              "#7201a8"
             ],
             [
              0.3333333333333333,
              "#9c179e"
             ],
             [
              0.4444444444444444,
              "#bd3786"
             ],
             [
              0.5555555555555556,
              "#d8576b"
             ],
             [
              0.6666666666666666,
              "#ed7953"
             ],
             [
              0.7777777777777778,
              "#fb9f3a"
             ],
             [
              0.8888888888888888,
              "#fdca26"
             ],
             [
              1,
              "#f0f921"
             ]
            ],
            "type": "contour"
           }
          ],
          "contourcarpet": [
           {
            "colorbar": {
             "outlinewidth": 0,
             "ticks": ""
            },
            "type": "contourcarpet"
           }
          ],
          "heatmap": [
           {
            "colorbar": {
             "outlinewidth": 0,
             "ticks": ""
            },
            "colorscale": [
             [
              0,
              "#0d0887"
             ],
             [
              0.1111111111111111,
              "#46039f"
             ],
             [
              0.2222222222222222,
              "#7201a8"
             ],
             [
              0.3333333333333333,
              "#9c179e"
             ],
             [
              0.4444444444444444,
              "#bd3786"
             ],
             [
              0.5555555555555556,
              "#d8576b"
             ],
             [
              0.6666666666666666,
              "#ed7953"
             ],
             [
              0.7777777777777778,
              "#fb9f3a"
             ],
             [
              0.8888888888888888,
              "#fdca26"
             ],
             [
              1,
              "#f0f921"
             ]
            ],
            "type": "heatmap"
           }
          ],
          "heatmapgl": [
           {
            "colorbar": {
             "outlinewidth": 0,
             "ticks": ""
            },
            "colorscale": [
             [
              0,
              "#0d0887"
             ],
             [
              0.1111111111111111,
              "#46039f"
             ],
             [
              0.2222222222222222,
              "#7201a8"
             ],
             [
              0.3333333333333333,
              "#9c179e"
             ],
             [
              0.4444444444444444,
              "#bd3786"
             ],
             [
              0.5555555555555556,
              "#d8576b"
             ],
             [
              0.6666666666666666,
              "#ed7953"
             ],
             [
              0.7777777777777778,
              "#fb9f3a"
             ],
             [
              0.8888888888888888,
              "#fdca26"
             ],
             [
              1,
              "#f0f921"
             ]
            ],
            "type": "heatmapgl"
           }
          ],
          "histogram": [
           {
            "marker": {
             "pattern": {
              "fillmode": "overlay",
              "size": 10,
              "solidity": 0.2
             }
            },
            "type": "histogram"
           }
          ],
          "histogram2d": [
           {
            "colorbar": {
             "outlinewidth": 0,
             "ticks": ""
            },
            "colorscale": [
             [
              0,
              "#0d0887"
             ],
             [
              0.1111111111111111,
              "#46039f"
             ],
             [
              0.2222222222222222,
              "#7201a8"
             ],
             [
              0.3333333333333333,
              "#9c179e"
             ],
             [
              0.4444444444444444,
              "#bd3786"
             ],
             [
              0.5555555555555556,
              "#d8576b"
             ],
             [
              0.6666666666666666,
              "#ed7953"
             ],
             [
              0.7777777777777778,
              "#fb9f3a"
             ],
             [
              0.8888888888888888,
              "#fdca26"
             ],
             [
              1,
              "#f0f921"
             ]
            ],
            "type": "histogram2d"
           }
          ],
          "histogram2dcontour": [
           {
            "colorbar": {
             "outlinewidth": 0,
             "ticks": ""
            },
            "colorscale": [
             [
              0,
              "#0d0887"
             ],
             [
              0.1111111111111111,
              "#46039f"
             ],
             [
              0.2222222222222222,
              "#7201a8"
             ],
             [
              0.3333333333333333,
              "#9c179e"
             ],
             [
              0.4444444444444444,
              "#bd3786"
             ],
             [
              0.5555555555555556,
              "#d8576b"
             ],
             [
              0.6666666666666666,
              "#ed7953"
             ],
             [
              0.7777777777777778,
              "#fb9f3a"
             ],
             [
              0.8888888888888888,
              "#fdca26"
             ],
             [
              1,
              "#f0f921"
             ]
            ],
            "type": "histogram2dcontour"
           }
          ],
          "mesh3d": [
           {
            "colorbar": {
             "outlinewidth": 0,
             "ticks": ""
            },
            "type": "mesh3d"
           }
          ],
          "parcoords": [
           {
            "line": {
             "colorbar": {
              "outlinewidth": 0,
              "ticks": ""
             }
            },
            "type": "parcoords"
           }
          ],
          "pie": [
           {
            "automargin": true,
            "type": "pie"
           }
          ],
          "scatter": [
           {
            "fillpattern": {
             "fillmode": "overlay",
             "size": 10,
             "solidity": 0.2
            },
            "type": "scatter"
           }
          ],
          "scatter3d": [
           {
            "line": {
             "colorbar": {
              "outlinewidth": 0,
              "ticks": ""
             }
            },
            "marker": {
             "colorbar": {
              "outlinewidth": 0,
              "ticks": ""
             }
            },
            "type": "scatter3d"
           }
          ],
          "scattercarpet": [
           {
            "marker": {
             "colorbar": {
              "outlinewidth": 0,
              "ticks": ""
             }
            },
            "type": "scattercarpet"
           }
          ],
          "scattergeo": [
           {
            "marker": {
             "colorbar": {
              "outlinewidth": 0,
              "ticks": ""
             }
            },
            "type": "scattergeo"
           }
          ],
          "scattergl": [
           {
            "marker": {
             "colorbar": {
              "outlinewidth": 0,
              "ticks": ""
             }
            },
            "type": "scattergl"
           }
          ],
          "scattermapbox": [
           {
            "marker": {
             "colorbar": {
              "outlinewidth": 0,
              "ticks": ""
             }
            },
            "type": "scattermapbox"
           }
          ],
          "scatterpolar": [
           {
            "marker": {
             "colorbar": {
              "outlinewidth": 0,
              "ticks": ""
             }
            },
            "type": "scatterpolar"
           }
          ],
          "scatterpolargl": [
           {
            "marker": {
             "colorbar": {
              "outlinewidth": 0,
              "ticks": ""
             }
            },
            "type": "scatterpolargl"
           }
          ],
          "scatterternary": [
           {
            "marker": {
             "colorbar": {
              "outlinewidth": 0,
              "ticks": ""
             }
            },
            "type": "scatterternary"
           }
          ],
          "surface": [
           {
            "colorbar": {
             "outlinewidth": 0,
             "ticks": ""
            },
            "colorscale": [
             [
              0,
              "#0d0887"
             ],
             [
              0.1111111111111111,
              "#46039f"
             ],
             [
              0.2222222222222222,
              "#7201a8"
             ],
             [
              0.3333333333333333,
              "#9c179e"
             ],
             [
              0.4444444444444444,
              "#bd3786"
             ],
             [
              0.5555555555555556,
              "#d8576b"
             ],
             [
              0.6666666666666666,
              "#ed7953"
             ],
             [
              0.7777777777777778,
              "#fb9f3a"
             ],
             [
              0.8888888888888888,
              "#fdca26"
             ],
             [
              1,
              "#f0f921"
             ]
            ],
            "type": "surface"
           }
          ],
          "table": [
           {
            "cells": {
             "fill": {
              "color": "#EBF0F8"
             },
             "line": {
              "color": "white"
             }
            },
            "header": {
             "fill": {
              "color": "#C8D4E3"
             },
             "line": {
              "color": "white"
             }
            },
            "type": "table"
           }
          ]
         },
         "layout": {
          "annotationdefaults": {
           "arrowcolor": "#2a3f5f",
           "arrowhead": 0,
           "arrowwidth": 1
          },
          "autotypenumbers": "strict",
          "coloraxis": {
           "colorbar": {
            "outlinewidth": 0,
            "ticks": ""
           }
          },
          "colorscale": {
           "diverging": [
            [
             0,
             "#8e0152"
            ],
            [
             0.1,
             "#c51b7d"
            ],
            [
             0.2,
             "#de77ae"
            ],
            [
             0.3,
             "#f1b6da"
            ],
            [
             0.4,
             "#fde0ef"
            ],
            [
             0.5,
             "#f7f7f7"
            ],
            [
             0.6,
             "#e6f5d0"
            ],
            [
             0.7,
             "#b8e186"
            ],
            [
             0.8,
             "#7fbc41"
            ],
            [
             0.9,
             "#4d9221"
            ],
            [
             1,
             "#276419"
            ]
           ],
           "sequential": [
            [
             0,
             "#0d0887"
            ],
            [
             0.1111111111111111,
             "#46039f"
            ],
            [
             0.2222222222222222,
             "#7201a8"
            ],
            [
             0.3333333333333333,
             "#9c179e"
            ],
            [
             0.4444444444444444,
             "#bd3786"
            ],
            [
             0.5555555555555556,
             "#d8576b"
            ],
            [
             0.6666666666666666,
             "#ed7953"
            ],
            [
             0.7777777777777778,
             "#fb9f3a"
            ],
            [
             0.8888888888888888,
             "#fdca26"
            ],
            [
             1,
             "#f0f921"
            ]
           ],
           "sequentialminus": [
            [
             0,
             "#0d0887"
            ],
            [
             0.1111111111111111,
             "#46039f"
            ],
            [
             0.2222222222222222,
             "#7201a8"
            ],
            [
             0.3333333333333333,
             "#9c179e"
            ],
            [
             0.4444444444444444,
             "#bd3786"
            ],
            [
             0.5555555555555556,
             "#d8576b"
            ],
            [
             0.6666666666666666,
             "#ed7953"
            ],
            [
             0.7777777777777778,
             "#fb9f3a"
            ],
            [
             0.8888888888888888,
             "#fdca26"
            ],
            [
             1,
             "#f0f921"
            ]
           ]
          },
          "colorway": [
           "#636efa",
           "#EF553B",
           "#00cc96",
           "#ab63fa",
           "#FFA15A",
           "#19d3f3",
           "#FF6692",
           "#B6E880",
           "#FF97FF",
           "#FECB52"
          ],
          "font": {
           "color": "#2a3f5f"
          },
          "geo": {
           "bgcolor": "white",
           "lakecolor": "white",
           "landcolor": "#E5ECF6",
           "showlakes": true,
           "showland": true,
           "subunitcolor": "white"
          },
          "hoverlabel": {
           "align": "left"
          },
          "hovermode": "closest",
          "mapbox": {
           "style": "light"
          },
          "paper_bgcolor": "white",
          "plot_bgcolor": "#E5ECF6",
          "polar": {
           "angularaxis": {
            "gridcolor": "white",
            "linecolor": "white",
            "ticks": ""
           },
           "bgcolor": "#E5ECF6",
           "radialaxis": {
            "gridcolor": "white",
            "linecolor": "white",
            "ticks": ""
           }
          },
          "scene": {
           "xaxis": {
            "backgroundcolor": "#E5ECF6",
            "gridcolor": "white",
            "gridwidth": 2,
            "linecolor": "white",
            "showbackground": true,
            "ticks": "",
            "zerolinecolor": "white"
           },
           "yaxis": {
            "backgroundcolor": "#E5ECF6",
            "gridcolor": "white",
            "gridwidth": 2,
            "linecolor": "white",
            "showbackground": true,
            "ticks": "",
            "zerolinecolor": "white"
           },
           "zaxis": {
            "backgroundcolor": "#E5ECF6",
            "gridcolor": "white",
            "gridwidth": 2,
            "linecolor": "white",
            "showbackground": true,
            "ticks": "",
            "zerolinecolor": "white"
           }
          },
          "shapedefaults": {
           "line": {
            "color": "#2a3f5f"
           }
          },
          "ternary": {
           "aaxis": {
            "gridcolor": "white",
            "linecolor": "white",
            "ticks": ""
           },
           "baxis": {
            "gridcolor": "white",
            "linecolor": "white",
            "ticks": ""
           },
           "bgcolor": "#E5ECF6",
           "caxis": {
            "gridcolor": "white",
            "linecolor": "white",
            "ticks": ""
           }
          },
          "title": {
           "x": 0.05
          },
          "xaxis": {
           "automargin": true,
           "gridcolor": "white",
           "linecolor": "white",
           "ticks": "",
           "title": {
            "standoff": 15
           },
           "zerolinecolor": "white",
           "zerolinewidth": 2
          },
          "yaxis": {
           "automargin": true,
           "gridcolor": "white",
           "linecolor": "white",
           "ticks": "",
           "title": {
            "standoff": 15
           },
           "zerolinecolor": "white",
           "zerolinewidth": 2
          }
         }
        },
        "title": {
         "text": "Number of Features Active Above 10 Threshold"
        },
        "width": 800,
        "xaxis": {
         "tickmode": "array",
         "ticktext": [
          "..ng Fisher’|s| cond...",
          "..or a girl’|s| trip...",
          "..as Steele'|s| Land...",
          "..the owner’|s| manu...",
          "..The Queen’|s| Alco...",
          ".. to Lenny'|s| esta...",
          "..h Mencken’|s| work...",
          "..h Franson’|s| expe...",
          "..ore a man'|s| horm...",
          "..to Hassan’|s| atte...",
          "..defendant'|s| gain...",
          "..r. Pepper'|s| auth...",
          "..out Brown'|s| comm...",
          "..plaintiffs|'| clai...",
          "..plaintiffs|'| burd...",
          "..he sellers|'| fail...",
          "..rticipants|\\'| resp..."
         ],
         "tickvals": [
          0,
          1,
          2,
          3,
          4,
          5,
          6,
          7,
          8,
          9,
          10,
          11,
          12,
          13,
          14,
          15,
          16
         ],
         "title": {
          "text": "Point Index"
         }
        },
        "yaxis": {
         "title": {
          "text": "Number of Active Features"
         }
        }
       }
      }
     },
     "metadata": {},
     "output_type": "display_data"
    }
   ],
   "source": [
    "plot_feature_activation_counts(\n",
    "    results,\n",
    "    fs_splitting_nodes,\n",
    "    interesting_point_ids_name_to_generic_person,\n",
    "    pca_df,\n",
    "    save_figs=True,\n",
    "    pca_path=pca_path,\n",
    "    activation_threshold=10,\n",
    ")"
   ]
  },
  {
   "cell_type": "code",
   "execution_count": 120,
   "metadata": {},
   "outputs": [
    {
     "data": {
      "application/vnd.plotly.v1+json": {
       "config": {
        "plotlyServerURL": "https://plot.ly"
       },
       "data": [
        {
         "hovertemplate": "Point %{x}<br>Active Features: %{y}<br><extra></extra>",
         "text": [
          "1",
          "1",
          "2",
          "2",
          "3",
          "3",
          "2",
          "2",
          "2",
          "4",
          "2"
         ],
         "textposition": "auto",
         "type": "bar",
         "x": [
          0,
          1,
          2,
          3,
          4,
          5,
          6,
          7,
          8,
          9,
          10
         ],
         "y": [
          1,
          1,
          2,
          2,
          3,
          3,
          2,
          2,
          2,
          4,
          2
         ]
        }
       ],
       "layout": {
        "height": 600,
        "showlegend": false,
        "template": {
         "data": {
          "bar": [
           {
            "error_x": {
             "color": "#2a3f5f"
            },
            "error_y": {
             "color": "#2a3f5f"
            },
            "marker": {
             "line": {
              "color": "#E5ECF6",
              "width": 0.5
             },
             "pattern": {
              "fillmode": "overlay",
              "size": 10,
              "solidity": 0.2
             }
            },
            "type": "bar"
           }
          ],
          "barpolar": [
           {
            "marker": {
             "line": {
              "color": "#E5ECF6",
              "width": 0.5
             },
             "pattern": {
              "fillmode": "overlay",
              "size": 10,
              "solidity": 0.2
             }
            },
            "type": "barpolar"
           }
          ],
          "carpet": [
           {
            "aaxis": {
             "endlinecolor": "#2a3f5f",
             "gridcolor": "white",
             "linecolor": "white",
             "minorgridcolor": "white",
             "startlinecolor": "#2a3f5f"
            },
            "baxis": {
             "endlinecolor": "#2a3f5f",
             "gridcolor": "white",
             "linecolor": "white",
             "minorgridcolor": "white",
             "startlinecolor": "#2a3f5f"
            },
            "type": "carpet"
           }
          ],
          "choropleth": [
           {
            "colorbar": {
             "outlinewidth": 0,
             "ticks": ""
            },
            "type": "choropleth"
           }
          ],
          "contour": [
           {
            "colorbar": {
             "outlinewidth": 0,
             "ticks": ""
            },
            "colorscale": [
             [
              0,
              "#0d0887"
             ],
             [
              0.1111111111111111,
              "#46039f"
             ],
             [
              0.2222222222222222,
              "#7201a8"
             ],
             [
              0.3333333333333333,
              "#9c179e"
             ],
             [
              0.4444444444444444,
              "#bd3786"
             ],
             [
              0.5555555555555556,
              "#d8576b"
             ],
             [
              0.6666666666666666,
              "#ed7953"
             ],
             [
              0.7777777777777778,
              "#fb9f3a"
             ],
             [
              0.8888888888888888,
              "#fdca26"
             ],
             [
              1,
              "#f0f921"
             ]
            ],
            "type": "contour"
           }
          ],
          "contourcarpet": [
           {
            "colorbar": {
             "outlinewidth": 0,
             "ticks": ""
            },
            "type": "contourcarpet"
           }
          ],
          "heatmap": [
           {
            "colorbar": {
             "outlinewidth": 0,
             "ticks": ""
            },
            "colorscale": [
             [
              0,
              "#0d0887"
             ],
             [
              0.1111111111111111,
              "#46039f"
             ],
             [
              0.2222222222222222,
              "#7201a8"
             ],
             [
              0.3333333333333333,
              "#9c179e"
             ],
             [
              0.4444444444444444,
              "#bd3786"
             ],
             [
              0.5555555555555556,
              "#d8576b"
             ],
             [
              0.6666666666666666,
              "#ed7953"
             ],
             [
              0.7777777777777778,
              "#fb9f3a"
             ],
             [
              0.8888888888888888,
              "#fdca26"
             ],
             [
              1,
              "#f0f921"
             ]
            ],
            "type": "heatmap"
           }
          ],
          "heatmapgl": [
           {
            "colorbar": {
             "outlinewidth": 0,
             "ticks": ""
            },
            "colorscale": [
             [
              0,
              "#0d0887"
             ],
             [
              0.1111111111111111,
              "#46039f"
             ],
             [
              0.2222222222222222,
              "#7201a8"
             ],
             [
              0.3333333333333333,
              "#9c179e"
             ],
             [
              0.4444444444444444,
              "#bd3786"
             ],
             [
              0.5555555555555556,
              "#d8576b"
             ],
             [
              0.6666666666666666,
              "#ed7953"
             ],
             [
              0.7777777777777778,
              "#fb9f3a"
             ],
             [
              0.8888888888888888,
              "#fdca26"
             ],
             [
              1,
              "#f0f921"
             ]
            ],
            "type": "heatmapgl"
           }
          ],
          "histogram": [
           {
            "marker": {
             "pattern": {
              "fillmode": "overlay",
              "size": 10,
              "solidity": 0.2
             }
            },
            "type": "histogram"
           }
          ],
          "histogram2d": [
           {
            "colorbar": {
             "outlinewidth": 0,
             "ticks": ""
            },
            "colorscale": [
             [
              0,
              "#0d0887"
             ],
             [
              0.1111111111111111,
              "#46039f"
             ],
             [
              0.2222222222222222,
              "#7201a8"
             ],
             [
              0.3333333333333333,
              "#9c179e"
             ],
             [
              0.4444444444444444,
              "#bd3786"
             ],
             [
              0.5555555555555556,
              "#d8576b"
             ],
             [
              0.6666666666666666,
              "#ed7953"
             ],
             [
              0.7777777777777778,
              "#fb9f3a"
             ],
             [
              0.8888888888888888,
              "#fdca26"
             ],
             [
              1,
              "#f0f921"
             ]
            ],
            "type": "histogram2d"
           }
          ],
          "histogram2dcontour": [
           {
            "colorbar": {
             "outlinewidth": 0,
             "ticks": ""
            },
            "colorscale": [
             [
              0,
              "#0d0887"
             ],
             [
              0.1111111111111111,
              "#46039f"
             ],
             [
              0.2222222222222222,
              "#7201a8"
             ],
             [
              0.3333333333333333,
              "#9c179e"
             ],
             [
              0.4444444444444444,
              "#bd3786"
             ],
             [
              0.5555555555555556,
              "#d8576b"
             ],
             [
              0.6666666666666666,
              "#ed7953"
             ],
             [
              0.7777777777777778,
              "#fb9f3a"
             ],
             [
              0.8888888888888888,
              "#fdca26"
             ],
             [
              1,
              "#f0f921"
             ]
            ],
            "type": "histogram2dcontour"
           }
          ],
          "mesh3d": [
           {
            "colorbar": {
             "outlinewidth": 0,
             "ticks": ""
            },
            "type": "mesh3d"
           }
          ],
          "parcoords": [
           {
            "line": {
             "colorbar": {
              "outlinewidth": 0,
              "ticks": ""
             }
            },
            "type": "parcoords"
           }
          ],
          "pie": [
           {
            "automargin": true,
            "type": "pie"
           }
          ],
          "scatter": [
           {
            "fillpattern": {
             "fillmode": "overlay",
             "size": 10,
             "solidity": 0.2
            },
            "type": "scatter"
           }
          ],
          "scatter3d": [
           {
            "line": {
             "colorbar": {
              "outlinewidth": 0,
              "ticks": ""
             }
            },
            "marker": {
             "colorbar": {
              "outlinewidth": 0,
              "ticks": ""
             }
            },
            "type": "scatter3d"
           }
          ],
          "scattercarpet": [
           {
            "marker": {
             "colorbar": {
              "outlinewidth": 0,
              "ticks": ""
             }
            },
            "type": "scattercarpet"
           }
          ],
          "scattergeo": [
           {
            "marker": {
             "colorbar": {
              "outlinewidth": 0,
              "ticks": ""
             }
            },
            "type": "scattergeo"
           }
          ],
          "scattergl": [
           {
            "marker": {
             "colorbar": {
              "outlinewidth": 0,
              "ticks": ""
             }
            },
            "type": "scattergl"
           }
          ],
          "scattermapbox": [
           {
            "marker": {
             "colorbar": {
              "outlinewidth": 0,
              "ticks": ""
             }
            },
            "type": "scattermapbox"
           }
          ],
          "scatterpolar": [
           {
            "marker": {
             "colorbar": {
              "outlinewidth": 0,
              "ticks": ""
             }
            },
            "type": "scatterpolar"
           }
          ],
          "scatterpolargl": [
           {
            "marker": {
             "colorbar": {
              "outlinewidth": 0,
              "ticks": ""
             }
            },
            "type": "scatterpolargl"
           }
          ],
          "scatterternary": [
           {
            "marker": {
             "colorbar": {
              "outlinewidth": 0,
              "ticks": ""
             }
            },
            "type": "scatterternary"
           }
          ],
          "surface": [
           {
            "colorbar": {
             "outlinewidth": 0,
             "ticks": ""
            },
            "colorscale": [
             [
              0,
              "#0d0887"
             ],
             [
              0.1111111111111111,
              "#46039f"
             ],
             [
              0.2222222222222222,
              "#7201a8"
             ],
             [
              0.3333333333333333,
              "#9c179e"
             ],
             [
              0.4444444444444444,
              "#bd3786"
             ],
             [
              0.5555555555555556,
              "#d8576b"
             ],
             [
              0.6666666666666666,
              "#ed7953"
             ],
             [
              0.7777777777777778,
              "#fb9f3a"
             ],
             [
              0.8888888888888888,
              "#fdca26"
             ],
             [
              1,
              "#f0f921"
             ]
            ],
            "type": "surface"
           }
          ],
          "table": [
           {
            "cells": {
             "fill": {
              "color": "#EBF0F8"
             },
             "line": {
              "color": "white"
             }
            },
            "header": {
             "fill": {
              "color": "#C8D4E3"
             },
             "line": {
              "color": "white"
             }
            },
            "type": "table"
           }
          ]
         },
         "layout": {
          "annotationdefaults": {
           "arrowcolor": "#2a3f5f",
           "arrowhead": 0,
           "arrowwidth": 1
          },
          "autotypenumbers": "strict",
          "coloraxis": {
           "colorbar": {
            "outlinewidth": 0,
            "ticks": ""
           }
          },
          "colorscale": {
           "diverging": [
            [
             0,
             "#8e0152"
            ],
            [
             0.1,
             "#c51b7d"
            ],
            [
             0.2,
             "#de77ae"
            ],
            [
             0.3,
             "#f1b6da"
            ],
            [
             0.4,
             "#fde0ef"
            ],
            [
             0.5,
             "#f7f7f7"
            ],
            [
             0.6,
             "#e6f5d0"
            ],
            [
             0.7,
             "#b8e186"
            ],
            [
             0.8,
             "#7fbc41"
            ],
            [
             0.9,
             "#4d9221"
            ],
            [
             1,
             "#276419"
            ]
           ],
           "sequential": [
            [
             0,
             "#0d0887"
            ],
            [
             0.1111111111111111,
             "#46039f"
            ],
            [
             0.2222222222222222,
             "#7201a8"
            ],
            [
             0.3333333333333333,
             "#9c179e"
            ],
            [
             0.4444444444444444,
             "#bd3786"
            ],
            [
             0.5555555555555556,
             "#d8576b"
            ],
            [
             0.6666666666666666,
             "#ed7953"
            ],
            [
             0.7777777777777778,
             "#fb9f3a"
            ],
            [
             0.8888888888888888,
             "#fdca26"
            ],
            [
             1,
             "#f0f921"
            ]
           ],
           "sequentialminus": [
            [
             0,
             "#0d0887"
            ],
            [
             0.1111111111111111,
             "#46039f"
            ],
            [
             0.2222222222222222,
             "#7201a8"
            ],
            [
             0.3333333333333333,
             "#9c179e"
            ],
            [
             0.4444444444444444,
             "#bd3786"
            ],
            [
             0.5555555555555556,
             "#d8576b"
            ],
            [
             0.6666666666666666,
             "#ed7953"
            ],
            [
             0.7777777777777778,
             "#fb9f3a"
            ],
            [
             0.8888888888888888,
             "#fdca26"
            ],
            [
             1,
             "#f0f921"
            ]
           ]
          },
          "colorway": [
           "#636efa",
           "#EF553B",
           "#00cc96",
           "#ab63fa",
           "#FFA15A",
           "#19d3f3",
           "#FF6692",
           "#B6E880",
           "#FF97FF",
           "#FECB52"
          ],
          "font": {
           "color": "#2a3f5f"
          },
          "geo": {
           "bgcolor": "white",
           "lakecolor": "white",
           "landcolor": "#E5ECF6",
           "showlakes": true,
           "showland": true,
           "subunitcolor": "white"
          },
          "hoverlabel": {
           "align": "left"
          },
          "hovermode": "closest",
          "mapbox": {
           "style": "light"
          },
          "paper_bgcolor": "white",
          "plot_bgcolor": "#E5ECF6",
          "polar": {
           "angularaxis": {
            "gridcolor": "white",
            "linecolor": "white",
            "ticks": ""
           },
           "bgcolor": "#E5ECF6",
           "radialaxis": {
            "gridcolor": "white",
            "linecolor": "white",
            "ticks": ""
           }
          },
          "scene": {
           "xaxis": {
            "backgroundcolor": "#E5ECF6",
            "gridcolor": "white",
            "gridwidth": 2,
            "linecolor": "white",
            "showbackground": true,
            "ticks": "",
            "zerolinecolor": "white"
           },
           "yaxis": {
            "backgroundcolor": "#E5ECF6",
            "gridcolor": "white",
            "gridwidth": 2,
            "linecolor": "white",
            "showbackground": true,
            "ticks": "",
            "zerolinecolor": "white"
           },
           "zaxis": {
            "backgroundcolor": "#E5ECF6",
            "gridcolor": "white",
            "gridwidth": 2,
            "linecolor": "white",
            "showbackground": true,
            "ticks": "",
            "zerolinecolor": "white"
           }
          },
          "shapedefaults": {
           "line": {
            "color": "#2a3f5f"
           }
          },
          "ternary": {
           "aaxis": {
            "gridcolor": "white",
            "linecolor": "white",
            "ticks": ""
           },
           "baxis": {
            "gridcolor": "white",
            "linecolor": "white",
            "ticks": ""
           },
           "bgcolor": "#E5ECF6",
           "caxis": {
            "gridcolor": "white",
            "linecolor": "white",
            "ticks": ""
           }
          },
          "title": {
           "x": 0.05
          },
          "xaxis": {
           "automargin": true,
           "gridcolor": "white",
           "linecolor": "white",
           "ticks": "",
           "title": {
            "standoff": 15
           },
           "zerolinecolor": "white",
           "zerolinewidth": 2
          },
          "yaxis": {
           "automargin": true,
           "gridcolor": "white",
           "linecolor": "white",
           "ticks": "",
           "title": {
            "standoff": 15
           },
           "zerolinecolor": "white",
           "zerolinewidth": 2
          }
         }
        },
        "title": {
         "text": "Number of Features Active Above 10 Threshold"
        },
        "width": 800,
        "xaxis": {
         "tickmode": "array",
         "ticktext": [
          "..ng Fisher’|s| cond...",
          "..ertolotti'|s| synd...",
          "..fin-Maker’|s| Daug...",
          "..of Durian’|s| bubb...",
          "..o charity’|s| and ...",
          "..d’s ocean’|s| sali...",
          "..the\nphone'|s| spea...",
          ".. receiver'|s| inte...",
          "..he result'|s| sign...",
          "..e lattice’|s| thre...",
          "..e *y*-axes|'| rang..."
         ],
         "tickvals": [
          0,
          1,
          2,
          3,
          4,
          5,
          6,
          7,
          8,
          9,
          10
         ],
         "title": {
          "text": "Point Index"
         }
        },
        "yaxis": {
         "title": {
          "text": "Number of Active Features"
         }
        }
       }
      }
     },
     "metadata": {},
     "output_type": "display_data"
    }
   ],
   "source": [
    "plot_feature_activation_counts(\n",
    "    results,\n",
    "    fs_splitting_nodes,\n",
    "    interesting_point_ids_name_to_thing,\n",
    "    pca_df,\n",
    "    save_figs=True,\n",
    "    pca_path=pca_path,\n",
    "    activation_threshold=10,\n",
    ")"
   ]
  }
 ],
 "metadata": {
  "kernelspec": {
   "display_name": ".venv",
   "language": "python",
   "name": "python3"
  },
  "language_info": {
   "codemirror_mode": {
    "name": "ipython",
    "version": 3
   },
   "file_extension": ".py",
   "mimetype": "text/x-python",
   "name": "python",
   "nbconvert_exporter": "python",
   "pygments_lexer": "ipython3",
   "version": "3.11.4"
  }
 },
 "nbformat": 4,
 "nbformat_minor": 2
}
