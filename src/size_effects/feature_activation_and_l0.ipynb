{
 "cells": [
  {
   "cell_type": "code",
   "execution_count": 9,
   "metadata": {},
   "outputs": [],
   "source": [
    "import os\n",
    "from os.path import join as pj\n",
    "\n",
    "import pandas as pd\n",
    "\n",
    "from sae_cooccurrence.normalised_cooc_functions import neat_sae_id\n",
    "from sae_cooccurrence.utils.saving_loading import set_device\n",
    "from sae_cooccurrence.utils.set_paths import get_git_root"
   ]
  },
  {
   "cell_type": "code",
   "execution_count": 11,
   "metadata": {},
   "outputs": [
    {
     "name": "stdout",
     "output_type": "stream",
     "text": [
      "Using MPS\n"
     ]
    }
   ],
   "source": [
    "# Setup\n",
    "device = set_device()\n",
    "git_root = get_git_root()\n",
    "\n",
    "# Configuration\n",
    "gpt_model_name = \"gpt2-small\"\n",
    "gpt_sae_release_short = \"res-jb-feature-splitting\"\n",
    "gpt_sae_ids = [\n",
    "    \"blocks.8.hook_resid_pre_768\",\n",
    "    \"blocks.8.hook_resid_pre_1536\",\n",
    "    \"blocks.8.hook_resid_pre_3072\",\n",
    "    \"blocks.8.hook_resid_pre_6144\",\n",
    "    \"blocks.8.hook_resid_pre_12288\",\n",
    "    \"blocks.8.hook_resid_pre_24576\",\n",
    "]\n",
    "\n",
    "gemma_width_model_name = \"gemma-2-2b\"\n",
    "gemma_width_sae_release_short = \"gemma-scope-2b-pt-res-canonical\"\n",
    "gemma_width_sae_ids = [\n",
    "    \"layer_12/width_16k/canonical\",\n",
    "    \"layer_12/width_32k/canonical\",\n",
    "    \"layer_12/width_65k/canonical\",\n",
    "    \"layer_12/width_262k/canonical\",\n",
    "    \"layer_12/width_524k/canonical\",\n",
    "    \"layer_12/width_1m/canonical\",\n",
    "]\n",
    "\n",
    "gemma_l0_model_name = \"gemma-2-2b\"\n",
    "gemma_l0_sae_release_short = \"gemma-scope-2b-pt-res\"\n",
    "gemma_l0_sae_ids = [\n",
    "    \"layer_12/width_16k/average_l0_176\",\n",
    "    \"layer_12/width_16k/average_l0_22\",\n",
    "    \"layer_12/width_16k/average_l0_41\",\n",
    "    \"layer_12/width_16k/average_l0_445\",\n",
    "    \"layer_12/width_16k/average_l0_82\",\n",
    "]\n",
    "\n",
    "n_batches = 10\n",
    "activation_threshold = 1.5  # You can adjust this threshold\n",
    "activation_threshold_safe = str(activation_threshold).replace(\".\", \"_\")"
   ]
  },
  {
   "cell_type": "code",
   "execution_count": 13,
   "metadata": {},
   "outputs": [
    {
     "name": "stdout",
     "output_type": "stream",
     "text": [
      "Warning: File not found - /Users/matthew/Documents/Github/sae_cooccurrence/results/gemma-2-2b/gemma-scope-2b-pt-res-canonical/layer_12_width_262k_canonical/dataframes/node_info_df_1_5.csv\n",
      "Warning: File not found - /Users/matthew/Documents/Github/sae_cooccurrence/results/gemma-2-2b/gemma-scope-2b-pt-res-canonical/layer_12_width_524k_canonical/dataframes/node_info_df_1_5.csv\n",
      "Warning: File not found - /Users/matthew/Documents/Github/sae_cooccurrence/results/gemma-2-2b/gemma-scope-2b-pt-res-canonical/layer_12_width_1m_canonical/dataframes/node_info_df_1_5.csv\n",
      "Loaded 6 node_info_dfs for GPT-2\n",
      "Loaded 3 node_info_dfs for Gemma (width comparison)\n",
      "Loaded 5 node_info_dfs for Gemma (L0 comparison)\n"
     ]
    }
   ],
   "source": [
    "def load_node_info_df(model_name, sae_release_short, sae_id, activation_threshold_safe):\n",
    "    base_path = pj(get_git_root(), \"results\", model_name, sae_release_short)\n",
    "    sae_id_neat = neat_sae_id(sae_id)\n",
    "    file_path = pj(\n",
    "        base_path,\n",
    "        sae_id_neat,\n",
    "        \"dataframes\",\n",
    "        f\"node_info_df_{activation_threshold_safe}.csv\",\n",
    "    )\n",
    "    if os.path.exists(file_path):\n",
    "        df = pd.read_csv(file_path)\n",
    "        return df\n",
    "    else:\n",
    "        print(f\"Warning: File not found - {file_path}\")\n",
    "        return None\n",
    "\n",
    "\n",
    "# Load node_info_df for GPT-2\n",
    "gpt_node_info_dfs = {}\n",
    "for sae_id in gpt_sae_ids:\n",
    "    df = load_node_info_df(\n",
    "        gpt_model_name, gpt_sae_release_short, sae_id, activation_threshold_safe\n",
    "    )\n",
    "    if df is not None:\n",
    "        gpt_node_info_dfs[sae_id] = df\n",
    "\n",
    "# Load node_info_df for Gemma (width comparison)\n",
    "gemma_width_node_info_dfs = {}\n",
    "for sae_id in gemma_width_sae_ids:\n",
    "    df = load_node_info_df(\n",
    "        gemma_width_model_name,\n",
    "        gemma_width_sae_release_short,\n",
    "        sae_id,\n",
    "        activation_threshold_safe,\n",
    "    )\n",
    "    if df is not None:\n",
    "        gemma_width_node_info_dfs[sae_id] = df\n",
    "\n",
    "# Load node_info_df for Gemma (L0 comparison)\n",
    "gemma_l0_node_info_dfs = {}\n",
    "for sae_id in gemma_l0_sae_ids:\n",
    "    df = load_node_info_df(\n",
    "        gemma_l0_model_name,\n",
    "        gemma_l0_sae_release_short,\n",
    "        sae_id,\n",
    "        activation_threshold_safe,\n",
    "    )\n",
    "    if df is not None:\n",
    "        gemma_l0_node_info_dfs[sae_id] = df\n",
    "\n",
    "# Print summary of loaded dataframes\n",
    "print(f\"Loaded {len(gpt_node_info_dfs)} node_info_dfs for GPT-2\")\n",
    "print(\n",
    "    f\"Loaded {len(gemma_width_node_info_dfs)} node_info_dfs for Gemma (width comparison)\"\n",
    ")\n",
    "print(f\"Loaded {len(gemma_l0_node_info_dfs)} node_info_dfs for Gemma (L0 comparison)\")"
   ]
  },
  {
   "cell_type": "code",
   "execution_count": 15,
   "metadata": {},
   "outputs": [],
   "source": [
    "# Create output directories\n",
    "gpt_output_dir = pj(\n",
    "    git_root,\n",
    "    \"results\",\n",
    "    \"size_effects\",\n",
    "    gpt_model_name,\n",
    "    gpt_sae_release_short,\n",
    "    f\"l0_comparison_{activation_threshold_safe}\",\n",
    ")\n",
    "gemma_width_output_dir = pj(\n",
    "    git_root,\n",
    "    \"results\",\n",
    "    \"size_effects\",\n",
    "    gemma_width_model_name,\n",
    "    gemma_width_sae_release_short,\n",
    "    f\"l0_comparison_{activation_threshold_safe}\",\n",
    ")\n",
    "gemma_l0_output_dir = pj(\n",
    "    git_root,\n",
    "    \"results\",\n",
    "    \"size_effects\",\n",
    "    gemma_l0_model_name,\n",
    "    gemma_l0_sae_release_short,\n",
    "    f\"l0_comparison_{activation_threshold_safe}\",\n",
    ")\n",
    "\n",
    "os.makedirs(gpt_output_dir, exist_ok=True)\n",
    "os.makedirs(gemma_width_output_dir, exist_ok=True)\n",
    "os.makedirs(gemma_l0_output_dir, exist_ok=True)"
   ]
  },
  {
   "cell_type": "code",
   "execution_count": 17,
   "metadata": {},
   "outputs": [
    {
     "ename": "TypeError",
     "evalue": "load_node_info_df() missing 1 required positional argument: 'activation_threshold_safe'",
     "output_type": "error",
     "traceback": [
      "\u001b[0;31m---------------------------------------------------------------------------\u001b[0m",
      "\u001b[0;31mTypeError\u001b[0m                                 Traceback (most recent call last)",
      "Cell \u001b[0;32mIn[17], line 8\u001b[0m\n\u001b[1;32m      2\u001b[0m \u001b[38;5;28;01mfor\u001b[39;00m model_name, sae_ids \u001b[38;5;129;01min\u001b[39;00m [\n\u001b[1;32m      3\u001b[0m     (gpt_model_name, gpt_sae_ids),\n\u001b[1;32m      4\u001b[0m     (gemma_width_model_name, gemma_width_sae_ids),\n\u001b[1;32m      5\u001b[0m     (gemma_l0_model_name, gemma_l0_sae_ids),\n\u001b[1;32m      6\u001b[0m ]:\n\u001b[1;32m      7\u001b[0m     \u001b[38;5;28;01mfor\u001b[39;00m sae_id \u001b[38;5;129;01min\u001b[39;00m sae_ids:\n\u001b[0;32m----> 8\u001b[0m         df \u001b[38;5;241m=\u001b[39m \u001b[43mload_node_info_df\u001b[49m\u001b[43m(\u001b[49m\u001b[43mmodel_name\u001b[49m\u001b[43m,\u001b[49m\u001b[43m \u001b[49m\u001b[43msae_id\u001b[49m\u001b[43m,\u001b[49m\u001b[43m \u001b[49m\u001b[43mactivation_threshold_safe\u001b[49m\u001b[43m)\u001b[49m\n",
      "\u001b[0;31mTypeError\u001b[0m: load_node_info_df() missing 1 required positional argument: 'activation_threshold_safe'"
     ]
    }
   ],
   "source": []
  }
 ],
 "metadata": {
  "kernelspec": {
   "display_name": "sae-cooccurence-DZTJ6ajw-py3.11",
   "language": "python",
   "name": "python3"
  },
  "language_info": {
   "codemirror_mode": {
    "name": "ipython",
    "version": 3
   },
   "file_extension": ".py",
   "mimetype": "text/x-python",
   "name": "python",
   "nbconvert_exporter": "python",
   "pygments_lexer": "ipython3",
   "version": "3.11.4"
  }
 },
 "nbformat": 4,
 "nbformat_minor": 2
}
