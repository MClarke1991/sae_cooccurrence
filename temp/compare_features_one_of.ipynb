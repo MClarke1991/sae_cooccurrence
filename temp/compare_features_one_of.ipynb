{
 "cells": [
  {
   "cell_type": "code",
   "execution_count": 1,
   "metadata": {},
   "outputs": [],
   "source": [
    "import os\n",
    "\n",
    "import matplotlib.pyplot as plt\n",
    "import numpy as np\n",
    "import pandas as pd\n",
    "import seaborn as sns\n",
    "from matplotlib.patches import Rectangle  # Add this line\n",
    "\n",
    "from sae_cooccurrence.utils.set_paths import get_git_root"
   ]
  },
  {
   "cell_type": "code",
   "execution_count": 2,
   "metadata": {},
   "outputs": [
    {
     "ename": "FileNotFoundError",
     "evalue": "[Errno 2] No such file or directory: '../results/gemma-2-2b/gemma-scope-2b-pt-res-canonical/layer_0_width_16k_canonical/n_batches_100/feature_acts_cooc_total_threshold_1_5.npz'",
     "output_type": "error",
     "traceback": [
      "\u001b[0;31m---------------------------------------------------------------------------\u001b[0m",
      "\u001b[0;31mFileNotFoundError\u001b[0m                         Traceback (most recent call last)",
      "Cell \u001b[0;32mIn[2], line 10\u001b[0m\n\u001b[1;32m      7\u001b[0m highlight_positions \u001b[38;5;241m=\u001b[39m [indices\u001b[38;5;241m.\u001b[39mindex(idx) \u001b[38;5;28;01mfor\u001b[39;00m idx \u001b[38;5;129;01min\u001b[39;00m highlight_indices]\n\u001b[1;32m      9\u001b[0m \u001b[38;5;66;03m# Load the NPZ file\u001b[39;00m\n\u001b[0;32m---> 10\u001b[0m data \u001b[38;5;241m=\u001b[39m \u001b[43mnp\u001b[49m\u001b[38;5;241;43m.\u001b[39;49m\u001b[43mload\u001b[49m\u001b[43m(\u001b[49m\n\u001b[1;32m     11\u001b[0m \u001b[43m    \u001b[49m\u001b[38;5;124;43m\"\u001b[39;49m\u001b[38;5;124;43m../results/gemma-2-2b/gemma-scope-2b-pt-res-canonical/layer_0_width_16k_canonical/n_batches_100/feature_acts_cooc_total_threshold_1_5.npz\u001b[39;49m\u001b[38;5;124;43m\"\u001b[39;49m\n\u001b[1;32m     12\u001b[0m \u001b[43m)\u001b[49m\n\u001b[1;32m     13\u001b[0m matrix \u001b[38;5;241m=\u001b[39m data[\u001b[38;5;124m\"\u001b[39m\u001b[38;5;124marr_0\u001b[39m\u001b[38;5;124m\"\u001b[39m]\n\u001b[1;32m     15\u001b[0m \u001b[38;5;66;03m# Extract the submatrix\u001b[39;00m\n",
      "File \u001b[0;32m/usr/local/lib/python3.10/dist-packages/numpy/lib/npyio.py:405\u001b[0m, in \u001b[0;36mload\u001b[0;34m(file, mmap_mode, allow_pickle, fix_imports, encoding, max_header_size)\u001b[0m\n\u001b[1;32m    403\u001b[0m     own_fid \u001b[38;5;241m=\u001b[39m \u001b[38;5;28;01mFalse\u001b[39;00m\n\u001b[1;32m    404\u001b[0m \u001b[38;5;28;01melse\u001b[39;00m:\n\u001b[0;32m--> 405\u001b[0m     fid \u001b[38;5;241m=\u001b[39m stack\u001b[38;5;241m.\u001b[39menter_context(\u001b[38;5;28;43mopen\u001b[39;49m\u001b[43m(\u001b[49m\u001b[43mos_fspath\u001b[49m\u001b[43m(\u001b[49m\u001b[43mfile\u001b[49m\u001b[43m)\u001b[49m\u001b[43m,\u001b[49m\u001b[43m \u001b[49m\u001b[38;5;124;43m\"\u001b[39;49m\u001b[38;5;124;43mrb\u001b[39;49m\u001b[38;5;124;43m\"\u001b[39;49m\u001b[43m)\u001b[49m)\n\u001b[1;32m    406\u001b[0m     own_fid \u001b[38;5;241m=\u001b[39m \u001b[38;5;28;01mTrue\u001b[39;00m\n\u001b[1;32m    408\u001b[0m \u001b[38;5;66;03m# Code to distinguish from NumPy binary files and pickles.\u001b[39;00m\n",
      "\u001b[0;31mFileNotFoundError\u001b[0m: [Errno 2] No such file or directory: '../results/gemma-2-2b/gemma-scope-2b-pt-res-canonical/layer_0_width_16k_canonical/n_batches_100/feature_acts_cooc_total_threshold_1_5.npz'"
     ]
    }
   ],
   "source": [
    "# Define the indices of interest\n",
    "# indices = [9869, 8129, 6449, 13989, 1469, 13623, 10032, 7407, 9590, 6854]\n",
    "\n",
    "model_name = \"gemma-2-2b\"\n",
    "sae_release = \"gemma-scope-2b-pt-res-canonical\"\n",
    "sae_id = \"layer_0/width_16k/canonical\"\n",
    "sae_id_safe = sae_id.replace(\"/\", \"_\").replace(\".\", \"_\")\n",
    "layer_idx = 0\n",
    "n_examples = 10000\n",
    "\n",
    "# Define indices to highlight\n",
    "highlight_indices = [1469, 6449, 8129, 13989]\n",
    "\n",
    "top_sae_indices_path = os.path.join(\n",
    "    get_git_root(),\n",
    "    \"results\",\n",
    "    \"linear_probes\",\n",
    "    model_name,\n",
    "    sae_release,\n",
    "    sae_id,\n",
    "    f\"top_sae_indices_n_examples_{n_examples}.txt\",\n",
    ")\n",
    "feature_indices_df = pd.read_csv(\n",
    "    top_sae_indices_path\n",
    ")  # Adjust the path and file type as necessary\n",
    "top_sae_indices = feature_indices_df[\n",
    "    \"feature_index_column\"\n",
    "].tolist()  # Replace 'feature_index_column' with the actual column name\n",
    "\n",
    "\n",
    "# Get positions of highlighted indices in our matrix\n",
    "highlight_positions = [top_sae_indices.index(idx) for idx in highlight_indices]\n",
    "\n",
    "# Load the NPZ file\n",
    "data = np.load(\n",
    "    \"../results/gemma-2-2b/gemma-scope-2b-pt-res-canonical/layer_0_width_16k_canonical/n_batches_100/feature_acts_cooc_total_threshold_1_5.npz\"\n",
    ")\n",
    "matrix = data[\"arr_0\"]\n",
    "\n",
    "# Extract the submatrix\n",
    "submatrix = matrix[top_sae_indices][:, top_sae_indices]\n",
    "\n",
    "# set diagonal to zero and put upper triangular\n",
    "np.fill_diagonal(submatrix, 0)\n",
    "submatrix = np.triu(submatrix)\n",
    "\n",
    "# Create the plot\n",
    "plt.figure(figsize=(10, 8))\n",
    "ax = sns.heatmap(\n",
    "    submatrix,\n",
    "    cmap=\"viridis\",\n",
    "    xticklabels=[str(idx) for idx in top_sae_indices],\n",
    "    yticklabels=[str(idx) for idx in top_sae_indices],\n",
    "    annot=True,\n",
    "    fmt=\".2f\",\n",
    "    square=True,\n",
    ")\n",
    "\n",
    "# Add rectangles around highlighted cells\n",
    "for i in highlight_positions:\n",
    "    for j in highlight_positions:\n",
    "        ax.add_patch(Rectangle((j, i), 1, 1, fill=False, edgecolor=\"red\", lw=2))\n",
    "\n",
    "plt.title(\n",
    "    \"Feature Co-occurrence Matrix for Selected Features\\nRed boxes highlight selected features\"\n",
    ")\n",
    "plt.tight_layout()\n",
    "plt.show()"
   ]
  }
 ],
 "metadata": {
  "kernelspec": {
   "display_name": "sae-cooccurence-DZTJ6ajw-py3.11",
   "language": "python",
   "name": "python3"
  },
  "language_info": {
   "codemirror_mode": {
    "name": "ipython",
    "version": 3
   },
   "file_extension": ".py",
   "mimetype": "text/x-python",
   "name": "python",
   "nbconvert_exporter": "python",
   "pygments_lexer": "ipython3",
   "version": "3.10.12"
  }
 },
 "nbformat": 4,
 "nbformat_minor": 2
}
