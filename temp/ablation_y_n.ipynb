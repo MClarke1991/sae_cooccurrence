{
 "cells": [
  {
   "cell_type": "code",
   "execution_count": 1,
   "metadata": {},
   "outputs": [
    {
     "name": "stderr",
     "output_type": "stream",
     "text": [
      "/usr/local/lib/python3.10/dist-packages/torchvision/io/image.py:13: UserWarning: Failed to load image Python extension: '/usr/local/lib/python3.10/dist-packages/torchvision/image.so: undefined symbol: _ZN3c1017RegisterOperatorsD1Ev'If you don't plan on using image functionality from `torchvision.io`, you can ignore this warning. Otherwise, there might be something wrong with your environment. Did you have `libjpeg` or `libpng` installed before building `torchvision` from source?\n",
      "  warn(\n"
     ]
    }
   ],
   "source": [
    "import random\n",
    "from functools import partial\n",
    "\n",
    "import torch\n",
    "from num2words import num2words\n",
    "\n",
    "# from transformer_lens import HookedTransformer\n",
    "from sae_lens import SAE, ActivationsStore, HookedSAETransformer\n",
    "from tqdm.autonotebook import tqdm\n",
    "from transformers.utils.logging import disable_progress_bar\n",
    "\n",
    "from sae_cooccurrence.utils.set_paths import get_git_root\n",
    "\n",
    "disable_progress_bar()"
   ]
  },
  {
   "cell_type": "code",
   "execution_count": 2,
   "metadata": {},
   "outputs": [],
   "source": [
    "torch.set_grad_enabled(False)\n",
    "\n",
    "git_root = get_git_root()\n",
    "\n",
    "if torch.backends.mps.is_available():\n",
    "    device = \"mps\"\n",
    "else:\n",
    "    device = \"cuda\" if torch.cuda.is_available() else \"cpu\""
   ]
  },
  {
   "cell_type": "code",
   "execution_count": 3,
   "metadata": {},
   "outputs": [
    {
     "name": "stderr",
     "output_type": "stream",
     "text": [
      "WARNING:root:You tried to specify center_unembed=True for a model using logit softcap, but this can't be done! Softcapping is not invariant upon adding a constantSetting center_unembed=False instead.\n",
      "WARNING:root:You are not using LayerNorm, so the writing weights can't be centered! Skipping\n"
     ]
    },
    {
     "name": "stdout",
     "output_type": "stream",
     "text": [
      "Loaded pretrained model gemma-2-2b into HookedTransformer\n"
     ]
    },
    {
     "data": {
      "application/vnd.jupyter.widget-view+json": {
       "model_id": "7d189b0ed39b4f899fd84d794c334f36",
       "version_major": 2,
       "version_minor": 0
      },
      "text/plain": [
       "Resolving data files:   0%|          | 0/30 [00:00<?, ?it/s]"
      ]
     },
     "metadata": {},
     "output_type": "display_data"
    },
    {
     "name": "stderr",
     "output_type": "stream",
     "text": [
      "/usr/local/lib/python3.10/dist-packages/sae_lens/training/activations_store.py:245: UserWarning: Dataset is not tokenized. Pre-tokenizing will improve performance and allows for more control over special tokens. See https://jbloomaus.github.io/SAELens/training_saes/#pretokenizing-datasets for more info.\n",
      "  warnings.warn(\n"
     ]
    }
   ],
   "source": [
    "# from transformer_lens import HookedTransformer\n",
    "\n",
    "model = HookedSAETransformer.from_pretrained(\"gemma-2-2b\", device=device)\n",
    "\n",
    "# the cfg dict is returned alongside the SAE since it may contain useful information for analysing the SAE (eg: instantiating an activation store)\n",
    "# Note that this is not the same as the SAEs config dict, rather it is whatever was in the HF repo, from which we can extract the SAE config dict\n",
    "# We also return the feature sparsities which are stored in HF for convenience.\n",
    "sae, cfg_dict, sparsity = SAE.from_pretrained(\n",
    "    release=\"gemma-scope-2b-pt-res-canonical\",  # <- Release name\n",
    "    sae_id=\"layer_12/width_16k/canonical\",  # <- SAE id (not always a hook point!)\n",
    "    device=device,\n",
    ")\n",
    "\n",
    "activation_store = ActivationsStore.from_sae(\n",
    "    model=model,\n",
    "    sae=sae,\n",
    "    streaming=True,\n",
    "    # fairly conservative parameters here so can use same for larger\n",
    "    # models without running out of memory.\n",
    "    store_batch_size_prompts=8,\n",
    "    train_batch_size_tokens=4096,\n",
    "    n_batches_in_buffer=4,\n",
    "    device=device,\n",
    ")"
   ]
  },
  {
   "cell_type": "code",
   "execution_count": 5,
   "metadata": {},
   "outputs": [
    {
     "name": "stdout",
     "output_type": "stream",
     "text": [
      "Tokens can be either black or white. Answer Y for yes and N for no:\n",
      "\n",
      "Remember:\n",
      "- Only use Y or N to answer\n",
      "- 'some' means at least one but not all\n",
      "- 'one' means exactly one\n",
      "- 'all' means every single token\n",
      "\n",
      "Training Questions:\n",
      "\n",
      "# Basic cases - using 'all'\n",
      "Q: I have five tokens, and all of them are black. Are all of them white?\n",
      "A: N\n",
      "\n",
      "\n",
      "# Basic cases - using 'all'\n",
      "Q: I have two tokens, and all of them are black. Are one of them black?\n",
      "A: Y\n",
      "\n",
      "\n",
      "# Cases with 'one'\n",
      "Q: I have nine tokens, and one of them are white. Are one of them black?\n",
      "A: Y\n",
      "\n",
      "\n",
      "# Cases with 'one'\n",
      "Q: I have one tokens, and one of them are white. Are some of them black?\n",
      "A: N\n",
      "\n",
      "\n",
      "# Cases with 'one'\n",
      "Q: I have five tokens, and one of them are white. Are one of them black?\n",
      "A: Y\n",
      "\n",
      "\n",
      "# Cases with 'some'\n",
      "Q: I have six tokens, and some of them are black. Are all of them white?\n",
      "A: N\n",
      "\n",
      "\n",
      "# Cases with 'some'\n",
      "Q: I have one tokens, and some of them are black. Are some of them white?\n",
      "A: N\n",
      "\n",
      "\n",
      "Test Question:\n",
      "Q: I have two tokens, and one of them are white. Are some of them black?\n",
      "\n",
      "Expected Answer:\n",
      "A: Y\n"
     ]
    }
   ],
   "source": [
    "import random\n",
    "\n",
    "from num2words import num2words\n",
    "\n",
    "\n",
    "class YesNoTokenQuestionGenerator:\n",
    "    def __init__(self):\n",
    "        self.colors = [\"black\", \"white\"]\n",
    "        self.quantifiers = [\"one\", \"some\", \"all\"]\n",
    "        self.sections = [\"basic\", \"numeric\", \"special\"]\n",
    "        \n",
    "    def _number_to_words(self, n: int) -> str:\n",
    "        \"\"\"Convert a number to words.\"\"\"\n",
    "        return num2words(n)\n",
    "        \n",
    "    def _questions_are_equivalent(self, q1: str, q2: str) -> bool:\n",
    "        \"\"\"Compare two questions to check if they are functionally equivalent.\"\"\"\n",
    "        q1_parts = [p.lower() for p in q1.split() if p.lower() not in [\"q:\", \"a:\", \"and\", \"are\", \"of\", \"them\", \"my\", \"tokens\", \"have\", \"how\", \"many\"]]\n",
    "        q2_parts = [p.lower() for p in q2.split() if p.lower() not in [\"q:\", \"a:\", \"and\", \"are\", \"of\", \"them\", \"my\", \"tokens\", \"have\", \"how\", \"many\"]]\n",
    "        return q1_parts == q2_parts\n",
    "\n",
    "    def _determine_answer(self, n_total: int, held_quant: str, test_quant: str, held_color: str, test_color: str) -> str:\n",
    "        \"\"\"Determine if the answer should be Y or N based on the question parameters.\"\"\"\n",
    "        # Special case for n_total = 1\n",
    "        if n_total == 1:\n",
    "            # With one token, \"some\" and \"one\" are equivalent to having that single token\n",
    "            # \"all\" is also equivalent for the held color\n",
    "            has_held = held_quant in [\"one\", \"some\", \"all\"]\n",
    "            if has_held:\n",
    "                # If we have the held color, we can't have the other color\n",
    "                return \"Y\" if held_color == test_color and test_quant in [\"one\", \"some\", \"all\"] else \"N\"\n",
    "            return \"N\"\n",
    "            \n",
    "        if held_color == test_color:\n",
    "            # Same color questions\n",
    "            if held_quant == \"all\":\n",
    "                # If all are the color, then any quantifier for same color is true\n",
    "                return \"Y\"\n",
    "            elif test_quant == \"all\":\n",
    "                # If not all are the color (previous condition), then \"all\" must be false\n",
    "                return \"N\"\n",
    "            elif held_quant == \"one\" and test_quant == \"some\":\n",
    "                # If one is the color, then some is also true\n",
    "                return \"Y\"\n",
    "            elif held_quant == test_quant:\n",
    "                # Same quantifier for same color\n",
    "                return \"Y\"\n",
    "            return \"N\"\n",
    "        else:\n",
    "            # Different color questions\n",
    "            if held_quant == \"all\" or test_quant == \"all\":\n",
    "                # If all are one color, none can be the other\n",
    "                return \"N\"\n",
    "            elif held_quant == \"some\":\n",
    "                # If some are held color, then not all tokens are available for test color\n",
    "                return \"Y\" if test_quant in [\"one\", \"some\"] else \"N\"\n",
    "            elif held_quant == \"one\":\n",
    "                # If one is held color, others can be test color unless n_total = 1\n",
    "                return \"Y\" if test_quant in [\"one\", \"some\"] else \"N\"\n",
    "            return \"Y\"\n",
    "\n",
    "    def generate_question(self, force_type: str | None = None) -> tuple[str, str]:\n",
    "        \"\"\"Generate a single question with specified parameters.\"\"\"\n",
    "        n_total = random.randint(1, 10)\n",
    "        colors = self.colors.copy()\n",
    "        \n",
    "        if force_type == \"basic\":\n",
    "            held_quant = \"all\"\n",
    "            test_quant = random.choice([\"one\", \"some\", \"all\"])\n",
    "            # 50% chance to ask about the same color when we know all are that color\n",
    "            if random.random() < 0.5:\n",
    "                held_color = random.choice(colors)\n",
    "                test_color = held_color\n",
    "            else:\n",
    "                held_color, test_color = random.sample(colors, 2)\n",
    "        elif force_type == \"numeric\":\n",
    "            held_quant = \"one\"\n",
    "            test_quant = random.choice([\"one\", \"some\"])\n",
    "            held_color, test_color = random.sample(colors, 2)\n",
    "        elif force_type == \"special\":\n",
    "            held_quant = \"some\"\n",
    "            test_quant = random.choice([\"one\", \"some\", \"all\"])\n",
    "            held_color, test_color = random.sample(colors, 2)\n",
    "        else:\n",
    "            held_quant = random.choice(self.quantifiers)\n",
    "            test_quant = random.choice(self.quantifiers)\n",
    "            # If we're saying \"all\", 50% chance to ask about the same color\n",
    "            if held_quant == \"all\" and random.random() < 0.5:\n",
    "                held_color = random.choice(colors)\n",
    "                test_color = held_color\n",
    "            else:\n",
    "                held_color, test_color = random.sample(colors, 2)\n",
    "        \n",
    "        question = (\n",
    "            f\"Q: I have {self._number_to_words(n_total)} tokens, and \"\n",
    "            f\"{held_quant} of them are {held_color}. \"\n",
    "            f\"Are {test_quant} of them {test_color}?\"\n",
    "        )\n",
    "        \n",
    "        answer = f\"A: {self._determine_answer(n_total, held_quant, test_quant, held_color, test_color)}\"\n",
    "        return question, answer\n",
    "\n",
    "    def generate_training_set(self, section_counts: dict) -> list[tuple[str, str, str]]:\n",
    "        \"\"\"Generate a structured training set with sections.\"\"\"\n",
    "        training_set = []\n",
    "        \n",
    "        # Basic cases (all vs others)\n",
    "        for _ in range(section_counts.get(\"basic\", 0)):\n",
    "            q, a = self.generate_question(force_type=\"basic\")\n",
    "            training_set.append((\"# Basic cases - using 'all'\", q, a))\n",
    "            \n",
    "        # Numeric cases\n",
    "        for _ in range(section_counts.get(\"numeric\", 0)):\n",
    "            q, a = self.generate_question(force_type=\"numeric\")\n",
    "            training_set.append((\"# Cases with 'one'\", q, a))\n",
    "            \n",
    "        # Special cases (some)\n",
    "        for _ in range(section_counts.get(\"special\", 0)):\n",
    "            q, a = self.generate_question(force_type=\"special\")\n",
    "            training_set.append((\"# Cases with 'some'\", q, a))\n",
    "            \n",
    "        return training_set\n",
    "\n",
    "def generate_training_and_test(\n",
    "    section_counts: dict = {\n",
    "        \"basic\": 2,    # all vs others cases\n",
    "        \"numeric\": 3,  # one vs some/all cases\n",
    "        \"special\": 2   # some vs others cases\n",
    "    },\n",
    "    force_test_type: str | None = None,\n",
    "    max_attempts: int = 100\n",
    ") -> dict:\n",
    "    \"\"\"Generate a structured training set and test question.\"\"\"\n",
    "    generator = YesNoTokenQuestionGenerator()\n",
    "    \n",
    "    # Generate test question\n",
    "    test_question, test_answer = generator.generate_question(force_type=force_test_type)\n",
    "    \n",
    "    # Generate training set with sections\n",
    "    training_set = []\n",
    "    attempts = 0\n",
    "    \n",
    "    while len(training_set) < sum(section_counts.values()) and attempts < max_attempts:\n",
    "        current_set = generator.generate_training_set(section_counts)\n",
    "        \n",
    "        # Filter out any questions that match the test question\n",
    "        filtered_set = [\n",
    "            (section, q, a)\n",
    "            for section, q, a in current_set\n",
    "            if not generator._questions_are_equivalent(q, test_question)\n",
    "        ]\n",
    "        \n",
    "        if len(filtered_set) == sum(section_counts.values()):\n",
    "            training_set = filtered_set\n",
    "            break\n",
    "            \n",
    "        attempts += 1\n",
    "    \n",
    "    if attempts >= max_attempts:\n",
    "        raise RuntimeError(\"Failed to generate unique training set after maximum attempts\")\n",
    "    \n",
    "    # Format the introduction\n",
    "    introduction = \"\"\"\n",
    "Tokens can be either black or white. Answer Y for yes and N for no:\n",
    "\n",
    "Remember:\n",
    "- Only use Y or N to answer\n",
    "- 'some' means at least one but not all\n",
    "- 'one' means exactly one\n",
    "- 'all' means every single token\n",
    "\"\"\"\n",
    "    \n",
    "    return {\n",
    "        \"introduction\": introduction.strip(),\n",
    "        \"training_questions\": training_set,\n",
    "        \"test_question\": test_question,\n",
    "        \"test_answer\": test_answer\n",
    "    }\n",
    "\n",
    "# Example usage\n",
    "if __name__ == \"__main__\":\n",
    "    # Custom section counts\n",
    "    section_counts = {\n",
    "        \"basic\": 2,    # all vs others cases\n",
    "        \"numeric\": 3,  # one vs some/all cases\n",
    "        \"special\": 2   # some vs others cases\n",
    "    }\n",
    "    \n",
    "    result = generate_training_and_test(\n",
    "        section_counts=section_counts,\n",
    "        force_test_type=\"numeric\"  # Can be 'numeric', 'special', 'basic', or None\n",
    "    )\n",
    "    \n",
    "    print(result[\"introduction\"])\n",
    "    print(\"\\nTraining Questions:\")\n",
    "    for section, q, a in result[\"training_questions\"]:\n",
    "        if section:\n",
    "            print(f\"\\n{section}\")\n",
    "        print(f\"{q}\\n{a}\\n\")\n",
    "    print(\"\\nTest Question:\")\n",
    "    print(result[\"test_question\"])\n",
    "    print(\"\\nExpected Answer:\")\n",
    "    print(result[\"test_answer\"])"
   ]
  },
  {
   "cell_type": "code",
   "execution_count": 11,
   "metadata": {},
   "outputs": [],
   "source": [
    "\n",
    "\n",
    "\n",
    "def find_max_activation(model, sae, activation_store, feature_idx, num_batches=100):\n",
    "    \"\"\"\n",
    "    Find the maximum activation for a given feature index. This is useful for\n",
    "    calibrating the right amount of the feature to add.\n",
    "    \"\"\"\n",
    "    max_activation = 0.0\n",
    "\n",
    "    pbar = tqdm(range(num_batches))\n",
    "    for _ in pbar:\n",
    "        tokens = activation_store.get_batch_tokens()\n",
    "\n",
    "        _, cache = model.run_with_cache(\n",
    "            tokens,\n",
    "            stop_at_layer=sae.cfg.hook_layer + 1,\n",
    "            names_filter=[sae.cfg.hook_name],\n",
    "        )\n",
    "        sae_in = cache[sae.cfg.hook_name]\n",
    "        feature_acts = sae.encode(sae_in).squeeze()\n",
    "\n",
    "        feature_acts = feature_acts.flatten(0, 1)\n",
    "        batch_max_activation = feature_acts[:, feature_idx].max().item()\n",
    "        max_activation = max(max_activation, batch_max_activation)\n",
    "\n",
    "        pbar.set_description(f\"Max activation: {max_activation:.4f}\")\n",
    "\n",
    "    return max_activation\n",
    "\n",
    "\n",
    "def steering(activations, steering_strength=1.0, steering_vector=None, max_act=1.0, hook=None):  # noqa: ARG001\n",
    "    \"\"\"\n",
    "    Apply steering to activations.\n",
    "    \n",
    "    Args:\n",
    "        activations: Input activations\n",
    "        steering_strength: Strength of steering effect\n",
    "        steering_vector: Vector to steer towards\n",
    "        max_act: Maximum activation value\n",
    "        hook: Hook object (ignored but needed for compatibility)\n",
    "    \n",
    "    Returns:\n",
    "        Modified activations\n",
    "    \"\"\"\n",
    "    # Note if the feature fires anyway, we'd be adding to that here.\n",
    "    return activations + max_act * steering_strength * steering_vector \n",
    "\n",
    "\n",
    "def generate_with_steering(\n",
    "    model,\n",
    "    sae,\n",
    "    prompt,\n",
    "    steering_feature,\n",
    "    max_act,\n",
    "    steering_strength=1.0,\n",
    "    max_new_tokens=95,\n",
    "):\n",
    "    input_ids = model.to_tokens(prompt, prepend_bos=sae.cfg.prepend_bos)\n",
    "\n",
    "    steering_vector = sae.W_dec[steering_feature].to(model.cfg.device)\n",
    "\n",
    "    steering_hook = partial(\n",
    "        steering,\n",
    "        steering_vector=steering_vector,\n",
    "        steering_strength=steering_strength,\n",
    "        max_act=max_act,\n",
    "    )\n",
    "\n",
    "    # standard transformerlens syntax for a hook context for generation\n",
    "    with model.hooks(fwd_hooks=[(sae.cfg.hook_name, steering_hook)]):\n",
    "        output = model.generate(\n",
    "            input_ids,\n",
    "            max_new_tokens=max_new_tokens,\n",
    "            temperature=0.7,\n",
    "            top_p=0.9,\n",
    "            stop_at_eos=False if device == \"mps\" else True,\n",
    "            prepend_bos=sae.cfg.prepend_bos,\n",
    "        )\n",
    "\n",
    "    return model.tokenizer.decode(output[0])"
   ]
  },
  {
   "cell_type": "code",
   "execution_count": 6,
   "metadata": {},
   "outputs": [],
   "source": [
    "def evaluate_model_with_intervention(\n",
    "    model: HookedSAETransformer,\n",
    "    sae: SAE,\n",
    "    feature_ids: int | list[int] | None = None,\n",
    "    intervention_type: str = \"none\",  # \"none\", \"steering\", or \"ablation\"\n",
    "    steering_strength: float = 1.0,\n",
    "    max_act: float = 60.0,\n",
    "    n_numeric: int = 10,\n",
    "    n_special: int = 10,\n",
    "    max_new_tokens: int = 6,\n",
    "    temperature: float = 0.0,\n",
    "    top_p: float = 0.9,\n",
    "    section_counts: dict | None = None,\n",
    ") -> dict:\n",
    "    \"\"\"\n",
    "    Test model accuracy on token yes/no tasks with optional feature steering or ablation.\n",
    "    Lenient scoring accepts various forms of yes/no answers.\n",
    "    \"\"\"\n",
    "    if section_counts is None:\n",
    "        section_counts = {\n",
    "            \"basic\": 2,     # all vs others cases\n",
    "            \"numeric\": 3,   # one vs some/all cases\n",
    "            \"special\": 2    # some vs others cases\n",
    "        }\n",
    "\n",
    "    results = {\n",
    "        \"numeric_correct_strict\": 0,\n",
    "        \"numeric_correct_lenient\": 0,\n",
    "        \"special_correct_strict\": 0,\n",
    "        \"special_correct_lenient\": 0,\n",
    "        \"numeric_tests\": [],\n",
    "        \"special_tests\": [],\n",
    "    }\n",
    "\n",
    "    def check_answer_lenient(generated: str, expected: str) -> bool:\n",
    "        \"\"\"\n",
    "        Check if answer is correct under lenient scoring rules.\n",
    "        Accepts various forms of yes/no answers.\n",
    "        \n",
    "        Args:\n",
    "            generated: Generated answer text\n",
    "            expected: Expected answer text\n",
    "            \n",
    "        Returns:\n",
    "            bool: Whether the answer is correct under lenient scoring\n",
    "        \"\"\"\n",
    "        # Convert both to lowercase for comparison\n",
    "        generated = generated.lower().strip()\n",
    "        expected = expected.lower().strip()\n",
    "        \n",
    "        # Extract the Y/N from the expected answer\n",
    "        expected_yn = expected.split(\":\")[-1].strip() if \":\" in expected else expected\n",
    "        \n",
    "        # Define valid positive and negative responses\n",
    "        positive_responses = [\"y\", \"yes\", \"true\", \"correct\"]\n",
    "        negative_responses = [\"n\", \"no\", \"false\", \"incorrect\"]\n",
    "        \n",
    "        # Check if the expected answer is positive or negative\n",
    "        is_expected_positive = expected_yn == \"y\"\n",
    "        \n",
    "        # Check if any valid form of the answer appears in the generated text\n",
    "        valid_responses = positive_responses if is_expected_positive else negative_responses\n",
    "        return any(resp in generated.lower() for resp in valid_responses)\n",
    "\n",
    "    # Convert single feature_id to list for consistency\n",
    "    if isinstance(feature_ids, int):\n",
    "        feature_ids = [feature_ids]\n",
    "\n",
    "    def ablate_feature_hook(feature_activations, hook=None, feature_ids=None):  # noqa: ARG001\n",
    "        feature_activations[:, :, feature_ids] = 0\n",
    "        return feature_activations\n",
    "\n",
    "    for test_type in tqdm([\"numeric\", \"special\"], desc=\"Testing types\"):\n",
    "        n_tests = n_numeric if test_type == \"numeric\" else n_special\n",
    "        for _ in tqdm(range(n_tests), desc=f\"Testing {test_type}\"):\n",
    "            # Use new structured prompt generator\n",
    "            test_data = generate_training_and_test(\n",
    "                section_counts=section_counts,\n",
    "                force_test_type=test_type,\n",
    "            )\n",
    "\n",
    "            # Construct prompt with sections\n",
    "            prompt_parts = [test_data[\"introduction\"]]\n",
    "            \n",
    "            # Group questions by section\n",
    "            sections = {}\n",
    "            for section, q, a in test_data[\"training_questions\"]:\n",
    "                if section not in sections:\n",
    "                    sections[section] = []\n",
    "                sections[section].append((q, a))\n",
    "            \n",
    "            # Add each section with its header\n",
    "            for section, questions in sections.items():\n",
    "                prompt_parts.append(f\"\\n\\n{section}\")\n",
    "                for q, a in questions:\n",
    "                    prompt_parts.append(f\"{q}\\n{a}\")\n",
    "            \n",
    "            # Add test question\n",
    "            prompt_parts.append(f\"\\n\\n{test_data['test_question']}\\nA: \")\n",
    "            \n",
    "            prompt = \"\\n\\n\".join(prompt_parts)\n",
    "\n",
    "            # Convert prompt to tokens\n",
    "            input_ids = model.to_tokens(prompt, prepend_bos=sae.cfg.prepend_bos)\n",
    "\n",
    "            if intervention_type == \"none\" or feature_ids is None:\n",
    "                output = model.generate(\n",
    "                    input_ids,\n",
    "                    max_new_tokens=max_new_tokens,\n",
    "                    temperature=temperature,\n",
    "                    top_p=top_p,\n",
    "                    stop_at_eos=False if device == \"mps\" else True,\n",
    "                    prepend_bos=sae.cfg.prepend_bos,\n",
    "                )\n",
    "\n",
    "            elif intervention_type == \"steering\":\n",
    "                steering_vector = sae.W_dec[feature_ids[0]].to(model.cfg.device)\n",
    "                steering_hook = partial(\n",
    "                    steering,\n",
    "                    steering_vector=steering_vector,\n",
    "                    steering_strength=steering_strength,\n",
    "                    max_act=max_act,\n",
    "                )\n",
    "\n",
    "                with model.hooks(fwd_hooks=[(sae.cfg.hook_name, steering_hook)]):\n",
    "                    output = model.generate(\n",
    "                        input_ids,\n",
    "                        max_new_tokens=max_new_tokens,\n",
    "                        temperature=temperature,\n",
    "                        top_p=top_p,\n",
    "                        stop_at_eos=False if device == \"mps\" else True,\n",
    "                        prepend_bos=sae.cfg.prepend_bos,\n",
    "                    )\n",
    "\n",
    "            elif intervention_type == \"ablation\":\n",
    "                ablation_hook = partial(ablate_feature_hook, feature_ids=feature_ids)\n",
    "                model.add_sae(sae)\n",
    "                hook_point = sae.cfg.hook_name + \".hook_sae_acts_post\"\n",
    "\n",
    "                with model.hooks(fwd_hooks=[(hook_point, ablation_hook)]):\n",
    "                    output = model.generate(\n",
    "                        input_ids,\n",
    "                        max_new_tokens=max_new_tokens,\n",
    "                        top_p=top_p,\n",
    "                        temperature=temperature,\n",
    "                        stop_at_eos=False if device == \"mps\" else True,\n",
    "                        prepend_bos=sae.cfg.prepend_bos,\n",
    "                    )\n",
    "\n",
    "                model.reset_hooks()\n",
    "                model.reset_saes()\n",
    "\n",
    "            generated = model.tokenizer.decode(output[0])  # type: ignore\n",
    "            generated_answer = generated.split(\"A: \")[-1].strip()\n",
    "            expected_answer = test_data[\"test_answer\"].replace(\"A: \", \"\").strip()\n",
    "\n",
    "            test_result = {\n",
    "                \"prompt\": prompt,\n",
    "                \"expected\": expected_answer,\n",
    "                \"generated\": generated_answer,\n",
    "                \"correct_strict\": expected_answer in generated_answer,\n",
    "                \"correct_lenient\": check_answer_lenient(generated_answer, expected_answer),\n",
    "                \"section_counts\": section_counts,\n",
    "            }\n",
    "\n",
    "            if test_type == \"numeric\":\n",
    "                results[\"numeric_tests\"].append(test_result)\n",
    "                if test_result[\"correct_strict\"]:\n",
    "                    results[\"numeric_correct_strict\"] += 1\n",
    "                if test_result[\"correct_lenient\"]:\n",
    "                    results[\"numeric_correct_lenient\"] += 1\n",
    "            else:\n",
    "                results[\"special_tests\"].append(test_result)\n",
    "                if test_result[\"correct_strict\"]:\n",
    "                    results[\"special_correct_strict\"] += 1\n",
    "                if test_result[\"correct_lenient\"]:\n",
    "                    results[\"special_correct_lenient\"] += 1\n",
    "\n",
    "    # Calculate accuracies\n",
    "    results[\"numeric_accuracy_strict\"] = results[\"numeric_correct_strict\"] / n_numeric\n",
    "    results[\"numeric_accuracy_lenient\"] = results[\"numeric_correct_lenient\"] / n_numeric\n",
    "    results[\"special_accuracy_strict\"] = results[\"special_correct_strict\"] / n_special\n",
    "    results[\"special_accuracy_lenient\"] = results[\"special_correct_lenient\"] / n_special\n",
    "    results[\"total_accuracy_strict\"] = (\n",
    "        results[\"numeric_correct_strict\"] + results[\"special_correct_strict\"]\n",
    "    ) / (n_numeric + n_special)\n",
    "    results[\"total_accuracy_lenient\"] = (\n",
    "        results[\"numeric_correct_lenient\"] + results[\"special_correct_lenient\"]\n",
    "    ) / (n_numeric + n_special)\n",
    "\n",
    "    # Add section configuration to results\n",
    "    results[\"section_counts\"] = section_counts\n",
    "\n",
    "    return results"
   ]
  },
  {
   "cell_type": "code",
   "execution_count": 7,
   "metadata": {},
   "outputs": [
    {
     "data": {
      "application/vnd.jupyter.widget-view+json": {
       "model_id": "2787aa601ee646f680f35300a191bb79",
       "version_major": 2,
       "version_minor": 0
      },
      "text/plain": [
       "Testing types:   0%|          | 0/2 [00:00<?, ?it/s]"
      ]
     },
     "metadata": {},
     "output_type": "display_data"
    },
    {
     "data": {
      "application/vnd.jupyter.widget-view+json": {
       "model_id": "87a0d92d66ff4488b1b1c6d96ef57de1",
       "version_major": 2,
       "version_minor": 0
      },
      "text/plain": [
       "Testing numeric:   0%|          | 0/1 [00:00<?, ?it/s]"
      ]
     },
     "metadata": {},
     "output_type": "display_data"
    },
    {
     "data": {
      "application/vnd.jupyter.widget-view+json": {
       "model_id": "b361434a352f41dbbd0c810a1136a968",
       "version_major": 2,
       "version_minor": 0
      },
      "text/plain": [
       "  0%|          | 0/6 [00:00<?, ?it/s]"
      ]
     },
     "metadata": {},
     "output_type": "display_data"
    },
    {
     "data": {
      "application/vnd.jupyter.widget-view+json": {
       "model_id": "43c9c99cc8794cbbb1cfed6df565029f",
       "version_major": 2,
       "version_minor": 0
      },
      "text/plain": [
       "Testing special:   0%|          | 0/1 [00:00<?, ?it/s]"
      ]
     },
     "metadata": {},
     "output_type": "display_data"
    },
    {
     "data": {
      "application/vnd.jupyter.widget-view+json": {
       "model_id": "88e0ff34d089457da4def1e96d5bb2c6",
       "version_major": 2,
       "version_minor": 0
      },
      "text/plain": [
       "  0%|          | 0/6 [00:00<?, ?it/s]"
      ]
     },
     "metadata": {},
     "output_type": "display_data"
    }
   ],
   "source": [
    "normal_results = evaluate_model_with_intervention(\n",
    "    model, sae, intervention_type=\"none\", n_numeric=1, n_special=1, section_counts= {\"basic\": 20, \"numeric\": 0, \"special\": 20, \"zero\": 0}\n",
    ")"
   ]
  },
  {
   "cell_type": "code",
   "execution_count": 9,
   "metadata": {},
   "outputs": [
    {
     "data": {
      "text/plain": [
       "[{'prompt': \"Tokens can be either black or white. Answer Y for yes and N for no:\\n\\nRemember:\\n- Only use Y or N to answer\\n- 'some' means at least one but not all\\n- 'one' means exactly one\\n- 'all' means every single token\\n\\n\\n\\n# Basic cases - using 'all'\\n\\nQ: I have ten tokens, and all of them are white. Are all of them white?\\nA: Y\\n\\nQ: I have one tokens, and all of them are black. Are one of them white?\\nA: N\\n\\nQ: I have two tokens, and all of them are black. Are one of them black?\\nA: Y\\n\\nQ: I have ten tokens, and all of them are black. Are one of them black?\\nA: Y\\n\\nQ: I have nine tokens, and all of them are white. Are some of them black?\\nA: N\\n\\nQ: I have nine tokens, and all of them are white. Are some of them black?\\nA: N\\n\\nQ: I have nine tokens, and all of them are black. Are some of them white?\\nA: N\\n\\nQ: I have one tokens, and all of them are white. Are all of them white?\\nA: Y\\n\\nQ: I have eight tokens, and all of them are white. Are all of them white?\\nA: Y\\n\\nQ: I have one tokens, and all of them are black. Are some of them white?\\nA: N\\n\\nQ: I have one tokens, and all of them are white. Are all of them white?\\nA: Y\\n\\nQ: I have three tokens, and all of them are white. Are all of them white?\\nA: Y\\n\\nQ: I have three tokens, and all of them are white. Are all of them black?\\nA: N\\n\\nQ: I have ten tokens, and all of them are black. Are some of them white?\\nA: N\\n\\nQ: I have four tokens, and all of them are black. Are some of them black?\\nA: Y\\n\\nQ: I have six tokens, and all of them are black. Are some of them black?\\nA: Y\\n\\nQ: I have six tokens, and all of them are white. Are one of them black?\\nA: N\\n\\nQ: I have eight tokens, and all of them are black. Are one of them black?\\nA: Y\\n\\nQ: I have five tokens, and all of them are black. Are all of them black?\\nA: Y\\n\\nQ: I have six tokens, and all of them are white. Are some of them black?\\nA: N\\n\\n\\n\\n# Cases with 'some'\\n\\nQ: I have eight tokens, and some of them are black. Are all of them white?\\nA: N\\n\\nQ: I have eight tokens, and some of them are white. Are some of them black?\\nA: Y\\n\\nQ: I have two tokens, and some of them are white. Are some of them black?\\nA: Y\\n\\nQ: I have ten tokens, and some of them are black. Are all of them white?\\nA: N\\n\\nQ: I have two tokens, and some of them are black. Are one of them white?\\nA: Y\\n\\nQ: I have one tokens, and some of them are white. Are one of them black?\\nA: N\\n\\nQ: I have two tokens, and some of them are white. Are one of them black?\\nA: Y\\n\\nQ: I have nine tokens, and some of them are black. Are one of them white?\\nA: Y\\n\\nQ: I have eight tokens, and some of them are black. Are all of them white?\\nA: N\\n\\nQ: I have eight tokens, and some of them are white. Are some of them black?\\nA: Y\\n\\nQ: I have one tokens, and some of them are black. Are all of them white?\\nA: N\\n\\nQ: I have three tokens, and some of them are white. Are one of them black?\\nA: Y\\n\\nQ: I have six tokens, and some of them are black. Are all of them white?\\nA: N\\n\\nQ: I have five tokens, and some of them are black. Are some of them white?\\nA: Y\\n\\nQ: I have nine tokens, and some of them are white. Are all of them black?\\nA: N\\n\\nQ: I have three tokens, and some of them are black. Are one of them white?\\nA: Y\\n\\nQ: I have two tokens, and some of them are black. Are some of them white?\\nA: Y\\n\\nQ: I have three tokens, and some of them are black. Are one of them white?\\nA: Y\\n\\nQ: I have four tokens, and some of them are black. Are all of them white?\\nA: N\\n\\nQ: I have four tokens, and some of them are white. Are all of them black?\\nA: N\\n\\n\\n\\nQ: I have seven tokens, and some of them are white. Are some of them black?\\nA: \",\n",
       "  'expected': 'Y',\n",
       "  'generated': '1\\n\\nQ: I have',\n",
       "  'correct_strict': False,\n",
       "  'correct_lenient': False,\n",
       "  'section_counts': {'basic': 20, 'numeric': 0, 'special': 20, 'zero': 0}}]"
      ]
     },
     "execution_count": 9,
     "metadata": {},
     "output_type": "execute_result"
    }
   ],
   "source": [
    "normal_results[\"special_tests\"]"
   ]
  },
  {
   "cell_type": "code",
   "execution_count": 24,
   "metadata": {},
   "outputs": [
    {
     "data": {
      "application/vnd.jupyter.widget-view+json": {
       "model_id": "620ac7025ae44030b2d5472e430138f6",
       "version_major": 2,
       "version_minor": 0
      },
      "text/plain": [
       "Testing types:   0%|          | 0/2 [00:00<?, ?it/s]"
      ]
     },
     "metadata": {},
     "output_type": "display_data"
    },
    {
     "data": {
      "application/vnd.jupyter.widget-view+json": {
       "model_id": "f5eaf262993e445f9baf026886ef574a",
       "version_major": 2,
       "version_minor": 0
      },
      "text/plain": [
       "Testing numeric:   0%|          | 0/1 [00:00<?, ?it/s]"
      ]
     },
     "metadata": {},
     "output_type": "display_data"
    },
    {
     "data": {
      "application/vnd.jupyter.widget-view+json": {
       "model_id": "dd33ed69a00e4e3ab06966a883dfd129",
       "version_major": 2,
       "version_minor": 0
      },
      "text/plain": [
       "  0%|          | 0/6 [00:00<?, ?it/s]"
      ]
     },
     "metadata": {},
     "output_type": "display_data"
    },
    {
     "data": {
      "application/vnd.jupyter.widget-view+json": {
       "model_id": "89acaf24c1e54110b126bb1f83b12047",
       "version_major": 2,
       "version_minor": 0
      },
      "text/plain": [
       "Testing special:   0%|          | 0/1 [00:00<?, ?it/s]"
      ]
     },
     "metadata": {},
     "output_type": "display_data"
    },
    {
     "data": {
      "application/vnd.jupyter.widget-view+json": {
       "model_id": "27cca5fba2814c5a97f17bdad596c68d",
       "version_major": 2,
       "version_minor": 0
      },
      "text/plain": [
       "  0%|          | 0/6 [00:00<?, ?it/s]"
      ]
     },
     "metadata": {},
     "output_type": "display_data"
    },
    {
     "data": {
      "text/plain": [
       "[{'prompt': \"Tokens can be either black or white. Complete the following sentences using number words (one, two, three, etc.) never digits (1, 2, 3, etc.).\\nRemember:\\n- For 0, use 'zero' not '0'\\n- The total number of tokens equals the sum of black and white tokens\\n- Always write numbers as words (e.g., 'two' not '2')\\n\\nFor example, this is correct: \\nQ: I have ten tokens, and five of them are black. How many of my tokens are white?\\nA: five of them are white\\n\\nWhereas this is incorrect:\\nQ: I have ten tokens, and five of them are black. How many of my tokens are white?\\nA: 5 of them are white\\n\\n\\n\\n# Basic cases - all/none\\n\\nQ: I have four tokens, and some of them are black. How many of my tokens are white?\\nA: some of them are white\\n\\nQ: I have six tokens, and some of them are white. How many of my tokens are black?\\nA: some of them are black\\n\\n\\n\\n# Cases with specific numbers\\n\\nQ: I have ten tokens, and six of them are white. How many of my tokens are black?\\nA: four of them are black\\n\\nQ: I have four tokens, and two of them are white. How many of my tokens are black?\\nA: two of them are black\\n\\nQ: I have four tokens, and one of them are white. How many of my tokens are black?\\nA: three of them are black\\n\\n\\n\\n# Cases with 'some'\\n\\nQ: I have four tokens, and none of them are white. How many of my tokens are black?\\nA: all of them are black\\n\\nQ: I have nine tokens, and some of them are black. How many of my tokens are white?\\nA: some of them are white\\n\\n\\n\\n# Zero cases\\n\\nQ: I have eight tokens, and all of them are black. How many of my tokens are white?\\nA: zero of them are white\\n\\nQ: I have three tokens, and all of them are black. How many of my tokens are white?\\nA: zero of them are white\\n\\n\\n\\nQ: I have five tokens, and some of them are black. How many of my tokens are white?\\nA: \",\n",
       "  'expected': 'some of them are white',\n",
       "  'generated': '5 of them are\\n\\nQ',\n",
       "  'correct_strict': False,\n",
       "  'correct_lenient': False,\n",
       "  'section_counts': {'basic': 2, 'numeric': 3, 'special': 2, 'zero': 2}}]"
      ]
     },
     "execution_count": 24,
     "metadata": {},
     "output_type": "execute_result"
    }
   ],
   "source": [
    "ablated_results_hub = evaluate_model_with_intervention(\n",
    "    model,\n",
    "    sae,\n",
    "    feature_ids=[2283, 8084, 13772],  # Can ablate multiple features\n",
    "    intervention_type=\"ablation\",\n",
    "    n_numeric=1,\n",
    "    n_special=1,\n",
    ")\n",
    "ablated_results_hub['special_tests']"
   ]
  },
  {
   "cell_type": "code",
   "execution_count": 98,
   "metadata": {},
   "outputs": [
    {
     "data": {
      "application/vnd.jupyter.widget-view+json": {
       "model_id": "6e8135136a7040808e25843ebcee297b",
       "version_major": 2,
       "version_minor": 0
      },
      "text/plain": [
       "Testing types:   0%|          | 0/2 [00:00<?, ?it/s]"
      ]
     },
     "metadata": {},
     "output_type": "display_data"
    },
    {
     "data": {
      "application/vnd.jupyter.widget-view+json": {
       "model_id": "fd8ffd08f730465cb3ff45a965cad4bc",
       "version_major": 2,
       "version_minor": 0
      },
      "text/plain": [
       "Testing numeric:   0%|          | 0/1 [00:00<?, ?it/s]"
      ]
     },
     "metadata": {},
     "output_type": "display_data"
    },
    {
     "data": {
      "application/vnd.jupyter.widget-view+json": {
       "model_id": "a758d961453248d58f893f4a5abd7da6",
       "version_major": 2,
       "version_minor": 0
      },
      "text/plain": [
       "  0%|          | 0/6 [00:00<?, ?it/s]"
      ]
     },
     "metadata": {},
     "output_type": "display_data"
    },
    {
     "data": {
      "application/vnd.jupyter.widget-view+json": {
       "model_id": "4dc6c5ccf323408ab96163c1218a05f5",
       "version_major": 2,
       "version_minor": 0
      },
      "text/plain": [
       "Testing special:   0%|          | 0/1 [00:00<?, ?it/s]"
      ]
     },
     "metadata": {},
     "output_type": "display_data"
    },
    {
     "data": {
      "application/vnd.jupyter.widget-view+json": {
       "model_id": "d24bd0fbca8a426f84356fdfb5e065ab",
       "version_major": 2,
       "version_minor": 0
      },
      "text/plain": [
       "  0%|          | 0/6 [00:00<?, ?it/s]"
      ]
     },
     "metadata": {},
     "output_type": "display_data"
    }
   ],
   "source": [
    "steering_results_hub = evaluate_model_with_intervention(\n",
    "    model,\n",
    "    sae,\n",
    "    feature_ids=[12257, 12649],  # Can ablate multiple features\n",
    "    intervention_type=\"steering\",\n",
    "    steering_strength= -1.5,\n",
    "    n_numeric=1,\n",
    "    n_special=1,\n",
    ")"
   ]
  },
  {
   "cell_type": "code",
   "execution_count": 99,
   "metadata": {},
   "outputs": [
    {
     "data": {
      "text/plain": [
       "[{'prompt': \"Tokens can be either black or white. Complete the following sentences using number words (one, two, three, etc.) never digits (1, 2, 3, etc.).\\nRemember:\\n- For 0, use 'zero' not '0'\\n- The total number of tokens equals the sum of black and white tokens\\n- Always write numbers as words (e.g., 'two' not '2')\\n\\nFor example, this is correct: \\nQ: I have ten tokens, and five of them are black. How many of my tokens are white?\\nA: five of them are white\\n\\nWhereas this is incorrect:\\nQ: I have ten tokens, and five of them are black. How many of my tokens are white?\\nA: 5 of them are white\\n\\n\\n\\n# Basic cases - all/none\\n\\nQ: I have nine tokens, and none of them are black. How many of my tokens are white?\\nA: all of them are white\\n\\nQ: I have ten tokens, and some of them are black. How many of my tokens are white?\\nA: some of them are white\\n\\n\\n\\n# Cases with specific numbers\\n\\nQ: I have five tokens, and three of them are white. How many of my tokens are black?\\nA: two of them are black\\n\\nQ: I have six tokens, and five of them are black. How many of my tokens are white?\\nA: one of them are white\\n\\nQ: I have three tokens, and one of them are black. How many of my tokens are white?\\nA: two of them are white\\n\\n\\n\\n# Cases with 'some'\\n\\nQ: I have nine tokens, and all of them are black. How many of my tokens are white?\\nA: none of them are white\\n\\nQ: I have five tokens, and some of them are white. How many of my tokens are black?\\nA: some of them are black\\n\\n\\n\\n# Zero cases\\n\\nQ: I have seven tokens, and all of them are white. How many of my tokens are black?\\nA: zero of them are black\\n\\nQ: I have six tokens, and all of them are black. How many of my tokens are white?\\nA: zero of them are white\\n\\n\\n\\nQ: I have seven tokens, and none of them are white. How many of my tokens are black?\\nA: \",\n",
       "  'expected': 'all of them are black',\n",
       "  'generated': '7\\n\\n<eos>',\n",
       "  'correct_strict': False,\n",
       "  'correct_lenient': True,\n",
       "  'section_counts': {'basic': 2, 'numeric': 3, 'special': 2, 'zero': 2}}]"
      ]
     },
     "execution_count": 99,
     "metadata": {},
     "output_type": "execute_result"
    }
   ],
   "source": [
    "steering_results_hub['special_tests']\n"
   ]
  },
  {
   "cell_type": "code",
   "execution_count": 10,
   "metadata": {},
   "outputs": [
    {
     "data": {
      "application/vnd.jupyter.widget-view+json": {
       "model_id": "ecbc3bf703744901884ba6201ba40342",
       "version_major": 2,
       "version_minor": 0
      },
      "text/plain": [
       "Testing types:   0%|          | 0/2 [00:00<?, ?it/s]"
      ]
     },
     "metadata": {},
     "output_type": "display_data"
    },
    {
     "data": {
      "application/vnd.jupyter.widget-view+json": {
       "model_id": "bf0b7bd359ee4312a4daa7aef7ffa5e1",
       "version_major": 2,
       "version_minor": 0
      },
      "text/plain": [
       "Testing numeric:   0%|          | 0/50 [00:00<?, ?it/s]"
      ]
     },
     "metadata": {},
     "output_type": "display_data"
    },
    {
     "data": {
      "application/vnd.jupyter.widget-view+json": {
       "model_id": "563af4a409ec4665b1916c261dd2641b",
       "version_major": 2,
       "version_minor": 0
      },
      "text/plain": [
       "  0%|          | 0/6 [00:00<?, ?it/s]"
      ]
     },
     "metadata": {},
     "output_type": "display_data"
    },
    {
     "data": {
      "application/vnd.jupyter.widget-view+json": {
       "model_id": "f46a4cbf6f6945a68f3f5d30c8260b36",
       "version_major": 2,
       "version_minor": 0
      },
      "text/plain": [
       "  0%|          | 0/6 [00:00<?, ?it/s]"
      ]
     },
     "metadata": {},
     "output_type": "display_data"
    },
    {
     "data": {
      "application/vnd.jupyter.widget-view+json": {
       "model_id": "71565cdea50249138fd92ea0070140a4",
       "version_major": 2,
       "version_minor": 0
      },
      "text/plain": [
       "  0%|          | 0/6 [00:00<?, ?it/s]"
      ]
     },
     "metadata": {},
     "output_type": "display_data"
    },
    {
     "data": {
      "application/vnd.jupyter.widget-view+json": {
       "model_id": "c2a998c0d0b040ab96b0b722352fa6e1",
       "version_major": 2,
       "version_minor": 0
      },
      "text/plain": [
       "  0%|          | 0/6 [00:00<?, ?it/s]"
      ]
     },
     "metadata": {},
     "output_type": "display_data"
    },
    {
     "data": {
      "application/vnd.jupyter.widget-view+json": {
       "model_id": "feda437561f34f769ef0973a5b332bf9",
       "version_major": 2,
       "version_minor": 0
      },
      "text/plain": [
       "  0%|          | 0/6 [00:00<?, ?it/s]"
      ]
     },
     "metadata": {},
     "output_type": "display_data"
    },
    {
     "data": {
      "application/vnd.jupyter.widget-view+json": {
       "model_id": "dba6bd3fb2f442208f56aaf6cab0d648",
       "version_major": 2,
       "version_minor": 0
      },
      "text/plain": [
       "  0%|          | 0/6 [00:00<?, ?it/s]"
      ]
     },
     "metadata": {},
     "output_type": "display_data"
    },
    {
     "data": {
      "application/vnd.jupyter.widget-view+json": {
       "model_id": "91a2db40929e4036bd895469717e4eb6",
       "version_major": 2,
       "version_minor": 0
      },
      "text/plain": [
       "  0%|          | 0/6 [00:00<?, ?it/s]"
      ]
     },
     "metadata": {},
     "output_type": "display_data"
    },
    {
     "data": {
      "application/vnd.jupyter.widget-view+json": {
       "model_id": "af9ef7c274df4b10b567a4db76112a22",
       "version_major": 2,
       "version_minor": 0
      },
      "text/plain": [
       "  0%|          | 0/6 [00:00<?, ?it/s]"
      ]
     },
     "metadata": {},
     "output_type": "display_data"
    },
    {
     "data": {
      "application/vnd.jupyter.widget-view+json": {
       "model_id": "7f49a30378f44d849b2c169ab4832dc9",
       "version_major": 2,
       "version_minor": 0
      },
      "text/plain": [
       "  0%|          | 0/6 [00:00<?, ?it/s]"
      ]
     },
     "metadata": {},
     "output_type": "display_data"
    },
    {
     "data": {
      "application/vnd.jupyter.widget-view+json": {
       "model_id": "3b0c40e75a7b4536a47a6943aeebbacf",
       "version_major": 2,
       "version_minor": 0
      },
      "text/plain": [
       "  0%|          | 0/6 [00:00<?, ?it/s]"
      ]
     },
     "metadata": {},
     "output_type": "display_data"
    },
    {
     "data": {
      "application/vnd.jupyter.widget-view+json": {
       "model_id": "ee96d6fca26348e78edf866d26b51cd2",
       "version_major": 2,
       "version_minor": 0
      },
      "text/plain": [
       "  0%|          | 0/6 [00:00<?, ?it/s]"
      ]
     },
     "metadata": {},
     "output_type": "display_data"
    },
    {
     "data": {
      "application/vnd.jupyter.widget-view+json": {
       "model_id": "5b10d5b9295646ca90ca5ecfdf2eb285",
       "version_major": 2,
       "version_minor": 0
      },
      "text/plain": [
       "  0%|          | 0/6 [00:00<?, ?it/s]"
      ]
     },
     "metadata": {},
     "output_type": "display_data"
    },
    {
     "data": {
      "application/vnd.jupyter.widget-view+json": {
       "model_id": "4ba1d1201065432190a851173fef0446",
       "version_major": 2,
       "version_minor": 0
      },
      "text/plain": [
       "  0%|          | 0/6 [00:00<?, ?it/s]"
      ]
     },
     "metadata": {},
     "output_type": "display_data"
    },
    {
     "data": {
      "application/vnd.jupyter.widget-view+json": {
       "model_id": "55bc1f371699427281acfac6b64bddb3",
       "version_major": 2,
       "version_minor": 0
      },
      "text/plain": [
       "  0%|          | 0/6 [00:00<?, ?it/s]"
      ]
     },
     "metadata": {},
     "output_type": "display_data"
    },
    {
     "data": {
      "application/vnd.jupyter.widget-view+json": {
       "model_id": "9700e96c1a204cf5ba56cfd90e1c9c76",
       "version_major": 2,
       "version_minor": 0
      },
      "text/plain": [
       "  0%|          | 0/6 [00:00<?, ?it/s]"
      ]
     },
     "metadata": {},
     "output_type": "display_data"
    },
    {
     "data": {
      "application/vnd.jupyter.widget-view+json": {
       "model_id": "986ed60bb6344e0d92b3de8d5aa37a44",
       "version_major": 2,
       "version_minor": 0
      },
      "text/plain": [
       "  0%|          | 0/6 [00:00<?, ?it/s]"
      ]
     },
     "metadata": {},
     "output_type": "display_data"
    },
    {
     "data": {
      "application/vnd.jupyter.widget-view+json": {
       "model_id": "4b8e2ac919974e7bb68f47928a59a24a",
       "version_major": 2,
       "version_minor": 0
      },
      "text/plain": [
       "  0%|          | 0/6 [00:00<?, ?it/s]"
      ]
     },
     "metadata": {},
     "output_type": "display_data"
    },
    {
     "data": {
      "application/vnd.jupyter.widget-view+json": {
       "model_id": "5566b69e904340a39730cbadabda0d5f",
       "version_major": 2,
       "version_minor": 0
      },
      "text/plain": [
       "  0%|          | 0/6 [00:00<?, ?it/s]"
      ]
     },
     "metadata": {},
     "output_type": "display_data"
    },
    {
     "data": {
      "application/vnd.jupyter.widget-view+json": {
       "model_id": "94ce51ed0d774ec8a575919fcdb68930",
       "version_major": 2,
       "version_minor": 0
      },
      "text/plain": [
       "  0%|          | 0/6 [00:00<?, ?it/s]"
      ]
     },
     "metadata": {},
     "output_type": "display_data"
    },
    {
     "data": {
      "application/vnd.jupyter.widget-view+json": {
       "model_id": "f774ac31b7064800bc08751738b73e7e",
       "version_major": 2,
       "version_minor": 0
      },
      "text/plain": [
       "  0%|          | 0/6 [00:00<?, ?it/s]"
      ]
     },
     "metadata": {},
     "output_type": "display_data"
    },
    {
     "data": {
      "application/vnd.jupyter.widget-view+json": {
       "model_id": "6b2c60d56c8149ac813b5e4c6d437444",
       "version_major": 2,
       "version_minor": 0
      },
      "text/plain": [
       "  0%|          | 0/6 [00:00<?, ?it/s]"
      ]
     },
     "metadata": {},
     "output_type": "display_data"
    },
    {
     "data": {
      "application/vnd.jupyter.widget-view+json": {
       "model_id": "15debccedf8b4adaa2e2ae4f4f31786f",
       "version_major": 2,
       "version_minor": 0
      },
      "text/plain": [
       "  0%|          | 0/6 [00:00<?, ?it/s]"
      ]
     },
     "metadata": {},
     "output_type": "display_data"
    },
    {
     "data": {
      "application/vnd.jupyter.widget-view+json": {
       "model_id": "d37525d1b2ab448e91109fbfcdfda1d3",
       "version_major": 2,
       "version_minor": 0
      },
      "text/plain": [
       "  0%|          | 0/6 [00:00<?, ?it/s]"
      ]
     },
     "metadata": {},
     "output_type": "display_data"
    },
    {
     "data": {
      "application/vnd.jupyter.widget-view+json": {
       "model_id": "b6475f8962a345af9aa03990b0823137",
       "version_major": 2,
       "version_minor": 0
      },
      "text/plain": [
       "  0%|          | 0/6 [00:00<?, ?it/s]"
      ]
     },
     "metadata": {},
     "output_type": "display_data"
    },
    {
     "data": {
      "application/vnd.jupyter.widget-view+json": {
       "model_id": "f7db62080ed745359f76189de720e3c1",
       "version_major": 2,
       "version_minor": 0
      },
      "text/plain": [
       "  0%|          | 0/6 [00:00<?, ?it/s]"
      ]
     },
     "metadata": {},
     "output_type": "display_data"
    },
    {
     "data": {
      "application/vnd.jupyter.widget-view+json": {
       "model_id": "3c2b67b60e7446d1aec27c768c50c0af",
       "version_major": 2,
       "version_minor": 0
      },
      "text/plain": [
       "  0%|          | 0/6 [00:00<?, ?it/s]"
      ]
     },
     "metadata": {},
     "output_type": "display_data"
    },
    {
     "data": {
      "application/vnd.jupyter.widget-view+json": {
       "model_id": "eff66f79e8e04b7194d09a3a39f50df7",
       "version_major": 2,
       "version_minor": 0
      },
      "text/plain": [
       "  0%|          | 0/6 [00:00<?, ?it/s]"
      ]
     },
     "metadata": {},
     "output_type": "display_data"
    },
    {
     "data": {
      "application/vnd.jupyter.widget-view+json": {
       "model_id": "d78f388cb8194dd2bfa0c6a1d35ac5ee",
       "version_major": 2,
       "version_minor": 0
      },
      "text/plain": [
       "  0%|          | 0/6 [00:00<?, ?it/s]"
      ]
     },
     "metadata": {},
     "output_type": "display_data"
    },
    {
     "data": {
      "application/vnd.jupyter.widget-view+json": {
       "model_id": "615d0b828bf74f6994ae1a09568d2a8e",
       "version_major": 2,
       "version_minor": 0
      },
      "text/plain": [
       "  0%|          | 0/6 [00:00<?, ?it/s]"
      ]
     },
     "metadata": {},
     "output_type": "display_data"
    },
    {
     "data": {
      "application/vnd.jupyter.widget-view+json": {
       "model_id": "cfb61fb43ada47deb6b03cf460435838",
       "version_major": 2,
       "version_minor": 0
      },
      "text/plain": [
       "  0%|          | 0/6 [00:00<?, ?it/s]"
      ]
     },
     "metadata": {},
     "output_type": "display_data"
    },
    {
     "data": {
      "application/vnd.jupyter.widget-view+json": {
       "model_id": "e7e8d3c8417048eeb3798fa2ec159342",
       "version_major": 2,
       "version_minor": 0
      },
      "text/plain": [
       "  0%|          | 0/6 [00:00<?, ?it/s]"
      ]
     },
     "metadata": {},
     "output_type": "display_data"
    },
    {
     "data": {
      "application/vnd.jupyter.widget-view+json": {
       "model_id": "13aaebda12414b6d9269e24028a7c606",
       "version_major": 2,
       "version_minor": 0
      },
      "text/plain": [
       "  0%|          | 0/6 [00:00<?, ?it/s]"
      ]
     },
     "metadata": {},
     "output_type": "display_data"
    },
    {
     "data": {
      "application/vnd.jupyter.widget-view+json": {
       "model_id": "c0342eb3b5be429687a9ad55559c3353",
       "version_major": 2,
       "version_minor": 0
      },
      "text/plain": [
       "  0%|          | 0/6 [00:00<?, ?it/s]"
      ]
     },
     "metadata": {},
     "output_type": "display_data"
    },
    {
     "data": {
      "application/vnd.jupyter.widget-view+json": {
       "model_id": "96448cef3bb8460081d2acd921ab8309",
       "version_major": 2,
       "version_minor": 0
      },
      "text/plain": [
       "  0%|          | 0/6 [00:00<?, ?it/s]"
      ]
     },
     "metadata": {},
     "output_type": "display_data"
    },
    {
     "data": {
      "application/vnd.jupyter.widget-view+json": {
       "model_id": "ba878ce8b02447629f06bcf24e394742",
       "version_major": 2,
       "version_minor": 0
      },
      "text/plain": [
       "  0%|          | 0/6 [00:00<?, ?it/s]"
      ]
     },
     "metadata": {},
     "output_type": "display_data"
    },
    {
     "data": {
      "application/vnd.jupyter.widget-view+json": {
       "model_id": "cd5d7772ce8b4669995f56b0b6db391c",
       "version_major": 2,
       "version_minor": 0
      },
      "text/plain": [
       "  0%|          | 0/6 [00:00<?, ?it/s]"
      ]
     },
     "metadata": {},
     "output_type": "display_data"
    },
    {
     "data": {
      "application/vnd.jupyter.widget-view+json": {
       "model_id": "ef87cddad96840c183f7d856c2fdac59",
       "version_major": 2,
       "version_minor": 0
      },
      "text/plain": [
       "  0%|          | 0/6 [00:00<?, ?it/s]"
      ]
     },
     "metadata": {},
     "output_type": "display_data"
    },
    {
     "data": {
      "application/vnd.jupyter.widget-view+json": {
       "model_id": "af5cd8cbc3a94cf39c84ac0daf7dacbb",
       "version_major": 2,
       "version_minor": 0
      },
      "text/plain": [
       "  0%|          | 0/6 [00:00<?, ?it/s]"
      ]
     },
     "metadata": {},
     "output_type": "display_data"
    },
    {
     "data": {
      "application/vnd.jupyter.widget-view+json": {
       "model_id": "99137e2585594dd9b8877ae2f012067b",
       "version_major": 2,
       "version_minor": 0
      },
      "text/plain": [
       "  0%|          | 0/6 [00:00<?, ?it/s]"
      ]
     },
     "metadata": {},
     "output_type": "display_data"
    },
    {
     "data": {
      "application/vnd.jupyter.widget-view+json": {
       "model_id": "805b43f512b349de9809c5b152a53bbc",
       "version_major": 2,
       "version_minor": 0
      },
      "text/plain": [
       "  0%|          | 0/6 [00:00<?, ?it/s]"
      ]
     },
     "metadata": {},
     "output_type": "display_data"
    },
    {
     "data": {
      "application/vnd.jupyter.widget-view+json": {
       "model_id": "03100590a4594801a1755bc5a6e3ddd8",
       "version_major": 2,
       "version_minor": 0
      },
      "text/plain": [
       "  0%|          | 0/6 [00:00<?, ?it/s]"
      ]
     },
     "metadata": {},
     "output_type": "display_data"
    },
    {
     "data": {
      "application/vnd.jupyter.widget-view+json": {
       "model_id": "3cdde1b520624293807af12878732a28",
       "version_major": 2,
       "version_minor": 0
      },
      "text/plain": [
       "  0%|          | 0/6 [00:00<?, ?it/s]"
      ]
     },
     "metadata": {},
     "output_type": "display_data"
    },
    {
     "data": {
      "application/vnd.jupyter.widget-view+json": {
       "model_id": "3c97c7fd50374002b0bdb7e0af7990cb",
       "version_major": 2,
       "version_minor": 0
      },
      "text/plain": [
       "  0%|          | 0/6 [00:00<?, ?it/s]"
      ]
     },
     "metadata": {},
     "output_type": "display_data"
    },
    {
     "data": {
      "application/vnd.jupyter.widget-view+json": {
       "model_id": "59134d4aba4b449a8d418e59fa4e9e89",
       "version_major": 2,
       "version_minor": 0
      },
      "text/plain": [
       "  0%|          | 0/6 [00:00<?, ?it/s]"
      ]
     },
     "metadata": {},
     "output_type": "display_data"
    },
    {
     "data": {
      "application/vnd.jupyter.widget-view+json": {
       "model_id": "a5c313b0292f4c5abb7d105e69aa07a4",
       "version_major": 2,
       "version_minor": 0
      },
      "text/plain": [
       "  0%|          | 0/6 [00:00<?, ?it/s]"
      ]
     },
     "metadata": {},
     "output_type": "display_data"
    },
    {
     "data": {
      "application/vnd.jupyter.widget-view+json": {
       "model_id": "8bc4e1b1b36a48ce830536ce03a1fb5e",
       "version_major": 2,
       "version_minor": 0
      },
      "text/plain": [
       "  0%|          | 0/6 [00:00<?, ?it/s]"
      ]
     },
     "metadata": {},
     "output_type": "display_data"
    },
    {
     "data": {
      "application/vnd.jupyter.widget-view+json": {
       "model_id": "19f7c21341484f33990a1f450499590d",
       "version_major": 2,
       "version_minor": 0
      },
      "text/plain": [
       "  0%|          | 0/6 [00:00<?, ?it/s]"
      ]
     },
     "metadata": {},
     "output_type": "display_data"
    },
    {
     "data": {
      "application/vnd.jupyter.widget-view+json": {
       "model_id": "226508b126384a4098d121a155b66c3a",
       "version_major": 2,
       "version_minor": 0
      },
      "text/plain": [
       "  0%|          | 0/6 [00:00<?, ?it/s]"
      ]
     },
     "metadata": {},
     "output_type": "display_data"
    },
    {
     "data": {
      "application/vnd.jupyter.widget-view+json": {
       "model_id": "fa6b1970a2a24dd28955619f402fef4b",
       "version_major": 2,
       "version_minor": 0
      },
      "text/plain": [
       "  0%|          | 0/6 [00:00<?, ?it/s]"
      ]
     },
     "metadata": {},
     "output_type": "display_data"
    },
    {
     "data": {
      "application/vnd.jupyter.widget-view+json": {
       "model_id": "10be7d15f85a4c109e14298968594274",
       "version_major": 2,
       "version_minor": 0
      },
      "text/plain": [
       "  0%|          | 0/6 [00:00<?, ?it/s]"
      ]
     },
     "metadata": {},
     "output_type": "display_data"
    },
    {
     "data": {
      "application/vnd.jupyter.widget-view+json": {
       "model_id": "76a147957abf45deb8313440300d6f77",
       "version_major": 2,
       "version_minor": 0
      },
      "text/plain": [
       "Testing special:   0%|          | 0/50 [00:00<?, ?it/s]"
      ]
     },
     "metadata": {},
     "output_type": "display_data"
    },
    {
     "data": {
      "application/vnd.jupyter.widget-view+json": {
       "model_id": "95ee29bb6c584106afa0fc6f3ecf5986",
       "version_major": 2,
       "version_minor": 0
      },
      "text/plain": [
       "  0%|          | 0/6 [00:00<?, ?it/s]"
      ]
     },
     "metadata": {},
     "output_type": "display_data"
    },
    {
     "data": {
      "application/vnd.jupyter.widget-view+json": {
       "model_id": "2db9d88d4bef40cf8bcff12ce3ec42d0",
       "version_major": 2,
       "version_minor": 0
      },
      "text/plain": [
       "  0%|          | 0/6 [00:00<?, ?it/s]"
      ]
     },
     "metadata": {},
     "output_type": "display_data"
    },
    {
     "data": {
      "application/vnd.jupyter.widget-view+json": {
       "model_id": "bbb2152aeef54b11bd6dd6eaf8d65a63",
       "version_major": 2,
       "version_minor": 0
      },
      "text/plain": [
       "  0%|          | 0/6 [00:00<?, ?it/s]"
      ]
     },
     "metadata": {},
     "output_type": "display_data"
    },
    {
     "data": {
      "application/vnd.jupyter.widget-view+json": {
       "model_id": "580e3386fc1c4eab93aade4349b7c856",
       "version_major": 2,
       "version_minor": 0
      },
      "text/plain": [
       "  0%|          | 0/6 [00:00<?, ?it/s]"
      ]
     },
     "metadata": {},
     "output_type": "display_data"
    },
    {
     "data": {
      "application/vnd.jupyter.widget-view+json": {
       "model_id": "718fc0702e6748ef869f17437c5d5241",
       "version_major": 2,
       "version_minor": 0
      },
      "text/plain": [
       "  0%|          | 0/6 [00:00<?, ?it/s]"
      ]
     },
     "metadata": {},
     "output_type": "display_data"
    },
    {
     "data": {
      "application/vnd.jupyter.widget-view+json": {
       "model_id": "4b609faab15d4562b98010e43894d693",
       "version_major": 2,
       "version_minor": 0
      },
      "text/plain": [
       "  0%|          | 0/6 [00:00<?, ?it/s]"
      ]
     },
     "metadata": {},
     "output_type": "display_data"
    },
    {
     "data": {
      "application/vnd.jupyter.widget-view+json": {
       "model_id": "3028e07c91be4b5cbbcc431e5c9bb2b7",
       "version_major": 2,
       "version_minor": 0
      },
      "text/plain": [
       "  0%|          | 0/6 [00:00<?, ?it/s]"
      ]
     },
     "metadata": {},
     "output_type": "display_data"
    },
    {
     "data": {
      "application/vnd.jupyter.widget-view+json": {
       "model_id": "8ff1a122ba0544bca7a2e80ec596ed80",
       "version_major": 2,
       "version_minor": 0
      },
      "text/plain": [
       "  0%|          | 0/6 [00:00<?, ?it/s]"
      ]
     },
     "metadata": {},
     "output_type": "display_data"
    },
    {
     "data": {
      "application/vnd.jupyter.widget-view+json": {
       "model_id": "b0f76be4a8ff443bb58c4d681d060a4e",
       "version_major": 2,
       "version_minor": 0
      },
      "text/plain": [
       "  0%|          | 0/6 [00:00<?, ?it/s]"
      ]
     },
     "metadata": {},
     "output_type": "display_data"
    },
    {
     "data": {
      "application/vnd.jupyter.widget-view+json": {
       "model_id": "11b04d16825240cfbcdecf18b2303feb",
       "version_major": 2,
       "version_minor": 0
      },
      "text/plain": [
       "  0%|          | 0/6 [00:00<?, ?it/s]"
      ]
     },
     "metadata": {},
     "output_type": "display_data"
    },
    {
     "data": {
      "application/vnd.jupyter.widget-view+json": {
       "model_id": "e28ed9f8a64e424e9a8a9de607b09138",
       "version_major": 2,
       "version_minor": 0
      },
      "text/plain": [
       "  0%|          | 0/6 [00:00<?, ?it/s]"
      ]
     },
     "metadata": {},
     "output_type": "display_data"
    },
    {
     "data": {
      "application/vnd.jupyter.widget-view+json": {
       "model_id": "ec7807a6dad645c78ab03ae798f7a112",
       "version_major": 2,
       "version_minor": 0
      },
      "text/plain": [
       "  0%|          | 0/6 [00:00<?, ?it/s]"
      ]
     },
     "metadata": {},
     "output_type": "display_data"
    },
    {
     "data": {
      "application/vnd.jupyter.widget-view+json": {
       "model_id": "c72a10dd2ac2494da1f56ddf317a7bcc",
       "version_major": 2,
       "version_minor": 0
      },
      "text/plain": [
       "  0%|          | 0/6 [00:00<?, ?it/s]"
      ]
     },
     "metadata": {},
     "output_type": "display_data"
    },
    {
     "data": {
      "application/vnd.jupyter.widget-view+json": {
       "model_id": "154dfe0295d2431c8488a31c875fd948",
       "version_major": 2,
       "version_minor": 0
      },
      "text/plain": [
       "  0%|          | 0/6 [00:00<?, ?it/s]"
      ]
     },
     "metadata": {},
     "output_type": "display_data"
    },
    {
     "data": {
      "application/vnd.jupyter.widget-view+json": {
       "model_id": "b46b20bcd4f74ef896a294eb693cd500",
       "version_major": 2,
       "version_minor": 0
      },
      "text/plain": [
       "  0%|          | 0/6 [00:00<?, ?it/s]"
      ]
     },
     "metadata": {},
     "output_type": "display_data"
    },
    {
     "data": {
      "application/vnd.jupyter.widget-view+json": {
       "model_id": "9db13f96112b4d8fbbad7b653930ea18",
       "version_major": 2,
       "version_minor": 0
      },
      "text/plain": [
       "  0%|          | 0/6 [00:00<?, ?it/s]"
      ]
     },
     "metadata": {},
     "output_type": "display_data"
    },
    {
     "data": {
      "application/vnd.jupyter.widget-view+json": {
       "model_id": "ae8e78ff934d414cbdba67d6e082083c",
       "version_major": 2,
       "version_minor": 0
      },
      "text/plain": [
       "  0%|          | 0/6 [00:00<?, ?it/s]"
      ]
     },
     "metadata": {},
     "output_type": "display_data"
    },
    {
     "data": {
      "application/vnd.jupyter.widget-view+json": {
       "model_id": "457e00a2a36a446bb2e6ec29f3dafb72",
       "version_major": 2,
       "version_minor": 0
      },
      "text/plain": [
       "  0%|          | 0/6 [00:00<?, ?it/s]"
      ]
     },
     "metadata": {},
     "output_type": "display_data"
    },
    {
     "data": {
      "application/vnd.jupyter.widget-view+json": {
       "model_id": "0a1375c4880746688e6c31489805eff4",
       "version_major": 2,
       "version_minor": 0
      },
      "text/plain": [
       "  0%|          | 0/6 [00:00<?, ?it/s]"
      ]
     },
     "metadata": {},
     "output_type": "display_data"
    },
    {
     "data": {
      "application/vnd.jupyter.widget-view+json": {
       "model_id": "84913381eab04c3dbadac981fbb9196a",
       "version_major": 2,
       "version_minor": 0
      },
      "text/plain": [
       "  0%|          | 0/6 [00:00<?, ?it/s]"
      ]
     },
     "metadata": {},
     "output_type": "display_data"
    },
    {
     "data": {
      "application/vnd.jupyter.widget-view+json": {
       "model_id": "91bfd30b1def4cdca3f565d7dd691413",
       "version_major": 2,
       "version_minor": 0
      },
      "text/plain": [
       "  0%|          | 0/6 [00:00<?, ?it/s]"
      ]
     },
     "metadata": {},
     "output_type": "display_data"
    },
    {
     "data": {
      "application/vnd.jupyter.widget-view+json": {
       "model_id": "6a2351fd83bb45a38bdbe70e44490d54",
       "version_major": 2,
       "version_minor": 0
      },
      "text/plain": [
       "  0%|          | 0/6 [00:00<?, ?it/s]"
      ]
     },
     "metadata": {},
     "output_type": "display_data"
    },
    {
     "data": {
      "application/vnd.jupyter.widget-view+json": {
       "model_id": "50c7ca44cb6f4b4b8437778be7aed927",
       "version_major": 2,
       "version_minor": 0
      },
      "text/plain": [
       "  0%|          | 0/6 [00:00<?, ?it/s]"
      ]
     },
     "metadata": {},
     "output_type": "display_data"
    },
    {
     "data": {
      "application/vnd.jupyter.widget-view+json": {
       "model_id": "b048bf323f7d481c9f27bd306464dcbc",
       "version_major": 2,
       "version_minor": 0
      },
      "text/plain": [
       "  0%|          | 0/6 [00:00<?, ?it/s]"
      ]
     },
     "metadata": {},
     "output_type": "display_data"
    },
    {
     "data": {
      "application/vnd.jupyter.widget-view+json": {
       "model_id": "a7c209ebf7f846f883b019ca0667a8c1",
       "version_major": 2,
       "version_minor": 0
      },
      "text/plain": [
       "  0%|          | 0/6 [00:00<?, ?it/s]"
      ]
     },
     "metadata": {},
     "output_type": "display_data"
    },
    {
     "data": {
      "application/vnd.jupyter.widget-view+json": {
       "model_id": "15a1919915ba46b58390673f92372db3",
       "version_major": 2,
       "version_minor": 0
      },
      "text/plain": [
       "  0%|          | 0/6 [00:00<?, ?it/s]"
      ]
     },
     "metadata": {},
     "output_type": "display_data"
    },
    {
     "data": {
      "application/vnd.jupyter.widget-view+json": {
       "model_id": "a785b0cd252f4a1db9c66c524606bab4",
       "version_major": 2,
       "version_minor": 0
      },
      "text/plain": [
       "  0%|          | 0/6 [00:00<?, ?it/s]"
      ]
     },
     "metadata": {},
     "output_type": "display_data"
    },
    {
     "data": {
      "application/vnd.jupyter.widget-view+json": {
       "model_id": "4012b79c5a5f48449b4d20a53fbec86f",
       "version_major": 2,
       "version_minor": 0
      },
      "text/plain": [
       "  0%|          | 0/6 [00:00<?, ?it/s]"
      ]
     },
     "metadata": {},
     "output_type": "display_data"
    },
    {
     "data": {
      "application/vnd.jupyter.widget-view+json": {
       "model_id": "41d36ecfc1d84986b5bdf7c9355accea",
       "version_major": 2,
       "version_minor": 0
      },
      "text/plain": [
       "  0%|          | 0/6 [00:00<?, ?it/s]"
      ]
     },
     "metadata": {},
     "output_type": "display_data"
    },
    {
     "data": {
      "application/vnd.jupyter.widget-view+json": {
       "model_id": "d96bb03ec62b4cc7a78a863a6eb3537a",
       "version_major": 2,
       "version_minor": 0
      },
      "text/plain": [
       "  0%|          | 0/6 [00:00<?, ?it/s]"
      ]
     },
     "metadata": {},
     "output_type": "display_data"
    },
    {
     "data": {
      "application/vnd.jupyter.widget-view+json": {
       "model_id": "7e8e153757164c92b5048df5b8199121",
       "version_major": 2,
       "version_minor": 0
      },
      "text/plain": [
       "  0%|          | 0/6 [00:00<?, ?it/s]"
      ]
     },
     "metadata": {},
     "output_type": "display_data"
    },
    {
     "data": {
      "application/vnd.jupyter.widget-view+json": {
       "model_id": "3b171282ec9041aeadd0fedc8dd3b200",
       "version_major": 2,
       "version_minor": 0
      },
      "text/plain": [
       "  0%|          | 0/6 [00:00<?, ?it/s]"
      ]
     },
     "metadata": {},
     "output_type": "display_data"
    },
    {
     "data": {
      "application/vnd.jupyter.widget-view+json": {
       "model_id": "47ea60f370bb4dacb7911757de6e5453",
       "version_major": 2,
       "version_minor": 0
      },
      "text/plain": [
       "  0%|          | 0/6 [00:00<?, ?it/s]"
      ]
     },
     "metadata": {},
     "output_type": "display_data"
    },
    {
     "data": {
      "application/vnd.jupyter.widget-view+json": {
       "model_id": "ed80a9180d8d423eb3bdd20c4e6e85e9",
       "version_major": 2,
       "version_minor": 0
      },
      "text/plain": [
       "  0%|          | 0/6 [00:00<?, ?it/s]"
      ]
     },
     "metadata": {},
     "output_type": "display_data"
    },
    {
     "data": {
      "application/vnd.jupyter.widget-view+json": {
       "model_id": "16bb61a7e92e4fb9a0055cc6e3a9f4fb",
       "version_major": 2,
       "version_minor": 0
      },
      "text/plain": [
       "  0%|          | 0/6 [00:00<?, ?it/s]"
      ]
     },
     "metadata": {},
     "output_type": "display_data"
    },
    {
     "data": {
      "application/vnd.jupyter.widget-view+json": {
       "model_id": "2dba3e1b43be4dd197549ef09497ad22",
       "version_major": 2,
       "version_minor": 0
      },
      "text/plain": [
       "  0%|          | 0/6 [00:00<?, ?it/s]"
      ]
     },
     "metadata": {},
     "output_type": "display_data"
    },
    {
     "data": {
      "application/vnd.jupyter.widget-view+json": {
       "model_id": "42c87bd8ef6f4d8d82c7907720ec952e",
       "version_major": 2,
       "version_minor": 0
      },
      "text/plain": [
       "  0%|          | 0/6 [00:00<?, ?it/s]"
      ]
     },
     "metadata": {},
     "output_type": "display_data"
    },
    {
     "data": {
      "application/vnd.jupyter.widget-view+json": {
       "model_id": "8d00f385b3e245a5b9109b8c1925d68d",
       "version_major": 2,
       "version_minor": 0
      },
      "text/plain": [
       "  0%|          | 0/6 [00:00<?, ?it/s]"
      ]
     },
     "metadata": {},
     "output_type": "display_data"
    },
    {
     "data": {
      "application/vnd.jupyter.widget-view+json": {
       "model_id": "8974bfc97d6d4a20a4912c56a34eec42",
       "version_major": 2,
       "version_minor": 0
      },
      "text/plain": [
       "  0%|          | 0/6 [00:00<?, ?it/s]"
      ]
     },
     "metadata": {},
     "output_type": "display_data"
    },
    {
     "data": {
      "application/vnd.jupyter.widget-view+json": {
       "model_id": "2fcab09ee5ac4f61a75565f4988d4d48",
       "version_major": 2,
       "version_minor": 0
      },
      "text/plain": [
       "  0%|          | 0/6 [00:00<?, ?it/s]"
      ]
     },
     "metadata": {},
     "output_type": "display_data"
    },
    {
     "data": {
      "application/vnd.jupyter.widget-view+json": {
       "model_id": "8eca802b30154db49b85af1eee1a29f4",
       "version_major": 2,
       "version_minor": 0
      },
      "text/plain": [
       "  0%|          | 0/6 [00:00<?, ?it/s]"
      ]
     },
     "metadata": {},
     "output_type": "display_data"
    },
    {
     "data": {
      "application/vnd.jupyter.widget-view+json": {
       "model_id": "731598c9c0994b208c0ca841d7d69cea",
       "version_major": 2,
       "version_minor": 0
      },
      "text/plain": [
       "  0%|          | 0/6 [00:00<?, ?it/s]"
      ]
     },
     "metadata": {},
     "output_type": "display_data"
    },
    {
     "data": {
      "application/vnd.jupyter.widget-view+json": {
       "model_id": "74dd7914dfcf44a49f5057d866a78b54",
       "version_major": 2,
       "version_minor": 0
      },
      "text/plain": [
       "  0%|          | 0/6 [00:00<?, ?it/s]"
      ]
     },
     "metadata": {},
     "output_type": "display_data"
    },
    {
     "data": {
      "application/vnd.jupyter.widget-view+json": {
       "model_id": "950d9b94f49d47cc9da8d329a088b6da",
       "version_major": 2,
       "version_minor": 0
      },
      "text/plain": [
       "  0%|          | 0/6 [00:00<?, ?it/s]"
      ]
     },
     "metadata": {},
     "output_type": "display_data"
    },
    {
     "data": {
      "application/vnd.jupyter.widget-view+json": {
       "model_id": "408b27515b054d65a4ff1da922c706f3",
       "version_major": 2,
       "version_minor": 0
      },
      "text/plain": [
       "  0%|          | 0/6 [00:00<?, ?it/s]"
      ]
     },
     "metadata": {},
     "output_type": "display_data"
    },
    {
     "data": {
      "application/vnd.jupyter.widget-view+json": {
       "model_id": "52be471909ba4691b18935f2636de4d9",
       "version_major": 2,
       "version_minor": 0
      },
      "text/plain": [
       "  0%|          | 0/6 [00:00<?, ?it/s]"
      ]
     },
     "metadata": {},
     "output_type": "display_data"
    },
    {
     "data": {
      "application/vnd.jupyter.widget-view+json": {
       "model_id": "bbcf5b226af54ba8b7f2d64c364dc1cd",
       "version_major": 2,
       "version_minor": 0
      },
      "text/plain": [
       "  0%|          | 0/6 [00:00<?, ?it/s]"
      ]
     },
     "metadata": {},
     "output_type": "display_data"
    },
    {
     "data": {
      "application/vnd.jupyter.widget-view+json": {
       "model_id": "4ff06c78a8e448e9883fadaa54ee5dcf",
       "version_major": 2,
       "version_minor": 0
      },
      "text/plain": [
       "  0%|          | 0/6 [00:00<?, ?it/s]"
      ]
     },
     "metadata": {},
     "output_type": "display_data"
    },
    {
     "data": {
      "application/vnd.jupyter.widget-view+json": {
       "model_id": "c0852c96541e48038eb20a9090a736a7",
       "version_major": 2,
       "version_minor": 0
      },
      "text/plain": [
       "  0%|          | 0/6 [00:00<?, ?it/s]"
      ]
     },
     "metadata": {},
     "output_type": "display_data"
    },
    {
     "data": {
      "application/vnd.jupyter.widget-view+json": {
       "model_id": "cc8d6214ca1749559902a47204e7a0f6",
       "version_major": 2,
       "version_minor": 0
      },
      "text/plain": [
       "  0%|          | 0/6 [00:00<?, ?it/s]"
      ]
     },
     "metadata": {},
     "output_type": "display_data"
    }
   ],
   "source": [
    "# Test without intervention\n",
    "normal_results = evaluate_model_with_intervention(model, sae, intervention_type=\"none\", section_counts= {\"basic\": 20, \"numeric\": 20, \"special\": 20, \"zero\": 0}, n_numeric=50, n_special=50)\n",
    "\n",
    "# # Test with steering\n",
    "# steered_results = evaluate_model_with_intervention(\n",
    "#     model,\n",
    "#     sae,\n",
    "#     feature_ids=12257,\n",
    "#     intervention_type=\"steering\",\n",
    "#     steering_strength=1.0,\n",
    "# )"
   ]
  },
  {
   "cell_type": "code",
   "execution_count": 11,
   "metadata": {},
   "outputs": [
    {
     "name": "stdout",
     "output_type": "stream",
     "text": [
      "0.02\n",
      "0.02\n",
      "0.14\n",
      "0.14\n"
     ]
    }
   ],
   "source": [
    "print(normal_results[\"numeric_accuracy_strict\"])\n",
    "print(normal_results[\"numeric_accuracy_lenient\"])\n",
    "print(normal_results[\"special_accuracy_strict\"])\n",
    "print(normal_results[\"special_accuracy_lenient\"])\n",
    "# Test with ablation"
   ]
  },
  {
   "cell_type": "code",
   "execution_count": 12,
   "metadata": {},
   "outputs": [
    {
     "data": {
      "text/plain": [
       "[{'prompt': \"Tokens can be either black or white. Answer Y for yes and N for no:\\n\\nRemember:\\n- Only use Y or N to answer\\n- 'some' means at least one but not all\\n- 'one' means exactly one\\n- 'all' means every single token\\n\\n\\n\\n# Basic cases - using 'all'\\n\\nQ: I have three tokens, and all of them are black. Are one of them black?\\nA: Y\\n\\nQ: I have ten tokens, and all of them are white. Are all of them black?\\nA: N\\n\\nQ: I have five tokens, and all of them are white. Are all of them black?\\nA: N\\n\\nQ: I have three tokens, and all of them are black. Are some of them white?\\nA: N\\n\\nQ: I have one tokens, and all of them are black. Are one of them black?\\nA: Y\\n\\nQ: I have one tokens, and all of them are black. Are all of them black?\\nA: Y\\n\\nQ: I have eight tokens, and all of them are black. Are some of them white?\\nA: N\\n\\nQ: I have ten tokens, and all of them are white. Are some of them white?\\nA: Y\\n\\nQ: I have nine tokens, and all of them are black. Are all of them black?\\nA: Y\\n\\nQ: I have eight tokens, and all of them are black. Are all of them white?\\nA: N\\n\\nQ: I have ten tokens, and all of them are black. Are all of them white?\\nA: N\\n\\nQ: I have one tokens, and all of them are white. Are some of them black?\\nA: N\\n\\nQ: I have two tokens, and all of them are black. Are some of them white?\\nA: N\\n\\nQ: I have three tokens, and all of them are white. Are all of them black?\\nA: N\\n\\nQ: I have four tokens, and all of them are white. Are some of them white?\\nA: Y\\n\\nQ: I have nine tokens, and all of them are black. Are one of them black?\\nA: Y\\n\\nQ: I have nine tokens, and all of them are white. Are some of them black?\\nA: N\\n\\nQ: I have five tokens, and all of them are white. Are some of them black?\\nA: N\\n\\nQ: I have three tokens, and all of them are white. Are one of them white?\\nA: Y\\n\\nQ: I have six tokens, and all of them are white. Are all of them white?\\nA: Y\\n\\n\\n\\n# Cases with 'one'\\n\\nQ: I have six tokens, and one of them are black. Are one of them white?\\nA: Y\\n\\nQ: I have nine tokens, and one of them are black. Are one of them white?\\nA: Y\\n\\nQ: I have four tokens, and one of them are white. Are one of them black?\\nA: Y\\n\\nQ: I have ten tokens, and one of them are black. Are one of them white?\\nA: Y\\n\\nQ: I have three tokens, and one of them are black. Are some of them white?\\nA: Y\\n\\nQ: I have one tokens, and one of them are white. Are one of them black?\\nA: N\\n\\nQ: I have eight tokens, and one of them are white. Are some of them black?\\nA: Y\\n\\nQ: I have one tokens, and one of them are white. Are one of them black?\\nA: N\\n\\nQ: I have four tokens, and one of them are black. Are some of them white?\\nA: Y\\n\\nQ: I have three tokens, and one of them are white. Are one of them black?\\nA: Y\\n\\nQ: I have two tokens, and one of them are white. Are one of them black?\\nA: Y\\n\\nQ: I have eight tokens, and one of them are black. Are some of them white?\\nA: Y\\n\\nQ: I have seven tokens, and one of them are black. Are one of them white?\\nA: Y\\n\\nQ: I have three tokens, and one of them are black. Are some of them white?\\nA: Y\\n\\nQ: I have five tokens, and one of them are white. Are some of them black?\\nA: Y\\n\\nQ: I have ten tokens, and one of them are black. Are some of them white?\\nA: Y\\n\\nQ: I have three tokens, and one of them are white. Are some of them black?\\nA: Y\\n\\nQ: I have one tokens, and one of them are white. Are some of them black?\\nA: N\\n\\nQ: I have nine tokens, and one of them are white. Are some of them black?\\nA: Y\\n\\nQ: I have six tokens, and one of them are white. Are one of them black?\\nA: Y\\n\\n\\n\\n# Cases with 'some'\\n\\nQ: I have nine tokens, and some of them are black. Are some of them white?\\nA: Y\\n\\nQ: I have ten tokens, and some of them are white. Are one of them black?\\nA: Y\\n\\nQ: I have one tokens, and some of them are black. Are one of them white?\\nA: N\\n\\nQ: I have seven tokens, and some of them are white. Are one of them black?\\nA: Y\\n\\nQ: I have three tokens, and some of them are black. Are one of them white?\\nA: Y\\n\\nQ: I have five tokens, and some of them are black. Are some of them white?\\nA: Y\\n\\nQ: I have eight tokens, and some of them are black. Are one of them white?\\nA: Y\\n\\nQ: I have five tokens, and some of them are white. Are one of them black?\\nA: Y\\n\\nQ: I have ten tokens, and some of them are black. Are some of them white?\\nA: Y\\n\\nQ: I have three tokens, and some of them are white. Are one of them black?\\nA: Y\\n\\nQ: I have six tokens, and some of them are white. Are all of them black?\\nA: N\\n\\nQ: I have three tokens, and some of them are black. Are all of them white?\\nA: N\\n\\nQ: I have seven tokens, and some of them are white. Are one of them black?\\nA: Y\\n\\nQ: I have seven tokens, and some of them are black. Are some of them white?\\nA: Y\\n\\nQ: I have six tokens, and some of them are white. Are all of them black?\\nA: N\\n\\nQ: I have one tokens, and some of them are black. Are some of them white?\\nA: N\\n\\nQ: I have nine tokens, and some of them are white. Are one of them black?\\nA: Y\\n\\nQ: I have five tokens, and some of them are white. Are some of them black?\\nA: Y\\n\\nQ: I have four tokens, and some of them are white. Are one of them black?\\nA: Y\\n\\nQ: I have two tokens, and some of them are white. Are all of them black?\\nA: N\\n\\n\\n\\nQ: I have two tokens, and one of them are white. Are some of them black?\\nA: \",\n",
       "  'expected': 'Y',\n",
       "  'generated': '1\\n\\nQ: I have',\n",
       "  'correct_strict': False,\n",
       "  'correct_lenient': False,\n",
       "  'section_counts': {'basic': 20, 'numeric': 20, 'special': 20, 'zero': 0}},\n",
       " {'prompt': \"Tokens can be either black or white. Answer Y for yes and N for no:\\n\\nRemember:\\n- Only use Y or N to answer\\n- 'some' means at least one but not all\\n- 'one' means exactly one\\n- 'all' means every single token\\n\\n\\n\\n# Basic cases - using 'all'\\n\\nQ: I have six tokens, and all of them are black. Are one of them black?\\nA: Y\\n\\nQ: I have six tokens, and all of them are black. Are all of them white?\\nA: N\\n\\nQ: I have three tokens, and all of them are white. Are all of them white?\\nA: Y\\n\\nQ: I have five tokens, and all of them are black. Are some of them white?\\nA: N\\n\\nQ: I have six tokens, and all of them are white. Are some of them black?\\nA: N\\n\\nQ: I have nine tokens, and all of them are white. Are one of them white?\\nA: Y\\n\\nQ: I have six tokens, and all of them are white. Are one of them white?\\nA: Y\\n\\nQ: I have ten tokens, and all of them are white. Are one of them white?\\nA: Y\\n\\nQ: I have two tokens, and all of them are white. Are some of them black?\\nA: N\\n\\nQ: I have ten tokens, and all of them are black. Are all of them white?\\nA: N\\n\\nQ: I have nine tokens, and all of them are white. Are one of them white?\\nA: Y\\n\\nQ: I have six tokens, and all of them are white. Are all of them black?\\nA: N\\n\\nQ: I have nine tokens, and all of them are white. Are some of them white?\\nA: Y\\n\\nQ: I have eight tokens, and all of them are white. Are some of them black?\\nA: N\\n\\nQ: I have one tokens, and all of them are white. Are all of them black?\\nA: N\\n\\nQ: I have ten tokens, and all of them are black. Are one of them black?\\nA: Y\\n\\nQ: I have three tokens, and all of them are black. Are some of them white?\\nA: N\\n\\nQ: I have seven tokens, and all of them are white. Are some of them black?\\nA: N\\n\\nQ: I have three tokens, and all of them are black. Are one of them white?\\nA: N\\n\\nQ: I have four tokens, and all of them are black. Are some of them white?\\nA: N\\n\\n\\n\\n# Cases with 'one'\\n\\nQ: I have two tokens, and one of them are white. Are one of them black?\\nA: Y\\n\\nQ: I have four tokens, and one of them are white. Are one of them black?\\nA: Y\\n\\nQ: I have four tokens, and one of them are black. Are some of them white?\\nA: Y\\n\\nQ: I have ten tokens, and one of them are black. Are one of them white?\\nA: Y\\n\\nQ: I have one tokens, and one of them are black. Are some of them white?\\nA: N\\n\\nQ: I have five tokens, and one of them are white. Are some of them black?\\nA: Y\\n\\nQ: I have four tokens, and one of them are white. Are some of them black?\\nA: Y\\n\\nQ: I have five tokens, and one of them are white. Are some of them black?\\nA: Y\\n\\nQ: I have two tokens, and one of them are black. Are one of them white?\\nA: Y\\n\\nQ: I have three tokens, and one of them are white. Are one of them black?\\nA: Y\\n\\nQ: I have three tokens, and one of them are white. Are some of them black?\\nA: Y\\n\\nQ: I have one tokens, and one of them are black. Are one of them white?\\nA: N\\n\\nQ: I have three tokens, and one of them are black. Are one of them white?\\nA: Y\\n\\nQ: I have seven tokens, and one of them are white. Are some of them black?\\nA: Y\\n\\nQ: I have six tokens, and one of them are black. Are some of them white?\\nA: Y\\n\\nQ: I have nine tokens, and one of them are black. Are some of them white?\\nA: Y\\n\\nQ: I have nine tokens, and one of them are white. Are one of them black?\\nA: Y\\n\\nQ: I have ten tokens, and one of them are white. Are some of them black?\\nA: Y\\n\\nQ: I have four tokens, and one of them are white. Are one of them black?\\nA: Y\\n\\nQ: I have six tokens, and one of them are black. Are one of them white?\\nA: Y\\n\\n\\n\\n# Cases with 'some'\\n\\nQ: I have one tokens, and some of them are black. Are all of them white?\\nA: N\\n\\nQ: I have six tokens, and some of them are black. Are all of them white?\\nA: N\\n\\nQ: I have one tokens, and some of them are white. Are all of them black?\\nA: N\\n\\nQ: I have eight tokens, and some of them are white. Are one of them black?\\nA: Y\\n\\nQ: I have four tokens, and some of them are black. Are all of them white?\\nA: N\\n\\nQ: I have eight tokens, and some of them are black. Are all of them white?\\nA: N\\n\\nQ: I have two tokens, and some of them are white. Are all of them black?\\nA: N\\n\\nQ: I have six tokens, and some of them are white. Are some of them black?\\nA: Y\\n\\nQ: I have seven tokens, and some of them are white. Are all of them black?\\nA: N\\n\\nQ: I have nine tokens, and some of them are black. Are some of them white?\\nA: Y\\n\\nQ: I have ten tokens, and some of them are black. Are one of them white?\\nA: Y\\n\\nQ: I have six tokens, and some of them are white. Are some of them black?\\nA: Y\\n\\nQ: I have eight tokens, and some of them are white. Are one of them black?\\nA: Y\\n\\nQ: I have two tokens, and some of them are black. Are all of them white?\\nA: N\\n\\nQ: I have seven tokens, and some of them are black. Are one of them white?\\nA: Y\\n\\nQ: I have one tokens, and some of them are white. Are all of them black?\\nA: N\\n\\nQ: I have four tokens, and some of them are black. Are one of them white?\\nA: Y\\n\\nQ: I have one tokens, and some of them are white. Are one of them black?\\nA: N\\n\\nQ: I have ten tokens, and some of them are black. Are one of them white?\\nA: Y\\n\\nQ: I have three tokens, and some of them are white. Are all of them black?\\nA: N\\n\\n\\n\\nQ: I have eight tokens, and one of them are black. Are one of them white?\\nA: \",\n",
       "  'expected': 'Y',\n",
       "  'generated': '1\\n\\nQ: I have',\n",
       "  'correct_strict': False,\n",
       "  'correct_lenient': False,\n",
       "  'section_counts': {'basic': 20, 'numeric': 20, 'special': 20, 'zero': 0}},\n",
       " {'prompt': \"Tokens can be either black or white. Answer Y for yes and N for no:\\n\\nRemember:\\n- Only use Y or N to answer\\n- 'some' means at least one but not all\\n- 'one' means exactly one\\n- 'all' means every single token\\n\\n\\n\\n# Basic cases - using 'all'\\n\\nQ: I have four tokens, and all of them are white. Are all of them white?\\nA: Y\\n\\nQ: I have seven tokens, and all of them are white. Are some of them white?\\nA: Y\\n\\nQ: I have four tokens, and all of them are white. Are all of them white?\\nA: Y\\n\\nQ: I have seven tokens, and all of them are white. Are one of them black?\\nA: N\\n\\nQ: I have three tokens, and all of them are black. Are all of them black?\\nA: Y\\n\\nQ: I have four tokens, and all of them are black. Are one of them white?\\nA: N\\n\\nQ: I have six tokens, and all of them are black. Are all of them black?\\nA: Y\\n\\nQ: I have two tokens, and all of them are black. Are some of them black?\\nA: Y\\n\\nQ: I have five tokens, and all of them are white. Are all of them white?\\nA: Y\\n\\nQ: I have three tokens, and all of them are black. Are some of them white?\\nA: N\\n\\nQ: I have three tokens, and all of them are black. Are some of them black?\\nA: Y\\n\\nQ: I have three tokens, and all of them are black. Are all of them black?\\nA: Y\\n\\nQ: I have four tokens, and all of them are white. Are some of them black?\\nA: N\\n\\nQ: I have three tokens, and all of them are white. Are all of them white?\\nA: Y\\n\\nQ: I have three tokens, and all of them are white. Are one of them black?\\nA: N\\n\\nQ: I have five tokens, and all of them are black. Are some of them black?\\nA: Y\\n\\nQ: I have seven tokens, and all of them are white. Are one of them white?\\nA: Y\\n\\nQ: I have five tokens, and all of them are black. Are some of them white?\\nA: N\\n\\nQ: I have seven tokens, and all of them are black. Are some of them white?\\nA: N\\n\\nQ: I have three tokens, and all of them are black. Are one of them white?\\nA: N\\n\\n\\n\\n# Cases with 'one'\\n\\nQ: I have four tokens, and one of them are black. Are some of them white?\\nA: Y\\n\\nQ: I have six tokens, and one of them are white. Are some of them black?\\nA: Y\\n\\nQ: I have eight tokens, and one of them are white. Are one of them black?\\nA: Y\\n\\nQ: I have one tokens, and one of them are black. Are some of them white?\\nA: N\\n\\nQ: I have five tokens, and one of them are white. Are some of them black?\\nA: Y\\n\\nQ: I have seven tokens, and one of them are white. Are one of them black?\\nA: Y\\n\\nQ: I have ten tokens, and one of them are white. Are some of them black?\\nA: Y\\n\\nQ: I have ten tokens, and one of them are black. Are one of them white?\\nA: Y\\n\\nQ: I have two tokens, and one of them are black. Are one of them white?\\nA: Y\\n\\nQ: I have four tokens, and one of them are black. Are one of them white?\\nA: Y\\n\\nQ: I have four tokens, and one of them are black. Are some of them white?\\nA: Y\\n\\nQ: I have five tokens, and one of them are white. Are some of them black?\\nA: Y\\n\\nQ: I have seven tokens, and one of them are white. Are one of them black?\\nA: Y\\n\\nQ: I have one tokens, and one of them are black. Are one of them white?\\nA: N\\n\\nQ: I have one tokens, and one of them are black. Are one of them white?\\nA: N\\n\\nQ: I have nine tokens, and one of them are white. Are some of them black?\\nA: Y\\n\\nQ: I have four tokens, and one of them are black. Are some of them white?\\nA: Y\\n\\nQ: I have five tokens, and one of them are black. Are some of them white?\\nA: Y\\n\\nQ: I have ten tokens, and one of them are black. Are one of them white?\\nA: Y\\n\\nQ: I have seven tokens, and one of them are white. Are one of them black?\\nA: Y\\n\\n\\n\\n# Cases with 'some'\\n\\nQ: I have five tokens, and some of them are white. Are one of them black?\\nA: Y\\n\\nQ: I have nine tokens, and some of them are black. Are one of them white?\\nA: Y\\n\\nQ: I have two tokens, and some of them are white. Are one of them black?\\nA: Y\\n\\nQ: I have nine tokens, and some of them are white. Are some of them black?\\nA: Y\\n\\nQ: I have eight tokens, and some of them are white. Are some of them black?\\nA: Y\\n\\nQ: I have one tokens, and some of them are black. Are one of them white?\\nA: N\\n\\nQ: I have two tokens, and some of them are white. Are one of them black?\\nA: Y\\n\\nQ: I have seven tokens, and some of them are white. Are all of them black?\\nA: N\\n\\nQ: I have ten tokens, and some of them are black. Are all of them white?\\nA: N\\n\\nQ: I have nine tokens, and some of them are white. Are one of them black?\\nA: Y\\n\\nQ: I have three tokens, and some of them are black. Are some of them white?\\nA: Y\\n\\nQ: I have six tokens, and some of them are black. Are one of them white?\\nA: Y\\n\\nQ: I have ten tokens, and some of them are black. Are one of them white?\\nA: Y\\n\\nQ: I have three tokens, and some of them are white. Are all of them black?\\nA: N\\n\\nQ: I have three tokens, and some of them are white. Are all of them black?\\nA: N\\n\\nQ: I have nine tokens, and some of them are black. Are all of them white?\\nA: N\\n\\nQ: I have ten tokens, and some of them are white. Are all of them black?\\nA: N\\n\\nQ: I have six tokens, and some of them are white. Are all of them black?\\nA: N\\n\\nQ: I have seven tokens, and some of them are black. Are one of them white?\\nA: Y\\n\\nQ: I have ten tokens, and some of them are black. Are some of them white?\\nA: Y\\n\\n\\n\\nQ: I have eight tokens, and one of them are black. Are some of them white?\\nA: \",\n",
       "  'expected': 'Y',\n",
       "  'generated': '1\\n\\nQ: I have',\n",
       "  'correct_strict': False,\n",
       "  'correct_lenient': False,\n",
       "  'section_counts': {'basic': 20, 'numeric': 20, 'special': 20, 'zero': 0}},\n",
       " {'prompt': \"Tokens can be either black or white. Answer Y for yes and N for no:\\n\\nRemember:\\n- Only use Y or N to answer\\n- 'some' means at least one but not all\\n- 'one' means exactly one\\n- 'all' means every single token\\n\\n\\n\\n# Basic cases - using 'all'\\n\\nQ: I have five tokens, and all of them are black. Are one of them white?\\nA: N\\n\\nQ: I have three tokens, and all of them are white. Are all of them white?\\nA: Y\\n\\nQ: I have three tokens, and all of them are white. Are one of them black?\\nA: N\\n\\nQ: I have nine tokens, and all of them are black. Are all of them white?\\nA: N\\n\\nQ: I have one tokens, and all of them are black. Are some of them white?\\nA: N\\n\\nQ: I have seven tokens, and all of them are black. Are some of them white?\\nA: N\\n\\nQ: I have ten tokens, and all of them are white. Are all of them white?\\nA: Y\\n\\nQ: I have one tokens, and all of them are white. Are all of them black?\\nA: N\\n\\nQ: I have one tokens, and all of them are black. Are some of them white?\\nA: N\\n\\nQ: I have nine tokens, and all of them are black. Are some of them white?\\nA: N\\n\\nQ: I have seven tokens, and all of them are white. Are some of them white?\\nA: Y\\n\\nQ: I have two tokens, and all of them are white. Are one of them white?\\nA: Y\\n\\nQ: I have one tokens, and all of them are black. Are all of them white?\\nA: N\\n\\nQ: I have six tokens, and all of them are white. Are some of them white?\\nA: Y\\n\\nQ: I have one tokens, and all of them are black. Are one of them black?\\nA: Y\\n\\nQ: I have seven tokens, and all of them are black. Are some of them black?\\nA: Y\\n\\nQ: I have five tokens, and all of them are white. Are one of them black?\\nA: N\\n\\nQ: I have ten tokens, and all of them are white. Are one of them black?\\nA: N\\n\\nQ: I have five tokens, and all of them are white. Are one of them white?\\nA: Y\\n\\nQ: I have six tokens, and all of them are white. Are some of them white?\\nA: Y\\n\\n\\n\\n# Cases with 'one'\\n\\nQ: I have two tokens, and one of them are black. Are one of them white?\\nA: Y\\n\\nQ: I have three tokens, and one of them are black. Are one of them white?\\nA: Y\\n\\nQ: I have two tokens, and one of them are black. Are some of them white?\\nA: Y\\n\\nQ: I have nine tokens, and one of them are white. Are one of them black?\\nA: Y\\n\\nQ: I have eight tokens, and one of them are black. Are some of them white?\\nA: Y\\n\\nQ: I have five tokens, and one of them are black. Are some of them white?\\nA: Y\\n\\nQ: I have ten tokens, and one of them are black. Are one of them white?\\nA: Y\\n\\nQ: I have four tokens, and one of them are white. Are some of them black?\\nA: Y\\n\\nQ: I have five tokens, and one of them are white. Are some of them black?\\nA: Y\\n\\nQ: I have six tokens, and one of them are black. Are some of them white?\\nA: Y\\n\\nQ: I have one tokens, and one of them are black. Are some of them white?\\nA: N\\n\\nQ: I have seven tokens, and one of them are black. Are one of them white?\\nA: Y\\n\\nQ: I have ten tokens, and one of them are black. Are one of them white?\\nA: Y\\n\\nQ: I have three tokens, and one of them are black. Are some of them white?\\nA: Y\\n\\nQ: I have six tokens, and one of them are white. Are some of them black?\\nA: Y\\n\\nQ: I have nine tokens, and one of them are white. Are one of them black?\\nA: Y\\n\\nQ: I have nine tokens, and one of them are white. Are one of them black?\\nA: Y\\n\\nQ: I have three tokens, and one of them are white. Are some of them black?\\nA: Y\\n\\nQ: I have four tokens, and one of them are black. Are one of them white?\\nA: Y\\n\\nQ: I have one tokens, and one of them are black. Are some of them white?\\nA: N\\n\\n\\n\\n# Cases with 'some'\\n\\nQ: I have two tokens, and some of them are black. Are one of them white?\\nA: Y\\n\\nQ: I have one tokens, and some of them are white. Are all of them black?\\nA: N\\n\\nQ: I have nine tokens, and some of them are white. Are some of them black?\\nA: Y\\n\\nQ: I have five tokens, and some of them are black. Are all of them white?\\nA: N\\n\\nQ: I have four tokens, and some of them are white. Are some of them black?\\nA: Y\\n\\nQ: I have four tokens, and some of them are black. Are some of them white?\\nA: Y\\n\\nQ: I have five tokens, and some of them are black. Are all of them white?\\nA: N\\n\\nQ: I have six tokens, and some of them are black. Are one of them white?\\nA: Y\\n\\nQ: I have one tokens, and some of them are white. Are one of them black?\\nA: N\\n\\nQ: I have eight tokens, and some of them are black. Are one of them white?\\nA: Y\\n\\nQ: I have eight tokens, and some of them are black. Are some of them white?\\nA: Y\\n\\nQ: I have seven tokens, and some of them are black. Are one of them white?\\nA: Y\\n\\nQ: I have eight tokens, and some of them are black. Are one of them white?\\nA: Y\\n\\nQ: I have ten tokens, and some of them are white. Are one of them black?\\nA: Y\\n\\nQ: I have ten tokens, and some of them are black. Are all of them white?\\nA: N\\n\\nQ: I have eight tokens, and some of them are white. Are one of them black?\\nA: Y\\n\\nQ: I have two tokens, and some of them are white. Are some of them black?\\nA: Y\\n\\nQ: I have ten tokens, and some of them are black. Are some of them white?\\nA: Y\\n\\nQ: I have two tokens, and some of them are white. Are all of them black?\\nA: N\\n\\nQ: I have eight tokens, and some of them are black. Are all of them white?\\nA: N\\n\\n\\n\\nQ: I have six tokens, and one of them are black. Are one of them white?\\nA: \",\n",
       "  'expected': 'Y',\n",
       "  'generated': '1\\n\\nQ: I have',\n",
       "  'correct_strict': False,\n",
       "  'correct_lenient': False,\n",
       "  'section_counts': {'basic': 20, 'numeric': 20, 'special': 20, 'zero': 0}},\n",
       " {'prompt': \"Tokens can be either black or white. Answer Y for yes and N for no:\\n\\nRemember:\\n- Only use Y or N to answer\\n- 'some' means at least one but not all\\n- 'one' means exactly one\\n- 'all' means every single token\\n\\n\\n\\n# Basic cases - using 'all'\\n\\nQ: I have four tokens, and all of them are black. Are one of them white?\\nA: N\\n\\nQ: I have ten tokens, and all of them are black. Are some of them white?\\nA: N\\n\\nQ: I have two tokens, and all of them are white. Are all of them black?\\nA: N\\n\\nQ: I have six tokens, and all of them are black. Are some of them black?\\nA: Y\\n\\nQ: I have two tokens, and all of them are white. Are all of them black?\\nA: N\\n\\nQ: I have nine tokens, and all of them are black. Are one of them black?\\nA: Y\\n\\nQ: I have four tokens, and all of them are white. Are some of them black?\\nA: N\\n\\nQ: I have two tokens, and all of them are black. Are one of them black?\\nA: Y\\n\\nQ: I have ten tokens, and all of them are black. Are one of them black?\\nA: Y\\n\\nQ: I have one tokens, and all of them are black. Are all of them white?\\nA: N\\n\\nQ: I have two tokens, and all of them are white. Are some of them black?\\nA: N\\n\\nQ: I have six tokens, and all of them are white. Are all of them black?\\nA: N\\n\\nQ: I have one tokens, and all of them are white. Are one of them white?\\nA: Y\\n\\nQ: I have one tokens, and all of them are black. Are one of them white?\\nA: N\\n\\nQ: I have seven tokens, and all of them are black. Are all of them black?\\nA: Y\\n\\nQ: I have seven tokens, and all of them are white. Are some of them black?\\nA: N\\n\\nQ: I have one tokens, and all of them are black. Are some of them white?\\nA: N\\n\\nQ: I have eight tokens, and all of them are black. Are all of them black?\\nA: Y\\n\\nQ: I have seven tokens, and all of them are white. Are one of them black?\\nA: N\\n\\nQ: I have two tokens, and all of them are white. Are one of them white?\\nA: Y\\n\\n\\n\\n# Cases with 'one'\\n\\nQ: I have one tokens, and one of them are white. Are some of them black?\\nA: N\\n\\nQ: I have five tokens, and one of them are black. Are some of them white?\\nA: Y\\n\\nQ: I have six tokens, and one of them are white. Are one of them black?\\nA: Y\\n\\nQ: I have nine tokens, and one of them are black. Are one of them white?\\nA: Y\\n\\nQ: I have one tokens, and one of them are white. Are some of them black?\\nA: N\\n\\nQ: I have eight tokens, and one of them are white. Are some of them black?\\nA: Y\\n\\nQ: I have seven tokens, and one of them are white. Are one of them black?\\nA: Y\\n\\nQ: I have four tokens, and one of them are black. Are some of them white?\\nA: Y\\n\\nQ: I have ten tokens, and one of them are black. Are some of them white?\\nA: Y\\n\\nQ: I have eight tokens, and one of them are white. Are one of them black?\\nA: Y\\n\\nQ: I have five tokens, and one of them are white. Are one of them black?\\nA: Y\\n\\nQ: I have two tokens, and one of them are white. Are one of them black?\\nA: Y\\n\\nQ: I have six tokens, and one of them are black. Are some of them white?\\nA: Y\\n\\nQ: I have three tokens, and one of them are black. Are some of them white?\\nA: Y\\n\\nQ: I have four tokens, and one of them are black. Are one of them white?\\nA: Y\\n\\nQ: I have one tokens, and one of them are black. Are one of them white?\\nA: N\\n\\nQ: I have two tokens, and one of them are white. Are one of them black?\\nA: Y\\n\\nQ: I have seven tokens, and one of them are white. Are some of them black?\\nA: Y\\n\\nQ: I have nine tokens, and one of them are black. Are one of them white?\\nA: Y\\n\\nQ: I have two tokens, and one of them are black. Are one of them white?\\nA: Y\\n\\n\\n\\n# Cases with 'some'\\n\\nQ: I have seven tokens, and some of them are white. Are one of them black?\\nA: Y\\n\\nQ: I have seven tokens, and some of them are black. Are one of them white?\\nA: Y\\n\\nQ: I have nine tokens, and some of them are black. Are one of them white?\\nA: Y\\n\\nQ: I have one tokens, and some of them are white. Are one of them black?\\nA: N\\n\\nQ: I have ten tokens, and some of them are black. Are all of them white?\\nA: N\\n\\nQ: I have eight tokens, and some of them are black. Are all of them white?\\nA: N\\n\\nQ: I have one tokens, and some of them are black. Are one of them white?\\nA: N\\n\\nQ: I have nine tokens, and some of them are white. Are some of them black?\\nA: Y\\n\\nQ: I have eight tokens, and some of them are black. Are all of them white?\\nA: N\\n\\nQ: I have one tokens, and some of them are white. Are one of them black?\\nA: N\\n\\nQ: I have four tokens, and some of them are white. Are one of them black?\\nA: Y\\n\\nQ: I have four tokens, and some of them are white. Are one of them black?\\nA: Y\\n\\nQ: I have four tokens, and some of them are white. Are some of them black?\\nA: Y\\n\\nQ: I have five tokens, and some of them are white. Are all of them black?\\nA: N\\n\\nQ: I have seven tokens, and some of them are black. Are some of them white?\\nA: Y\\n\\nQ: I have five tokens, and some of them are white. Are all of them black?\\nA: N\\n\\nQ: I have one tokens, and some of them are black. Are all of them white?\\nA: N\\n\\nQ: I have one tokens, and some of them are black. Are all of them white?\\nA: N\\n\\nQ: I have eight tokens, and some of them are white. Are some of them black?\\nA: Y\\n\\nQ: I have three tokens, and some of them are white. Are all of them black?\\nA: N\\n\\n\\n\\nQ: I have one tokens, and one of them are black. Are some of them white?\\nA: \",\n",
       "  'expected': 'N',\n",
       "  'generated': '0\\n\\nQ: I have',\n",
       "  'correct_strict': False,\n",
       "  'correct_lenient': False,\n",
       "  'section_counts': {'basic': 20, 'numeric': 20, 'special': 20, 'zero': 0}},\n",
       " {'prompt': \"Tokens can be either black or white. Answer Y for yes and N for no:\\n\\nRemember:\\n- Only use Y or N to answer\\n- 'some' means at least one but not all\\n- 'one' means exactly one\\n- 'all' means every single token\\n\\n\\n\\n# Basic cases - using 'all'\\n\\nQ: I have eight tokens, and all of them are black. Are one of them white?\\nA: N\\n\\nQ: I have four tokens, and all of them are black. Are some of them black?\\nA: Y\\n\\nQ: I have nine tokens, and all of them are black. Are some of them white?\\nA: N\\n\\nQ: I have eight tokens, and all of them are black. Are some of them white?\\nA: N\\n\\nQ: I have four tokens, and all of them are white. Are all of them white?\\nA: Y\\n\\nQ: I have five tokens, and all of them are white. Are one of them white?\\nA: Y\\n\\nQ: I have one tokens, and all of them are white. Are all of them black?\\nA: N\\n\\nQ: I have three tokens, and all of them are white. Are some of them white?\\nA: Y\\n\\nQ: I have five tokens, and all of them are white. Are all of them black?\\nA: N\\n\\nQ: I have six tokens, and all of them are white. Are all of them black?\\nA: N\\n\\nQ: I have five tokens, and all of them are white. Are all of them white?\\nA: Y\\n\\nQ: I have five tokens, and all of them are black. Are one of them white?\\nA: N\\n\\nQ: I have ten tokens, and all of them are black. Are one of them black?\\nA: Y\\n\\nQ: I have seven tokens, and all of them are black. Are all of them white?\\nA: N\\n\\nQ: I have eight tokens, and all of them are black. Are one of them black?\\nA: Y\\n\\nQ: I have ten tokens, and all of them are black. Are some of them white?\\nA: N\\n\\nQ: I have eight tokens, and all of them are black. Are all of them black?\\nA: Y\\n\\nQ: I have four tokens, and all of them are white. Are one of them white?\\nA: Y\\n\\nQ: I have eight tokens, and all of them are black. Are all of them black?\\nA: Y\\n\\nQ: I have four tokens, and all of them are white. Are one of them white?\\nA: Y\\n\\n\\n\\n# Cases with 'one'\\n\\nQ: I have ten tokens, and one of them are white. Are some of them black?\\nA: Y\\n\\nQ: I have three tokens, and one of them are white. Are some of them black?\\nA: Y\\n\\nQ: I have nine tokens, and one of them are black. Are some of them white?\\nA: Y\\n\\nQ: I have ten tokens, and one of them are black. Are one of them white?\\nA: Y\\n\\nQ: I have five tokens, and one of them are black. Are some of them white?\\nA: Y\\n\\nQ: I have one tokens, and one of them are black. Are one of them white?\\nA: N\\n\\nQ: I have four tokens, and one of them are black. Are some of them white?\\nA: Y\\n\\nQ: I have three tokens, and one of them are black. Are one of them white?\\nA: Y\\n\\nQ: I have three tokens, and one of them are white. Are one of them black?\\nA: Y\\n\\nQ: I have seven tokens, and one of them are black. Are some of them white?\\nA: Y\\n\\nQ: I have three tokens, and one of them are black. Are some of them white?\\nA: Y\\n\\nQ: I have four tokens, and one of them are black. Are some of them white?\\nA: Y\\n\\nQ: I have three tokens, and one of them are black. Are some of them white?\\nA: Y\\n\\nQ: I have three tokens, and one of them are white. Are some of them black?\\nA: Y\\n\\nQ: I have two tokens, and one of them are white. Are some of them black?\\nA: Y\\n\\nQ: I have three tokens, and one of them are black. Are one of them white?\\nA: Y\\n\\nQ: I have three tokens, and one of them are white. Are some of them black?\\nA: Y\\n\\nQ: I have four tokens, and one of them are white. Are one of them black?\\nA: Y\\n\\nQ: I have two tokens, and one of them are black. Are some of them white?\\nA: Y\\n\\nQ: I have three tokens, and one of them are white. Are one of them black?\\nA: Y\\n\\n\\n\\n# Cases with 'some'\\n\\nQ: I have six tokens, and some of them are white. Are all of them black?\\nA: N\\n\\nQ: I have two tokens, and some of them are white. Are some of them black?\\nA: Y\\n\\nQ: I have five tokens, and some of them are black. Are all of them white?\\nA: N\\n\\nQ: I have three tokens, and some of them are white. Are some of them black?\\nA: Y\\n\\nQ: I have six tokens, and some of them are white. Are some of them black?\\nA: Y\\n\\nQ: I have four tokens, and some of them are black. Are some of them white?\\nA: Y\\n\\nQ: I have four tokens, and some of them are white. Are some of them black?\\nA: Y\\n\\nQ: I have three tokens, and some of them are white. Are some of them black?\\nA: Y\\n\\nQ: I have two tokens, and some of them are white. Are all of them black?\\nA: N\\n\\nQ: I have nine tokens, and some of them are white. Are some of them black?\\nA: Y\\n\\nQ: I have ten tokens, and some of them are black. Are all of them white?\\nA: N\\n\\nQ: I have two tokens, and some of them are white. Are all of them black?\\nA: N\\n\\nQ: I have eight tokens, and some of them are white. Are some of them black?\\nA: Y\\n\\nQ: I have one tokens, and some of them are black. Are some of them white?\\nA: N\\n\\nQ: I have four tokens, and some of them are white. Are one of them black?\\nA: Y\\n\\nQ: I have seven tokens, and some of them are black. Are some of them white?\\nA: Y\\n\\nQ: I have one tokens, and some of them are white. Are some of them black?\\nA: N\\n\\nQ: I have one tokens, and some of them are white. Are some of them black?\\nA: N\\n\\nQ: I have seven tokens, and some of them are white. Are one of them black?\\nA: Y\\n\\nQ: I have four tokens, and some of them are white. Are one of them black?\\nA: Y\\n\\n\\n\\nQ: I have six tokens, and one of them are black. Are some of them white?\\nA: \",\n",
       "  'expected': 'Y',\n",
       "  'generated': '1\\n\\nQ: I have',\n",
       "  'correct_strict': False,\n",
       "  'correct_lenient': False,\n",
       "  'section_counts': {'basic': 20, 'numeric': 20, 'special': 20, 'zero': 0}},\n",
       " {'prompt': \"Tokens can be either black or white. Answer Y for yes and N for no:\\n\\nRemember:\\n- Only use Y or N to answer\\n- 'some' means at least one but not all\\n- 'one' means exactly one\\n- 'all' means every single token\\n\\n\\n\\n# Basic cases - using 'all'\\n\\nQ: I have seven tokens, and all of them are black. Are one of them black?\\nA: Y\\n\\nQ: I have five tokens, and all of them are white. Are one of them white?\\nA: Y\\n\\nQ: I have nine tokens, and all of them are black. Are some of them black?\\nA: Y\\n\\nQ: I have three tokens, and all of them are black. Are some of them black?\\nA: Y\\n\\nQ: I have nine tokens, and all of them are black. Are all of them black?\\nA: Y\\n\\nQ: I have one tokens, and all of them are white. Are all of them white?\\nA: Y\\n\\nQ: I have two tokens, and all of them are white. Are one of them black?\\nA: N\\n\\nQ: I have ten tokens, and all of them are black. Are one of them white?\\nA: N\\n\\nQ: I have eight tokens, and all of them are white. Are one of them black?\\nA: N\\n\\nQ: I have one tokens, and all of them are black. Are one of them white?\\nA: N\\n\\nQ: I have four tokens, and all of them are black. Are all of them black?\\nA: Y\\n\\nQ: I have seven tokens, and all of them are black. Are one of them white?\\nA: N\\n\\nQ: I have four tokens, and all of them are black. Are some of them white?\\nA: N\\n\\nQ: I have three tokens, and all of them are white. Are some of them white?\\nA: Y\\n\\nQ: I have five tokens, and all of them are white. Are some of them black?\\nA: N\\n\\nQ: I have nine tokens, and all of them are white. Are all of them white?\\nA: Y\\n\\nQ: I have six tokens, and all of them are white. Are some of them black?\\nA: N\\n\\nQ: I have nine tokens, and all of them are black. Are all of them black?\\nA: Y\\n\\nQ: I have five tokens, and all of them are black. Are all of them black?\\nA: Y\\n\\nQ: I have two tokens, and all of them are white. Are all of them white?\\nA: Y\\n\\n\\n\\n# Cases with 'one'\\n\\nQ: I have four tokens, and one of them are white. Are some of them black?\\nA: Y\\n\\nQ: I have one tokens, and one of them are black. Are some of them white?\\nA: N\\n\\nQ: I have six tokens, and one of them are white. Are one of them black?\\nA: Y\\n\\nQ: I have three tokens, and one of them are white. Are one of them black?\\nA: Y\\n\\nQ: I have nine tokens, and one of them are black. Are one of them white?\\nA: Y\\n\\nQ: I have three tokens, and one of them are black. Are some of them white?\\nA: Y\\n\\nQ: I have four tokens, and one of them are black. Are one of them white?\\nA: Y\\n\\nQ: I have two tokens, and one of them are black. Are some of them white?\\nA: Y\\n\\nQ: I have two tokens, and one of them are white. Are one of them black?\\nA: Y\\n\\nQ: I have five tokens, and one of them are white. Are one of them black?\\nA: Y\\n\\nQ: I have six tokens, and one of them are white. Are some of them black?\\nA: Y\\n\\nQ: I have eight tokens, and one of them are white. Are some of them black?\\nA: Y\\n\\nQ: I have two tokens, and one of them are white. Are some of them black?\\nA: Y\\n\\nQ: I have two tokens, and one of them are white. Are one of them black?\\nA: Y\\n\\nQ: I have nine tokens, and one of them are black. Are one of them white?\\nA: Y\\n\\nQ: I have seven tokens, and one of them are white. Are one of them black?\\nA: Y\\n\\nQ: I have ten tokens, and one of them are white. Are some of them black?\\nA: Y\\n\\nQ: I have eight tokens, and one of them are white. Are some of them black?\\nA: Y\\n\\nQ: I have nine tokens, and one of them are black. Are some of them white?\\nA: Y\\n\\nQ: I have eight tokens, and one of them are white. Are some of them black?\\nA: Y\\n\\n\\n\\n# Cases with 'some'\\n\\nQ: I have five tokens, and some of them are white. Are some of them black?\\nA: Y\\n\\nQ: I have four tokens, and some of them are black. Are all of them white?\\nA: N\\n\\nQ: I have two tokens, and some of them are white. Are one of them black?\\nA: Y\\n\\nQ: I have four tokens, and some of them are black. Are all of them white?\\nA: N\\n\\nQ: I have nine tokens, and some of them are white. Are some of them black?\\nA: Y\\n\\nQ: I have five tokens, and some of them are white. Are some of them black?\\nA: Y\\n\\nQ: I have four tokens, and some of them are black. Are all of them white?\\nA: N\\n\\nQ: I have four tokens, and some of them are black. Are one of them white?\\nA: Y\\n\\nQ: I have ten tokens, and some of them are black. Are all of them white?\\nA: N\\n\\nQ: I have six tokens, and some of them are black. Are some of them white?\\nA: Y\\n\\nQ: I have seven tokens, and some of them are black. Are one of them white?\\nA: Y\\n\\nQ: I have two tokens, and some of them are white. Are some of them black?\\nA: Y\\n\\nQ: I have two tokens, and some of them are white. Are one of them black?\\nA: Y\\n\\nQ: I have seven tokens, and some of them are black. Are some of them white?\\nA: Y\\n\\nQ: I have six tokens, and some of them are white. Are one of them black?\\nA: Y\\n\\nQ: I have three tokens, and some of them are white. Are one of them black?\\nA: Y\\n\\nQ: I have five tokens, and some of them are black. Are some of them white?\\nA: Y\\n\\nQ: I have four tokens, and some of them are white. Are all of them black?\\nA: N\\n\\nQ: I have two tokens, and some of them are white. Are some of them black?\\nA: Y\\n\\nQ: I have four tokens, and some of them are black. Are some of them white?\\nA: Y\\n\\n\\n\\nQ: I have five tokens, and one of them are black. Are some of them white?\\nA: \",\n",
       "  'expected': 'Y',\n",
       "  'generated': '1. Y\\n2.',\n",
       "  'correct_strict': True,\n",
       "  'correct_lenient': True,\n",
       "  'section_counts': {'basic': 20, 'numeric': 20, 'special': 20, 'zero': 0}},\n",
       " {'prompt': \"Tokens can be either black or white. Answer Y for yes and N for no:\\n\\nRemember:\\n- Only use Y or N to answer\\n- 'some' means at least one but not all\\n- 'one' means exactly one\\n- 'all' means every single token\\n\\n\\n\\n# Basic cases - using 'all'\\n\\nQ: I have six tokens, and all of them are black. Are some of them white?\\nA: N\\n\\nQ: I have eight tokens, and all of them are white. Are one of them white?\\nA: Y\\n\\nQ: I have ten tokens, and all of them are black. Are some of them white?\\nA: N\\n\\nQ: I have nine tokens, and all of them are black. Are all of them white?\\nA: N\\n\\nQ: I have nine tokens, and all of them are black. Are all of them white?\\nA: N\\n\\nQ: I have seven tokens, and all of them are black. Are some of them white?\\nA: N\\n\\nQ: I have nine tokens, and all of them are white. Are some of them white?\\nA: Y\\n\\nQ: I have two tokens, and all of them are black. Are some of them white?\\nA: N\\n\\nQ: I have six tokens, and all of them are black. Are some of them white?\\nA: N\\n\\nQ: I have six tokens, and all of them are black. Are some of them white?\\nA: N\\n\\nQ: I have nine tokens, and all of them are white. Are one of them black?\\nA: N\\n\\nQ: I have eight tokens, and all of them are black. Are some of them black?\\nA: Y\\n\\nQ: I have eight tokens, and all of them are black. Are all of them white?\\nA: N\\n\\nQ: I have eight tokens, and all of them are black. Are some of them black?\\nA: Y\\n\\nQ: I have six tokens, and all of them are white. Are some of them black?\\nA: N\\n\\nQ: I have seven tokens, and all of them are black. Are all of them white?\\nA: N\\n\\nQ: I have ten tokens, and all of them are black. Are some of them black?\\nA: Y\\n\\nQ: I have two tokens, and all of them are black. Are some of them black?\\nA: Y\\n\\nQ: I have seven tokens, and all of them are black. Are one of them black?\\nA: Y\\n\\nQ: I have six tokens, and all of them are white. Are one of them white?\\nA: Y\\n\\n\\n\\n# Cases with 'one'\\n\\nQ: I have one tokens, and one of them are black. Are one of them white?\\nA: N\\n\\nQ: I have ten tokens, and one of them are black. Are one of them white?\\nA: Y\\n\\nQ: I have seven tokens, and one of them are black. Are some of them white?\\nA: Y\\n\\nQ: I have eight tokens, and one of them are white. Are some of them black?\\nA: Y\\n\\nQ: I have two tokens, and one of them are black. Are one of them white?\\nA: Y\\n\\nQ: I have ten tokens, and one of them are white. Are one of them black?\\nA: Y\\n\\nQ: I have five tokens, and one of them are black. Are some of them white?\\nA: Y\\n\\nQ: I have one tokens, and one of them are white. Are some of them black?\\nA: N\\n\\nQ: I have eight tokens, and one of them are black. Are some of them white?\\nA: Y\\n\\nQ: I have four tokens, and one of them are white. Are one of them black?\\nA: Y\\n\\nQ: I have two tokens, and one of them are black. Are one of them white?\\nA: Y\\n\\nQ: I have four tokens, and one of them are white. Are some of them black?\\nA: Y\\n\\nQ: I have two tokens, and one of them are black. Are one of them white?\\nA: Y\\n\\nQ: I have one tokens, and one of them are black. Are one of them white?\\nA: N\\n\\nQ: I have eight tokens, and one of them are white. Are one of them black?\\nA: Y\\n\\nQ: I have two tokens, and one of them are white. Are some of them black?\\nA: Y\\n\\nQ: I have nine tokens, and one of them are white. Are one of them black?\\nA: Y\\n\\nQ: I have three tokens, and one of them are white. Are one of them black?\\nA: Y\\n\\nQ: I have five tokens, and one of them are white. Are some of them black?\\nA: Y\\n\\nQ: I have seven tokens, and one of them are black. Are some of them white?\\nA: Y\\n\\n\\n\\n# Cases with 'some'\\n\\nQ: I have nine tokens, and some of them are white. Are some of them black?\\nA: Y\\n\\nQ: I have two tokens, and some of them are black. Are one of them white?\\nA: Y\\n\\nQ: I have five tokens, and some of them are black. Are all of them white?\\nA: N\\n\\nQ: I have five tokens, and some of them are white. Are one of them black?\\nA: Y\\n\\nQ: I have nine tokens, and some of them are white. Are one of them black?\\nA: Y\\n\\nQ: I have five tokens, and some of them are white. Are one of them black?\\nA: Y\\n\\nQ: I have nine tokens, and some of them are black. Are one of them white?\\nA: Y\\n\\nQ: I have two tokens, and some of them are white. Are one of them black?\\nA: Y\\n\\nQ: I have nine tokens, and some of them are white. Are some of them black?\\nA: Y\\n\\nQ: I have ten tokens, and some of them are black. Are one of them white?\\nA: Y\\n\\nQ: I have ten tokens, and some of them are white. Are one of them black?\\nA: Y\\n\\nQ: I have one tokens, and some of them are white. Are some of them black?\\nA: N\\n\\nQ: I have three tokens, and some of them are black. Are all of them white?\\nA: N\\n\\nQ: I have seven tokens, and some of them are white. Are one of them black?\\nA: Y\\n\\nQ: I have six tokens, and some of them are black. Are all of them white?\\nA: N\\n\\nQ: I have four tokens, and some of them are black. Are all of them white?\\nA: N\\n\\nQ: I have seven tokens, and some of them are white. Are some of them black?\\nA: Y\\n\\nQ: I have eight tokens, and some of them are white. Are one of them black?\\nA: Y\\n\\nQ: I have two tokens, and some of them are black. Are one of them white?\\nA: Y\\n\\nQ: I have seven tokens, and some of them are black. Are all of them white?\\nA: N\\n\\n\\n\\nQ: I have six tokens, and one of them are white. Are one of them black?\\nA: \",\n",
       "  'expected': 'Y',\n",
       "  'generated': '1\\n\\nQ: I have',\n",
       "  'correct_strict': False,\n",
       "  'correct_lenient': False,\n",
       "  'section_counts': {'basic': 20, 'numeric': 20, 'special': 20, 'zero': 0}},\n",
       " {'prompt': \"Tokens can be either black or white. Answer Y for yes and N for no:\\n\\nRemember:\\n- Only use Y or N to answer\\n- 'some' means at least one but not all\\n- 'one' means exactly one\\n- 'all' means every single token\\n\\n\\n\\n# Basic cases - using 'all'\\n\\nQ: I have three tokens, and all of them are black. Are one of them white?\\nA: N\\n\\nQ: I have three tokens, and all of them are black. Are one of them black?\\nA: Y\\n\\nQ: I have one tokens, and all of them are white. Are one of them white?\\nA: Y\\n\\nQ: I have five tokens, and all of them are black. Are some of them white?\\nA: N\\n\\nQ: I have one tokens, and all of them are black. Are some of them white?\\nA: N\\n\\nQ: I have seven tokens, and all of them are white. Are one of them white?\\nA: Y\\n\\nQ: I have two tokens, and all of them are white. Are all of them white?\\nA: Y\\n\\nQ: I have three tokens, and all of them are black. Are some of them black?\\nA: Y\\n\\nQ: I have nine tokens, and all of them are white. Are one of them black?\\nA: N\\n\\nQ: I have nine tokens, and all of them are black. Are one of them black?\\nA: Y\\n\\nQ: I have four tokens, and all of them are black. Are all of them white?\\nA: N\\n\\nQ: I have eight tokens, and all of them are black. Are some of them white?\\nA: N\\n\\nQ: I have eight tokens, and all of them are white. Are one of them black?\\nA: N\\n\\nQ: I have seven tokens, and all of them are black. Are one of them white?\\nA: N\\n\\nQ: I have eight tokens, and all of them are black. Are all of them black?\\nA: Y\\n\\nQ: I have ten tokens, and all of them are black. Are some of them black?\\nA: Y\\n\\nQ: I have six tokens, and all of them are white. Are some of them black?\\nA: N\\n\\nQ: I have one tokens, and all of them are black. Are all of them black?\\nA: Y\\n\\nQ: I have two tokens, and all of them are black. Are some of them white?\\nA: N\\n\\nQ: I have five tokens, and all of them are black. Are some of them white?\\nA: N\\n\\n\\n\\n# Cases with 'one'\\n\\nQ: I have four tokens, and one of them are white. Are one of them black?\\nA: Y\\n\\nQ: I have two tokens, and one of them are black. Are one of them white?\\nA: Y\\n\\nQ: I have eight tokens, and one of them are white. Are some of them black?\\nA: Y\\n\\nQ: I have nine tokens, and one of them are black. Are one of them white?\\nA: Y\\n\\nQ: I have seven tokens, and one of them are black. Are some of them white?\\nA: Y\\n\\nQ: I have four tokens, and one of them are white. Are one of them black?\\nA: Y\\n\\nQ: I have eight tokens, and one of them are black. Are one of them white?\\nA: Y\\n\\nQ: I have four tokens, and one of them are black. Are some of them white?\\nA: Y\\n\\nQ: I have two tokens, and one of them are black. Are some of them white?\\nA: Y\\n\\nQ: I have six tokens, and one of them are white. Are some of them black?\\nA: Y\\n\\nQ: I have eight tokens, and one of them are white. Are some of them black?\\nA: Y\\n\\nQ: I have four tokens, and one of them are black. Are one of them white?\\nA: Y\\n\\nQ: I have five tokens, and one of them are white. Are some of them black?\\nA: Y\\n\\nQ: I have four tokens, and one of them are black. Are some of them white?\\nA: Y\\n\\nQ: I have five tokens, and one of them are black. Are some of them white?\\nA: Y\\n\\nQ: I have eight tokens, and one of them are black. Are some of them white?\\nA: Y\\n\\nQ: I have six tokens, and one of them are white. Are some of them black?\\nA: Y\\n\\nQ: I have ten tokens, and one of them are white. Are some of them black?\\nA: Y\\n\\nQ: I have nine tokens, and one of them are black. Are one of them white?\\nA: Y\\n\\nQ: I have four tokens, and one of them are black. Are some of them white?\\nA: Y\\n\\n\\n\\n# Cases with 'some'\\n\\nQ: I have eight tokens, and some of them are black. Are all of them white?\\nA: N\\n\\nQ: I have four tokens, and some of them are black. Are all of them white?\\nA: N\\n\\nQ: I have four tokens, and some of them are black. Are some of them white?\\nA: Y\\n\\nQ: I have three tokens, and some of them are white. Are all of them black?\\nA: N\\n\\nQ: I have two tokens, and some of them are black. Are some of them white?\\nA: Y\\n\\nQ: I have six tokens, and some of them are black. Are one of them white?\\nA: Y\\n\\nQ: I have eight tokens, and some of them are white. Are all of them black?\\nA: N\\n\\nQ: I have six tokens, and some of them are white. Are some of them black?\\nA: Y\\n\\nQ: I have seven tokens, and some of them are black. Are some of them white?\\nA: Y\\n\\nQ: I have four tokens, and some of them are white. Are some of them black?\\nA: Y\\n\\nQ: I have one tokens, and some of them are white. Are one of them black?\\nA: N\\n\\nQ: I have two tokens, and some of them are black. Are all of them white?\\nA: N\\n\\nQ: I have one tokens, and some of them are black. Are some of them white?\\nA: N\\n\\nQ: I have nine tokens, and some of them are black. Are some of them white?\\nA: Y\\n\\nQ: I have nine tokens, and some of them are black. Are some of them white?\\nA: Y\\n\\nQ: I have three tokens, and some of them are white. Are some of them black?\\nA: Y\\n\\nQ: I have six tokens, and some of them are black. Are all of them white?\\nA: N\\n\\nQ: I have nine tokens, and some of them are white. Are one of them black?\\nA: Y\\n\\nQ: I have five tokens, and some of them are white. Are some of them black?\\nA: Y\\n\\nQ: I have nine tokens, and some of them are white. Are some of them black?\\nA: Y\\n\\n\\n\\nQ: I have eight tokens, and one of them are white. Are one of them black?\\nA: \",\n",
       "  'expected': 'Y',\n",
       "  'generated': '1\\n\\nQ: I have',\n",
       "  'correct_strict': False,\n",
       "  'correct_lenient': False,\n",
       "  'section_counts': {'basic': 20, 'numeric': 20, 'special': 20, 'zero': 0}},\n",
       " {'prompt': \"Tokens can be either black or white. Answer Y for yes and N for no:\\n\\nRemember:\\n- Only use Y or N to answer\\n- 'some' means at least one but not all\\n- 'one' means exactly one\\n- 'all' means every single token\\n\\n\\n\\n# Basic cases - using 'all'\\n\\nQ: I have ten tokens, and all of them are white. Are all of them black?\\nA: N\\n\\nQ: I have ten tokens, and all of them are black. Are one of them black?\\nA: Y\\n\\nQ: I have eight tokens, and all of them are black. Are one of them white?\\nA: N\\n\\nQ: I have ten tokens, and all of them are white. Are all of them white?\\nA: Y\\n\\nQ: I have three tokens, and all of them are black. Are all of them black?\\nA: Y\\n\\nQ: I have one tokens, and all of them are black. Are one of them white?\\nA: N\\n\\nQ: I have seven tokens, and all of them are black. Are some of them black?\\nA: Y\\n\\nQ: I have eight tokens, and all of them are white. Are one of them white?\\nA: Y\\n\\nQ: I have eight tokens, and all of them are black. Are one of them black?\\nA: Y\\n\\nQ: I have eight tokens, and all of them are white. Are some of them black?\\nA: N\\n\\nQ: I have three tokens, and all of them are white. Are some of them black?\\nA: N\\n\\nQ: I have nine tokens, and all of them are black. Are all of them white?\\nA: N\\n\\nQ: I have ten tokens, and all of them are white. Are one of them white?\\nA: Y\\n\\nQ: I have four tokens, and all of them are black. Are all of them black?\\nA: Y\\n\\nQ: I have one tokens, and all of them are white. Are some of them black?\\nA: N\\n\\nQ: I have six tokens, and all of them are white. Are all of them black?\\nA: N\\n\\nQ: I have ten tokens, and all of them are white. Are one of them white?\\nA: Y\\n\\nQ: I have one tokens, and all of them are white. Are some of them black?\\nA: N\\n\\nQ: I have one tokens, and all of them are black. Are some of them black?\\nA: Y\\n\\nQ: I have three tokens, and all of them are black. Are one of them black?\\nA: Y\\n\\n\\n\\n# Cases with 'one'\\n\\nQ: I have three tokens, and one of them are black. Are one of them white?\\nA: Y\\n\\nQ: I have one tokens, and one of them are black. Are some of them white?\\nA: N\\n\\nQ: I have one tokens, and one of them are black. Are one of them white?\\nA: N\\n\\nQ: I have ten tokens, and one of them are black. Are one of them white?\\nA: Y\\n\\nQ: I have ten tokens, and one of them are white. Are some of them black?\\nA: Y\\n\\nQ: I have six tokens, and one of them are white. Are one of them black?\\nA: Y\\n\\nQ: I have three tokens, and one of them are black. Are one of them white?\\nA: Y\\n\\nQ: I have three tokens, and one of them are black. Are some of them white?\\nA: Y\\n\\nQ: I have one tokens, and one of them are white. Are some of them black?\\nA: N\\n\\nQ: I have two tokens, and one of them are white. Are one of them black?\\nA: Y\\n\\nQ: I have four tokens, and one of them are black. Are some of them white?\\nA: Y\\n\\nQ: I have seven tokens, and one of them are black. Are some of them white?\\nA: Y\\n\\nQ: I have three tokens, and one of them are white. Are some of them black?\\nA: Y\\n\\nQ: I have six tokens, and one of them are black. Are some of them white?\\nA: Y\\n\\nQ: I have nine tokens, and one of them are black. Are one of them white?\\nA: Y\\n\\nQ: I have three tokens, and one of them are white. Are some of them black?\\nA: Y\\n\\nQ: I have five tokens, and one of them are black. Are one of them white?\\nA: Y\\n\\nQ: I have four tokens, and one of them are black. Are one of them white?\\nA: Y\\n\\nQ: I have two tokens, and one of them are white. Are one of them black?\\nA: Y\\n\\nQ: I have one tokens, and one of them are white. Are some of them black?\\nA: N\\n\\n\\n\\n# Cases with 'some'\\n\\nQ: I have ten tokens, and some of them are black. Are some of them white?\\nA: Y\\n\\nQ: I have two tokens, and some of them are black. Are some of them white?\\nA: Y\\n\\nQ: I have nine tokens, and some of them are black. Are one of them white?\\nA: Y\\n\\nQ: I have five tokens, and some of them are white. Are all of them black?\\nA: N\\n\\nQ: I have eight tokens, and some of them are black. Are some of them white?\\nA: Y\\n\\nQ: I have two tokens, and some of them are black. Are some of them white?\\nA: Y\\n\\nQ: I have five tokens, and some of them are white. Are one of them black?\\nA: Y\\n\\nQ: I have nine tokens, and some of them are black. Are some of them white?\\nA: Y\\n\\nQ: I have nine tokens, and some of them are white. Are all of them black?\\nA: N\\n\\nQ: I have nine tokens, and some of them are white. Are all of them black?\\nA: N\\n\\nQ: I have ten tokens, and some of them are white. Are some of them black?\\nA: Y\\n\\nQ: I have seven tokens, and some of them are black. Are one of them white?\\nA: Y\\n\\nQ: I have one tokens, and some of them are white. Are all of them black?\\nA: N\\n\\nQ: I have one tokens, and some of them are white. Are all of them black?\\nA: N\\n\\nQ: I have ten tokens, and some of them are black. Are one of them white?\\nA: Y\\n\\nQ: I have four tokens, and some of them are black. Are one of them white?\\nA: Y\\n\\nQ: I have eight tokens, and some of them are black. Are one of them white?\\nA: Y\\n\\nQ: I have nine tokens, and some of them are white. Are one of them black?\\nA: Y\\n\\nQ: I have nine tokens, and some of them are black. Are one of them white?\\nA: Y\\n\\nQ: I have three tokens, and some of them are black. Are one of them white?\\nA: Y\\n\\n\\n\\nQ: I have ten tokens, and one of them are white. Are one of them black?\\nA: \",\n",
       "  'expected': 'Y',\n",
       "  'generated': '1\\n\\nQ: I have',\n",
       "  'correct_strict': False,\n",
       "  'correct_lenient': False,\n",
       "  'section_counts': {'basic': 20, 'numeric': 20, 'special': 20, 'zero': 0}},\n",
       " {'prompt': \"Tokens can be either black or white. Answer Y for yes and N for no:\\n\\nRemember:\\n- Only use Y or N to answer\\n- 'some' means at least one but not all\\n- 'one' means exactly one\\n- 'all' means every single token\\n\\n\\n\\n# Basic cases - using 'all'\\n\\nQ: I have five tokens, and all of them are white. Are one of them white?\\nA: Y\\n\\nQ: I have four tokens, and all of them are white. Are some of them black?\\nA: N\\n\\nQ: I have seven tokens, and all of them are white. Are all of them white?\\nA: Y\\n\\nQ: I have four tokens, and all of them are white. Are all of them white?\\nA: Y\\n\\nQ: I have four tokens, and all of them are white. Are some of them black?\\nA: N\\n\\nQ: I have four tokens, and all of them are black. Are one of them white?\\nA: N\\n\\nQ: I have six tokens, and all of them are white. Are some of them white?\\nA: Y\\n\\nQ: I have six tokens, and all of them are black. Are one of them white?\\nA: N\\n\\nQ: I have ten tokens, and all of them are white. Are all of them white?\\nA: Y\\n\\nQ: I have five tokens, and all of them are white. Are one of them black?\\nA: N\\n\\nQ: I have six tokens, and all of them are white. Are all of them black?\\nA: N\\n\\nQ: I have eight tokens, and all of them are black. Are some of them white?\\nA: N\\n\\nQ: I have three tokens, and all of them are black. Are all of them white?\\nA: N\\n\\nQ: I have ten tokens, and all of them are white. Are some of them black?\\nA: N\\n\\nQ: I have one tokens, and all of them are black. Are all of them black?\\nA: Y\\n\\nQ: I have three tokens, and all of them are white. Are all of them white?\\nA: Y\\n\\nQ: I have nine tokens, and all of them are black. Are some of them black?\\nA: Y\\n\\nQ: I have nine tokens, and all of them are black. Are one of them white?\\nA: N\\n\\nQ: I have three tokens, and all of them are white. Are one of them black?\\nA: N\\n\\nQ: I have one tokens, and all of them are white. Are some of them black?\\nA: N\\n\\n\\n\\n# Cases with 'one'\\n\\nQ: I have one tokens, and one of them are black. Are some of them white?\\nA: N\\n\\nQ: I have nine tokens, and one of them are white. Are some of them black?\\nA: Y\\n\\nQ: I have ten tokens, and one of them are white. Are some of them black?\\nA: Y\\n\\nQ: I have one tokens, and one of them are black. Are one of them white?\\nA: N\\n\\nQ: I have eight tokens, and one of them are white. Are some of them black?\\nA: Y\\n\\nQ: I have nine tokens, and one of them are black. Are some of them white?\\nA: Y\\n\\nQ: I have seven tokens, and one of them are white. Are one of them black?\\nA: Y\\n\\nQ: I have eight tokens, and one of them are black. Are one of them white?\\nA: Y\\n\\nQ: I have one tokens, and one of them are white. Are some of them black?\\nA: N\\n\\nQ: I have ten tokens, and one of them are black. Are one of them white?\\nA: Y\\n\\nQ: I have seven tokens, and one of them are white. Are one of them black?\\nA: Y\\n\\nQ: I have eight tokens, and one of them are black. Are one of them white?\\nA: Y\\n\\nQ: I have ten tokens, and one of them are white. Are one of them black?\\nA: Y\\n\\nQ: I have two tokens, and one of them are white. Are one of them black?\\nA: Y\\n\\nQ: I have eight tokens, and one of them are white. Are some of them black?\\nA: Y\\n\\nQ: I have three tokens, and one of them are black. Are one of them white?\\nA: Y\\n\\nQ: I have seven tokens, and one of them are white. Are one of them black?\\nA: Y\\n\\nQ: I have five tokens, and one of them are black. Are some of them white?\\nA: Y\\n\\nQ: I have seven tokens, and one of them are black. Are some of them white?\\nA: Y\\n\\nQ: I have nine tokens, and one of them are white. Are some of them black?\\nA: Y\\n\\n\\n\\n# Cases with 'some'\\n\\nQ: I have two tokens, and some of them are white. Are one of them black?\\nA: Y\\n\\nQ: I have ten tokens, and some of them are white. Are all of them black?\\nA: N\\n\\nQ: I have nine tokens, and some of them are black. Are one of them white?\\nA: Y\\n\\nQ: I have one tokens, and some of them are black. Are some of them white?\\nA: N\\n\\nQ: I have four tokens, and some of them are black. Are all of them white?\\nA: N\\n\\nQ: I have seven tokens, and some of them are white. Are some of them black?\\nA: Y\\n\\nQ: I have one tokens, and some of them are white. Are all of them black?\\nA: N\\n\\nQ: I have five tokens, and some of them are white. Are some of them black?\\nA: Y\\n\\nQ: I have nine tokens, and some of them are white. Are one of them black?\\nA: Y\\n\\nQ: I have two tokens, and some of them are white. Are one of them black?\\nA: Y\\n\\nQ: I have eight tokens, and some of them are black. Are all of them white?\\nA: N\\n\\nQ: I have two tokens, and some of them are black. Are all of them white?\\nA: N\\n\\nQ: I have one tokens, and some of them are white. Are some of them black?\\nA: N\\n\\nQ: I have one tokens, and some of them are white. Are some of them black?\\nA: N\\n\\nQ: I have six tokens, and some of them are black. Are all of them white?\\nA: N\\n\\nQ: I have one tokens, and some of them are black. Are all of them white?\\nA: N\\n\\nQ: I have two tokens, and some of them are black. Are all of them white?\\nA: N\\n\\nQ: I have nine tokens, and some of them are black. Are some of them white?\\nA: Y\\n\\nQ: I have five tokens, and some of them are white. Are some of them black?\\nA: Y\\n\\nQ: I have nine tokens, and some of them are black. Are some of them white?\\nA: Y\\n\\n\\n\\nQ: I have seven tokens, and one of them are black. Are one of them white?\\nA: \",\n",
       "  'expected': 'Y',\n",
       "  'generated': '1\\n\\nQ: I have',\n",
       "  'correct_strict': False,\n",
       "  'correct_lenient': False,\n",
       "  'section_counts': {'basic': 20, 'numeric': 20, 'special': 20, 'zero': 0}},\n",
       " {'prompt': \"Tokens can be either black or white. Answer Y for yes and N for no:\\n\\nRemember:\\n- Only use Y or N to answer\\n- 'some' means at least one but not all\\n- 'one' means exactly one\\n- 'all' means every single token\\n\\n\\n\\n# Basic cases - using 'all'\\n\\nQ: I have one tokens, and all of them are white. Are all of them white?\\nA: Y\\n\\nQ: I have five tokens, and all of them are white. Are one of them white?\\nA: Y\\n\\nQ: I have four tokens, and all of them are white. Are some of them black?\\nA: N\\n\\nQ: I have ten tokens, and all of them are black. Are all of them white?\\nA: N\\n\\nQ: I have five tokens, and all of them are black. Are some of them black?\\nA: Y\\n\\nQ: I have seven tokens, and all of them are white. Are all of them white?\\nA: Y\\n\\nQ: I have six tokens, and all of them are black. Are some of them black?\\nA: Y\\n\\nQ: I have one tokens, and all of them are black. Are some of them white?\\nA: N\\n\\nQ: I have seven tokens, and all of them are black. Are all of them black?\\nA: Y\\n\\nQ: I have five tokens, and all of them are black. Are all of them white?\\nA: N\\n\\nQ: I have five tokens, and all of them are white. Are all of them black?\\nA: N\\n\\nQ: I have eight tokens, and all of them are black. Are one of them white?\\nA: N\\n\\nQ: I have nine tokens, and all of them are black. Are some of them black?\\nA: Y\\n\\nQ: I have four tokens, and all of them are white. Are one of them white?\\nA: Y\\n\\nQ: I have two tokens, and all of them are white. Are all of them black?\\nA: N\\n\\nQ: I have three tokens, and all of them are white. Are some of them white?\\nA: Y\\n\\nQ: I have five tokens, and all of them are black. Are all of them black?\\nA: Y\\n\\nQ: I have four tokens, and all of them are white. Are some of them white?\\nA: Y\\n\\nQ: I have one tokens, and all of them are white. Are some of them white?\\nA: Y\\n\\nQ: I have ten tokens, and all of them are black. Are one of them white?\\nA: N\\n\\n\\n\\n# Cases with 'one'\\n\\nQ: I have seven tokens, and one of them are white. Are one of them black?\\nA: Y\\n\\nQ: I have nine tokens, and one of them are white. Are one of them black?\\nA: Y\\n\\nQ: I have one tokens, and one of them are black. Are some of them white?\\nA: N\\n\\nQ: I have nine tokens, and one of them are white. Are one of them black?\\nA: Y\\n\\nQ: I have five tokens, and one of them are black. Are some of them white?\\nA: Y\\n\\nQ: I have ten tokens, and one of them are black. Are some of them white?\\nA: Y\\n\\nQ: I have three tokens, and one of them are black. Are some of them white?\\nA: Y\\n\\nQ: I have three tokens, and one of them are black. Are one of them white?\\nA: Y\\n\\nQ: I have five tokens, and one of them are white. Are some of them black?\\nA: Y\\n\\nQ: I have nine tokens, and one of them are black. Are one of them white?\\nA: Y\\n\\nQ: I have five tokens, and one of them are white. Are one of them black?\\nA: Y\\n\\nQ: I have five tokens, and one of them are white. Are one of them black?\\nA: Y\\n\\nQ: I have eight tokens, and one of them are white. Are one of them black?\\nA: Y\\n\\nQ: I have one tokens, and one of them are black. Are one of them white?\\nA: N\\n\\nQ: I have six tokens, and one of them are white. Are one of them black?\\nA: Y\\n\\nQ: I have six tokens, and one of them are white. Are some of them black?\\nA: Y\\n\\nQ: I have four tokens, and one of them are white. Are some of them black?\\nA: Y\\n\\nQ: I have nine tokens, and one of them are white. Are some of them black?\\nA: Y\\n\\nQ: I have four tokens, and one of them are white. Are some of them black?\\nA: Y\\n\\nQ: I have one tokens, and one of them are black. Are one of them white?\\nA: N\\n\\n\\n\\n# Cases with 'some'\\n\\nQ: I have ten tokens, and some of them are black. Are all of them white?\\nA: N\\n\\nQ: I have five tokens, and some of them are white. Are one of them black?\\nA: Y\\n\\nQ: I have four tokens, and some of them are black. Are one of them white?\\nA: Y\\n\\nQ: I have five tokens, and some of them are black. Are some of them white?\\nA: Y\\n\\nQ: I have six tokens, and some of them are white. Are one of them black?\\nA: Y\\n\\nQ: I have one tokens, and some of them are black. Are all of them white?\\nA: N\\n\\nQ: I have four tokens, and some of them are black. Are one of them white?\\nA: Y\\n\\nQ: I have five tokens, and some of them are white. Are some of them black?\\nA: Y\\n\\nQ: I have ten tokens, and some of them are white. Are one of them black?\\nA: Y\\n\\nQ: I have two tokens, and some of them are black. Are some of them white?\\nA: Y\\n\\nQ: I have nine tokens, and some of them are white. Are one of them black?\\nA: Y\\n\\nQ: I have nine tokens, and some of them are white. Are one of them black?\\nA: Y\\n\\nQ: I have ten tokens, and some of them are white. Are all of them black?\\nA: N\\n\\nQ: I have three tokens, and some of them are black. Are all of them white?\\nA: N\\n\\nQ: I have eight tokens, and some of them are black. Are one of them white?\\nA: Y\\n\\nQ: I have three tokens, and some of them are white. Are some of them black?\\nA: Y\\n\\nQ: I have four tokens, and some of them are white. Are all of them black?\\nA: N\\n\\nQ: I have four tokens, and some of them are black. Are one of them white?\\nA: Y\\n\\nQ: I have eight tokens, and some of them are black. Are some of them white?\\nA: Y\\n\\nQ: I have four tokens, and some of them are white. Are all of them black?\\nA: N\\n\\n\\n\\nQ: I have six tokens, and one of them are black. Are some of them white?\\nA: \",\n",
       "  'expected': 'Y',\n",
       "  'generated': '1\\n\\nQ: I have',\n",
       "  'correct_strict': False,\n",
       "  'correct_lenient': False,\n",
       "  'section_counts': {'basic': 20, 'numeric': 20, 'special': 20, 'zero': 0}},\n",
       " {'prompt': \"Tokens can be either black or white. Answer Y for yes and N for no:\\n\\nRemember:\\n- Only use Y or N to answer\\n- 'some' means at least one but not all\\n- 'one' means exactly one\\n- 'all' means every single token\\n\\n\\n\\n# Basic cases - using 'all'\\n\\nQ: I have one tokens, and all of them are black. Are some of them white?\\nA: N\\n\\nQ: I have nine tokens, and all of them are white. Are all of them black?\\nA: N\\n\\nQ: I have four tokens, and all of them are white. Are one of them white?\\nA: Y\\n\\nQ: I have four tokens, and all of them are black. Are some of them black?\\nA: Y\\n\\nQ: I have five tokens, and all of them are white. Are all of them black?\\nA: N\\n\\nQ: I have four tokens, and all of them are white. Are some of them black?\\nA: N\\n\\nQ: I have five tokens, and all of them are white. Are some of them black?\\nA: N\\n\\nQ: I have nine tokens, and all of them are white. Are some of them white?\\nA: Y\\n\\nQ: I have five tokens, and all of them are black. Are all of them black?\\nA: Y\\n\\nQ: I have seven tokens, and all of them are black. Are all of them black?\\nA: Y\\n\\nQ: I have seven tokens, and all of them are black. Are some of them black?\\nA: Y\\n\\nQ: I have ten tokens, and all of them are white. Are some of them white?\\nA: Y\\n\\nQ: I have one tokens, and all of them are black. Are one of them white?\\nA: N\\n\\nQ: I have two tokens, and all of them are black. Are one of them white?\\nA: N\\n\\nQ: I have eight tokens, and all of them are black. Are some of them white?\\nA: N\\n\\nQ: I have eight tokens, and all of them are black. Are some of them black?\\nA: Y\\n\\nQ: I have six tokens, and all of them are black. Are all of them white?\\nA: N\\n\\nQ: I have four tokens, and all of them are white. Are all of them white?\\nA: Y\\n\\nQ: I have nine tokens, and all of them are white. Are some of them white?\\nA: Y\\n\\nQ: I have two tokens, and all of them are black. Are one of them white?\\nA: N\\n\\n\\n\\n# Cases with 'one'\\n\\nQ: I have eight tokens, and one of them are black. Are some of them white?\\nA: Y\\n\\nQ: I have nine tokens, and one of them are white. Are one of them black?\\nA: Y\\n\\nQ: I have nine tokens, and one of them are black. Are one of them white?\\nA: Y\\n\\nQ: I have nine tokens, and one of them are white. Are some of them black?\\nA: Y\\n\\nQ: I have five tokens, and one of them are white. Are some of them black?\\nA: Y\\n\\nQ: I have two tokens, and one of them are white. Are some of them black?\\nA: Y\\n\\nQ: I have eight tokens, and one of them are white. Are some of them black?\\nA: Y\\n\\nQ: I have five tokens, and one of them are black. Are one of them white?\\nA: Y\\n\\nQ: I have two tokens, and one of them are black. Are some of them white?\\nA: Y\\n\\nQ: I have four tokens, and one of them are white. Are one of them black?\\nA: Y\\n\\nQ: I have eight tokens, and one of them are black. Are one of them white?\\nA: Y\\n\\nQ: I have four tokens, and one of them are black. Are some of them white?\\nA: Y\\n\\nQ: I have six tokens, and one of them are white. Are one of them black?\\nA: Y\\n\\nQ: I have two tokens, and one of them are white. Are one of them black?\\nA: Y\\n\\nQ: I have ten tokens, and one of them are white. Are some of them black?\\nA: Y\\n\\nQ: I have eight tokens, and one of them are black. Are some of them white?\\nA: Y\\n\\nQ: I have eight tokens, and one of them are white. Are some of them black?\\nA: Y\\n\\nQ: I have seven tokens, and one of them are black. Are some of them white?\\nA: Y\\n\\nQ: I have four tokens, and one of them are black. Are one of them white?\\nA: Y\\n\\nQ: I have six tokens, and one of them are white. Are one of them black?\\nA: Y\\n\\n\\n\\n# Cases with 'some'\\n\\nQ: I have eight tokens, and some of them are white. Are all of them black?\\nA: N\\n\\nQ: I have eight tokens, and some of them are black. Are all of them white?\\nA: N\\n\\nQ: I have five tokens, and some of them are black. Are one of them white?\\nA: Y\\n\\nQ: I have three tokens, and some of them are black. Are some of them white?\\nA: Y\\n\\nQ: I have seven tokens, and some of them are white. Are one of them black?\\nA: Y\\n\\nQ: I have nine tokens, and some of them are black. Are some of them white?\\nA: Y\\n\\nQ: I have two tokens, and some of them are black. Are all of them white?\\nA: N\\n\\nQ: I have five tokens, and some of them are white. Are all of them black?\\nA: N\\n\\nQ: I have nine tokens, and some of them are black. Are all of them white?\\nA: N\\n\\nQ: I have one tokens, and some of them are black. Are all of them white?\\nA: N\\n\\nQ: I have ten tokens, and some of them are black. Are one of them white?\\nA: Y\\n\\nQ: I have three tokens, and some of them are white. Are all of them black?\\nA: N\\n\\nQ: I have one tokens, and some of them are black. Are all of them white?\\nA: N\\n\\nQ: I have two tokens, and some of them are white. Are all of them black?\\nA: N\\n\\nQ: I have six tokens, and some of them are white. Are one of them black?\\nA: Y\\n\\nQ: I have ten tokens, and some of them are white. Are some of them black?\\nA: Y\\n\\nQ: I have six tokens, and some of them are black. Are one of them white?\\nA: Y\\n\\nQ: I have two tokens, and some of them are white. Are one of them black?\\nA: Y\\n\\nQ: I have two tokens, and some of them are black. Are some of them white?\\nA: Y\\n\\nQ: I have six tokens, and some of them are black. Are some of them white?\\nA: Y\\n\\n\\n\\nQ: I have three tokens, and one of them are black. Are some of them white?\\nA: \",\n",
       "  'expected': 'Y',\n",
       "  'generated': '1\\n\\nQ: I have',\n",
       "  'correct_strict': False,\n",
       "  'correct_lenient': False,\n",
       "  'section_counts': {'basic': 20, 'numeric': 20, 'special': 20, 'zero': 0}},\n",
       " {'prompt': \"Tokens can be either black or white. Answer Y for yes and N for no:\\n\\nRemember:\\n- Only use Y or N to answer\\n- 'some' means at least one but not all\\n- 'one' means exactly one\\n- 'all' means every single token\\n\\n\\n\\n# Basic cases - using 'all'\\n\\nQ: I have six tokens, and all of them are white. Are all of them white?\\nA: Y\\n\\nQ: I have three tokens, and all of them are black. Are all of them black?\\nA: Y\\n\\nQ: I have four tokens, and all of them are white. Are all of them black?\\nA: N\\n\\nQ: I have ten tokens, and all of them are black. Are some of them black?\\nA: Y\\n\\nQ: I have three tokens, and all of them are white. Are some of them black?\\nA: N\\n\\nQ: I have two tokens, and all of them are black. Are one of them black?\\nA: Y\\n\\nQ: I have three tokens, and all of them are white. Are all of them white?\\nA: Y\\n\\nQ: I have three tokens, and all of them are white. Are one of them black?\\nA: N\\n\\nQ: I have five tokens, and all of them are white. Are one of them black?\\nA: N\\n\\nQ: I have one tokens, and all of them are black. Are one of them white?\\nA: N\\n\\nQ: I have nine tokens, and all of them are black. Are all of them white?\\nA: N\\n\\nQ: I have three tokens, and all of them are white. Are some of them white?\\nA: Y\\n\\nQ: I have six tokens, and all of them are black. Are one of them black?\\nA: Y\\n\\nQ: I have ten tokens, and all of them are black. Are some of them black?\\nA: Y\\n\\nQ: I have one tokens, and all of them are white. Are one of them black?\\nA: N\\n\\nQ: I have four tokens, and all of them are white. Are some of them black?\\nA: N\\n\\nQ: I have seven tokens, and all of them are white. Are all of them white?\\nA: Y\\n\\nQ: I have six tokens, and all of them are white. Are all of them black?\\nA: N\\n\\nQ: I have six tokens, and all of them are white. Are all of them white?\\nA: Y\\n\\nQ: I have four tokens, and all of them are black. Are some of them white?\\nA: N\\n\\n\\n\\n# Cases with 'one'\\n\\nQ: I have seven tokens, and one of them are black. Are some of them white?\\nA: Y\\n\\nQ: I have six tokens, and one of them are white. Are one of them black?\\nA: Y\\n\\nQ: I have five tokens, and one of them are white. Are some of them black?\\nA: Y\\n\\nQ: I have ten tokens, and one of them are white. Are some of them black?\\nA: Y\\n\\nQ: I have four tokens, and one of them are black. Are some of them white?\\nA: Y\\n\\nQ: I have one tokens, and one of them are black. Are one of them white?\\nA: N\\n\\nQ: I have seven tokens, and one of them are black. Are one of them white?\\nA: Y\\n\\nQ: I have seven tokens, and one of them are black. Are one of them white?\\nA: Y\\n\\nQ: I have one tokens, and one of them are black. Are some of them white?\\nA: N\\n\\nQ: I have one tokens, and one of them are black. Are one of them white?\\nA: N\\n\\nQ: I have eight tokens, and one of them are white. Are some of them black?\\nA: Y\\n\\nQ: I have eight tokens, and one of them are white. Are some of them black?\\nA: Y\\n\\nQ: I have four tokens, and one of them are white. Are some of them black?\\nA: Y\\n\\nQ: I have eight tokens, and one of them are white. Are one of them black?\\nA: Y\\n\\nQ: I have five tokens, and one of them are black. Are some of them white?\\nA: Y\\n\\nQ: I have one tokens, and one of them are black. Are one of them white?\\nA: N\\n\\nQ: I have nine tokens, and one of them are white. Are some of them black?\\nA: Y\\n\\nQ: I have ten tokens, and one of them are white. Are one of them black?\\nA: Y\\n\\nQ: I have two tokens, and one of them are white. Are one of them black?\\nA: Y\\n\\nQ: I have ten tokens, and one of them are white. Are some of them black?\\nA: Y\\n\\n\\n\\n# Cases with 'some'\\n\\nQ: I have ten tokens, and some of them are white. Are some of them black?\\nA: Y\\n\\nQ: I have five tokens, and some of them are white. Are some of them black?\\nA: Y\\n\\nQ: I have one tokens, and some of them are white. Are some of them black?\\nA: N\\n\\nQ: I have four tokens, and some of them are black. Are some of them white?\\nA: Y\\n\\nQ: I have two tokens, and some of them are white. Are all of them black?\\nA: N\\n\\nQ: I have ten tokens, and some of them are white. Are one of them black?\\nA: Y\\n\\nQ: I have ten tokens, and some of them are black. Are one of them white?\\nA: Y\\n\\nQ: I have five tokens, and some of them are white. Are some of them black?\\nA: Y\\n\\nQ: I have five tokens, and some of them are black. Are one of them white?\\nA: Y\\n\\nQ: I have eight tokens, and some of them are white. Are some of them black?\\nA: Y\\n\\nQ: I have two tokens, and some of them are black. Are some of them white?\\nA: Y\\n\\nQ: I have three tokens, and some of them are black. Are some of them white?\\nA: Y\\n\\nQ: I have five tokens, and some of them are black. Are some of them white?\\nA: Y\\n\\nQ: I have six tokens, and some of them are white. Are one of them black?\\nA: Y\\n\\nQ: I have five tokens, and some of them are white. Are some of them black?\\nA: Y\\n\\nQ: I have six tokens, and some of them are black. Are some of them white?\\nA: Y\\n\\nQ: I have nine tokens, and some of them are white. Are all of them black?\\nA: N\\n\\nQ: I have three tokens, and some of them are white. Are all of them black?\\nA: N\\n\\nQ: I have five tokens, and some of them are black. Are all of them white?\\nA: N\\n\\nQ: I have six tokens, and some of them are black. Are some of them white?\\nA: Y\\n\\n\\n\\nQ: I have ten tokens, and one of them are black. Are some of them white?\\nA: \",\n",
       "  'expected': 'Y',\n",
       "  'generated': '100%\\n\\nQ',\n",
       "  'correct_strict': False,\n",
       "  'correct_lenient': False,\n",
       "  'section_counts': {'basic': 20, 'numeric': 20, 'special': 20, 'zero': 0}},\n",
       " {'prompt': \"Tokens can be either black or white. Answer Y for yes and N for no:\\n\\nRemember:\\n- Only use Y or N to answer\\n- 'some' means at least one but not all\\n- 'one' means exactly one\\n- 'all' means every single token\\n\\n\\n\\n# Basic cases - using 'all'\\n\\nQ: I have one tokens, and all of them are black. Are all of them black?\\nA: Y\\n\\nQ: I have seven tokens, and all of them are white. Are one of them black?\\nA: N\\n\\nQ: I have three tokens, and all of them are black. Are one of them white?\\nA: N\\n\\nQ: I have four tokens, and all of them are black. Are some of them white?\\nA: N\\n\\nQ: I have five tokens, and all of them are black. Are one of them black?\\nA: Y\\n\\nQ: I have two tokens, and all of them are black. Are all of them white?\\nA: N\\n\\nQ: I have eight tokens, and all of them are black. Are all of them white?\\nA: N\\n\\nQ: I have ten tokens, and all of them are white. Are all of them white?\\nA: Y\\n\\nQ: I have six tokens, and all of them are white. Are all of them white?\\nA: Y\\n\\nQ: I have five tokens, and all of them are black. Are one of them black?\\nA: Y\\n\\nQ: I have eight tokens, and all of them are white. Are one of them white?\\nA: Y\\n\\nQ: I have one tokens, and all of them are white. Are all of them black?\\nA: N\\n\\nQ: I have one tokens, and all of them are white. Are some of them black?\\nA: N\\n\\nQ: I have nine tokens, and all of them are white. Are some of them white?\\nA: Y\\n\\nQ: I have eight tokens, and all of them are black. Are all of them black?\\nA: Y\\n\\nQ: I have ten tokens, and all of them are black. Are some of them white?\\nA: N\\n\\nQ: I have three tokens, and all of them are black. Are one of them white?\\nA: N\\n\\nQ: I have four tokens, and all of them are black. Are all of them white?\\nA: N\\n\\nQ: I have nine tokens, and all of them are white. Are some of them black?\\nA: N\\n\\nQ: I have three tokens, and all of them are black. Are one of them white?\\nA: N\\n\\n\\n\\n# Cases with 'one'\\n\\nQ: I have three tokens, and one of them are black. Are some of them white?\\nA: Y\\n\\nQ: I have three tokens, and one of them are black. Are one of them white?\\nA: Y\\n\\nQ: I have two tokens, and one of them are black. Are one of them white?\\nA: Y\\n\\nQ: I have three tokens, and one of them are white. Are one of them black?\\nA: Y\\n\\nQ: I have six tokens, and one of them are black. Are some of them white?\\nA: Y\\n\\nQ: I have three tokens, and one of them are black. Are some of them white?\\nA: Y\\n\\nQ: I have seven tokens, and one of them are white. Are some of them black?\\nA: Y\\n\\nQ: I have four tokens, and one of them are black. Are one of them white?\\nA: Y\\n\\nQ: I have three tokens, and one of them are white. Are some of them black?\\nA: Y\\n\\nQ: I have six tokens, and one of them are white. Are some of them black?\\nA: Y\\n\\nQ: I have four tokens, and one of them are white. Are some of them black?\\nA: Y\\n\\nQ: I have eight tokens, and one of them are black. Are one of them white?\\nA: Y\\n\\nQ: I have seven tokens, and one of them are white. Are one of them black?\\nA: Y\\n\\nQ: I have two tokens, and one of them are white. Are some of them black?\\nA: Y\\n\\nQ: I have ten tokens, and one of them are white. Are one of them black?\\nA: Y\\n\\nQ: I have eight tokens, and one of them are white. Are one of them black?\\nA: Y\\n\\nQ: I have five tokens, and one of them are black. Are some of them white?\\nA: Y\\n\\nQ: I have one tokens, and one of them are black. Are one of them white?\\nA: N\\n\\nQ: I have six tokens, and one of them are black. Are one of them white?\\nA: Y\\n\\nQ: I have seven tokens, and one of them are black. Are one of them white?\\nA: Y\\n\\n\\n\\n# Cases with 'some'\\n\\nQ: I have four tokens, and some of them are white. Are all of them black?\\nA: N\\n\\nQ: I have three tokens, and some of them are black. Are one of them white?\\nA: Y\\n\\nQ: I have nine tokens, and some of them are white. Are some of them black?\\nA: Y\\n\\nQ: I have two tokens, and some of them are black. Are some of them white?\\nA: Y\\n\\nQ: I have six tokens, and some of them are black. Are some of them white?\\nA: Y\\n\\nQ: I have nine tokens, and some of them are black. Are some of them white?\\nA: Y\\n\\nQ: I have nine tokens, and some of them are black. Are all of them white?\\nA: N\\n\\nQ: I have three tokens, and some of them are white. Are some of them black?\\nA: Y\\n\\nQ: I have nine tokens, and some of them are black. Are some of them white?\\nA: Y\\n\\nQ: I have ten tokens, and some of them are black. Are one of them white?\\nA: Y\\n\\nQ: I have one tokens, and some of them are white. Are one of them black?\\nA: N\\n\\nQ: I have three tokens, and some of them are white. Are all of them black?\\nA: N\\n\\nQ: I have six tokens, and some of them are white. Are all of them black?\\nA: N\\n\\nQ: I have three tokens, and some of them are black. Are one of them white?\\nA: Y\\n\\nQ: I have five tokens, and some of them are black. Are one of them white?\\nA: Y\\n\\nQ: I have one tokens, and some of them are black. Are all of them white?\\nA: N\\n\\nQ: I have four tokens, and some of them are black. Are some of them white?\\nA: Y\\n\\nQ: I have four tokens, and some of them are black. Are some of them white?\\nA: Y\\n\\nQ: I have ten tokens, and some of them are black. Are all of them white?\\nA: N\\n\\nQ: I have nine tokens, and some of them are black. Are all of them white?\\nA: N\\n\\n\\n\\nQ: I have seven tokens, and one of them are black. Are some of them white?\\nA: \",\n",
       "  'expected': 'Y',\n",
       "  'generated': '1\\n\\nQ: I have',\n",
       "  'correct_strict': False,\n",
       "  'correct_lenient': False,\n",
       "  'section_counts': {'basic': 20, 'numeric': 20, 'special': 20, 'zero': 0}},\n",
       " {'prompt': \"Tokens can be either black or white. Answer Y for yes and N for no:\\n\\nRemember:\\n- Only use Y or N to answer\\n- 'some' means at least one but not all\\n- 'one' means exactly one\\n- 'all' means every single token\\n\\n\\n\\n# Basic cases - using 'all'\\n\\nQ: I have two tokens, and all of them are white. Are one of them black?\\nA: N\\n\\nQ: I have three tokens, and all of them are white. Are all of them white?\\nA: Y\\n\\nQ: I have five tokens, and all of them are white. Are all of them white?\\nA: Y\\n\\nQ: I have two tokens, and all of them are black. Are one of them black?\\nA: Y\\n\\nQ: I have seven tokens, and all of them are white. Are all of them white?\\nA: Y\\n\\nQ: I have nine tokens, and all of them are white. Are all of them black?\\nA: N\\n\\nQ: I have eight tokens, and all of them are black. Are all of them white?\\nA: N\\n\\nQ: I have four tokens, and all of them are black. Are all of them black?\\nA: Y\\n\\nQ: I have nine tokens, and all of them are black. Are one of them black?\\nA: Y\\n\\nQ: I have three tokens, and all of them are black. Are some of them black?\\nA: Y\\n\\nQ: I have two tokens, and all of them are white. Are all of them white?\\nA: Y\\n\\nQ: I have five tokens, and all of them are black. Are one of them white?\\nA: N\\n\\nQ: I have three tokens, and all of them are white. Are all of them white?\\nA: Y\\n\\nQ: I have six tokens, and all of them are white. Are some of them white?\\nA: Y\\n\\nQ: I have six tokens, and all of them are black. Are all of them black?\\nA: Y\\n\\nQ: I have eight tokens, and all of them are black. Are some of them white?\\nA: N\\n\\nQ: I have nine tokens, and all of them are black. Are some of them white?\\nA: N\\n\\nQ: I have nine tokens, and all of them are black. Are all of them white?\\nA: N\\n\\nQ: I have four tokens, and all of them are black. Are some of them white?\\nA: N\\n\\nQ: I have five tokens, and all of them are white. Are some of them white?\\nA: Y\\n\\n\\n\\n# Cases with 'one'\\n\\nQ: I have eight tokens, and one of them are white. Are some of them black?\\nA: Y\\n\\nQ: I have nine tokens, and one of them are black. Are one of them white?\\nA: Y\\n\\nQ: I have four tokens, and one of them are white. Are some of them black?\\nA: Y\\n\\nQ: I have six tokens, and one of them are black. Are one of them white?\\nA: Y\\n\\nQ: I have two tokens, and one of them are black. Are some of them white?\\nA: Y\\n\\nQ: I have two tokens, and one of them are white. Are one of them black?\\nA: Y\\n\\nQ: I have eight tokens, and one of them are black. Are some of them white?\\nA: Y\\n\\nQ: I have ten tokens, and one of them are white. Are one of them black?\\nA: Y\\n\\nQ: I have two tokens, and one of them are black. Are one of them white?\\nA: Y\\n\\nQ: I have nine tokens, and one of them are white. Are one of them black?\\nA: Y\\n\\nQ: I have one tokens, and one of them are white. Are one of them black?\\nA: N\\n\\nQ: I have ten tokens, and one of them are white. Are one of them black?\\nA: Y\\n\\nQ: I have six tokens, and one of them are white. Are some of them black?\\nA: Y\\n\\nQ: I have six tokens, and one of them are black. Are one of them white?\\nA: Y\\n\\nQ: I have six tokens, and one of them are white. Are one of them black?\\nA: Y\\n\\nQ: I have one tokens, and one of them are black. Are one of them white?\\nA: N\\n\\nQ: I have nine tokens, and one of them are black. Are one of them white?\\nA: Y\\n\\nQ: I have six tokens, and one of them are black. Are some of them white?\\nA: Y\\n\\nQ: I have nine tokens, and one of them are white. Are some of them black?\\nA: Y\\n\\nQ: I have two tokens, and one of them are white. Are one of them black?\\nA: Y\\n\\n\\n\\n# Cases with 'some'\\n\\nQ: I have five tokens, and some of them are white. Are one of them black?\\nA: Y\\n\\nQ: I have one tokens, and some of them are black. Are one of them white?\\nA: N\\n\\nQ: I have ten tokens, and some of them are white. Are some of them black?\\nA: Y\\n\\nQ: I have six tokens, and some of them are white. Are some of them black?\\nA: Y\\n\\nQ: I have three tokens, and some of them are black. Are all of them white?\\nA: N\\n\\nQ: I have ten tokens, and some of them are white. Are some of them black?\\nA: Y\\n\\nQ: I have one tokens, and some of them are white. Are all of them black?\\nA: N\\n\\nQ: I have five tokens, and some of them are black. Are all of them white?\\nA: N\\n\\nQ: I have four tokens, and some of them are white. Are all of them black?\\nA: N\\n\\nQ: I have six tokens, and some of them are black. Are one of them white?\\nA: Y\\n\\nQ: I have four tokens, and some of them are white. Are some of them black?\\nA: Y\\n\\nQ: I have nine tokens, and some of them are black. Are one of them white?\\nA: Y\\n\\nQ: I have six tokens, and some of them are white. Are all of them black?\\nA: N\\n\\nQ: I have one tokens, and some of them are white. Are some of them black?\\nA: N\\n\\nQ: I have six tokens, and some of them are black. Are some of them white?\\nA: Y\\n\\nQ: I have eight tokens, and some of them are white. Are all of them black?\\nA: N\\n\\nQ: I have six tokens, and some of them are black. Are one of them white?\\nA: Y\\n\\nQ: I have five tokens, and some of them are black. Are one of them white?\\nA: Y\\n\\nQ: I have ten tokens, and some of them are black. Are all of them white?\\nA: N\\n\\nQ: I have one tokens, and some of them are white. Are all of them black?\\nA: N\\n\\n\\n\\nQ: I have three tokens, and one of them are white. Are some of them black?\\nA: \",\n",
       "  'expected': 'Y',\n",
       "  'generated': '1\\n\\nQ: I have',\n",
       "  'correct_strict': False,\n",
       "  'correct_lenient': False,\n",
       "  'section_counts': {'basic': 20, 'numeric': 20, 'special': 20, 'zero': 0}},\n",
       " {'prompt': \"Tokens can be either black or white. Answer Y for yes and N for no:\\n\\nRemember:\\n- Only use Y or N to answer\\n- 'some' means at least one but not all\\n- 'one' means exactly one\\n- 'all' means every single token\\n\\n\\n\\n# Basic cases - using 'all'\\n\\nQ: I have seven tokens, and all of them are black. Are all of them black?\\nA: Y\\n\\nQ: I have one tokens, and all of them are black. Are one of them white?\\nA: N\\n\\nQ: I have seven tokens, and all of them are white. Are all of them black?\\nA: N\\n\\nQ: I have one tokens, and all of them are white. Are some of them white?\\nA: Y\\n\\nQ: I have four tokens, and all of them are white. Are some of them white?\\nA: Y\\n\\nQ: I have three tokens, and all of them are black. Are some of them white?\\nA: N\\n\\nQ: I have six tokens, and all of them are black. Are all of them white?\\nA: N\\n\\nQ: I have two tokens, and all of them are black. Are one of them black?\\nA: Y\\n\\nQ: I have two tokens, and all of them are white. Are one of them black?\\nA: N\\n\\nQ: I have eight tokens, and all of them are black. Are one of them white?\\nA: N\\n\\nQ: I have ten tokens, and all of them are black. Are some of them white?\\nA: N\\n\\nQ: I have one tokens, and all of them are black. Are all of them white?\\nA: N\\n\\nQ: I have two tokens, and all of them are black. Are one of them white?\\nA: N\\n\\nQ: I have one tokens, and all of them are white. Are some of them white?\\nA: Y\\n\\nQ: I have one tokens, and all of them are black. Are all of them white?\\nA: N\\n\\nQ: I have ten tokens, and all of them are black. Are one of them black?\\nA: Y\\n\\nQ: I have four tokens, and all of them are white. Are one of them black?\\nA: N\\n\\nQ: I have five tokens, and all of them are black. Are all of them black?\\nA: Y\\n\\nQ: I have four tokens, and all of them are white. Are one of them white?\\nA: Y\\n\\nQ: I have eight tokens, and all of them are white. Are some of them white?\\nA: Y\\n\\n\\n\\n# Cases with 'one'\\n\\nQ: I have five tokens, and one of them are white. Are one of them black?\\nA: Y\\n\\nQ: I have four tokens, and one of them are black. Are some of them white?\\nA: Y\\n\\nQ: I have eight tokens, and one of them are white. Are one of them black?\\nA: Y\\n\\nQ: I have eight tokens, and one of them are black. Are one of them white?\\nA: Y\\n\\nQ: I have seven tokens, and one of them are white. Are some of them black?\\nA: Y\\n\\nQ: I have five tokens, and one of them are black. Are one of them white?\\nA: Y\\n\\nQ: I have six tokens, and one of them are white. Are one of them black?\\nA: Y\\n\\nQ: I have eight tokens, and one of them are white. Are one of them black?\\nA: Y\\n\\nQ: I have nine tokens, and one of them are white. Are some of them black?\\nA: Y\\n\\nQ: I have two tokens, and one of them are white. Are one of them black?\\nA: Y\\n\\nQ: I have nine tokens, and one of them are white. Are one of them black?\\nA: Y\\n\\nQ: I have six tokens, and one of them are white. Are one of them black?\\nA: Y\\n\\nQ: I have two tokens, and one of them are black. Are some of them white?\\nA: Y\\n\\nQ: I have seven tokens, and one of them are black. Are one of them white?\\nA: Y\\n\\nQ: I have seven tokens, and one of them are white. Are some of them black?\\nA: Y\\n\\nQ: I have eight tokens, and one of them are white. Are one of them black?\\nA: Y\\n\\nQ: I have nine tokens, and one of them are black. Are some of them white?\\nA: Y\\n\\nQ: I have six tokens, and one of them are black. Are some of them white?\\nA: Y\\n\\nQ: I have three tokens, and one of them are black. Are some of them white?\\nA: Y\\n\\nQ: I have three tokens, and one of them are black. Are one of them white?\\nA: Y\\n\\n\\n\\n# Cases with 'some'\\n\\nQ: I have nine tokens, and some of them are white. Are one of them black?\\nA: Y\\n\\nQ: I have ten tokens, and some of them are black. Are all of them white?\\nA: N\\n\\nQ: I have three tokens, and some of them are white. Are some of them black?\\nA: Y\\n\\nQ: I have three tokens, and some of them are white. Are some of them black?\\nA: Y\\n\\nQ: I have nine tokens, and some of them are white. Are one of them black?\\nA: Y\\n\\nQ: I have ten tokens, and some of them are white. Are one of them black?\\nA: Y\\n\\nQ: I have ten tokens, and some of them are black. Are all of them white?\\nA: N\\n\\nQ: I have two tokens, and some of them are white. Are all of them black?\\nA: N\\n\\nQ: I have two tokens, and some of them are white. Are one of them black?\\nA: Y\\n\\nQ: I have seven tokens, and some of them are black. Are all of them white?\\nA: N\\n\\nQ: I have six tokens, and some of them are black. Are one of them white?\\nA: Y\\n\\nQ: I have ten tokens, and some of them are black. Are one of them white?\\nA: Y\\n\\nQ: I have six tokens, and some of them are black. Are some of them white?\\nA: Y\\n\\nQ: I have eight tokens, and some of them are white. Are one of them black?\\nA: Y\\n\\nQ: I have one tokens, and some of them are white. Are some of them black?\\nA: N\\n\\nQ: I have six tokens, and some of them are white. Are one of them black?\\nA: Y\\n\\nQ: I have six tokens, and some of them are black. Are one of them white?\\nA: Y\\n\\nQ: I have four tokens, and some of them are white. Are some of them black?\\nA: Y\\n\\nQ: I have five tokens, and some of them are black. Are one of them white?\\nA: Y\\n\\nQ: I have one tokens, and some of them are white. Are some of them black?\\nA: N\\n\\n\\n\\nQ: I have one tokens, and one of them are white. Are some of them black?\\nA: \",\n",
       "  'expected': 'N',\n",
       "  'generated': '0\\n\\nQ: I have',\n",
       "  'correct_strict': False,\n",
       "  'correct_lenient': False,\n",
       "  'section_counts': {'basic': 20, 'numeric': 20, 'special': 20, 'zero': 0}},\n",
       " {'prompt': \"Tokens can be either black or white. Answer Y for yes and N for no:\\n\\nRemember:\\n- Only use Y or N to answer\\n- 'some' means at least one but not all\\n- 'one' means exactly one\\n- 'all' means every single token\\n\\n\\n\\n# Basic cases - using 'all'\\n\\nQ: I have three tokens, and all of them are black. Are all of them black?\\nA: Y\\n\\nQ: I have nine tokens, and all of them are white. Are some of them black?\\nA: N\\n\\nQ: I have eight tokens, and all of them are white. Are one of them white?\\nA: Y\\n\\nQ: I have one tokens, and all of them are black. Are some of them black?\\nA: Y\\n\\nQ: I have three tokens, and all of them are white. Are one of them white?\\nA: Y\\n\\nQ: I have three tokens, and all of them are white. Are one of them black?\\nA: N\\n\\nQ: I have seven tokens, and all of them are white. Are all of them black?\\nA: N\\n\\nQ: I have four tokens, and all of them are white. Are one of them black?\\nA: N\\n\\nQ: I have two tokens, and all of them are black. Are some of them white?\\nA: N\\n\\nQ: I have six tokens, and all of them are white. Are some of them black?\\nA: N\\n\\nQ: I have two tokens, and all of them are black. Are some of them white?\\nA: N\\n\\nQ: I have nine tokens, and all of them are black. Are all of them black?\\nA: Y\\n\\nQ: I have ten tokens, and all of them are white. Are some of them black?\\nA: N\\n\\nQ: I have four tokens, and all of them are white. Are all of them black?\\nA: N\\n\\nQ: I have ten tokens, and all of them are black. Are all of them black?\\nA: Y\\n\\nQ: I have nine tokens, and all of them are black. Are one of them black?\\nA: Y\\n\\nQ: I have two tokens, and all of them are white. Are some of them white?\\nA: Y\\n\\nQ: I have four tokens, and all of them are white. Are one of them white?\\nA: Y\\n\\nQ: I have four tokens, and all of them are black. Are all of them white?\\nA: N\\n\\nQ: I have three tokens, and all of them are black. Are one of them white?\\nA: N\\n\\n\\n\\n# Cases with 'one'\\n\\nQ: I have two tokens, and one of them are black. Are some of them white?\\nA: Y\\n\\nQ: I have two tokens, and one of them are black. Are some of them white?\\nA: Y\\n\\nQ: I have seven tokens, and one of them are black. Are one of them white?\\nA: Y\\n\\nQ: I have five tokens, and one of them are white. Are one of them black?\\nA: Y\\n\\nQ: I have eight tokens, and one of them are black. Are one of them white?\\nA: Y\\n\\nQ: I have four tokens, and one of them are black. Are one of them white?\\nA: Y\\n\\nQ: I have one tokens, and one of them are white. Are one of them black?\\nA: N\\n\\nQ: I have seven tokens, and one of them are black. Are one of them white?\\nA: Y\\n\\nQ: I have six tokens, and one of them are white. Are some of them black?\\nA: Y\\n\\nQ: I have ten tokens, and one of them are white. Are one of them black?\\nA: Y\\n\\nQ: I have one tokens, and one of them are white. Are one of them black?\\nA: N\\n\\nQ: I have six tokens, and one of them are white. Are some of them black?\\nA: Y\\n\\nQ: I have two tokens, and one of them are white. Are one of them black?\\nA: Y\\n\\nQ: I have four tokens, and one of them are white. Are some of them black?\\nA: Y\\n\\nQ: I have nine tokens, and one of them are white. Are some of them black?\\nA: Y\\n\\nQ: I have four tokens, and one of them are white. Are some of them black?\\nA: Y\\n\\nQ: I have four tokens, and one of them are black. Are one of them white?\\nA: Y\\n\\nQ: I have two tokens, and one of them are black. Are some of them white?\\nA: Y\\n\\nQ: I have six tokens, and one of them are black. Are some of them white?\\nA: Y\\n\\nQ: I have two tokens, and one of them are white. Are some of them black?\\nA: Y\\n\\n\\n\\n# Cases with 'some'\\n\\nQ: I have seven tokens, and some of them are black. Are all of them white?\\nA: N\\n\\nQ: I have three tokens, and some of them are white. Are all of them black?\\nA: N\\n\\nQ: I have eight tokens, and some of them are white. Are some of them black?\\nA: Y\\n\\nQ: I have seven tokens, and some of them are white. Are some of them black?\\nA: Y\\n\\nQ: I have six tokens, and some of them are white. Are all of them black?\\nA: N\\n\\nQ: I have five tokens, and some of them are white. Are all of them black?\\nA: N\\n\\nQ: I have eight tokens, and some of them are black. Are one of them white?\\nA: Y\\n\\nQ: I have nine tokens, and some of them are white. Are some of them black?\\nA: Y\\n\\nQ: I have seven tokens, and some of them are white. Are one of them black?\\nA: Y\\n\\nQ: I have four tokens, and some of them are black. Are all of them white?\\nA: N\\n\\nQ: I have five tokens, and some of them are black. Are some of them white?\\nA: Y\\n\\nQ: I have one tokens, and some of them are black. Are one of them white?\\nA: N\\n\\nQ: I have four tokens, and some of them are white. Are all of them black?\\nA: N\\n\\nQ: I have one tokens, and some of them are black. Are some of them white?\\nA: N\\n\\nQ: I have seven tokens, and some of them are black. Are all of them white?\\nA: N\\n\\nQ: I have seven tokens, and some of them are black. Are all of them white?\\nA: N\\n\\nQ: I have four tokens, and some of them are black. Are one of them white?\\nA: Y\\n\\nQ: I have five tokens, and some of them are black. Are one of them white?\\nA: Y\\n\\nQ: I have six tokens, and some of them are black. Are some of them white?\\nA: Y\\n\\nQ: I have seven tokens, and some of them are white. Are some of them black?\\nA: Y\\n\\n\\n\\nQ: I have five tokens, and one of them are white. Are some of them black?\\nA: \",\n",
       "  'expected': 'Y',\n",
       "  'generated': '1\\n\\nQ: I have',\n",
       "  'correct_strict': False,\n",
       "  'correct_lenient': False,\n",
       "  'section_counts': {'basic': 20, 'numeric': 20, 'special': 20, 'zero': 0}},\n",
       " {'prompt': \"Tokens can be either black or white. Answer Y for yes and N for no:\\n\\nRemember:\\n- Only use Y or N to answer\\n- 'some' means at least one but not all\\n- 'one' means exactly one\\n- 'all' means every single token\\n\\n\\n\\n# Basic cases - using 'all'\\n\\nQ: I have eight tokens, and all of them are white. Are all of them black?\\nA: N\\n\\nQ: I have two tokens, and all of them are black. Are some of them black?\\nA: Y\\n\\nQ: I have six tokens, and all of them are black. Are one of them black?\\nA: Y\\n\\nQ: I have four tokens, and all of them are white. Are one of them white?\\nA: Y\\n\\nQ: I have four tokens, and all of them are white. Are one of them black?\\nA: N\\n\\nQ: I have six tokens, and all of them are black. Are one of them black?\\nA: Y\\n\\nQ: I have seven tokens, and all of them are white. Are all of them black?\\nA: N\\n\\nQ: I have nine tokens, and all of them are black. Are one of them white?\\nA: N\\n\\nQ: I have seven tokens, and all of them are white. Are all of them white?\\nA: Y\\n\\nQ: I have eight tokens, and all of them are white. Are all of them white?\\nA: Y\\n\\nQ: I have five tokens, and all of them are white. Are all of them black?\\nA: N\\n\\nQ: I have two tokens, and all of them are black. Are one of them black?\\nA: Y\\n\\nQ: I have seven tokens, and all of them are white. Are all of them black?\\nA: N\\n\\nQ: I have one tokens, and all of them are white. Are one of them black?\\nA: N\\n\\nQ: I have six tokens, and all of them are white. Are one of them white?\\nA: Y\\n\\nQ: I have seven tokens, and all of them are white. Are some of them black?\\nA: N\\n\\nQ: I have six tokens, and all of them are black. Are all of them black?\\nA: Y\\n\\nQ: I have two tokens, and all of them are black. Are some of them black?\\nA: Y\\n\\nQ: I have three tokens, and all of them are white. Are one of them black?\\nA: N\\n\\nQ: I have three tokens, and all of them are white. Are some of them black?\\nA: N\\n\\n\\n\\n# Cases with 'one'\\n\\nQ: I have nine tokens, and one of them are white. Are some of them black?\\nA: Y\\n\\nQ: I have six tokens, and one of them are white. Are some of them black?\\nA: Y\\n\\nQ: I have six tokens, and one of them are black. Are some of them white?\\nA: Y\\n\\nQ: I have six tokens, and one of them are white. Are one of them black?\\nA: Y\\n\\nQ: I have ten tokens, and one of them are black. Are one of them white?\\nA: Y\\n\\nQ: I have seven tokens, and one of them are black. Are some of them white?\\nA: Y\\n\\nQ: I have nine tokens, and one of them are white. Are one of them black?\\nA: Y\\n\\nQ: I have three tokens, and one of them are white. Are one of them black?\\nA: Y\\n\\nQ: I have four tokens, and one of them are white. Are one of them black?\\nA: Y\\n\\nQ: I have two tokens, and one of them are white. Are some of them black?\\nA: Y\\n\\nQ: I have nine tokens, and one of them are white. Are some of them black?\\nA: Y\\n\\nQ: I have ten tokens, and one of them are white. Are some of them black?\\nA: Y\\n\\nQ: I have ten tokens, and one of them are white. Are some of them black?\\nA: Y\\n\\nQ: I have eight tokens, and one of them are black. Are some of them white?\\nA: Y\\n\\nQ: I have nine tokens, and one of them are black. Are some of them white?\\nA: Y\\n\\nQ: I have five tokens, and one of them are white. Are some of them black?\\nA: Y\\n\\nQ: I have ten tokens, and one of them are white. Are one of them black?\\nA: Y\\n\\nQ: I have ten tokens, and one of them are white. Are one of them black?\\nA: Y\\n\\nQ: I have five tokens, and one of them are white. Are one of them black?\\nA: Y\\n\\nQ: I have eight tokens, and one of them are white. Are one of them black?\\nA: Y\\n\\n\\n\\n# Cases with 'some'\\n\\nQ: I have seven tokens, and some of them are black. Are one of them white?\\nA: Y\\n\\nQ: I have six tokens, and some of them are black. Are one of them white?\\nA: Y\\n\\nQ: I have three tokens, and some of them are black. Are some of them white?\\nA: Y\\n\\nQ: I have seven tokens, and some of them are white. Are some of them black?\\nA: Y\\n\\nQ: I have nine tokens, and some of them are black. Are all of them white?\\nA: N\\n\\nQ: I have ten tokens, and some of them are black. Are all of them white?\\nA: N\\n\\nQ: I have eight tokens, and some of them are black. Are all of them white?\\nA: N\\n\\nQ: I have two tokens, and some of them are white. Are one of them black?\\nA: Y\\n\\nQ: I have ten tokens, and some of them are black. Are some of them white?\\nA: Y\\n\\nQ: I have ten tokens, and some of them are black. Are all of them white?\\nA: N\\n\\nQ: I have six tokens, and some of them are white. Are some of them black?\\nA: Y\\n\\nQ: I have five tokens, and some of them are white. Are all of them black?\\nA: N\\n\\nQ: I have one tokens, and some of them are white. Are some of them black?\\nA: N\\n\\nQ: I have seven tokens, and some of them are black. Are one of them white?\\nA: Y\\n\\nQ: I have five tokens, and some of them are black. Are some of them white?\\nA: Y\\n\\nQ: I have eight tokens, and some of them are white. Are all of them black?\\nA: N\\n\\nQ: I have five tokens, and some of them are white. Are all of them black?\\nA: N\\n\\nQ: I have seven tokens, and some of them are white. Are all of them black?\\nA: N\\n\\nQ: I have nine tokens, and some of them are white. Are one of them black?\\nA: Y\\n\\nQ: I have two tokens, and some of them are white. Are all of them black?\\nA: N\\n\\n\\n\\nQ: I have one tokens, and one of them are white. Are one of them black?\\nA: \",\n",
       "  'expected': 'N',\n",
       "  'generated': '1\\n\\nQ: I have',\n",
       "  'correct_strict': False,\n",
       "  'correct_lenient': False,\n",
       "  'section_counts': {'basic': 20, 'numeric': 20, 'special': 20, 'zero': 0}},\n",
       " {'prompt': \"Tokens can be either black or white. Answer Y for yes and N for no:\\n\\nRemember:\\n- Only use Y or N to answer\\n- 'some' means at least one but not all\\n- 'one' means exactly one\\n- 'all' means every single token\\n\\n\\n\\n# Basic cases - using 'all'\\n\\nQ: I have five tokens, and all of them are black. Are one of them white?\\nA: N\\n\\nQ: I have nine tokens, and all of them are white. Are some of them white?\\nA: Y\\n\\nQ: I have two tokens, and all of them are white. Are all of them white?\\nA: Y\\n\\nQ: I have three tokens, and all of them are white. Are some of them black?\\nA: N\\n\\nQ: I have seven tokens, and all of them are white. Are some of them black?\\nA: N\\n\\nQ: I have eight tokens, and all of them are white. Are one of them black?\\nA: N\\n\\nQ: I have ten tokens, and all of them are black. Are one of them white?\\nA: N\\n\\nQ: I have eight tokens, and all of them are black. Are one of them white?\\nA: N\\n\\nQ: I have four tokens, and all of them are white. Are one of them white?\\nA: Y\\n\\nQ: I have nine tokens, and all of them are white. Are some of them white?\\nA: Y\\n\\nQ: I have five tokens, and all of them are black. Are all of them black?\\nA: Y\\n\\nQ: I have three tokens, and all of them are white. Are some of them black?\\nA: N\\n\\nQ: I have ten tokens, and all of them are white. Are all of them white?\\nA: Y\\n\\nQ: I have six tokens, and all of them are black. Are all of them black?\\nA: Y\\n\\nQ: I have nine tokens, and all of them are white. Are all of them black?\\nA: N\\n\\nQ: I have six tokens, and all of them are white. Are some of them black?\\nA: N\\n\\nQ: I have one tokens, and all of them are black. Are all of them black?\\nA: Y\\n\\nQ: I have one tokens, and all of them are black. Are all of them white?\\nA: N\\n\\nQ: I have eight tokens, and all of them are black. Are one of them white?\\nA: N\\n\\nQ: I have three tokens, and all of them are black. Are one of them black?\\nA: Y\\n\\n\\n\\n# Cases with 'one'\\n\\nQ: I have nine tokens, and one of them are white. Are some of them black?\\nA: Y\\n\\nQ: I have ten tokens, and one of them are white. Are some of them black?\\nA: Y\\n\\nQ: I have one tokens, and one of them are black. Are one of them white?\\nA: N\\n\\nQ: I have nine tokens, and one of them are white. Are some of them black?\\nA: Y\\n\\nQ: I have seven tokens, and one of them are white. Are one of them black?\\nA: Y\\n\\nQ: I have one tokens, and one of them are white. Are one of them black?\\nA: N\\n\\nQ: I have ten tokens, and one of them are black. Are one of them white?\\nA: Y\\n\\nQ: I have ten tokens, and one of them are black. Are one of them white?\\nA: Y\\n\\nQ: I have two tokens, and one of them are black. Are some of them white?\\nA: Y\\n\\nQ: I have nine tokens, and one of them are white. Are one of them black?\\nA: Y\\n\\nQ: I have five tokens, and one of them are white. Are one of them black?\\nA: Y\\n\\nQ: I have three tokens, and one of them are white. Are some of them black?\\nA: Y\\n\\nQ: I have eight tokens, and one of them are white. Are some of them black?\\nA: Y\\n\\nQ: I have eight tokens, and one of them are black. Are some of them white?\\nA: Y\\n\\nQ: I have four tokens, and one of them are white. Are some of them black?\\nA: Y\\n\\nQ: I have ten tokens, and one of them are black. Are one of them white?\\nA: Y\\n\\nQ: I have ten tokens, and one of them are white. Are one of them black?\\nA: Y\\n\\nQ: I have seven tokens, and one of them are black. Are one of them white?\\nA: Y\\n\\nQ: I have ten tokens, and one of them are black. Are some of them white?\\nA: Y\\n\\nQ: I have four tokens, and one of them are black. Are some of them white?\\nA: Y\\n\\n\\n\\n# Cases with 'some'\\n\\nQ: I have ten tokens, and some of them are black. Are some of them white?\\nA: Y\\n\\nQ: I have seven tokens, and some of them are black. Are some of them white?\\nA: Y\\n\\nQ: I have six tokens, and some of them are black. Are one of them white?\\nA: Y\\n\\nQ: I have seven tokens, and some of them are white. Are all of them black?\\nA: N\\n\\nQ: I have two tokens, and some of them are black. Are some of them white?\\nA: Y\\n\\nQ: I have five tokens, and some of them are black. Are all of them white?\\nA: N\\n\\nQ: I have three tokens, and some of them are white. Are one of them black?\\nA: Y\\n\\nQ: I have two tokens, and some of them are white. Are all of them black?\\nA: N\\n\\nQ: I have eight tokens, and some of them are black. Are all of them white?\\nA: N\\n\\nQ: I have six tokens, and some of them are white. Are all of them black?\\nA: N\\n\\nQ: I have two tokens, and some of them are white. Are all of them black?\\nA: N\\n\\nQ: I have four tokens, and some of them are white. Are some of them black?\\nA: Y\\n\\nQ: I have five tokens, and some of them are black. Are some of them white?\\nA: Y\\n\\nQ: I have nine tokens, and some of them are white. Are all of them black?\\nA: N\\n\\nQ: I have nine tokens, and some of them are white. Are all of them black?\\nA: N\\n\\nQ: I have ten tokens, and some of them are black. Are some of them white?\\nA: Y\\n\\nQ: I have four tokens, and some of them are black. Are some of them white?\\nA: Y\\n\\nQ: I have two tokens, and some of them are white. Are all of them black?\\nA: N\\n\\nQ: I have four tokens, and some of them are white. Are one of them black?\\nA: Y\\n\\nQ: I have one tokens, and some of them are black. Are some of them white?\\nA: N\\n\\n\\n\\nQ: I have five tokens, and one of them are black. Are some of them white?\\nA: \",\n",
       "  'expected': 'Y',\n",
       "  'generated': '1\\n\\nQ: I have',\n",
       "  'correct_strict': False,\n",
       "  'correct_lenient': False,\n",
       "  'section_counts': {'basic': 20, 'numeric': 20, 'special': 20, 'zero': 0}},\n",
       " {'prompt': \"Tokens can be either black or white. Answer Y for yes and N for no:\\n\\nRemember:\\n- Only use Y or N to answer\\n- 'some' means at least one but not all\\n- 'one' means exactly one\\n- 'all' means every single token\\n\\n\\n\\n# Basic cases - using 'all'\\n\\nQ: I have nine tokens, and all of them are black. Are one of them white?\\nA: N\\n\\nQ: I have eight tokens, and all of them are white. Are some of them white?\\nA: Y\\n\\nQ: I have two tokens, and all of them are white. Are one of them black?\\nA: N\\n\\nQ: I have seven tokens, and all of them are black. Are one of them black?\\nA: Y\\n\\nQ: I have six tokens, and all of them are black. Are some of them white?\\nA: N\\n\\nQ: I have three tokens, and all of them are black. Are all of them white?\\nA: N\\n\\nQ: I have two tokens, and all of them are black. Are one of them black?\\nA: Y\\n\\nQ: I have eight tokens, and all of them are black. Are some of them black?\\nA: Y\\n\\nQ: I have three tokens, and all of them are white. Are some of them white?\\nA: Y\\n\\nQ: I have eight tokens, and all of them are white. Are some of them black?\\nA: N\\n\\nQ: I have five tokens, and all of them are white. Are some of them black?\\nA: N\\n\\nQ: I have six tokens, and all of them are black. Are all of them white?\\nA: N\\n\\nQ: I have nine tokens, and all of them are black. Are some of them black?\\nA: Y\\n\\nQ: I have seven tokens, and all of them are black. Are all of them black?\\nA: Y\\n\\nQ: I have two tokens, and all of them are white. Are one of them white?\\nA: Y\\n\\nQ: I have six tokens, and all of them are black. Are some of them white?\\nA: N\\n\\nQ: I have three tokens, and all of them are black. Are some of them white?\\nA: N\\n\\nQ: I have nine tokens, and all of them are white. Are some of them white?\\nA: Y\\n\\nQ: I have three tokens, and all of them are white. Are some of them black?\\nA: N\\n\\nQ: I have one tokens, and all of them are black. Are one of them white?\\nA: N\\n\\n\\n\\n# Cases with 'one'\\n\\nQ: I have six tokens, and one of them are white. Are some of them black?\\nA: Y\\n\\nQ: I have two tokens, and one of them are black. Are one of them white?\\nA: Y\\n\\nQ: I have five tokens, and one of them are white. Are some of them black?\\nA: Y\\n\\nQ: I have one tokens, and one of them are black. Are some of them white?\\nA: N\\n\\nQ: I have four tokens, and one of them are black. Are one of them white?\\nA: Y\\n\\nQ: I have one tokens, and one of them are black. Are one of them white?\\nA: N\\n\\nQ: I have one tokens, and one of them are white. Are some of them black?\\nA: N\\n\\nQ: I have two tokens, and one of them are black. Are some of them white?\\nA: Y\\n\\nQ: I have nine tokens, and one of them are black. Are some of them white?\\nA: Y\\n\\nQ: I have five tokens, and one of them are white. Are one of them black?\\nA: Y\\n\\nQ: I have two tokens, and one of them are white. Are one of them black?\\nA: Y\\n\\nQ: I have five tokens, and one of them are white. Are some of them black?\\nA: Y\\n\\nQ: I have two tokens, and one of them are white. Are some of them black?\\nA: Y\\n\\nQ: I have one tokens, and one of them are white. Are some of them black?\\nA: N\\n\\nQ: I have one tokens, and one of them are black. Are some of them white?\\nA: N\\n\\nQ: I have seven tokens, and one of them are white. Are one of them black?\\nA: Y\\n\\nQ: I have seven tokens, and one of them are black. Are one of them white?\\nA: Y\\n\\nQ: I have six tokens, and one of them are white. Are one of them black?\\nA: Y\\n\\nQ: I have five tokens, and one of them are black. Are some of them white?\\nA: Y\\n\\nQ: I have nine tokens, and one of them are black. Are some of them white?\\nA: Y\\n\\n\\n\\n# Cases with 'some'\\n\\nQ: I have one tokens, and some of them are white. Are one of them black?\\nA: N\\n\\nQ: I have five tokens, and some of them are white. Are one of them black?\\nA: Y\\n\\nQ: I have four tokens, and some of them are white. Are one of them black?\\nA: Y\\n\\nQ: I have three tokens, and some of them are black. Are one of them white?\\nA: Y\\n\\nQ: I have four tokens, and some of them are white. Are some of them black?\\nA: Y\\n\\nQ: I have ten tokens, and some of them are white. Are one of them black?\\nA: Y\\n\\nQ: I have nine tokens, and some of them are white. Are some of them black?\\nA: Y\\n\\nQ: I have ten tokens, and some of them are white. Are some of them black?\\nA: Y\\n\\nQ: I have ten tokens, and some of them are black. Are all of them white?\\nA: N\\n\\nQ: I have ten tokens, and some of them are black. Are all of them white?\\nA: N\\n\\nQ: I have three tokens, and some of them are white. Are one of them black?\\nA: Y\\n\\nQ: I have six tokens, and some of them are black. Are all of them white?\\nA: N\\n\\nQ: I have eight tokens, and some of them are white. Are some of them black?\\nA: Y\\n\\nQ: I have one tokens, and some of them are black. Are one of them white?\\nA: N\\n\\nQ: I have three tokens, and some of them are black. Are one of them white?\\nA: Y\\n\\nQ: I have six tokens, and some of them are black. Are some of them white?\\nA: Y\\n\\nQ: I have seven tokens, and some of them are white. Are all of them black?\\nA: N\\n\\nQ: I have eight tokens, and some of them are white. Are some of them black?\\nA: Y\\n\\nQ: I have three tokens, and some of them are white. Are one of them black?\\nA: Y\\n\\nQ: I have two tokens, and some of them are black. Are one of them white?\\nA: Y\\n\\n\\n\\nQ: I have six tokens, and one of them are black. Are some of them white?\\nA: \",\n",
       "  'expected': 'Y',\n",
       "  'generated': '1\\n\\nQ: I have',\n",
       "  'correct_strict': False,\n",
       "  'correct_lenient': False,\n",
       "  'section_counts': {'basic': 20, 'numeric': 20, 'special': 20, 'zero': 0}},\n",
       " {'prompt': \"Tokens can be either black or white. Answer Y for yes and N for no:\\n\\nRemember:\\n- Only use Y or N to answer\\n- 'some' means at least one but not all\\n- 'one' means exactly one\\n- 'all' means every single token\\n\\n\\n\\n# Basic cases - using 'all'\\n\\nQ: I have four tokens, and all of them are white. Are some of them white?\\nA: Y\\n\\nQ: I have three tokens, and all of them are black. Are all of them black?\\nA: Y\\n\\nQ: I have seven tokens, and all of them are white. Are some of them black?\\nA: N\\n\\nQ: I have five tokens, and all of them are white. Are some of them white?\\nA: Y\\n\\nQ: I have five tokens, and all of them are white. Are one of them white?\\nA: Y\\n\\nQ: I have four tokens, and all of them are black. Are one of them black?\\nA: Y\\n\\nQ: I have seven tokens, and all of them are white. Are one of them black?\\nA: N\\n\\nQ: I have five tokens, and all of them are black. Are one of them black?\\nA: Y\\n\\nQ: I have five tokens, and all of them are white. Are some of them white?\\nA: Y\\n\\nQ: I have seven tokens, and all of them are black. Are one of them black?\\nA: Y\\n\\nQ: I have two tokens, and all of them are black. Are some of them white?\\nA: N\\n\\nQ: I have ten tokens, and all of them are black. Are all of them black?\\nA: Y\\n\\nQ: I have two tokens, and all of them are black. Are all of them black?\\nA: Y\\n\\nQ: I have ten tokens, and all of them are black. Are all of them white?\\nA: N\\n\\nQ: I have two tokens, and all of them are white. Are some of them white?\\nA: Y\\n\\nQ: I have eight tokens, and all of them are white. Are one of them black?\\nA: N\\n\\nQ: I have four tokens, and all of them are black. Are one of them white?\\nA: N\\n\\nQ: I have six tokens, and all of them are white. Are some of them white?\\nA: Y\\n\\nQ: I have two tokens, and all of them are white. Are some of them white?\\nA: Y\\n\\nQ: I have three tokens, and all of them are white. Are some of them white?\\nA: Y\\n\\n\\n\\n# Cases with 'one'\\n\\nQ: I have one tokens, and one of them are white. Are some of them black?\\nA: N\\n\\nQ: I have nine tokens, and one of them are black. Are some of them white?\\nA: Y\\n\\nQ: I have three tokens, and one of them are white. Are some of them black?\\nA: Y\\n\\nQ: I have six tokens, and one of them are black. Are one of them white?\\nA: Y\\n\\nQ: I have ten tokens, and one of them are white. Are some of them black?\\nA: Y\\n\\nQ: I have one tokens, and one of them are white. Are some of them black?\\nA: N\\n\\nQ: I have nine tokens, and one of them are black. Are one of them white?\\nA: Y\\n\\nQ: I have nine tokens, and one of them are black. Are one of them white?\\nA: Y\\n\\nQ: I have nine tokens, and one of them are white. Are some of them black?\\nA: Y\\n\\nQ: I have ten tokens, and one of them are white. Are some of them black?\\nA: Y\\n\\nQ: I have four tokens, and one of them are black. Are one of them white?\\nA: Y\\n\\nQ: I have ten tokens, and one of them are white. Are some of them black?\\nA: Y\\n\\nQ: I have seven tokens, and one of them are black. Are one of them white?\\nA: Y\\n\\nQ: I have three tokens, and one of them are white. Are one of them black?\\nA: Y\\n\\nQ: I have three tokens, and one of them are black. Are one of them white?\\nA: Y\\n\\nQ: I have five tokens, and one of them are white. Are one of them black?\\nA: Y\\n\\nQ: I have eight tokens, and one of them are black. Are some of them white?\\nA: Y\\n\\nQ: I have six tokens, and one of them are white. Are one of them black?\\nA: Y\\n\\nQ: I have three tokens, and one of them are black. Are one of them white?\\nA: Y\\n\\nQ: I have one tokens, and one of them are white. Are one of them black?\\nA: N\\n\\n\\n\\n# Cases with 'some'\\n\\nQ: I have ten tokens, and some of them are white. Are some of them black?\\nA: Y\\n\\nQ: I have six tokens, and some of them are white. Are one of them black?\\nA: Y\\n\\nQ: I have nine tokens, and some of them are black. Are some of them white?\\nA: Y\\n\\nQ: I have seven tokens, and some of them are white. Are some of them black?\\nA: Y\\n\\nQ: I have four tokens, and some of them are black. Are some of them white?\\nA: Y\\n\\nQ: I have ten tokens, and some of them are white. Are all of them black?\\nA: N\\n\\nQ: I have two tokens, and some of them are white. Are all of them black?\\nA: N\\n\\nQ: I have eight tokens, and some of them are black. Are some of them white?\\nA: Y\\n\\nQ: I have four tokens, and some of them are white. Are all of them black?\\nA: N\\n\\nQ: I have ten tokens, and some of them are black. Are all of them white?\\nA: N\\n\\nQ: I have four tokens, and some of them are white. Are all of them black?\\nA: N\\n\\nQ: I have ten tokens, and some of them are white. Are some of them black?\\nA: Y\\n\\nQ: I have six tokens, and some of them are white. Are all of them black?\\nA: N\\n\\nQ: I have two tokens, and some of them are white. Are one of them black?\\nA: Y\\n\\nQ: I have nine tokens, and some of them are black. Are all of them white?\\nA: N\\n\\nQ: I have six tokens, and some of them are white. Are some of them black?\\nA: Y\\n\\nQ: I have four tokens, and some of them are white. Are all of them black?\\nA: N\\n\\nQ: I have five tokens, and some of them are black. Are some of them white?\\nA: Y\\n\\nQ: I have six tokens, and some of them are black. Are one of them white?\\nA: Y\\n\\nQ: I have two tokens, and some of them are black. Are one of them white?\\nA: Y\\n\\n\\n\\nQ: I have ten tokens, and one of them are white. Are one of them black?\\nA: \",\n",
       "  'expected': 'Y',\n",
       "  'generated': '100%\\n\\nQ',\n",
       "  'correct_strict': False,\n",
       "  'correct_lenient': False,\n",
       "  'section_counts': {'basic': 20, 'numeric': 20, 'special': 20, 'zero': 0}},\n",
       " {'prompt': \"Tokens can be either black or white. Answer Y for yes and N for no:\\n\\nRemember:\\n- Only use Y or N to answer\\n- 'some' means at least one but not all\\n- 'one' means exactly one\\n- 'all' means every single token\\n\\n\\n\\n# Basic cases - using 'all'\\n\\nQ: I have three tokens, and all of them are white. Are all of them white?\\nA: Y\\n\\nQ: I have two tokens, and all of them are white. Are one of them white?\\nA: Y\\n\\nQ: I have five tokens, and all of them are black. Are all of them white?\\nA: N\\n\\nQ: I have four tokens, and all of them are white. Are some of them white?\\nA: Y\\n\\nQ: I have five tokens, and all of them are white. Are one of them white?\\nA: Y\\n\\nQ: I have six tokens, and all of them are white. Are some of them white?\\nA: Y\\n\\nQ: I have nine tokens, and all of them are black. Are some of them black?\\nA: Y\\n\\nQ: I have eight tokens, and all of them are black. Are all of them black?\\nA: Y\\n\\nQ: I have eight tokens, and all of them are black. Are one of them white?\\nA: N\\n\\nQ: I have three tokens, and all of them are white. Are all of them black?\\nA: N\\n\\nQ: I have five tokens, and all of them are black. Are all of them white?\\nA: N\\n\\nQ: I have seven tokens, and all of them are white. Are all of them black?\\nA: N\\n\\nQ: I have five tokens, and all of them are white. Are one of them white?\\nA: Y\\n\\nQ: I have six tokens, and all of them are black. Are all of them white?\\nA: N\\n\\nQ: I have six tokens, and all of them are black. Are some of them white?\\nA: N\\n\\nQ: I have one tokens, and all of them are white. Are some of them black?\\nA: N\\n\\nQ: I have six tokens, and all of them are white. Are some of them white?\\nA: Y\\n\\nQ: I have nine tokens, and all of them are black. Are one of them white?\\nA: N\\n\\nQ: I have eight tokens, and all of them are white. Are one of them white?\\nA: Y\\n\\nQ: I have seven tokens, and all of them are black. Are all of them white?\\nA: N\\n\\n\\n\\n# Cases with 'one'\\n\\nQ: I have eight tokens, and one of them are white. Are one of them black?\\nA: Y\\n\\nQ: I have eight tokens, and one of them are white. Are some of them black?\\nA: Y\\n\\nQ: I have four tokens, and one of them are white. Are some of them black?\\nA: Y\\n\\nQ: I have nine tokens, and one of them are black. Are one of them white?\\nA: Y\\n\\nQ: I have two tokens, and one of them are black. Are one of them white?\\nA: Y\\n\\nQ: I have three tokens, and one of them are white. Are some of them black?\\nA: Y\\n\\nQ: I have four tokens, and one of them are white. Are some of them black?\\nA: Y\\n\\nQ: I have ten tokens, and one of them are black. Are one of them white?\\nA: Y\\n\\nQ: I have one tokens, and one of them are black. Are one of them white?\\nA: N\\n\\nQ: I have three tokens, and one of them are white. Are one of them black?\\nA: Y\\n\\nQ: I have six tokens, and one of them are white. Are some of them black?\\nA: Y\\n\\nQ: I have two tokens, and one of them are black. Are some of them white?\\nA: Y\\n\\nQ: I have ten tokens, and one of them are black. Are some of them white?\\nA: Y\\n\\nQ: I have four tokens, and one of them are white. Are one of them black?\\nA: Y\\n\\nQ: I have three tokens, and one of them are black. Are one of them white?\\nA: Y\\n\\nQ: I have eight tokens, and one of them are white. Are one of them black?\\nA: Y\\n\\nQ: I have ten tokens, and one of them are white. Are one of them black?\\nA: Y\\n\\nQ: I have ten tokens, and one of them are white. Are one of them black?\\nA: Y\\n\\nQ: I have two tokens, and one of them are black. Are one of them white?\\nA: Y\\n\\nQ: I have three tokens, and one of them are black. Are some of them white?\\nA: Y\\n\\n\\n\\n# Cases with 'some'\\n\\nQ: I have one tokens, and some of them are black. Are all of them white?\\nA: N\\n\\nQ: I have two tokens, and some of them are white. Are one of them black?\\nA: Y\\n\\nQ: I have three tokens, and some of them are white. Are all of them black?\\nA: N\\n\\nQ: I have nine tokens, and some of them are white. Are all of them black?\\nA: N\\n\\nQ: I have ten tokens, and some of them are white. Are some of them black?\\nA: Y\\n\\nQ: I have ten tokens, and some of them are black. Are some of them white?\\nA: Y\\n\\nQ: I have one tokens, and some of them are black. Are some of them white?\\nA: N\\n\\nQ: I have four tokens, and some of them are white. Are all of them black?\\nA: N\\n\\nQ: I have six tokens, and some of them are white. Are one of them black?\\nA: Y\\n\\nQ: I have four tokens, and some of them are white. Are one of them black?\\nA: Y\\n\\nQ: I have five tokens, and some of them are white. Are all of them black?\\nA: N\\n\\nQ: I have four tokens, and some of them are black. Are some of them white?\\nA: Y\\n\\nQ: I have four tokens, and some of them are white. Are some of them black?\\nA: Y\\n\\nQ: I have nine tokens, and some of them are white. Are all of them black?\\nA: N\\n\\nQ: I have three tokens, and some of them are white. Are some of them black?\\nA: Y\\n\\nQ: I have one tokens, and some of them are white. Are some of them black?\\nA: N\\n\\nQ: I have eight tokens, and some of them are white. Are one of them black?\\nA: Y\\n\\nQ: I have eight tokens, and some of them are white. Are all of them black?\\nA: N\\n\\nQ: I have nine tokens, and some of them are black. Are one of them white?\\nA: Y\\n\\nQ: I have ten tokens, and some of them are white. Are all of them black?\\nA: N\\n\\n\\n\\nQ: I have ten tokens, and one of them are white. Are some of them black?\\nA: \",\n",
       "  'expected': 'Y',\n",
       "  'generated': '1\\n\\nQ: I have',\n",
       "  'correct_strict': False,\n",
       "  'correct_lenient': False,\n",
       "  'section_counts': {'basic': 20, 'numeric': 20, 'special': 20, 'zero': 0}},\n",
       " {'prompt': \"Tokens can be either black or white. Answer Y for yes and N for no:\\n\\nRemember:\\n- Only use Y or N to answer\\n- 'some' means at least one but not all\\n- 'one' means exactly one\\n- 'all' means every single token\\n\\n\\n\\n# Basic cases - using 'all'\\n\\nQ: I have five tokens, and all of them are black. Are all of them white?\\nA: N\\n\\nQ: I have six tokens, and all of them are white. Are all of them black?\\nA: N\\n\\nQ: I have seven tokens, and all of them are white. Are one of them black?\\nA: N\\n\\nQ: I have five tokens, and all of them are white. Are some of them white?\\nA: Y\\n\\nQ: I have one tokens, and all of them are white. Are some of them black?\\nA: N\\n\\nQ: I have two tokens, and all of them are black. Are all of them black?\\nA: Y\\n\\nQ: I have nine tokens, and all of them are black. Are some of them white?\\nA: N\\n\\nQ: I have six tokens, and all of them are white. Are all of them white?\\nA: Y\\n\\nQ: I have three tokens, and all of them are white. Are all of them black?\\nA: N\\n\\nQ: I have six tokens, and all of them are white. Are all of them white?\\nA: Y\\n\\nQ: I have seven tokens, and all of them are black. Are some of them black?\\nA: Y\\n\\nQ: I have three tokens, and all of them are black. Are all of them white?\\nA: N\\n\\nQ: I have ten tokens, and all of them are black. Are all of them black?\\nA: Y\\n\\nQ: I have five tokens, and all of them are black. Are one of them black?\\nA: Y\\n\\nQ: I have eight tokens, and all of them are white. Are one of them black?\\nA: N\\n\\nQ: I have eight tokens, and all of them are white. Are one of them black?\\nA: N\\n\\nQ: I have six tokens, and all of them are white. Are one of them black?\\nA: N\\n\\nQ: I have four tokens, and all of them are white. Are all of them black?\\nA: N\\n\\nQ: I have four tokens, and all of them are white. Are some of them black?\\nA: N\\n\\nQ: I have nine tokens, and all of them are black. Are some of them black?\\nA: Y\\n\\n\\n\\n# Cases with 'one'\\n\\nQ: I have seven tokens, and one of them are black. Are one of them white?\\nA: Y\\n\\nQ: I have seven tokens, and one of them are black. Are one of them white?\\nA: Y\\n\\nQ: I have three tokens, and one of them are black. Are one of them white?\\nA: Y\\n\\nQ: I have eight tokens, and one of them are black. Are one of them white?\\nA: Y\\n\\nQ: I have ten tokens, and one of them are white. Are one of them black?\\nA: Y\\n\\nQ: I have seven tokens, and one of them are black. Are some of them white?\\nA: Y\\n\\nQ: I have two tokens, and one of them are white. Are some of them black?\\nA: Y\\n\\nQ: I have ten tokens, and one of them are white. Are one of them black?\\nA: Y\\n\\nQ: I have four tokens, and one of them are white. Are one of them black?\\nA: Y\\n\\nQ: I have ten tokens, and one of them are black. Are one of them white?\\nA: Y\\n\\nQ: I have ten tokens, and one of them are black. Are some of them white?\\nA: Y\\n\\nQ: I have four tokens, and one of them are black. Are some of them white?\\nA: Y\\n\\nQ: I have eight tokens, and one of them are white. Are some of them black?\\nA: Y\\n\\nQ: I have five tokens, and one of them are white. Are some of them black?\\nA: Y\\n\\nQ: I have three tokens, and one of them are black. Are one of them white?\\nA: Y\\n\\nQ: I have eight tokens, and one of them are white. Are some of them black?\\nA: Y\\n\\nQ: I have one tokens, and one of them are white. Are one of them black?\\nA: N\\n\\nQ: I have one tokens, and one of them are white. Are one of them black?\\nA: N\\n\\nQ: I have three tokens, and one of them are white. Are one of them black?\\nA: Y\\n\\nQ: I have six tokens, and one of them are white. Are some of them black?\\nA: Y\\n\\n\\n\\n# Cases with 'some'\\n\\nQ: I have one tokens, and some of them are black. Are one of them white?\\nA: N\\n\\nQ: I have three tokens, and some of them are black. Are one of them white?\\nA: Y\\n\\nQ: I have ten tokens, and some of them are black. Are some of them white?\\nA: Y\\n\\nQ: I have four tokens, and some of them are white. Are one of them black?\\nA: Y\\n\\nQ: I have three tokens, and some of them are white. Are one of them black?\\nA: Y\\n\\nQ: I have seven tokens, and some of them are white. Are one of them black?\\nA: Y\\n\\nQ: I have nine tokens, and some of them are white. Are all of them black?\\nA: N\\n\\nQ: I have four tokens, and some of them are black. Are all of them white?\\nA: N\\n\\nQ: I have six tokens, and some of them are black. Are some of them white?\\nA: Y\\n\\nQ: I have three tokens, and some of them are black. Are all of them white?\\nA: N\\n\\nQ: I have eight tokens, and some of them are black. Are all of them white?\\nA: N\\n\\nQ: I have one tokens, and some of them are white. Are one of them black?\\nA: N\\n\\nQ: I have nine tokens, and some of them are white. Are some of them black?\\nA: Y\\n\\nQ: I have three tokens, and some of them are white. Are one of them black?\\nA: Y\\n\\nQ: I have two tokens, and some of them are white. Are all of them black?\\nA: N\\n\\nQ: I have five tokens, and some of them are black. Are all of them white?\\nA: N\\n\\nQ: I have ten tokens, and some of them are white. Are one of them black?\\nA: Y\\n\\nQ: I have seven tokens, and some of them are white. Are one of them black?\\nA: Y\\n\\nQ: I have ten tokens, and some of them are white. Are one of them black?\\nA: Y\\n\\nQ: I have two tokens, and some of them are black. Are all of them white?\\nA: N\\n\\n\\n\\nQ: I have one tokens, and one of them are black. Are some of them white?\\nA: \",\n",
       "  'expected': 'N',\n",
       "  'generated': '1\\n\\nQ: I have',\n",
       "  'correct_strict': False,\n",
       "  'correct_lenient': False,\n",
       "  'section_counts': {'basic': 20, 'numeric': 20, 'special': 20, 'zero': 0}},\n",
       " {'prompt': \"Tokens can be either black or white. Answer Y for yes and N for no:\\n\\nRemember:\\n- Only use Y or N to answer\\n- 'some' means at least one but not all\\n- 'one' means exactly one\\n- 'all' means every single token\\n\\n\\n\\n# Basic cases - using 'all'\\n\\nQ: I have four tokens, and all of them are white. Are all of them black?\\nA: N\\n\\nQ: I have three tokens, and all of them are black. Are one of them white?\\nA: N\\n\\nQ: I have six tokens, and all of them are black. Are all of them white?\\nA: N\\n\\nQ: I have eight tokens, and all of them are black. Are one of them black?\\nA: Y\\n\\nQ: I have seven tokens, and all of them are white. Are some of them black?\\nA: N\\n\\nQ: I have ten tokens, and all of them are white. Are all of them black?\\nA: N\\n\\nQ: I have six tokens, and all of them are white. Are all of them black?\\nA: N\\n\\nQ: I have eight tokens, and all of them are black. Are some of them white?\\nA: N\\n\\nQ: I have six tokens, and all of them are black. Are some of them white?\\nA: N\\n\\nQ: I have six tokens, and all of them are black. Are some of them black?\\nA: Y\\n\\nQ: I have five tokens, and all of them are black. Are some of them white?\\nA: N\\n\\nQ: I have three tokens, and all of them are white. Are some of them white?\\nA: Y\\n\\nQ: I have two tokens, and all of them are black. Are all of them white?\\nA: N\\n\\nQ: I have two tokens, and all of them are white. Are one of them white?\\nA: Y\\n\\nQ: I have seven tokens, and all of them are white. Are one of them black?\\nA: N\\n\\nQ: I have four tokens, and all of them are black. Are all of them black?\\nA: Y\\n\\nQ: I have five tokens, and all of them are black. Are one of them black?\\nA: Y\\n\\nQ: I have seven tokens, and all of them are black. Are all of them black?\\nA: Y\\n\\nQ: I have five tokens, and all of them are black. Are some of them white?\\nA: N\\n\\nQ: I have seven tokens, and all of them are black. Are some of them white?\\nA: N\\n\\n\\n\\n# Cases with 'one'\\n\\nQ: I have six tokens, and one of them are black. Are one of them white?\\nA: Y\\n\\nQ: I have four tokens, and one of them are black. Are one of them white?\\nA: Y\\n\\nQ: I have six tokens, and one of them are white. Are one of them black?\\nA: Y\\n\\nQ: I have three tokens, and one of them are black. Are one of them white?\\nA: Y\\n\\nQ: I have three tokens, and one of them are white. Are one of them black?\\nA: Y\\n\\nQ: I have ten tokens, and one of them are black. Are some of them white?\\nA: Y\\n\\nQ: I have three tokens, and one of them are black. Are one of them white?\\nA: Y\\n\\nQ: I have six tokens, and one of them are black. Are some of them white?\\nA: Y\\n\\nQ: I have eight tokens, and one of them are black. Are some of them white?\\nA: Y\\n\\nQ: I have six tokens, and one of them are black. Are one of them white?\\nA: Y\\n\\nQ: I have four tokens, and one of them are black. Are one of them white?\\nA: Y\\n\\nQ: I have eight tokens, and one of them are white. Are one of them black?\\nA: Y\\n\\nQ: I have three tokens, and one of them are white. Are one of them black?\\nA: Y\\n\\nQ: I have six tokens, and one of them are black. Are some of them white?\\nA: Y\\n\\nQ: I have five tokens, and one of them are white. Are one of them black?\\nA: Y\\n\\nQ: I have nine tokens, and one of them are white. Are some of them black?\\nA: Y\\n\\nQ: I have seven tokens, and one of them are black. Are some of them white?\\nA: Y\\n\\nQ: I have ten tokens, and one of them are white. Are one of them black?\\nA: Y\\n\\nQ: I have two tokens, and one of them are white. Are some of them black?\\nA: Y\\n\\nQ: I have seven tokens, and one of them are white. Are some of them black?\\nA: Y\\n\\n\\n\\n# Cases with 'some'\\n\\nQ: I have eight tokens, and some of them are white. Are all of them black?\\nA: N\\n\\nQ: I have eight tokens, and some of them are black. Are one of them white?\\nA: Y\\n\\nQ: I have seven tokens, and some of them are white. Are one of them black?\\nA: Y\\n\\nQ: I have six tokens, and some of them are white. Are one of them black?\\nA: Y\\n\\nQ: I have seven tokens, and some of them are black. Are one of them white?\\nA: Y\\n\\nQ: I have two tokens, and some of them are white. Are some of them black?\\nA: Y\\n\\nQ: I have nine tokens, and some of them are white. Are one of them black?\\nA: Y\\n\\nQ: I have one tokens, and some of them are black. Are all of them white?\\nA: N\\n\\nQ: I have five tokens, and some of them are white. Are one of them black?\\nA: Y\\n\\nQ: I have five tokens, and some of them are white. Are some of them black?\\nA: Y\\n\\nQ: I have nine tokens, and some of them are black. Are some of them white?\\nA: Y\\n\\nQ: I have one tokens, and some of them are white. Are some of them black?\\nA: N\\n\\nQ: I have three tokens, and some of them are black. Are one of them white?\\nA: Y\\n\\nQ: I have nine tokens, and some of them are black. Are some of them white?\\nA: Y\\n\\nQ: I have three tokens, and some of them are white. Are some of them black?\\nA: Y\\n\\nQ: I have three tokens, and some of them are black. Are one of them white?\\nA: Y\\n\\nQ: I have seven tokens, and some of them are black. Are some of them white?\\nA: Y\\n\\nQ: I have two tokens, and some of them are black. Are all of them white?\\nA: N\\n\\nQ: I have seven tokens, and some of them are white. Are one of them black?\\nA: Y\\n\\nQ: I have eight tokens, and some of them are black. Are some of them white?\\nA: Y\\n\\n\\n\\nQ: I have two tokens, and one of them are white. Are one of them black?\\nA: \",\n",
       "  'expected': 'Y',\n",
       "  'generated': '1\\n\\nQ: I have',\n",
       "  'correct_strict': False,\n",
       "  'correct_lenient': False,\n",
       "  'section_counts': {'basic': 20, 'numeric': 20, 'special': 20, 'zero': 0}},\n",
       " {'prompt': \"Tokens can be either black or white. Answer Y for yes and N for no:\\n\\nRemember:\\n- Only use Y or N to answer\\n- 'some' means at least one but not all\\n- 'one' means exactly one\\n- 'all' means every single token\\n\\n\\n\\n# Basic cases - using 'all'\\n\\nQ: I have three tokens, and all of them are black. Are all of them white?\\nA: N\\n\\nQ: I have two tokens, and all of them are black. Are some of them white?\\nA: N\\n\\nQ: I have nine tokens, and all of them are black. Are some of them black?\\nA: Y\\n\\nQ: I have four tokens, and all of them are white. Are one of them black?\\nA: N\\n\\nQ: I have one tokens, and all of them are white. Are one of them white?\\nA: Y\\n\\nQ: I have two tokens, and all of them are black. Are some of them black?\\nA: Y\\n\\nQ: I have one tokens, and all of them are black. Are all of them white?\\nA: N\\n\\nQ: I have four tokens, and all of them are black. Are one of them white?\\nA: N\\n\\nQ: I have three tokens, and all of them are white. Are some of them white?\\nA: Y\\n\\nQ: I have two tokens, and all of them are black. Are one of them black?\\nA: Y\\n\\nQ: I have eight tokens, and all of them are white. Are all of them white?\\nA: Y\\n\\nQ: I have three tokens, and all of them are white. Are some of them white?\\nA: Y\\n\\nQ: I have six tokens, and all of them are black. Are one of them black?\\nA: Y\\n\\nQ: I have ten tokens, and all of them are black. Are all of them white?\\nA: N\\n\\nQ: I have four tokens, and all of them are white. Are some of them black?\\nA: N\\n\\nQ: I have ten tokens, and all of them are black. Are all of them black?\\nA: Y\\n\\nQ: I have five tokens, and all of them are black. Are one of them white?\\nA: N\\n\\nQ: I have eight tokens, and all of them are black. Are some of them white?\\nA: N\\n\\nQ: I have six tokens, and all of them are white. Are some of them black?\\nA: N\\n\\nQ: I have eight tokens, and all of them are black. Are all of them black?\\nA: Y\\n\\n\\n\\n# Cases with 'one'\\n\\nQ: I have three tokens, and one of them are white. Are one of them black?\\nA: Y\\n\\nQ: I have one tokens, and one of them are black. Are some of them white?\\nA: N\\n\\nQ: I have seven tokens, and one of them are black. Are one of them white?\\nA: Y\\n\\nQ: I have nine tokens, and one of them are white. Are one of them black?\\nA: Y\\n\\nQ: I have two tokens, and one of them are white. Are one of them black?\\nA: Y\\n\\nQ: I have three tokens, and one of them are white. Are some of them black?\\nA: Y\\n\\nQ: I have five tokens, and one of them are black. Are one of them white?\\nA: Y\\n\\nQ: I have three tokens, and one of them are white. Are one of them black?\\nA: Y\\n\\nQ: I have one tokens, and one of them are black. Are some of them white?\\nA: N\\n\\nQ: I have five tokens, and one of them are black. Are one of them white?\\nA: Y\\n\\nQ: I have five tokens, and one of them are white. Are some of them black?\\nA: Y\\n\\nQ: I have one tokens, and one of them are black. Are one of them white?\\nA: N\\n\\nQ: I have ten tokens, and one of them are black. Are one of them white?\\nA: Y\\n\\nQ: I have two tokens, and one of them are black. Are some of them white?\\nA: Y\\n\\nQ: I have six tokens, and one of them are white. Are some of them black?\\nA: Y\\n\\nQ: I have six tokens, and one of them are black. Are some of them white?\\nA: Y\\n\\nQ: I have three tokens, and one of them are black. Are some of them white?\\nA: Y\\n\\nQ: I have one tokens, and one of them are black. Are some of them white?\\nA: N\\n\\nQ: I have seven tokens, and one of them are white. Are some of them black?\\nA: Y\\n\\nQ: I have seven tokens, and one of them are white. Are one of them black?\\nA: Y\\n\\n\\n\\n# Cases with 'some'\\n\\nQ: I have ten tokens, and some of them are white. Are one of them black?\\nA: Y\\n\\nQ: I have six tokens, and some of them are white. Are all of them black?\\nA: N\\n\\nQ: I have eight tokens, and some of them are white. Are one of them black?\\nA: Y\\n\\nQ: I have two tokens, and some of them are black. Are some of them white?\\nA: Y\\n\\nQ: I have five tokens, and some of them are white. Are all of them black?\\nA: N\\n\\nQ: I have two tokens, and some of them are black. Are all of them white?\\nA: N\\n\\nQ: I have five tokens, and some of them are white. Are some of them black?\\nA: Y\\n\\nQ: I have four tokens, and some of them are white. Are all of them black?\\nA: N\\n\\nQ: I have ten tokens, and some of them are white. Are some of them black?\\nA: Y\\n\\nQ: I have two tokens, and some of them are white. Are one of them black?\\nA: Y\\n\\nQ: I have nine tokens, and some of them are white. Are some of them black?\\nA: Y\\n\\nQ: I have seven tokens, and some of them are white. Are one of them black?\\nA: Y\\n\\nQ: I have ten tokens, and some of them are white. Are one of them black?\\nA: Y\\n\\nQ: I have nine tokens, and some of them are white. Are all of them black?\\nA: N\\n\\nQ: I have two tokens, and some of them are white. Are some of them black?\\nA: Y\\n\\nQ: I have eight tokens, and some of them are black. Are all of them white?\\nA: N\\n\\nQ: I have two tokens, and some of them are white. Are some of them black?\\nA: Y\\n\\nQ: I have nine tokens, and some of them are white. Are all of them black?\\nA: N\\n\\nQ: I have one tokens, and some of them are black. Are one of them white?\\nA: N\\n\\nQ: I have ten tokens, and some of them are white. Are all of them black?\\nA: N\\n\\n\\n\\nQ: I have eight tokens, and one of them are black. Are one of them white?\\nA: \",\n",
       "  'expected': 'Y',\n",
       "  'generated': '1\\n\\nQ: I have',\n",
       "  'correct_strict': False,\n",
       "  'correct_lenient': False,\n",
       "  'section_counts': {'basic': 20, 'numeric': 20, 'special': 20, 'zero': 0}},\n",
       " {'prompt': \"Tokens can be either black or white. Answer Y for yes and N for no:\\n\\nRemember:\\n- Only use Y or N to answer\\n- 'some' means at least one but not all\\n- 'one' means exactly one\\n- 'all' means every single token\\n\\n\\n\\n# Basic cases - using 'all'\\n\\nQ: I have two tokens, and all of them are white. Are some of them black?\\nA: N\\n\\nQ: I have nine tokens, and all of them are white. Are all of them white?\\nA: Y\\n\\nQ: I have six tokens, and all of them are black. Are all of them white?\\nA: N\\n\\nQ: I have seven tokens, and all of them are white. Are all of them black?\\nA: N\\n\\nQ: I have four tokens, and all of them are white. Are all of them black?\\nA: N\\n\\nQ: I have six tokens, and all of them are black. Are some of them white?\\nA: N\\n\\nQ: I have one tokens, and all of them are black. Are all of them black?\\nA: Y\\n\\nQ: I have five tokens, and all of them are black. Are all of them black?\\nA: Y\\n\\nQ: I have ten tokens, and all of them are white. Are all of them black?\\nA: N\\n\\nQ: I have five tokens, and all of them are white. Are all of them black?\\nA: N\\n\\nQ: I have nine tokens, and all of them are white. Are some of them white?\\nA: Y\\n\\nQ: I have one tokens, and all of them are black. Are some of them black?\\nA: Y\\n\\nQ: I have two tokens, and all of them are black. Are one of them white?\\nA: N\\n\\nQ: I have ten tokens, and all of them are white. Are all of them black?\\nA: N\\n\\nQ: I have ten tokens, and all of them are white. Are all of them black?\\nA: N\\n\\nQ: I have two tokens, and all of them are white. Are all of them white?\\nA: Y\\n\\nQ: I have seven tokens, and all of them are black. Are one of them black?\\nA: Y\\n\\nQ: I have ten tokens, and all of them are white. Are all of them black?\\nA: N\\n\\nQ: I have seven tokens, and all of them are black. Are one of them white?\\nA: N\\n\\nQ: I have five tokens, and all of them are white. Are one of them white?\\nA: Y\\n\\n\\n\\n# Cases with 'one'\\n\\nQ: I have one tokens, and one of them are black. Are some of them white?\\nA: N\\n\\nQ: I have six tokens, and one of them are white. Are one of them black?\\nA: Y\\n\\nQ: I have six tokens, and one of them are white. Are one of them black?\\nA: Y\\n\\nQ: I have six tokens, and one of them are white. Are some of them black?\\nA: Y\\n\\nQ: I have four tokens, and one of them are black. Are some of them white?\\nA: Y\\n\\nQ: I have four tokens, and one of them are black. Are some of them white?\\nA: Y\\n\\nQ: I have two tokens, and one of them are white. Are one of them black?\\nA: Y\\n\\nQ: I have nine tokens, and one of them are white. Are some of them black?\\nA: Y\\n\\nQ: I have nine tokens, and one of them are black. Are some of them white?\\nA: Y\\n\\nQ: I have three tokens, and one of them are white. Are one of them black?\\nA: Y\\n\\nQ: I have four tokens, and one of them are black. Are some of them white?\\nA: Y\\n\\nQ: I have four tokens, and one of them are white. Are some of them black?\\nA: Y\\n\\nQ: I have nine tokens, and one of them are black. Are one of them white?\\nA: Y\\n\\nQ: I have four tokens, and one of them are black. Are one of them white?\\nA: Y\\n\\nQ: I have four tokens, and one of them are black. Are one of them white?\\nA: Y\\n\\nQ: I have one tokens, and one of them are white. Are one of them black?\\nA: N\\n\\nQ: I have eight tokens, and one of them are white. Are some of them black?\\nA: Y\\n\\nQ: I have three tokens, and one of them are white. Are some of them black?\\nA: Y\\n\\nQ: I have ten tokens, and one of them are white. Are one of them black?\\nA: Y\\n\\nQ: I have ten tokens, and one of them are white. Are some of them black?\\nA: Y\\n\\n\\n\\n# Cases with 'some'\\n\\nQ: I have nine tokens, and some of them are black. Are one of them white?\\nA: Y\\n\\nQ: I have eight tokens, and some of them are black. Are one of them white?\\nA: Y\\n\\nQ: I have nine tokens, and some of them are white. Are some of them black?\\nA: Y\\n\\nQ: I have nine tokens, and some of them are black. Are some of them white?\\nA: Y\\n\\nQ: I have seven tokens, and some of them are white. Are all of them black?\\nA: N\\n\\nQ: I have six tokens, and some of them are black. Are some of them white?\\nA: Y\\n\\nQ: I have eight tokens, and some of them are black. Are all of them white?\\nA: N\\n\\nQ: I have eight tokens, and some of them are white. Are one of them black?\\nA: Y\\n\\nQ: I have nine tokens, and some of them are white. Are all of them black?\\nA: N\\n\\nQ: I have nine tokens, and some of them are black. Are one of them white?\\nA: Y\\n\\nQ: I have six tokens, and some of them are white. Are some of them black?\\nA: Y\\n\\nQ: I have nine tokens, and some of them are white. Are all of them black?\\nA: N\\n\\nQ: I have eight tokens, and some of them are white. Are all of them black?\\nA: N\\n\\nQ: I have three tokens, and some of them are black. Are all of them white?\\nA: N\\n\\nQ: I have seven tokens, and some of them are black. Are one of them white?\\nA: Y\\n\\nQ: I have five tokens, and some of them are white. Are some of them black?\\nA: Y\\n\\nQ: I have one tokens, and some of them are white. Are one of them black?\\nA: N\\n\\nQ: I have three tokens, and some of them are white. Are one of them black?\\nA: Y\\n\\nQ: I have ten tokens, and some of them are white. Are all of them black?\\nA: N\\n\\nQ: I have five tokens, and some of them are white. Are some of them black?\\nA: Y\\n\\n\\n\\nQ: I have five tokens, and one of them are white. Are one of them black?\\nA: \",\n",
       "  'expected': 'Y',\n",
       "  'generated': '1\\n\\nQ: I have',\n",
       "  'correct_strict': False,\n",
       "  'correct_lenient': False,\n",
       "  'section_counts': {'basic': 20, 'numeric': 20, 'special': 20, 'zero': 0}},\n",
       " {'prompt': \"Tokens can be either black or white. Answer Y for yes and N for no:\\n\\nRemember:\\n- Only use Y or N to answer\\n- 'some' means at least one but not all\\n- 'one' means exactly one\\n- 'all' means every single token\\n\\n\\n\\n# Basic cases - using 'all'\\n\\nQ: I have seven tokens, and all of them are white. Are some of them black?\\nA: N\\n\\nQ: I have four tokens, and all of them are black. Are all of them black?\\nA: Y\\n\\nQ: I have four tokens, and all of them are black. Are one of them black?\\nA: Y\\n\\nQ: I have eight tokens, and all of them are black. Are all of them black?\\nA: Y\\n\\nQ: I have two tokens, and all of them are black. Are one of them black?\\nA: Y\\n\\nQ: I have seven tokens, and all of them are white. Are all of them white?\\nA: Y\\n\\nQ: I have three tokens, and all of them are black. Are all of them black?\\nA: Y\\n\\nQ: I have seven tokens, and all of them are white. Are all of them white?\\nA: Y\\n\\nQ: I have ten tokens, and all of them are white. Are some of them white?\\nA: Y\\n\\nQ: I have four tokens, and all of them are white. Are one of them black?\\nA: N\\n\\nQ: I have four tokens, and all of them are black. Are one of them white?\\nA: N\\n\\nQ: I have eight tokens, and all of them are black. Are all of them white?\\nA: N\\n\\nQ: I have one tokens, and all of them are white. Are one of them white?\\nA: Y\\n\\nQ: I have eight tokens, and all of them are black. Are some of them white?\\nA: N\\n\\nQ: I have five tokens, and all of them are black. Are one of them black?\\nA: Y\\n\\nQ: I have two tokens, and all of them are black. Are all of them white?\\nA: N\\n\\nQ: I have eight tokens, and all of them are white. Are some of them white?\\nA: Y\\n\\nQ: I have two tokens, and all of them are black. Are one of them white?\\nA: N\\n\\nQ: I have two tokens, and all of them are white. Are all of them white?\\nA: Y\\n\\nQ: I have four tokens, and all of them are black. Are some of them black?\\nA: Y\\n\\n\\n\\n# Cases with 'one'\\n\\nQ: I have two tokens, and one of them are white. Are some of them black?\\nA: Y\\n\\nQ: I have eight tokens, and one of them are black. Are some of them white?\\nA: Y\\n\\nQ: I have three tokens, and one of them are white. Are some of them black?\\nA: Y\\n\\nQ: I have six tokens, and one of them are black. Are some of them white?\\nA: Y\\n\\nQ: I have nine tokens, and one of them are black. Are some of them white?\\nA: Y\\n\\nQ: I have nine tokens, and one of them are white. Are one of them black?\\nA: Y\\n\\nQ: I have seven tokens, and one of them are white. Are one of them black?\\nA: Y\\n\\nQ: I have three tokens, and one of them are white. Are some of them black?\\nA: Y\\n\\nQ: I have three tokens, and one of them are black. Are one of them white?\\nA: Y\\n\\nQ: I have five tokens, and one of them are black. Are some of them white?\\nA: Y\\n\\nQ: I have nine tokens, and one of them are black. Are some of them white?\\nA: Y\\n\\nQ: I have six tokens, and one of them are white. Are one of them black?\\nA: Y\\n\\nQ: I have seven tokens, and one of them are black. Are one of them white?\\nA: Y\\n\\nQ: I have five tokens, and one of them are white. Are one of them black?\\nA: Y\\n\\nQ: I have nine tokens, and one of them are black. Are some of them white?\\nA: Y\\n\\nQ: I have six tokens, and one of them are black. Are one of them white?\\nA: Y\\n\\nQ: I have nine tokens, and one of them are white. Are some of them black?\\nA: Y\\n\\nQ: I have six tokens, and one of them are white. Are one of them black?\\nA: Y\\n\\nQ: I have eight tokens, and one of them are black. Are one of them white?\\nA: Y\\n\\nQ: I have seven tokens, and one of them are black. Are one of them white?\\nA: Y\\n\\n\\n\\n# Cases with 'some'\\n\\nQ: I have four tokens, and some of them are white. Are some of them black?\\nA: Y\\n\\nQ: I have seven tokens, and some of them are white. Are all of them black?\\nA: N\\n\\nQ: I have six tokens, and some of them are black. Are all of them white?\\nA: N\\n\\nQ: I have five tokens, and some of them are black. Are all of them white?\\nA: N\\n\\nQ: I have four tokens, and some of them are white. Are some of them black?\\nA: Y\\n\\nQ: I have seven tokens, and some of them are white. Are all of them black?\\nA: N\\n\\nQ: I have five tokens, and some of them are white. Are all of them black?\\nA: N\\n\\nQ: I have four tokens, and some of them are white. Are some of them black?\\nA: Y\\n\\nQ: I have one tokens, and some of them are white. Are all of them black?\\nA: N\\n\\nQ: I have four tokens, and some of them are white. Are some of them black?\\nA: Y\\n\\nQ: I have three tokens, and some of them are white. Are some of them black?\\nA: Y\\n\\nQ: I have ten tokens, and some of them are black. Are some of them white?\\nA: Y\\n\\nQ: I have eight tokens, and some of them are black. Are some of them white?\\nA: Y\\n\\nQ: I have five tokens, and some of them are black. Are all of them white?\\nA: N\\n\\nQ: I have one tokens, and some of them are black. Are one of them white?\\nA: N\\n\\nQ: I have six tokens, and some of them are white. Are one of them black?\\nA: Y\\n\\nQ: I have three tokens, and some of them are black. Are one of them white?\\nA: Y\\n\\nQ: I have six tokens, and some of them are black. Are some of them white?\\nA: Y\\n\\nQ: I have eight tokens, and some of them are white. Are some of them black?\\nA: Y\\n\\nQ: I have ten tokens, and some of them are white. Are all of them black?\\nA: N\\n\\n\\n\\nQ: I have two tokens, and one of them are white. Are one of them black?\\nA: \",\n",
       "  'expected': 'Y',\n",
       "  'generated': '1\\n\\nQ: I have',\n",
       "  'correct_strict': False,\n",
       "  'correct_lenient': False,\n",
       "  'section_counts': {'basic': 20, 'numeric': 20, 'special': 20, 'zero': 0}},\n",
       " {'prompt': \"Tokens can be either black or white. Answer Y for yes and N for no:\\n\\nRemember:\\n- Only use Y or N to answer\\n- 'some' means at least one but not all\\n- 'one' means exactly one\\n- 'all' means every single token\\n\\n\\n\\n# Basic cases - using 'all'\\n\\nQ: I have ten tokens, and all of them are black. Are some of them white?\\nA: N\\n\\nQ: I have four tokens, and all of them are white. Are all of them white?\\nA: Y\\n\\nQ: I have six tokens, and all of them are black. Are one of them white?\\nA: N\\n\\nQ: I have eight tokens, and all of them are white. Are some of them white?\\nA: Y\\n\\nQ: I have two tokens, and all of them are black. Are one of them black?\\nA: Y\\n\\nQ: I have two tokens, and all of them are white. Are all of them white?\\nA: Y\\n\\nQ: I have three tokens, and all of them are black. Are one of them black?\\nA: Y\\n\\nQ: I have one tokens, and all of them are white. Are some of them white?\\nA: Y\\n\\nQ: I have two tokens, and all of them are white. Are one of them white?\\nA: Y\\n\\nQ: I have six tokens, and all of them are white. Are one of them white?\\nA: Y\\n\\nQ: I have three tokens, and all of them are white. Are some of them white?\\nA: Y\\n\\nQ: I have four tokens, and all of them are white. Are some of them black?\\nA: N\\n\\nQ: I have eight tokens, and all of them are white. Are one of them white?\\nA: Y\\n\\nQ: I have six tokens, and all of them are white. Are some of them white?\\nA: Y\\n\\nQ: I have six tokens, and all of them are black. Are one of them white?\\nA: N\\n\\nQ: I have one tokens, and all of them are black. Are all of them white?\\nA: N\\n\\nQ: I have seven tokens, and all of them are white. Are all of them black?\\nA: N\\n\\nQ: I have one tokens, and all of them are black. Are one of them white?\\nA: N\\n\\nQ: I have three tokens, and all of them are white. Are all of them black?\\nA: N\\n\\nQ: I have two tokens, and all of them are white. Are one of them black?\\nA: N\\n\\n\\n\\n# Cases with 'one'\\n\\nQ: I have three tokens, and one of them are white. Are some of them black?\\nA: Y\\n\\nQ: I have six tokens, and one of them are white. Are one of them black?\\nA: Y\\n\\nQ: I have nine tokens, and one of them are white. Are one of them black?\\nA: Y\\n\\nQ: I have six tokens, and one of them are white. Are some of them black?\\nA: Y\\n\\nQ: I have eight tokens, and one of them are white. Are some of them black?\\nA: Y\\n\\nQ: I have seven tokens, and one of them are white. Are one of them black?\\nA: Y\\n\\nQ: I have seven tokens, and one of them are white. Are some of them black?\\nA: Y\\n\\nQ: I have one tokens, and one of them are black. Are one of them white?\\nA: N\\n\\nQ: I have two tokens, and one of them are white. Are one of them black?\\nA: Y\\n\\nQ: I have four tokens, and one of them are black. Are one of them white?\\nA: Y\\n\\nQ: I have one tokens, and one of them are white. Are one of them black?\\nA: N\\n\\nQ: I have three tokens, and one of them are white. Are some of them black?\\nA: Y\\n\\nQ: I have seven tokens, and one of them are black. Are one of them white?\\nA: Y\\n\\nQ: I have nine tokens, and one of them are white. Are some of them black?\\nA: Y\\n\\nQ: I have six tokens, and one of them are white. Are one of them black?\\nA: Y\\n\\nQ: I have six tokens, and one of them are black. Are one of them white?\\nA: Y\\n\\nQ: I have six tokens, and one of them are black. Are one of them white?\\nA: Y\\n\\nQ: I have seven tokens, and one of them are black. Are some of them white?\\nA: Y\\n\\nQ: I have nine tokens, and one of them are white. Are one of them black?\\nA: Y\\n\\nQ: I have nine tokens, and one of them are black. Are one of them white?\\nA: Y\\n\\n\\n\\n# Cases with 'some'\\n\\nQ: I have seven tokens, and some of them are black. Are all of them white?\\nA: N\\n\\nQ: I have two tokens, and some of them are black. Are some of them white?\\nA: Y\\n\\nQ: I have seven tokens, and some of them are black. Are some of them white?\\nA: Y\\n\\nQ: I have nine tokens, and some of them are white. Are all of them black?\\nA: N\\n\\nQ: I have six tokens, and some of them are black. Are some of them white?\\nA: Y\\n\\nQ: I have three tokens, and some of them are black. Are some of them white?\\nA: Y\\n\\nQ: I have eight tokens, and some of them are white. Are all of them black?\\nA: N\\n\\nQ: I have six tokens, and some of them are black. Are all of them white?\\nA: N\\n\\nQ: I have eight tokens, and some of them are black. Are all of them white?\\nA: N\\n\\nQ: I have three tokens, and some of them are black. Are one of them white?\\nA: Y\\n\\nQ: I have eight tokens, and some of them are black. Are all of them white?\\nA: N\\n\\nQ: I have five tokens, and some of them are white. Are all of them black?\\nA: N\\n\\nQ: I have eight tokens, and some of them are black. Are all of them white?\\nA: N\\n\\nQ: I have ten tokens, and some of them are white. Are some of them black?\\nA: Y\\n\\nQ: I have ten tokens, and some of them are black. Are all of them white?\\nA: N\\n\\nQ: I have two tokens, and some of them are black. Are all of them white?\\nA: N\\n\\nQ: I have five tokens, and some of them are black. Are some of them white?\\nA: Y\\n\\nQ: I have two tokens, and some of them are white. Are all of them black?\\nA: N\\n\\nQ: I have five tokens, and some of them are black. Are some of them white?\\nA: Y\\n\\nQ: I have seven tokens, and some of them are black. Are some of them white?\\nA: Y\\n\\n\\n\\nQ: I have two tokens, and one of them are white. Are some of them black?\\nA: \",\n",
       "  'expected': 'Y',\n",
       "  'generated': '0\\n\\nQ: I have',\n",
       "  'correct_strict': False,\n",
       "  'correct_lenient': False,\n",
       "  'section_counts': {'basic': 20, 'numeric': 20, 'special': 20, 'zero': 0}},\n",
       " {'prompt': \"Tokens can be either black or white. Answer Y for yes and N for no:\\n\\nRemember:\\n- Only use Y or N to answer\\n- 'some' means at least one but not all\\n- 'one' means exactly one\\n- 'all' means every single token\\n\\n\\n\\n# Basic cases - using 'all'\\n\\nQ: I have nine tokens, and all of them are black. Are one of them white?\\nA: N\\n\\nQ: I have four tokens, and all of them are black. Are all of them black?\\nA: Y\\n\\nQ: I have seven tokens, and all of them are black. Are some of them white?\\nA: N\\n\\nQ: I have four tokens, and all of them are black. Are all of them black?\\nA: Y\\n\\nQ: I have three tokens, and all of them are white. Are all of them white?\\nA: Y\\n\\nQ: I have one tokens, and all of them are black. Are all of them black?\\nA: Y\\n\\nQ: I have eight tokens, and all of them are white. Are one of them white?\\nA: Y\\n\\nQ: I have two tokens, and all of them are black. Are all of them black?\\nA: Y\\n\\nQ: I have six tokens, and all of them are white. Are some of them white?\\nA: Y\\n\\nQ: I have three tokens, and all of them are white. Are some of them white?\\nA: Y\\n\\nQ: I have three tokens, and all of them are white. Are one of them black?\\nA: N\\n\\nQ: I have eight tokens, and all of them are black. Are some of them black?\\nA: Y\\n\\nQ: I have ten tokens, and all of them are white. Are some of them black?\\nA: N\\n\\nQ: I have ten tokens, and all of them are black. Are one of them black?\\nA: Y\\n\\nQ: I have nine tokens, and all of them are white. Are some of them black?\\nA: N\\n\\nQ: I have one tokens, and all of them are white. Are some of them black?\\nA: N\\n\\nQ: I have seven tokens, and all of them are white. Are all of them white?\\nA: Y\\n\\nQ: I have six tokens, and all of them are black. Are one of them white?\\nA: N\\n\\nQ: I have two tokens, and all of them are white. Are all of them white?\\nA: Y\\n\\nQ: I have three tokens, and all of them are black. Are one of them black?\\nA: Y\\n\\n\\n\\n# Cases with 'one'\\n\\nQ: I have four tokens, and one of them are black. Are some of them white?\\nA: Y\\n\\nQ: I have ten tokens, and one of them are black. Are one of them white?\\nA: Y\\n\\nQ: I have four tokens, and one of them are white. Are some of them black?\\nA: Y\\n\\nQ: I have four tokens, and one of them are black. Are one of them white?\\nA: Y\\n\\nQ: I have three tokens, and one of them are white. Are some of them black?\\nA: Y\\n\\nQ: I have seven tokens, and one of them are black. Are some of them white?\\nA: Y\\n\\nQ: I have five tokens, and one of them are black. Are some of them white?\\nA: Y\\n\\nQ: I have six tokens, and one of them are white. Are some of them black?\\nA: Y\\n\\nQ: I have three tokens, and one of them are black. Are some of them white?\\nA: Y\\n\\nQ: I have two tokens, and one of them are white. Are one of them black?\\nA: Y\\n\\nQ: I have five tokens, and one of them are white. Are some of them black?\\nA: Y\\n\\nQ: I have nine tokens, and one of them are white. Are one of them black?\\nA: Y\\n\\nQ: I have one tokens, and one of them are black. Are some of them white?\\nA: N\\n\\nQ: I have four tokens, and one of them are black. Are some of them white?\\nA: Y\\n\\nQ: I have ten tokens, and one of them are white. Are some of them black?\\nA: Y\\n\\nQ: I have four tokens, and one of them are black. Are some of them white?\\nA: Y\\n\\nQ: I have nine tokens, and one of them are white. Are one of them black?\\nA: Y\\n\\nQ: I have five tokens, and one of them are black. Are one of them white?\\nA: Y\\n\\nQ: I have one tokens, and one of them are white. Are some of them black?\\nA: N\\n\\nQ: I have five tokens, and one of them are white. Are one of them black?\\nA: Y\\n\\n\\n\\n# Cases with 'some'\\n\\nQ: I have seven tokens, and some of them are black. Are some of them white?\\nA: Y\\n\\nQ: I have four tokens, and some of them are white. Are one of them black?\\nA: Y\\n\\nQ: I have nine tokens, and some of them are black. Are one of them white?\\nA: Y\\n\\nQ: I have nine tokens, and some of them are white. Are all of them black?\\nA: N\\n\\nQ: I have five tokens, and some of them are white. Are all of them black?\\nA: N\\n\\nQ: I have two tokens, and some of them are white. Are some of them black?\\nA: Y\\n\\nQ: I have three tokens, and some of them are white. Are some of them black?\\nA: Y\\n\\nQ: I have nine tokens, and some of them are white. Are one of them black?\\nA: Y\\n\\nQ: I have four tokens, and some of them are black. Are one of them white?\\nA: Y\\n\\nQ: I have five tokens, and some of them are black. Are all of them white?\\nA: N\\n\\nQ: I have seven tokens, and some of them are black. Are one of them white?\\nA: Y\\n\\nQ: I have two tokens, and some of them are white. Are one of them black?\\nA: Y\\n\\nQ: I have seven tokens, and some of them are white. Are one of them black?\\nA: Y\\n\\nQ: I have four tokens, and some of them are white. Are some of them black?\\nA: Y\\n\\nQ: I have four tokens, and some of them are white. Are one of them black?\\nA: Y\\n\\nQ: I have eight tokens, and some of them are black. Are all of them white?\\nA: N\\n\\nQ: I have seven tokens, and some of them are white. Are all of them black?\\nA: N\\n\\nQ: I have two tokens, and some of them are black. Are some of them white?\\nA: Y\\n\\nQ: I have nine tokens, and some of them are black. Are one of them white?\\nA: Y\\n\\nQ: I have one tokens, and some of them are black. Are all of them white?\\nA: N\\n\\n\\n\\nQ: I have ten tokens, and one of them are white. Are one of them black?\\nA: \",\n",
       "  'expected': 'Y',\n",
       "  'generated': '1\\n\\nQ: I have',\n",
       "  'correct_strict': False,\n",
       "  'correct_lenient': False,\n",
       "  'section_counts': {'basic': 20, 'numeric': 20, 'special': 20, 'zero': 0}},\n",
       " {'prompt': \"Tokens can be either black or white. Answer Y for yes and N for no:\\n\\nRemember:\\n- Only use Y or N to answer\\n- 'some' means at least one but not all\\n- 'one' means exactly one\\n- 'all' means every single token\\n\\n\\n\\n# Basic cases - using 'all'\\n\\nQ: I have four tokens, and all of them are black. Are all of them white?\\nA: N\\n\\nQ: I have five tokens, and all of them are white. Are all of them white?\\nA: Y\\n\\nQ: I have nine tokens, and all of them are white. Are all of them white?\\nA: Y\\n\\nQ: I have one tokens, and all of them are black. Are one of them white?\\nA: N\\n\\nQ: I have ten tokens, and all of them are black. Are all of them white?\\nA: N\\n\\nQ: I have eight tokens, and all of them are white. Are some of them black?\\nA: N\\n\\nQ: I have eight tokens, and all of them are white. Are all of them black?\\nA: N\\n\\nQ: I have three tokens, and all of them are black. Are all of them white?\\nA: N\\n\\nQ: I have three tokens, and all of them are white. Are one of them white?\\nA: Y\\n\\nQ: I have two tokens, and all of them are white. Are one of them white?\\nA: Y\\n\\nQ: I have six tokens, and all of them are black. Are some of them white?\\nA: N\\n\\nQ: I have eight tokens, and all of them are black. Are one of them black?\\nA: Y\\n\\nQ: I have three tokens, and all of them are white. Are some of them black?\\nA: N\\n\\nQ: I have one tokens, and all of them are white. Are all of them white?\\nA: Y\\n\\nQ: I have three tokens, and all of them are black. Are all of them black?\\nA: Y\\n\\nQ: I have seven tokens, and all of them are white. Are some of them white?\\nA: Y\\n\\nQ: I have three tokens, and all of them are white. Are one of them black?\\nA: N\\n\\nQ: I have two tokens, and all of them are white. Are some of them black?\\nA: N\\n\\nQ: I have one tokens, and all of them are white. Are one of them white?\\nA: Y\\n\\nQ: I have ten tokens, and all of them are black. Are all of them white?\\nA: N\\n\\n\\n\\n# Cases with 'one'\\n\\nQ: I have three tokens, and one of them are white. Are some of them black?\\nA: Y\\n\\nQ: I have three tokens, and one of them are black. Are one of them white?\\nA: Y\\n\\nQ: I have ten tokens, and one of them are black. Are one of them white?\\nA: Y\\n\\nQ: I have eight tokens, and one of them are white. Are one of them black?\\nA: Y\\n\\nQ: I have nine tokens, and one of them are black. Are one of them white?\\nA: Y\\n\\nQ: I have six tokens, and one of them are white. Are some of them black?\\nA: Y\\n\\nQ: I have six tokens, and one of them are white. Are one of them black?\\nA: Y\\n\\nQ: I have three tokens, and one of them are black. Are some of them white?\\nA: Y\\n\\nQ: I have ten tokens, and one of them are white. Are some of them black?\\nA: Y\\n\\nQ: I have five tokens, and one of them are black. Are one of them white?\\nA: Y\\n\\nQ: I have six tokens, and one of them are black. Are some of them white?\\nA: Y\\n\\nQ: I have four tokens, and one of them are white. Are one of them black?\\nA: Y\\n\\nQ: I have four tokens, and one of them are white. Are one of them black?\\nA: Y\\n\\nQ: I have one tokens, and one of them are white. Are one of them black?\\nA: N\\n\\nQ: I have eight tokens, and one of them are black. Are one of them white?\\nA: Y\\n\\nQ: I have five tokens, and one of them are white. Are one of them black?\\nA: Y\\n\\nQ: I have nine tokens, and one of them are white. Are some of them black?\\nA: Y\\n\\nQ: I have four tokens, and one of them are white. Are some of them black?\\nA: Y\\n\\nQ: I have six tokens, and one of them are black. Are some of them white?\\nA: Y\\n\\nQ: I have four tokens, and one of them are black. Are one of them white?\\nA: Y\\n\\n\\n\\n# Cases with 'some'\\n\\nQ: I have two tokens, and some of them are white. Are all of them black?\\nA: N\\n\\nQ: I have eight tokens, and some of them are white. Are one of them black?\\nA: Y\\n\\nQ: I have seven tokens, and some of them are white. Are one of them black?\\nA: Y\\n\\nQ: I have nine tokens, and some of them are white. Are one of them black?\\nA: Y\\n\\nQ: I have ten tokens, and some of them are black. Are all of them white?\\nA: N\\n\\nQ: I have three tokens, and some of them are black. Are one of them white?\\nA: Y\\n\\nQ: I have eight tokens, and some of them are black. Are one of them white?\\nA: Y\\n\\nQ: I have seven tokens, and some of them are white. Are all of them black?\\nA: N\\n\\nQ: I have seven tokens, and some of them are white. Are one of them black?\\nA: Y\\n\\nQ: I have three tokens, and some of them are black. Are one of them white?\\nA: Y\\n\\nQ: I have four tokens, and some of them are black. Are some of them white?\\nA: Y\\n\\nQ: I have six tokens, and some of them are white. Are one of them black?\\nA: Y\\n\\nQ: I have eight tokens, and some of them are white. Are all of them black?\\nA: N\\n\\nQ: I have four tokens, and some of them are white. Are some of them black?\\nA: Y\\n\\nQ: I have five tokens, and some of them are white. Are some of them black?\\nA: Y\\n\\nQ: I have ten tokens, and some of them are black. Are some of them white?\\nA: Y\\n\\nQ: I have four tokens, and some of them are white. Are all of them black?\\nA: N\\n\\nQ: I have nine tokens, and some of them are black. Are some of them white?\\nA: Y\\n\\nQ: I have four tokens, and some of them are black. Are all of them white?\\nA: N\\n\\nQ: I have nine tokens, and some of them are white. Are some of them black?\\nA: Y\\n\\n\\n\\nQ: I have one tokens, and one of them are white. Are some of them black?\\nA: \",\n",
       "  'expected': 'N',\n",
       "  'generated': '0\\n\\nQ: I have',\n",
       "  'correct_strict': False,\n",
       "  'correct_lenient': False,\n",
       "  'section_counts': {'basic': 20, 'numeric': 20, 'special': 20, 'zero': 0}},\n",
       " {'prompt': \"Tokens can be either black or white. Answer Y for yes and N for no:\\n\\nRemember:\\n- Only use Y or N to answer\\n- 'some' means at least one but not all\\n- 'one' means exactly one\\n- 'all' means every single token\\n\\n\\n\\n# Basic cases - using 'all'\\n\\nQ: I have four tokens, and all of them are white. Are one of them black?\\nA: N\\n\\nQ: I have one tokens, and all of them are black. Are all of them black?\\nA: Y\\n\\nQ: I have seven tokens, and all of them are black. Are all of them white?\\nA: N\\n\\nQ: I have ten tokens, and all of them are black. Are all of them white?\\nA: N\\n\\nQ: I have three tokens, and all of them are white. Are one of them white?\\nA: Y\\n\\nQ: I have two tokens, and all of them are white. Are some of them black?\\nA: N\\n\\nQ: I have three tokens, and all of them are black. Are all of them black?\\nA: Y\\n\\nQ: I have two tokens, and all of them are white. Are one of them white?\\nA: Y\\n\\nQ: I have four tokens, and all of them are white. Are some of them black?\\nA: N\\n\\nQ: I have six tokens, and all of them are white. Are some of them white?\\nA: Y\\n\\nQ: I have four tokens, and all of them are white. Are some of them black?\\nA: N\\n\\nQ: I have three tokens, and all of them are black. Are some of them white?\\nA: N\\n\\nQ: I have four tokens, and all of them are white. Are some of them black?\\nA: N\\n\\nQ: I have nine tokens, and all of them are black. Are one of them black?\\nA: Y\\n\\nQ: I have ten tokens, and all of them are white. Are all of them white?\\nA: Y\\n\\nQ: I have seven tokens, and all of them are black. Are all of them black?\\nA: Y\\n\\nQ: I have one tokens, and all of them are black. Are some of them white?\\nA: N\\n\\nQ: I have eight tokens, and all of them are white. Are some of them black?\\nA: N\\n\\nQ: I have eight tokens, and all of them are black. Are one of them black?\\nA: Y\\n\\nQ: I have nine tokens, and all of them are black. Are all of them black?\\nA: Y\\n\\n\\n\\n# Cases with 'one'\\n\\nQ: I have two tokens, and one of them are black. Are some of them white?\\nA: Y\\n\\nQ: I have eight tokens, and one of them are white. Are some of them black?\\nA: Y\\n\\nQ: I have six tokens, and one of them are black. Are one of them white?\\nA: Y\\n\\nQ: I have one tokens, and one of them are black. Are one of them white?\\nA: N\\n\\nQ: I have ten tokens, and one of them are black. Are some of them white?\\nA: Y\\n\\nQ: I have six tokens, and one of them are white. Are some of them black?\\nA: Y\\n\\nQ: I have seven tokens, and one of them are white. Are some of them black?\\nA: Y\\n\\nQ: I have six tokens, and one of them are black. Are some of them white?\\nA: Y\\n\\nQ: I have four tokens, and one of them are white. Are one of them black?\\nA: Y\\n\\nQ: I have seven tokens, and one of them are white. Are some of them black?\\nA: Y\\n\\nQ: I have one tokens, and one of them are black. Are some of them white?\\nA: N\\n\\nQ: I have seven tokens, and one of them are black. Are one of them white?\\nA: Y\\n\\nQ: I have ten tokens, and one of them are white. Are some of them black?\\nA: Y\\n\\nQ: I have five tokens, and one of them are white. Are one of them black?\\nA: Y\\n\\nQ: I have ten tokens, and one of them are black. Are some of them white?\\nA: Y\\n\\nQ: I have three tokens, and one of them are black. Are some of them white?\\nA: Y\\n\\nQ: I have five tokens, and one of them are white. Are one of them black?\\nA: Y\\n\\nQ: I have four tokens, and one of them are white. Are some of them black?\\nA: Y\\n\\nQ: I have eight tokens, and one of them are black. Are one of them white?\\nA: Y\\n\\nQ: I have four tokens, and one of them are white. Are one of them black?\\nA: Y\\n\\n\\n\\n# Cases with 'some'\\n\\nQ: I have one tokens, and some of them are black. Are one of them white?\\nA: N\\n\\nQ: I have four tokens, and some of them are white. Are some of them black?\\nA: Y\\n\\nQ: I have nine tokens, and some of them are white. Are some of them black?\\nA: Y\\n\\nQ: I have nine tokens, and some of them are black. Are one of them white?\\nA: Y\\n\\nQ: I have two tokens, and some of them are white. Are all of them black?\\nA: N\\n\\nQ: I have ten tokens, and some of them are black. Are some of them white?\\nA: Y\\n\\nQ: I have six tokens, and some of them are white. Are some of them black?\\nA: Y\\n\\nQ: I have three tokens, and some of them are black. Are one of them white?\\nA: Y\\n\\nQ: I have one tokens, and some of them are white. Are all of them black?\\nA: N\\n\\nQ: I have ten tokens, and some of them are white. Are all of them black?\\nA: N\\n\\nQ: I have ten tokens, and some of them are white. Are some of them black?\\nA: Y\\n\\nQ: I have nine tokens, and some of them are black. Are all of them white?\\nA: N\\n\\nQ: I have four tokens, and some of them are black. Are some of them white?\\nA: Y\\n\\nQ: I have six tokens, and some of them are white. Are some of them black?\\nA: Y\\n\\nQ: I have nine tokens, and some of them are black. Are one of them white?\\nA: Y\\n\\nQ: I have four tokens, and some of them are white. Are all of them black?\\nA: N\\n\\nQ: I have three tokens, and some of them are black. Are some of them white?\\nA: Y\\n\\nQ: I have five tokens, and some of them are white. Are one of them black?\\nA: Y\\n\\nQ: I have seven tokens, and some of them are white. Are one of them black?\\nA: Y\\n\\nQ: I have six tokens, and some of them are black. Are some of them white?\\nA: Y\\n\\n\\n\\nQ: I have nine tokens, and one of them are white. Are some of them black?\\nA: \",\n",
       "  'expected': 'Y',\n",
       "  'generated': '1\\n\\nQ: I have',\n",
       "  'correct_strict': False,\n",
       "  'correct_lenient': False,\n",
       "  'section_counts': {'basic': 20, 'numeric': 20, 'special': 20, 'zero': 0}},\n",
       " {'prompt': \"Tokens can be either black or white. Answer Y for yes and N for no:\\n\\nRemember:\\n- Only use Y or N to answer\\n- 'some' means at least one but not all\\n- 'one' means exactly one\\n- 'all' means every single token\\n\\n\\n\\n# Basic cases - using 'all'\\n\\nQ: I have four tokens, and all of them are black. Are some of them black?\\nA: Y\\n\\nQ: I have five tokens, and all of them are black. Are some of them white?\\nA: N\\n\\nQ: I have ten tokens, and all of them are white. Are one of them white?\\nA: Y\\n\\nQ: I have five tokens, and all of them are white. Are all of them white?\\nA: Y\\n\\nQ: I have eight tokens, and all of them are white. Are one of them white?\\nA: Y\\n\\nQ: I have four tokens, and all of them are white. Are some of them white?\\nA: Y\\n\\nQ: I have one tokens, and all of them are white. Are one of them white?\\nA: Y\\n\\nQ: I have five tokens, and all of them are white. Are all of them white?\\nA: Y\\n\\nQ: I have eight tokens, and all of them are black. Are all of them white?\\nA: N\\n\\nQ: I have seven tokens, and all of them are white. Are some of them white?\\nA: Y\\n\\nQ: I have eight tokens, and all of them are black. Are one of them black?\\nA: Y\\n\\nQ: I have nine tokens, and all of them are white. Are one of them black?\\nA: N\\n\\nQ: I have ten tokens, and all of them are white. Are all of them black?\\nA: N\\n\\nQ: I have nine tokens, and all of them are white. Are some of them black?\\nA: N\\n\\nQ: I have seven tokens, and all of them are white. Are some of them black?\\nA: N\\n\\nQ: I have two tokens, and all of them are white. Are some of them black?\\nA: N\\n\\nQ: I have three tokens, and all of them are white. Are some of them white?\\nA: Y\\n\\nQ: I have seven tokens, and all of them are white. Are some of them white?\\nA: Y\\n\\nQ: I have seven tokens, and all of them are black. Are all of them white?\\nA: N\\n\\nQ: I have four tokens, and all of them are white. Are all of them black?\\nA: N\\n\\n\\n\\n# Cases with 'one'\\n\\nQ: I have five tokens, and one of them are white. Are one of them black?\\nA: Y\\n\\nQ: I have six tokens, and one of them are black. Are some of them white?\\nA: Y\\n\\nQ: I have seven tokens, and one of them are black. Are one of them white?\\nA: Y\\n\\nQ: I have four tokens, and one of them are black. Are some of them white?\\nA: Y\\n\\nQ: I have six tokens, and one of them are white. Are some of them black?\\nA: Y\\n\\nQ: I have nine tokens, and one of them are white. Are one of them black?\\nA: Y\\n\\nQ: I have seven tokens, and one of them are white. Are one of them black?\\nA: Y\\n\\nQ: I have two tokens, and one of them are white. Are some of them black?\\nA: Y\\n\\nQ: I have five tokens, and one of them are white. Are some of them black?\\nA: Y\\n\\nQ: I have ten tokens, and one of them are black. Are one of them white?\\nA: Y\\n\\nQ: I have seven tokens, and one of them are white. Are one of them black?\\nA: Y\\n\\nQ: I have nine tokens, and one of them are black. Are one of them white?\\nA: Y\\n\\nQ: I have two tokens, and one of them are black. Are some of them white?\\nA: Y\\n\\nQ: I have two tokens, and one of them are black. Are one of them white?\\nA: Y\\n\\nQ: I have eight tokens, and one of them are white. Are some of them black?\\nA: Y\\n\\nQ: I have ten tokens, and one of them are black. Are some of them white?\\nA: Y\\n\\nQ: I have three tokens, and one of them are black. Are some of them white?\\nA: Y\\n\\nQ: I have six tokens, and one of them are black. Are one of them white?\\nA: Y\\n\\nQ: I have one tokens, and one of them are white. Are some of them black?\\nA: N\\n\\nQ: I have three tokens, and one of them are white. Are one of them black?\\nA: Y\\n\\n\\n\\n# Cases with 'some'\\n\\nQ: I have four tokens, and some of them are black. Are all of them white?\\nA: N\\n\\nQ: I have eight tokens, and some of them are black. Are all of them white?\\nA: N\\n\\nQ: I have ten tokens, and some of them are black. Are some of them white?\\nA: Y\\n\\nQ: I have three tokens, and some of them are black. Are one of them white?\\nA: Y\\n\\nQ: I have six tokens, and some of them are black. Are some of them white?\\nA: Y\\n\\nQ: I have one tokens, and some of them are black. Are some of them white?\\nA: N\\n\\nQ: I have six tokens, and some of them are black. Are all of them white?\\nA: N\\n\\nQ: I have nine tokens, and some of them are white. Are some of them black?\\nA: Y\\n\\nQ: I have six tokens, and some of them are white. Are one of them black?\\nA: Y\\n\\nQ: I have one tokens, and some of them are black. Are some of them white?\\nA: N\\n\\nQ: I have eight tokens, and some of them are white. Are some of them black?\\nA: Y\\n\\nQ: I have five tokens, and some of them are white. Are some of them black?\\nA: Y\\n\\nQ: I have four tokens, and some of them are white. Are some of them black?\\nA: Y\\n\\nQ: I have three tokens, and some of them are black. Are some of them white?\\nA: Y\\n\\nQ: I have six tokens, and some of them are black. Are some of them white?\\nA: Y\\n\\nQ: I have ten tokens, and some of them are black. Are some of them white?\\nA: Y\\n\\nQ: I have ten tokens, and some of them are black. Are one of them white?\\nA: Y\\n\\nQ: I have four tokens, and some of them are white. Are all of them black?\\nA: N\\n\\nQ: I have four tokens, and some of them are white. Are all of them black?\\nA: N\\n\\nQ: I have eight tokens, and some of them are white. Are all of them black?\\nA: N\\n\\n\\n\\nQ: I have ten tokens, and one of them are white. Are one of them black?\\nA: \",\n",
       "  'expected': 'Y',\n",
       "  'generated': '1\\n\\nQ: I have',\n",
       "  'correct_strict': False,\n",
       "  'correct_lenient': False,\n",
       "  'section_counts': {'basic': 20, 'numeric': 20, 'special': 20, 'zero': 0}},\n",
       " {'prompt': \"Tokens can be either black or white. Answer Y for yes and N for no:\\n\\nRemember:\\n- Only use Y or N to answer\\n- 'some' means at least one but not all\\n- 'one' means exactly one\\n- 'all' means every single token\\n\\n\\n\\n# Basic cases - using 'all'\\n\\nQ: I have five tokens, and all of them are white. Are some of them white?\\nA: Y\\n\\nQ: I have one tokens, and all of them are black. Are one of them white?\\nA: N\\n\\nQ: I have six tokens, and all of them are black. Are all of them black?\\nA: Y\\n\\nQ: I have nine tokens, and all of them are white. Are one of them black?\\nA: N\\n\\nQ: I have ten tokens, and all of them are white. Are one of them white?\\nA: Y\\n\\nQ: I have two tokens, and all of them are black. Are one of them black?\\nA: Y\\n\\nQ: I have three tokens, and all of them are black. Are one of them black?\\nA: Y\\n\\nQ: I have four tokens, and all of them are white. Are one of them black?\\nA: N\\n\\nQ: I have four tokens, and all of them are white. Are some of them black?\\nA: N\\n\\nQ: I have six tokens, and all of them are white. Are one of them black?\\nA: N\\n\\nQ: I have five tokens, and all of them are black. Are one of them white?\\nA: N\\n\\nQ: I have ten tokens, and all of them are black. Are one of them black?\\nA: Y\\n\\nQ: I have two tokens, and all of them are black. Are one of them black?\\nA: Y\\n\\nQ: I have nine tokens, and all of them are black. Are all of them white?\\nA: N\\n\\nQ: I have six tokens, and all of them are white. Are one of them white?\\nA: Y\\n\\nQ: I have one tokens, and all of them are black. Are one of them black?\\nA: Y\\n\\nQ: I have five tokens, and all of them are black. Are one of them white?\\nA: N\\n\\nQ: I have nine tokens, and all of them are white. Are one of them white?\\nA: Y\\n\\nQ: I have one tokens, and all of them are white. Are all of them white?\\nA: Y\\n\\nQ: I have two tokens, and all of them are white. Are all of them white?\\nA: Y\\n\\n\\n\\n# Cases with 'one'\\n\\nQ: I have nine tokens, and one of them are white. Are some of them black?\\nA: Y\\n\\nQ: I have one tokens, and one of them are black. Are some of them white?\\nA: N\\n\\nQ: I have three tokens, and one of them are white. Are some of them black?\\nA: Y\\n\\nQ: I have five tokens, and one of them are white. Are some of them black?\\nA: Y\\n\\nQ: I have four tokens, and one of them are white. Are one of them black?\\nA: Y\\n\\nQ: I have eight tokens, and one of them are black. Are one of them white?\\nA: Y\\n\\nQ: I have three tokens, and one of them are white. Are one of them black?\\nA: Y\\n\\nQ: I have three tokens, and one of them are black. Are some of them white?\\nA: Y\\n\\nQ: I have one tokens, and one of them are white. Are some of them black?\\nA: N\\n\\nQ: I have eight tokens, and one of them are white. Are some of them black?\\nA: Y\\n\\nQ: I have one tokens, and one of them are white. Are some of them black?\\nA: N\\n\\nQ: I have four tokens, and one of them are black. Are one of them white?\\nA: Y\\n\\nQ: I have three tokens, and one of them are black. Are one of them white?\\nA: Y\\n\\nQ: I have eight tokens, and one of them are white. Are one of them black?\\nA: Y\\n\\nQ: I have six tokens, and one of them are white. Are some of them black?\\nA: Y\\n\\nQ: I have four tokens, and one of them are black. Are one of them white?\\nA: Y\\n\\nQ: I have two tokens, and one of them are black. Are some of them white?\\nA: Y\\n\\nQ: I have eight tokens, and one of them are white. Are some of them black?\\nA: Y\\n\\nQ: I have eight tokens, and one of them are white. Are one of them black?\\nA: Y\\n\\nQ: I have ten tokens, and one of them are black. Are one of them white?\\nA: Y\\n\\n\\n\\n# Cases with 'some'\\n\\nQ: I have four tokens, and some of them are black. Are all of them white?\\nA: N\\n\\nQ: I have one tokens, and some of them are black. Are all of them white?\\nA: N\\n\\nQ: I have ten tokens, and some of them are black. Are some of them white?\\nA: Y\\n\\nQ: I have six tokens, and some of them are white. Are all of them black?\\nA: N\\n\\nQ: I have five tokens, and some of them are black. Are some of them white?\\nA: Y\\n\\nQ: I have five tokens, and some of them are white. Are one of them black?\\nA: Y\\n\\nQ: I have five tokens, and some of them are white. Are all of them black?\\nA: N\\n\\nQ: I have four tokens, and some of them are white. Are some of them black?\\nA: Y\\n\\nQ: I have eight tokens, and some of them are white. Are all of them black?\\nA: N\\n\\nQ: I have eight tokens, and some of them are black. Are all of them white?\\nA: N\\n\\nQ: I have one tokens, and some of them are white. Are all of them black?\\nA: N\\n\\nQ: I have one tokens, and some of them are white. Are all of them black?\\nA: N\\n\\nQ: I have three tokens, and some of them are white. Are one of them black?\\nA: Y\\n\\nQ: I have eight tokens, and some of them are black. Are one of them white?\\nA: Y\\n\\nQ: I have seven tokens, and some of them are white. Are all of them black?\\nA: N\\n\\nQ: I have eight tokens, and some of them are white. Are all of them black?\\nA: N\\n\\nQ: I have two tokens, and some of them are black. Are all of them white?\\nA: N\\n\\nQ: I have two tokens, and some of them are white. Are one of them black?\\nA: Y\\n\\nQ: I have seven tokens, and some of them are white. Are all of them black?\\nA: N\\n\\nQ: I have five tokens, and some of them are black. Are one of them white?\\nA: Y\\n\\n\\n\\nQ: I have one tokens, and one of them are white. Are one of them black?\\nA: \",\n",
       "  'expected': 'N',\n",
       "  'generated': '1\\n\\nQ: I have',\n",
       "  'correct_strict': False,\n",
       "  'correct_lenient': False,\n",
       "  'section_counts': {'basic': 20, 'numeric': 20, 'special': 20, 'zero': 0}},\n",
       " {'prompt': \"Tokens can be either black or white. Answer Y for yes and N for no:\\n\\nRemember:\\n- Only use Y or N to answer\\n- 'some' means at least one but not all\\n- 'one' means exactly one\\n- 'all' means every single token\\n\\n\\n\\n# Basic cases - using 'all'\\n\\nQ: I have six tokens, and all of them are black. Are all of them white?\\nA: N\\n\\nQ: I have three tokens, and all of them are white. Are one of them white?\\nA: Y\\n\\nQ: I have nine tokens, and all of them are black. Are one of them black?\\nA: Y\\n\\nQ: I have five tokens, and all of them are white. Are some of them black?\\nA: N\\n\\nQ: I have five tokens, and all of them are black. Are all of them black?\\nA: Y\\n\\nQ: I have nine tokens, and all of them are black. Are one of them white?\\nA: N\\n\\nQ: I have seven tokens, and all of them are white. Are some of them white?\\nA: Y\\n\\nQ: I have six tokens, and all of them are white. Are some of them white?\\nA: Y\\n\\nQ: I have six tokens, and all of them are black. Are all of them black?\\nA: Y\\n\\nQ: I have four tokens, and all of them are white. Are one of them black?\\nA: N\\n\\nQ: I have six tokens, and all of them are black. Are all of them black?\\nA: Y\\n\\nQ: I have six tokens, and all of them are white. Are one of them white?\\nA: Y\\n\\nQ: I have nine tokens, and all of them are black. Are one of them black?\\nA: Y\\n\\nQ: I have seven tokens, and all of them are white. Are all of them white?\\nA: Y\\n\\nQ: I have four tokens, and all of them are white. Are some of them black?\\nA: N\\n\\nQ: I have two tokens, and all of them are black. Are some of them black?\\nA: Y\\n\\nQ: I have five tokens, and all of them are black. Are one of them black?\\nA: Y\\n\\nQ: I have three tokens, and all of them are black. Are all of them white?\\nA: N\\n\\nQ: I have eight tokens, and all of them are black. Are some of them white?\\nA: N\\n\\nQ: I have nine tokens, and all of them are white. Are one of them black?\\nA: N\\n\\n\\n\\n# Cases with 'one'\\n\\nQ: I have eight tokens, and one of them are white. Are some of them black?\\nA: Y\\n\\nQ: I have three tokens, and one of them are white. Are some of them black?\\nA: Y\\n\\nQ: I have six tokens, and one of them are white. Are some of them black?\\nA: Y\\n\\nQ: I have three tokens, and one of them are black. Are one of them white?\\nA: Y\\n\\nQ: I have six tokens, and one of them are black. Are one of them white?\\nA: Y\\n\\nQ: I have ten tokens, and one of them are black. Are one of them white?\\nA: Y\\n\\nQ: I have seven tokens, and one of them are black. Are some of them white?\\nA: Y\\n\\nQ: I have ten tokens, and one of them are white. Are one of them black?\\nA: Y\\n\\nQ: I have ten tokens, and one of them are black. Are one of them white?\\nA: Y\\n\\nQ: I have four tokens, and one of them are white. Are some of them black?\\nA: Y\\n\\nQ: I have nine tokens, and one of them are black. Are one of them white?\\nA: Y\\n\\nQ: I have eight tokens, and one of them are black. Are some of them white?\\nA: Y\\n\\nQ: I have three tokens, and one of them are black. Are some of them white?\\nA: Y\\n\\nQ: I have four tokens, and one of them are white. Are one of them black?\\nA: Y\\n\\nQ: I have eight tokens, and one of them are white. Are some of them black?\\nA: Y\\n\\nQ: I have three tokens, and one of them are white. Are some of them black?\\nA: Y\\n\\nQ: I have one tokens, and one of them are white. Are one of them black?\\nA: N\\n\\nQ: I have two tokens, and one of them are white. Are some of them black?\\nA: Y\\n\\nQ: I have six tokens, and one of them are white. Are some of them black?\\nA: Y\\n\\nQ: I have seven tokens, and one of them are white. Are some of them black?\\nA: Y\\n\\n\\n\\n# Cases with 'some'\\n\\nQ: I have six tokens, and some of them are white. Are some of them black?\\nA: Y\\n\\nQ: I have one tokens, and some of them are black. Are one of them white?\\nA: N\\n\\nQ: I have nine tokens, and some of them are black. Are all of them white?\\nA: N\\n\\nQ: I have seven tokens, and some of them are white. Are some of them black?\\nA: Y\\n\\nQ: I have three tokens, and some of them are black. Are all of them white?\\nA: N\\n\\nQ: I have nine tokens, and some of them are white. Are some of them black?\\nA: Y\\n\\nQ: I have six tokens, and some of them are white. Are one of them black?\\nA: Y\\n\\nQ: I have four tokens, and some of them are black. Are some of them white?\\nA: Y\\n\\nQ: I have two tokens, and some of them are white. Are one of them black?\\nA: Y\\n\\nQ: I have three tokens, and some of them are white. Are some of them black?\\nA: Y\\n\\nQ: I have nine tokens, and some of them are black. Are all of them white?\\nA: N\\n\\nQ: I have nine tokens, and some of them are black. Are one of them white?\\nA: Y\\n\\nQ: I have six tokens, and some of them are black. Are all of them white?\\nA: N\\n\\nQ: I have seven tokens, and some of them are black. Are some of them white?\\nA: Y\\n\\nQ: I have six tokens, and some of them are white. Are all of them black?\\nA: N\\n\\nQ: I have seven tokens, and some of them are white. Are all of them black?\\nA: N\\n\\nQ: I have eight tokens, and some of them are white. Are one of them black?\\nA: Y\\n\\nQ: I have two tokens, and some of them are white. Are some of them black?\\nA: Y\\n\\nQ: I have ten tokens, and some of them are black. Are some of them white?\\nA: Y\\n\\nQ: I have one tokens, and some of them are black. Are all of them white?\\nA: N\\n\\n\\n\\nQ: I have six tokens, and one of them are black. Are some of them white?\\nA: \",\n",
       "  'expected': 'Y',\n",
       "  'generated': '1\\n\\nQ: I have',\n",
       "  'correct_strict': False,\n",
       "  'correct_lenient': False,\n",
       "  'section_counts': {'basic': 20, 'numeric': 20, 'special': 20, 'zero': 0}},\n",
       " {'prompt': \"Tokens can be either black or white. Answer Y for yes and N for no:\\n\\nRemember:\\n- Only use Y or N to answer\\n- 'some' means at least one but not all\\n- 'one' means exactly one\\n- 'all' means every single token\\n\\n\\n\\n# Basic cases - using 'all'\\n\\nQ: I have three tokens, and all of them are black. Are some of them black?\\nA: Y\\n\\nQ: I have nine tokens, and all of them are white. Are one of them white?\\nA: Y\\n\\nQ: I have five tokens, and all of them are black. Are some of them black?\\nA: Y\\n\\nQ: I have ten tokens, and all of them are white. Are some of them black?\\nA: N\\n\\nQ: I have four tokens, and all of them are black. Are one of them white?\\nA: N\\n\\nQ: I have three tokens, and all of them are black. Are all of them white?\\nA: N\\n\\nQ: I have seven tokens, and all of them are black. Are one of them black?\\nA: Y\\n\\nQ: I have ten tokens, and all of them are black. Are some of them white?\\nA: N\\n\\nQ: I have seven tokens, and all of them are black. Are some of them white?\\nA: N\\n\\nQ: I have seven tokens, and all of them are white. Are all of them black?\\nA: N\\n\\nQ: I have ten tokens, and all of them are black. Are all of them white?\\nA: N\\n\\nQ: I have ten tokens, and all of them are black. Are one of them white?\\nA: N\\n\\nQ: I have six tokens, and all of them are white. Are all of them white?\\nA: Y\\n\\nQ: I have eight tokens, and all of them are white. Are one of them white?\\nA: Y\\n\\nQ: I have eight tokens, and all of them are white. Are some of them white?\\nA: Y\\n\\nQ: I have two tokens, and all of them are white. Are some of them black?\\nA: N\\n\\nQ: I have nine tokens, and all of them are black. Are some of them black?\\nA: Y\\n\\nQ: I have ten tokens, and all of them are white. Are all of them black?\\nA: N\\n\\nQ: I have five tokens, and all of them are black. Are some of them black?\\nA: Y\\n\\nQ: I have eight tokens, and all of them are black. Are one of them white?\\nA: N\\n\\n\\n\\n# Cases with 'one'\\n\\nQ: I have eight tokens, and one of them are white. Are some of them black?\\nA: Y\\n\\nQ: I have three tokens, and one of them are black. Are some of them white?\\nA: Y\\n\\nQ: I have three tokens, and one of them are white. Are some of them black?\\nA: Y\\n\\nQ: I have three tokens, and one of them are black. Are one of them white?\\nA: Y\\n\\nQ: I have seven tokens, and one of them are black. Are one of them white?\\nA: Y\\n\\nQ: I have eight tokens, and one of them are black. Are one of them white?\\nA: Y\\n\\nQ: I have six tokens, and one of them are white. Are one of them black?\\nA: Y\\n\\nQ: I have two tokens, and one of them are black. Are one of them white?\\nA: Y\\n\\nQ: I have nine tokens, and one of them are black. Are some of them white?\\nA: Y\\n\\nQ: I have six tokens, and one of them are black. Are one of them white?\\nA: Y\\n\\nQ: I have four tokens, and one of them are black. Are one of them white?\\nA: Y\\n\\nQ: I have six tokens, and one of them are white. Are one of them black?\\nA: Y\\n\\nQ: I have one tokens, and one of them are black. Are some of them white?\\nA: N\\n\\nQ: I have nine tokens, and one of them are black. Are one of them white?\\nA: Y\\n\\nQ: I have five tokens, and one of them are black. Are some of them white?\\nA: Y\\n\\nQ: I have nine tokens, and one of them are black. Are some of them white?\\nA: Y\\n\\nQ: I have two tokens, and one of them are black. Are one of them white?\\nA: Y\\n\\nQ: I have nine tokens, and one of them are black. Are some of them white?\\nA: Y\\n\\nQ: I have nine tokens, and one of them are white. Are some of them black?\\nA: Y\\n\\nQ: I have seven tokens, and one of them are black. Are some of them white?\\nA: Y\\n\\n\\n\\n# Cases with 'some'\\n\\nQ: I have nine tokens, and some of them are black. Are all of them white?\\nA: N\\n\\nQ: I have ten tokens, and some of them are white. Are some of them black?\\nA: Y\\n\\nQ: I have ten tokens, and some of them are white. Are all of them black?\\nA: N\\n\\nQ: I have ten tokens, and some of them are white. Are all of them black?\\nA: N\\n\\nQ: I have nine tokens, and some of them are black. Are some of them white?\\nA: Y\\n\\nQ: I have ten tokens, and some of them are white. Are some of them black?\\nA: Y\\n\\nQ: I have two tokens, and some of them are white. Are all of them black?\\nA: N\\n\\nQ: I have three tokens, and some of them are black. Are all of them white?\\nA: N\\n\\nQ: I have three tokens, and some of them are white. Are one of them black?\\nA: Y\\n\\nQ: I have two tokens, and some of them are black. Are all of them white?\\nA: N\\n\\nQ: I have three tokens, and some of them are black. Are some of them white?\\nA: Y\\n\\nQ: I have nine tokens, and some of them are white. Are all of them black?\\nA: N\\n\\nQ: I have ten tokens, and some of them are white. Are one of them black?\\nA: Y\\n\\nQ: I have six tokens, and some of them are black. Are one of them white?\\nA: Y\\n\\nQ: I have two tokens, and some of them are white. Are one of them black?\\nA: Y\\n\\nQ: I have three tokens, and some of them are black. Are one of them white?\\nA: Y\\n\\nQ: I have one tokens, and some of them are black. Are some of them white?\\nA: N\\n\\nQ: I have one tokens, and some of them are white. Are all of them black?\\nA: N\\n\\nQ: I have one tokens, and some of them are white. Are some of them black?\\nA: N\\n\\nQ: I have six tokens, and some of them are black. Are all of them white?\\nA: N\\n\\n\\n\\nQ: I have four tokens, and one of them are black. Are some of them white?\\nA: \",\n",
       "  'expected': 'Y',\n",
       "  'generated': '1\\n\\nQ: I have',\n",
       "  'correct_strict': False,\n",
       "  'correct_lenient': False,\n",
       "  'section_counts': {'basic': 20, 'numeric': 20, 'special': 20, 'zero': 0}},\n",
       " {'prompt': \"Tokens can be either black or white. Answer Y for yes and N for no:\\n\\nRemember:\\n- Only use Y or N to answer\\n- 'some' means at least one but not all\\n- 'one' means exactly one\\n- 'all' means every single token\\n\\n\\n\\n# Basic cases - using 'all'\\n\\nQ: I have four tokens, and all of them are white. Are all of them white?\\nA: Y\\n\\nQ: I have eight tokens, and all of them are black. Are all of them white?\\nA: N\\n\\nQ: I have two tokens, and all of them are white. Are some of them white?\\nA: Y\\n\\nQ: I have four tokens, and all of them are black. Are some of them white?\\nA: N\\n\\nQ: I have six tokens, and all of them are black. Are some of them white?\\nA: N\\n\\nQ: I have three tokens, and all of them are black. Are one of them black?\\nA: Y\\n\\nQ: I have eight tokens, and all of them are black. Are one of them black?\\nA: Y\\n\\nQ: I have two tokens, and all of them are black. Are one of them black?\\nA: Y\\n\\nQ: I have ten tokens, and all of them are white. Are all of them black?\\nA: N\\n\\nQ: I have three tokens, and all of them are black. Are one of them white?\\nA: N\\n\\nQ: I have eight tokens, and all of them are white. Are all of them black?\\nA: N\\n\\nQ: I have eight tokens, and all of them are black. Are some of them white?\\nA: N\\n\\nQ: I have seven tokens, and all of them are white. Are some of them black?\\nA: N\\n\\nQ: I have five tokens, and all of them are white. Are one of them white?\\nA: Y\\n\\nQ: I have two tokens, and all of them are white. Are some of them white?\\nA: Y\\n\\nQ: I have nine tokens, and all of them are black. Are some of them black?\\nA: Y\\n\\nQ: I have one tokens, and all of them are white. Are all of them black?\\nA: N\\n\\nQ: I have one tokens, and all of them are black. Are some of them white?\\nA: N\\n\\nQ: I have two tokens, and all of them are black. Are all of them white?\\nA: N\\n\\nQ: I have five tokens, and all of them are black. Are one of them black?\\nA: Y\\n\\n\\n\\n# Cases with 'one'\\n\\nQ: I have nine tokens, and one of them are black. Are one of them white?\\nA: Y\\n\\nQ: I have six tokens, and one of them are black. Are one of them white?\\nA: Y\\n\\nQ: I have nine tokens, and one of them are black. Are some of them white?\\nA: Y\\n\\nQ: I have one tokens, and one of them are white. Are some of them black?\\nA: N\\n\\nQ: I have one tokens, and one of them are white. Are one of them black?\\nA: N\\n\\nQ: I have six tokens, and one of them are black. Are some of them white?\\nA: Y\\n\\nQ: I have four tokens, and one of them are white. Are some of them black?\\nA: Y\\n\\nQ: I have five tokens, and one of them are white. Are some of them black?\\nA: Y\\n\\nQ: I have four tokens, and one of them are white. Are one of them black?\\nA: Y\\n\\nQ: I have four tokens, and one of them are white. Are some of them black?\\nA: Y\\n\\nQ: I have one tokens, and one of them are white. Are one of them black?\\nA: N\\n\\nQ: I have one tokens, and one of them are black. Are some of them white?\\nA: N\\n\\nQ: I have eight tokens, and one of them are white. Are one of them black?\\nA: Y\\n\\nQ: I have two tokens, and one of them are black. Are one of them white?\\nA: Y\\n\\nQ: I have nine tokens, and one of them are black. Are one of them white?\\nA: Y\\n\\nQ: I have eight tokens, and one of them are black. Are some of them white?\\nA: Y\\n\\nQ: I have four tokens, and one of them are white. Are one of them black?\\nA: Y\\n\\nQ: I have seven tokens, and one of them are black. Are one of them white?\\nA: Y\\n\\nQ: I have ten tokens, and one of them are black. Are some of them white?\\nA: Y\\n\\nQ: I have five tokens, and one of them are white. Are one of them black?\\nA: Y\\n\\n\\n\\n# Cases with 'some'\\n\\nQ: I have one tokens, and some of them are white. Are all of them black?\\nA: N\\n\\nQ: I have seven tokens, and some of them are black. Are some of them white?\\nA: Y\\n\\nQ: I have six tokens, and some of them are white. Are some of them black?\\nA: Y\\n\\nQ: I have two tokens, and some of them are white. Are some of them black?\\nA: Y\\n\\nQ: I have four tokens, and some of them are white. Are all of them black?\\nA: N\\n\\nQ: I have seven tokens, and some of them are white. Are some of them black?\\nA: Y\\n\\nQ: I have four tokens, and some of them are black. Are all of them white?\\nA: N\\n\\nQ: I have two tokens, and some of them are white. Are all of them black?\\nA: N\\n\\nQ: I have three tokens, and some of them are black. Are some of them white?\\nA: Y\\n\\nQ: I have five tokens, and some of them are white. Are all of them black?\\nA: N\\n\\nQ: I have nine tokens, and some of them are white. Are all of them black?\\nA: N\\n\\nQ: I have two tokens, and some of them are black. Are one of them white?\\nA: Y\\n\\nQ: I have ten tokens, and some of them are white. Are some of them black?\\nA: Y\\n\\nQ: I have six tokens, and some of them are white. Are some of them black?\\nA: Y\\n\\nQ: I have two tokens, and some of them are white. Are one of them black?\\nA: Y\\n\\nQ: I have six tokens, and some of them are white. Are one of them black?\\nA: Y\\n\\nQ: I have nine tokens, and some of them are white. Are all of them black?\\nA: N\\n\\nQ: I have six tokens, and some of them are white. Are one of them black?\\nA: Y\\n\\nQ: I have ten tokens, and some of them are white. Are all of them black?\\nA: N\\n\\nQ: I have six tokens, and some of them are black. Are all of them white?\\nA: N\\n\\n\\n\\nQ: I have six tokens, and one of them are white. Are one of them black?\\nA: \",\n",
       "  'expected': 'Y',\n",
       "  'generated': '1\\n\\nQ: I have',\n",
       "  'correct_strict': False,\n",
       "  'correct_lenient': False,\n",
       "  'section_counts': {'basic': 20, 'numeric': 20, 'special': 20, 'zero': 0}},\n",
       " {'prompt': \"Tokens can be either black or white. Answer Y for yes and N for no:\\n\\nRemember:\\n- Only use Y or N to answer\\n- 'some' means at least one but not all\\n- 'one' means exactly one\\n- 'all' means every single token\\n\\n\\n\\n# Basic cases - using 'all'\\n\\nQ: I have two tokens, and all of them are white. Are some of them white?\\nA: Y\\n\\nQ: I have four tokens, and all of them are white. Are some of them black?\\nA: N\\n\\nQ: I have eight tokens, and all of them are black. Are one of them black?\\nA: Y\\n\\nQ: I have five tokens, and all of them are black. Are one of them white?\\nA: N\\n\\nQ: I have seven tokens, and all of them are black. Are one of them white?\\nA: N\\n\\nQ: I have six tokens, and all of them are black. Are all of them white?\\nA: N\\n\\nQ: I have seven tokens, and all of them are white. Are one of them black?\\nA: N\\n\\nQ: I have one tokens, and all of them are white. Are some of them black?\\nA: N\\n\\nQ: I have five tokens, and all of them are white. Are all of them black?\\nA: N\\n\\nQ: I have seven tokens, and all of them are black. Are some of them white?\\nA: N\\n\\nQ: I have two tokens, and all of them are black. Are some of them white?\\nA: N\\n\\nQ: I have ten tokens, and all of them are white. Are one of them white?\\nA: Y\\n\\nQ: I have ten tokens, and all of them are black. Are some of them white?\\nA: N\\n\\nQ: I have two tokens, and all of them are white. Are all of them black?\\nA: N\\n\\nQ: I have five tokens, and all of them are white. Are all of them white?\\nA: Y\\n\\nQ: I have seven tokens, and all of them are white. Are some of them white?\\nA: Y\\n\\nQ: I have two tokens, and all of them are white. Are one of them white?\\nA: Y\\n\\nQ: I have seven tokens, and all of them are white. Are one of them black?\\nA: N\\n\\nQ: I have six tokens, and all of them are black. Are all of them black?\\nA: Y\\n\\nQ: I have two tokens, and all of them are black. Are all of them black?\\nA: Y\\n\\n\\n\\n# Cases with 'one'\\n\\nQ: I have eight tokens, and one of them are black. Are one of them white?\\nA: Y\\n\\nQ: I have six tokens, and one of them are black. Are one of them white?\\nA: Y\\n\\nQ: I have ten tokens, and one of them are white. Are some of them black?\\nA: Y\\n\\nQ: I have nine tokens, and one of them are black. Are some of them white?\\nA: Y\\n\\nQ: I have three tokens, and one of them are white. Are some of them black?\\nA: Y\\n\\nQ: I have ten tokens, and one of them are black. Are some of them white?\\nA: Y\\n\\nQ: I have five tokens, and one of them are white. Are some of them black?\\nA: Y\\n\\nQ: I have one tokens, and one of them are black. Are one of them white?\\nA: N\\n\\nQ: I have ten tokens, and one of them are white. Are some of them black?\\nA: Y\\n\\nQ: I have three tokens, and one of them are black. Are some of them white?\\nA: Y\\n\\nQ: I have one tokens, and one of them are white. Are one of them black?\\nA: N\\n\\nQ: I have five tokens, and one of them are white. Are one of them black?\\nA: Y\\n\\nQ: I have eight tokens, and one of them are white. Are one of them black?\\nA: Y\\n\\nQ: I have ten tokens, and one of them are white. Are some of them black?\\nA: Y\\n\\nQ: I have seven tokens, and one of them are white. Are some of them black?\\nA: Y\\n\\nQ: I have two tokens, and one of them are black. Are one of them white?\\nA: Y\\n\\nQ: I have one tokens, and one of them are black. Are some of them white?\\nA: N\\n\\nQ: I have three tokens, and one of them are white. Are some of them black?\\nA: Y\\n\\nQ: I have seven tokens, and one of them are white. Are some of them black?\\nA: Y\\n\\nQ: I have one tokens, and one of them are black. Are some of them white?\\nA: N\\n\\n\\n\\n# Cases with 'some'\\n\\nQ: I have six tokens, and some of them are black. Are one of them white?\\nA: Y\\n\\nQ: I have two tokens, and some of them are black. Are one of them white?\\nA: Y\\n\\nQ: I have five tokens, and some of them are black. Are one of them white?\\nA: Y\\n\\nQ: I have nine tokens, and some of them are white. Are some of them black?\\nA: Y\\n\\nQ: I have four tokens, and some of them are white. Are all of them black?\\nA: N\\n\\nQ: I have ten tokens, and some of them are black. Are one of them white?\\nA: Y\\n\\nQ: I have four tokens, and some of them are black. Are all of them white?\\nA: N\\n\\nQ: I have two tokens, and some of them are black. Are all of them white?\\nA: N\\n\\nQ: I have four tokens, and some of them are white. Are one of them black?\\nA: Y\\n\\nQ: I have two tokens, and some of them are white. Are all of them black?\\nA: N\\n\\nQ: I have seven tokens, and some of them are black. Are all of them white?\\nA: N\\n\\nQ: I have three tokens, and some of them are black. Are some of them white?\\nA: Y\\n\\nQ: I have five tokens, and some of them are white. Are all of them black?\\nA: N\\n\\nQ: I have one tokens, and some of them are white. Are some of them black?\\nA: N\\n\\nQ: I have nine tokens, and some of them are white. Are some of them black?\\nA: Y\\n\\nQ: I have two tokens, and some of them are white. Are some of them black?\\nA: Y\\n\\nQ: I have ten tokens, and some of them are black. Are one of them white?\\nA: Y\\n\\nQ: I have five tokens, and some of them are white. Are all of them black?\\nA: N\\n\\nQ: I have six tokens, and some of them are black. Are one of them white?\\nA: Y\\n\\nQ: I have one tokens, and some of them are black. Are all of them white?\\nA: N\\n\\n\\n\\nQ: I have six tokens, and one of them are white. Are some of them black?\\nA: \",\n",
       "  'expected': 'Y',\n",
       "  'generated': '1\\n\\nQ: I have',\n",
       "  'correct_strict': False,\n",
       "  'correct_lenient': False,\n",
       "  'section_counts': {'basic': 20, 'numeric': 20, 'special': 20, 'zero': 0}},\n",
       " {'prompt': \"Tokens can be either black or white. Answer Y for yes and N for no:\\n\\nRemember:\\n- Only use Y or N to answer\\n- 'some' means at least one but not all\\n- 'one' means exactly one\\n- 'all' means every single token\\n\\n\\n\\n# Basic cases - using 'all'\\n\\nQ: I have eight tokens, and all of them are white. Are some of them white?\\nA: Y\\n\\nQ: I have three tokens, and all of them are white. Are one of them black?\\nA: N\\n\\nQ: I have nine tokens, and all of them are white. Are all of them black?\\nA: N\\n\\nQ: I have eight tokens, and all of them are black. Are one of them white?\\nA: N\\n\\nQ: I have nine tokens, and all of them are white. Are all of them black?\\nA: N\\n\\nQ: I have six tokens, and all of them are black. Are some of them black?\\nA: Y\\n\\nQ: I have ten tokens, and all of them are white. Are all of them black?\\nA: N\\n\\nQ: I have two tokens, and all of them are black. Are some of them black?\\nA: Y\\n\\nQ: I have one tokens, and all of them are black. Are all of them black?\\nA: Y\\n\\nQ: I have four tokens, and all of them are black. Are some of them white?\\nA: N\\n\\nQ: I have eight tokens, and all of them are white. Are all of them black?\\nA: N\\n\\nQ: I have nine tokens, and all of them are white. Are one of them white?\\nA: Y\\n\\nQ: I have ten tokens, and all of them are black. Are one of them black?\\nA: Y\\n\\nQ: I have one tokens, and all of them are black. Are some of them black?\\nA: Y\\n\\nQ: I have four tokens, and all of them are black. Are all of them white?\\nA: N\\n\\nQ: I have nine tokens, and all of them are black. Are some of them white?\\nA: N\\n\\nQ: I have nine tokens, and all of them are black. Are all of them black?\\nA: Y\\n\\nQ: I have five tokens, and all of them are white. Are some of them black?\\nA: N\\n\\nQ: I have one tokens, and all of them are white. Are all of them black?\\nA: N\\n\\nQ: I have eight tokens, and all of them are white. Are some of them white?\\nA: Y\\n\\n\\n\\n# Cases with 'one'\\n\\nQ: I have seven tokens, and one of them are black. Are one of them white?\\nA: Y\\n\\nQ: I have two tokens, and one of them are white. Are some of them black?\\nA: Y\\n\\nQ: I have one tokens, and one of them are black. Are some of them white?\\nA: N\\n\\nQ: I have one tokens, and one of them are white. Are some of them black?\\nA: N\\n\\nQ: I have seven tokens, and one of them are black. Are one of them white?\\nA: Y\\n\\nQ: I have two tokens, and one of them are white. Are some of them black?\\nA: Y\\n\\nQ: I have four tokens, and one of them are white. Are some of them black?\\nA: Y\\n\\nQ: I have ten tokens, and one of them are white. Are one of them black?\\nA: Y\\n\\nQ: I have six tokens, and one of them are white. Are one of them black?\\nA: Y\\n\\nQ: I have one tokens, and one of them are black. Are some of them white?\\nA: N\\n\\nQ: I have five tokens, and one of them are black. Are some of them white?\\nA: Y\\n\\nQ: I have ten tokens, and one of them are white. Are one of them black?\\nA: Y\\n\\nQ: I have one tokens, and one of them are black. Are some of them white?\\nA: N\\n\\nQ: I have five tokens, and one of them are white. Are some of them black?\\nA: Y\\n\\nQ: I have seven tokens, and one of them are black. Are one of them white?\\nA: Y\\n\\nQ: I have five tokens, and one of them are white. Are one of them black?\\nA: Y\\n\\nQ: I have seven tokens, and one of them are white. Are some of them black?\\nA: Y\\n\\nQ: I have six tokens, and one of them are black. Are one of them white?\\nA: Y\\n\\nQ: I have five tokens, and one of them are black. Are one of them white?\\nA: Y\\n\\nQ: I have seven tokens, and one of them are black. Are one of them white?\\nA: Y\\n\\n\\n\\n# Cases with 'some'\\n\\nQ: I have seven tokens, and some of them are white. Are all of them black?\\nA: N\\n\\nQ: I have five tokens, and some of them are white. Are some of them black?\\nA: Y\\n\\nQ: I have two tokens, and some of them are white. Are some of them black?\\nA: Y\\n\\nQ: I have seven tokens, and some of them are white. Are one of them black?\\nA: Y\\n\\nQ: I have three tokens, and some of them are white. Are all of them black?\\nA: N\\n\\nQ: I have four tokens, and some of them are white. Are all of them black?\\nA: N\\n\\nQ: I have five tokens, and some of them are white. Are one of them black?\\nA: Y\\n\\nQ: I have ten tokens, and some of them are black. Are some of them white?\\nA: Y\\n\\nQ: I have two tokens, and some of them are white. Are all of them black?\\nA: N\\n\\nQ: I have five tokens, and some of them are black. Are one of them white?\\nA: Y\\n\\nQ: I have five tokens, and some of them are white. Are all of them black?\\nA: N\\n\\nQ: I have six tokens, and some of them are white. Are some of them black?\\nA: Y\\n\\nQ: I have nine tokens, and some of them are black. Are one of them white?\\nA: Y\\n\\nQ: I have ten tokens, and some of them are black. Are all of them white?\\nA: N\\n\\nQ: I have four tokens, and some of them are black. Are some of them white?\\nA: Y\\n\\nQ: I have three tokens, and some of them are black. Are some of them white?\\nA: Y\\n\\nQ: I have three tokens, and some of them are white. Are some of them black?\\nA: Y\\n\\nQ: I have four tokens, and some of them are black. Are some of them white?\\nA: Y\\n\\nQ: I have four tokens, and some of them are white. Are one of them black?\\nA: Y\\n\\nQ: I have one tokens, and some of them are black. Are all of them white?\\nA: N\\n\\n\\n\\nQ: I have four tokens, and one of them are white. Are one of them black?\\nA: \",\n",
       "  'expected': 'Y',\n",
       "  'generated': '1\\n\\nQ: I have',\n",
       "  'correct_strict': False,\n",
       "  'correct_lenient': False,\n",
       "  'section_counts': {'basic': 20, 'numeric': 20, 'special': 20, 'zero': 0}},\n",
       " {'prompt': \"Tokens can be either black or white. Answer Y for yes and N for no:\\n\\nRemember:\\n- Only use Y or N to answer\\n- 'some' means at least one but not all\\n- 'one' means exactly one\\n- 'all' means every single token\\n\\n\\n\\n# Basic cases - using 'all'\\n\\nQ: I have five tokens, and all of them are black. Are one of them white?\\nA: N\\n\\nQ: I have one tokens, and all of them are white. Are some of them black?\\nA: N\\n\\nQ: I have ten tokens, and all of them are white. Are all of them black?\\nA: N\\n\\nQ: I have three tokens, and all of them are black. Are some of them black?\\nA: Y\\n\\nQ: I have four tokens, and all of them are black. Are some of them white?\\nA: N\\n\\nQ: I have one tokens, and all of them are black. Are all of them black?\\nA: Y\\n\\nQ: I have two tokens, and all of them are white. Are all of them black?\\nA: N\\n\\nQ: I have nine tokens, and all of them are white. Are one of them white?\\nA: Y\\n\\nQ: I have nine tokens, and all of them are black. Are one of them black?\\nA: Y\\n\\nQ: I have seven tokens, and all of them are white. Are one of them black?\\nA: N\\n\\nQ: I have five tokens, and all of them are white. Are one of them white?\\nA: Y\\n\\nQ: I have two tokens, and all of them are black. Are some of them white?\\nA: N\\n\\nQ: I have ten tokens, and all of them are black. Are one of them black?\\nA: Y\\n\\nQ: I have nine tokens, and all of them are black. Are some of them black?\\nA: Y\\n\\nQ: I have ten tokens, and all of them are white. Are some of them white?\\nA: Y\\n\\nQ: I have three tokens, and all of them are black. Are one of them black?\\nA: Y\\n\\nQ: I have five tokens, and all of them are black. Are some of them black?\\nA: Y\\n\\nQ: I have four tokens, and all of them are white. Are all of them black?\\nA: N\\n\\nQ: I have ten tokens, and all of them are black. Are some of them black?\\nA: Y\\n\\nQ: I have nine tokens, and all of them are white. Are all of them white?\\nA: Y\\n\\n\\n\\n# Cases with 'one'\\n\\nQ: I have five tokens, and one of them are black. Are one of them white?\\nA: Y\\n\\nQ: I have eight tokens, and one of them are white. Are some of them black?\\nA: Y\\n\\nQ: I have six tokens, and one of them are white. Are some of them black?\\nA: Y\\n\\nQ: I have seven tokens, and one of them are black. Are one of them white?\\nA: Y\\n\\nQ: I have eight tokens, and one of them are white. Are some of them black?\\nA: Y\\n\\nQ: I have three tokens, and one of them are black. Are one of them white?\\nA: Y\\n\\nQ: I have ten tokens, and one of them are white. Are one of them black?\\nA: Y\\n\\nQ: I have three tokens, and one of them are white. Are one of them black?\\nA: Y\\n\\nQ: I have ten tokens, and one of them are white. Are one of them black?\\nA: Y\\n\\nQ: I have nine tokens, and one of them are white. Are one of them black?\\nA: Y\\n\\nQ: I have seven tokens, and one of them are black. Are one of them white?\\nA: Y\\n\\nQ: I have nine tokens, and one of them are white. Are some of them black?\\nA: Y\\n\\nQ: I have eight tokens, and one of them are black. Are some of them white?\\nA: Y\\n\\nQ: I have six tokens, and one of them are black. Are one of them white?\\nA: Y\\n\\nQ: I have nine tokens, and one of them are white. Are some of them black?\\nA: Y\\n\\nQ: I have two tokens, and one of them are black. Are some of them white?\\nA: Y\\n\\nQ: I have seven tokens, and one of them are white. Are one of them black?\\nA: Y\\n\\nQ: I have five tokens, and one of them are white. Are some of them black?\\nA: Y\\n\\nQ: I have two tokens, and one of them are white. Are one of them black?\\nA: Y\\n\\nQ: I have eight tokens, and one of them are black. Are one of them white?\\nA: Y\\n\\n\\n\\n# Cases with 'some'\\n\\nQ: I have seven tokens, and some of them are black. Are one of them white?\\nA: Y\\n\\nQ: I have two tokens, and some of them are white. Are some of them black?\\nA: Y\\n\\nQ: I have eight tokens, and some of them are white. Are all of them black?\\nA: N\\n\\nQ: I have ten tokens, and some of them are black. Are all of them white?\\nA: N\\n\\nQ: I have one tokens, and some of them are white. Are all of them black?\\nA: N\\n\\nQ: I have nine tokens, and some of them are black. Are all of them white?\\nA: N\\n\\nQ: I have eight tokens, and some of them are black. Are some of them white?\\nA: Y\\n\\nQ: I have seven tokens, and some of them are black. Are one of them white?\\nA: Y\\n\\nQ: I have three tokens, and some of them are black. Are one of them white?\\nA: Y\\n\\nQ: I have six tokens, and some of them are black. Are one of them white?\\nA: Y\\n\\nQ: I have nine tokens, and some of them are white. Are one of them black?\\nA: Y\\n\\nQ: I have six tokens, and some of them are black. Are one of them white?\\nA: Y\\n\\nQ: I have one tokens, and some of them are black. Are all of them white?\\nA: N\\n\\nQ: I have two tokens, and some of them are black. Are all of them white?\\nA: N\\n\\nQ: I have ten tokens, and some of them are black. Are some of them white?\\nA: Y\\n\\nQ: I have five tokens, and some of them are white. Are all of them black?\\nA: N\\n\\nQ: I have nine tokens, and some of them are white. Are some of them black?\\nA: Y\\n\\nQ: I have four tokens, and some of them are black. Are all of them white?\\nA: N\\n\\nQ: I have three tokens, and some of them are white. Are all of them black?\\nA: N\\n\\nQ: I have one tokens, and some of them are white. Are one of them black?\\nA: N\\n\\n\\n\\nQ: I have six tokens, and one of them are white. Are one of them black?\\nA: \",\n",
       "  'expected': 'Y',\n",
       "  'generated': '1\\n\\nQ: I have',\n",
       "  'correct_strict': False,\n",
       "  'correct_lenient': False,\n",
       "  'section_counts': {'basic': 20, 'numeric': 20, 'special': 20, 'zero': 0}},\n",
       " {'prompt': \"Tokens can be either black or white. Answer Y for yes and N for no:\\n\\nRemember:\\n- Only use Y or N to answer\\n- 'some' means at least one but not all\\n- 'one' means exactly one\\n- 'all' means every single token\\n\\n\\n\\n# Basic cases - using 'all'\\n\\nQ: I have four tokens, and all of them are white. Are some of them black?\\nA: N\\n\\nQ: I have five tokens, and all of them are black. Are one of them white?\\nA: N\\n\\nQ: I have five tokens, and all of them are black. Are one of them white?\\nA: N\\n\\nQ: I have seven tokens, and all of them are black. Are all of them black?\\nA: Y\\n\\nQ: I have four tokens, and all of them are black. Are all of them black?\\nA: Y\\n\\nQ: I have nine tokens, and all of them are white. Are one of them black?\\nA: N\\n\\nQ: I have four tokens, and all of them are black. Are one of them white?\\nA: N\\n\\nQ: I have ten tokens, and all of them are white. Are some of them white?\\nA: Y\\n\\nQ: I have six tokens, and all of them are black. Are all of them white?\\nA: N\\n\\nQ: I have three tokens, and all of them are black. Are all of them white?\\nA: N\\n\\nQ: I have three tokens, and all of them are black. Are all of them black?\\nA: Y\\n\\nQ: I have one tokens, and all of them are white. Are some of them white?\\nA: Y\\n\\nQ: I have eight tokens, and all of them are white. Are all of them white?\\nA: Y\\n\\nQ: I have one tokens, and all of them are black. Are some of them white?\\nA: N\\n\\nQ: I have ten tokens, and all of them are black. Are some of them black?\\nA: Y\\n\\nQ: I have five tokens, and all of them are black. Are all of them white?\\nA: N\\n\\nQ: I have four tokens, and all of them are black. Are some of them white?\\nA: N\\n\\nQ: I have ten tokens, and all of them are white. Are all of them white?\\nA: Y\\n\\nQ: I have two tokens, and all of them are white. Are one of them white?\\nA: Y\\n\\nQ: I have one tokens, and all of them are black. Are all of them white?\\nA: N\\n\\n\\n\\n# Cases with 'one'\\n\\nQ: I have ten tokens, and one of them are black. Are some of them white?\\nA: Y\\n\\nQ: I have two tokens, and one of them are black. Are one of them white?\\nA: Y\\n\\nQ: I have six tokens, and one of them are black. Are one of them white?\\nA: Y\\n\\nQ: I have nine tokens, and one of them are white. Are some of them black?\\nA: Y\\n\\nQ: I have six tokens, and one of them are white. Are one of them black?\\nA: Y\\n\\nQ: I have seven tokens, and one of them are black. Are some of them white?\\nA: Y\\n\\nQ: I have nine tokens, and one of them are white. Are some of them black?\\nA: Y\\n\\nQ: I have two tokens, and one of them are black. Are one of them white?\\nA: Y\\n\\nQ: I have two tokens, and one of them are black. Are one of them white?\\nA: Y\\n\\nQ: I have one tokens, and one of them are black. Are one of them white?\\nA: N\\n\\nQ: I have one tokens, and one of them are black. Are one of them white?\\nA: N\\n\\nQ: I have one tokens, and one of them are white. Are one of them black?\\nA: N\\n\\nQ: I have four tokens, and one of them are white. Are one of them black?\\nA: Y\\n\\nQ: I have five tokens, and one of them are white. Are some of them black?\\nA: Y\\n\\nQ: I have seven tokens, and one of them are white. Are one of them black?\\nA: Y\\n\\nQ: I have nine tokens, and one of them are white. Are one of them black?\\nA: Y\\n\\nQ: I have five tokens, and one of them are black. Are one of them white?\\nA: Y\\n\\nQ: I have three tokens, and one of them are black. Are one of them white?\\nA: Y\\n\\nQ: I have three tokens, and one of them are white. Are one of them black?\\nA: Y\\n\\nQ: I have two tokens, and one of them are black. Are one of them white?\\nA: Y\\n\\n\\n\\n# Cases with 'some'\\n\\nQ: I have eight tokens, and some of them are black. Are some of them white?\\nA: Y\\n\\nQ: I have ten tokens, and some of them are white. Are one of them black?\\nA: Y\\n\\nQ: I have ten tokens, and some of them are black. Are all of them white?\\nA: N\\n\\nQ: I have eight tokens, and some of them are black. Are all of them white?\\nA: N\\n\\nQ: I have five tokens, and some of them are white. Are one of them black?\\nA: Y\\n\\nQ: I have seven tokens, and some of them are white. Are one of them black?\\nA: Y\\n\\nQ: I have four tokens, and some of them are black. Are all of them white?\\nA: N\\n\\nQ: I have nine tokens, and some of them are white. Are all of them black?\\nA: N\\n\\nQ: I have seven tokens, and some of them are black. Are one of them white?\\nA: Y\\n\\nQ: I have three tokens, and some of them are white. Are some of them black?\\nA: Y\\n\\nQ: I have one tokens, and some of them are black. Are some of them white?\\nA: N\\n\\nQ: I have eight tokens, and some of them are black. Are some of them white?\\nA: Y\\n\\nQ: I have ten tokens, and some of them are white. Are one of them black?\\nA: Y\\n\\nQ: I have two tokens, and some of them are black. Are some of them white?\\nA: Y\\n\\nQ: I have seven tokens, and some of them are black. Are one of them white?\\nA: Y\\n\\nQ: I have seven tokens, and some of them are black. Are all of them white?\\nA: N\\n\\nQ: I have two tokens, and some of them are white. Are some of them black?\\nA: Y\\n\\nQ: I have one tokens, and some of them are black. Are one of them white?\\nA: N\\n\\nQ: I have seven tokens, and some of them are white. Are all of them black?\\nA: N\\n\\nQ: I have four tokens, and some of them are white. Are all of them black?\\nA: N\\n\\n\\n\\nQ: I have two tokens, and one of them are white. Are one of them black?\\nA: \",\n",
       "  'expected': 'Y',\n",
       "  'generated': '1\\n\\nQ: I have',\n",
       "  'correct_strict': False,\n",
       "  'correct_lenient': False,\n",
       "  'section_counts': {'basic': 20, 'numeric': 20, 'special': 20, 'zero': 0}},\n",
       " {'prompt': \"Tokens can be either black or white. Answer Y for yes and N for no:\\n\\nRemember:\\n- Only use Y or N to answer\\n- 'some' means at least one but not all\\n- 'one' means exactly one\\n- 'all' means every single token\\n\\n\\n\\n# Basic cases - using 'all'\\n\\nQ: I have nine tokens, and all of them are black. Are all of them white?\\nA: N\\n\\nQ: I have five tokens, and all of them are black. Are some of them white?\\nA: N\\n\\nQ: I have three tokens, and all of them are black. Are some of them white?\\nA: N\\n\\nQ: I have ten tokens, and all of them are black. Are one of them black?\\nA: Y\\n\\nQ: I have nine tokens, and all of them are black. Are some of them black?\\nA: Y\\n\\nQ: I have eight tokens, and all of them are white. Are some of them black?\\nA: N\\n\\nQ: I have ten tokens, and all of them are white. Are one of them white?\\nA: Y\\n\\nQ: I have one tokens, and all of them are white. Are all of them black?\\nA: N\\n\\nQ: I have seven tokens, and all of them are black. Are one of them black?\\nA: Y\\n\\nQ: I have four tokens, and all of them are black. Are one of them white?\\nA: N\\n\\nQ: I have four tokens, and all of them are black. Are all of them white?\\nA: N\\n\\nQ: I have two tokens, and all of them are white. Are some of them white?\\nA: Y\\n\\nQ: I have three tokens, and all of them are white. Are all of them black?\\nA: N\\n\\nQ: I have two tokens, and all of them are white. Are all of them black?\\nA: N\\n\\nQ: I have one tokens, and all of them are black. Are one of them black?\\nA: Y\\n\\nQ: I have five tokens, and all of them are black. Are one of them white?\\nA: N\\n\\nQ: I have three tokens, and all of them are black. Are all of them black?\\nA: Y\\n\\nQ: I have four tokens, and all of them are black. Are one of them white?\\nA: N\\n\\nQ: I have six tokens, and all of them are white. Are some of them black?\\nA: N\\n\\nQ: I have eight tokens, and all of them are black. Are all of them black?\\nA: Y\\n\\n\\n\\n# Cases with 'one'\\n\\nQ: I have two tokens, and one of them are black. Are some of them white?\\nA: Y\\n\\nQ: I have six tokens, and one of them are white. Are some of them black?\\nA: Y\\n\\nQ: I have ten tokens, and one of them are black. Are some of them white?\\nA: Y\\n\\nQ: I have four tokens, and one of them are white. Are some of them black?\\nA: Y\\n\\nQ: I have two tokens, and one of them are black. Are some of them white?\\nA: Y\\n\\nQ: I have one tokens, and one of them are white. Are one of them black?\\nA: N\\n\\nQ: I have eight tokens, and one of them are black. Are some of them white?\\nA: Y\\n\\nQ: I have ten tokens, and one of them are black. Are one of them white?\\nA: Y\\n\\nQ: I have one tokens, and one of them are white. Are one of them black?\\nA: N\\n\\nQ: I have five tokens, and one of them are white. Are some of them black?\\nA: Y\\n\\nQ: I have one tokens, and one of them are black. Are one of them white?\\nA: N\\n\\nQ: I have six tokens, and one of them are black. Are some of them white?\\nA: Y\\n\\nQ: I have one tokens, and one of them are white. Are some of them black?\\nA: N\\n\\nQ: I have ten tokens, and one of them are black. Are some of them white?\\nA: Y\\n\\nQ: I have six tokens, and one of them are black. Are some of them white?\\nA: Y\\n\\nQ: I have seven tokens, and one of them are white. Are some of them black?\\nA: Y\\n\\nQ: I have one tokens, and one of them are black. Are some of them white?\\nA: N\\n\\nQ: I have three tokens, and one of them are white. Are one of them black?\\nA: Y\\n\\nQ: I have six tokens, and one of them are white. Are one of them black?\\nA: Y\\n\\nQ: I have four tokens, and one of them are white. Are one of them black?\\nA: Y\\n\\n\\n\\n# Cases with 'some'\\n\\nQ: I have seven tokens, and some of them are black. Are some of them white?\\nA: Y\\n\\nQ: I have four tokens, and some of them are white. Are one of them black?\\nA: Y\\n\\nQ: I have one tokens, and some of them are black. Are all of them white?\\nA: N\\n\\nQ: I have nine tokens, and some of them are white. Are some of them black?\\nA: Y\\n\\nQ: I have six tokens, and some of them are black. Are some of them white?\\nA: Y\\n\\nQ: I have eight tokens, and some of them are white. Are one of them black?\\nA: Y\\n\\nQ: I have four tokens, and some of them are white. Are one of them black?\\nA: Y\\n\\nQ: I have ten tokens, and some of them are white. Are all of them black?\\nA: N\\n\\nQ: I have eight tokens, and some of them are white. Are all of them black?\\nA: N\\n\\nQ: I have one tokens, and some of them are black. Are all of them white?\\nA: N\\n\\nQ: I have nine tokens, and some of them are black. Are one of them white?\\nA: Y\\n\\nQ: I have three tokens, and some of them are white. Are some of them black?\\nA: Y\\n\\nQ: I have two tokens, and some of them are black. Are all of them white?\\nA: N\\n\\nQ: I have two tokens, and some of them are white. Are some of them black?\\nA: Y\\n\\nQ: I have four tokens, and some of them are black. Are some of them white?\\nA: Y\\n\\nQ: I have three tokens, and some of them are white. Are one of them black?\\nA: Y\\n\\nQ: I have eight tokens, and some of them are black. Are all of them white?\\nA: N\\n\\nQ: I have two tokens, and some of them are white. Are all of them black?\\nA: N\\n\\nQ: I have three tokens, and some of them are black. Are some of them white?\\nA: Y\\n\\nQ: I have ten tokens, and some of them are black. Are one of them white?\\nA: Y\\n\\n\\n\\nQ: I have two tokens, and one of them are white. Are some of them black?\\nA: \",\n",
       "  'expected': 'Y',\n",
       "  'generated': '1\\n\\nQ: I have',\n",
       "  'correct_strict': False,\n",
       "  'correct_lenient': False,\n",
       "  'section_counts': {'basic': 20, 'numeric': 20, 'special': 20, 'zero': 0}},\n",
       " {'prompt': \"Tokens can be either black or white. Answer Y for yes and N for no:\\n\\nRemember:\\n- Only use Y or N to answer\\n- 'some' means at least one but not all\\n- 'one' means exactly one\\n- 'all' means every single token\\n\\n\\n\\n# Basic cases - using 'all'\\n\\nQ: I have two tokens, and all of them are white. Are one of them white?\\nA: Y\\n\\nQ: I have five tokens, and all of them are black. Are one of them white?\\nA: N\\n\\nQ: I have nine tokens, and all of them are black. Are all of them black?\\nA: Y\\n\\nQ: I have one tokens, and all of them are white. Are one of them white?\\nA: Y\\n\\nQ: I have eight tokens, and all of them are white. Are all of them black?\\nA: N\\n\\nQ: I have ten tokens, and all of them are black. Are all of them black?\\nA: Y\\n\\nQ: I have two tokens, and all of them are black. Are some of them black?\\nA: Y\\n\\nQ: I have one tokens, and all of them are white. Are some of them white?\\nA: Y\\n\\nQ: I have nine tokens, and all of them are black. Are one of them white?\\nA: N\\n\\nQ: I have two tokens, and all of them are white. Are some of them black?\\nA: N\\n\\nQ: I have nine tokens, and all of them are white. Are some of them black?\\nA: N\\n\\nQ: I have nine tokens, and all of them are white. Are one of them black?\\nA: N\\n\\nQ: I have three tokens, and all of them are black. Are one of them white?\\nA: N\\n\\nQ: I have four tokens, and all of them are white. Are all of them white?\\nA: Y\\n\\nQ: I have three tokens, and all of them are white. Are some of them white?\\nA: Y\\n\\nQ: I have one tokens, and all of them are white. Are some of them black?\\nA: N\\n\\nQ: I have three tokens, and all of them are white. Are one of them black?\\nA: N\\n\\nQ: I have three tokens, and all of them are black. Are one of them black?\\nA: Y\\n\\nQ: I have four tokens, and all of them are white. Are some of them black?\\nA: N\\n\\nQ: I have eight tokens, and all of them are white. Are some of them white?\\nA: Y\\n\\n\\n\\n# Cases with 'one'\\n\\nQ: I have eight tokens, and one of them are white. Are some of them black?\\nA: Y\\n\\nQ: I have four tokens, and one of them are black. Are one of them white?\\nA: Y\\n\\nQ: I have seven tokens, and one of them are white. Are one of them black?\\nA: Y\\n\\nQ: I have two tokens, and one of them are white. Are some of them black?\\nA: Y\\n\\nQ: I have six tokens, and one of them are black. Are some of them white?\\nA: Y\\n\\nQ: I have seven tokens, and one of them are white. Are one of them black?\\nA: Y\\n\\nQ: I have one tokens, and one of them are white. Are one of them black?\\nA: N\\n\\nQ: I have five tokens, and one of them are white. Are one of them black?\\nA: Y\\n\\nQ: I have ten tokens, and one of them are white. Are one of them black?\\nA: Y\\n\\nQ: I have nine tokens, and one of them are white. Are one of them black?\\nA: Y\\n\\nQ: I have five tokens, and one of them are white. Are one of them black?\\nA: Y\\n\\nQ: I have nine tokens, and one of them are black. Are one of them white?\\nA: Y\\n\\nQ: I have five tokens, and one of them are black. Are some of them white?\\nA: Y\\n\\nQ: I have seven tokens, and one of them are black. Are some of them white?\\nA: Y\\n\\nQ: I have nine tokens, and one of them are black. Are one of them white?\\nA: Y\\n\\nQ: I have four tokens, and one of them are black. Are one of them white?\\nA: Y\\n\\nQ: I have six tokens, and one of them are black. Are one of them white?\\nA: Y\\n\\nQ: I have nine tokens, and one of them are black. Are some of them white?\\nA: Y\\n\\nQ: I have three tokens, and one of them are black. Are some of them white?\\nA: Y\\n\\nQ: I have seven tokens, and one of them are white. Are one of them black?\\nA: Y\\n\\n\\n\\n# Cases with 'some'\\n\\nQ: I have nine tokens, and some of them are black. Are one of them white?\\nA: Y\\n\\nQ: I have eight tokens, and some of them are black. Are one of them white?\\nA: Y\\n\\nQ: I have seven tokens, and some of them are black. Are all of them white?\\nA: N\\n\\nQ: I have three tokens, and some of them are black. Are one of them white?\\nA: Y\\n\\nQ: I have three tokens, and some of them are white. Are some of them black?\\nA: Y\\n\\nQ: I have seven tokens, and some of them are white. Are one of them black?\\nA: Y\\n\\nQ: I have ten tokens, and some of them are white. Are all of them black?\\nA: N\\n\\nQ: I have three tokens, and some of them are black. Are all of them white?\\nA: N\\n\\nQ: I have four tokens, and some of them are black. Are all of them white?\\nA: N\\n\\nQ: I have seven tokens, and some of them are white. Are all of them black?\\nA: N\\n\\nQ: I have nine tokens, and some of them are white. Are some of them black?\\nA: Y\\n\\nQ: I have seven tokens, and some of them are black. Are all of them white?\\nA: N\\n\\nQ: I have four tokens, and some of them are white. Are all of them black?\\nA: N\\n\\nQ: I have nine tokens, and some of them are black. Are all of them white?\\nA: N\\n\\nQ: I have two tokens, and some of them are white. Are one of them black?\\nA: Y\\n\\nQ: I have two tokens, and some of them are white. Are one of them black?\\nA: Y\\n\\nQ: I have nine tokens, and some of them are white. Are one of them black?\\nA: Y\\n\\nQ: I have seven tokens, and some of them are black. Are one of them white?\\nA: Y\\n\\nQ: I have seven tokens, and some of them are black. Are one of them white?\\nA: Y\\n\\nQ: I have four tokens, and some of them are black. Are some of them white?\\nA: Y\\n\\n\\n\\nQ: I have two tokens, and one of them are black. Are one of them white?\\nA: \",\n",
       "  'expected': 'Y',\n",
       "  'generated': '1\\n\\nQ: I have',\n",
       "  'correct_strict': False,\n",
       "  'correct_lenient': False,\n",
       "  'section_counts': {'basic': 20, 'numeric': 20, 'special': 20, 'zero': 0}},\n",
       " {'prompt': \"Tokens can be either black or white. Answer Y for yes and N for no:\\n\\nRemember:\\n- Only use Y or N to answer\\n- 'some' means at least one but not all\\n- 'one' means exactly one\\n- 'all' means every single token\\n\\n\\n\\n# Basic cases - using 'all'\\n\\nQ: I have ten tokens, and all of them are black. Are one of them black?\\nA: Y\\n\\nQ: I have ten tokens, and all of them are white. Are all of them black?\\nA: N\\n\\nQ: I have three tokens, and all of them are white. Are one of them white?\\nA: Y\\n\\nQ: I have one tokens, and all of them are black. Are some of them white?\\nA: N\\n\\nQ: I have nine tokens, and all of them are black. Are all of them black?\\nA: Y\\n\\nQ: I have three tokens, and all of them are black. Are all of them black?\\nA: Y\\n\\nQ: I have three tokens, and all of them are black. Are one of them white?\\nA: N\\n\\nQ: I have two tokens, and all of them are white. Are one of them black?\\nA: N\\n\\nQ: I have eight tokens, and all of them are black. Are one of them white?\\nA: N\\n\\nQ: I have nine tokens, and all of them are black. Are one of them white?\\nA: N\\n\\nQ: I have seven tokens, and all of them are white. Are all of them white?\\nA: Y\\n\\nQ: I have five tokens, and all of them are white. Are some of them white?\\nA: Y\\n\\nQ: I have eight tokens, and all of them are black. Are all of them white?\\nA: N\\n\\nQ: I have eight tokens, and all of them are black. Are all of them white?\\nA: N\\n\\nQ: I have ten tokens, and all of them are black. Are some of them black?\\nA: Y\\n\\nQ: I have five tokens, and all of them are black. Are some of them white?\\nA: N\\n\\nQ: I have four tokens, and all of them are black. Are all of them black?\\nA: Y\\n\\nQ: I have one tokens, and all of them are white. Are all of them black?\\nA: N\\n\\nQ: I have two tokens, and all of them are white. Are some of them white?\\nA: Y\\n\\nQ: I have six tokens, and all of them are white. Are some of them black?\\nA: N\\n\\n\\n\\n# Cases with 'one'\\n\\nQ: I have nine tokens, and one of them are black. Are one of them white?\\nA: Y\\n\\nQ: I have six tokens, and one of them are white. Are some of them black?\\nA: Y\\n\\nQ: I have four tokens, and one of them are black. Are one of them white?\\nA: Y\\n\\nQ: I have three tokens, and one of them are white. Are some of them black?\\nA: Y\\n\\nQ: I have seven tokens, and one of them are white. Are some of them black?\\nA: Y\\n\\nQ: I have five tokens, and one of them are black. Are some of them white?\\nA: Y\\n\\nQ: I have ten tokens, and one of them are black. Are one of them white?\\nA: Y\\n\\nQ: I have eight tokens, and one of them are white. Are some of them black?\\nA: Y\\n\\nQ: I have six tokens, and one of them are black. Are some of them white?\\nA: Y\\n\\nQ: I have eight tokens, and one of them are black. Are one of them white?\\nA: Y\\n\\nQ: I have two tokens, and one of them are black. Are one of them white?\\nA: Y\\n\\nQ: I have five tokens, and one of them are white. Are some of them black?\\nA: Y\\n\\nQ: I have four tokens, and one of them are black. Are one of them white?\\nA: Y\\n\\nQ: I have nine tokens, and one of them are white. Are one of them black?\\nA: Y\\n\\nQ: I have six tokens, and one of them are white. Are some of them black?\\nA: Y\\n\\nQ: I have eight tokens, and one of them are white. Are some of them black?\\nA: Y\\n\\nQ: I have seven tokens, and one of them are black. Are one of them white?\\nA: Y\\n\\nQ: I have eight tokens, and one of them are black. Are one of them white?\\nA: Y\\n\\nQ: I have one tokens, and one of them are black. Are one of them white?\\nA: N\\n\\nQ: I have five tokens, and one of them are white. Are one of them black?\\nA: Y\\n\\n\\n\\n# Cases with 'some'\\n\\nQ: I have eight tokens, and some of them are black. Are all of them white?\\nA: N\\n\\nQ: I have two tokens, and some of them are black. Are all of them white?\\nA: N\\n\\nQ: I have five tokens, and some of them are white. Are all of them black?\\nA: N\\n\\nQ: I have ten tokens, and some of them are white. Are one of them black?\\nA: Y\\n\\nQ: I have two tokens, and some of them are white. Are some of them black?\\nA: Y\\n\\nQ: I have eight tokens, and some of them are white. Are some of them black?\\nA: Y\\n\\nQ: I have ten tokens, and some of them are black. Are one of them white?\\nA: Y\\n\\nQ: I have two tokens, and some of them are white. Are all of them black?\\nA: N\\n\\nQ: I have six tokens, and some of them are white. Are some of them black?\\nA: Y\\n\\nQ: I have one tokens, and some of them are black. Are one of them white?\\nA: N\\n\\nQ: I have three tokens, and some of them are black. Are one of them white?\\nA: Y\\n\\nQ: I have eight tokens, and some of them are white. Are some of them black?\\nA: Y\\n\\nQ: I have one tokens, and some of them are black. Are one of them white?\\nA: N\\n\\nQ: I have three tokens, and some of them are white. Are some of them black?\\nA: Y\\n\\nQ: I have seven tokens, and some of them are black. Are one of them white?\\nA: Y\\n\\nQ: I have ten tokens, and some of them are white. Are one of them black?\\nA: Y\\n\\nQ: I have ten tokens, and some of them are white. Are one of them black?\\nA: Y\\n\\nQ: I have two tokens, and some of them are white. Are one of them black?\\nA: Y\\n\\nQ: I have eight tokens, and some of them are black. Are all of them white?\\nA: N\\n\\nQ: I have four tokens, and some of them are white. Are some of them black?\\nA: Y\\n\\n\\n\\nQ: I have three tokens, and one of them are black. Are one of them white?\\nA: \",\n",
       "  'expected': 'Y',\n",
       "  'generated': '1\\n\\nQ: I have',\n",
       "  'correct_strict': False,\n",
       "  'correct_lenient': False,\n",
       "  'section_counts': {'basic': 20, 'numeric': 20, 'special': 20, 'zero': 0}},\n",
       " {'prompt': \"Tokens can be either black or white. Answer Y for yes and N for no:\\n\\nRemember:\\n- Only use Y or N to answer\\n- 'some' means at least one but not all\\n- 'one' means exactly one\\n- 'all' means every single token\\n\\n\\n\\n# Basic cases - using 'all'\\n\\nQ: I have two tokens, and all of them are white. Are some of them white?\\nA: Y\\n\\nQ: I have seven tokens, and all of them are white. Are one of them white?\\nA: Y\\n\\nQ: I have ten tokens, and all of them are black. Are all of them black?\\nA: Y\\n\\nQ: I have five tokens, and all of them are white. Are all of them white?\\nA: Y\\n\\nQ: I have seven tokens, and all of them are black. Are some of them black?\\nA: Y\\n\\nQ: I have four tokens, and all of them are white. Are one of them white?\\nA: Y\\n\\nQ: I have seven tokens, and all of them are black. Are all of them black?\\nA: Y\\n\\nQ: I have nine tokens, and all of them are black. Are some of them black?\\nA: Y\\n\\nQ: I have ten tokens, and all of them are white. Are some of them black?\\nA: N\\n\\nQ: I have seven tokens, and all of them are white. Are all of them black?\\nA: N\\n\\nQ: I have nine tokens, and all of them are black. Are one of them black?\\nA: Y\\n\\nQ: I have one tokens, and all of them are black. Are one of them black?\\nA: Y\\n\\nQ: I have three tokens, and all of them are white. Are one of them white?\\nA: Y\\n\\nQ: I have two tokens, and all of them are black. Are all of them black?\\nA: Y\\n\\nQ: I have six tokens, and all of them are white. Are all of them black?\\nA: N\\n\\nQ: I have four tokens, and all of them are white. Are one of them white?\\nA: Y\\n\\nQ: I have one tokens, and all of them are white. Are some of them black?\\nA: N\\n\\nQ: I have five tokens, and all of them are white. Are one of them white?\\nA: Y\\n\\nQ: I have ten tokens, and all of them are white. Are all of them white?\\nA: Y\\n\\nQ: I have nine tokens, and all of them are white. Are all of them black?\\nA: N\\n\\n\\n\\n# Cases with 'one'\\n\\nQ: I have nine tokens, and one of them are black. Are one of them white?\\nA: Y\\n\\nQ: I have six tokens, and one of them are white. Are one of them black?\\nA: Y\\n\\nQ: I have five tokens, and one of them are white. Are some of them black?\\nA: Y\\n\\nQ: I have seven tokens, and one of them are white. Are one of them black?\\nA: Y\\n\\nQ: I have ten tokens, and one of them are black. Are some of them white?\\nA: Y\\n\\nQ: I have four tokens, and one of them are white. Are some of them black?\\nA: Y\\n\\nQ: I have one tokens, and one of them are black. Are one of them white?\\nA: N\\n\\nQ: I have eight tokens, and one of them are black. Are one of them white?\\nA: Y\\n\\nQ: I have three tokens, and one of them are black. Are some of them white?\\nA: Y\\n\\nQ: I have seven tokens, and one of them are white. Are some of them black?\\nA: Y\\n\\nQ: I have ten tokens, and one of them are white. Are some of them black?\\nA: Y\\n\\nQ: I have five tokens, and one of them are black. Are one of them white?\\nA: Y\\n\\nQ: I have one tokens, and one of them are white. Are one of them black?\\nA: N\\n\\nQ: I have two tokens, and one of them are white. Are some of them black?\\nA: Y\\n\\nQ: I have four tokens, and one of them are black. Are one of them white?\\nA: Y\\n\\nQ: I have seven tokens, and one of them are white. Are some of them black?\\nA: Y\\n\\nQ: I have one tokens, and one of them are white. Are some of them black?\\nA: N\\n\\nQ: I have seven tokens, and one of them are black. Are some of them white?\\nA: Y\\n\\nQ: I have nine tokens, and one of them are black. Are some of them white?\\nA: Y\\n\\nQ: I have ten tokens, and one of them are black. Are one of them white?\\nA: Y\\n\\n\\n\\n# Cases with 'some'\\n\\nQ: I have six tokens, and some of them are black. Are all of them white?\\nA: N\\n\\nQ: I have eight tokens, and some of them are white. Are all of them black?\\nA: N\\n\\nQ: I have one tokens, and some of them are black. Are one of them white?\\nA: N\\n\\nQ: I have nine tokens, and some of them are white. Are one of them black?\\nA: Y\\n\\nQ: I have five tokens, and some of them are white. Are one of them black?\\nA: Y\\n\\nQ: I have five tokens, and some of them are white. Are one of them black?\\nA: Y\\n\\nQ: I have four tokens, and some of them are black. Are some of them white?\\nA: Y\\n\\nQ: I have six tokens, and some of them are white. Are one of them black?\\nA: Y\\n\\nQ: I have six tokens, and some of them are white. Are some of them black?\\nA: Y\\n\\nQ: I have two tokens, and some of them are black. Are some of them white?\\nA: Y\\n\\nQ: I have six tokens, and some of them are black. Are one of them white?\\nA: Y\\n\\nQ: I have one tokens, and some of them are white. Are some of them black?\\nA: N\\n\\nQ: I have four tokens, and some of them are white. Are some of them black?\\nA: Y\\n\\nQ: I have ten tokens, and some of them are black. Are all of them white?\\nA: N\\n\\nQ: I have nine tokens, and some of them are black. Are all of them white?\\nA: N\\n\\nQ: I have three tokens, and some of them are black. Are some of them white?\\nA: Y\\n\\nQ: I have one tokens, and some of them are black. Are one of them white?\\nA: N\\n\\nQ: I have five tokens, and some of them are white. Are some of them black?\\nA: Y\\n\\nQ: I have six tokens, and some of them are white. Are all of them black?\\nA: N\\n\\nQ: I have six tokens, and some of them are black. Are one of them white?\\nA: Y\\n\\n\\n\\nQ: I have one tokens, and one of them are black. Are some of them white?\\nA: \",\n",
       "  'expected': 'N',\n",
       "  'generated': '0\\n\\nQ: I have',\n",
       "  'correct_strict': False,\n",
       "  'correct_lenient': False,\n",
       "  'section_counts': {'basic': 20, 'numeric': 20, 'special': 20, 'zero': 0}},\n",
       " {'prompt': \"Tokens can be either black or white. Answer Y for yes and N for no:\\n\\nRemember:\\n- Only use Y or N to answer\\n- 'some' means at least one but not all\\n- 'one' means exactly one\\n- 'all' means every single token\\n\\n\\n\\n# Basic cases - using 'all'\\n\\nQ: I have three tokens, and all of them are black. Are some of them black?\\nA: Y\\n\\nQ: I have three tokens, and all of them are black. Are some of them black?\\nA: Y\\n\\nQ: I have four tokens, and all of them are white. Are all of them white?\\nA: Y\\n\\nQ: I have ten tokens, and all of them are white. Are one of them black?\\nA: N\\n\\nQ: I have one tokens, and all of them are black. Are some of them black?\\nA: Y\\n\\nQ: I have seven tokens, and all of them are black. Are all of them white?\\nA: N\\n\\nQ: I have four tokens, and all of them are white. Are some of them black?\\nA: N\\n\\nQ: I have four tokens, and all of them are white. Are some of them white?\\nA: Y\\n\\nQ: I have five tokens, and all of them are white. Are some of them black?\\nA: N\\n\\nQ: I have two tokens, and all of them are white. Are all of them black?\\nA: N\\n\\nQ: I have five tokens, and all of them are white. Are all of them white?\\nA: Y\\n\\nQ: I have eight tokens, and all of them are white. Are one of them black?\\nA: N\\n\\nQ: I have ten tokens, and all of them are black. Are all of them white?\\nA: N\\n\\nQ: I have nine tokens, and all of them are black. Are all of them white?\\nA: N\\n\\nQ: I have seven tokens, and all of them are black. Are some of them white?\\nA: N\\n\\nQ: I have two tokens, and all of them are white. Are some of them black?\\nA: N\\n\\nQ: I have eight tokens, and all of them are black. Are all of them black?\\nA: Y\\n\\nQ: I have five tokens, and all of them are black. Are all of them black?\\nA: Y\\n\\nQ: I have two tokens, and all of them are black. Are some of them white?\\nA: N\\n\\nQ: I have four tokens, and all of them are black. Are all of them black?\\nA: Y\\n\\n\\n\\n# Cases with 'one'\\n\\nQ: I have five tokens, and one of them are black. Are one of them white?\\nA: Y\\n\\nQ: I have eight tokens, and one of them are black. Are some of them white?\\nA: Y\\n\\nQ: I have seven tokens, and one of them are white. Are one of them black?\\nA: Y\\n\\nQ: I have ten tokens, and one of them are black. Are some of them white?\\nA: Y\\n\\nQ: I have five tokens, and one of them are black. Are some of them white?\\nA: Y\\n\\nQ: I have four tokens, and one of them are black. Are one of them white?\\nA: Y\\n\\nQ: I have two tokens, and one of them are black. Are some of them white?\\nA: Y\\n\\nQ: I have five tokens, and one of them are black. Are some of them white?\\nA: Y\\n\\nQ: I have six tokens, and one of them are white. Are some of them black?\\nA: Y\\n\\nQ: I have four tokens, and one of them are white. Are one of them black?\\nA: Y\\n\\nQ: I have three tokens, and one of them are black. Are some of them white?\\nA: Y\\n\\nQ: I have seven tokens, and one of them are black. Are one of them white?\\nA: Y\\n\\nQ: I have three tokens, and one of them are black. Are some of them white?\\nA: Y\\n\\nQ: I have seven tokens, and one of them are black. Are some of them white?\\nA: Y\\n\\nQ: I have four tokens, and one of them are white. Are one of them black?\\nA: Y\\n\\nQ: I have three tokens, and one of them are black. Are one of them white?\\nA: Y\\n\\nQ: I have five tokens, and one of them are white. Are some of them black?\\nA: Y\\n\\nQ: I have six tokens, and one of them are white. Are some of them black?\\nA: Y\\n\\nQ: I have seven tokens, and one of them are black. Are one of them white?\\nA: Y\\n\\nQ: I have nine tokens, and one of them are black. Are some of them white?\\nA: Y\\n\\n\\n\\n# Cases with 'some'\\n\\nQ: I have two tokens, and some of them are black. Are some of them white?\\nA: Y\\n\\nQ: I have four tokens, and some of them are white. Are one of them black?\\nA: Y\\n\\nQ: I have two tokens, and some of them are white. Are one of them black?\\nA: Y\\n\\nQ: I have five tokens, and some of them are white. Are one of them black?\\nA: Y\\n\\nQ: I have eight tokens, and some of them are white. Are some of them black?\\nA: Y\\n\\nQ: I have ten tokens, and some of them are white. Are some of them black?\\nA: Y\\n\\nQ: I have two tokens, and some of them are white. Are all of them black?\\nA: N\\n\\nQ: I have nine tokens, and some of them are white. Are some of them black?\\nA: Y\\n\\nQ: I have two tokens, and some of them are white. Are one of them black?\\nA: Y\\n\\nQ: I have five tokens, and some of them are black. Are all of them white?\\nA: N\\n\\nQ: I have four tokens, and some of them are black. Are one of them white?\\nA: Y\\n\\nQ: I have five tokens, and some of them are black. Are one of them white?\\nA: Y\\n\\nQ: I have three tokens, and some of them are white. Are some of them black?\\nA: Y\\n\\nQ: I have five tokens, and some of them are black. Are some of them white?\\nA: Y\\n\\nQ: I have four tokens, and some of them are black. Are one of them white?\\nA: Y\\n\\nQ: I have four tokens, and some of them are black. Are one of them white?\\nA: Y\\n\\nQ: I have five tokens, and some of them are black. Are all of them white?\\nA: N\\n\\nQ: I have four tokens, and some of them are white. Are all of them black?\\nA: N\\n\\nQ: I have one tokens, and some of them are white. Are some of them black?\\nA: N\\n\\nQ: I have seven tokens, and some of them are black. Are one of them white?\\nA: Y\\n\\n\\n\\nQ: I have two tokens, and one of them are white. Are one of them black?\\nA: \",\n",
       "  'expected': 'Y',\n",
       "  'generated': '1\\n\\nQ: I have',\n",
       "  'correct_strict': False,\n",
       "  'correct_lenient': False,\n",
       "  'section_counts': {'basic': 20, 'numeric': 20, 'special': 20, 'zero': 0}},\n",
       " {'prompt': \"Tokens can be either black or white. Answer Y for yes and N for no:\\n\\nRemember:\\n- Only use Y or N to answer\\n- 'some' means at least one but not all\\n- 'one' means exactly one\\n- 'all' means every single token\\n\\n\\n\\n# Basic cases - using 'all'\\n\\nQ: I have six tokens, and all of them are black. Are all of them white?\\nA: N\\n\\nQ: I have three tokens, and all of them are white. Are all of them black?\\nA: N\\n\\nQ: I have five tokens, and all of them are white. Are some of them black?\\nA: N\\n\\nQ: I have four tokens, and all of them are white. Are one of them white?\\nA: Y\\n\\nQ: I have eight tokens, and all of them are black. Are all of them black?\\nA: Y\\n\\nQ: I have one tokens, and all of them are white. Are one of them white?\\nA: Y\\n\\nQ: I have six tokens, and all of them are white. Are some of them black?\\nA: N\\n\\nQ: I have seven tokens, and all of them are white. Are some of them white?\\nA: Y\\n\\nQ: I have five tokens, and all of them are black. Are some of them black?\\nA: Y\\n\\nQ: I have seven tokens, and all of them are white. Are some of them white?\\nA: Y\\n\\nQ: I have three tokens, and all of them are black. Are all of them white?\\nA: N\\n\\nQ: I have seven tokens, and all of them are white. Are some of them white?\\nA: Y\\n\\nQ: I have five tokens, and all of them are white. Are one of them black?\\nA: N\\n\\nQ: I have five tokens, and all of them are white. Are all of them white?\\nA: Y\\n\\nQ: I have six tokens, and all of them are black. Are some of them white?\\nA: N\\n\\nQ: I have six tokens, and all of them are white. Are all of them white?\\nA: Y\\n\\nQ: I have three tokens, and all of them are black. Are all of them white?\\nA: N\\n\\nQ: I have ten tokens, and all of them are black. Are some of them white?\\nA: N\\n\\nQ: I have one tokens, and all of them are white. Are some of them black?\\nA: N\\n\\nQ: I have four tokens, and all of them are white. Are some of them black?\\nA: N\\n\\n\\n\\n# Cases with 'one'\\n\\nQ: I have three tokens, and one of them are black. Are one of them white?\\nA: Y\\n\\nQ: I have ten tokens, and one of them are white. Are one of them black?\\nA: Y\\n\\nQ: I have four tokens, and one of them are white. Are some of them black?\\nA: Y\\n\\nQ: I have one tokens, and one of them are white. Are some of them black?\\nA: N\\n\\nQ: I have three tokens, and one of them are white. Are one of them black?\\nA: Y\\n\\nQ: I have one tokens, and one of them are black. Are some of them white?\\nA: N\\n\\nQ: I have two tokens, and one of them are black. Are one of them white?\\nA: Y\\n\\nQ: I have three tokens, and one of them are black. Are some of them white?\\nA: Y\\n\\nQ: I have four tokens, and one of them are black. Are some of them white?\\nA: Y\\n\\nQ: I have ten tokens, and one of them are black. Are one of them white?\\nA: Y\\n\\nQ: I have five tokens, and one of them are black. Are one of them white?\\nA: Y\\n\\nQ: I have seven tokens, and one of them are white. Are some of them black?\\nA: Y\\n\\nQ: I have four tokens, and one of them are white. Are one of them black?\\nA: Y\\n\\nQ: I have five tokens, and one of them are white. Are one of them black?\\nA: Y\\n\\nQ: I have eight tokens, and one of them are black. Are one of them white?\\nA: Y\\n\\nQ: I have one tokens, and one of them are black. Are some of them white?\\nA: N\\n\\nQ: I have three tokens, and one of them are white. Are one of them black?\\nA: Y\\n\\nQ: I have five tokens, and one of them are white. Are one of them black?\\nA: Y\\n\\nQ: I have nine tokens, and one of them are white. Are some of them black?\\nA: Y\\n\\nQ: I have six tokens, and one of them are white. Are one of them black?\\nA: Y\\n\\n\\n\\n# Cases with 'some'\\n\\nQ: I have nine tokens, and some of them are black. Are some of them white?\\nA: Y\\n\\nQ: I have four tokens, and some of them are black. Are one of them white?\\nA: Y\\n\\nQ: I have eight tokens, and some of them are white. Are one of them black?\\nA: Y\\n\\nQ: I have one tokens, and some of them are white. Are all of them black?\\nA: N\\n\\nQ: I have two tokens, and some of them are black. Are all of them white?\\nA: N\\n\\nQ: I have three tokens, and some of them are black. Are all of them white?\\nA: N\\n\\nQ: I have seven tokens, and some of them are black. Are one of them white?\\nA: Y\\n\\nQ: I have nine tokens, and some of them are white. Are all of them black?\\nA: N\\n\\nQ: I have three tokens, and some of them are white. Are one of them black?\\nA: Y\\n\\nQ: I have one tokens, and some of them are white. Are some of them black?\\nA: N\\n\\nQ: I have ten tokens, and some of them are white. Are all of them black?\\nA: N\\n\\nQ: I have ten tokens, and some of them are black. Are all of them white?\\nA: N\\n\\nQ: I have ten tokens, and some of them are white. Are one of them black?\\nA: Y\\n\\nQ: I have four tokens, and some of them are white. Are one of them black?\\nA: Y\\n\\nQ: I have four tokens, and some of them are black. Are all of them white?\\nA: N\\n\\nQ: I have ten tokens, and some of them are black. Are one of them white?\\nA: Y\\n\\nQ: I have six tokens, and some of them are black. Are all of them white?\\nA: N\\n\\nQ: I have three tokens, and some of them are white. Are one of them black?\\nA: Y\\n\\nQ: I have eight tokens, and some of them are black. Are some of them white?\\nA: Y\\n\\nQ: I have five tokens, and some of them are white. Are all of them black?\\nA: N\\n\\n\\n\\nQ: I have two tokens, and one of them are white. Are some of them black?\\nA: \",\n",
       "  'expected': 'Y',\n",
       "  'generated': '0\\n\\nQ: I have',\n",
       "  'correct_strict': False,\n",
       "  'correct_lenient': False,\n",
       "  'section_counts': {'basic': 20, 'numeric': 20, 'special': 20, 'zero': 0}},\n",
       " {'prompt': \"Tokens can be either black or white. Answer Y for yes and N for no:\\n\\nRemember:\\n- Only use Y or N to answer\\n- 'some' means at least one but not all\\n- 'one' means exactly one\\n- 'all' means every single token\\n\\n\\n\\n# Basic cases - using 'all'\\n\\nQ: I have five tokens, and all of them are white. Are all of them black?\\nA: N\\n\\nQ: I have eight tokens, and all of them are white. Are all of them white?\\nA: Y\\n\\nQ: I have two tokens, and all of them are black. Are all of them black?\\nA: Y\\n\\nQ: I have three tokens, and all of them are white. Are all of them white?\\nA: Y\\n\\nQ: I have seven tokens, and all of them are white. Are some of them white?\\nA: Y\\n\\nQ: I have seven tokens, and all of them are white. Are some of them black?\\nA: N\\n\\nQ: I have two tokens, and all of them are black. Are some of them black?\\nA: Y\\n\\nQ: I have ten tokens, and all of them are white. Are some of them white?\\nA: Y\\n\\nQ: I have nine tokens, and all of them are black. Are one of them white?\\nA: N\\n\\nQ: I have nine tokens, and all of them are black. Are some of them white?\\nA: N\\n\\nQ: I have five tokens, and all of them are black. Are some of them white?\\nA: N\\n\\nQ: I have ten tokens, and all of them are white. Are one of them black?\\nA: N\\n\\nQ: I have seven tokens, and all of them are black. Are all of them white?\\nA: N\\n\\nQ: I have seven tokens, and all of them are black. Are all of them white?\\nA: N\\n\\nQ: I have nine tokens, and all of them are white. Are all of them white?\\nA: Y\\n\\nQ: I have eight tokens, and all of them are black. Are one of them black?\\nA: Y\\n\\nQ: I have seven tokens, and all of them are white. Are some of them black?\\nA: N\\n\\nQ: I have eight tokens, and all of them are black. Are some of them white?\\nA: N\\n\\nQ: I have nine tokens, and all of them are white. Are all of them black?\\nA: N\\n\\nQ: I have one tokens, and all of them are black. Are one of them white?\\nA: N\\n\\n\\n\\n# Cases with 'one'\\n\\nQ: I have seven tokens, and one of them are black. Are one of them white?\\nA: Y\\n\\nQ: I have four tokens, and one of them are black. Are some of them white?\\nA: Y\\n\\nQ: I have five tokens, and one of them are white. Are one of them black?\\nA: Y\\n\\nQ: I have nine tokens, and one of them are white. Are one of them black?\\nA: Y\\n\\nQ: I have two tokens, and one of them are black. Are some of them white?\\nA: Y\\n\\nQ: I have five tokens, and one of them are black. Are some of them white?\\nA: Y\\n\\nQ: I have three tokens, and one of them are white. Are some of them black?\\nA: Y\\n\\nQ: I have two tokens, and one of them are black. Are one of them white?\\nA: Y\\n\\nQ: I have three tokens, and one of them are white. Are some of them black?\\nA: Y\\n\\nQ: I have four tokens, and one of them are black. Are some of them white?\\nA: Y\\n\\nQ: I have one tokens, and one of them are white. Are one of them black?\\nA: N\\n\\nQ: I have one tokens, and one of them are black. Are some of them white?\\nA: N\\n\\nQ: I have one tokens, and one of them are black. Are one of them white?\\nA: N\\n\\nQ: I have ten tokens, and one of them are white. Are one of them black?\\nA: Y\\n\\nQ: I have ten tokens, and one of them are black. Are one of them white?\\nA: Y\\n\\nQ: I have two tokens, and one of them are black. Are one of them white?\\nA: Y\\n\\nQ: I have eight tokens, and one of them are white. Are one of them black?\\nA: Y\\n\\nQ: I have three tokens, and one of them are black. Are one of them white?\\nA: Y\\n\\nQ: I have six tokens, and one of them are black. Are some of them white?\\nA: Y\\n\\nQ: I have three tokens, and one of them are white. Are some of them black?\\nA: Y\\n\\n\\n\\n# Cases with 'some'\\n\\nQ: I have ten tokens, and some of them are black. Are one of them white?\\nA: Y\\n\\nQ: I have seven tokens, and some of them are black. Are all of them white?\\nA: N\\n\\nQ: I have seven tokens, and some of them are black. Are all of them white?\\nA: N\\n\\nQ: I have two tokens, and some of them are black. Are one of them white?\\nA: Y\\n\\nQ: I have one tokens, and some of them are black. Are all of them white?\\nA: N\\n\\nQ: I have five tokens, and some of them are white. Are some of them black?\\nA: Y\\n\\nQ: I have six tokens, and some of them are white. Are some of them black?\\nA: Y\\n\\nQ: I have nine tokens, and some of them are white. Are one of them black?\\nA: Y\\n\\nQ: I have one tokens, and some of them are white. Are all of them black?\\nA: N\\n\\nQ: I have four tokens, and some of them are white. Are some of them black?\\nA: Y\\n\\nQ: I have four tokens, and some of them are black. Are all of them white?\\nA: N\\n\\nQ: I have ten tokens, and some of them are white. Are all of them black?\\nA: N\\n\\nQ: I have three tokens, and some of them are white. Are one of them black?\\nA: Y\\n\\nQ: I have seven tokens, and some of them are black. Are some of them white?\\nA: Y\\n\\nQ: I have two tokens, and some of them are white. Are some of them black?\\nA: Y\\n\\nQ: I have nine tokens, and some of them are black. Are one of them white?\\nA: Y\\n\\nQ: I have two tokens, and some of them are black. Are some of them white?\\nA: Y\\n\\nQ: I have two tokens, and some of them are white. Are one of them black?\\nA: Y\\n\\nQ: I have two tokens, and some of them are white. Are all of them black?\\nA: N\\n\\nQ: I have five tokens, and some of them are white. Are some of them black?\\nA: Y\\n\\n\\n\\nQ: I have ten tokens, and one of them are black. Are some of them white?\\nA: \",\n",
       "  'expected': 'Y',\n",
       "  'generated': '100%\\n\\nQ',\n",
       "  'correct_strict': False,\n",
       "  'correct_lenient': False,\n",
       "  'section_counts': {'basic': 20, 'numeric': 20, 'special': 20, 'zero': 0}},\n",
       " {'prompt': \"Tokens can be either black or white. Answer Y for yes and N for no:\\n\\nRemember:\\n- Only use Y or N to answer\\n- 'some' means at least one but not all\\n- 'one' means exactly one\\n- 'all' means every single token\\n\\n\\n\\n# Basic cases - using 'all'\\n\\nQ: I have six tokens, and all of them are black. Are one of them black?\\nA: Y\\n\\nQ: I have ten tokens, and all of them are black. Are all of them white?\\nA: N\\n\\nQ: I have nine tokens, and all of them are black. Are all of them white?\\nA: N\\n\\nQ: I have six tokens, and all of them are white. Are all of them white?\\nA: Y\\n\\nQ: I have ten tokens, and all of them are black. Are all of them white?\\nA: N\\n\\nQ: I have five tokens, and all of them are white. Are all of them white?\\nA: Y\\n\\nQ: I have four tokens, and all of them are black. Are all of them white?\\nA: N\\n\\nQ: I have three tokens, and all of them are black. Are all of them white?\\nA: N\\n\\nQ: I have seven tokens, and all of them are white. Are all of them black?\\nA: N\\n\\nQ: I have one tokens, and all of them are white. Are all of them black?\\nA: N\\n\\nQ: I have four tokens, and all of them are black. Are all of them black?\\nA: Y\\n\\nQ: I have two tokens, and all of them are white. Are all of them black?\\nA: N\\n\\nQ: I have one tokens, and all of them are white. Are all of them black?\\nA: N\\n\\nQ: I have three tokens, and all of them are white. Are one of them black?\\nA: N\\n\\nQ: I have nine tokens, and all of them are black. Are some of them white?\\nA: N\\n\\nQ: I have four tokens, and all of them are black. Are one of them black?\\nA: Y\\n\\nQ: I have six tokens, and all of them are white. Are all of them black?\\nA: N\\n\\nQ: I have five tokens, and all of them are black. Are all of them black?\\nA: Y\\n\\nQ: I have two tokens, and all of them are white. Are one of them white?\\nA: Y\\n\\nQ: I have one tokens, and all of them are black. Are all of them black?\\nA: Y\\n\\n\\n\\n# Cases with 'one'\\n\\nQ: I have one tokens, and one of them are black. Are one of them white?\\nA: N\\n\\nQ: I have eight tokens, and one of them are black. Are one of them white?\\nA: Y\\n\\nQ: I have five tokens, and one of them are black. Are some of them white?\\nA: Y\\n\\nQ: I have five tokens, and one of them are black. Are some of them white?\\nA: Y\\n\\nQ: I have nine tokens, and one of them are black. Are some of them white?\\nA: Y\\n\\nQ: I have eight tokens, and one of them are black. Are some of them white?\\nA: Y\\n\\nQ: I have six tokens, and one of them are black. Are one of them white?\\nA: Y\\n\\nQ: I have two tokens, and one of them are black. Are one of them white?\\nA: Y\\n\\nQ: I have two tokens, and one of them are black. Are some of them white?\\nA: Y\\n\\nQ: I have eight tokens, and one of them are black. Are some of them white?\\nA: Y\\n\\nQ: I have ten tokens, and one of them are black. Are one of them white?\\nA: Y\\n\\nQ: I have seven tokens, and one of them are black. Are one of them white?\\nA: Y\\n\\nQ: I have three tokens, and one of them are white. Are some of them black?\\nA: Y\\n\\nQ: I have one tokens, and one of them are white. Are some of them black?\\nA: N\\n\\nQ: I have two tokens, and one of them are white. Are some of them black?\\nA: Y\\n\\nQ: I have seven tokens, and one of them are white. Are some of them black?\\nA: Y\\n\\nQ: I have two tokens, and one of them are white. Are some of them black?\\nA: Y\\n\\nQ: I have four tokens, and one of them are white. Are one of them black?\\nA: Y\\n\\nQ: I have seven tokens, and one of them are white. Are some of them black?\\nA: Y\\n\\nQ: I have five tokens, and one of them are black. Are one of them white?\\nA: Y\\n\\n\\n\\n# Cases with 'some'\\n\\nQ: I have ten tokens, and some of them are white. Are some of them black?\\nA: Y\\n\\nQ: I have three tokens, and some of them are black. Are one of them white?\\nA: Y\\n\\nQ: I have one tokens, and some of them are white. Are all of them black?\\nA: N\\n\\nQ: I have five tokens, and some of them are white. Are all of them black?\\nA: N\\n\\nQ: I have six tokens, and some of them are black. Are some of them white?\\nA: Y\\n\\nQ: I have four tokens, and some of them are white. Are one of them black?\\nA: Y\\n\\nQ: I have seven tokens, and some of them are white. Are all of them black?\\nA: N\\n\\nQ: I have five tokens, and some of them are white. Are all of them black?\\nA: N\\n\\nQ: I have nine tokens, and some of them are black. Are some of them white?\\nA: Y\\n\\nQ: I have three tokens, and some of them are black. Are all of them white?\\nA: N\\n\\nQ: I have four tokens, and some of them are black. Are some of them white?\\nA: Y\\n\\nQ: I have five tokens, and some of them are black. Are all of them white?\\nA: N\\n\\nQ: I have one tokens, and some of them are white. Are some of them black?\\nA: N\\n\\nQ: I have two tokens, and some of them are black. Are some of them white?\\nA: Y\\n\\nQ: I have one tokens, and some of them are white. Are all of them black?\\nA: N\\n\\nQ: I have five tokens, and some of them are black. Are some of them white?\\nA: Y\\n\\nQ: I have five tokens, and some of them are white. Are some of them black?\\nA: Y\\n\\nQ: I have seven tokens, and some of them are black. Are some of them white?\\nA: Y\\n\\nQ: I have eight tokens, and some of them are black. Are some of them white?\\nA: Y\\n\\nQ: I have five tokens, and some of them are white. Are all of them black?\\nA: N\\n\\n\\n\\nQ: I have two tokens, and one of them are white. Are one of them black?\\nA: \",\n",
       "  'expected': 'Y',\n",
       "  'generated': '1\\n\\nQ: I have',\n",
       "  'correct_strict': False,\n",
       "  'correct_lenient': False,\n",
       "  'section_counts': {'basic': 20, 'numeric': 20, 'special': 20, 'zero': 0}},\n",
       " {'prompt': \"Tokens can be either black or white. Answer Y for yes and N for no:\\n\\nRemember:\\n- Only use Y or N to answer\\n- 'some' means at least one but not all\\n- 'one' means exactly one\\n- 'all' means every single token\\n\\n\\n\\n# Basic cases - using 'all'\\n\\nQ: I have ten tokens, and all of them are black. Are one of them white?\\nA: N\\n\\nQ: I have six tokens, and all of them are white. Are some of them black?\\nA: N\\n\\nQ: I have two tokens, and all of them are black. Are some of them black?\\nA: Y\\n\\nQ: I have four tokens, and all of them are white. Are some of them black?\\nA: N\\n\\nQ: I have five tokens, and all of them are white. Are some of them black?\\nA: N\\n\\nQ: I have five tokens, and all of them are white. Are one of them white?\\nA: Y\\n\\nQ: I have four tokens, and all of them are black. Are one of them black?\\nA: Y\\n\\nQ: I have seven tokens, and all of them are black. Are one of them white?\\nA: N\\n\\nQ: I have one tokens, and all of them are white. Are all of them white?\\nA: Y\\n\\nQ: I have seven tokens, and all of them are white. Are one of them white?\\nA: Y\\n\\nQ: I have three tokens, and all of them are black. Are all of them white?\\nA: N\\n\\nQ: I have eight tokens, and all of them are white. Are one of them black?\\nA: N\\n\\nQ: I have nine tokens, and all of them are white. Are some of them black?\\nA: N\\n\\nQ: I have eight tokens, and all of them are black. Are some of them white?\\nA: N\\n\\nQ: I have three tokens, and all of them are white. Are one of them white?\\nA: Y\\n\\nQ: I have nine tokens, and all of them are black. Are one of them white?\\nA: N\\n\\nQ: I have three tokens, and all of them are white. Are some of them white?\\nA: Y\\n\\nQ: I have six tokens, and all of them are black. Are one of them white?\\nA: N\\n\\nQ: I have two tokens, and all of them are black. Are all of them white?\\nA: N\\n\\nQ: I have two tokens, and all of them are black. Are some of them white?\\nA: N\\n\\n\\n\\n# Cases with 'one'\\n\\nQ: I have three tokens, and one of them are white. Are one of them black?\\nA: Y\\n\\nQ: I have seven tokens, and one of them are white. Are one of them black?\\nA: Y\\n\\nQ: I have five tokens, and one of them are white. Are some of them black?\\nA: Y\\n\\nQ: I have nine tokens, and one of them are white. Are one of them black?\\nA: Y\\n\\nQ: I have six tokens, and one of them are white. Are some of them black?\\nA: Y\\n\\nQ: I have six tokens, and one of them are black. Are one of them white?\\nA: Y\\n\\nQ: I have ten tokens, and one of them are white. Are some of them black?\\nA: Y\\n\\nQ: I have seven tokens, and one of them are white. Are one of them black?\\nA: Y\\n\\nQ: I have two tokens, and one of them are black. Are some of them white?\\nA: Y\\n\\nQ: I have nine tokens, and one of them are black. Are one of them white?\\nA: Y\\n\\nQ: I have one tokens, and one of them are white. Are some of them black?\\nA: N\\n\\nQ: I have seven tokens, and one of them are black. Are one of them white?\\nA: Y\\n\\nQ: I have eight tokens, and one of them are white. Are some of them black?\\nA: Y\\n\\nQ: I have ten tokens, and one of them are white. Are some of them black?\\nA: Y\\n\\nQ: I have six tokens, and one of them are black. Are some of them white?\\nA: Y\\n\\nQ: I have six tokens, and one of them are black. Are some of them white?\\nA: Y\\n\\nQ: I have three tokens, and one of them are white. Are some of them black?\\nA: Y\\n\\nQ: I have eight tokens, and one of them are black. Are one of them white?\\nA: Y\\n\\nQ: I have eight tokens, and one of them are black. Are some of them white?\\nA: Y\\n\\nQ: I have ten tokens, and one of them are white. Are some of them black?\\nA: Y\\n\\n\\n\\n# Cases with 'some'\\n\\nQ: I have three tokens, and some of them are black. Are one of them white?\\nA: Y\\n\\nQ: I have five tokens, and some of them are white. Are all of them black?\\nA: N\\n\\nQ: I have eight tokens, and some of them are black. Are some of them white?\\nA: Y\\n\\nQ: I have five tokens, and some of them are white. Are one of them black?\\nA: Y\\n\\nQ: I have eight tokens, and some of them are white. Are one of them black?\\nA: Y\\n\\nQ: I have three tokens, and some of them are black. Are some of them white?\\nA: Y\\n\\nQ: I have five tokens, and some of them are white. Are all of them black?\\nA: N\\n\\nQ: I have four tokens, and some of them are black. Are all of them white?\\nA: N\\n\\nQ: I have eight tokens, and some of them are black. Are some of them white?\\nA: Y\\n\\nQ: I have ten tokens, and some of them are white. Are all of them black?\\nA: N\\n\\nQ: I have one tokens, and some of them are white. Are some of them black?\\nA: N\\n\\nQ: I have one tokens, and some of them are black. Are some of them white?\\nA: N\\n\\nQ: I have ten tokens, and some of them are white. Are one of them black?\\nA: Y\\n\\nQ: I have six tokens, and some of them are white. Are some of them black?\\nA: Y\\n\\nQ: I have five tokens, and some of them are black. Are all of them white?\\nA: N\\n\\nQ: I have nine tokens, and some of them are black. Are some of them white?\\nA: Y\\n\\nQ: I have three tokens, and some of them are black. Are one of them white?\\nA: Y\\n\\nQ: I have two tokens, and some of them are black. Are all of them white?\\nA: N\\n\\nQ: I have two tokens, and some of them are black. Are one of them white?\\nA: Y\\n\\nQ: I have four tokens, and some of them are white. Are some of them black?\\nA: Y\\n\\n\\n\\nQ: I have seven tokens, and one of them are white. Are some of them black?\\nA: \",\n",
       "  'expected': 'Y',\n",
       "  'generated': '1\\n\\nQ: I have',\n",
       "  'correct_strict': False,\n",
       "  'correct_lenient': False,\n",
       "  'section_counts': {'basic': 20, 'numeric': 20, 'special': 20, 'zero': 0}}]"
      ]
     },
     "execution_count": 12,
     "metadata": {},
     "output_type": "execute_result"
    }
   ],
   "source": [
    "normal_results['numeric_tests']"
   ]
  },
  {
   "cell_type": "code",
   "execution_count": 75,
   "metadata": {},
   "outputs": [
    {
     "data": {
      "text/plain": [
       "[{'prompt': \"Tokens can be either black or white. Complete the following sentences using number words (one, two, three, etc.) never digits (1, 2, 3, etc.).\\nRemember:\\n- For 0, use 'zero' not '0'\\n- The total number of tokens equals the sum of black and white tokens\\n- Always write numbers as words (e.g., 'two' not '2')\\n\\nFor example, this is correct: \\nQ: I have ten tokens, and five of them are black. How many of my tokens are white?\\nA: five of them are white\\n\\nWhereas this is incorrect:\\nQ: I have ten tokens, and five of them are black. How many of my tokens are white?\\nA: 5 of them are white\\n\\n\\n\\n# Basic cases - all/none\\n\\nQ: I have seven tokens, and none of them are white. How many of my tokens are black?\\nA: all of them are black\\n\\nQ: I have five tokens, and some of them are white. How many of my tokens are black?\\nA: some of them are black\\n\\nQ: I have five tokens, and all of them are white. How many of my tokens are black?\\nA: none of them are black\\n\\nQ: I have four tokens, and all of them are white. How many of my tokens are black?\\nA: none of them are black\\n\\nQ: I have four tokens, and all of them are white. How many of my tokens are black?\\nA: none of them are black\\n\\nQ: I have four tokens, and none of them are black. How many of my tokens are white?\\nA: all of them are white\\n\\nQ: I have nine tokens, and none of them are white. How many of my tokens are black?\\nA: all of them are black\\n\\nQ: I have nine tokens, and none of them are white. How many of my tokens are black?\\nA: all of them are black\\n\\nQ: I have five tokens, and none of them are white. How many of my tokens are black?\\nA: all of them are black\\n\\nQ: I have seven tokens, and none of them are black. How many of my tokens are white?\\nA: all of them are white\\n\\nQ: I have seven tokens, and all of them are black. How many of my tokens are white?\\nA: none of them are white\\n\\nQ: I have five tokens, and all of them are black. How many of my tokens are white?\\nA: none of them are white\\n\\nQ: I have eight tokens, and all of them are white. How many of my tokens are black?\\nA: none of them are black\\n\\nQ: I have four tokens, and all of them are white. How many of my tokens are black?\\nA: none of them are black\\n\\nQ: I have seven tokens, and some of them are black. How many of my tokens are white?\\nA: some of them are white\\n\\nQ: I have seven tokens, and some of them are black. How many of my tokens are white?\\nA: some of them are white\\n\\nQ: I have three tokens, and none of them are white. How many of my tokens are black?\\nA: all of them are black\\n\\nQ: I have five tokens, and none of them are black. How many of my tokens are white?\\nA: all of them are white\\n\\nQ: I have seven tokens, and all of them are black. How many of my tokens are white?\\nA: none of them are white\\n\\nQ: I have seven tokens, and some of them are black. How many of my tokens are white?\\nA: some of them are white\\n\\n\\n\\n# Cases with specific numbers\\n\\nQ: I have nine tokens, and eight of them are white. How many of my tokens are black?\\nA: one of them are black\\n\\nQ: I have three tokens, and one of them are black. How many of my tokens are white?\\nA: two of them are white\\n\\nQ: I have ten tokens, and three of them are black. How many of my tokens are white?\\nA: seven of them are white\\n\\nQ: I have four tokens, and one of them are black. How many of my tokens are white?\\nA: three of them are white\\n\\nQ: I have six tokens, and two of them are white. How many of my tokens are black?\\nA: four of them are black\\n\\nQ: I have eight tokens, and one of them are white. How many of my tokens are black?\\nA: seven of them are black\\n\\nQ: I have seven tokens, and six of them are black. How many of my tokens are white?\\nA: one of them are white\\n\\nQ: I have nine tokens, and six of them are white. How many of my tokens are black?\\nA: three of them are black\\n\\nQ: I have three tokens, and one of them are white. How many of my tokens are black?\\nA: two of them are black\\n\\nQ: I have ten tokens, and seven of them are black. How many of my tokens are white?\\nA: three of them are white\\n\\nQ: I have three tokens, and one of them are black. How many of my tokens are white?\\nA: two of them are white\\n\\nQ: I have four tokens, and one of them are black. How many of my tokens are white?\\nA: three of them are white\\n\\nQ: I have seven tokens, and three of them are white. How many of my tokens are black?\\nA: four of them are black\\n\\nQ: I have eight tokens, and six of them are black. How many of my tokens are white?\\nA: two of them are white\\n\\nQ: I have five tokens, and three of them are black. How many of my tokens are white?\\nA: two of them are white\\n\\nQ: I have five tokens, and three of them are white. How many of my tokens are black?\\nA: two of them are black\\n\\nQ: I have eight tokens, and two of them are black. How many of my tokens are white?\\nA: six of them are white\\n\\nQ: I have four tokens, and three of them are black. How many of my tokens are white?\\nA: one of them are white\\n\\nQ: I have six tokens, and four of them are white. How many of my tokens are black?\\nA: two of them are black\\n\\nQ: I have ten tokens, and eight of them are black. How many of my tokens are white?\\nA: two of them are white\\n\\n\\n\\n# Cases with 'some'\\n\\nQ: I have ten tokens, and all of them are white. How many of my tokens are black?\\nA: none of them are black\\n\\nQ: I have ten tokens, and some of them are white. How many of my tokens are black?\\nA: some of them are black\\n\\nQ: I have six tokens, and none of them are black. How many of my tokens are white?\\nA: all of them are white\\n\\nQ: I have seven tokens, and none of them are white. How many of my tokens are black?\\nA: all of them are black\\n\\nQ: I have five tokens, and none of them are black. How many of my tokens are white?\\nA: all of them are white\\n\\nQ: I have nine tokens, and none of them are white. How many of my tokens are black?\\nA: all of them are black\\n\\nQ: I have three tokens, and some of them are black. How many of my tokens are white?\\nA: some of them are white\\n\\nQ: I have five tokens, and none of them are white. How many of my tokens are black?\\nA: all of them are black\\n\\nQ: I have four tokens, and some of them are black. How many of my tokens are white?\\nA: some of them are white\\n\\nQ: I have six tokens, and all of them are white. How many of my tokens are black?\\nA: none of them are black\\n\\nQ: I have five tokens, and none of them are black. How many of my tokens are white?\\nA: all of them are white\\n\\nQ: I have three tokens, and all of them are black. How many of my tokens are white?\\nA: none of them are white\\n\\nQ: I have ten tokens, and some of them are white. How many of my tokens are black?\\nA: some of them are black\\n\\nQ: I have seven tokens, and all of them are white. How many of my tokens are black?\\nA: none of them are black\\n\\nQ: I have seven tokens, and all of them are black. How many of my tokens are white?\\nA: none of them are white\\n\\nQ: I have eight tokens, and some of them are black. How many of my tokens are white?\\nA: some of them are white\\n\\nQ: I have seven tokens, and some of them are white. How many of my tokens are black?\\nA: some of them are black\\n\\nQ: I have eight tokens, and none of them are black. How many of my tokens are white?\\nA: all of them are white\\n\\nQ: I have eight tokens, and none of them are black. How many of my tokens are white?\\nA: all of them are white\\n\\nQ: I have four tokens, and some of them are black. How many of my tokens are white?\\nA: some of them are white\\n\\n\\n\\nQ: I have nine tokens, and some of them are white. How many of my tokens are black?\\nA: \",\n",
       "  'expected': 'some of them are black',\n",
       "  'generated': '1 of them are black',\n",
       "  'correct_strict': False,\n",
       "  'correct_lenient': False,\n",
       "  'section_counts': {'basic': 20, 'numeric': 20, 'special': 20, 'zero': 0}},\n",
       " {'prompt': \"Tokens can be either black or white. Complete the following sentences using number words (one, two, three, etc.) never digits (1, 2, 3, etc.).\\nRemember:\\n- For 0, use 'zero' not '0'\\n- The total number of tokens equals the sum of black and white tokens\\n- Always write numbers as words (e.g., 'two' not '2')\\n\\nFor example, this is correct: \\nQ: I have ten tokens, and five of them are black. How many of my tokens are white?\\nA: five of them are white\\n\\nWhereas this is incorrect:\\nQ: I have ten tokens, and five of them are black. How many of my tokens are white?\\nA: 5 of them are white\\n\\n\\n\\n# Basic cases - all/none\\n\\nQ: I have five tokens, and none of them are black. How many of my tokens are white?\\nA: all of them are white\\n\\nQ: I have three tokens, and all of them are black. How many of my tokens are white?\\nA: none of them are white\\n\\nQ: I have four tokens, and all of them are white. How many of my tokens are black?\\nA: none of them are black\\n\\nQ: I have three tokens, and some of them are white. How many of my tokens are black?\\nA: some of them are black\\n\\nQ: I have five tokens, and none of them are black. How many of my tokens are white?\\nA: all of them are white\\n\\nQ: I have ten tokens, and all of them are black. How many of my tokens are white?\\nA: none of them are white\\n\\nQ: I have five tokens, and all of them are white. How many of my tokens are black?\\nA: none of them are black\\n\\nQ: I have three tokens, and all of them are white. How many of my tokens are black?\\nA: none of them are black\\n\\nQ: I have six tokens, and all of them are black. How many of my tokens are white?\\nA: none of them are white\\n\\nQ: I have seven tokens, and all of them are black. How many of my tokens are white?\\nA: none of them are white\\n\\nQ: I have five tokens, and none of them are white. How many of my tokens are black?\\nA: all of them are black\\n\\nQ: I have ten tokens, and all of them are black. How many of my tokens are white?\\nA: none of them are white\\n\\nQ: I have nine tokens, and all of them are black. How many of my tokens are white?\\nA: none of them are white\\n\\nQ: I have ten tokens, and none of them are white. How many of my tokens are black?\\nA: all of them are black\\n\\nQ: I have six tokens, and all of them are white. How many of my tokens are black?\\nA: none of them are black\\n\\nQ: I have three tokens, and some of them are white. How many of my tokens are black?\\nA: some of them are black\\n\\nQ: I have six tokens, and all of them are black. How many of my tokens are white?\\nA: none of them are white\\n\\nQ: I have four tokens, and none of them are white. How many of my tokens are black?\\nA: all of them are black\\n\\nQ: I have nine tokens, and all of them are black. How many of my tokens are white?\\nA: none of them are white\\n\\nQ: I have ten tokens, and some of them are white. How many of my tokens are black?\\nA: some of them are black\\n\\n\\n\\n# Cases with specific numbers\\n\\nQ: I have nine tokens, and seven of them are white. How many of my tokens are black?\\nA: two of them are black\\n\\nQ: I have six tokens, and three of them are white. How many of my tokens are black?\\nA: three of them are black\\n\\nQ: I have nine tokens, and four of them are white. How many of my tokens are black?\\nA: five of them are black\\n\\nQ: I have five tokens, and one of them are black. How many of my tokens are white?\\nA: four of them are white\\n\\nQ: I have seven tokens, and six of them are black. How many of my tokens are white?\\nA: one of them are white\\n\\nQ: I have ten tokens, and one of them are black. How many of my tokens are white?\\nA: nine of them are white\\n\\nQ: I have four tokens, and two of them are black. How many of my tokens are white?\\nA: two of them are white\\n\\nQ: I have four tokens, and two of them are white. How many of my tokens are black?\\nA: two of them are black\\n\\nQ: I have six tokens, and three of them are white. How many of my tokens are black?\\nA: three of them are black\\n\\nQ: I have seven tokens, and two of them are black. How many of my tokens are white?\\nA: five of them are white\\n\\nQ: I have nine tokens, and six of them are white. How many of my tokens are black?\\nA: three of them are black\\n\\nQ: I have six tokens, and five of them are white. How many of my tokens are black?\\nA: one of them are black\\n\\nQ: I have eight tokens, and four of them are white. How many of my tokens are black?\\nA: four of them are black\\n\\nQ: I have ten tokens, and eight of them are black. How many of my tokens are white?\\nA: two of them are white\\n\\nQ: I have nine tokens, and one of them are black. How many of my tokens are white?\\nA: eight of them are white\\n\\nQ: I have five tokens, and two of them are white. How many of my tokens are black?\\nA: three of them are black\\n\\nQ: I have ten tokens, and seven of them are white. How many of my tokens are black?\\nA: three of them are black\\n\\nQ: I have nine tokens, and three of them are black. How many of my tokens are white?\\nA: six of them are white\\n\\nQ: I have five tokens, and three of them are black. How many of my tokens are white?\\nA: two of them are white\\n\\nQ: I have three tokens, and one of them are black. How many of my tokens are white?\\nA: two of them are white\\n\\n\\n\\n# Cases with 'some'\\n\\nQ: I have seven tokens, and all of them are white. How many of my tokens are black?\\nA: none of them are black\\n\\nQ: I have eight tokens, and all of them are white. How many of my tokens are black?\\nA: none of them are black\\n\\nQ: I have three tokens, and some of them are black. How many of my tokens are white?\\nA: some of them are white\\n\\nQ: I have six tokens, and some of them are white. How many of my tokens are black?\\nA: some of them are black\\n\\nQ: I have eight tokens, and all of them are white. How many of my tokens are black?\\nA: none of them are black\\n\\nQ: I have eight tokens, and none of them are black. How many of my tokens are white?\\nA: all of them are white\\n\\nQ: I have ten tokens, and some of them are black. How many of my tokens are white?\\nA: some of them are white\\n\\nQ: I have nine tokens, and some of them are black. How many of my tokens are white?\\nA: some of them are white\\n\\nQ: I have nine tokens, and none of them are black. How many of my tokens are white?\\nA: all of them are white\\n\\nQ: I have seven tokens, and none of them are black. How many of my tokens are white?\\nA: all of them are white\\n\\nQ: I have six tokens, and none of them are black. How many of my tokens are white?\\nA: all of them are white\\n\\nQ: I have five tokens, and none of them are black. How many of my tokens are white?\\nA: all of them are white\\n\\nQ: I have nine tokens, and all of them are black. How many of my tokens are white?\\nA: none of them are white\\n\\nQ: I have nine tokens, and all of them are white. How many of my tokens are black?\\nA: none of them are black\\n\\nQ: I have three tokens, and some of them are black. How many of my tokens are white?\\nA: some of them are white\\n\\nQ: I have nine tokens, and all of them are black. How many of my tokens are white?\\nA: none of them are white\\n\\nQ: I have three tokens, and none of them are white. How many of my tokens are black?\\nA: all of them are black\\n\\nQ: I have three tokens, and some of them are white. How many of my tokens are black?\\nA: some of them are black\\n\\nQ: I have seven tokens, and some of them are black. How many of my tokens are white?\\nA: some of them are white\\n\\nQ: I have seven tokens, and none of them are black. How many of my tokens are white?\\nA: all of them are white\\n\\n\\n\\nQ: I have five tokens, and all of them are black. How many of my tokens are white?\\nA: \",\n",
       "  'expected': 'none of them are white',\n",
       "  'generated': '0 of them are white',\n",
       "  'correct_strict': False,\n",
       "  'correct_lenient': True,\n",
       "  'section_counts': {'basic': 20, 'numeric': 20, 'special': 20, 'zero': 0}},\n",
       " {'prompt': \"Tokens can be either black or white. Complete the following sentences using number words (one, two, three, etc.) never digits (1, 2, 3, etc.).\\nRemember:\\n- For 0, use 'zero' not '0'\\n- The total number of tokens equals the sum of black and white tokens\\n- Always write numbers as words (e.g., 'two' not '2')\\n\\nFor example, this is correct: \\nQ: I have ten tokens, and five of them are black. How many of my tokens are white?\\nA: five of them are white\\n\\nWhereas this is incorrect:\\nQ: I have ten tokens, and five of them are black. How many of my tokens are white?\\nA: 5 of them are white\\n\\n\\n\\n# Basic cases - all/none\\n\\nQ: I have four tokens, and some of them are black. How many of my tokens are white?\\nA: some of them are white\\n\\nQ: I have three tokens, and none of them are black. How many of my tokens are white?\\nA: all of them are white\\n\\nQ: I have ten tokens, and all of them are black. How many of my tokens are white?\\nA: none of them are white\\n\\nQ: I have nine tokens, and none of them are black. How many of my tokens are white?\\nA: all of them are white\\n\\nQ: I have ten tokens, and some of them are white. How many of my tokens are black?\\nA: some of them are black\\n\\nQ: I have five tokens, and some of them are black. How many of my tokens are white?\\nA: some of them are white\\n\\nQ: I have three tokens, and none of them are white. How many of my tokens are black?\\nA: all of them are black\\n\\nQ: I have eight tokens, and some of them are white. How many of my tokens are black?\\nA: some of them are black\\n\\nQ: I have eight tokens, and none of them are black. How many of my tokens are white?\\nA: all of them are white\\n\\nQ: I have six tokens, and some of them are black. How many of my tokens are white?\\nA: some of them are white\\n\\nQ: I have six tokens, and some of them are black. How many of my tokens are white?\\nA: some of them are white\\n\\nQ: I have six tokens, and none of them are white. How many of my tokens are black?\\nA: all of them are black\\n\\nQ: I have eight tokens, and some of them are black. How many of my tokens are white?\\nA: some of them are white\\n\\nQ: I have ten tokens, and all of them are black. How many of my tokens are white?\\nA: none of them are white\\n\\nQ: I have four tokens, and none of them are white. How many of my tokens are black?\\nA: all of them are black\\n\\nQ: I have five tokens, and none of them are white. How many of my tokens are black?\\nA: all of them are black\\n\\nQ: I have eight tokens, and some of them are white. How many of my tokens are black?\\nA: some of them are black\\n\\nQ: I have eight tokens, and all of them are black. How many of my tokens are white?\\nA: none of them are white\\n\\nQ: I have three tokens, and some of them are black. How many of my tokens are white?\\nA: some of them are white\\n\\nQ: I have eight tokens, and all of them are black. How many of my tokens are white?\\nA: none of them are white\\n\\n\\n\\n# Cases with specific numbers\\n\\nQ: I have six tokens, and one of them are white. How many of my tokens are black?\\nA: five of them are black\\n\\nQ: I have nine tokens, and two of them are black. How many of my tokens are white?\\nA: seven of them are white\\n\\nQ: I have eight tokens, and one of them are white. How many of my tokens are black?\\nA: seven of them are black\\n\\nQ: I have seven tokens, and four of them are black. How many of my tokens are white?\\nA: three of them are white\\n\\nQ: I have ten tokens, and seven of them are black. How many of my tokens are white?\\nA: three of them are white\\n\\nQ: I have five tokens, and three of them are white. How many of my tokens are black?\\nA: two of them are black\\n\\nQ: I have eight tokens, and two of them are black. How many of my tokens are white?\\nA: six of them are white\\n\\nQ: I have eight tokens, and four of them are white. How many of my tokens are black?\\nA: four of them are black\\n\\nQ: I have six tokens, and two of them are white. How many of my tokens are black?\\nA: four of them are black\\n\\nQ: I have three tokens, and one of them are white. How many of my tokens are black?\\nA: two of them are black\\n\\nQ: I have three tokens, and one of them are white. How many of my tokens are black?\\nA: two of them are black\\n\\nQ: I have five tokens, and four of them are black. How many of my tokens are white?\\nA: one of them are white\\n\\nQ: I have eight tokens, and four of them are black. How many of my tokens are white?\\nA: four of them are white\\n\\nQ: I have eight tokens, and six of them are white. How many of my tokens are black?\\nA: two of them are black\\n\\nQ: I have three tokens, and two of them are white. How many of my tokens are black?\\nA: one of them are black\\n\\nQ: I have three tokens, and one of them are black. How many of my tokens are white?\\nA: two of them are white\\n\\nQ: I have six tokens, and three of them are black. How many of my tokens are white?\\nA: three of them are white\\n\\nQ: I have five tokens, and three of them are black. How many of my tokens are white?\\nA: two of them are white\\n\\nQ: I have nine tokens, and three of them are white. How many of my tokens are black?\\nA: six of them are black\\n\\nQ: I have eight tokens, and one of them are black. How many of my tokens are white?\\nA: seven of them are white\\n\\n\\n\\n# Cases with 'some'\\n\\nQ: I have six tokens, and all of them are white. How many of my tokens are black?\\nA: none of them are black\\n\\nQ: I have eight tokens, and none of them are black. How many of my tokens are white?\\nA: all of them are white\\n\\nQ: I have six tokens, and none of them are white. How many of my tokens are black?\\nA: all of them are black\\n\\nQ: I have ten tokens, and all of them are white. How many of my tokens are black?\\nA: none of them are black\\n\\nQ: I have three tokens, and none of them are black. How many of my tokens are white?\\nA: all of them are white\\n\\nQ: I have seven tokens, and all of them are white. How many of my tokens are black?\\nA: none of them are black\\n\\nQ: I have three tokens, and some of them are black. How many of my tokens are white?\\nA: some of them are white\\n\\nQ: I have eight tokens, and none of them are black. How many of my tokens are white?\\nA: all of them are white\\n\\nQ: I have nine tokens, and all of them are white. How many of my tokens are black?\\nA: none of them are black\\n\\nQ: I have three tokens, and none of them are black. How many of my tokens are white?\\nA: all of them are white\\n\\nQ: I have eight tokens, and all of them are white. How many of my tokens are black?\\nA: none of them are black\\n\\nQ: I have six tokens, and all of them are black. How many of my tokens are white?\\nA: none of them are white\\n\\nQ: I have six tokens, and some of them are black. How many of my tokens are white?\\nA: some of them are white\\n\\nQ: I have ten tokens, and all of them are white. How many of my tokens are black?\\nA: none of them are black\\n\\nQ: I have three tokens, and all of them are black. How many of my tokens are white?\\nA: none of them are white\\n\\nQ: I have four tokens, and all of them are black. How many of my tokens are white?\\nA: none of them are white\\n\\nQ: I have five tokens, and some of them are black. How many of my tokens are white?\\nA: some of them are white\\n\\nQ: I have nine tokens, and some of them are black. How many of my tokens are white?\\nA: some of them are white\\n\\nQ: I have five tokens, and all of them are black. How many of my tokens are white?\\nA: none of them are white\\n\\nQ: I have seven tokens, and some of them are black. How many of my tokens are white?\\nA: some of them are white\\n\\n\\n\\nQ: I have four tokens, and none of them are black. How many of my tokens are white?\\nA: \",\n",
       "  'expected': 'all of them are white',\n",
       "  'generated': '4 of them are white',\n",
       "  'correct_strict': False,\n",
       "  'correct_lenient': True,\n",
       "  'section_counts': {'basic': 20, 'numeric': 20, 'special': 20, 'zero': 0}},\n",
       " {'prompt': \"Tokens can be either black or white. Complete the following sentences using number words (one, two, three, etc.) never digits (1, 2, 3, etc.).\\nRemember:\\n- For 0, use 'zero' not '0'\\n- The total number of tokens equals the sum of black and white tokens\\n- Always write numbers as words (e.g., 'two' not '2')\\n\\nFor example, this is correct: \\nQ: I have ten tokens, and five of them are black. How many of my tokens are white?\\nA: five of them are white\\n\\nWhereas this is incorrect:\\nQ: I have ten tokens, and five of them are black. How many of my tokens are white?\\nA: 5 of them are white\\n\\n\\n\\n# Basic cases - all/none\\n\\nQ: I have five tokens, and some of them are black. How many of my tokens are white?\\nA: some of them are white\\n\\nQ: I have ten tokens, and none of them are black. How many of my tokens are white?\\nA: all of them are white\\n\\nQ: I have nine tokens, and all of them are white. How many of my tokens are black?\\nA: none of them are black\\n\\nQ: I have five tokens, and some of them are black. How many of my tokens are white?\\nA: some of them are white\\n\\nQ: I have ten tokens, and some of them are white. How many of my tokens are black?\\nA: some of them are black\\n\\nQ: I have three tokens, and all of them are white. How many of my tokens are black?\\nA: none of them are black\\n\\nQ: I have four tokens, and all of them are black. How many of my tokens are white?\\nA: none of them are white\\n\\nQ: I have three tokens, and some of them are black. How many of my tokens are white?\\nA: some of them are white\\n\\nQ: I have three tokens, and all of them are black. How many of my tokens are white?\\nA: none of them are white\\n\\nQ: I have nine tokens, and all of them are black. How many of my tokens are white?\\nA: none of them are white\\n\\nQ: I have six tokens, and some of them are white. How many of my tokens are black?\\nA: some of them are black\\n\\nQ: I have four tokens, and some of them are white. How many of my tokens are black?\\nA: some of them are black\\n\\nQ: I have four tokens, and some of them are white. How many of my tokens are black?\\nA: some of them are black\\n\\nQ: I have five tokens, and all of them are black. How many of my tokens are white?\\nA: none of them are white\\n\\nQ: I have ten tokens, and none of them are white. How many of my tokens are black?\\nA: all of them are black\\n\\nQ: I have seven tokens, and all of them are white. How many of my tokens are black?\\nA: none of them are black\\n\\nQ: I have ten tokens, and all of them are white. How many of my tokens are black?\\nA: none of them are black\\n\\nQ: I have ten tokens, and some of them are white. How many of my tokens are black?\\nA: some of them are black\\n\\nQ: I have nine tokens, and all of them are black. How many of my tokens are white?\\nA: none of them are white\\n\\nQ: I have ten tokens, and none of them are black. How many of my tokens are white?\\nA: all of them are white\\n\\n\\n\\n# Cases with specific numbers\\n\\nQ: I have nine tokens, and eight of them are white. How many of my tokens are black?\\nA: one of them are black\\n\\nQ: I have five tokens, and one of them are black. How many of my tokens are white?\\nA: four of them are white\\n\\nQ: I have seven tokens, and five of them are white. How many of my tokens are black?\\nA: two of them are black\\n\\nQ: I have four tokens, and two of them are white. How many of my tokens are black?\\nA: two of them are black\\n\\nQ: I have four tokens, and one of them are black. How many of my tokens are white?\\nA: three of them are white\\n\\nQ: I have nine tokens, and five of them are white. How many of my tokens are black?\\nA: four of them are black\\n\\nQ: I have three tokens, and one of them are black. How many of my tokens are white?\\nA: two of them are white\\n\\nQ: I have three tokens, and two of them are white. How many of my tokens are black?\\nA: one of them are black\\n\\nQ: I have nine tokens, and four of them are black. How many of my tokens are white?\\nA: five of them are white\\n\\nQ: I have nine tokens, and five of them are black. How many of my tokens are white?\\nA: four of them are white\\n\\nQ: I have four tokens, and one of them are black. How many of my tokens are white?\\nA: three of them are white\\n\\nQ: I have seven tokens, and three of them are white. How many of my tokens are black?\\nA: four of them are black\\n\\nQ: I have ten tokens, and seven of them are white. How many of my tokens are black?\\nA: three of them are black\\n\\nQ: I have seven tokens, and six of them are black. How many of my tokens are white?\\nA: one of them are white\\n\\nQ: I have three tokens, and two of them are black. How many of my tokens are white?\\nA: one of them are white\\n\\nQ: I have nine tokens, and five of them are black. How many of my tokens are white?\\nA: four of them are white\\n\\nQ: I have six tokens, and four of them are black. How many of my tokens are white?\\nA: two of them are white\\n\\nQ: I have ten tokens, and eight of them are white. How many of my tokens are black?\\nA: two of them are black\\n\\nQ: I have seven tokens, and six of them are black. How many of my tokens are white?\\nA: one of them are white\\n\\nQ: I have four tokens, and one of them are white. How many of my tokens are black?\\nA: three of them are black\\n\\n\\n\\n# Cases with 'some'\\n\\nQ: I have eight tokens, and some of them are white. How many of my tokens are black?\\nA: some of them are black\\n\\nQ: I have ten tokens, and all of them are black. How many of my tokens are white?\\nA: none of them are white\\n\\nQ: I have nine tokens, and some of them are white. How many of my tokens are black?\\nA: some of them are black\\n\\nQ: I have eight tokens, and none of them are black. How many of my tokens are white?\\nA: all of them are white\\n\\nQ: I have eight tokens, and none of them are white. How many of my tokens are black?\\nA: all of them are black\\n\\nQ: I have three tokens, and some of them are white. How many of my tokens are black?\\nA: some of them are black\\n\\nQ: I have three tokens, and none of them are black. How many of my tokens are white?\\nA: all of them are white\\n\\nQ: I have eight tokens, and some of them are white. How many of my tokens are black?\\nA: some of them are black\\n\\nQ: I have five tokens, and all of them are black. How many of my tokens are white?\\nA: none of them are white\\n\\nQ: I have five tokens, and none of them are black. How many of my tokens are white?\\nA: all of them are white\\n\\nQ: I have ten tokens, and none of them are white. How many of my tokens are black?\\nA: all of them are black\\n\\nQ: I have five tokens, and none of them are white. How many of my tokens are black?\\nA: all of them are black\\n\\nQ: I have three tokens, and some of them are white. How many of my tokens are black?\\nA: some of them are black\\n\\nQ: I have nine tokens, and some of them are black. How many of my tokens are white?\\nA: some of them are white\\n\\nQ: I have ten tokens, and all of them are black. How many of my tokens are white?\\nA: none of them are white\\n\\nQ: I have nine tokens, and none of them are black. How many of my tokens are white?\\nA: all of them are white\\n\\nQ: I have eight tokens, and some of them are white. How many of my tokens are black?\\nA: some of them are black\\n\\nQ: I have six tokens, and some of them are white. How many of my tokens are black?\\nA: some of them are black\\n\\nQ: I have five tokens, and none of them are white. How many of my tokens are black?\\nA: all of them are black\\n\\nQ: I have seven tokens, and all of them are white. How many of my tokens are black?\\nA: none of them are black\\n\\n\\n\\nQ: I have six tokens, and some of them are black. How many of my tokens are white?\\nA: \",\n",
       "  'expected': 'some of them are white',\n",
       "  'generated': '1 of them are white',\n",
       "  'correct_strict': False,\n",
       "  'correct_lenient': False,\n",
       "  'section_counts': {'basic': 20, 'numeric': 20, 'special': 20, 'zero': 0}},\n",
       " {'prompt': \"Tokens can be either black or white. Complete the following sentences using number words (one, two, three, etc.) never digits (1, 2, 3, etc.).\\nRemember:\\n- For 0, use 'zero' not '0'\\n- The total number of tokens equals the sum of black and white tokens\\n- Always write numbers as words (e.g., 'two' not '2')\\n\\nFor example, this is correct: \\nQ: I have ten tokens, and five of them are black. How many of my tokens are white?\\nA: five of them are white\\n\\nWhereas this is incorrect:\\nQ: I have ten tokens, and five of them are black. How many of my tokens are white?\\nA: 5 of them are white\\n\\n\\n\\n# Basic cases - all/none\\n\\nQ: I have three tokens, and none of them are white. How many of my tokens are black?\\nA: all of them are black\\n\\nQ: I have six tokens, and none of them are black. How many of my tokens are white?\\nA: all of them are white\\n\\nQ: I have three tokens, and all of them are black. How many of my tokens are white?\\nA: none of them are white\\n\\nQ: I have four tokens, and some of them are black. How many of my tokens are white?\\nA: some of them are white\\n\\nQ: I have seven tokens, and none of them are black. How many of my tokens are white?\\nA: all of them are white\\n\\nQ: I have five tokens, and all of them are white. How many of my tokens are black?\\nA: none of them are black\\n\\nQ: I have five tokens, and some of them are black. How many of my tokens are white?\\nA: some of them are white\\n\\nQ: I have ten tokens, and some of them are white. How many of my tokens are black?\\nA: some of them are black\\n\\nQ: I have five tokens, and some of them are white. How many of my tokens are black?\\nA: some of them are black\\n\\nQ: I have four tokens, and some of them are black. How many of my tokens are white?\\nA: some of them are white\\n\\nQ: I have six tokens, and none of them are white. How many of my tokens are black?\\nA: all of them are black\\n\\nQ: I have ten tokens, and none of them are black. How many of my tokens are white?\\nA: all of them are white\\n\\nQ: I have nine tokens, and none of them are white. How many of my tokens are black?\\nA: all of them are black\\n\\nQ: I have six tokens, and all of them are white. How many of my tokens are black?\\nA: none of them are black\\n\\nQ: I have eight tokens, and some of them are white. How many of my tokens are black?\\nA: some of them are black\\n\\nQ: I have five tokens, and none of them are black. How many of my tokens are white?\\nA: all of them are white\\n\\nQ: I have four tokens, and none of them are black. How many of my tokens are white?\\nA: all of them are white\\n\\nQ: I have six tokens, and some of them are white. How many of my tokens are black?\\nA: some of them are black\\n\\nQ: I have seven tokens, and some of them are white. How many of my tokens are black?\\nA: some of them are black\\n\\nQ: I have six tokens, and none of them are white. How many of my tokens are black?\\nA: all of them are black\\n\\n\\n\\n# Cases with specific numbers\\n\\nQ: I have nine tokens, and four of them are white. How many of my tokens are black?\\nA: five of them are black\\n\\nQ: I have four tokens, and three of them are white. How many of my tokens are black?\\nA: one of them are black\\n\\nQ: I have four tokens, and two of them are white. How many of my tokens are black?\\nA: two of them are black\\n\\nQ: I have ten tokens, and four of them are black. How many of my tokens are white?\\nA: six of them are white\\n\\nQ: I have six tokens, and three of them are black. How many of my tokens are white?\\nA: three of them are white\\n\\nQ: I have seven tokens, and five of them are black. How many of my tokens are white?\\nA: two of them are white\\n\\nQ: I have three tokens, and two of them are white. How many of my tokens are black?\\nA: one of them are black\\n\\nQ: I have four tokens, and two of them are black. How many of my tokens are white?\\nA: two of them are white\\n\\nQ: I have three tokens, and one of them are white. How many of my tokens are black?\\nA: two of them are black\\n\\nQ: I have eight tokens, and six of them are black. How many of my tokens are white?\\nA: two of them are white\\n\\nQ: I have seven tokens, and six of them are black. How many of my tokens are white?\\nA: one of them are white\\n\\nQ: I have three tokens, and one of them are black. How many of my tokens are white?\\nA: two of them are white\\n\\nQ: I have five tokens, and four of them are black. How many of my tokens are white?\\nA: one of them are white\\n\\nQ: I have eight tokens, and four of them are white. How many of my tokens are black?\\nA: four of them are black\\n\\nQ: I have three tokens, and one of them are white. How many of my tokens are black?\\nA: two of them are black\\n\\nQ: I have five tokens, and three of them are white. How many of my tokens are black?\\nA: two of them are black\\n\\nQ: I have ten tokens, and four of them are black. How many of my tokens are white?\\nA: six of them are white\\n\\nQ: I have nine tokens, and one of them are white. How many of my tokens are black?\\nA: eight of them are black\\n\\nQ: I have three tokens, and two of them are black. How many of my tokens are white?\\nA: one of them are white\\n\\nQ: I have ten tokens, and nine of them are black. How many of my tokens are white?\\nA: one of them are white\\n\\n\\n\\n# Cases with 'some'\\n\\nQ: I have nine tokens, and all of them are black. How many of my tokens are white?\\nA: none of them are white\\n\\nQ: I have six tokens, and none of them are white. How many of my tokens are black?\\nA: all of them are black\\n\\nQ: I have five tokens, and some of them are white. How many of my tokens are black?\\nA: some of them are black\\n\\nQ: I have four tokens, and some of them are black. How many of my tokens are white?\\nA: some of them are white\\n\\nQ: I have seven tokens, and some of them are white. How many of my tokens are black?\\nA: some of them are black\\n\\nQ: I have five tokens, and none of them are black. How many of my tokens are white?\\nA: all of them are white\\n\\nQ: I have four tokens, and none of them are black. How many of my tokens are white?\\nA: all of them are white\\n\\nQ: I have four tokens, and all of them are black. How many of my tokens are white?\\nA: none of them are white\\n\\nQ: I have seven tokens, and none of them are white. How many of my tokens are black?\\nA: all of them are black\\n\\nQ: I have nine tokens, and none of them are black. How many of my tokens are white?\\nA: all of them are white\\n\\nQ: I have four tokens, and all of them are white. How many of my tokens are black?\\nA: none of them are black\\n\\nQ: I have seven tokens, and some of them are white. How many of my tokens are black?\\nA: some of them are black\\n\\nQ: I have ten tokens, and none of them are white. How many of my tokens are black?\\nA: all of them are black\\n\\nQ: I have eight tokens, and all of them are white. How many of my tokens are black?\\nA: none of them are black\\n\\nQ: I have seven tokens, and none of them are black. How many of my tokens are white?\\nA: all of them are white\\n\\nQ: I have seven tokens, and none of them are white. How many of my tokens are black?\\nA: all of them are black\\n\\nQ: I have five tokens, and none of them are white. How many of my tokens are black?\\nA: all of them are black\\n\\nQ: I have eight tokens, and none of them are black. How many of my tokens are white?\\nA: all of them are white\\n\\nQ: I have ten tokens, and none of them are black. How many of my tokens are white?\\nA: all of them are white\\n\\nQ: I have seven tokens, and some of them are black. How many of my tokens are white?\\nA: some of them are white\\n\\n\\n\\nQ: I have four tokens, and some of them are white. How many of my tokens are black?\\nA: \",\n",
       "  'expected': 'some of them are black',\n",
       "  'generated': '0 of them are black',\n",
       "  'correct_strict': False,\n",
       "  'correct_lenient': False,\n",
       "  'section_counts': {'basic': 20, 'numeric': 20, 'special': 20, 'zero': 0}},\n",
       " {'prompt': \"Tokens can be either black or white. Complete the following sentences using number words (one, two, three, etc.) never digits (1, 2, 3, etc.).\\nRemember:\\n- For 0, use 'zero' not '0'\\n- The total number of tokens equals the sum of black and white tokens\\n- Always write numbers as words (e.g., 'two' not '2')\\n\\nFor example, this is correct: \\nQ: I have ten tokens, and five of them are black. How many of my tokens are white?\\nA: five of them are white\\n\\nWhereas this is incorrect:\\nQ: I have ten tokens, and five of them are black. How many of my tokens are white?\\nA: 5 of them are white\\n\\n\\n\\n# Basic cases - all/none\\n\\nQ: I have four tokens, and all of them are black. How many of my tokens are white?\\nA: none of them are white\\n\\nQ: I have nine tokens, and all of them are black. How many of my tokens are white?\\nA: none of them are white\\n\\nQ: I have five tokens, and none of them are white. How many of my tokens are black?\\nA: all of them are black\\n\\nQ: I have five tokens, and all of them are white. How many of my tokens are black?\\nA: none of them are black\\n\\nQ: I have seven tokens, and none of them are black. How many of my tokens are white?\\nA: all of them are white\\n\\nQ: I have seven tokens, and all of them are white. How many of my tokens are black?\\nA: none of them are black\\n\\nQ: I have three tokens, and some of them are white. How many of my tokens are black?\\nA: some of them are black\\n\\nQ: I have three tokens, and some of them are white. How many of my tokens are black?\\nA: some of them are black\\n\\nQ: I have eight tokens, and some of them are black. How many of my tokens are white?\\nA: some of them are white\\n\\nQ: I have nine tokens, and none of them are black. How many of my tokens are white?\\nA: all of them are white\\n\\nQ: I have six tokens, and all of them are white. How many of my tokens are black?\\nA: none of them are black\\n\\nQ: I have ten tokens, and none of them are black. How many of my tokens are white?\\nA: all of them are white\\n\\nQ: I have three tokens, and some of them are white. How many of my tokens are black?\\nA: some of them are black\\n\\nQ: I have five tokens, and none of them are white. How many of my tokens are black?\\nA: all of them are black\\n\\nQ: I have six tokens, and none of them are black. How many of my tokens are white?\\nA: all of them are white\\n\\nQ: I have six tokens, and none of them are black. How many of my tokens are white?\\nA: all of them are white\\n\\nQ: I have ten tokens, and all of them are black. How many of my tokens are white?\\nA: none of them are white\\n\\nQ: I have six tokens, and none of them are white. How many of my tokens are black?\\nA: all of them are black\\n\\nQ: I have seven tokens, and some of them are white. How many of my tokens are black?\\nA: some of them are black\\n\\nQ: I have six tokens, and none of them are black. How many of my tokens are white?\\nA: all of them are white\\n\\n\\n\\n# Cases with specific numbers\\n\\nQ: I have nine tokens, and three of them are black. How many of my tokens are white?\\nA: six of them are white\\n\\nQ: I have five tokens, and one of them are black. How many of my tokens are white?\\nA: four of them are white\\n\\nQ: I have six tokens, and one of them are black. How many of my tokens are white?\\nA: five of them are white\\n\\nQ: I have four tokens, and two of them are black. How many of my tokens are white?\\nA: two of them are white\\n\\nQ: I have four tokens, and two of them are white. How many of my tokens are black?\\nA: two of them are black\\n\\nQ: I have three tokens, and two of them are white. How many of my tokens are black?\\nA: one of them are black\\n\\nQ: I have five tokens, and four of them are white. How many of my tokens are black?\\nA: one of them are black\\n\\nQ: I have five tokens, and two of them are white. How many of my tokens are black?\\nA: three of them are black\\n\\nQ: I have nine tokens, and two of them are white. How many of my tokens are black?\\nA: seven of them are black\\n\\nQ: I have six tokens, and one of them are black. How many of my tokens are white?\\nA: five of them are white\\n\\nQ: I have ten tokens, and two of them are white. How many of my tokens are black?\\nA: eight of them are black\\n\\nQ: I have seven tokens, and three of them are black. How many of my tokens are white?\\nA: four of them are white\\n\\nQ: I have six tokens, and two of them are white. How many of my tokens are black?\\nA: four of them are black\\n\\nQ: I have six tokens, and four of them are black. How many of my tokens are white?\\nA: two of them are white\\n\\nQ: I have five tokens, and one of them are white. How many of my tokens are black?\\nA: four of them are black\\n\\nQ: I have ten tokens, and six of them are black. How many of my tokens are white?\\nA: four of them are white\\n\\nQ: I have seven tokens, and one of them are white. How many of my tokens are black?\\nA: six of them are black\\n\\nQ: I have seven tokens, and five of them are white. How many of my tokens are black?\\nA: two of them are black\\n\\nQ: I have nine tokens, and one of them are black. How many of my tokens are white?\\nA: eight of them are white\\n\\nQ: I have nine tokens, and eight of them are black. How many of my tokens are white?\\nA: one of them are white\\n\\n\\n\\n# Cases with 'some'\\n\\nQ: I have six tokens, and all of them are white. How many of my tokens are black?\\nA: none of them are black\\n\\nQ: I have ten tokens, and some of them are white. How many of my tokens are black?\\nA: some of them are black\\n\\nQ: I have ten tokens, and all of them are black. How many of my tokens are white?\\nA: none of them are white\\n\\nQ: I have three tokens, and none of them are black. How many of my tokens are white?\\nA: all of them are white\\n\\nQ: I have eight tokens, and some of them are black. How many of my tokens are white?\\nA: some of them are white\\n\\nQ: I have seven tokens, and all of them are black. How many of my tokens are white?\\nA: none of them are white\\n\\nQ: I have nine tokens, and some of them are black. How many of my tokens are white?\\nA: some of them are white\\n\\nQ: I have nine tokens, and some of them are black. How many of my tokens are white?\\nA: some of them are white\\n\\nQ: I have ten tokens, and some of them are black. How many of my tokens are white?\\nA: some of them are white\\n\\nQ: I have ten tokens, and all of them are black. How many of my tokens are white?\\nA: none of them are white\\n\\nQ: I have eight tokens, and none of them are black. How many of my tokens are white?\\nA: all of them are white\\n\\nQ: I have eight tokens, and none of them are black. How many of my tokens are white?\\nA: all of them are white\\n\\nQ: I have six tokens, and none of them are black. How many of my tokens are white?\\nA: all of them are white\\n\\nQ: I have five tokens, and none of them are white. How many of my tokens are black?\\nA: all of them are black\\n\\nQ: I have three tokens, and none of them are white. How many of my tokens are black?\\nA: all of them are black\\n\\nQ: I have eight tokens, and none of them are black. How many of my tokens are white?\\nA: all of them are white\\n\\nQ: I have eight tokens, and none of them are black. How many of my tokens are white?\\nA: all of them are white\\n\\nQ: I have seven tokens, and all of them are white. How many of my tokens are black?\\nA: none of them are black\\n\\nQ: I have seven tokens, and none of them are white. How many of my tokens are black?\\nA: all of them are black\\n\\nQ: I have six tokens, and all of them are white. How many of my tokens are black?\\nA: none of them are black\\n\\n\\n\\nQ: I have five tokens, and some of them are white. How many of my tokens are black?\\nA: \",\n",
       "  'expected': 'some of them are black',\n",
       "  'generated': '0 of them are black',\n",
       "  'correct_strict': False,\n",
       "  'correct_lenient': False,\n",
       "  'section_counts': {'basic': 20, 'numeric': 20, 'special': 20, 'zero': 0}},\n",
       " {'prompt': \"Tokens can be either black or white. Complete the following sentences using number words (one, two, three, etc.) never digits (1, 2, 3, etc.).\\nRemember:\\n- For 0, use 'zero' not '0'\\n- The total number of tokens equals the sum of black and white tokens\\n- Always write numbers as words (e.g., 'two' not '2')\\n\\nFor example, this is correct: \\nQ: I have ten tokens, and five of them are black. How many of my tokens are white?\\nA: five of them are white\\n\\nWhereas this is incorrect:\\nQ: I have ten tokens, and five of them are black. How many of my tokens are white?\\nA: 5 of them are white\\n\\n\\n\\n# Basic cases - all/none\\n\\nQ: I have six tokens, and some of them are black. How many of my tokens are white?\\nA: some of them are white\\n\\nQ: I have eight tokens, and some of them are black. How many of my tokens are white?\\nA: some of them are white\\n\\nQ: I have nine tokens, and none of them are black. How many of my tokens are white?\\nA: all of them are white\\n\\nQ: I have ten tokens, and none of them are white. How many of my tokens are black?\\nA: all of them are black\\n\\nQ: I have four tokens, and all of them are white. How many of my tokens are black?\\nA: none of them are black\\n\\nQ: I have seven tokens, and none of them are white. How many of my tokens are black?\\nA: all of them are black\\n\\nQ: I have four tokens, and none of them are white. How many of my tokens are black?\\nA: all of them are black\\n\\nQ: I have eight tokens, and some of them are white. How many of my tokens are black?\\nA: some of them are black\\n\\nQ: I have three tokens, and none of them are black. How many of my tokens are white?\\nA: all of them are white\\n\\nQ: I have eight tokens, and all of them are white. How many of my tokens are black?\\nA: none of them are black\\n\\nQ: I have seven tokens, and all of them are black. How many of my tokens are white?\\nA: none of them are white\\n\\nQ: I have five tokens, and some of them are black. How many of my tokens are white?\\nA: some of them are white\\n\\nQ: I have four tokens, and none of them are black. How many of my tokens are white?\\nA: all of them are white\\n\\nQ: I have six tokens, and none of them are black. How many of my tokens are white?\\nA: all of them are white\\n\\nQ: I have eight tokens, and none of them are white. How many of my tokens are black?\\nA: all of them are black\\n\\nQ: I have six tokens, and all of them are black. How many of my tokens are white?\\nA: none of them are white\\n\\nQ: I have five tokens, and none of them are white. How many of my tokens are black?\\nA: all of them are black\\n\\nQ: I have six tokens, and none of them are white. How many of my tokens are black?\\nA: all of them are black\\n\\nQ: I have four tokens, and none of them are white. How many of my tokens are black?\\nA: all of them are black\\n\\nQ: I have five tokens, and some of them are black. How many of my tokens are white?\\nA: some of them are white\\n\\n\\n\\n# Cases with specific numbers\\n\\nQ: I have six tokens, and two of them are white. How many of my tokens are black?\\nA: four of them are black\\n\\nQ: I have six tokens, and four of them are black. How many of my tokens are white?\\nA: two of them are white\\n\\nQ: I have seven tokens, and six of them are white. How many of my tokens are black?\\nA: one of them are black\\n\\nQ: I have six tokens, and five of them are white. How many of my tokens are black?\\nA: one of them are black\\n\\nQ: I have nine tokens, and three of them are black. How many of my tokens are white?\\nA: six of them are white\\n\\nQ: I have nine tokens, and two of them are white. How many of my tokens are black?\\nA: seven of them are black\\n\\nQ: I have four tokens, and three of them are white. How many of my tokens are black?\\nA: one of them are black\\n\\nQ: I have four tokens, and two of them are white. How many of my tokens are black?\\nA: two of them are black\\n\\nQ: I have four tokens, and two of them are black. How many of my tokens are white?\\nA: two of them are white\\n\\nQ: I have nine tokens, and eight of them are white. How many of my tokens are black?\\nA: one of them are black\\n\\nQ: I have four tokens, and two of them are white. How many of my tokens are black?\\nA: two of them are black\\n\\nQ: I have six tokens, and five of them are black. How many of my tokens are white?\\nA: one of them are white\\n\\nQ: I have seven tokens, and four of them are black. How many of my tokens are white?\\nA: three of them are white\\n\\nQ: I have three tokens, and one of them are black. How many of my tokens are white?\\nA: two of them are white\\n\\nQ: I have eight tokens, and three of them are white. How many of my tokens are black?\\nA: five of them are black\\n\\nQ: I have six tokens, and three of them are white. How many of my tokens are black?\\nA: three of them are black\\n\\nQ: I have four tokens, and two of them are white. How many of my tokens are black?\\nA: two of them are black\\n\\nQ: I have seven tokens, and four of them are white. How many of my tokens are black?\\nA: three of them are black\\n\\nQ: I have seven tokens, and six of them are white. How many of my tokens are black?\\nA: one of them are black\\n\\nQ: I have eight tokens, and three of them are white. How many of my tokens are black?\\nA: five of them are black\\n\\n\\n\\n# Cases with 'some'\\n\\nQ: I have five tokens, and none of them are black. How many of my tokens are white?\\nA: all of them are white\\n\\nQ: I have nine tokens, and none of them are white. How many of my tokens are black?\\nA: all of them are black\\n\\nQ: I have six tokens, and all of them are black. How many of my tokens are white?\\nA: none of them are white\\n\\nQ: I have ten tokens, and all of them are white. How many of my tokens are black?\\nA: none of them are black\\n\\nQ: I have eight tokens, and all of them are black. How many of my tokens are white?\\nA: none of them are white\\n\\nQ: I have three tokens, and all of them are white. How many of my tokens are black?\\nA: none of them are black\\n\\nQ: I have three tokens, and all of them are black. How many of my tokens are white?\\nA: none of them are white\\n\\nQ: I have seven tokens, and none of them are white. How many of my tokens are black?\\nA: all of them are black\\n\\nQ: I have four tokens, and some of them are white. How many of my tokens are black?\\nA: some of them are black\\n\\nQ: I have nine tokens, and some of them are black. How many of my tokens are white?\\nA: some of them are white\\n\\nQ: I have eight tokens, and none of them are black. How many of my tokens are white?\\nA: all of them are white\\n\\nQ: I have three tokens, and some of them are white. How many of my tokens are black?\\nA: some of them are black\\n\\nQ: I have three tokens, and none of them are white. How many of my tokens are black?\\nA: all of them are black\\n\\nQ: I have three tokens, and all of them are black. How many of my tokens are white?\\nA: none of them are white\\n\\nQ: I have five tokens, and some of them are white. How many of my tokens are black?\\nA: some of them are black\\n\\nQ: I have six tokens, and none of them are white. How many of my tokens are black?\\nA: all of them are black\\n\\nQ: I have three tokens, and none of them are white. How many of my tokens are black?\\nA: all of them are black\\n\\nQ: I have seven tokens, and all of them are white. How many of my tokens are black?\\nA: none of them are black\\n\\nQ: I have eight tokens, and some of them are white. How many of my tokens are black?\\nA: some of them are black\\n\\nQ: I have four tokens, and some of them are black. How many of my tokens are white?\\nA: some of them are white\\n\\n\\n\\nQ: I have ten tokens, and some of them are black. How many of my tokens are white?\\nA: \",\n",
       "  'expected': 'some of them are white',\n",
       "  'generated': '5 of them are white',\n",
       "  'correct_strict': False,\n",
       "  'correct_lenient': False,\n",
       "  'section_counts': {'basic': 20, 'numeric': 20, 'special': 20, 'zero': 0}},\n",
       " {'prompt': \"Tokens can be either black or white. Complete the following sentences using number words (one, two, three, etc.) never digits (1, 2, 3, etc.).\\nRemember:\\n- For 0, use 'zero' not '0'\\n- The total number of tokens equals the sum of black and white tokens\\n- Always write numbers as words (e.g., 'two' not '2')\\n\\nFor example, this is correct: \\nQ: I have ten tokens, and five of them are black. How many of my tokens are white?\\nA: five of them are white\\n\\nWhereas this is incorrect:\\nQ: I have ten tokens, and five of them are black. How many of my tokens are white?\\nA: 5 of them are white\\n\\n\\n\\n# Basic cases - all/none\\n\\nQ: I have four tokens, and all of them are black. How many of my tokens are white?\\nA: none of them are white\\n\\nQ: I have six tokens, and all of them are white. How many of my tokens are black?\\nA: none of them are black\\n\\nQ: I have six tokens, and some of them are black. How many of my tokens are white?\\nA: some of them are white\\n\\nQ: I have three tokens, and all of them are white. How many of my tokens are black?\\nA: none of them are black\\n\\nQ: I have eight tokens, and some of them are white. How many of my tokens are black?\\nA: some of them are black\\n\\nQ: I have five tokens, and some of them are black. How many of my tokens are white?\\nA: some of them are white\\n\\nQ: I have five tokens, and none of them are black. How many of my tokens are white?\\nA: all of them are white\\n\\nQ: I have five tokens, and some of them are white. How many of my tokens are black?\\nA: some of them are black\\n\\nQ: I have three tokens, and none of them are white. How many of my tokens are black?\\nA: all of them are black\\n\\nQ: I have five tokens, and none of them are black. How many of my tokens are white?\\nA: all of them are white\\n\\nQ: I have seven tokens, and none of them are white. How many of my tokens are black?\\nA: all of them are black\\n\\nQ: I have seven tokens, and some of them are white. How many of my tokens are black?\\nA: some of them are black\\n\\nQ: I have seven tokens, and all of them are white. How many of my tokens are black?\\nA: none of them are black\\n\\nQ: I have ten tokens, and some of them are white. How many of my tokens are black?\\nA: some of them are black\\n\\nQ: I have seven tokens, and none of them are white. How many of my tokens are black?\\nA: all of them are black\\n\\nQ: I have four tokens, and none of them are black. How many of my tokens are white?\\nA: all of them are white\\n\\nQ: I have ten tokens, and none of them are white. How many of my tokens are black?\\nA: all of them are black\\n\\nQ: I have nine tokens, and all of them are white. How many of my tokens are black?\\nA: none of them are black\\n\\nQ: I have three tokens, and all of them are white. How many of my tokens are black?\\nA: none of them are black\\n\\nQ: I have three tokens, and some of them are white. How many of my tokens are black?\\nA: some of them are black\\n\\n\\n\\n# Cases with specific numbers\\n\\nQ: I have eight tokens, and seven of them are white. How many of my tokens are black?\\nA: one of them are black\\n\\nQ: I have five tokens, and four of them are white. How many of my tokens are black?\\nA: one of them are black\\n\\nQ: I have four tokens, and one of them are white. How many of my tokens are black?\\nA: three of them are black\\n\\nQ: I have six tokens, and three of them are black. How many of my tokens are white?\\nA: three of them are white\\n\\nQ: I have ten tokens, and one of them are white. How many of my tokens are black?\\nA: nine of them are black\\n\\nQ: I have eight tokens, and one of them are black. How many of my tokens are white?\\nA: seven of them are white\\n\\nQ: I have nine tokens, and five of them are white. How many of my tokens are black?\\nA: four of them are black\\n\\nQ: I have six tokens, and one of them are black. How many of my tokens are white?\\nA: five of them are white\\n\\nQ: I have five tokens, and one of them are black. How many of my tokens are white?\\nA: four of them are white\\n\\nQ: I have six tokens, and five of them are black. How many of my tokens are white?\\nA: one of them are white\\n\\nQ: I have seven tokens, and one of them are white. How many of my tokens are black?\\nA: six of them are black\\n\\nQ: I have six tokens, and two of them are black. How many of my tokens are white?\\nA: four of them are white\\n\\nQ: I have six tokens, and two of them are white. How many of my tokens are black?\\nA: four of them are black\\n\\nQ: I have five tokens, and three of them are white. How many of my tokens are black?\\nA: two of them are black\\n\\nQ: I have nine tokens, and four of them are black. How many of my tokens are white?\\nA: five of them are white\\n\\nQ: I have three tokens, and one of them are white. How many of my tokens are black?\\nA: two of them are black\\n\\nQ: I have three tokens, and one of them are black. How many of my tokens are white?\\nA: two of them are white\\n\\nQ: I have six tokens, and four of them are black. How many of my tokens are white?\\nA: two of them are white\\n\\nQ: I have six tokens, and three of them are black. How many of my tokens are white?\\nA: three of them are white\\n\\nQ: I have five tokens, and four of them are white. How many of my tokens are black?\\nA: one of them are black\\n\\n\\n\\n# Cases with 'some'\\n\\nQ: I have five tokens, and all of them are black. How many of my tokens are white?\\nA: none of them are white\\n\\nQ: I have nine tokens, and all of them are black. How many of my tokens are white?\\nA: none of them are white\\n\\nQ: I have ten tokens, and some of them are white. How many of my tokens are black?\\nA: some of them are black\\n\\nQ: I have four tokens, and all of them are white. How many of my tokens are black?\\nA: none of them are black\\n\\nQ: I have eight tokens, and all of them are white. How many of my tokens are black?\\nA: none of them are black\\n\\nQ: I have eight tokens, and some of them are white. How many of my tokens are black?\\nA: some of them are black\\n\\nQ: I have ten tokens, and none of them are black. How many of my tokens are white?\\nA: all of them are white\\n\\nQ: I have nine tokens, and none of them are white. How many of my tokens are black?\\nA: all of them are black\\n\\nQ: I have ten tokens, and none of them are white. How many of my tokens are black?\\nA: all of them are black\\n\\nQ: I have seven tokens, and all of them are black. How many of my tokens are white?\\nA: none of them are white\\n\\nQ: I have six tokens, and some of them are white. How many of my tokens are black?\\nA: some of them are black\\n\\nQ: I have five tokens, and some of them are black. How many of my tokens are white?\\nA: some of them are white\\n\\nQ: I have ten tokens, and none of them are white. How many of my tokens are black?\\nA: all of them are black\\n\\nQ: I have four tokens, and some of them are white. How many of my tokens are black?\\nA: some of them are black\\n\\nQ: I have five tokens, and some of them are white. How many of my tokens are black?\\nA: some of them are black\\n\\nQ: I have eight tokens, and none of them are white. How many of my tokens are black?\\nA: all of them are black\\n\\nQ: I have six tokens, and all of them are white. How many of my tokens are black?\\nA: none of them are black\\n\\nQ: I have five tokens, and none of them are white. How many of my tokens are black?\\nA: all of them are black\\n\\nQ: I have four tokens, and none of them are white. How many of my tokens are black?\\nA: all of them are black\\n\\nQ: I have eight tokens, and some of them are white. How many of my tokens are black?\\nA: some of them are black\\n\\n\\n\\nQ: I have three tokens, and none of them are black. How many of my tokens are white?\\nA: \",\n",
       "  'expected': 'all of them are white',\n",
       "  'generated': '3 of them are white',\n",
       "  'correct_strict': False,\n",
       "  'correct_lenient': True,\n",
       "  'section_counts': {'basic': 20, 'numeric': 20, 'special': 20, 'zero': 0}},\n",
       " {'prompt': \"Tokens can be either black or white. Complete the following sentences using number words (one, two, three, etc.) never digits (1, 2, 3, etc.).\\nRemember:\\n- For 0, use 'zero' not '0'\\n- The total number of tokens equals the sum of black and white tokens\\n- Always write numbers as words (e.g., 'two' not '2')\\n\\nFor example, this is correct: \\nQ: I have ten tokens, and five of them are black. How many of my tokens are white?\\nA: five of them are white\\n\\nWhereas this is incorrect:\\nQ: I have ten tokens, and five of them are black. How many of my tokens are white?\\nA: 5 of them are white\\n\\n\\n\\n# Basic cases - all/none\\n\\nQ: I have six tokens, and all of them are white. How many of my tokens are black?\\nA: none of them are black\\n\\nQ: I have six tokens, and some of them are white. How many of my tokens are black?\\nA: some of them are black\\n\\nQ: I have five tokens, and all of them are black. How many of my tokens are white?\\nA: none of them are white\\n\\nQ: I have nine tokens, and all of them are black. How many of my tokens are white?\\nA: none of them are white\\n\\nQ: I have eight tokens, and all of them are black. How many of my tokens are white?\\nA: none of them are white\\n\\nQ: I have nine tokens, and all of them are black. How many of my tokens are white?\\nA: none of them are white\\n\\nQ: I have four tokens, and none of them are white. How many of my tokens are black?\\nA: all of them are black\\n\\nQ: I have four tokens, and none of them are white. How many of my tokens are black?\\nA: all of them are black\\n\\nQ: I have nine tokens, and none of them are black. How many of my tokens are white?\\nA: all of them are white\\n\\nQ: I have eight tokens, and all of them are black. How many of my tokens are white?\\nA: none of them are white\\n\\nQ: I have three tokens, and all of them are black. How many of my tokens are white?\\nA: none of them are white\\n\\nQ: I have seven tokens, and all of them are white. How many of my tokens are black?\\nA: none of them are black\\n\\nQ: I have nine tokens, and none of them are white. How many of my tokens are black?\\nA: all of them are black\\n\\nQ: I have nine tokens, and all of them are black. How many of my tokens are white?\\nA: none of them are white\\n\\nQ: I have nine tokens, and all of them are black. How many of my tokens are white?\\nA: none of them are white\\n\\nQ: I have six tokens, and some of them are white. How many of my tokens are black?\\nA: some of them are black\\n\\nQ: I have four tokens, and none of them are white. How many of my tokens are black?\\nA: all of them are black\\n\\nQ: I have four tokens, and all of them are white. How many of my tokens are black?\\nA: none of them are black\\n\\nQ: I have eight tokens, and all of them are white. How many of my tokens are black?\\nA: none of them are black\\n\\nQ: I have eight tokens, and some of them are black. How many of my tokens are white?\\nA: some of them are white\\n\\n\\n\\n# Cases with specific numbers\\n\\nQ: I have six tokens, and four of them are white. How many of my tokens are black?\\nA: two of them are black\\n\\nQ: I have five tokens, and four of them are white. How many of my tokens are black?\\nA: one of them are black\\n\\nQ: I have six tokens, and two of them are black. How many of my tokens are white?\\nA: four of them are white\\n\\nQ: I have six tokens, and five of them are black. How many of my tokens are white?\\nA: one of them are white\\n\\nQ: I have seven tokens, and three of them are white. How many of my tokens are black?\\nA: four of them are black\\n\\nQ: I have eight tokens, and seven of them are white. How many of my tokens are black?\\nA: one of them are black\\n\\nQ: I have three tokens, and one of them are white. How many of my tokens are black?\\nA: two of them are black\\n\\nQ: I have nine tokens, and six of them are black. How many of my tokens are white?\\nA: three of them are white\\n\\nQ: I have nine tokens, and four of them are black. How many of my tokens are white?\\nA: five of them are white\\n\\nQ: I have seven tokens, and four of them are white. How many of my tokens are black?\\nA: three of them are black\\n\\nQ: I have nine tokens, and three of them are black. How many of my tokens are white?\\nA: six of them are white\\n\\nQ: I have four tokens, and one of them are white. How many of my tokens are black?\\nA: three of them are black\\n\\nQ: I have nine tokens, and eight of them are white. How many of my tokens are black?\\nA: one of them are black\\n\\nQ: I have seven tokens, and five of them are white. How many of my tokens are black?\\nA: two of them are black\\n\\nQ: I have nine tokens, and three of them are black. How many of my tokens are white?\\nA: six of them are white\\n\\nQ: I have nine tokens, and four of them are white. How many of my tokens are black?\\nA: five of them are black\\n\\nQ: I have four tokens, and one of them are white. How many of my tokens are black?\\nA: three of them are black\\n\\nQ: I have ten tokens, and nine of them are white. How many of my tokens are black?\\nA: one of them are black\\n\\nQ: I have four tokens, and one of them are black. How many of my tokens are white?\\nA: three of them are white\\n\\nQ: I have seven tokens, and three of them are white. How many of my tokens are black?\\nA: four of them are black\\n\\n\\n\\n# Cases with 'some'\\n\\nQ: I have five tokens, and all of them are white. How many of my tokens are black?\\nA: none of them are black\\n\\nQ: I have seven tokens, and some of them are white. How many of my tokens are black?\\nA: some of them are black\\n\\nQ: I have ten tokens, and some of them are black. How many of my tokens are white?\\nA: some of them are white\\n\\nQ: I have five tokens, and some of them are white. How many of my tokens are black?\\nA: some of them are black\\n\\nQ: I have three tokens, and some of them are black. How many of my tokens are white?\\nA: some of them are white\\n\\nQ: I have nine tokens, and some of them are white. How many of my tokens are black?\\nA: some of them are black\\n\\nQ: I have four tokens, and all of them are white. How many of my tokens are black?\\nA: none of them are black\\n\\nQ: I have eight tokens, and some of them are black. How many of my tokens are white?\\nA: some of them are white\\n\\nQ: I have six tokens, and none of them are white. How many of my tokens are black?\\nA: all of them are black\\n\\nQ: I have three tokens, and all of them are white. How many of my tokens are black?\\nA: none of them are black\\n\\nQ: I have five tokens, and some of them are white. How many of my tokens are black?\\nA: some of them are black\\n\\nQ: I have three tokens, and some of them are white. How many of my tokens are black?\\nA: some of them are black\\n\\nQ: I have nine tokens, and some of them are black. How many of my tokens are white?\\nA: some of them are white\\n\\nQ: I have nine tokens, and some of them are black. How many of my tokens are white?\\nA: some of them are white\\n\\nQ: I have three tokens, and all of them are white. How many of my tokens are black?\\nA: none of them are black\\n\\nQ: I have four tokens, and none of them are black. How many of my tokens are white?\\nA: all of them are white\\n\\nQ: I have four tokens, and some of them are black. How many of my tokens are white?\\nA: some of them are white\\n\\nQ: I have five tokens, and some of them are white. How many of my tokens are black?\\nA: some of them are black\\n\\nQ: I have eight tokens, and all of them are white. How many of my tokens are black?\\nA: none of them are black\\n\\nQ: I have nine tokens, and some of them are white. How many of my tokens are black?\\nA: some of them are black\\n\\n\\n\\nQ: I have seven tokens, and none of them are white. How many of my tokens are black?\\nA: \",\n",
       "  'expected': 'all of them are black',\n",
       "  'generated': '6 of them are black',\n",
       "  'correct_strict': False,\n",
       "  'correct_lenient': False,\n",
       "  'section_counts': {'basic': 20, 'numeric': 20, 'special': 20, 'zero': 0}},\n",
       " {'prompt': \"Tokens can be either black or white. Complete the following sentences using number words (one, two, three, etc.) never digits (1, 2, 3, etc.).\\nRemember:\\n- For 0, use 'zero' not '0'\\n- The total number of tokens equals the sum of black and white tokens\\n- Always write numbers as words (e.g., 'two' not '2')\\n\\nFor example, this is correct: \\nQ: I have ten tokens, and five of them are black. How many of my tokens are white?\\nA: five of them are white\\n\\nWhereas this is incorrect:\\nQ: I have ten tokens, and five of them are black. How many of my tokens are white?\\nA: 5 of them are white\\n\\n\\n\\n# Basic cases - all/none\\n\\nQ: I have ten tokens, and none of them are black. How many of my tokens are white?\\nA: all of them are white\\n\\nQ: I have four tokens, and all of them are white. How many of my tokens are black?\\nA: none of them are black\\n\\nQ: I have six tokens, and none of them are white. How many of my tokens are black?\\nA: all of them are black\\n\\nQ: I have six tokens, and some of them are black. How many of my tokens are white?\\nA: some of them are white\\n\\nQ: I have three tokens, and none of them are white. How many of my tokens are black?\\nA: all of them are black\\n\\nQ: I have five tokens, and some of them are white. How many of my tokens are black?\\nA: some of them are black\\n\\nQ: I have three tokens, and none of them are black. How many of my tokens are white?\\nA: all of them are white\\n\\nQ: I have five tokens, and some of them are black. How many of my tokens are white?\\nA: some of them are white\\n\\nQ: I have four tokens, and all of them are white. How many of my tokens are black?\\nA: none of them are black\\n\\nQ: I have six tokens, and some of them are black. How many of my tokens are white?\\nA: some of them are white\\n\\nQ: I have six tokens, and some of them are black. How many of my tokens are white?\\nA: some of them are white\\n\\nQ: I have three tokens, and all of them are white. How many of my tokens are black?\\nA: none of them are black\\n\\nQ: I have nine tokens, and none of them are white. How many of my tokens are black?\\nA: all of them are black\\n\\nQ: I have five tokens, and none of them are black. How many of my tokens are white?\\nA: all of them are white\\n\\nQ: I have five tokens, and all of them are white. How many of my tokens are black?\\nA: none of them are black\\n\\nQ: I have four tokens, and all of them are white. How many of my tokens are black?\\nA: none of them are black\\n\\nQ: I have five tokens, and some of them are white. How many of my tokens are black?\\nA: some of them are black\\n\\nQ: I have seven tokens, and none of them are white. How many of my tokens are black?\\nA: all of them are black\\n\\nQ: I have three tokens, and none of them are black. How many of my tokens are white?\\nA: all of them are white\\n\\nQ: I have ten tokens, and none of them are white. How many of my tokens are black?\\nA: all of them are black\\n\\n\\n\\n# Cases with specific numbers\\n\\nQ: I have six tokens, and three of them are white. How many of my tokens are black?\\nA: three of them are black\\n\\nQ: I have four tokens, and three of them are white. How many of my tokens are black?\\nA: one of them are black\\n\\nQ: I have nine tokens, and five of them are black. How many of my tokens are white?\\nA: four of them are white\\n\\nQ: I have seven tokens, and three of them are white. How many of my tokens are black?\\nA: four of them are black\\n\\nQ: I have five tokens, and four of them are white. How many of my tokens are black?\\nA: one of them are black\\n\\nQ: I have nine tokens, and one of them are white. How many of my tokens are black?\\nA: eight of them are black\\n\\nQ: I have seven tokens, and one of them are white. How many of my tokens are black?\\nA: six of them are black\\n\\nQ: I have three tokens, and two of them are white. How many of my tokens are black?\\nA: one of them are black\\n\\nQ: I have five tokens, and four of them are black. How many of my tokens are white?\\nA: one of them are white\\n\\nQ: I have eight tokens, and two of them are black. How many of my tokens are white?\\nA: six of them are white\\n\\nQ: I have nine tokens, and three of them are black. How many of my tokens are white?\\nA: six of them are white\\n\\nQ: I have ten tokens, and four of them are white. How many of my tokens are black?\\nA: six of them are black\\n\\nQ: I have three tokens, and one of them are black. How many of my tokens are white?\\nA: two of them are white\\n\\nQ: I have three tokens, and one of them are black. How many of my tokens are white?\\nA: two of them are white\\n\\nQ: I have seven tokens, and five of them are white. How many of my tokens are black?\\nA: two of them are black\\n\\nQ: I have four tokens, and two of them are black. How many of my tokens are white?\\nA: two of them are white\\n\\nQ: I have four tokens, and two of them are black. How many of my tokens are white?\\nA: two of them are white\\n\\nQ: I have three tokens, and two of them are white. How many of my tokens are black?\\nA: one of them are black\\n\\nQ: I have eight tokens, and two of them are white. How many of my tokens are black?\\nA: six of them are black\\n\\nQ: I have three tokens, and one of them are white. How many of my tokens are black?\\nA: two of them are black\\n\\n\\n\\n# Cases with 'some'\\n\\nQ: I have ten tokens, and all of them are white. How many of my tokens are black?\\nA: none of them are black\\n\\nQ: I have ten tokens, and some of them are white. How many of my tokens are black?\\nA: some of them are black\\n\\nQ: I have six tokens, and none of them are black. How many of my tokens are white?\\nA: all of them are white\\n\\nQ: I have ten tokens, and none of them are black. How many of my tokens are white?\\nA: all of them are white\\n\\nQ: I have seven tokens, and all of them are white. How many of my tokens are black?\\nA: none of them are black\\n\\nQ: I have five tokens, and all of them are white. How many of my tokens are black?\\nA: none of them are black\\n\\nQ: I have three tokens, and none of them are black. How many of my tokens are white?\\nA: all of them are white\\n\\nQ: I have five tokens, and all of them are white. How many of my tokens are black?\\nA: none of them are black\\n\\nQ: I have six tokens, and all of them are white. How many of my tokens are black?\\nA: none of them are black\\n\\nQ: I have nine tokens, and some of them are white. How many of my tokens are black?\\nA: some of them are black\\n\\nQ: I have seven tokens, and some of them are white. How many of my tokens are black?\\nA: some of them are black\\n\\nQ: I have nine tokens, and none of them are black. How many of my tokens are white?\\nA: all of them are white\\n\\nQ: I have six tokens, and all of them are black. How many of my tokens are white?\\nA: none of them are white\\n\\nQ: I have eight tokens, and all of them are black. How many of my tokens are white?\\nA: none of them are white\\n\\nQ: I have five tokens, and some of them are black. How many of my tokens are white?\\nA: some of them are white\\n\\nQ: I have ten tokens, and some of them are black. How many of my tokens are white?\\nA: some of them are white\\n\\nQ: I have five tokens, and all of them are white. How many of my tokens are black?\\nA: none of them are black\\n\\nQ: I have seven tokens, and some of them are black. How many of my tokens are white?\\nA: some of them are white\\n\\nQ: I have three tokens, and none of them are black. How many of my tokens are white?\\nA: all of them are white\\n\\nQ: I have six tokens, and all of them are white. How many of my tokens are black?\\nA: none of them are black\\n\\n\\n\\nQ: I have ten tokens, and all of them are black. How many of my tokens are white?\\nA: \",\n",
       "  'expected': 'none of them are white',\n",
       "  'generated': '0 of them are white',\n",
       "  'correct_strict': False,\n",
       "  'correct_lenient': True,\n",
       "  'section_counts': {'basic': 20, 'numeric': 20, 'special': 20, 'zero': 0}}]"
      ]
     },
     "execution_count": 75,
     "metadata": {},
     "output_type": "execute_result"
    }
   ],
   "source": [
    "normal_results['special_tests']"
   ]
  },
  {
   "cell_type": "code",
   "execution_count": 77,
   "metadata": {},
   "outputs": [
    {
     "data": {
      "application/vnd.jupyter.widget-view+json": {
       "model_id": "15b084bed6964c6aacb2291ee8ce336d",
       "version_major": 2,
       "version_minor": 0
      },
      "text/plain": [
       "Testing types:   0%|          | 0/2 [00:00<?, ?it/s]"
      ]
     },
     "metadata": {},
     "output_type": "display_data"
    },
    {
     "data": {
      "application/vnd.jupyter.widget-view+json": {
       "model_id": "cfc96dfa22854586a2a3115190e591fc",
       "version_major": 2,
       "version_minor": 0
      },
      "text/plain": [
       "Testing numeric:   0%|          | 0/50 [00:00<?, ?it/s]"
      ]
     },
     "metadata": {},
     "output_type": "display_data"
    },
    {
     "data": {
      "application/vnd.jupyter.widget-view+json": {
       "model_id": "a76ea14fe4c64568a9c25a4935f077cd",
       "version_major": 2,
       "version_minor": 0
      },
      "text/plain": [
       "  0%|          | 0/6 [00:00<?, ?it/s]"
      ]
     },
     "metadata": {},
     "output_type": "display_data"
    },
    {
     "data": {
      "application/vnd.jupyter.widget-view+json": {
       "model_id": "b725aea008c54c009011a2147e261f1d",
       "version_major": 2,
       "version_minor": 0
      },
      "text/plain": [
       "  0%|          | 0/6 [00:00<?, ?it/s]"
      ]
     },
     "metadata": {},
     "output_type": "display_data"
    },
    {
     "data": {
      "application/vnd.jupyter.widget-view+json": {
       "model_id": "9a778044599f494f95153955ae0d3725",
       "version_major": 2,
       "version_minor": 0
      },
      "text/plain": [
       "  0%|          | 0/6 [00:00<?, ?it/s]"
      ]
     },
     "metadata": {},
     "output_type": "display_data"
    },
    {
     "data": {
      "application/vnd.jupyter.widget-view+json": {
       "model_id": "2b89f0b73e694f539b9cced00fbf33c3",
       "version_major": 2,
       "version_minor": 0
      },
      "text/plain": [
       "  0%|          | 0/6 [00:00<?, ?it/s]"
      ]
     },
     "metadata": {},
     "output_type": "display_data"
    },
    {
     "data": {
      "application/vnd.jupyter.widget-view+json": {
       "model_id": "eb55204939f94e5c8586e7eb901c90fb",
       "version_major": 2,
       "version_minor": 0
      },
      "text/plain": [
       "  0%|          | 0/6 [00:00<?, ?it/s]"
      ]
     },
     "metadata": {},
     "output_type": "display_data"
    },
    {
     "data": {
      "application/vnd.jupyter.widget-view+json": {
       "model_id": "ffe4bdb5e848427bbad79535b75dbcdf",
       "version_major": 2,
       "version_minor": 0
      },
      "text/plain": [
       "  0%|          | 0/6 [00:00<?, ?it/s]"
      ]
     },
     "metadata": {},
     "output_type": "display_data"
    },
    {
     "data": {
      "application/vnd.jupyter.widget-view+json": {
       "model_id": "1a37a246b73e4986b7d52cf215dc4c42",
       "version_major": 2,
       "version_minor": 0
      },
      "text/plain": [
       "  0%|          | 0/6 [00:00<?, ?it/s]"
      ]
     },
     "metadata": {},
     "output_type": "display_data"
    },
    {
     "data": {
      "application/vnd.jupyter.widget-view+json": {
       "model_id": "20ff3d3993dd45b7a646efe02e96c201",
       "version_major": 2,
       "version_minor": 0
      },
      "text/plain": [
       "  0%|          | 0/6 [00:00<?, ?it/s]"
      ]
     },
     "metadata": {},
     "output_type": "display_data"
    },
    {
     "data": {
      "application/vnd.jupyter.widget-view+json": {
       "model_id": "8a8b399b75d34ac0b94d88c209ac3e3d",
       "version_major": 2,
       "version_minor": 0
      },
      "text/plain": [
       "  0%|          | 0/6 [00:00<?, ?it/s]"
      ]
     },
     "metadata": {},
     "output_type": "display_data"
    },
    {
     "data": {
      "application/vnd.jupyter.widget-view+json": {
       "model_id": "e648e868fc9547e4a44b505217cfa116",
       "version_major": 2,
       "version_minor": 0
      },
      "text/plain": [
       "  0%|          | 0/6 [00:00<?, ?it/s]"
      ]
     },
     "metadata": {},
     "output_type": "display_data"
    },
    {
     "data": {
      "application/vnd.jupyter.widget-view+json": {
       "model_id": "a6791fce8ff14f93805683df493a808d",
       "version_major": 2,
       "version_minor": 0
      },
      "text/plain": [
       "  0%|          | 0/6 [00:00<?, ?it/s]"
      ]
     },
     "metadata": {},
     "output_type": "display_data"
    },
    {
     "data": {
      "application/vnd.jupyter.widget-view+json": {
       "model_id": "922cc02fe6eb4fc2b2f9099c0400a163",
       "version_major": 2,
       "version_minor": 0
      },
      "text/plain": [
       "  0%|          | 0/6 [00:00<?, ?it/s]"
      ]
     },
     "metadata": {},
     "output_type": "display_data"
    },
    {
     "data": {
      "application/vnd.jupyter.widget-view+json": {
       "model_id": "dbfc9685eaa348f2b3292b7e6a977299",
       "version_major": 2,
       "version_minor": 0
      },
      "text/plain": [
       "  0%|          | 0/6 [00:00<?, ?it/s]"
      ]
     },
     "metadata": {},
     "output_type": "display_data"
    },
    {
     "data": {
      "application/vnd.jupyter.widget-view+json": {
       "model_id": "bbf0e651fed948e6bd1b8e280068a6f5",
       "version_major": 2,
       "version_minor": 0
      },
      "text/plain": [
       "  0%|          | 0/6 [00:00<?, ?it/s]"
      ]
     },
     "metadata": {},
     "output_type": "display_data"
    },
    {
     "data": {
      "application/vnd.jupyter.widget-view+json": {
       "model_id": "dafac62a0dfe493e8d93e243454ead7b",
       "version_major": 2,
       "version_minor": 0
      },
      "text/plain": [
       "  0%|          | 0/6 [00:00<?, ?it/s]"
      ]
     },
     "metadata": {},
     "output_type": "display_data"
    },
    {
     "data": {
      "application/vnd.jupyter.widget-view+json": {
       "model_id": "2c149b7a04ef45d6abe757857b8af9f3",
       "version_major": 2,
       "version_minor": 0
      },
      "text/plain": [
       "  0%|          | 0/6 [00:00<?, ?it/s]"
      ]
     },
     "metadata": {},
     "output_type": "display_data"
    },
    {
     "data": {
      "application/vnd.jupyter.widget-view+json": {
       "model_id": "244aab1031c448b0aa33f9d127f068c7",
       "version_major": 2,
       "version_minor": 0
      },
      "text/plain": [
       "  0%|          | 0/6 [00:00<?, ?it/s]"
      ]
     },
     "metadata": {},
     "output_type": "display_data"
    },
    {
     "data": {
      "application/vnd.jupyter.widget-view+json": {
       "model_id": "935ab40662204203973170104f31141d",
       "version_major": 2,
       "version_minor": 0
      },
      "text/plain": [
       "  0%|          | 0/6 [00:00<?, ?it/s]"
      ]
     },
     "metadata": {},
     "output_type": "display_data"
    },
    {
     "data": {
      "application/vnd.jupyter.widget-view+json": {
       "model_id": "0c2eebf4f9634838a9f972e44a459b0c",
       "version_major": 2,
       "version_minor": 0
      },
      "text/plain": [
       "  0%|          | 0/6 [00:00<?, ?it/s]"
      ]
     },
     "metadata": {},
     "output_type": "display_data"
    },
    {
     "data": {
      "application/vnd.jupyter.widget-view+json": {
       "model_id": "4a2e760b6ea640dd8080d820a859a92a",
       "version_major": 2,
       "version_minor": 0
      },
      "text/plain": [
       "  0%|          | 0/6 [00:00<?, ?it/s]"
      ]
     },
     "metadata": {},
     "output_type": "display_data"
    },
    {
     "data": {
      "application/vnd.jupyter.widget-view+json": {
       "model_id": "2c83aa30756940d7b3544eeaa1939d52",
       "version_major": 2,
       "version_minor": 0
      },
      "text/plain": [
       "  0%|          | 0/6 [00:00<?, ?it/s]"
      ]
     },
     "metadata": {},
     "output_type": "display_data"
    },
    {
     "data": {
      "application/vnd.jupyter.widget-view+json": {
       "model_id": "d1cb208e035d4db9880aff7243a33805",
       "version_major": 2,
       "version_minor": 0
      },
      "text/plain": [
       "  0%|          | 0/6 [00:00<?, ?it/s]"
      ]
     },
     "metadata": {},
     "output_type": "display_data"
    },
    {
     "data": {
      "application/vnd.jupyter.widget-view+json": {
       "model_id": "5ce5daa2852f4f039d7b8a4948fc7476",
       "version_major": 2,
       "version_minor": 0
      },
      "text/plain": [
       "  0%|          | 0/6 [00:00<?, ?it/s]"
      ]
     },
     "metadata": {},
     "output_type": "display_data"
    },
    {
     "data": {
      "application/vnd.jupyter.widget-view+json": {
       "model_id": "7c70617fbf134fa4a78ea5f134285f67",
       "version_major": 2,
       "version_minor": 0
      },
      "text/plain": [
       "  0%|          | 0/6 [00:00<?, ?it/s]"
      ]
     },
     "metadata": {},
     "output_type": "display_data"
    },
    {
     "data": {
      "application/vnd.jupyter.widget-view+json": {
       "model_id": "588c783ae67b465687e181efdc36d79e",
       "version_major": 2,
       "version_minor": 0
      },
      "text/plain": [
       "  0%|          | 0/6 [00:00<?, ?it/s]"
      ]
     },
     "metadata": {},
     "output_type": "display_data"
    },
    {
     "data": {
      "application/vnd.jupyter.widget-view+json": {
       "model_id": "eb3b6c3af0f84c988afa45a0b56d110f",
       "version_major": 2,
       "version_minor": 0
      },
      "text/plain": [
       "  0%|          | 0/6 [00:00<?, ?it/s]"
      ]
     },
     "metadata": {},
     "output_type": "display_data"
    },
    {
     "data": {
      "application/vnd.jupyter.widget-view+json": {
       "model_id": "1a74afec6e3e46d283a3d61382a8bc2c",
       "version_major": 2,
       "version_minor": 0
      },
      "text/plain": [
       "  0%|          | 0/6 [00:00<?, ?it/s]"
      ]
     },
     "metadata": {},
     "output_type": "display_data"
    },
    {
     "data": {
      "application/vnd.jupyter.widget-view+json": {
       "model_id": "fee0dc9f46bb49f281f9dc3f7700c63c",
       "version_major": 2,
       "version_minor": 0
      },
      "text/plain": [
       "  0%|          | 0/6 [00:00<?, ?it/s]"
      ]
     },
     "metadata": {},
     "output_type": "display_data"
    },
    {
     "data": {
      "application/vnd.jupyter.widget-view+json": {
       "model_id": "31a3efd4e4704eee94cdc12958a18360",
       "version_major": 2,
       "version_minor": 0
      },
      "text/plain": [
       "  0%|          | 0/6 [00:00<?, ?it/s]"
      ]
     },
     "metadata": {},
     "output_type": "display_data"
    },
    {
     "data": {
      "application/vnd.jupyter.widget-view+json": {
       "model_id": "c6861338b13c4cc99e7eb7d749211016",
       "version_major": 2,
       "version_minor": 0
      },
      "text/plain": [
       "  0%|          | 0/6 [00:00<?, ?it/s]"
      ]
     },
     "metadata": {},
     "output_type": "display_data"
    },
    {
     "data": {
      "application/vnd.jupyter.widget-view+json": {
       "model_id": "a051df1c83d94880826eb7af547868c6",
       "version_major": 2,
       "version_minor": 0
      },
      "text/plain": [
       "  0%|          | 0/6 [00:00<?, ?it/s]"
      ]
     },
     "metadata": {},
     "output_type": "display_data"
    },
    {
     "data": {
      "application/vnd.jupyter.widget-view+json": {
       "model_id": "217c4c1e681d40dfa20688ecaf6ed827",
       "version_major": 2,
       "version_minor": 0
      },
      "text/plain": [
       "  0%|          | 0/6 [00:00<?, ?it/s]"
      ]
     },
     "metadata": {},
     "output_type": "display_data"
    },
    {
     "data": {
      "application/vnd.jupyter.widget-view+json": {
       "model_id": "6ab25da7821e44ce993d9af0d8bdcd07",
       "version_major": 2,
       "version_minor": 0
      },
      "text/plain": [
       "  0%|          | 0/6 [00:00<?, ?it/s]"
      ]
     },
     "metadata": {},
     "output_type": "display_data"
    },
    {
     "data": {
      "application/vnd.jupyter.widget-view+json": {
       "model_id": "8c597e78fd7041989949024aa7a65b05",
       "version_major": 2,
       "version_minor": 0
      },
      "text/plain": [
       "  0%|          | 0/6 [00:00<?, ?it/s]"
      ]
     },
     "metadata": {},
     "output_type": "display_data"
    },
    {
     "data": {
      "application/vnd.jupyter.widget-view+json": {
       "model_id": "3a72ed035e1340e99f73d5ac440de202",
       "version_major": 2,
       "version_minor": 0
      },
      "text/plain": [
       "  0%|          | 0/6 [00:00<?, ?it/s]"
      ]
     },
     "metadata": {},
     "output_type": "display_data"
    },
    {
     "data": {
      "application/vnd.jupyter.widget-view+json": {
       "model_id": "569675a9ad0b4f3baebd9e3a65073950",
       "version_major": 2,
       "version_minor": 0
      },
      "text/plain": [
       "  0%|          | 0/6 [00:00<?, ?it/s]"
      ]
     },
     "metadata": {},
     "output_type": "display_data"
    },
    {
     "data": {
      "application/vnd.jupyter.widget-view+json": {
       "model_id": "5ec96aa03ec5443ca841033978a69cc9",
       "version_major": 2,
       "version_minor": 0
      },
      "text/plain": [
       "  0%|          | 0/6 [00:00<?, ?it/s]"
      ]
     },
     "metadata": {},
     "output_type": "display_data"
    },
    {
     "data": {
      "application/vnd.jupyter.widget-view+json": {
       "model_id": "830dd4ad6ccd46839ccf9b7bc4cc4a84",
       "version_major": 2,
       "version_minor": 0
      },
      "text/plain": [
       "  0%|          | 0/6 [00:00<?, ?it/s]"
      ]
     },
     "metadata": {},
     "output_type": "display_data"
    },
    {
     "data": {
      "application/vnd.jupyter.widget-view+json": {
       "model_id": "ecbc4c0925ef49a5854c51da3fb0a7d6",
       "version_major": 2,
       "version_minor": 0
      },
      "text/plain": [
       "  0%|          | 0/6 [00:00<?, ?it/s]"
      ]
     },
     "metadata": {},
     "output_type": "display_data"
    },
    {
     "data": {
      "application/vnd.jupyter.widget-view+json": {
       "model_id": "b932f883e7244457b114b531b69707d3",
       "version_major": 2,
       "version_minor": 0
      },
      "text/plain": [
       "  0%|          | 0/6 [00:00<?, ?it/s]"
      ]
     },
     "metadata": {},
     "output_type": "display_data"
    },
    {
     "data": {
      "application/vnd.jupyter.widget-view+json": {
       "model_id": "7ac698277e8f4214a6b1df499b4824a9",
       "version_major": 2,
       "version_minor": 0
      },
      "text/plain": [
       "  0%|          | 0/6 [00:00<?, ?it/s]"
      ]
     },
     "metadata": {},
     "output_type": "display_data"
    },
    {
     "data": {
      "application/vnd.jupyter.widget-view+json": {
       "model_id": "68a7b3807771464bb833246adfa557d8",
       "version_major": 2,
       "version_minor": 0
      },
      "text/plain": [
       "  0%|          | 0/6 [00:00<?, ?it/s]"
      ]
     },
     "metadata": {},
     "output_type": "display_data"
    },
    {
     "data": {
      "application/vnd.jupyter.widget-view+json": {
       "model_id": "73733cdc61a0423b8851da55c6377dd0",
       "version_major": 2,
       "version_minor": 0
      },
      "text/plain": [
       "  0%|          | 0/6 [00:00<?, ?it/s]"
      ]
     },
     "metadata": {},
     "output_type": "display_data"
    },
    {
     "data": {
      "application/vnd.jupyter.widget-view+json": {
       "model_id": "1c24cc192e614e80990c0ff98c308859",
       "version_major": 2,
       "version_minor": 0
      },
      "text/plain": [
       "  0%|          | 0/6 [00:00<?, ?it/s]"
      ]
     },
     "metadata": {},
     "output_type": "display_data"
    },
    {
     "data": {
      "application/vnd.jupyter.widget-view+json": {
       "model_id": "b8619ca52aae4ded83543a7f061bff72",
       "version_major": 2,
       "version_minor": 0
      },
      "text/plain": [
       "  0%|          | 0/6 [00:00<?, ?it/s]"
      ]
     },
     "metadata": {},
     "output_type": "display_data"
    },
    {
     "data": {
      "application/vnd.jupyter.widget-view+json": {
       "model_id": "45ee45c740d84642a0db34082ea11d9a",
       "version_major": 2,
       "version_minor": 0
      },
      "text/plain": [
       "  0%|          | 0/6 [00:00<?, ?it/s]"
      ]
     },
     "metadata": {},
     "output_type": "display_data"
    },
    {
     "data": {
      "application/vnd.jupyter.widget-view+json": {
       "model_id": "d0beca49188a4b57948ee54f11eb2641",
       "version_major": 2,
       "version_minor": 0
      },
      "text/plain": [
       "  0%|          | 0/6 [00:00<?, ?it/s]"
      ]
     },
     "metadata": {},
     "output_type": "display_data"
    },
    {
     "data": {
      "application/vnd.jupyter.widget-view+json": {
       "model_id": "6cebd610bcea40ee8904d670b26f50e2",
       "version_major": 2,
       "version_minor": 0
      },
      "text/plain": [
       "  0%|          | 0/6 [00:00<?, ?it/s]"
      ]
     },
     "metadata": {},
     "output_type": "display_data"
    },
    {
     "data": {
      "application/vnd.jupyter.widget-view+json": {
       "model_id": "18a84780df854373adb1e5c37a033e53",
       "version_major": 2,
       "version_minor": 0
      },
      "text/plain": [
       "  0%|          | 0/6 [00:00<?, ?it/s]"
      ]
     },
     "metadata": {},
     "output_type": "display_data"
    },
    {
     "data": {
      "application/vnd.jupyter.widget-view+json": {
       "model_id": "4e51a304460b4603897c9affb16d6996",
       "version_major": 2,
       "version_minor": 0
      },
      "text/plain": [
       "  0%|          | 0/6 [00:00<?, ?it/s]"
      ]
     },
     "metadata": {},
     "output_type": "display_data"
    },
    {
     "data": {
      "application/vnd.jupyter.widget-view+json": {
       "model_id": "80b539d154ac40a3b6aae8be14cbc4cd",
       "version_major": 2,
       "version_minor": 0
      },
      "text/plain": [
       "Testing special:   0%|          | 0/50 [00:00<?, ?it/s]"
      ]
     },
     "metadata": {},
     "output_type": "display_data"
    },
    {
     "data": {
      "application/vnd.jupyter.widget-view+json": {
       "model_id": "200ecb5774424dc1b2bb7ab5804cb379",
       "version_major": 2,
       "version_minor": 0
      },
      "text/plain": [
       "  0%|          | 0/6 [00:00<?, ?it/s]"
      ]
     },
     "metadata": {},
     "output_type": "display_data"
    },
    {
     "data": {
      "application/vnd.jupyter.widget-view+json": {
       "model_id": "fd8e23edcd9c43d397750ec0aef20155",
       "version_major": 2,
       "version_minor": 0
      },
      "text/plain": [
       "  0%|          | 0/6 [00:00<?, ?it/s]"
      ]
     },
     "metadata": {},
     "output_type": "display_data"
    },
    {
     "data": {
      "application/vnd.jupyter.widget-view+json": {
       "model_id": "7aae983899b94e9b8b1679c730aa494f",
       "version_major": 2,
       "version_minor": 0
      },
      "text/plain": [
       "  0%|          | 0/6 [00:00<?, ?it/s]"
      ]
     },
     "metadata": {},
     "output_type": "display_data"
    },
    {
     "data": {
      "application/vnd.jupyter.widget-view+json": {
       "model_id": "213ebe8b035548f288ee0a4d0913f005",
       "version_major": 2,
       "version_minor": 0
      },
      "text/plain": [
       "  0%|          | 0/6 [00:00<?, ?it/s]"
      ]
     },
     "metadata": {},
     "output_type": "display_data"
    },
    {
     "data": {
      "application/vnd.jupyter.widget-view+json": {
       "model_id": "8aac1839948e4789a6eab078b9c12680",
       "version_major": 2,
       "version_minor": 0
      },
      "text/plain": [
       "  0%|          | 0/6 [00:00<?, ?it/s]"
      ]
     },
     "metadata": {},
     "output_type": "display_data"
    },
    {
     "data": {
      "application/vnd.jupyter.widget-view+json": {
       "model_id": "eff983ffef644f4a91ccc68bf50918f9",
       "version_major": 2,
       "version_minor": 0
      },
      "text/plain": [
       "  0%|          | 0/6 [00:00<?, ?it/s]"
      ]
     },
     "metadata": {},
     "output_type": "display_data"
    },
    {
     "data": {
      "application/vnd.jupyter.widget-view+json": {
       "model_id": "d6df54b5d1794d7b9f84206e978fa061",
       "version_major": 2,
       "version_minor": 0
      },
      "text/plain": [
       "  0%|          | 0/6 [00:00<?, ?it/s]"
      ]
     },
     "metadata": {},
     "output_type": "display_data"
    },
    {
     "data": {
      "application/vnd.jupyter.widget-view+json": {
       "model_id": "972cc0ed95aa4b9fa9e68f741869cb4f",
       "version_major": 2,
       "version_minor": 0
      },
      "text/plain": [
       "  0%|          | 0/6 [00:00<?, ?it/s]"
      ]
     },
     "metadata": {},
     "output_type": "display_data"
    },
    {
     "data": {
      "application/vnd.jupyter.widget-view+json": {
       "model_id": "1d5d560766964e5caa78ae3b0ecee89f",
       "version_major": 2,
       "version_minor": 0
      },
      "text/plain": [
       "  0%|          | 0/6 [00:00<?, ?it/s]"
      ]
     },
     "metadata": {},
     "output_type": "display_data"
    },
    {
     "data": {
      "application/vnd.jupyter.widget-view+json": {
       "model_id": "29b9026432394354b67b1e41144b3b65",
       "version_major": 2,
       "version_minor": 0
      },
      "text/plain": [
       "  0%|          | 0/6 [00:00<?, ?it/s]"
      ]
     },
     "metadata": {},
     "output_type": "display_data"
    },
    {
     "data": {
      "application/vnd.jupyter.widget-view+json": {
       "model_id": "84ee570edc47450db070f84be6672f7a",
       "version_major": 2,
       "version_minor": 0
      },
      "text/plain": [
       "  0%|          | 0/6 [00:00<?, ?it/s]"
      ]
     },
     "metadata": {},
     "output_type": "display_data"
    },
    {
     "data": {
      "application/vnd.jupyter.widget-view+json": {
       "model_id": "2e63e4fcd3f24af38fd929fa44353e62",
       "version_major": 2,
       "version_minor": 0
      },
      "text/plain": [
       "  0%|          | 0/6 [00:00<?, ?it/s]"
      ]
     },
     "metadata": {},
     "output_type": "display_data"
    },
    {
     "data": {
      "application/vnd.jupyter.widget-view+json": {
       "model_id": "9aec87cdb5284e39ac81919db3604c8e",
       "version_major": 2,
       "version_minor": 0
      },
      "text/plain": [
       "  0%|          | 0/6 [00:00<?, ?it/s]"
      ]
     },
     "metadata": {},
     "output_type": "display_data"
    },
    {
     "data": {
      "application/vnd.jupyter.widget-view+json": {
       "model_id": "7c628a2c2a81417794e8b89cf01cace8",
       "version_major": 2,
       "version_minor": 0
      },
      "text/plain": [
       "  0%|          | 0/6 [00:00<?, ?it/s]"
      ]
     },
     "metadata": {},
     "output_type": "display_data"
    },
    {
     "data": {
      "application/vnd.jupyter.widget-view+json": {
       "model_id": "ee7eef8ea58748ab8426895f1c565a82",
       "version_major": 2,
       "version_minor": 0
      },
      "text/plain": [
       "  0%|          | 0/6 [00:00<?, ?it/s]"
      ]
     },
     "metadata": {},
     "output_type": "display_data"
    },
    {
     "data": {
      "application/vnd.jupyter.widget-view+json": {
       "model_id": "cac2bd907c6d494d818a5d2602f7bff6",
       "version_major": 2,
       "version_minor": 0
      },
      "text/plain": [
       "  0%|          | 0/6 [00:00<?, ?it/s]"
      ]
     },
     "metadata": {},
     "output_type": "display_data"
    },
    {
     "data": {
      "application/vnd.jupyter.widget-view+json": {
       "model_id": "3d9b9689a2de4feabb18619b1204b364",
       "version_major": 2,
       "version_minor": 0
      },
      "text/plain": [
       "  0%|          | 0/6 [00:00<?, ?it/s]"
      ]
     },
     "metadata": {},
     "output_type": "display_data"
    },
    {
     "data": {
      "application/vnd.jupyter.widget-view+json": {
       "model_id": "76a2e98435224dbc82b1a4fd5cff5e4f",
       "version_major": 2,
       "version_minor": 0
      },
      "text/plain": [
       "  0%|          | 0/6 [00:00<?, ?it/s]"
      ]
     },
     "metadata": {},
     "output_type": "display_data"
    },
    {
     "data": {
      "application/vnd.jupyter.widget-view+json": {
       "model_id": "2356c2f9955a4caab30b5ad5cc77970c",
       "version_major": 2,
       "version_minor": 0
      },
      "text/plain": [
       "  0%|          | 0/6 [00:00<?, ?it/s]"
      ]
     },
     "metadata": {},
     "output_type": "display_data"
    },
    {
     "data": {
      "application/vnd.jupyter.widget-view+json": {
       "model_id": "1b9b006c0eea4dfa8cabc2fe6ae00f98",
       "version_major": 2,
       "version_minor": 0
      },
      "text/plain": [
       "  0%|          | 0/6 [00:00<?, ?it/s]"
      ]
     },
     "metadata": {},
     "output_type": "display_data"
    },
    {
     "data": {
      "application/vnd.jupyter.widget-view+json": {
       "model_id": "8d3a137d00cc4f5198956a88a1784b31",
       "version_major": 2,
       "version_minor": 0
      },
      "text/plain": [
       "  0%|          | 0/6 [00:00<?, ?it/s]"
      ]
     },
     "metadata": {},
     "output_type": "display_data"
    },
    {
     "data": {
      "application/vnd.jupyter.widget-view+json": {
       "model_id": "9f04c742b9934e0fbe90ad9c8415e5a5",
       "version_major": 2,
       "version_minor": 0
      },
      "text/plain": [
       "  0%|          | 0/6 [00:00<?, ?it/s]"
      ]
     },
     "metadata": {},
     "output_type": "display_data"
    },
    {
     "data": {
      "application/vnd.jupyter.widget-view+json": {
       "model_id": "ac4ab62f0f3d4d8894d162e308d0e7d1",
       "version_major": 2,
       "version_minor": 0
      },
      "text/plain": [
       "  0%|          | 0/6 [00:00<?, ?it/s]"
      ]
     },
     "metadata": {},
     "output_type": "display_data"
    },
    {
     "data": {
      "application/vnd.jupyter.widget-view+json": {
       "model_id": "bf4c308dbe514bcdb8ead68d284a0f97",
       "version_major": 2,
       "version_minor": 0
      },
      "text/plain": [
       "  0%|          | 0/6 [00:00<?, ?it/s]"
      ]
     },
     "metadata": {},
     "output_type": "display_data"
    },
    {
     "data": {
      "application/vnd.jupyter.widget-view+json": {
       "model_id": "0a3123d6610b422fbdc14950a410f048",
       "version_major": 2,
       "version_minor": 0
      },
      "text/plain": [
       "  0%|          | 0/6 [00:00<?, ?it/s]"
      ]
     },
     "metadata": {},
     "output_type": "display_data"
    },
    {
     "data": {
      "application/vnd.jupyter.widget-view+json": {
       "model_id": "3c617608ff3e4c618ae452b9b0317951",
       "version_major": 2,
       "version_minor": 0
      },
      "text/plain": [
       "  0%|          | 0/6 [00:00<?, ?it/s]"
      ]
     },
     "metadata": {},
     "output_type": "display_data"
    },
    {
     "data": {
      "application/vnd.jupyter.widget-view+json": {
       "model_id": "c445ecfd419249deb29110347eedee7a",
       "version_major": 2,
       "version_minor": 0
      },
      "text/plain": [
       "  0%|          | 0/6 [00:00<?, ?it/s]"
      ]
     },
     "metadata": {},
     "output_type": "display_data"
    },
    {
     "data": {
      "application/vnd.jupyter.widget-view+json": {
       "model_id": "5013eddec7d641e6a39df10d1e165991",
       "version_major": 2,
       "version_minor": 0
      },
      "text/plain": [
       "  0%|          | 0/6 [00:00<?, ?it/s]"
      ]
     },
     "metadata": {},
     "output_type": "display_data"
    },
    {
     "data": {
      "application/vnd.jupyter.widget-view+json": {
       "model_id": "1032210561904590b36c79458c18bac3",
       "version_major": 2,
       "version_minor": 0
      },
      "text/plain": [
       "  0%|          | 0/6 [00:00<?, ?it/s]"
      ]
     },
     "metadata": {},
     "output_type": "display_data"
    },
    {
     "data": {
      "application/vnd.jupyter.widget-view+json": {
       "model_id": "09013b2e44024f0cbc3290507fff69db",
       "version_major": 2,
       "version_minor": 0
      },
      "text/plain": [
       "  0%|          | 0/6 [00:00<?, ?it/s]"
      ]
     },
     "metadata": {},
     "output_type": "display_data"
    },
    {
     "data": {
      "application/vnd.jupyter.widget-view+json": {
       "model_id": "d3b2e1fa47554fb085475804520f58cb",
       "version_major": 2,
       "version_minor": 0
      },
      "text/plain": [
       "  0%|          | 0/6 [00:00<?, ?it/s]"
      ]
     },
     "metadata": {},
     "output_type": "display_data"
    },
    {
     "data": {
      "application/vnd.jupyter.widget-view+json": {
       "model_id": "7e4f421402a048feab062c484f37cba5",
       "version_major": 2,
       "version_minor": 0
      },
      "text/plain": [
       "  0%|          | 0/6 [00:00<?, ?it/s]"
      ]
     },
     "metadata": {},
     "output_type": "display_data"
    },
    {
     "data": {
      "application/vnd.jupyter.widget-view+json": {
       "model_id": "dfed89dfa9514ece9e9cccef850bec52",
       "version_major": 2,
       "version_minor": 0
      },
      "text/plain": [
       "  0%|          | 0/6 [00:00<?, ?it/s]"
      ]
     },
     "metadata": {},
     "output_type": "display_data"
    },
    {
     "data": {
      "application/vnd.jupyter.widget-view+json": {
       "model_id": "f19622c42c0845bb941be2c9ebd7a653",
       "version_major": 2,
       "version_minor": 0
      },
      "text/plain": [
       "  0%|          | 0/6 [00:00<?, ?it/s]"
      ]
     },
     "metadata": {},
     "output_type": "display_data"
    },
    {
     "data": {
      "application/vnd.jupyter.widget-view+json": {
       "model_id": "17f50567820d4254b8068438d343130c",
       "version_major": 2,
       "version_minor": 0
      },
      "text/plain": [
       "  0%|          | 0/6 [00:00<?, ?it/s]"
      ]
     },
     "metadata": {},
     "output_type": "display_data"
    },
    {
     "data": {
      "application/vnd.jupyter.widget-view+json": {
       "model_id": "a51ca07eb86d4e8aa5efc792394d433f",
       "version_major": 2,
       "version_minor": 0
      },
      "text/plain": [
       "  0%|          | 0/6 [00:00<?, ?it/s]"
      ]
     },
     "metadata": {},
     "output_type": "display_data"
    },
    {
     "data": {
      "application/vnd.jupyter.widget-view+json": {
       "model_id": "66b49c6adbde43688213282913c99b51",
       "version_major": 2,
       "version_minor": 0
      },
      "text/plain": [
       "  0%|          | 0/6 [00:00<?, ?it/s]"
      ]
     },
     "metadata": {},
     "output_type": "display_data"
    },
    {
     "data": {
      "application/vnd.jupyter.widget-view+json": {
       "model_id": "ce67cbc503da4cb08775eedf06dcbd54",
       "version_major": 2,
       "version_minor": 0
      },
      "text/plain": [
       "  0%|          | 0/6 [00:00<?, ?it/s]"
      ]
     },
     "metadata": {},
     "output_type": "display_data"
    },
    {
     "data": {
      "application/vnd.jupyter.widget-view+json": {
       "model_id": "983fe1fa0aef45ad88e58c2556b0cb5b",
       "version_major": 2,
       "version_minor": 0
      },
      "text/plain": [
       "  0%|          | 0/6 [00:00<?, ?it/s]"
      ]
     },
     "metadata": {},
     "output_type": "display_data"
    },
    {
     "data": {
      "application/vnd.jupyter.widget-view+json": {
       "model_id": "ff3b7469dca646ea8568d42795d121c4",
       "version_major": 2,
       "version_minor": 0
      },
      "text/plain": [
       "  0%|          | 0/6 [00:00<?, ?it/s]"
      ]
     },
     "metadata": {},
     "output_type": "display_data"
    },
    {
     "data": {
      "application/vnd.jupyter.widget-view+json": {
       "model_id": "c68d865367b64e4896eac22275bd2175",
       "version_major": 2,
       "version_minor": 0
      },
      "text/plain": [
       "  0%|          | 0/6 [00:00<?, ?it/s]"
      ]
     },
     "metadata": {},
     "output_type": "display_data"
    },
    {
     "data": {
      "application/vnd.jupyter.widget-view+json": {
       "model_id": "a46a2bcb08dd4d7286a48b39c0da32fe",
       "version_major": 2,
       "version_minor": 0
      },
      "text/plain": [
       "  0%|          | 0/6 [00:00<?, ?it/s]"
      ]
     },
     "metadata": {},
     "output_type": "display_data"
    },
    {
     "data": {
      "application/vnd.jupyter.widget-view+json": {
       "model_id": "acbb75f404854ca2a3d876fbca946a7d",
       "version_major": 2,
       "version_minor": 0
      },
      "text/plain": [
       "  0%|          | 0/6 [00:00<?, ?it/s]"
      ]
     },
     "metadata": {},
     "output_type": "display_data"
    },
    {
     "data": {
      "application/vnd.jupyter.widget-view+json": {
       "model_id": "3122dc30df9a47dcabb149a15ec9e0f5",
       "version_major": 2,
       "version_minor": 0
      },
      "text/plain": [
       "  0%|          | 0/6 [00:00<?, ?it/s]"
      ]
     },
     "metadata": {},
     "output_type": "display_data"
    },
    {
     "data": {
      "application/vnd.jupyter.widget-view+json": {
       "model_id": "4bbe9179a546448594b80c20a349959a",
       "version_major": 2,
       "version_minor": 0
      },
      "text/plain": [
       "  0%|          | 0/6 [00:00<?, ?it/s]"
      ]
     },
     "metadata": {},
     "output_type": "display_data"
    },
    {
     "data": {
      "application/vnd.jupyter.widget-view+json": {
       "model_id": "09dd261f3e234edbab7d1200743a9b29",
       "version_major": 2,
       "version_minor": 0
      },
      "text/plain": [
       "  0%|          | 0/6 [00:00<?, ?it/s]"
      ]
     },
     "metadata": {},
     "output_type": "display_data"
    },
    {
     "data": {
      "application/vnd.jupyter.widget-view+json": {
       "model_id": "918dc4f7aba946518c0b7cb387013d5e",
       "version_major": 2,
       "version_minor": 0
      },
      "text/plain": [
       "  0%|          | 0/6 [00:00<?, ?it/s]"
      ]
     },
     "metadata": {},
     "output_type": "display_data"
    },
    {
     "data": {
      "application/vnd.jupyter.widget-view+json": {
       "model_id": "b2e920968a594aaeb4e36f31a63afe43",
       "version_major": 2,
       "version_minor": 0
      },
      "text/plain": [
       "  0%|          | 0/6 [00:00<?, ?it/s]"
      ]
     },
     "metadata": {},
     "output_type": "display_data"
    },
    {
     "data": {
      "application/vnd.jupyter.widget-view+json": {
       "model_id": "57c921646f734f33afc22f99e676f3ac",
       "version_major": 2,
       "version_minor": 0
      },
      "text/plain": [
       "  0%|          | 0/6 [00:00<?, ?it/s]"
      ]
     },
     "metadata": {},
     "output_type": "display_data"
    },
    {
     "data": {
      "application/vnd.jupyter.widget-view+json": {
       "model_id": "2d06196d11eb4127b150648c527577f9",
       "version_major": 2,
       "version_minor": 0
      },
      "text/plain": [
       "  0%|          | 0/6 [00:00<?, ?it/s]"
      ]
     },
     "metadata": {},
     "output_type": "display_data"
    },
    {
     "data": {
      "application/vnd.jupyter.widget-view+json": {
       "model_id": "3eea9b3187574c1d96e343ae8de6f483",
       "version_major": 2,
       "version_minor": 0
      },
      "text/plain": [
       "Testing types:   0%|          | 0/2 [00:00<?, ?it/s]"
      ]
     },
     "metadata": {},
     "output_type": "display_data"
    },
    {
     "data": {
      "application/vnd.jupyter.widget-view+json": {
       "model_id": "ff7b88862dd5441484cbe8d4851cf65e",
       "version_major": 2,
       "version_minor": 0
      },
      "text/plain": [
       "Testing numeric:   0%|          | 0/50 [00:00<?, ?it/s]"
      ]
     },
     "metadata": {},
     "output_type": "display_data"
    },
    {
     "data": {
      "application/vnd.jupyter.widget-view+json": {
       "model_id": "12544660c65f452ea0f93c13a163f666",
       "version_major": 2,
       "version_minor": 0
      },
      "text/plain": [
       "  0%|          | 0/6 [00:00<?, ?it/s]"
      ]
     },
     "metadata": {},
     "output_type": "display_data"
    },
    {
     "data": {
      "application/vnd.jupyter.widget-view+json": {
       "model_id": "ecc94c85179a485589bf3fabf419099d",
       "version_major": 2,
       "version_minor": 0
      },
      "text/plain": [
       "  0%|          | 0/6 [00:00<?, ?it/s]"
      ]
     },
     "metadata": {},
     "output_type": "display_data"
    },
    {
     "data": {
      "application/vnd.jupyter.widget-view+json": {
       "model_id": "7e7d80f2da1241bb8055232b251b0990",
       "version_major": 2,
       "version_minor": 0
      },
      "text/plain": [
       "  0%|          | 0/6 [00:00<?, ?it/s]"
      ]
     },
     "metadata": {},
     "output_type": "display_data"
    },
    {
     "data": {
      "application/vnd.jupyter.widget-view+json": {
       "model_id": "52947800725640108f2438f26a0de177",
       "version_major": 2,
       "version_minor": 0
      },
      "text/plain": [
       "  0%|          | 0/6 [00:00<?, ?it/s]"
      ]
     },
     "metadata": {},
     "output_type": "display_data"
    },
    {
     "data": {
      "application/vnd.jupyter.widget-view+json": {
       "model_id": "514ba60e784b463f8943c74b542b07c3",
       "version_major": 2,
       "version_minor": 0
      },
      "text/plain": [
       "  0%|          | 0/6 [00:00<?, ?it/s]"
      ]
     },
     "metadata": {},
     "output_type": "display_data"
    },
    {
     "data": {
      "application/vnd.jupyter.widget-view+json": {
       "model_id": "8a9f47a03d8c45c99b525f6b878d790d",
       "version_major": 2,
       "version_minor": 0
      },
      "text/plain": [
       "  0%|          | 0/6 [00:00<?, ?it/s]"
      ]
     },
     "metadata": {},
     "output_type": "display_data"
    },
    {
     "data": {
      "application/vnd.jupyter.widget-view+json": {
       "model_id": "0f80e8a327a64e3c9f628faae663dd81",
       "version_major": 2,
       "version_minor": 0
      },
      "text/plain": [
       "  0%|          | 0/6 [00:00<?, ?it/s]"
      ]
     },
     "metadata": {},
     "output_type": "display_data"
    },
    {
     "data": {
      "application/vnd.jupyter.widget-view+json": {
       "model_id": "5abf7f656c5a40d09834491e8680fc24",
       "version_major": 2,
       "version_minor": 0
      },
      "text/plain": [
       "  0%|          | 0/6 [00:00<?, ?it/s]"
      ]
     },
     "metadata": {},
     "output_type": "display_data"
    },
    {
     "data": {
      "application/vnd.jupyter.widget-view+json": {
       "model_id": "c2a6669e4cd8410baaa595d43830bccb",
       "version_major": 2,
       "version_minor": 0
      },
      "text/plain": [
       "  0%|          | 0/6 [00:00<?, ?it/s]"
      ]
     },
     "metadata": {},
     "output_type": "display_data"
    },
    {
     "data": {
      "application/vnd.jupyter.widget-view+json": {
       "model_id": "d5ba8ad77eb34574ac4595e8f25dba88",
       "version_major": 2,
       "version_minor": 0
      },
      "text/plain": [
       "  0%|          | 0/6 [00:00<?, ?it/s]"
      ]
     },
     "metadata": {},
     "output_type": "display_data"
    },
    {
     "data": {
      "application/vnd.jupyter.widget-view+json": {
       "model_id": "357665df2a084b6b813188c8106334dc",
       "version_major": 2,
       "version_minor": 0
      },
      "text/plain": [
       "  0%|          | 0/6 [00:00<?, ?it/s]"
      ]
     },
     "metadata": {},
     "output_type": "display_data"
    },
    {
     "data": {
      "application/vnd.jupyter.widget-view+json": {
       "model_id": "5cc172bc597842fc88ff52de55ead943",
       "version_major": 2,
       "version_minor": 0
      },
      "text/plain": [
       "  0%|          | 0/6 [00:00<?, ?it/s]"
      ]
     },
     "metadata": {},
     "output_type": "display_data"
    },
    {
     "data": {
      "application/vnd.jupyter.widget-view+json": {
       "model_id": "e4984295ebaa4a38bda3b6673d4979be",
       "version_major": 2,
       "version_minor": 0
      },
      "text/plain": [
       "  0%|          | 0/6 [00:00<?, ?it/s]"
      ]
     },
     "metadata": {},
     "output_type": "display_data"
    },
    {
     "data": {
      "application/vnd.jupyter.widget-view+json": {
       "model_id": "f11cefa85db243d0b73c056b1e65d754",
       "version_major": 2,
       "version_minor": 0
      },
      "text/plain": [
       "  0%|          | 0/6 [00:00<?, ?it/s]"
      ]
     },
     "metadata": {},
     "output_type": "display_data"
    },
    {
     "data": {
      "application/vnd.jupyter.widget-view+json": {
       "model_id": "d08d907ae29346a988e0507d594ba42f",
       "version_major": 2,
       "version_minor": 0
      },
      "text/plain": [
       "  0%|          | 0/6 [00:00<?, ?it/s]"
      ]
     },
     "metadata": {},
     "output_type": "display_data"
    },
    {
     "data": {
      "application/vnd.jupyter.widget-view+json": {
       "model_id": "f8d40bb4537e47eeb8b0f9023f96c41e",
       "version_major": 2,
       "version_minor": 0
      },
      "text/plain": [
       "  0%|          | 0/6 [00:00<?, ?it/s]"
      ]
     },
     "metadata": {},
     "output_type": "display_data"
    },
    {
     "data": {
      "application/vnd.jupyter.widget-view+json": {
       "model_id": "9a6ae4242a68473eb07be6b11830292a",
       "version_major": 2,
       "version_minor": 0
      },
      "text/plain": [
       "  0%|          | 0/6 [00:00<?, ?it/s]"
      ]
     },
     "metadata": {},
     "output_type": "display_data"
    },
    {
     "data": {
      "application/vnd.jupyter.widget-view+json": {
       "model_id": "b178b65dea1943bbb84ce05679066a68",
       "version_major": 2,
       "version_minor": 0
      },
      "text/plain": [
       "  0%|          | 0/6 [00:00<?, ?it/s]"
      ]
     },
     "metadata": {},
     "output_type": "display_data"
    },
    {
     "data": {
      "application/vnd.jupyter.widget-view+json": {
       "model_id": "1ca1a856071d490e81560fdcc856c689",
       "version_major": 2,
       "version_minor": 0
      },
      "text/plain": [
       "  0%|          | 0/6 [00:00<?, ?it/s]"
      ]
     },
     "metadata": {},
     "output_type": "display_data"
    },
    {
     "data": {
      "application/vnd.jupyter.widget-view+json": {
       "model_id": "514593713f5a44f1a8be2bef99f31608",
       "version_major": 2,
       "version_minor": 0
      },
      "text/plain": [
       "  0%|          | 0/6 [00:00<?, ?it/s]"
      ]
     },
     "metadata": {},
     "output_type": "display_data"
    },
    {
     "data": {
      "application/vnd.jupyter.widget-view+json": {
       "model_id": "0cfe23a17b424cada7d341d253638b77",
       "version_major": 2,
       "version_minor": 0
      },
      "text/plain": [
       "  0%|          | 0/6 [00:00<?, ?it/s]"
      ]
     },
     "metadata": {},
     "output_type": "display_data"
    },
    {
     "data": {
      "application/vnd.jupyter.widget-view+json": {
       "model_id": "1325946ff20c421bbdb075a3a243bf2d",
       "version_major": 2,
       "version_minor": 0
      },
      "text/plain": [
       "  0%|          | 0/6 [00:00<?, ?it/s]"
      ]
     },
     "metadata": {},
     "output_type": "display_data"
    },
    {
     "data": {
      "application/vnd.jupyter.widget-view+json": {
       "model_id": "a269daf109394f798dff5153daebc0ee",
       "version_major": 2,
       "version_minor": 0
      },
      "text/plain": [
       "  0%|          | 0/6 [00:00<?, ?it/s]"
      ]
     },
     "metadata": {},
     "output_type": "display_data"
    },
    {
     "data": {
      "application/vnd.jupyter.widget-view+json": {
       "model_id": "16a64194562746ca84bad3bd0ff118ea",
       "version_major": 2,
       "version_minor": 0
      },
      "text/plain": [
       "  0%|          | 0/6 [00:00<?, ?it/s]"
      ]
     },
     "metadata": {},
     "output_type": "display_data"
    },
    {
     "data": {
      "application/vnd.jupyter.widget-view+json": {
       "model_id": "2b0b2479e9ac44f2a8ce726f960c8185",
       "version_major": 2,
       "version_minor": 0
      },
      "text/plain": [
       "  0%|          | 0/6 [00:00<?, ?it/s]"
      ]
     },
     "metadata": {},
     "output_type": "display_data"
    },
    {
     "data": {
      "application/vnd.jupyter.widget-view+json": {
       "model_id": "ee76c910c7a84667a746f1db89d2685b",
       "version_major": 2,
       "version_minor": 0
      },
      "text/plain": [
       "  0%|          | 0/6 [00:00<?, ?it/s]"
      ]
     },
     "metadata": {},
     "output_type": "display_data"
    },
    {
     "data": {
      "application/vnd.jupyter.widget-view+json": {
       "model_id": "e19562fd49364f5fb8227de1d590800d",
       "version_major": 2,
       "version_minor": 0
      },
      "text/plain": [
       "  0%|          | 0/6 [00:00<?, ?it/s]"
      ]
     },
     "metadata": {},
     "output_type": "display_data"
    },
    {
     "data": {
      "application/vnd.jupyter.widget-view+json": {
       "model_id": "4155539251694442ac67da93c0dd0ec7",
       "version_major": 2,
       "version_minor": 0
      },
      "text/plain": [
       "  0%|          | 0/6 [00:00<?, ?it/s]"
      ]
     },
     "metadata": {},
     "output_type": "display_data"
    },
    {
     "data": {
      "application/vnd.jupyter.widget-view+json": {
       "model_id": "e867903360c644d7aa9bc89b005a7ac0",
       "version_major": 2,
       "version_minor": 0
      },
      "text/plain": [
       "  0%|          | 0/6 [00:00<?, ?it/s]"
      ]
     },
     "metadata": {},
     "output_type": "display_data"
    },
    {
     "data": {
      "application/vnd.jupyter.widget-view+json": {
       "model_id": "7968e608edca426b9facecfc1c9ee3a8",
       "version_major": 2,
       "version_minor": 0
      },
      "text/plain": [
       "  0%|          | 0/6 [00:00<?, ?it/s]"
      ]
     },
     "metadata": {},
     "output_type": "display_data"
    },
    {
     "data": {
      "application/vnd.jupyter.widget-view+json": {
       "model_id": "25ad3c523ac84f72affe101c217d080f",
       "version_major": 2,
       "version_minor": 0
      },
      "text/plain": [
       "  0%|          | 0/6 [00:00<?, ?it/s]"
      ]
     },
     "metadata": {},
     "output_type": "display_data"
    },
    {
     "data": {
      "application/vnd.jupyter.widget-view+json": {
       "model_id": "58da7eb7d5334f69ba46bad2a00f7896",
       "version_major": 2,
       "version_minor": 0
      },
      "text/plain": [
       "  0%|          | 0/6 [00:00<?, ?it/s]"
      ]
     },
     "metadata": {},
     "output_type": "display_data"
    },
    {
     "data": {
      "application/vnd.jupyter.widget-view+json": {
       "model_id": "5b1c6d058ec44205a99517b4db07cc54",
       "version_major": 2,
       "version_minor": 0
      },
      "text/plain": [
       "  0%|          | 0/6 [00:00<?, ?it/s]"
      ]
     },
     "metadata": {},
     "output_type": "display_data"
    },
    {
     "data": {
      "application/vnd.jupyter.widget-view+json": {
       "model_id": "fcf08a44fa5a4412a9aff245ac25c0cd",
       "version_major": 2,
       "version_minor": 0
      },
      "text/plain": [
       "  0%|          | 0/6 [00:00<?, ?it/s]"
      ]
     },
     "metadata": {},
     "output_type": "display_data"
    },
    {
     "data": {
      "application/vnd.jupyter.widget-view+json": {
       "model_id": "8553a5adff55494180aca2dc624a82c7",
       "version_major": 2,
       "version_minor": 0
      },
      "text/plain": [
       "  0%|          | 0/6 [00:00<?, ?it/s]"
      ]
     },
     "metadata": {},
     "output_type": "display_data"
    },
    {
     "data": {
      "application/vnd.jupyter.widget-view+json": {
       "model_id": "07a2a65bd7fe433e8e24ac5e3ace0dc8",
       "version_major": 2,
       "version_minor": 0
      },
      "text/plain": [
       "  0%|          | 0/6 [00:00<?, ?it/s]"
      ]
     },
     "metadata": {},
     "output_type": "display_data"
    },
    {
     "data": {
      "application/vnd.jupyter.widget-view+json": {
       "model_id": "51af1f28effb46f592a2221fe2cb4183",
       "version_major": 2,
       "version_minor": 0
      },
      "text/plain": [
       "  0%|          | 0/6 [00:00<?, ?it/s]"
      ]
     },
     "metadata": {},
     "output_type": "display_data"
    },
    {
     "data": {
      "application/vnd.jupyter.widget-view+json": {
       "model_id": "9798deb1179145a3880fa1e8ed7bd603",
       "version_major": 2,
       "version_minor": 0
      },
      "text/plain": [
       "  0%|          | 0/6 [00:00<?, ?it/s]"
      ]
     },
     "metadata": {},
     "output_type": "display_data"
    },
    {
     "data": {
      "application/vnd.jupyter.widget-view+json": {
       "model_id": "bec70ae3258143b39ec32f51206c183a",
       "version_major": 2,
       "version_minor": 0
      },
      "text/plain": [
       "  0%|          | 0/6 [00:00<?, ?it/s]"
      ]
     },
     "metadata": {},
     "output_type": "display_data"
    },
    {
     "data": {
      "application/vnd.jupyter.widget-view+json": {
       "model_id": "bfb9b1b5b33c4a29bf03241a2fbd310f",
       "version_major": 2,
       "version_minor": 0
      },
      "text/plain": [
       "  0%|          | 0/6 [00:00<?, ?it/s]"
      ]
     },
     "metadata": {},
     "output_type": "display_data"
    },
    {
     "data": {
      "application/vnd.jupyter.widget-view+json": {
       "model_id": "99ce1c51695c4aff9d17e30a0e7f1836",
       "version_major": 2,
       "version_minor": 0
      },
      "text/plain": [
       "  0%|          | 0/6 [00:00<?, ?it/s]"
      ]
     },
     "metadata": {},
     "output_type": "display_data"
    },
    {
     "data": {
      "application/vnd.jupyter.widget-view+json": {
       "model_id": "4d563eadcce443c38c51ea9d95515d0e",
       "version_major": 2,
       "version_minor": 0
      },
      "text/plain": [
       "  0%|          | 0/6 [00:00<?, ?it/s]"
      ]
     },
     "metadata": {},
     "output_type": "display_data"
    },
    {
     "data": {
      "application/vnd.jupyter.widget-view+json": {
       "model_id": "96bad761c4154835a9765881a3be2087",
       "version_major": 2,
       "version_minor": 0
      },
      "text/plain": [
       "  0%|          | 0/6 [00:00<?, ?it/s]"
      ]
     },
     "metadata": {},
     "output_type": "display_data"
    },
    {
     "data": {
      "application/vnd.jupyter.widget-view+json": {
       "model_id": "6bf759cd7d7f449a83c5130035423745",
       "version_major": 2,
       "version_minor": 0
      },
      "text/plain": [
       "  0%|          | 0/6 [00:00<?, ?it/s]"
      ]
     },
     "metadata": {},
     "output_type": "display_data"
    },
    {
     "data": {
      "application/vnd.jupyter.widget-view+json": {
       "model_id": "e9abe020b70d4398ba856f7ffe0b3fd2",
       "version_major": 2,
       "version_minor": 0
      },
      "text/plain": [
       "  0%|          | 0/6 [00:00<?, ?it/s]"
      ]
     },
     "metadata": {},
     "output_type": "display_data"
    },
    {
     "data": {
      "application/vnd.jupyter.widget-view+json": {
       "model_id": "497367b7619f402a9e67b7261bff0cfe",
       "version_major": 2,
       "version_minor": 0
      },
      "text/plain": [
       "  0%|          | 0/6 [00:00<?, ?it/s]"
      ]
     },
     "metadata": {},
     "output_type": "display_data"
    },
    {
     "data": {
      "application/vnd.jupyter.widget-view+json": {
       "model_id": "84888b17802a4d2a92d2ea5c1f382b1a",
       "version_major": 2,
       "version_minor": 0
      },
      "text/plain": [
       "  0%|          | 0/6 [00:00<?, ?it/s]"
      ]
     },
     "metadata": {},
     "output_type": "display_data"
    },
    {
     "data": {
      "application/vnd.jupyter.widget-view+json": {
       "model_id": "0dda96ac8ad340ff9bd0c4a0c8ac0077",
       "version_major": 2,
       "version_minor": 0
      },
      "text/plain": [
       "  0%|          | 0/6 [00:00<?, ?it/s]"
      ]
     },
     "metadata": {},
     "output_type": "display_data"
    },
    {
     "data": {
      "application/vnd.jupyter.widget-view+json": {
       "model_id": "e5a7a48e79c54c0d8ac8acaeefdef9d3",
       "version_major": 2,
       "version_minor": 0
      },
      "text/plain": [
       "  0%|          | 0/6 [00:00<?, ?it/s]"
      ]
     },
     "metadata": {},
     "output_type": "display_data"
    },
    {
     "data": {
      "application/vnd.jupyter.widget-view+json": {
       "model_id": "b90e2442ee0d402b89401b597d6dca8c",
       "version_major": 2,
       "version_minor": 0
      },
      "text/plain": [
       "  0%|          | 0/6 [00:00<?, ?it/s]"
      ]
     },
     "metadata": {},
     "output_type": "display_data"
    },
    {
     "data": {
      "application/vnd.jupyter.widget-view+json": {
       "model_id": "a602ac66a0b544d094b6fc7e9279a9e0",
       "version_major": 2,
       "version_minor": 0
      },
      "text/plain": [
       "Testing special:   0%|          | 0/50 [00:00<?, ?it/s]"
      ]
     },
     "metadata": {},
     "output_type": "display_data"
    },
    {
     "data": {
      "application/vnd.jupyter.widget-view+json": {
       "model_id": "1f3baa6c889a40579e2f3e823f35d583",
       "version_major": 2,
       "version_minor": 0
      },
      "text/plain": [
       "  0%|          | 0/6 [00:00<?, ?it/s]"
      ]
     },
     "metadata": {},
     "output_type": "display_data"
    },
    {
     "data": {
      "application/vnd.jupyter.widget-view+json": {
       "model_id": "cd9dc1aad43b45d39aa5902256b1cf0d",
       "version_major": 2,
       "version_minor": 0
      },
      "text/plain": [
       "  0%|          | 0/6 [00:00<?, ?it/s]"
      ]
     },
     "metadata": {},
     "output_type": "display_data"
    },
    {
     "data": {
      "application/vnd.jupyter.widget-view+json": {
       "model_id": "bb7530d35f2944a8bdd903f6c016148a",
       "version_major": 2,
       "version_minor": 0
      },
      "text/plain": [
       "  0%|          | 0/6 [00:00<?, ?it/s]"
      ]
     },
     "metadata": {},
     "output_type": "display_data"
    },
    {
     "data": {
      "application/vnd.jupyter.widget-view+json": {
       "model_id": "c13f262d60ac45fdbc36bc6c01d80d50",
       "version_major": 2,
       "version_minor": 0
      },
      "text/plain": [
       "  0%|          | 0/6 [00:00<?, ?it/s]"
      ]
     },
     "metadata": {},
     "output_type": "display_data"
    },
    {
     "data": {
      "application/vnd.jupyter.widget-view+json": {
       "model_id": "4310fa139ad046049977c0dbdae10e91",
       "version_major": 2,
       "version_minor": 0
      },
      "text/plain": [
       "  0%|          | 0/6 [00:00<?, ?it/s]"
      ]
     },
     "metadata": {},
     "output_type": "display_data"
    },
    {
     "data": {
      "application/vnd.jupyter.widget-view+json": {
       "model_id": "0619fabd39e24bff936d655f984350c0",
       "version_major": 2,
       "version_minor": 0
      },
      "text/plain": [
       "  0%|          | 0/6 [00:00<?, ?it/s]"
      ]
     },
     "metadata": {},
     "output_type": "display_data"
    },
    {
     "data": {
      "application/vnd.jupyter.widget-view+json": {
       "model_id": "471ce60300dd468bb544a7b6d9c821f7",
       "version_major": 2,
       "version_minor": 0
      },
      "text/plain": [
       "  0%|          | 0/6 [00:00<?, ?it/s]"
      ]
     },
     "metadata": {},
     "output_type": "display_data"
    },
    {
     "data": {
      "application/vnd.jupyter.widget-view+json": {
       "model_id": "1a0dee8b11bb4f2f8da2bca979078bcf",
       "version_major": 2,
       "version_minor": 0
      },
      "text/plain": [
       "  0%|          | 0/6 [00:00<?, ?it/s]"
      ]
     },
     "metadata": {},
     "output_type": "display_data"
    },
    {
     "data": {
      "application/vnd.jupyter.widget-view+json": {
       "model_id": "5894eeaa283942acb7616d3df705816e",
       "version_major": 2,
       "version_minor": 0
      },
      "text/plain": [
       "  0%|          | 0/6 [00:00<?, ?it/s]"
      ]
     },
     "metadata": {},
     "output_type": "display_data"
    },
    {
     "data": {
      "application/vnd.jupyter.widget-view+json": {
       "model_id": "72ac0caccbd44bbaa1d69c0733fb2ea9",
       "version_major": 2,
       "version_minor": 0
      },
      "text/plain": [
       "  0%|          | 0/6 [00:00<?, ?it/s]"
      ]
     },
     "metadata": {},
     "output_type": "display_data"
    },
    {
     "data": {
      "application/vnd.jupyter.widget-view+json": {
       "model_id": "7844c0fa446743ebad11ec1b142f2207",
       "version_major": 2,
       "version_minor": 0
      },
      "text/plain": [
       "  0%|          | 0/6 [00:00<?, ?it/s]"
      ]
     },
     "metadata": {},
     "output_type": "display_data"
    },
    {
     "data": {
      "application/vnd.jupyter.widget-view+json": {
       "model_id": "01f5d94209ed42c88fa94837af6a4619",
       "version_major": 2,
       "version_minor": 0
      },
      "text/plain": [
       "  0%|          | 0/6 [00:00<?, ?it/s]"
      ]
     },
     "metadata": {},
     "output_type": "display_data"
    },
    {
     "data": {
      "application/vnd.jupyter.widget-view+json": {
       "model_id": "d9e17e3727434331a268a64c505dfa6e",
       "version_major": 2,
       "version_minor": 0
      },
      "text/plain": [
       "  0%|          | 0/6 [00:00<?, ?it/s]"
      ]
     },
     "metadata": {},
     "output_type": "display_data"
    },
    {
     "data": {
      "application/vnd.jupyter.widget-view+json": {
       "model_id": "f947665379134b2793238020b915b923",
       "version_major": 2,
       "version_minor": 0
      },
      "text/plain": [
       "  0%|          | 0/6 [00:00<?, ?it/s]"
      ]
     },
     "metadata": {},
     "output_type": "display_data"
    },
    {
     "data": {
      "application/vnd.jupyter.widget-view+json": {
       "model_id": "4d58bb866a53481e8d5fc63361e8331c",
       "version_major": 2,
       "version_minor": 0
      },
      "text/plain": [
       "  0%|          | 0/6 [00:00<?, ?it/s]"
      ]
     },
     "metadata": {},
     "output_type": "display_data"
    },
    {
     "data": {
      "application/vnd.jupyter.widget-view+json": {
       "model_id": "b329137684dd435c9c604fa9ab4cab71",
       "version_major": 2,
       "version_minor": 0
      },
      "text/plain": [
       "  0%|          | 0/6 [00:00<?, ?it/s]"
      ]
     },
     "metadata": {},
     "output_type": "display_data"
    },
    {
     "data": {
      "application/vnd.jupyter.widget-view+json": {
       "model_id": "40d43f54e9a84aaeb219a411e16f0816",
       "version_major": 2,
       "version_minor": 0
      },
      "text/plain": [
       "  0%|          | 0/6 [00:00<?, ?it/s]"
      ]
     },
     "metadata": {},
     "output_type": "display_data"
    },
    {
     "data": {
      "application/vnd.jupyter.widget-view+json": {
       "model_id": "f85fa872c6e64f32947878f1375babb5",
       "version_major": 2,
       "version_minor": 0
      },
      "text/plain": [
       "  0%|          | 0/6 [00:00<?, ?it/s]"
      ]
     },
     "metadata": {},
     "output_type": "display_data"
    },
    {
     "data": {
      "application/vnd.jupyter.widget-view+json": {
       "model_id": "1554cbab7d234b399f6a7ff242389225",
       "version_major": 2,
       "version_minor": 0
      },
      "text/plain": [
       "  0%|          | 0/6 [00:00<?, ?it/s]"
      ]
     },
     "metadata": {},
     "output_type": "display_data"
    },
    {
     "data": {
      "application/vnd.jupyter.widget-view+json": {
       "model_id": "46449f40dd844cd7a6b0e0e92662eaa0",
       "version_major": 2,
       "version_minor": 0
      },
      "text/plain": [
       "  0%|          | 0/6 [00:00<?, ?it/s]"
      ]
     },
     "metadata": {},
     "output_type": "display_data"
    },
    {
     "data": {
      "application/vnd.jupyter.widget-view+json": {
       "model_id": "7458ccc2606d4dc2ae17cb32faf7ae6b",
       "version_major": 2,
       "version_minor": 0
      },
      "text/plain": [
       "  0%|          | 0/6 [00:00<?, ?it/s]"
      ]
     },
     "metadata": {},
     "output_type": "display_data"
    },
    {
     "data": {
      "application/vnd.jupyter.widget-view+json": {
       "model_id": "e72fcf969ea14c91a416378fc4516c37",
       "version_major": 2,
       "version_minor": 0
      },
      "text/plain": [
       "  0%|          | 0/6 [00:00<?, ?it/s]"
      ]
     },
     "metadata": {},
     "output_type": "display_data"
    },
    {
     "data": {
      "application/vnd.jupyter.widget-view+json": {
       "model_id": "b9abcd2e79cb404f9c7f89d7f842cd0e",
       "version_major": 2,
       "version_minor": 0
      },
      "text/plain": [
       "  0%|          | 0/6 [00:00<?, ?it/s]"
      ]
     },
     "metadata": {},
     "output_type": "display_data"
    },
    {
     "data": {
      "application/vnd.jupyter.widget-view+json": {
       "model_id": "4a0aa3ee037d4db6a639b6c9984b514e",
       "version_major": 2,
       "version_minor": 0
      },
      "text/plain": [
       "  0%|          | 0/6 [00:00<?, ?it/s]"
      ]
     },
     "metadata": {},
     "output_type": "display_data"
    },
    {
     "data": {
      "application/vnd.jupyter.widget-view+json": {
       "model_id": "8d1d0d82fede4558be954de67b33b298",
       "version_major": 2,
       "version_minor": 0
      },
      "text/plain": [
       "  0%|          | 0/6 [00:00<?, ?it/s]"
      ]
     },
     "metadata": {},
     "output_type": "display_data"
    },
    {
     "data": {
      "application/vnd.jupyter.widget-view+json": {
       "model_id": "a652290d4f6548c78b7c9b78f8dc488e",
       "version_major": 2,
       "version_minor": 0
      },
      "text/plain": [
       "  0%|          | 0/6 [00:00<?, ?it/s]"
      ]
     },
     "metadata": {},
     "output_type": "display_data"
    },
    {
     "data": {
      "application/vnd.jupyter.widget-view+json": {
       "model_id": "6e785b528b6e47d3b90e1c8b9103447b",
       "version_major": 2,
       "version_minor": 0
      },
      "text/plain": [
       "  0%|          | 0/6 [00:00<?, ?it/s]"
      ]
     },
     "metadata": {},
     "output_type": "display_data"
    },
    {
     "data": {
      "application/vnd.jupyter.widget-view+json": {
       "model_id": "7146863138a943a4bd7988bc8cb4d2c7",
       "version_major": 2,
       "version_minor": 0
      },
      "text/plain": [
       "  0%|          | 0/6 [00:00<?, ?it/s]"
      ]
     },
     "metadata": {},
     "output_type": "display_data"
    },
    {
     "data": {
      "application/vnd.jupyter.widget-view+json": {
       "model_id": "5ce138a903d94db8934a19f4c133047d",
       "version_major": 2,
       "version_minor": 0
      },
      "text/plain": [
       "  0%|          | 0/6 [00:00<?, ?it/s]"
      ]
     },
     "metadata": {},
     "output_type": "display_data"
    },
    {
     "data": {
      "application/vnd.jupyter.widget-view+json": {
       "model_id": "87b0066d2a2e48d9a8c87f9456c6c45f",
       "version_major": 2,
       "version_minor": 0
      },
      "text/plain": [
       "  0%|          | 0/6 [00:00<?, ?it/s]"
      ]
     },
     "metadata": {},
     "output_type": "display_data"
    },
    {
     "data": {
      "application/vnd.jupyter.widget-view+json": {
       "model_id": "c76b84f98ea544e69babfb3f805da51d",
       "version_major": 2,
       "version_minor": 0
      },
      "text/plain": [
       "  0%|          | 0/6 [00:00<?, ?it/s]"
      ]
     },
     "metadata": {},
     "output_type": "display_data"
    },
    {
     "data": {
      "application/vnd.jupyter.widget-view+json": {
       "model_id": "fa56fec7c05147c8a370c1901f70566d",
       "version_major": 2,
       "version_minor": 0
      },
      "text/plain": [
       "  0%|          | 0/6 [00:00<?, ?it/s]"
      ]
     },
     "metadata": {},
     "output_type": "display_data"
    },
    {
     "data": {
      "application/vnd.jupyter.widget-view+json": {
       "model_id": "54b4148bc5004fa7a91132d405f55095",
       "version_major": 2,
       "version_minor": 0
      },
      "text/plain": [
       "  0%|          | 0/6 [00:00<?, ?it/s]"
      ]
     },
     "metadata": {},
     "output_type": "display_data"
    },
    {
     "data": {
      "application/vnd.jupyter.widget-view+json": {
       "model_id": "d5a7f60ef2d24de6a729aa1beb2eebb9",
       "version_major": 2,
       "version_minor": 0
      },
      "text/plain": [
       "  0%|          | 0/6 [00:00<?, ?it/s]"
      ]
     },
     "metadata": {},
     "output_type": "display_data"
    },
    {
     "data": {
      "application/vnd.jupyter.widget-view+json": {
       "model_id": "35110425402245b4886c3f34222ba100",
       "version_major": 2,
       "version_minor": 0
      },
      "text/plain": [
       "  0%|          | 0/6 [00:00<?, ?it/s]"
      ]
     },
     "metadata": {},
     "output_type": "display_data"
    },
    {
     "data": {
      "application/vnd.jupyter.widget-view+json": {
       "model_id": "1852f76318b44fe39cf460a70e2bcfd2",
       "version_major": 2,
       "version_minor": 0
      },
      "text/plain": [
       "  0%|          | 0/6 [00:00<?, ?it/s]"
      ]
     },
     "metadata": {},
     "output_type": "display_data"
    },
    {
     "data": {
      "application/vnd.jupyter.widget-view+json": {
       "model_id": "06e254357e10428884a36604d5d348f2",
       "version_major": 2,
       "version_minor": 0
      },
      "text/plain": [
       "  0%|          | 0/6 [00:00<?, ?it/s]"
      ]
     },
     "metadata": {},
     "output_type": "display_data"
    },
    {
     "data": {
      "application/vnd.jupyter.widget-view+json": {
       "model_id": "b67b95e897104ddab4552f261b1d047c",
       "version_major": 2,
       "version_minor": 0
      },
      "text/plain": [
       "  0%|          | 0/6 [00:00<?, ?it/s]"
      ]
     },
     "metadata": {},
     "output_type": "display_data"
    },
    {
     "data": {
      "application/vnd.jupyter.widget-view+json": {
       "model_id": "927e9b69f25546a0a3b361e5e7046bff",
       "version_major": 2,
       "version_minor": 0
      },
      "text/plain": [
       "  0%|          | 0/6 [00:00<?, ?it/s]"
      ]
     },
     "metadata": {},
     "output_type": "display_data"
    },
    {
     "data": {
      "application/vnd.jupyter.widget-view+json": {
       "model_id": "26094dfc4d0b4bf889eb615680aec1ff",
       "version_major": 2,
       "version_minor": 0
      },
      "text/plain": [
       "  0%|          | 0/6 [00:00<?, ?it/s]"
      ]
     },
     "metadata": {},
     "output_type": "display_data"
    },
    {
     "data": {
      "application/vnd.jupyter.widget-view+json": {
       "model_id": "87f02af315ac4820b8103b0e4ca3d4e9",
       "version_major": 2,
       "version_minor": 0
      },
      "text/plain": [
       "  0%|          | 0/6 [00:00<?, ?it/s]"
      ]
     },
     "metadata": {},
     "output_type": "display_data"
    },
    {
     "data": {
      "application/vnd.jupyter.widget-view+json": {
       "model_id": "25722a2edec742bdbca5eb342c3b6db1",
       "version_major": 2,
       "version_minor": 0
      },
      "text/plain": [
       "  0%|          | 0/6 [00:00<?, ?it/s]"
      ]
     },
     "metadata": {},
     "output_type": "display_data"
    },
    {
     "data": {
      "application/vnd.jupyter.widget-view+json": {
       "model_id": "771042865db047e1a1374c2bbdb93b59",
       "version_major": 2,
       "version_minor": 0
      },
      "text/plain": [
       "  0%|          | 0/6 [00:00<?, ?it/s]"
      ]
     },
     "metadata": {},
     "output_type": "display_data"
    },
    {
     "data": {
      "application/vnd.jupyter.widget-view+json": {
       "model_id": "66551e722c004df09bb1d96322adf370",
       "version_major": 2,
       "version_minor": 0
      },
      "text/plain": [
       "  0%|          | 0/6 [00:00<?, ?it/s]"
      ]
     },
     "metadata": {},
     "output_type": "display_data"
    },
    {
     "data": {
      "application/vnd.jupyter.widget-view+json": {
       "model_id": "b8bbe48ee9a3447886f7136d6850ceda",
       "version_major": 2,
       "version_minor": 0
      },
      "text/plain": [
       "  0%|          | 0/6 [00:00<?, ?it/s]"
      ]
     },
     "metadata": {},
     "output_type": "display_data"
    },
    {
     "data": {
      "application/vnd.jupyter.widget-view+json": {
       "model_id": "47e4dd0707b94c3abe4c815c5b1cc867",
       "version_major": 2,
       "version_minor": 0
      },
      "text/plain": [
       "  0%|          | 0/6 [00:00<?, ?it/s]"
      ]
     },
     "metadata": {},
     "output_type": "display_data"
    },
    {
     "data": {
      "application/vnd.jupyter.widget-view+json": {
       "model_id": "90d583ab6819460a9b4a504189257dbf",
       "version_major": 2,
       "version_minor": 0
      },
      "text/plain": [
       "  0%|          | 0/6 [00:00<?, ?it/s]"
      ]
     },
     "metadata": {},
     "output_type": "display_data"
    },
    {
     "data": {
      "application/vnd.jupyter.widget-view+json": {
       "model_id": "f502f79406f24e1cb5e1c580138678b0",
       "version_major": 2,
       "version_minor": 0
      },
      "text/plain": [
       "  0%|          | 0/6 [00:00<?, ?it/s]"
      ]
     },
     "metadata": {},
     "output_type": "display_data"
    },
    {
     "data": {
      "application/vnd.jupyter.widget-view+json": {
       "model_id": "cd4a6e17fdd94b1ea0ad67fa4f2d9b60",
       "version_major": 2,
       "version_minor": 0
      },
      "text/plain": [
       "  0%|          | 0/6 [00:00<?, ?it/s]"
      ]
     },
     "metadata": {},
     "output_type": "display_data"
    },
    {
     "data": {
      "application/vnd.jupyter.widget-view+json": {
       "model_id": "637e302c843d4829ad8205eb8b48f413",
       "version_major": 2,
       "version_minor": 0
      },
      "text/plain": [
       "  0%|          | 0/6 [00:00<?, ?it/s]"
      ]
     },
     "metadata": {},
     "output_type": "display_data"
    },
    {
     "data": {
      "application/vnd.jupyter.widget-view+json": {
       "model_id": "52c29f6107f8421f98802a9e870d5a2d",
       "version_major": 2,
       "version_minor": 0
      },
      "text/plain": [
       "Testing types:   0%|          | 0/2 [00:00<?, ?it/s]"
      ]
     },
     "metadata": {},
     "output_type": "display_data"
    },
    {
     "data": {
      "application/vnd.jupyter.widget-view+json": {
       "model_id": "14af44b396b8473fa2326e05d97ad4ad",
       "version_major": 2,
       "version_minor": 0
      },
      "text/plain": [
       "Testing numeric:   0%|          | 0/50 [00:00<?, ?it/s]"
      ]
     },
     "metadata": {},
     "output_type": "display_data"
    },
    {
     "data": {
      "application/vnd.jupyter.widget-view+json": {
       "model_id": "cc11eff3307c4cf3b15d2462c9d9029a",
       "version_major": 2,
       "version_minor": 0
      },
      "text/plain": [
       "  0%|          | 0/6 [00:00<?, ?it/s]"
      ]
     },
     "metadata": {},
     "output_type": "display_data"
    },
    {
     "data": {
      "application/vnd.jupyter.widget-view+json": {
       "model_id": "6e5412ebb435495d9b99a4213bf7f344",
       "version_major": 2,
       "version_minor": 0
      },
      "text/plain": [
       "  0%|          | 0/6 [00:00<?, ?it/s]"
      ]
     },
     "metadata": {},
     "output_type": "display_data"
    },
    {
     "data": {
      "application/vnd.jupyter.widget-view+json": {
       "model_id": "7492fb25e3904b559151a4a02d3b9eb4",
       "version_major": 2,
       "version_minor": 0
      },
      "text/plain": [
       "  0%|          | 0/6 [00:00<?, ?it/s]"
      ]
     },
     "metadata": {},
     "output_type": "display_data"
    },
    {
     "data": {
      "application/vnd.jupyter.widget-view+json": {
       "model_id": "6daa408a11d14e1e9993510225438687",
       "version_major": 2,
       "version_minor": 0
      },
      "text/plain": [
       "  0%|          | 0/6 [00:00<?, ?it/s]"
      ]
     },
     "metadata": {},
     "output_type": "display_data"
    },
    {
     "data": {
      "application/vnd.jupyter.widget-view+json": {
       "model_id": "3bec42939a8845f8b8cf63e51860e42c",
       "version_major": 2,
       "version_minor": 0
      },
      "text/plain": [
       "  0%|          | 0/6 [00:00<?, ?it/s]"
      ]
     },
     "metadata": {},
     "output_type": "display_data"
    },
    {
     "data": {
      "application/vnd.jupyter.widget-view+json": {
       "model_id": "a90835f76dc240a483b8693570daf5e8",
       "version_major": 2,
       "version_minor": 0
      },
      "text/plain": [
       "  0%|          | 0/6 [00:00<?, ?it/s]"
      ]
     },
     "metadata": {},
     "output_type": "display_data"
    },
    {
     "data": {
      "application/vnd.jupyter.widget-view+json": {
       "model_id": "228f1185ea944ff0a70c0d35d43ea132",
       "version_major": 2,
       "version_minor": 0
      },
      "text/plain": [
       "  0%|          | 0/6 [00:00<?, ?it/s]"
      ]
     },
     "metadata": {},
     "output_type": "display_data"
    },
    {
     "data": {
      "application/vnd.jupyter.widget-view+json": {
       "model_id": "774422e10a8d4522855a64b7fc668866",
       "version_major": 2,
       "version_minor": 0
      },
      "text/plain": [
       "  0%|          | 0/6 [00:00<?, ?it/s]"
      ]
     },
     "metadata": {},
     "output_type": "display_data"
    },
    {
     "data": {
      "application/vnd.jupyter.widget-view+json": {
       "model_id": "bc14d494ec9048efae696f640db4ec32",
       "version_major": 2,
       "version_minor": 0
      },
      "text/plain": [
       "  0%|          | 0/6 [00:00<?, ?it/s]"
      ]
     },
     "metadata": {},
     "output_type": "display_data"
    },
    {
     "data": {
      "application/vnd.jupyter.widget-view+json": {
       "model_id": "75e07a144be443d48572099c48985d5e",
       "version_major": 2,
       "version_minor": 0
      },
      "text/plain": [
       "  0%|          | 0/6 [00:00<?, ?it/s]"
      ]
     },
     "metadata": {},
     "output_type": "display_data"
    },
    {
     "data": {
      "application/vnd.jupyter.widget-view+json": {
       "model_id": "6f1d0283acac49bfbe6f5e2704608c2b",
       "version_major": 2,
       "version_minor": 0
      },
      "text/plain": [
       "  0%|          | 0/6 [00:00<?, ?it/s]"
      ]
     },
     "metadata": {},
     "output_type": "display_data"
    },
    {
     "data": {
      "application/vnd.jupyter.widget-view+json": {
       "model_id": "00c7545b3941470d88f6a1d7b555c3da",
       "version_major": 2,
       "version_minor": 0
      },
      "text/plain": [
       "  0%|          | 0/6 [00:00<?, ?it/s]"
      ]
     },
     "metadata": {},
     "output_type": "display_data"
    },
    {
     "data": {
      "application/vnd.jupyter.widget-view+json": {
       "model_id": "0427cd8015fb45778b76dded43343228",
       "version_major": 2,
       "version_minor": 0
      },
      "text/plain": [
       "  0%|          | 0/6 [00:00<?, ?it/s]"
      ]
     },
     "metadata": {},
     "output_type": "display_data"
    },
    {
     "data": {
      "application/vnd.jupyter.widget-view+json": {
       "model_id": "39a0de999411403fa2a87534efd1b573",
       "version_major": 2,
       "version_minor": 0
      },
      "text/plain": [
       "  0%|          | 0/6 [00:00<?, ?it/s]"
      ]
     },
     "metadata": {},
     "output_type": "display_data"
    },
    {
     "data": {
      "application/vnd.jupyter.widget-view+json": {
       "model_id": "a0650402a98c49c6b7f417cf008c7329",
       "version_major": 2,
       "version_minor": 0
      },
      "text/plain": [
       "  0%|          | 0/6 [00:00<?, ?it/s]"
      ]
     },
     "metadata": {},
     "output_type": "display_data"
    },
    {
     "data": {
      "application/vnd.jupyter.widget-view+json": {
       "model_id": "b187610eab924455959a69ab378f3d9a",
       "version_major": 2,
       "version_minor": 0
      },
      "text/plain": [
       "  0%|          | 0/6 [00:00<?, ?it/s]"
      ]
     },
     "metadata": {},
     "output_type": "display_data"
    },
    {
     "data": {
      "application/vnd.jupyter.widget-view+json": {
       "model_id": "c231fb147a2d4b01a81276e2216c455f",
       "version_major": 2,
       "version_minor": 0
      },
      "text/plain": [
       "  0%|          | 0/6 [00:00<?, ?it/s]"
      ]
     },
     "metadata": {},
     "output_type": "display_data"
    },
    {
     "data": {
      "application/vnd.jupyter.widget-view+json": {
       "model_id": "710c2f3700c8443ab4d4ef80a54c7458",
       "version_major": 2,
       "version_minor": 0
      },
      "text/plain": [
       "  0%|          | 0/6 [00:00<?, ?it/s]"
      ]
     },
     "metadata": {},
     "output_type": "display_data"
    },
    {
     "data": {
      "application/vnd.jupyter.widget-view+json": {
       "model_id": "4947e99918914f51b778f5e480642253",
       "version_major": 2,
       "version_minor": 0
      },
      "text/plain": [
       "  0%|          | 0/6 [00:00<?, ?it/s]"
      ]
     },
     "metadata": {},
     "output_type": "display_data"
    },
    {
     "data": {
      "application/vnd.jupyter.widget-view+json": {
       "model_id": "6fbfd4bef43d440d98626a81faad9296",
       "version_major": 2,
       "version_minor": 0
      },
      "text/plain": [
       "  0%|          | 0/6 [00:00<?, ?it/s]"
      ]
     },
     "metadata": {},
     "output_type": "display_data"
    },
    {
     "data": {
      "application/vnd.jupyter.widget-view+json": {
       "model_id": "14f18ed60b584bc3b85e8e2690bd06e5",
       "version_major": 2,
       "version_minor": 0
      },
      "text/plain": [
       "  0%|          | 0/6 [00:00<?, ?it/s]"
      ]
     },
     "metadata": {},
     "output_type": "display_data"
    },
    {
     "data": {
      "application/vnd.jupyter.widget-view+json": {
       "model_id": "1e749b59ce694e9c95157c3e2ca93a25",
       "version_major": 2,
       "version_minor": 0
      },
      "text/plain": [
       "  0%|          | 0/6 [00:00<?, ?it/s]"
      ]
     },
     "metadata": {},
     "output_type": "display_data"
    },
    {
     "data": {
      "application/vnd.jupyter.widget-view+json": {
       "model_id": "888aa38331614d6cb83813778bc04621",
       "version_major": 2,
       "version_minor": 0
      },
      "text/plain": [
       "  0%|          | 0/6 [00:00<?, ?it/s]"
      ]
     },
     "metadata": {},
     "output_type": "display_data"
    },
    {
     "data": {
      "application/vnd.jupyter.widget-view+json": {
       "model_id": "3776fed9907c42cfa1e28b339fc589c6",
       "version_major": 2,
       "version_minor": 0
      },
      "text/plain": [
       "  0%|          | 0/6 [00:00<?, ?it/s]"
      ]
     },
     "metadata": {},
     "output_type": "display_data"
    },
    {
     "data": {
      "application/vnd.jupyter.widget-view+json": {
       "model_id": "039b357b0d13475a8c1c12d486348aab",
       "version_major": 2,
       "version_minor": 0
      },
      "text/plain": [
       "  0%|          | 0/6 [00:00<?, ?it/s]"
      ]
     },
     "metadata": {},
     "output_type": "display_data"
    },
    {
     "data": {
      "application/vnd.jupyter.widget-view+json": {
       "model_id": "f6acac767ce444c28ec9aacb101418bb",
       "version_major": 2,
       "version_minor": 0
      },
      "text/plain": [
       "  0%|          | 0/6 [00:00<?, ?it/s]"
      ]
     },
     "metadata": {},
     "output_type": "display_data"
    },
    {
     "data": {
      "application/vnd.jupyter.widget-view+json": {
       "model_id": "94a68983c18a4bf496ebb38e14399504",
       "version_major": 2,
       "version_minor": 0
      },
      "text/plain": [
       "  0%|          | 0/6 [00:00<?, ?it/s]"
      ]
     },
     "metadata": {},
     "output_type": "display_data"
    },
    {
     "data": {
      "application/vnd.jupyter.widget-view+json": {
       "model_id": "eacc4fcada8e40d39d6ed92734c011b1",
       "version_major": 2,
       "version_minor": 0
      },
      "text/plain": [
       "  0%|          | 0/6 [00:00<?, ?it/s]"
      ]
     },
     "metadata": {},
     "output_type": "display_data"
    },
    {
     "data": {
      "application/vnd.jupyter.widget-view+json": {
       "model_id": "d4d6f4a3ac854729ae5cfd73daf5a870",
       "version_major": 2,
       "version_minor": 0
      },
      "text/plain": [
       "  0%|          | 0/6 [00:00<?, ?it/s]"
      ]
     },
     "metadata": {},
     "output_type": "display_data"
    },
    {
     "data": {
      "application/vnd.jupyter.widget-view+json": {
       "model_id": "5db1008054894a2fb62af7eab22d7509",
       "version_major": 2,
       "version_minor": 0
      },
      "text/plain": [
       "  0%|          | 0/6 [00:00<?, ?it/s]"
      ]
     },
     "metadata": {},
     "output_type": "display_data"
    },
    {
     "data": {
      "application/vnd.jupyter.widget-view+json": {
       "model_id": "727dd85b9cb749a7b2647ac3d867f843",
       "version_major": 2,
       "version_minor": 0
      },
      "text/plain": [
       "  0%|          | 0/6 [00:00<?, ?it/s]"
      ]
     },
     "metadata": {},
     "output_type": "display_data"
    },
    {
     "data": {
      "application/vnd.jupyter.widget-view+json": {
       "model_id": "d051a4a7dc4b48608ba0343fcd585c42",
       "version_major": 2,
       "version_minor": 0
      },
      "text/plain": [
       "  0%|          | 0/6 [00:00<?, ?it/s]"
      ]
     },
     "metadata": {},
     "output_type": "display_data"
    },
    {
     "data": {
      "application/vnd.jupyter.widget-view+json": {
       "model_id": "21ca6ea0df0243459c6260ef02927f87",
       "version_major": 2,
       "version_minor": 0
      },
      "text/plain": [
       "  0%|          | 0/6 [00:00<?, ?it/s]"
      ]
     },
     "metadata": {},
     "output_type": "display_data"
    },
    {
     "data": {
      "application/vnd.jupyter.widget-view+json": {
       "model_id": "4c58083279964ac7bc0c377d705a5113",
       "version_major": 2,
       "version_minor": 0
      },
      "text/plain": [
       "  0%|          | 0/6 [00:00<?, ?it/s]"
      ]
     },
     "metadata": {},
     "output_type": "display_data"
    },
    {
     "data": {
      "application/vnd.jupyter.widget-view+json": {
       "model_id": "87c12165fff7430681a6f4ea4486f136",
       "version_major": 2,
       "version_minor": 0
      },
      "text/plain": [
       "  0%|          | 0/6 [00:00<?, ?it/s]"
      ]
     },
     "metadata": {},
     "output_type": "display_data"
    },
    {
     "data": {
      "application/vnd.jupyter.widget-view+json": {
       "model_id": "451c775bff8841e29b30ac8f0114dd73",
       "version_major": 2,
       "version_minor": 0
      },
      "text/plain": [
       "  0%|          | 0/6 [00:00<?, ?it/s]"
      ]
     },
     "metadata": {},
     "output_type": "display_data"
    },
    {
     "data": {
      "application/vnd.jupyter.widget-view+json": {
       "model_id": "a7862616446341aabfa327000476ac4a",
       "version_major": 2,
       "version_minor": 0
      },
      "text/plain": [
       "  0%|          | 0/6 [00:00<?, ?it/s]"
      ]
     },
     "metadata": {},
     "output_type": "display_data"
    },
    {
     "data": {
      "application/vnd.jupyter.widget-view+json": {
       "model_id": "7271279526f04660bc601bf15cee014b",
       "version_major": 2,
       "version_minor": 0
      },
      "text/plain": [
       "  0%|          | 0/6 [00:00<?, ?it/s]"
      ]
     },
     "metadata": {},
     "output_type": "display_data"
    },
    {
     "data": {
      "application/vnd.jupyter.widget-view+json": {
       "model_id": "764987d8985f4e269458f2706714bbfb",
       "version_major": 2,
       "version_minor": 0
      },
      "text/plain": [
       "  0%|          | 0/6 [00:00<?, ?it/s]"
      ]
     },
     "metadata": {},
     "output_type": "display_data"
    },
    {
     "data": {
      "application/vnd.jupyter.widget-view+json": {
       "model_id": "f6e2e8e32ca54367b98ecae5681fd994",
       "version_major": 2,
       "version_minor": 0
      },
      "text/plain": [
       "  0%|          | 0/6 [00:00<?, ?it/s]"
      ]
     },
     "metadata": {},
     "output_type": "display_data"
    },
    {
     "data": {
      "application/vnd.jupyter.widget-view+json": {
       "model_id": "256108ea86694dba8b9222fcb398339d",
       "version_major": 2,
       "version_minor": 0
      },
      "text/plain": [
       "  0%|          | 0/6 [00:00<?, ?it/s]"
      ]
     },
     "metadata": {},
     "output_type": "display_data"
    },
    {
     "data": {
      "application/vnd.jupyter.widget-view+json": {
       "model_id": "4c0d4b7963944c77b6d2f3344dc80e93",
       "version_major": 2,
       "version_minor": 0
      },
      "text/plain": [
       "  0%|          | 0/6 [00:00<?, ?it/s]"
      ]
     },
     "metadata": {},
     "output_type": "display_data"
    },
    {
     "data": {
      "application/vnd.jupyter.widget-view+json": {
       "model_id": "6662363b545149bd8c0dd4670196ec59",
       "version_major": 2,
       "version_minor": 0
      },
      "text/plain": [
       "  0%|          | 0/6 [00:00<?, ?it/s]"
      ]
     },
     "metadata": {},
     "output_type": "display_data"
    },
    {
     "data": {
      "application/vnd.jupyter.widget-view+json": {
       "model_id": "fac297a136c641baa273438a0f6ed3f9",
       "version_major": 2,
       "version_minor": 0
      },
      "text/plain": [
       "  0%|          | 0/6 [00:00<?, ?it/s]"
      ]
     },
     "metadata": {},
     "output_type": "display_data"
    },
    {
     "data": {
      "application/vnd.jupyter.widget-view+json": {
       "model_id": "5e715c6f175a4245b663391c2af1c856",
       "version_major": 2,
       "version_minor": 0
      },
      "text/plain": [
       "  0%|          | 0/6 [00:00<?, ?it/s]"
      ]
     },
     "metadata": {},
     "output_type": "display_data"
    },
    {
     "data": {
      "application/vnd.jupyter.widget-view+json": {
       "model_id": "c2bc013adb0d439c8458e9dfe50c06cc",
       "version_major": 2,
       "version_minor": 0
      },
      "text/plain": [
       "  0%|          | 0/6 [00:00<?, ?it/s]"
      ]
     },
     "metadata": {},
     "output_type": "display_data"
    },
    {
     "data": {
      "application/vnd.jupyter.widget-view+json": {
       "model_id": "2a6cbd42b7224620877d2aeb73350e00",
       "version_major": 2,
       "version_minor": 0
      },
      "text/plain": [
       "  0%|          | 0/6 [00:00<?, ?it/s]"
      ]
     },
     "metadata": {},
     "output_type": "display_data"
    },
    {
     "data": {
      "application/vnd.jupyter.widget-view+json": {
       "model_id": "b3d30e9703124568b8eb978b8a01f700",
       "version_major": 2,
       "version_minor": 0
      },
      "text/plain": [
       "  0%|          | 0/6 [00:00<?, ?it/s]"
      ]
     },
     "metadata": {},
     "output_type": "display_data"
    },
    {
     "data": {
      "application/vnd.jupyter.widget-view+json": {
       "model_id": "f8eb8584c73149ad87c2a38288158188",
       "version_major": 2,
       "version_minor": 0
      },
      "text/plain": [
       "  0%|          | 0/6 [00:00<?, ?it/s]"
      ]
     },
     "metadata": {},
     "output_type": "display_data"
    },
    {
     "data": {
      "application/vnd.jupyter.widget-view+json": {
       "model_id": "edf3949249b344da92addec94001f300",
       "version_major": 2,
       "version_minor": 0
      },
      "text/plain": [
       "  0%|          | 0/6 [00:00<?, ?it/s]"
      ]
     },
     "metadata": {},
     "output_type": "display_data"
    },
    {
     "data": {
      "application/vnd.jupyter.widget-view+json": {
       "model_id": "f972372611384554b115ae9661c5a00f",
       "version_major": 2,
       "version_minor": 0
      },
      "text/plain": [
       "Testing special:   0%|          | 0/50 [00:00<?, ?it/s]"
      ]
     },
     "metadata": {},
     "output_type": "display_data"
    },
    {
     "data": {
      "application/vnd.jupyter.widget-view+json": {
       "model_id": "3f028fe3e2b84cae8af4d511a2ed51c0",
       "version_major": 2,
       "version_minor": 0
      },
      "text/plain": [
       "  0%|          | 0/6 [00:00<?, ?it/s]"
      ]
     },
     "metadata": {},
     "output_type": "display_data"
    },
    {
     "data": {
      "application/vnd.jupyter.widget-view+json": {
       "model_id": "0b1ad62c1672479a93ae05fc8ec1d7db",
       "version_major": 2,
       "version_minor": 0
      },
      "text/plain": [
       "  0%|          | 0/6 [00:00<?, ?it/s]"
      ]
     },
     "metadata": {},
     "output_type": "display_data"
    },
    {
     "data": {
      "application/vnd.jupyter.widget-view+json": {
       "model_id": "e0b69d392fb248738fe8655ee0e12ffa",
       "version_major": 2,
       "version_minor": 0
      },
      "text/plain": [
       "  0%|          | 0/6 [00:00<?, ?it/s]"
      ]
     },
     "metadata": {},
     "output_type": "display_data"
    },
    {
     "data": {
      "application/vnd.jupyter.widget-view+json": {
       "model_id": "4023278c14d246eea78ae313ebb7b881",
       "version_major": 2,
       "version_minor": 0
      },
      "text/plain": [
       "  0%|          | 0/6 [00:00<?, ?it/s]"
      ]
     },
     "metadata": {},
     "output_type": "display_data"
    },
    {
     "data": {
      "application/vnd.jupyter.widget-view+json": {
       "model_id": "ffec2ac11230491396b7a3f42321db57",
       "version_major": 2,
       "version_minor": 0
      },
      "text/plain": [
       "  0%|          | 0/6 [00:00<?, ?it/s]"
      ]
     },
     "metadata": {},
     "output_type": "display_data"
    },
    {
     "data": {
      "application/vnd.jupyter.widget-view+json": {
       "model_id": "21cdc0a350e04966857359e5fa9be217",
       "version_major": 2,
       "version_minor": 0
      },
      "text/plain": [
       "  0%|          | 0/6 [00:00<?, ?it/s]"
      ]
     },
     "metadata": {},
     "output_type": "display_data"
    },
    {
     "data": {
      "application/vnd.jupyter.widget-view+json": {
       "model_id": "27dc920b4fba4966b1fc5fcade765fe8",
       "version_major": 2,
       "version_minor": 0
      },
      "text/plain": [
       "  0%|          | 0/6 [00:00<?, ?it/s]"
      ]
     },
     "metadata": {},
     "output_type": "display_data"
    },
    {
     "data": {
      "application/vnd.jupyter.widget-view+json": {
       "model_id": "9e9b6050b5da47b0982cb954f1ba71cc",
       "version_major": 2,
       "version_minor": 0
      },
      "text/plain": [
       "  0%|          | 0/6 [00:00<?, ?it/s]"
      ]
     },
     "metadata": {},
     "output_type": "display_data"
    },
    {
     "data": {
      "application/vnd.jupyter.widget-view+json": {
       "model_id": "4a4e88232b1141e5b99688d66f2df763",
       "version_major": 2,
       "version_minor": 0
      },
      "text/plain": [
       "  0%|          | 0/6 [00:00<?, ?it/s]"
      ]
     },
     "metadata": {},
     "output_type": "display_data"
    },
    {
     "data": {
      "application/vnd.jupyter.widget-view+json": {
       "model_id": "6449eca4b23a4593b32e54005e67b738",
       "version_major": 2,
       "version_minor": 0
      },
      "text/plain": [
       "  0%|          | 0/6 [00:00<?, ?it/s]"
      ]
     },
     "metadata": {},
     "output_type": "display_data"
    },
    {
     "data": {
      "application/vnd.jupyter.widget-view+json": {
       "model_id": "57fa63b7c62e498f959b5af758d9c8c5",
       "version_major": 2,
       "version_minor": 0
      },
      "text/plain": [
       "  0%|          | 0/6 [00:00<?, ?it/s]"
      ]
     },
     "metadata": {},
     "output_type": "display_data"
    },
    {
     "data": {
      "application/vnd.jupyter.widget-view+json": {
       "model_id": "a6d6ab4bc2f04091a2edd26c4f841ccf",
       "version_major": 2,
       "version_minor": 0
      },
      "text/plain": [
       "  0%|          | 0/6 [00:00<?, ?it/s]"
      ]
     },
     "metadata": {},
     "output_type": "display_data"
    },
    {
     "data": {
      "application/vnd.jupyter.widget-view+json": {
       "model_id": "fdf695540fc2427fae2574020b6eed27",
       "version_major": 2,
       "version_minor": 0
      },
      "text/plain": [
       "  0%|          | 0/6 [00:00<?, ?it/s]"
      ]
     },
     "metadata": {},
     "output_type": "display_data"
    },
    {
     "data": {
      "application/vnd.jupyter.widget-view+json": {
       "model_id": "de008bcfa5fc46bd82eb83f8388fca9d",
       "version_major": 2,
       "version_minor": 0
      },
      "text/plain": [
       "  0%|          | 0/6 [00:00<?, ?it/s]"
      ]
     },
     "metadata": {},
     "output_type": "display_data"
    },
    {
     "data": {
      "application/vnd.jupyter.widget-view+json": {
       "model_id": "3fdca8fb9ee447b5ba623f0b3ab23ba6",
       "version_major": 2,
       "version_minor": 0
      },
      "text/plain": [
       "  0%|          | 0/6 [00:00<?, ?it/s]"
      ]
     },
     "metadata": {},
     "output_type": "display_data"
    },
    {
     "data": {
      "application/vnd.jupyter.widget-view+json": {
       "model_id": "936773d6e2ed4c4394bffb0d2a103031",
       "version_major": 2,
       "version_minor": 0
      },
      "text/plain": [
       "  0%|          | 0/6 [00:00<?, ?it/s]"
      ]
     },
     "metadata": {},
     "output_type": "display_data"
    },
    {
     "data": {
      "application/vnd.jupyter.widget-view+json": {
       "model_id": "8ef900e605ed428b9a06413a6fcbf3a4",
       "version_major": 2,
       "version_minor": 0
      },
      "text/plain": [
       "  0%|          | 0/6 [00:00<?, ?it/s]"
      ]
     },
     "metadata": {},
     "output_type": "display_data"
    },
    {
     "data": {
      "application/vnd.jupyter.widget-view+json": {
       "model_id": "b43d17edc3c0402ca3b996fbc58f9c31",
       "version_major": 2,
       "version_minor": 0
      },
      "text/plain": [
       "  0%|          | 0/6 [00:00<?, ?it/s]"
      ]
     },
     "metadata": {},
     "output_type": "display_data"
    },
    {
     "data": {
      "application/vnd.jupyter.widget-view+json": {
       "model_id": "d7538484fee54180a7a360bf8dcc937b",
       "version_major": 2,
       "version_minor": 0
      },
      "text/plain": [
       "  0%|          | 0/6 [00:00<?, ?it/s]"
      ]
     },
     "metadata": {},
     "output_type": "display_data"
    },
    {
     "data": {
      "application/vnd.jupyter.widget-view+json": {
       "model_id": "4cc5ea7b430244a3b316d50edbdcc66e",
       "version_major": 2,
       "version_minor": 0
      },
      "text/plain": [
       "  0%|          | 0/6 [00:00<?, ?it/s]"
      ]
     },
     "metadata": {},
     "output_type": "display_data"
    },
    {
     "data": {
      "application/vnd.jupyter.widget-view+json": {
       "model_id": "51a9541730324187af6789a5fc32ada4",
       "version_major": 2,
       "version_minor": 0
      },
      "text/plain": [
       "  0%|          | 0/6 [00:00<?, ?it/s]"
      ]
     },
     "metadata": {},
     "output_type": "display_data"
    },
    {
     "data": {
      "application/vnd.jupyter.widget-view+json": {
       "model_id": "d8dd67c070d04b6693cbff1a1a7e5a8b",
       "version_major": 2,
       "version_minor": 0
      },
      "text/plain": [
       "  0%|          | 0/6 [00:00<?, ?it/s]"
      ]
     },
     "metadata": {},
     "output_type": "display_data"
    },
    {
     "data": {
      "application/vnd.jupyter.widget-view+json": {
       "model_id": "b98bc547758646cab39ac56be06252ec",
       "version_major": 2,
       "version_minor": 0
      },
      "text/plain": [
       "  0%|          | 0/6 [00:00<?, ?it/s]"
      ]
     },
     "metadata": {},
     "output_type": "display_data"
    },
    {
     "data": {
      "application/vnd.jupyter.widget-view+json": {
       "model_id": "6b9a4685355644ffa468543fc68551a3",
       "version_major": 2,
       "version_minor": 0
      },
      "text/plain": [
       "  0%|          | 0/6 [00:00<?, ?it/s]"
      ]
     },
     "metadata": {},
     "output_type": "display_data"
    },
    {
     "data": {
      "application/vnd.jupyter.widget-view+json": {
       "model_id": "97ea04fd45794551b4dc5247a049e4e9",
       "version_major": 2,
       "version_minor": 0
      },
      "text/plain": [
       "  0%|          | 0/6 [00:00<?, ?it/s]"
      ]
     },
     "metadata": {},
     "output_type": "display_data"
    },
    {
     "data": {
      "application/vnd.jupyter.widget-view+json": {
       "model_id": "a85021e26f0a4bf8888d34cdf7b19249",
       "version_major": 2,
       "version_minor": 0
      },
      "text/plain": [
       "  0%|          | 0/6 [00:00<?, ?it/s]"
      ]
     },
     "metadata": {},
     "output_type": "display_data"
    },
    {
     "data": {
      "application/vnd.jupyter.widget-view+json": {
       "model_id": "33a02015ae134e34ab1b618cb77b7fb4",
       "version_major": 2,
       "version_minor": 0
      },
      "text/plain": [
       "  0%|          | 0/6 [00:00<?, ?it/s]"
      ]
     },
     "metadata": {},
     "output_type": "display_data"
    },
    {
     "data": {
      "application/vnd.jupyter.widget-view+json": {
       "model_id": "cf0b2b88bbbb4f65a601e093b9e4858f",
       "version_major": 2,
       "version_minor": 0
      },
      "text/plain": [
       "  0%|          | 0/6 [00:00<?, ?it/s]"
      ]
     },
     "metadata": {},
     "output_type": "display_data"
    },
    {
     "data": {
      "application/vnd.jupyter.widget-view+json": {
       "model_id": "c5ce620876b24703b830ed1a8db45f7b",
       "version_major": 2,
       "version_minor": 0
      },
      "text/plain": [
       "  0%|          | 0/6 [00:00<?, ?it/s]"
      ]
     },
     "metadata": {},
     "output_type": "display_data"
    },
    {
     "data": {
      "application/vnd.jupyter.widget-view+json": {
       "model_id": "6d117686b3a64d0eb96df847bc8ff680",
       "version_major": 2,
       "version_minor": 0
      },
      "text/plain": [
       "  0%|          | 0/6 [00:00<?, ?it/s]"
      ]
     },
     "metadata": {},
     "output_type": "display_data"
    },
    {
     "data": {
      "application/vnd.jupyter.widget-view+json": {
       "model_id": "7073fe4548264fee98763797de144539",
       "version_major": 2,
       "version_minor": 0
      },
      "text/plain": [
       "  0%|          | 0/6 [00:00<?, ?it/s]"
      ]
     },
     "metadata": {},
     "output_type": "display_data"
    },
    {
     "data": {
      "application/vnd.jupyter.widget-view+json": {
       "model_id": "3ae3d2d527904674bf374e8b44cbf1d5",
       "version_major": 2,
       "version_minor": 0
      },
      "text/plain": [
       "  0%|          | 0/6 [00:00<?, ?it/s]"
      ]
     },
     "metadata": {},
     "output_type": "display_data"
    },
    {
     "data": {
      "application/vnd.jupyter.widget-view+json": {
       "model_id": "0d557e1c74a547478c53ed66f31a8bfa",
       "version_major": 2,
       "version_minor": 0
      },
      "text/plain": [
       "  0%|          | 0/6 [00:00<?, ?it/s]"
      ]
     },
     "metadata": {},
     "output_type": "display_data"
    },
    {
     "data": {
      "application/vnd.jupyter.widget-view+json": {
       "model_id": "32bb8b7f97604914b77de47a1a39a2ef",
       "version_major": 2,
       "version_minor": 0
      },
      "text/plain": [
       "  0%|          | 0/6 [00:00<?, ?it/s]"
      ]
     },
     "metadata": {},
     "output_type": "display_data"
    },
    {
     "data": {
      "application/vnd.jupyter.widget-view+json": {
       "model_id": "3c7a343ed1574c8d97f20787d8363dc4",
       "version_major": 2,
       "version_minor": 0
      },
      "text/plain": [
       "  0%|          | 0/6 [00:00<?, ?it/s]"
      ]
     },
     "metadata": {},
     "output_type": "display_data"
    },
    {
     "data": {
      "application/vnd.jupyter.widget-view+json": {
       "model_id": "b5a0a0a395eb41a6997f139946c00911",
       "version_major": 2,
       "version_minor": 0
      },
      "text/plain": [
       "  0%|          | 0/6 [00:00<?, ?it/s]"
      ]
     },
     "metadata": {},
     "output_type": "display_data"
    },
    {
     "data": {
      "application/vnd.jupyter.widget-view+json": {
       "model_id": "64c260268624481faf2e261d59cb1cc5",
       "version_major": 2,
       "version_minor": 0
      },
      "text/plain": [
       "  0%|          | 0/6 [00:00<?, ?it/s]"
      ]
     },
     "metadata": {},
     "output_type": "display_data"
    },
    {
     "data": {
      "application/vnd.jupyter.widget-view+json": {
       "model_id": "4c483baae9594dd585f66235a23a9be0",
       "version_major": 2,
       "version_minor": 0
      },
      "text/plain": [
       "  0%|          | 0/6 [00:00<?, ?it/s]"
      ]
     },
     "metadata": {},
     "output_type": "display_data"
    },
    {
     "data": {
      "application/vnd.jupyter.widget-view+json": {
       "model_id": "bc20000118e44eb8af4b84e522e03550",
       "version_major": 2,
       "version_minor": 0
      },
      "text/plain": [
       "  0%|          | 0/6 [00:00<?, ?it/s]"
      ]
     },
     "metadata": {},
     "output_type": "display_data"
    },
    {
     "data": {
      "application/vnd.jupyter.widget-view+json": {
       "model_id": "06488405c9c54331ad99d57846435e78",
       "version_major": 2,
       "version_minor": 0
      },
      "text/plain": [
       "  0%|          | 0/6 [00:00<?, ?it/s]"
      ]
     },
     "metadata": {},
     "output_type": "display_data"
    },
    {
     "data": {
      "application/vnd.jupyter.widget-view+json": {
       "model_id": "62c3b552ef6c44869e900dfede4413ba",
       "version_major": 2,
       "version_minor": 0
      },
      "text/plain": [
       "  0%|          | 0/6 [00:00<?, ?it/s]"
      ]
     },
     "metadata": {},
     "output_type": "display_data"
    },
    {
     "data": {
      "application/vnd.jupyter.widget-view+json": {
       "model_id": "96a06e05fd1a4c68907d0fea1c844b3a",
       "version_major": 2,
       "version_minor": 0
      },
      "text/plain": [
       "  0%|          | 0/6 [00:00<?, ?it/s]"
      ]
     },
     "metadata": {},
     "output_type": "display_data"
    },
    {
     "data": {
      "application/vnd.jupyter.widget-view+json": {
       "model_id": "15d5d0d3377d42f2ad55e1bbbc477262",
       "version_major": 2,
       "version_minor": 0
      },
      "text/plain": [
       "  0%|          | 0/6 [00:00<?, ?it/s]"
      ]
     },
     "metadata": {},
     "output_type": "display_data"
    },
    {
     "data": {
      "application/vnd.jupyter.widget-view+json": {
       "model_id": "f58fb10fb30c4b2298fd7a95fce62cf8",
       "version_major": 2,
       "version_minor": 0
      },
      "text/plain": [
       "  0%|          | 0/6 [00:00<?, ?it/s]"
      ]
     },
     "metadata": {},
     "output_type": "display_data"
    },
    {
     "data": {
      "application/vnd.jupyter.widget-view+json": {
       "model_id": "af8e7db92b75401dadcbf457320d588d",
       "version_major": 2,
       "version_minor": 0
      },
      "text/plain": [
       "  0%|          | 0/6 [00:00<?, ?it/s]"
      ]
     },
     "metadata": {},
     "output_type": "display_data"
    },
    {
     "data": {
      "application/vnd.jupyter.widget-view+json": {
       "model_id": "1e719c387fe247aaa72d71f81da9cde1",
       "version_major": 2,
       "version_minor": 0
      },
      "text/plain": [
       "  0%|          | 0/6 [00:00<?, ?it/s]"
      ]
     },
     "metadata": {},
     "output_type": "display_data"
    },
    {
     "data": {
      "application/vnd.jupyter.widget-view+json": {
       "model_id": "d9172b8e90604f969e60dd407a36e896",
       "version_major": 2,
       "version_minor": 0
      },
      "text/plain": [
       "  0%|          | 0/6 [00:00<?, ?it/s]"
      ]
     },
     "metadata": {},
     "output_type": "display_data"
    },
    {
     "data": {
      "application/vnd.jupyter.widget-view+json": {
       "model_id": "579b6b8c48174c90b70e4f49dfaaf22e",
       "version_major": 2,
       "version_minor": 0
      },
      "text/plain": [
       "  0%|          | 0/6 [00:00<?, ?it/s]"
      ]
     },
     "metadata": {},
     "output_type": "display_data"
    },
    {
     "data": {
      "application/vnd.jupyter.widget-view+json": {
       "model_id": "ad4d6f29d5d943b899b5fac3d29317a1",
       "version_major": 2,
       "version_minor": 0
      },
      "text/plain": [
       "  0%|          | 0/6 [00:00<?, ?it/s]"
      ]
     },
     "metadata": {},
     "output_type": "display_data"
    },
    {
     "data": {
      "application/vnd.jupyter.widget-view+json": {
       "model_id": "aed69272a72644b4b4fbe9e042beb075",
       "version_major": 2,
       "version_minor": 0
      },
      "text/plain": [
       "  0%|          | 0/6 [00:00<?, ?it/s]"
      ]
     },
     "metadata": {},
     "output_type": "display_data"
    },
    {
     "data": {
      "application/vnd.jupyter.widget-view+json": {
       "model_id": "60da42b178c44b93aef6ca01400f7513",
       "version_major": 2,
       "version_minor": 0
      },
      "text/plain": [
       "Testing types:   0%|          | 0/2 [00:00<?, ?it/s]"
      ]
     },
     "metadata": {},
     "output_type": "display_data"
    },
    {
     "data": {
      "application/vnd.jupyter.widget-view+json": {
       "model_id": "d87eb367d80c450297f9c923e38f6bb9",
       "version_major": 2,
       "version_minor": 0
      },
      "text/plain": [
       "Testing numeric:   0%|          | 0/50 [00:00<?, ?it/s]"
      ]
     },
     "metadata": {},
     "output_type": "display_data"
    },
    {
     "data": {
      "application/vnd.jupyter.widget-view+json": {
       "model_id": "fb66d282f7f94e4ab019d9e7abd5493e",
       "version_major": 2,
       "version_minor": 0
      },
      "text/plain": [
       "  0%|          | 0/6 [00:00<?, ?it/s]"
      ]
     },
     "metadata": {},
     "output_type": "display_data"
    },
    {
     "data": {
      "application/vnd.jupyter.widget-view+json": {
       "model_id": "c634648284914950882c8d0f7803ab99",
       "version_major": 2,
       "version_minor": 0
      },
      "text/plain": [
       "  0%|          | 0/6 [00:00<?, ?it/s]"
      ]
     },
     "metadata": {},
     "output_type": "display_data"
    },
    {
     "data": {
      "application/vnd.jupyter.widget-view+json": {
       "model_id": "07f44b7ba4b44e288e6cacd39ab43c36",
       "version_major": 2,
       "version_minor": 0
      },
      "text/plain": [
       "  0%|          | 0/6 [00:00<?, ?it/s]"
      ]
     },
     "metadata": {},
     "output_type": "display_data"
    },
    {
     "data": {
      "application/vnd.jupyter.widget-view+json": {
       "model_id": "96c1ab80390e4788a68db1cbdca543aa",
       "version_major": 2,
       "version_minor": 0
      },
      "text/plain": [
       "  0%|          | 0/6 [00:00<?, ?it/s]"
      ]
     },
     "metadata": {},
     "output_type": "display_data"
    },
    {
     "data": {
      "application/vnd.jupyter.widget-view+json": {
       "model_id": "7c18284af6554d7f8b0dcc78bbfe0f17",
       "version_major": 2,
       "version_minor": 0
      },
      "text/plain": [
       "  0%|          | 0/6 [00:00<?, ?it/s]"
      ]
     },
     "metadata": {},
     "output_type": "display_data"
    },
    {
     "data": {
      "application/vnd.jupyter.widget-view+json": {
       "model_id": "e449e745eae2484797ba23c62cf9078b",
       "version_major": 2,
       "version_minor": 0
      },
      "text/plain": [
       "  0%|          | 0/6 [00:00<?, ?it/s]"
      ]
     },
     "metadata": {},
     "output_type": "display_data"
    },
    {
     "data": {
      "application/vnd.jupyter.widget-view+json": {
       "model_id": "7d0c95ed5b024796adc03a1874c9a47e",
       "version_major": 2,
       "version_minor": 0
      },
      "text/plain": [
       "  0%|          | 0/6 [00:00<?, ?it/s]"
      ]
     },
     "metadata": {},
     "output_type": "display_data"
    },
    {
     "data": {
      "application/vnd.jupyter.widget-view+json": {
       "model_id": "e050a05dec47432e80c8fce0754ce8e8",
       "version_major": 2,
       "version_minor": 0
      },
      "text/plain": [
       "  0%|          | 0/6 [00:00<?, ?it/s]"
      ]
     },
     "metadata": {},
     "output_type": "display_data"
    },
    {
     "data": {
      "application/vnd.jupyter.widget-view+json": {
       "model_id": "26aea604688949279c8259e07cd0c71c",
       "version_major": 2,
       "version_minor": 0
      },
      "text/plain": [
       "  0%|          | 0/6 [00:00<?, ?it/s]"
      ]
     },
     "metadata": {},
     "output_type": "display_data"
    },
    {
     "data": {
      "application/vnd.jupyter.widget-view+json": {
       "model_id": "6f9ae1fc57764c3faafcc160e7c8f105",
       "version_major": 2,
       "version_minor": 0
      },
      "text/plain": [
       "  0%|          | 0/6 [00:00<?, ?it/s]"
      ]
     },
     "metadata": {},
     "output_type": "display_data"
    },
    {
     "data": {
      "application/vnd.jupyter.widget-view+json": {
       "model_id": "b2179a7f97a34e418b36ea4db1523c69",
       "version_major": 2,
       "version_minor": 0
      },
      "text/plain": [
       "  0%|          | 0/6 [00:00<?, ?it/s]"
      ]
     },
     "metadata": {},
     "output_type": "display_data"
    },
    {
     "data": {
      "application/vnd.jupyter.widget-view+json": {
       "model_id": "72ee867e33aa4bf48fcd6f879d652c4c",
       "version_major": 2,
       "version_minor": 0
      },
      "text/plain": [
       "  0%|          | 0/6 [00:00<?, ?it/s]"
      ]
     },
     "metadata": {},
     "output_type": "display_data"
    },
    {
     "data": {
      "application/vnd.jupyter.widget-view+json": {
       "model_id": "a8f93c0df4324c06973f0e0122dfc13d",
       "version_major": 2,
       "version_minor": 0
      },
      "text/plain": [
       "  0%|          | 0/6 [00:00<?, ?it/s]"
      ]
     },
     "metadata": {},
     "output_type": "display_data"
    },
    {
     "data": {
      "application/vnd.jupyter.widget-view+json": {
       "model_id": "8d8e7da829094b6aad209bc07b7596a0",
       "version_major": 2,
       "version_minor": 0
      },
      "text/plain": [
       "  0%|          | 0/6 [00:00<?, ?it/s]"
      ]
     },
     "metadata": {},
     "output_type": "display_data"
    },
    {
     "data": {
      "application/vnd.jupyter.widget-view+json": {
       "model_id": "2fc9360f3b4c44e09e2ca35d686f05f4",
       "version_major": 2,
       "version_minor": 0
      },
      "text/plain": [
       "  0%|          | 0/6 [00:00<?, ?it/s]"
      ]
     },
     "metadata": {},
     "output_type": "display_data"
    },
    {
     "data": {
      "application/vnd.jupyter.widget-view+json": {
       "model_id": "15bd9d0256834b78930d570737833dcc",
       "version_major": 2,
       "version_minor": 0
      },
      "text/plain": [
       "  0%|          | 0/6 [00:00<?, ?it/s]"
      ]
     },
     "metadata": {},
     "output_type": "display_data"
    },
    {
     "data": {
      "application/vnd.jupyter.widget-view+json": {
       "model_id": "cf4e7a0bb5d84bff81a35ef103160200",
       "version_major": 2,
       "version_minor": 0
      },
      "text/plain": [
       "  0%|          | 0/6 [00:00<?, ?it/s]"
      ]
     },
     "metadata": {},
     "output_type": "display_data"
    },
    {
     "data": {
      "application/vnd.jupyter.widget-view+json": {
       "model_id": "666d0823ffd44f7598c683286c6e3e72",
       "version_major": 2,
       "version_minor": 0
      },
      "text/plain": [
       "  0%|          | 0/6 [00:00<?, ?it/s]"
      ]
     },
     "metadata": {},
     "output_type": "display_data"
    },
    {
     "data": {
      "application/vnd.jupyter.widget-view+json": {
       "model_id": "3dfdb2433738447783913e0930fd763e",
       "version_major": 2,
       "version_minor": 0
      },
      "text/plain": [
       "  0%|          | 0/6 [00:00<?, ?it/s]"
      ]
     },
     "metadata": {},
     "output_type": "display_data"
    },
    {
     "data": {
      "application/vnd.jupyter.widget-view+json": {
       "model_id": "02cb8d78eb334cf895f5c079f753b613",
       "version_major": 2,
       "version_minor": 0
      },
      "text/plain": [
       "  0%|          | 0/6 [00:00<?, ?it/s]"
      ]
     },
     "metadata": {},
     "output_type": "display_data"
    },
    {
     "data": {
      "application/vnd.jupyter.widget-view+json": {
       "model_id": "9c24274b714542d7b2ef6b4eb9520f12",
       "version_major": 2,
       "version_minor": 0
      },
      "text/plain": [
       "  0%|          | 0/6 [00:00<?, ?it/s]"
      ]
     },
     "metadata": {},
     "output_type": "display_data"
    },
    {
     "data": {
      "application/vnd.jupyter.widget-view+json": {
       "model_id": "e642a7c8eff74dc09cb383087ceff430",
       "version_major": 2,
       "version_minor": 0
      },
      "text/plain": [
       "  0%|          | 0/6 [00:00<?, ?it/s]"
      ]
     },
     "metadata": {},
     "output_type": "display_data"
    },
    {
     "data": {
      "application/vnd.jupyter.widget-view+json": {
       "model_id": "4df63dcc2d044d12bb53482bbb9c19d9",
       "version_major": 2,
       "version_minor": 0
      },
      "text/plain": [
       "  0%|          | 0/6 [00:00<?, ?it/s]"
      ]
     },
     "metadata": {},
     "output_type": "display_data"
    },
    {
     "data": {
      "application/vnd.jupyter.widget-view+json": {
       "model_id": "3de8f9965e0b47c19e12b37adf950779",
       "version_major": 2,
       "version_minor": 0
      },
      "text/plain": [
       "  0%|          | 0/6 [00:00<?, ?it/s]"
      ]
     },
     "metadata": {},
     "output_type": "display_data"
    },
    {
     "data": {
      "application/vnd.jupyter.widget-view+json": {
       "model_id": "9fc84d6b0ee841028cdee58d8527d4e5",
       "version_major": 2,
       "version_minor": 0
      },
      "text/plain": [
       "  0%|          | 0/6 [00:00<?, ?it/s]"
      ]
     },
     "metadata": {},
     "output_type": "display_data"
    },
    {
     "data": {
      "application/vnd.jupyter.widget-view+json": {
       "model_id": "10e9a4f1e44e48a7b8f4111164db9c3c",
       "version_major": 2,
       "version_minor": 0
      },
      "text/plain": [
       "  0%|          | 0/6 [00:00<?, ?it/s]"
      ]
     },
     "metadata": {},
     "output_type": "display_data"
    },
    {
     "data": {
      "application/vnd.jupyter.widget-view+json": {
       "model_id": "8fb0c25d32db428ba15cf16134d64c44",
       "version_major": 2,
       "version_minor": 0
      },
      "text/plain": [
       "  0%|          | 0/6 [00:00<?, ?it/s]"
      ]
     },
     "metadata": {},
     "output_type": "display_data"
    },
    {
     "data": {
      "application/vnd.jupyter.widget-view+json": {
       "model_id": "e0ada12753254279bf38556f319a15a4",
       "version_major": 2,
       "version_minor": 0
      },
      "text/plain": [
       "  0%|          | 0/6 [00:00<?, ?it/s]"
      ]
     },
     "metadata": {},
     "output_type": "display_data"
    },
    {
     "data": {
      "application/vnd.jupyter.widget-view+json": {
       "model_id": "d26e25a73a714e4db84be08de7e49fe0",
       "version_major": 2,
       "version_minor": 0
      },
      "text/plain": [
       "  0%|          | 0/6 [00:00<?, ?it/s]"
      ]
     },
     "metadata": {},
     "output_type": "display_data"
    },
    {
     "data": {
      "application/vnd.jupyter.widget-view+json": {
       "model_id": "769c9463bd834c05b60597818c2f21ba",
       "version_major": 2,
       "version_minor": 0
      },
      "text/plain": [
       "  0%|          | 0/6 [00:00<?, ?it/s]"
      ]
     },
     "metadata": {},
     "output_type": "display_data"
    },
    {
     "data": {
      "application/vnd.jupyter.widget-view+json": {
       "model_id": "1d7c5f8591e04e50bb37e97fe7787de2",
       "version_major": 2,
       "version_minor": 0
      },
      "text/plain": [
       "  0%|          | 0/6 [00:00<?, ?it/s]"
      ]
     },
     "metadata": {},
     "output_type": "display_data"
    },
    {
     "data": {
      "application/vnd.jupyter.widget-view+json": {
       "model_id": "18d9c3c1a2f147a686000928aa358afb",
       "version_major": 2,
       "version_minor": 0
      },
      "text/plain": [
       "  0%|          | 0/6 [00:00<?, ?it/s]"
      ]
     },
     "metadata": {},
     "output_type": "display_data"
    },
    {
     "data": {
      "application/vnd.jupyter.widget-view+json": {
       "model_id": "0aaf803921734bbb93abe39e03173cc1",
       "version_major": 2,
       "version_minor": 0
      },
      "text/plain": [
       "  0%|          | 0/6 [00:00<?, ?it/s]"
      ]
     },
     "metadata": {},
     "output_type": "display_data"
    },
    {
     "data": {
      "application/vnd.jupyter.widget-view+json": {
       "model_id": "87d0003e6e5f4850940b524152c6aca1",
       "version_major": 2,
       "version_minor": 0
      },
      "text/plain": [
       "  0%|          | 0/6 [00:00<?, ?it/s]"
      ]
     },
     "metadata": {},
     "output_type": "display_data"
    },
    {
     "data": {
      "application/vnd.jupyter.widget-view+json": {
       "model_id": "2b09f56ec0da401794b429328481f430",
       "version_major": 2,
       "version_minor": 0
      },
      "text/plain": [
       "  0%|          | 0/6 [00:00<?, ?it/s]"
      ]
     },
     "metadata": {},
     "output_type": "display_data"
    },
    {
     "data": {
      "application/vnd.jupyter.widget-view+json": {
       "model_id": "155b897ec5a641138f5b338399c0dd03",
       "version_major": 2,
       "version_minor": 0
      },
      "text/plain": [
       "  0%|          | 0/6 [00:00<?, ?it/s]"
      ]
     },
     "metadata": {},
     "output_type": "display_data"
    },
    {
     "data": {
      "application/vnd.jupyter.widget-view+json": {
       "model_id": "83560890019443ce9c161e76bef6c63f",
       "version_major": 2,
       "version_minor": 0
      },
      "text/plain": [
       "  0%|          | 0/6 [00:00<?, ?it/s]"
      ]
     },
     "metadata": {},
     "output_type": "display_data"
    },
    {
     "data": {
      "application/vnd.jupyter.widget-view+json": {
       "model_id": "c17c58a7d3094c269752ac69070cf086",
       "version_major": 2,
       "version_minor": 0
      },
      "text/plain": [
       "  0%|          | 0/6 [00:00<?, ?it/s]"
      ]
     },
     "metadata": {},
     "output_type": "display_data"
    },
    {
     "data": {
      "application/vnd.jupyter.widget-view+json": {
       "model_id": "bdaa5d079f644c2bab673c85b9b7ecae",
       "version_major": 2,
       "version_minor": 0
      },
      "text/plain": [
       "  0%|          | 0/6 [00:00<?, ?it/s]"
      ]
     },
     "metadata": {},
     "output_type": "display_data"
    },
    {
     "data": {
      "application/vnd.jupyter.widget-view+json": {
       "model_id": "8e331db3fa844f94a888f4ab081859e9",
       "version_major": 2,
       "version_minor": 0
      },
      "text/plain": [
       "  0%|          | 0/6 [00:00<?, ?it/s]"
      ]
     },
     "metadata": {},
     "output_type": "display_data"
    },
    {
     "data": {
      "application/vnd.jupyter.widget-view+json": {
       "model_id": "08d33c5ab3fd43e4808e489866279eb1",
       "version_major": 2,
       "version_minor": 0
      },
      "text/plain": [
       "  0%|          | 0/6 [00:00<?, ?it/s]"
      ]
     },
     "metadata": {},
     "output_type": "display_data"
    },
    {
     "data": {
      "application/vnd.jupyter.widget-view+json": {
       "model_id": "b5e5416d545b40c8802ef3f529d035a0",
       "version_major": 2,
       "version_minor": 0
      },
      "text/plain": [
       "  0%|          | 0/6 [00:00<?, ?it/s]"
      ]
     },
     "metadata": {},
     "output_type": "display_data"
    },
    {
     "data": {
      "application/vnd.jupyter.widget-view+json": {
       "model_id": "7bbfcdbc8e464d6da12668f97e5b0bed",
       "version_major": 2,
       "version_minor": 0
      },
      "text/plain": [
       "  0%|          | 0/6 [00:00<?, ?it/s]"
      ]
     },
     "metadata": {},
     "output_type": "display_data"
    },
    {
     "data": {
      "application/vnd.jupyter.widget-view+json": {
       "model_id": "f52f777a5fb6484ea9e62a17e77d9a4e",
       "version_major": 2,
       "version_minor": 0
      },
      "text/plain": [
       "  0%|          | 0/6 [00:00<?, ?it/s]"
      ]
     },
     "metadata": {},
     "output_type": "display_data"
    },
    {
     "data": {
      "application/vnd.jupyter.widget-view+json": {
       "model_id": "298ba6bc097d42ac9301ba2309d72ad6",
       "version_major": 2,
       "version_minor": 0
      },
      "text/plain": [
       "  0%|          | 0/6 [00:00<?, ?it/s]"
      ]
     },
     "metadata": {},
     "output_type": "display_data"
    },
    {
     "data": {
      "application/vnd.jupyter.widget-view+json": {
       "model_id": "c4b29db5fe684410a786691c3368ff82",
       "version_major": 2,
       "version_minor": 0
      },
      "text/plain": [
       "  0%|          | 0/6 [00:00<?, ?it/s]"
      ]
     },
     "metadata": {},
     "output_type": "display_data"
    },
    {
     "data": {
      "application/vnd.jupyter.widget-view+json": {
       "model_id": "0a437d1aef6b420abf866c5c2189385e",
       "version_major": 2,
       "version_minor": 0
      },
      "text/plain": [
       "  0%|          | 0/6 [00:00<?, ?it/s]"
      ]
     },
     "metadata": {},
     "output_type": "display_data"
    },
    {
     "data": {
      "application/vnd.jupyter.widget-view+json": {
       "model_id": "de637f455590424da487df7a1a527957",
       "version_major": 2,
       "version_minor": 0
      },
      "text/plain": [
       "  0%|          | 0/6 [00:00<?, ?it/s]"
      ]
     },
     "metadata": {},
     "output_type": "display_data"
    },
    {
     "data": {
      "application/vnd.jupyter.widget-view+json": {
       "model_id": "0a8b2c32943d452688374b9e97af882a",
       "version_major": 2,
       "version_minor": 0
      },
      "text/plain": [
       "  0%|          | 0/6 [00:00<?, ?it/s]"
      ]
     },
     "metadata": {},
     "output_type": "display_data"
    },
    {
     "data": {
      "application/vnd.jupyter.widget-view+json": {
       "model_id": "ef2a6e7e77cb46c68c53662728b23da2",
       "version_major": 2,
       "version_minor": 0
      },
      "text/plain": [
       "  0%|          | 0/6 [00:00<?, ?it/s]"
      ]
     },
     "metadata": {},
     "output_type": "display_data"
    },
    {
     "data": {
      "application/vnd.jupyter.widget-view+json": {
       "model_id": "0e64c3c69f4544619a22d23ba60110cb",
       "version_major": 2,
       "version_minor": 0
      },
      "text/plain": [
       "Testing special:   0%|          | 0/50 [00:00<?, ?it/s]"
      ]
     },
     "metadata": {},
     "output_type": "display_data"
    },
    {
     "data": {
      "application/vnd.jupyter.widget-view+json": {
       "model_id": "6dec6ded229a4b449b7ad5cc82bd9bea",
       "version_major": 2,
       "version_minor": 0
      },
      "text/plain": [
       "  0%|          | 0/6 [00:00<?, ?it/s]"
      ]
     },
     "metadata": {},
     "output_type": "display_data"
    },
    {
     "data": {
      "application/vnd.jupyter.widget-view+json": {
       "model_id": "7e6780dc44ec4048841f56547bce3ba2",
       "version_major": 2,
       "version_minor": 0
      },
      "text/plain": [
       "  0%|          | 0/6 [00:00<?, ?it/s]"
      ]
     },
     "metadata": {},
     "output_type": "display_data"
    },
    {
     "data": {
      "application/vnd.jupyter.widget-view+json": {
       "model_id": "e53346ece0b740b284ab56c17f191577",
       "version_major": 2,
       "version_minor": 0
      },
      "text/plain": [
       "  0%|          | 0/6 [00:00<?, ?it/s]"
      ]
     },
     "metadata": {},
     "output_type": "display_data"
    },
    {
     "data": {
      "application/vnd.jupyter.widget-view+json": {
       "model_id": "1e5acd37dbe241ccaf4d11386dfc5b32",
       "version_major": 2,
       "version_minor": 0
      },
      "text/plain": [
       "  0%|          | 0/6 [00:00<?, ?it/s]"
      ]
     },
     "metadata": {},
     "output_type": "display_data"
    },
    {
     "data": {
      "application/vnd.jupyter.widget-view+json": {
       "model_id": "ff4afe6a31e045868b8d63f284190ca9",
       "version_major": 2,
       "version_minor": 0
      },
      "text/plain": [
       "  0%|          | 0/6 [00:00<?, ?it/s]"
      ]
     },
     "metadata": {},
     "output_type": "display_data"
    },
    {
     "data": {
      "application/vnd.jupyter.widget-view+json": {
       "model_id": "e2f765deee1049369cef8d29331e4e2d",
       "version_major": 2,
       "version_minor": 0
      },
      "text/plain": [
       "  0%|          | 0/6 [00:00<?, ?it/s]"
      ]
     },
     "metadata": {},
     "output_type": "display_data"
    },
    {
     "data": {
      "application/vnd.jupyter.widget-view+json": {
       "model_id": "1c31ab5761dd4341aa79a0ff34504158",
       "version_major": 2,
       "version_minor": 0
      },
      "text/plain": [
       "  0%|          | 0/6 [00:00<?, ?it/s]"
      ]
     },
     "metadata": {},
     "output_type": "display_data"
    },
    {
     "data": {
      "application/vnd.jupyter.widget-view+json": {
       "model_id": "b5deb4f366d745499ff6d85f0fd8543c",
       "version_major": 2,
       "version_minor": 0
      },
      "text/plain": [
       "  0%|          | 0/6 [00:00<?, ?it/s]"
      ]
     },
     "metadata": {},
     "output_type": "display_data"
    },
    {
     "data": {
      "application/vnd.jupyter.widget-view+json": {
       "model_id": "344724a393b04caeae62f83bdc7a86b6",
       "version_major": 2,
       "version_minor": 0
      },
      "text/plain": [
       "  0%|          | 0/6 [00:00<?, ?it/s]"
      ]
     },
     "metadata": {},
     "output_type": "display_data"
    },
    {
     "data": {
      "application/vnd.jupyter.widget-view+json": {
       "model_id": "52d0cc3d99b04ca188b4d5d89d8b2664",
       "version_major": 2,
       "version_minor": 0
      },
      "text/plain": [
       "  0%|          | 0/6 [00:00<?, ?it/s]"
      ]
     },
     "metadata": {},
     "output_type": "display_data"
    },
    {
     "data": {
      "application/vnd.jupyter.widget-view+json": {
       "model_id": "1b207a0f86b946039c259ef2f26f8684",
       "version_major": 2,
       "version_minor": 0
      },
      "text/plain": [
       "  0%|          | 0/6 [00:00<?, ?it/s]"
      ]
     },
     "metadata": {},
     "output_type": "display_data"
    },
    {
     "data": {
      "application/vnd.jupyter.widget-view+json": {
       "model_id": "a640ffeabbbe4701987bad07b1dd6c76",
       "version_major": 2,
       "version_minor": 0
      },
      "text/plain": [
       "  0%|          | 0/6 [00:00<?, ?it/s]"
      ]
     },
     "metadata": {},
     "output_type": "display_data"
    },
    {
     "data": {
      "application/vnd.jupyter.widget-view+json": {
       "model_id": "82cfa831a77a4c4aa305ba107fee0684",
       "version_major": 2,
       "version_minor": 0
      },
      "text/plain": [
       "  0%|          | 0/6 [00:00<?, ?it/s]"
      ]
     },
     "metadata": {},
     "output_type": "display_data"
    },
    {
     "data": {
      "application/vnd.jupyter.widget-view+json": {
       "model_id": "7711b30827ba4238af20d8d3b53a9024",
       "version_major": 2,
       "version_minor": 0
      },
      "text/plain": [
       "  0%|          | 0/6 [00:00<?, ?it/s]"
      ]
     },
     "metadata": {},
     "output_type": "display_data"
    },
    {
     "data": {
      "application/vnd.jupyter.widget-view+json": {
       "model_id": "b7f48236728c4408b0c096c8f3ab60e4",
       "version_major": 2,
       "version_minor": 0
      },
      "text/plain": [
       "  0%|          | 0/6 [00:00<?, ?it/s]"
      ]
     },
     "metadata": {},
     "output_type": "display_data"
    },
    {
     "data": {
      "application/vnd.jupyter.widget-view+json": {
       "model_id": "32a5ba1957364e0db338b886df3acccf",
       "version_major": 2,
       "version_minor": 0
      },
      "text/plain": [
       "  0%|          | 0/6 [00:00<?, ?it/s]"
      ]
     },
     "metadata": {},
     "output_type": "display_data"
    },
    {
     "data": {
      "application/vnd.jupyter.widget-view+json": {
       "model_id": "bb49f8b06abb4a4ab2063e92281a57d9",
       "version_major": 2,
       "version_minor": 0
      },
      "text/plain": [
       "  0%|          | 0/6 [00:00<?, ?it/s]"
      ]
     },
     "metadata": {},
     "output_type": "display_data"
    },
    {
     "data": {
      "application/vnd.jupyter.widget-view+json": {
       "model_id": "4a7a9fda0bd041e5b7309840d5f919e8",
       "version_major": 2,
       "version_minor": 0
      },
      "text/plain": [
       "  0%|          | 0/6 [00:00<?, ?it/s]"
      ]
     },
     "metadata": {},
     "output_type": "display_data"
    },
    {
     "data": {
      "application/vnd.jupyter.widget-view+json": {
       "model_id": "aa3d7c74d7c5432ca1c52e85d635ad81",
       "version_major": 2,
       "version_minor": 0
      },
      "text/plain": [
       "  0%|          | 0/6 [00:00<?, ?it/s]"
      ]
     },
     "metadata": {},
     "output_type": "display_data"
    },
    {
     "data": {
      "application/vnd.jupyter.widget-view+json": {
       "model_id": "6338d81102db4a138a8769b6d3b1dd93",
       "version_major": 2,
       "version_minor": 0
      },
      "text/plain": [
       "  0%|          | 0/6 [00:00<?, ?it/s]"
      ]
     },
     "metadata": {},
     "output_type": "display_data"
    },
    {
     "data": {
      "application/vnd.jupyter.widget-view+json": {
       "model_id": "7054d158c6e24ee3bc94ef4c0cb8c8d3",
       "version_major": 2,
       "version_minor": 0
      },
      "text/plain": [
       "  0%|          | 0/6 [00:00<?, ?it/s]"
      ]
     },
     "metadata": {},
     "output_type": "display_data"
    },
    {
     "data": {
      "application/vnd.jupyter.widget-view+json": {
       "model_id": "c666320324e745acb88554f75fb4a47d",
       "version_major": 2,
       "version_minor": 0
      },
      "text/plain": [
       "  0%|          | 0/6 [00:00<?, ?it/s]"
      ]
     },
     "metadata": {},
     "output_type": "display_data"
    },
    {
     "data": {
      "application/vnd.jupyter.widget-view+json": {
       "model_id": "10ca73d214dc4568b903ba1808eb589c",
       "version_major": 2,
       "version_minor": 0
      },
      "text/plain": [
       "  0%|          | 0/6 [00:00<?, ?it/s]"
      ]
     },
     "metadata": {},
     "output_type": "display_data"
    },
    {
     "data": {
      "application/vnd.jupyter.widget-view+json": {
       "model_id": "1b1f189ff1094c4dbfcd0d2a9b34b3c1",
       "version_major": 2,
       "version_minor": 0
      },
      "text/plain": [
       "  0%|          | 0/6 [00:00<?, ?it/s]"
      ]
     },
     "metadata": {},
     "output_type": "display_data"
    },
    {
     "data": {
      "application/vnd.jupyter.widget-view+json": {
       "model_id": "e5c53b35e572419184f24f8280bc826e",
       "version_major": 2,
       "version_minor": 0
      },
      "text/plain": [
       "  0%|          | 0/6 [00:00<?, ?it/s]"
      ]
     },
     "metadata": {},
     "output_type": "display_data"
    },
    {
     "data": {
      "application/vnd.jupyter.widget-view+json": {
       "model_id": "26a3452cbb5d44f7a1d4f094c5f27c15",
       "version_major": 2,
       "version_minor": 0
      },
      "text/plain": [
       "  0%|          | 0/6 [00:00<?, ?it/s]"
      ]
     },
     "metadata": {},
     "output_type": "display_data"
    },
    {
     "data": {
      "application/vnd.jupyter.widget-view+json": {
       "model_id": "373756ad4c5a4fdc80df100221781892",
       "version_major": 2,
       "version_minor": 0
      },
      "text/plain": [
       "  0%|          | 0/6 [00:00<?, ?it/s]"
      ]
     },
     "metadata": {},
     "output_type": "display_data"
    },
    {
     "data": {
      "application/vnd.jupyter.widget-view+json": {
       "model_id": "f51e50a9d8e3484a8a3b5d1b05482a29",
       "version_major": 2,
       "version_minor": 0
      },
      "text/plain": [
       "  0%|          | 0/6 [00:00<?, ?it/s]"
      ]
     },
     "metadata": {},
     "output_type": "display_data"
    },
    {
     "data": {
      "application/vnd.jupyter.widget-view+json": {
       "model_id": "a41ee81852b9400da007b8fec15e5590",
       "version_major": 2,
       "version_minor": 0
      },
      "text/plain": [
       "  0%|          | 0/6 [00:00<?, ?it/s]"
      ]
     },
     "metadata": {},
     "output_type": "display_data"
    },
    {
     "data": {
      "application/vnd.jupyter.widget-view+json": {
       "model_id": "e63427e00c064743ae5154608a91bfaa",
       "version_major": 2,
       "version_minor": 0
      },
      "text/plain": [
       "  0%|          | 0/6 [00:00<?, ?it/s]"
      ]
     },
     "metadata": {},
     "output_type": "display_data"
    },
    {
     "data": {
      "application/vnd.jupyter.widget-view+json": {
       "model_id": "d086200373a0408484712f5b86a32f14",
       "version_major": 2,
       "version_minor": 0
      },
      "text/plain": [
       "  0%|          | 0/6 [00:00<?, ?it/s]"
      ]
     },
     "metadata": {},
     "output_type": "display_data"
    },
    {
     "data": {
      "application/vnd.jupyter.widget-view+json": {
       "model_id": "6df5ca07463640fa9e9a5bb4dea5505e",
       "version_major": 2,
       "version_minor": 0
      },
      "text/plain": [
       "  0%|          | 0/6 [00:00<?, ?it/s]"
      ]
     },
     "metadata": {},
     "output_type": "display_data"
    },
    {
     "data": {
      "application/vnd.jupyter.widget-view+json": {
       "model_id": "0507a4b522aa4de49878b182070b91d5",
       "version_major": 2,
       "version_minor": 0
      },
      "text/plain": [
       "  0%|          | 0/6 [00:00<?, ?it/s]"
      ]
     },
     "metadata": {},
     "output_type": "display_data"
    },
    {
     "data": {
      "application/vnd.jupyter.widget-view+json": {
       "model_id": "6643ff11f7204b058548af3b668c4df5",
       "version_major": 2,
       "version_minor": 0
      },
      "text/plain": [
       "  0%|          | 0/6 [00:00<?, ?it/s]"
      ]
     },
     "metadata": {},
     "output_type": "display_data"
    },
    {
     "data": {
      "application/vnd.jupyter.widget-view+json": {
       "model_id": "664c180f3e474107b85f69f228e297c9",
       "version_major": 2,
       "version_minor": 0
      },
      "text/plain": [
       "  0%|          | 0/6 [00:00<?, ?it/s]"
      ]
     },
     "metadata": {},
     "output_type": "display_data"
    },
    {
     "data": {
      "application/vnd.jupyter.widget-view+json": {
       "model_id": "820da7a4649a4e57a0273b6220b51eef",
       "version_major": 2,
       "version_minor": 0
      },
      "text/plain": [
       "  0%|          | 0/6 [00:00<?, ?it/s]"
      ]
     },
     "metadata": {},
     "output_type": "display_data"
    },
    {
     "data": {
      "application/vnd.jupyter.widget-view+json": {
       "model_id": "ea2a4e510cbb4e63ac09d025fb0299fd",
       "version_major": 2,
       "version_minor": 0
      },
      "text/plain": [
       "  0%|          | 0/6 [00:00<?, ?it/s]"
      ]
     },
     "metadata": {},
     "output_type": "display_data"
    },
    {
     "data": {
      "application/vnd.jupyter.widget-view+json": {
       "model_id": "8bfc5be50ed84bb8a6891b00a3816473",
       "version_major": 2,
       "version_minor": 0
      },
      "text/plain": [
       "  0%|          | 0/6 [00:00<?, ?it/s]"
      ]
     },
     "metadata": {},
     "output_type": "display_data"
    },
    {
     "data": {
      "application/vnd.jupyter.widget-view+json": {
       "model_id": "eb1098c046984761a060d47dee12c75e",
       "version_major": 2,
       "version_minor": 0
      },
      "text/plain": [
       "  0%|          | 0/6 [00:00<?, ?it/s]"
      ]
     },
     "metadata": {},
     "output_type": "display_data"
    },
    {
     "data": {
      "application/vnd.jupyter.widget-view+json": {
       "model_id": "d4b8e5ff3e7548689c0a854d7f992dc8",
       "version_major": 2,
       "version_minor": 0
      },
      "text/plain": [
       "  0%|          | 0/6 [00:00<?, ?it/s]"
      ]
     },
     "metadata": {},
     "output_type": "display_data"
    },
    {
     "data": {
      "application/vnd.jupyter.widget-view+json": {
       "model_id": "c5eb421049254427b732851aec58c5b6",
       "version_major": 2,
       "version_minor": 0
      },
      "text/plain": [
       "  0%|          | 0/6 [00:00<?, ?it/s]"
      ]
     },
     "metadata": {},
     "output_type": "display_data"
    },
    {
     "data": {
      "application/vnd.jupyter.widget-view+json": {
       "model_id": "54b9b3bd53c74ba1b0ce929b259e5446",
       "version_major": 2,
       "version_minor": 0
      },
      "text/plain": [
       "  0%|          | 0/6 [00:00<?, ?it/s]"
      ]
     },
     "metadata": {},
     "output_type": "display_data"
    },
    {
     "data": {
      "application/vnd.jupyter.widget-view+json": {
       "model_id": "7c9a054c665647ee8848a838d75e555f",
       "version_major": 2,
       "version_minor": 0
      },
      "text/plain": [
       "  0%|          | 0/6 [00:00<?, ?it/s]"
      ]
     },
     "metadata": {},
     "output_type": "display_data"
    },
    {
     "data": {
      "application/vnd.jupyter.widget-view+json": {
       "model_id": "d728e6daa5ba401ba79284bd7ee4adc8",
       "version_major": 2,
       "version_minor": 0
      },
      "text/plain": [
       "  0%|          | 0/6 [00:00<?, ?it/s]"
      ]
     },
     "metadata": {},
     "output_type": "display_data"
    },
    {
     "data": {
      "application/vnd.jupyter.widget-view+json": {
       "model_id": "30600a5a12864f8ba6cd64c22f31b3a2",
       "version_major": 2,
       "version_minor": 0
      },
      "text/plain": [
       "  0%|          | 0/6 [00:00<?, ?it/s]"
      ]
     },
     "metadata": {},
     "output_type": "display_data"
    },
    {
     "data": {
      "application/vnd.jupyter.widget-view+json": {
       "model_id": "a84aa970fec4434a9e47845ff2cab585",
       "version_major": 2,
       "version_minor": 0
      },
      "text/plain": [
       "  0%|          | 0/6 [00:00<?, ?it/s]"
      ]
     },
     "metadata": {},
     "output_type": "display_data"
    },
    {
     "data": {
      "application/vnd.jupyter.widget-view+json": {
       "model_id": "554d3a3ea7a14322a2ea2dede0c9716d",
       "version_major": 2,
       "version_minor": 0
      },
      "text/plain": [
       "  0%|          | 0/6 [00:00<?, ?it/s]"
      ]
     },
     "metadata": {},
     "output_type": "display_data"
    },
    {
     "data": {
      "application/vnd.jupyter.widget-view+json": {
       "model_id": "b4e1fc7dd7a64a6eaa490600f220181c",
       "version_major": 2,
       "version_minor": 0
      },
      "text/plain": [
       "  0%|          | 0/6 [00:00<?, ?it/s]"
      ]
     },
     "metadata": {},
     "output_type": "display_data"
    },
    {
     "data": {
      "application/vnd.jupyter.widget-view+json": {
       "model_id": "efeb297dfb764f8495fa587439599348",
       "version_major": 2,
       "version_minor": 0
      },
      "text/plain": [
       "  0%|          | 0/6 [00:00<?, ?it/s]"
      ]
     },
     "metadata": {},
     "output_type": "display_data"
    },
    {
     "data": {
      "application/vnd.jupyter.widget-view+json": {
       "model_id": "acd0da46749648eb8b458d1c13bd9aac",
       "version_major": 2,
       "version_minor": 0
      },
      "text/plain": [
       "  0%|          | 0/6 [00:00<?, ?it/s]"
      ]
     },
     "metadata": {},
     "output_type": "display_data"
    },
    {
     "data": {
      "application/vnd.jupyter.widget-view+json": {
       "model_id": "fa9a02ce76e6434d9d690bc3db93f7da",
       "version_major": 2,
       "version_minor": 0
      },
      "text/plain": [
       "Testing types:   0%|          | 0/2 [00:00<?, ?it/s]"
      ]
     },
     "metadata": {},
     "output_type": "display_data"
    },
    {
     "data": {
      "application/vnd.jupyter.widget-view+json": {
       "model_id": "c89381d0dd7946feb46ce6b2132edf4e",
       "version_major": 2,
       "version_minor": 0
      },
      "text/plain": [
       "Testing numeric:   0%|          | 0/50 [00:00<?, ?it/s]"
      ]
     },
     "metadata": {},
     "output_type": "display_data"
    },
    {
     "data": {
      "application/vnd.jupyter.widget-view+json": {
       "model_id": "55bc356038304e1c96709ab455855338",
       "version_major": 2,
       "version_minor": 0
      },
      "text/plain": [
       "  0%|          | 0/6 [00:00<?, ?it/s]"
      ]
     },
     "metadata": {},
     "output_type": "display_data"
    },
    {
     "data": {
      "application/vnd.jupyter.widget-view+json": {
       "model_id": "d28985d947a94158aa675bb96ccb4846",
       "version_major": 2,
       "version_minor": 0
      },
      "text/plain": [
       "  0%|          | 0/6 [00:00<?, ?it/s]"
      ]
     },
     "metadata": {},
     "output_type": "display_data"
    },
    {
     "data": {
      "application/vnd.jupyter.widget-view+json": {
       "model_id": "69ea12b76ed84909a6a23ceddf34f10e",
       "version_major": 2,
       "version_minor": 0
      },
      "text/plain": [
       "  0%|          | 0/6 [00:00<?, ?it/s]"
      ]
     },
     "metadata": {},
     "output_type": "display_data"
    },
    {
     "data": {
      "application/vnd.jupyter.widget-view+json": {
       "model_id": "e4c6b5f66f57493fb25c56aac68dd46a",
       "version_major": 2,
       "version_minor": 0
      },
      "text/plain": [
       "  0%|          | 0/6 [00:00<?, ?it/s]"
      ]
     },
     "metadata": {},
     "output_type": "display_data"
    },
    {
     "data": {
      "application/vnd.jupyter.widget-view+json": {
       "model_id": "a68fe403298e4b639402eeba9a8971e8",
       "version_major": 2,
       "version_minor": 0
      },
      "text/plain": [
       "  0%|          | 0/6 [00:00<?, ?it/s]"
      ]
     },
     "metadata": {},
     "output_type": "display_data"
    },
    {
     "data": {
      "application/vnd.jupyter.widget-view+json": {
       "model_id": "e44e0b19aa1947f19b04074e7932d9da",
       "version_major": 2,
       "version_minor": 0
      },
      "text/plain": [
       "  0%|          | 0/6 [00:00<?, ?it/s]"
      ]
     },
     "metadata": {},
     "output_type": "display_data"
    },
    {
     "data": {
      "application/vnd.jupyter.widget-view+json": {
       "model_id": "8ab754b37a7246bab375c89d09446d3f",
       "version_major": 2,
       "version_minor": 0
      },
      "text/plain": [
       "  0%|          | 0/6 [00:00<?, ?it/s]"
      ]
     },
     "metadata": {},
     "output_type": "display_data"
    },
    {
     "data": {
      "application/vnd.jupyter.widget-view+json": {
       "model_id": "b5fdd9a5512e40f49df41c13147bb3d7",
       "version_major": 2,
       "version_minor": 0
      },
      "text/plain": [
       "  0%|          | 0/6 [00:00<?, ?it/s]"
      ]
     },
     "metadata": {},
     "output_type": "display_data"
    },
    {
     "data": {
      "application/vnd.jupyter.widget-view+json": {
       "model_id": "59e84e3facb4418a80bbe4b38c72eec6",
       "version_major": 2,
       "version_minor": 0
      },
      "text/plain": [
       "  0%|          | 0/6 [00:00<?, ?it/s]"
      ]
     },
     "metadata": {},
     "output_type": "display_data"
    },
    {
     "data": {
      "application/vnd.jupyter.widget-view+json": {
       "model_id": "5b31294a3ceb4324b9703e6ca5a6d621",
       "version_major": 2,
       "version_minor": 0
      },
      "text/plain": [
       "  0%|          | 0/6 [00:00<?, ?it/s]"
      ]
     },
     "metadata": {},
     "output_type": "display_data"
    },
    {
     "data": {
      "application/vnd.jupyter.widget-view+json": {
       "model_id": "8f7fdc0d19d649f9b980cef95e2510ab",
       "version_major": 2,
       "version_minor": 0
      },
      "text/plain": [
       "  0%|          | 0/6 [00:00<?, ?it/s]"
      ]
     },
     "metadata": {},
     "output_type": "display_data"
    },
    {
     "data": {
      "application/vnd.jupyter.widget-view+json": {
       "model_id": "c32764d126a646fa8e79ca8c37c918ab",
       "version_major": 2,
       "version_minor": 0
      },
      "text/plain": [
       "  0%|          | 0/6 [00:00<?, ?it/s]"
      ]
     },
     "metadata": {},
     "output_type": "display_data"
    },
    {
     "data": {
      "application/vnd.jupyter.widget-view+json": {
       "model_id": "840b42ad10bf4548966b7b6efdf5a3e3",
       "version_major": 2,
       "version_minor": 0
      },
      "text/plain": [
       "  0%|          | 0/6 [00:00<?, ?it/s]"
      ]
     },
     "metadata": {},
     "output_type": "display_data"
    },
    {
     "data": {
      "application/vnd.jupyter.widget-view+json": {
       "model_id": "bb86df01b12744d7b9cbb3678d95eaea",
       "version_major": 2,
       "version_minor": 0
      },
      "text/plain": [
       "  0%|          | 0/6 [00:00<?, ?it/s]"
      ]
     },
     "metadata": {},
     "output_type": "display_data"
    },
    {
     "data": {
      "application/vnd.jupyter.widget-view+json": {
       "model_id": "c58ea261c80941259f393f0b00e45689",
       "version_major": 2,
       "version_minor": 0
      },
      "text/plain": [
       "  0%|          | 0/6 [00:00<?, ?it/s]"
      ]
     },
     "metadata": {},
     "output_type": "display_data"
    },
    {
     "data": {
      "application/vnd.jupyter.widget-view+json": {
       "model_id": "c9a39205bd32435482a07b03bdf9c2d8",
       "version_major": 2,
       "version_minor": 0
      },
      "text/plain": [
       "  0%|          | 0/6 [00:00<?, ?it/s]"
      ]
     },
     "metadata": {},
     "output_type": "display_data"
    },
    {
     "data": {
      "application/vnd.jupyter.widget-view+json": {
       "model_id": "6df8e3aecb054a67aafabb73d1922ae9",
       "version_major": 2,
       "version_minor": 0
      },
      "text/plain": [
       "  0%|          | 0/6 [00:00<?, ?it/s]"
      ]
     },
     "metadata": {},
     "output_type": "display_data"
    },
    {
     "data": {
      "application/vnd.jupyter.widget-view+json": {
       "model_id": "aaa27b01abf54d61b35a919b26ab09d9",
       "version_major": 2,
       "version_minor": 0
      },
      "text/plain": [
       "  0%|          | 0/6 [00:00<?, ?it/s]"
      ]
     },
     "metadata": {},
     "output_type": "display_data"
    },
    {
     "data": {
      "application/vnd.jupyter.widget-view+json": {
       "model_id": "192b8f9b506b4185901b9b8b0abe0c4a",
       "version_major": 2,
       "version_minor": 0
      },
      "text/plain": [
       "  0%|          | 0/6 [00:00<?, ?it/s]"
      ]
     },
     "metadata": {},
     "output_type": "display_data"
    },
    {
     "data": {
      "application/vnd.jupyter.widget-view+json": {
       "model_id": "d9518080ab12448f9145f5c1e94364ed",
       "version_major": 2,
       "version_minor": 0
      },
      "text/plain": [
       "  0%|          | 0/6 [00:00<?, ?it/s]"
      ]
     },
     "metadata": {},
     "output_type": "display_data"
    },
    {
     "data": {
      "application/vnd.jupyter.widget-view+json": {
       "model_id": "cc7f57132a354abf92f6a3570cd90ec5",
       "version_major": 2,
       "version_minor": 0
      },
      "text/plain": [
       "  0%|          | 0/6 [00:00<?, ?it/s]"
      ]
     },
     "metadata": {},
     "output_type": "display_data"
    },
    {
     "data": {
      "application/vnd.jupyter.widget-view+json": {
       "model_id": "6c4dc38d169440488ea7f59abdfbe522",
       "version_major": 2,
       "version_minor": 0
      },
      "text/plain": [
       "  0%|          | 0/6 [00:00<?, ?it/s]"
      ]
     },
     "metadata": {},
     "output_type": "display_data"
    },
    {
     "data": {
      "application/vnd.jupyter.widget-view+json": {
       "model_id": "a6701be271cf4957b9828e3d80ef18b4",
       "version_major": 2,
       "version_minor": 0
      },
      "text/plain": [
       "  0%|          | 0/6 [00:00<?, ?it/s]"
      ]
     },
     "metadata": {},
     "output_type": "display_data"
    },
    {
     "data": {
      "application/vnd.jupyter.widget-view+json": {
       "model_id": "e34c4a5b8ff443ca821836a6588f239e",
       "version_major": 2,
       "version_minor": 0
      },
      "text/plain": [
       "  0%|          | 0/6 [00:00<?, ?it/s]"
      ]
     },
     "metadata": {},
     "output_type": "display_data"
    },
    {
     "data": {
      "application/vnd.jupyter.widget-view+json": {
       "model_id": "101f5cf652a440d1b805d3af26638d8a",
       "version_major": 2,
       "version_minor": 0
      },
      "text/plain": [
       "  0%|          | 0/6 [00:00<?, ?it/s]"
      ]
     },
     "metadata": {},
     "output_type": "display_data"
    },
    {
     "data": {
      "application/vnd.jupyter.widget-view+json": {
       "model_id": "0d7e2dfa92a74edbbf439b8e591669fd",
       "version_major": 2,
       "version_minor": 0
      },
      "text/plain": [
       "  0%|          | 0/6 [00:00<?, ?it/s]"
      ]
     },
     "metadata": {},
     "output_type": "display_data"
    },
    {
     "data": {
      "application/vnd.jupyter.widget-view+json": {
       "model_id": "2a0f26b688904a4c9ffcaa32c8f9804f",
       "version_major": 2,
       "version_minor": 0
      },
      "text/plain": [
       "  0%|          | 0/6 [00:00<?, ?it/s]"
      ]
     },
     "metadata": {},
     "output_type": "display_data"
    },
    {
     "data": {
      "application/vnd.jupyter.widget-view+json": {
       "model_id": "9ce878f4d1994e0a97bc291063d85831",
       "version_major": 2,
       "version_minor": 0
      },
      "text/plain": [
       "  0%|          | 0/6 [00:00<?, ?it/s]"
      ]
     },
     "metadata": {},
     "output_type": "display_data"
    },
    {
     "data": {
      "application/vnd.jupyter.widget-view+json": {
       "model_id": "1203b6676aea46f18e1e31d4f9775285",
       "version_major": 2,
       "version_minor": 0
      },
      "text/plain": [
       "  0%|          | 0/6 [00:00<?, ?it/s]"
      ]
     },
     "metadata": {},
     "output_type": "display_data"
    },
    {
     "data": {
      "application/vnd.jupyter.widget-view+json": {
       "model_id": "e6997c5f1874431c85ca08cd082067dd",
       "version_major": 2,
       "version_minor": 0
      },
      "text/plain": [
       "  0%|          | 0/6 [00:00<?, ?it/s]"
      ]
     },
     "metadata": {},
     "output_type": "display_data"
    },
    {
     "data": {
      "application/vnd.jupyter.widget-view+json": {
       "model_id": "87b25fe47efc4d9da9f142dc42c73a36",
       "version_major": 2,
       "version_minor": 0
      },
      "text/plain": [
       "  0%|          | 0/6 [00:00<?, ?it/s]"
      ]
     },
     "metadata": {},
     "output_type": "display_data"
    },
    {
     "data": {
      "application/vnd.jupyter.widget-view+json": {
       "model_id": "a6862e1fd7074b24870f4b424379e3cb",
       "version_major": 2,
       "version_minor": 0
      },
      "text/plain": [
       "  0%|          | 0/6 [00:00<?, ?it/s]"
      ]
     },
     "metadata": {},
     "output_type": "display_data"
    },
    {
     "data": {
      "application/vnd.jupyter.widget-view+json": {
       "model_id": "25625ea44a724675b7d0052bde2a28d9",
       "version_major": 2,
       "version_minor": 0
      },
      "text/plain": [
       "  0%|          | 0/6 [00:00<?, ?it/s]"
      ]
     },
     "metadata": {},
     "output_type": "display_data"
    },
    {
     "data": {
      "application/vnd.jupyter.widget-view+json": {
       "model_id": "1c18adb67d87474bbd06cd2bea9e0335",
       "version_major": 2,
       "version_minor": 0
      },
      "text/plain": [
       "  0%|          | 0/6 [00:00<?, ?it/s]"
      ]
     },
     "metadata": {},
     "output_type": "display_data"
    },
    {
     "data": {
      "application/vnd.jupyter.widget-view+json": {
       "model_id": "0d5fb7f378414f988f23046ec06c098a",
       "version_major": 2,
       "version_minor": 0
      },
      "text/plain": [
       "  0%|          | 0/6 [00:00<?, ?it/s]"
      ]
     },
     "metadata": {},
     "output_type": "display_data"
    },
    {
     "data": {
      "application/vnd.jupyter.widget-view+json": {
       "model_id": "1fd704c3449b462a9019ff34021a03eb",
       "version_major": 2,
       "version_minor": 0
      },
      "text/plain": [
       "  0%|          | 0/6 [00:00<?, ?it/s]"
      ]
     },
     "metadata": {},
     "output_type": "display_data"
    },
    {
     "data": {
      "application/vnd.jupyter.widget-view+json": {
       "model_id": "80ccea1053b14baa9bd3354680a0bd19",
       "version_major": 2,
       "version_minor": 0
      },
      "text/plain": [
       "  0%|          | 0/6 [00:00<?, ?it/s]"
      ]
     },
     "metadata": {},
     "output_type": "display_data"
    },
    {
     "data": {
      "application/vnd.jupyter.widget-view+json": {
       "model_id": "38f5b49cb62f4a6293096bcd091983db",
       "version_major": 2,
       "version_minor": 0
      },
      "text/plain": [
       "  0%|          | 0/6 [00:00<?, ?it/s]"
      ]
     },
     "metadata": {},
     "output_type": "display_data"
    },
    {
     "data": {
      "application/vnd.jupyter.widget-view+json": {
       "model_id": "09cc379d9dc5494ea546d665237df258",
       "version_major": 2,
       "version_minor": 0
      },
      "text/plain": [
       "  0%|          | 0/6 [00:00<?, ?it/s]"
      ]
     },
     "metadata": {},
     "output_type": "display_data"
    },
    {
     "data": {
      "application/vnd.jupyter.widget-view+json": {
       "model_id": "1388ad36a63a4b9082d1573c0930c51e",
       "version_major": 2,
       "version_minor": 0
      },
      "text/plain": [
       "  0%|          | 0/6 [00:00<?, ?it/s]"
      ]
     },
     "metadata": {},
     "output_type": "display_data"
    },
    {
     "data": {
      "application/vnd.jupyter.widget-view+json": {
       "model_id": "9eb84be7abd642609e0557d61d361422",
       "version_major": 2,
       "version_minor": 0
      },
      "text/plain": [
       "  0%|          | 0/6 [00:00<?, ?it/s]"
      ]
     },
     "metadata": {},
     "output_type": "display_data"
    },
    {
     "data": {
      "application/vnd.jupyter.widget-view+json": {
       "model_id": "a3fd6e5100fa4d9b80138b04a1a6c9b5",
       "version_major": 2,
       "version_minor": 0
      },
      "text/plain": [
       "  0%|          | 0/6 [00:00<?, ?it/s]"
      ]
     },
     "metadata": {},
     "output_type": "display_data"
    },
    {
     "data": {
      "application/vnd.jupyter.widget-view+json": {
       "model_id": "c97cbf59929d47bc89ea7c6073f4a45c",
       "version_major": 2,
       "version_minor": 0
      },
      "text/plain": [
       "  0%|          | 0/6 [00:00<?, ?it/s]"
      ]
     },
     "metadata": {},
     "output_type": "display_data"
    },
    {
     "data": {
      "application/vnd.jupyter.widget-view+json": {
       "model_id": "12aacbe6983140f586f01871ce9bad3e",
       "version_major": 2,
       "version_minor": 0
      },
      "text/plain": [
       "  0%|          | 0/6 [00:00<?, ?it/s]"
      ]
     },
     "metadata": {},
     "output_type": "display_data"
    },
    {
     "data": {
      "application/vnd.jupyter.widget-view+json": {
       "model_id": "8f60c0ed634a41a3a64d7b92bc415b86",
       "version_major": 2,
       "version_minor": 0
      },
      "text/plain": [
       "  0%|          | 0/6 [00:00<?, ?it/s]"
      ]
     },
     "metadata": {},
     "output_type": "display_data"
    },
    {
     "data": {
      "application/vnd.jupyter.widget-view+json": {
       "model_id": "c959ece8446e4e8dbe5f9863498230f1",
       "version_major": 2,
       "version_minor": 0
      },
      "text/plain": [
       "  0%|          | 0/6 [00:00<?, ?it/s]"
      ]
     },
     "metadata": {},
     "output_type": "display_data"
    },
    {
     "data": {
      "application/vnd.jupyter.widget-view+json": {
       "model_id": "0aff0532404d4c929d74f7efa7c2e006",
       "version_major": 2,
       "version_minor": 0
      },
      "text/plain": [
       "  0%|          | 0/6 [00:00<?, ?it/s]"
      ]
     },
     "metadata": {},
     "output_type": "display_data"
    },
    {
     "data": {
      "application/vnd.jupyter.widget-view+json": {
       "model_id": "c090e1eb32994dccb092d4e723651a02",
       "version_major": 2,
       "version_minor": 0
      },
      "text/plain": [
       "  0%|          | 0/6 [00:00<?, ?it/s]"
      ]
     },
     "metadata": {},
     "output_type": "display_data"
    },
    {
     "data": {
      "application/vnd.jupyter.widget-view+json": {
       "model_id": "e47cc165ff9d4594afaa9a3bfc76d431",
       "version_major": 2,
       "version_minor": 0
      },
      "text/plain": [
       "  0%|          | 0/6 [00:00<?, ?it/s]"
      ]
     },
     "metadata": {},
     "output_type": "display_data"
    },
    {
     "data": {
      "application/vnd.jupyter.widget-view+json": {
       "model_id": "76a522379331497183bfdc2687e918b0",
       "version_major": 2,
       "version_minor": 0
      },
      "text/plain": [
       "  0%|          | 0/6 [00:00<?, ?it/s]"
      ]
     },
     "metadata": {},
     "output_type": "display_data"
    },
    {
     "data": {
      "application/vnd.jupyter.widget-view+json": {
       "model_id": "3cba73bdd6b642a89ef90f2e6f85836d",
       "version_major": 2,
       "version_minor": 0
      },
      "text/plain": [
       "Testing special:   0%|          | 0/50 [00:00<?, ?it/s]"
      ]
     },
     "metadata": {},
     "output_type": "display_data"
    },
    {
     "data": {
      "application/vnd.jupyter.widget-view+json": {
       "model_id": "de7b71e01cc540b890952b84abe5b7b8",
       "version_major": 2,
       "version_minor": 0
      },
      "text/plain": [
       "  0%|          | 0/6 [00:00<?, ?it/s]"
      ]
     },
     "metadata": {},
     "output_type": "display_data"
    },
    {
     "data": {
      "application/vnd.jupyter.widget-view+json": {
       "model_id": "cecf71c67fe4420fa0bd178836ec8a74",
       "version_major": 2,
       "version_minor": 0
      },
      "text/plain": [
       "  0%|          | 0/6 [00:00<?, ?it/s]"
      ]
     },
     "metadata": {},
     "output_type": "display_data"
    },
    {
     "data": {
      "application/vnd.jupyter.widget-view+json": {
       "model_id": "22a1560e5c4341a2a4b5e5d79434f3b8",
       "version_major": 2,
       "version_minor": 0
      },
      "text/plain": [
       "  0%|          | 0/6 [00:00<?, ?it/s]"
      ]
     },
     "metadata": {},
     "output_type": "display_data"
    },
    {
     "data": {
      "application/vnd.jupyter.widget-view+json": {
       "model_id": "00044c49c9af45c4a4f38130945ed760",
       "version_major": 2,
       "version_minor": 0
      },
      "text/plain": [
       "  0%|          | 0/6 [00:00<?, ?it/s]"
      ]
     },
     "metadata": {},
     "output_type": "display_data"
    },
    {
     "data": {
      "application/vnd.jupyter.widget-view+json": {
       "model_id": "1d952e350f8c471cb68edd1f33ee8510",
       "version_major": 2,
       "version_minor": 0
      },
      "text/plain": [
       "  0%|          | 0/6 [00:00<?, ?it/s]"
      ]
     },
     "metadata": {},
     "output_type": "display_data"
    },
    {
     "data": {
      "application/vnd.jupyter.widget-view+json": {
       "model_id": "d19e512522e14b85ba338d76c695a3f0",
       "version_major": 2,
       "version_minor": 0
      },
      "text/plain": [
       "  0%|          | 0/6 [00:00<?, ?it/s]"
      ]
     },
     "metadata": {},
     "output_type": "display_data"
    },
    {
     "data": {
      "application/vnd.jupyter.widget-view+json": {
       "model_id": "235e44b5d1194350b508814f1825fc61",
       "version_major": 2,
       "version_minor": 0
      },
      "text/plain": [
       "  0%|          | 0/6 [00:00<?, ?it/s]"
      ]
     },
     "metadata": {},
     "output_type": "display_data"
    },
    {
     "data": {
      "application/vnd.jupyter.widget-view+json": {
       "model_id": "14b0fd957611489a97540b53915db720",
       "version_major": 2,
       "version_minor": 0
      },
      "text/plain": [
       "  0%|          | 0/6 [00:00<?, ?it/s]"
      ]
     },
     "metadata": {},
     "output_type": "display_data"
    },
    {
     "data": {
      "application/vnd.jupyter.widget-view+json": {
       "model_id": "1297bb9fa089411798b0c80268c499c3",
       "version_major": 2,
       "version_minor": 0
      },
      "text/plain": [
       "  0%|          | 0/6 [00:00<?, ?it/s]"
      ]
     },
     "metadata": {},
     "output_type": "display_data"
    },
    {
     "data": {
      "application/vnd.jupyter.widget-view+json": {
       "model_id": "4658da62334f4d8797379b8410ad5fd5",
       "version_major": 2,
       "version_minor": 0
      },
      "text/plain": [
       "  0%|          | 0/6 [00:00<?, ?it/s]"
      ]
     },
     "metadata": {},
     "output_type": "display_data"
    },
    {
     "data": {
      "application/vnd.jupyter.widget-view+json": {
       "model_id": "085d65e86bc14914861bc0e6dcaebf65",
       "version_major": 2,
       "version_minor": 0
      },
      "text/plain": [
       "  0%|          | 0/6 [00:00<?, ?it/s]"
      ]
     },
     "metadata": {},
     "output_type": "display_data"
    },
    {
     "data": {
      "application/vnd.jupyter.widget-view+json": {
       "model_id": "586eba20fffa4ac0995600714482619d",
       "version_major": 2,
       "version_minor": 0
      },
      "text/plain": [
       "  0%|          | 0/6 [00:00<?, ?it/s]"
      ]
     },
     "metadata": {},
     "output_type": "display_data"
    },
    {
     "data": {
      "application/vnd.jupyter.widget-view+json": {
       "model_id": "b88214342f3447b18f7e081893a86934",
       "version_major": 2,
       "version_minor": 0
      },
      "text/plain": [
       "  0%|          | 0/6 [00:00<?, ?it/s]"
      ]
     },
     "metadata": {},
     "output_type": "display_data"
    },
    {
     "data": {
      "application/vnd.jupyter.widget-view+json": {
       "model_id": "2b670078307844deaeda737e32d4bc07",
       "version_major": 2,
       "version_minor": 0
      },
      "text/plain": [
       "  0%|          | 0/6 [00:00<?, ?it/s]"
      ]
     },
     "metadata": {},
     "output_type": "display_data"
    },
    {
     "data": {
      "application/vnd.jupyter.widget-view+json": {
       "model_id": "78bfcc185fa04b95a17b1bbd77b128f6",
       "version_major": 2,
       "version_minor": 0
      },
      "text/plain": [
       "  0%|          | 0/6 [00:00<?, ?it/s]"
      ]
     },
     "metadata": {},
     "output_type": "display_data"
    },
    {
     "data": {
      "application/vnd.jupyter.widget-view+json": {
       "model_id": "a991d9b41557490cb34d4b842a91a959",
       "version_major": 2,
       "version_minor": 0
      },
      "text/plain": [
       "  0%|          | 0/6 [00:00<?, ?it/s]"
      ]
     },
     "metadata": {},
     "output_type": "display_data"
    },
    {
     "data": {
      "application/vnd.jupyter.widget-view+json": {
       "model_id": "4745832e73f3418281aec3330be3ad9f",
       "version_major": 2,
       "version_minor": 0
      },
      "text/plain": [
       "  0%|          | 0/6 [00:00<?, ?it/s]"
      ]
     },
     "metadata": {},
     "output_type": "display_data"
    },
    {
     "data": {
      "application/vnd.jupyter.widget-view+json": {
       "model_id": "2dc7b9274007429dafb43f38583011cf",
       "version_major": 2,
       "version_minor": 0
      },
      "text/plain": [
       "  0%|          | 0/6 [00:00<?, ?it/s]"
      ]
     },
     "metadata": {},
     "output_type": "display_data"
    },
    {
     "data": {
      "application/vnd.jupyter.widget-view+json": {
       "model_id": "aa91c5185b2b4f5d8090473a9987efee",
       "version_major": 2,
       "version_minor": 0
      },
      "text/plain": [
       "  0%|          | 0/6 [00:00<?, ?it/s]"
      ]
     },
     "metadata": {},
     "output_type": "display_data"
    },
    {
     "data": {
      "application/vnd.jupyter.widget-view+json": {
       "model_id": "a04d60214a2a4156a951777d834c637c",
       "version_major": 2,
       "version_minor": 0
      },
      "text/plain": [
       "  0%|          | 0/6 [00:00<?, ?it/s]"
      ]
     },
     "metadata": {},
     "output_type": "display_data"
    },
    {
     "data": {
      "application/vnd.jupyter.widget-view+json": {
       "model_id": "53da9a0af9e443049de30ce349b94fb1",
       "version_major": 2,
       "version_minor": 0
      },
      "text/plain": [
       "  0%|          | 0/6 [00:00<?, ?it/s]"
      ]
     },
     "metadata": {},
     "output_type": "display_data"
    },
    {
     "data": {
      "application/vnd.jupyter.widget-view+json": {
       "model_id": "e17d8ca059984c9f908b1655820cbe0d",
       "version_major": 2,
       "version_minor": 0
      },
      "text/plain": [
       "  0%|          | 0/6 [00:00<?, ?it/s]"
      ]
     },
     "metadata": {},
     "output_type": "display_data"
    },
    {
     "data": {
      "application/vnd.jupyter.widget-view+json": {
       "model_id": "51fb8fbb881749a6a273e6f5a04f3fa5",
       "version_major": 2,
       "version_minor": 0
      },
      "text/plain": [
       "  0%|          | 0/6 [00:00<?, ?it/s]"
      ]
     },
     "metadata": {},
     "output_type": "display_data"
    },
    {
     "data": {
      "application/vnd.jupyter.widget-view+json": {
       "model_id": "f728303dc69c4e159034f2d365f398b3",
       "version_major": 2,
       "version_minor": 0
      },
      "text/plain": [
       "  0%|          | 0/6 [00:00<?, ?it/s]"
      ]
     },
     "metadata": {},
     "output_type": "display_data"
    },
    {
     "data": {
      "application/vnd.jupyter.widget-view+json": {
       "model_id": "e14e979d52ea4d90ab9950085fbfad1d",
       "version_major": 2,
       "version_minor": 0
      },
      "text/plain": [
       "  0%|          | 0/6 [00:00<?, ?it/s]"
      ]
     },
     "metadata": {},
     "output_type": "display_data"
    },
    {
     "data": {
      "application/vnd.jupyter.widget-view+json": {
       "model_id": "be26229bfd2144a6adae8c4d274ffb7e",
       "version_major": 2,
       "version_minor": 0
      },
      "text/plain": [
       "  0%|          | 0/6 [00:00<?, ?it/s]"
      ]
     },
     "metadata": {},
     "output_type": "display_data"
    },
    {
     "data": {
      "application/vnd.jupyter.widget-view+json": {
       "model_id": "43cbe5305d104f92af244ea9a533736e",
       "version_major": 2,
       "version_minor": 0
      },
      "text/plain": [
       "  0%|          | 0/6 [00:00<?, ?it/s]"
      ]
     },
     "metadata": {},
     "output_type": "display_data"
    },
    {
     "data": {
      "application/vnd.jupyter.widget-view+json": {
       "model_id": "c85362fa0480404ca4994f85eeadaddc",
       "version_major": 2,
       "version_minor": 0
      },
      "text/plain": [
       "  0%|          | 0/6 [00:00<?, ?it/s]"
      ]
     },
     "metadata": {},
     "output_type": "display_data"
    },
    {
     "data": {
      "application/vnd.jupyter.widget-view+json": {
       "model_id": "430bbf2e7654485caee72887d698ee9d",
       "version_major": 2,
       "version_minor": 0
      },
      "text/plain": [
       "  0%|          | 0/6 [00:00<?, ?it/s]"
      ]
     },
     "metadata": {},
     "output_type": "display_data"
    },
    {
     "data": {
      "application/vnd.jupyter.widget-view+json": {
       "model_id": "cf5e5fefb25f4a38a72f7b52b9a72670",
       "version_major": 2,
       "version_minor": 0
      },
      "text/plain": [
       "  0%|          | 0/6 [00:00<?, ?it/s]"
      ]
     },
     "metadata": {},
     "output_type": "display_data"
    },
    {
     "data": {
      "application/vnd.jupyter.widget-view+json": {
       "model_id": "eba45f085ddf4f72b7111974b440a89d",
       "version_major": 2,
       "version_minor": 0
      },
      "text/plain": [
       "  0%|          | 0/6 [00:00<?, ?it/s]"
      ]
     },
     "metadata": {},
     "output_type": "display_data"
    },
    {
     "data": {
      "application/vnd.jupyter.widget-view+json": {
       "model_id": "8f35b191f82c4781ac05e4aa01c73626",
       "version_major": 2,
       "version_minor": 0
      },
      "text/plain": [
       "  0%|          | 0/6 [00:00<?, ?it/s]"
      ]
     },
     "metadata": {},
     "output_type": "display_data"
    },
    {
     "data": {
      "application/vnd.jupyter.widget-view+json": {
       "model_id": "a5396867b38f4f1d80568628e6f2579d",
       "version_major": 2,
       "version_minor": 0
      },
      "text/plain": [
       "  0%|          | 0/6 [00:00<?, ?it/s]"
      ]
     },
     "metadata": {},
     "output_type": "display_data"
    },
    {
     "data": {
      "application/vnd.jupyter.widget-view+json": {
       "model_id": "00b15818624b404abc64fc8b35c96297",
       "version_major": 2,
       "version_minor": 0
      },
      "text/plain": [
       "  0%|          | 0/6 [00:00<?, ?it/s]"
      ]
     },
     "metadata": {},
     "output_type": "display_data"
    },
    {
     "data": {
      "application/vnd.jupyter.widget-view+json": {
       "model_id": "7344277b0e244094bb1a92d3bd7a3082",
       "version_major": 2,
       "version_minor": 0
      },
      "text/plain": [
       "  0%|          | 0/6 [00:00<?, ?it/s]"
      ]
     },
     "metadata": {},
     "output_type": "display_data"
    },
    {
     "data": {
      "application/vnd.jupyter.widget-view+json": {
       "model_id": "19541dd1fe384984b4db17ba4a4b6357",
       "version_major": 2,
       "version_minor": 0
      },
      "text/plain": [
       "  0%|          | 0/6 [00:00<?, ?it/s]"
      ]
     },
     "metadata": {},
     "output_type": "display_data"
    },
    {
     "data": {
      "application/vnd.jupyter.widget-view+json": {
       "model_id": "f71e304153a64627a3a44a94eb896618",
       "version_major": 2,
       "version_minor": 0
      },
      "text/plain": [
       "  0%|          | 0/6 [00:00<?, ?it/s]"
      ]
     },
     "metadata": {},
     "output_type": "display_data"
    },
    {
     "data": {
      "application/vnd.jupyter.widget-view+json": {
       "model_id": "0108e6193ffc4b6199895d7430666c26",
       "version_major": 2,
       "version_minor": 0
      },
      "text/plain": [
       "  0%|          | 0/6 [00:00<?, ?it/s]"
      ]
     },
     "metadata": {},
     "output_type": "display_data"
    },
    {
     "data": {
      "application/vnd.jupyter.widget-view+json": {
       "model_id": "0f63ae6c96524d0eb00ff26e73baf395",
       "version_major": 2,
       "version_minor": 0
      },
      "text/plain": [
       "  0%|          | 0/6 [00:00<?, ?it/s]"
      ]
     },
     "metadata": {},
     "output_type": "display_data"
    },
    {
     "data": {
      "application/vnd.jupyter.widget-view+json": {
       "model_id": "517d90c9fec943d297075e97f32c5301",
       "version_major": 2,
       "version_minor": 0
      },
      "text/plain": [
       "  0%|          | 0/6 [00:00<?, ?it/s]"
      ]
     },
     "metadata": {},
     "output_type": "display_data"
    },
    {
     "data": {
      "application/vnd.jupyter.widget-view+json": {
       "model_id": "e87eeb612cd8459396d919dd19179315",
       "version_major": 2,
       "version_minor": 0
      },
      "text/plain": [
       "  0%|          | 0/6 [00:00<?, ?it/s]"
      ]
     },
     "metadata": {},
     "output_type": "display_data"
    },
    {
     "data": {
      "application/vnd.jupyter.widget-view+json": {
       "model_id": "272f31f9b33f43e88d28fadbd4e166df",
       "version_major": 2,
       "version_minor": 0
      },
      "text/plain": [
       "  0%|          | 0/6 [00:00<?, ?it/s]"
      ]
     },
     "metadata": {},
     "output_type": "display_data"
    },
    {
     "data": {
      "application/vnd.jupyter.widget-view+json": {
       "model_id": "4c5383fef5ea4d128cd326c9f1f447e2",
       "version_major": 2,
       "version_minor": 0
      },
      "text/plain": [
       "  0%|          | 0/6 [00:00<?, ?it/s]"
      ]
     },
     "metadata": {},
     "output_type": "display_data"
    },
    {
     "data": {
      "application/vnd.jupyter.widget-view+json": {
       "model_id": "12cb85e4470a41de809c7e395d980201",
       "version_major": 2,
       "version_minor": 0
      },
      "text/plain": [
       "  0%|          | 0/6 [00:00<?, ?it/s]"
      ]
     },
     "metadata": {},
     "output_type": "display_data"
    },
    {
     "data": {
      "application/vnd.jupyter.widget-view+json": {
       "model_id": "3af0755028c14d42af93d8a1a4e734f2",
       "version_major": 2,
       "version_minor": 0
      },
      "text/plain": [
       "  0%|          | 0/6 [00:00<?, ?it/s]"
      ]
     },
     "metadata": {},
     "output_type": "display_data"
    },
    {
     "data": {
      "application/vnd.jupyter.widget-view+json": {
       "model_id": "211005ca7bea48e28d2d5e0e3a5e3b70",
       "version_major": 2,
       "version_minor": 0
      },
      "text/plain": [
       "  0%|          | 0/6 [00:00<?, ?it/s]"
      ]
     },
     "metadata": {},
     "output_type": "display_data"
    },
    {
     "data": {
      "application/vnd.jupyter.widget-view+json": {
       "model_id": "479827f0fce142aba346e403577aa139",
       "version_major": 2,
       "version_minor": 0
      },
      "text/plain": [
       "  0%|          | 0/6 [00:00<?, ?it/s]"
      ]
     },
     "metadata": {},
     "output_type": "display_data"
    },
    {
     "data": {
      "application/vnd.jupyter.widget-view+json": {
       "model_id": "359c19c61ad84748afd023eec398b0cb",
       "version_major": 2,
       "version_minor": 0
      },
      "text/plain": [
       "  0%|          | 0/6 [00:00<?, ?it/s]"
      ]
     },
     "metadata": {},
     "output_type": "display_data"
    },
    {
     "data": {
      "application/vnd.jupyter.widget-view+json": {
       "model_id": "a1081702773d4aa8933b9a9b940baa11",
       "version_major": 2,
       "version_minor": 0
      },
      "text/plain": [
       "  0%|          | 0/6 [00:00<?, ?it/s]"
      ]
     },
     "metadata": {},
     "output_type": "display_data"
    },
    {
     "data": {
      "application/vnd.jupyter.widget-view+json": {
       "model_id": "16916c39745f40079559e020053e049f",
       "version_major": 2,
       "version_minor": 0
      },
      "text/plain": [
       "  0%|          | 0/6 [00:00<?, ?it/s]"
      ]
     },
     "metadata": {},
     "output_type": "display_data"
    }
   ],
   "source": [
    "# Test with ablation\n",
    "ablated_results_hub = evaluate_model_with_intervention(\n",
    "    model,\n",
    "    sae,\n",
    "    feature_ids=[12257],  # Can ablate multiple features\n",
    "    intervention_type=\"ablation\",\n",
    "    n_numeric=50,\n",
    "    n_special=50,\n",
    "    section_counts= {\"basic\": 20, \"numeric\": 0, \"special\": 20, \"zero\": 0}\n",
    ")\n",
    "\n",
    "ablated_results_some = evaluate_model_with_intervention(\n",
    "    model,\n",
    "    sae,\n",
    "    feature_ids=[15441],  # Can ablate multiple features\n",
    "    intervention_type=\"ablation\",\n",
    "    n_numeric=50,\n",
    "    n_special=50,\n",
    "    section_counts= {\"basic\": 20, \"numeric\": 20, \"special\": 0, \"zero\": 0}\n",
    ")\n",
    "\n",
    "ablated_results_all = evaluate_model_with_intervention(\n",
    "    model,\n",
    "    sae,\n",
    "    feature_ids=[12649],  # Can ablate multiple features\n",
    "    intervention_type=\"ablation\",\n",
    "    n_numeric=50,\n",
    "    n_special=50,\n",
    "    section_counts= {\"basic\": 20, \"numeric\": 20, \"special\": 0, \"zero\": 0}\n",
    ")\n",
    "\n",
    "ablation_results_spokes = evaluate_model_with_intervention(\n",
    "    model,\n",
    "    sae,\n",
    "    feature_ids=[12649, 15441],  # Can ablate multiple features\n",
    "    intervention_type=\"ablation\",\n",
    "    n_numeric=50,\n",
    "    n_special=50,\n",
    "    section_counts= {\"basic\": 20, \"numeric\": 20, \"special\": 0, \"zero\": 0}\n",
    ")\n",
    "\n",
    "ablation_results_hub_spoke_some = evaluate_model_with_intervention(\n",
    "    model,\n",
    "    sae,\n",
    "    feature_ids=[12257, 15441],  # Can ablate multiple features\n",
    "    intervention_type=\"ablation\",\n",
    "    n_numeric=50,\n",
    "    n_special=50,\n",
    "    section_counts= {\"basic\": 20, \"numeric\": 20, \"special\": 0, \"zero\": 0}\n",
    ")\n"
   ]
  },
  {
   "cell_type": "code",
   "execution_count": 78,
   "metadata": {},
   "outputs": [
    {
     "data": {
      "application/vnd.jupyter.widget-view+json": {
       "model_id": "75b81038d10d48bc8cee329982e1c709",
       "version_major": 2,
       "version_minor": 0
      },
      "text/plain": [
       "Testing types:   0%|          | 0/2 [00:00<?, ?it/s]"
      ]
     },
     "metadata": {},
     "output_type": "display_data"
    },
    {
     "data": {
      "application/vnd.jupyter.widget-view+json": {
       "model_id": "d8c6b01d407746bbbf67a67a56db59b9",
       "version_major": 2,
       "version_minor": 0
      },
      "text/plain": [
       "Testing numeric:   0%|          | 0/50 [00:00<?, ?it/s]"
      ]
     },
     "metadata": {},
     "output_type": "display_data"
    },
    {
     "data": {
      "application/vnd.jupyter.widget-view+json": {
       "model_id": "a51429295d554a5696d5854253fa76fa",
       "version_major": 2,
       "version_minor": 0
      },
      "text/plain": [
       "  0%|          | 0/6 [00:00<?, ?it/s]"
      ]
     },
     "metadata": {},
     "output_type": "display_data"
    },
    {
     "data": {
      "application/vnd.jupyter.widget-view+json": {
       "model_id": "59f61ccb57844eb18cbea7b73f13eed1",
       "version_major": 2,
       "version_minor": 0
      },
      "text/plain": [
       "  0%|          | 0/6 [00:00<?, ?it/s]"
      ]
     },
     "metadata": {},
     "output_type": "display_data"
    },
    {
     "data": {
      "application/vnd.jupyter.widget-view+json": {
       "model_id": "bb038454877f43b8b019ebb96f981421",
       "version_major": 2,
       "version_minor": 0
      },
      "text/plain": [
       "  0%|          | 0/6 [00:00<?, ?it/s]"
      ]
     },
     "metadata": {},
     "output_type": "display_data"
    },
    {
     "data": {
      "application/vnd.jupyter.widget-view+json": {
       "model_id": "0add36bc236340d9ac48465c8ee11885",
       "version_major": 2,
       "version_minor": 0
      },
      "text/plain": [
       "  0%|          | 0/6 [00:00<?, ?it/s]"
      ]
     },
     "metadata": {},
     "output_type": "display_data"
    },
    {
     "data": {
      "application/vnd.jupyter.widget-view+json": {
       "model_id": "c63db37031ef484ebb1ef1e948e9a4e5",
       "version_major": 2,
       "version_minor": 0
      },
      "text/plain": [
       "  0%|          | 0/6 [00:00<?, ?it/s]"
      ]
     },
     "metadata": {},
     "output_type": "display_data"
    },
    {
     "data": {
      "application/vnd.jupyter.widget-view+json": {
       "model_id": "258479fdb38e4c09bf646fcd7062e61b",
       "version_major": 2,
       "version_minor": 0
      },
      "text/plain": [
       "  0%|          | 0/6 [00:00<?, ?it/s]"
      ]
     },
     "metadata": {},
     "output_type": "display_data"
    },
    {
     "data": {
      "application/vnd.jupyter.widget-view+json": {
       "model_id": "030cf7b1b67e4ba7b4c17f48f3ec05ea",
       "version_major": 2,
       "version_minor": 0
      },
      "text/plain": [
       "  0%|          | 0/6 [00:00<?, ?it/s]"
      ]
     },
     "metadata": {},
     "output_type": "display_data"
    },
    {
     "data": {
      "application/vnd.jupyter.widget-view+json": {
       "model_id": "424623e920654d8380f693fee0660176",
       "version_major": 2,
       "version_minor": 0
      },
      "text/plain": [
       "  0%|          | 0/6 [00:00<?, ?it/s]"
      ]
     },
     "metadata": {},
     "output_type": "display_data"
    },
    {
     "data": {
      "application/vnd.jupyter.widget-view+json": {
       "model_id": "e85dacbff49047adb61fa412c003c49b",
       "version_major": 2,
       "version_minor": 0
      },
      "text/plain": [
       "  0%|          | 0/6 [00:00<?, ?it/s]"
      ]
     },
     "metadata": {},
     "output_type": "display_data"
    },
    {
     "data": {
      "application/vnd.jupyter.widget-view+json": {
       "model_id": "da95c51db7794ee6a74787a9b16a51ef",
       "version_major": 2,
       "version_minor": 0
      },
      "text/plain": [
       "  0%|          | 0/6 [00:00<?, ?it/s]"
      ]
     },
     "metadata": {},
     "output_type": "display_data"
    },
    {
     "data": {
      "application/vnd.jupyter.widget-view+json": {
       "model_id": "9d700f5d2522429a8070ce4d5727af0f",
       "version_major": 2,
       "version_minor": 0
      },
      "text/plain": [
       "  0%|          | 0/6 [00:00<?, ?it/s]"
      ]
     },
     "metadata": {},
     "output_type": "display_data"
    },
    {
     "data": {
      "application/vnd.jupyter.widget-view+json": {
       "model_id": "a6030c8ebc1b4e61aa54a07d88dfc90f",
       "version_major": 2,
       "version_minor": 0
      },
      "text/plain": [
       "  0%|          | 0/6 [00:00<?, ?it/s]"
      ]
     },
     "metadata": {},
     "output_type": "display_data"
    },
    {
     "data": {
      "application/vnd.jupyter.widget-view+json": {
       "model_id": "ff8eb0f6f6f745e99b251871891880e7",
       "version_major": 2,
       "version_minor": 0
      },
      "text/plain": [
       "  0%|          | 0/6 [00:00<?, ?it/s]"
      ]
     },
     "metadata": {},
     "output_type": "display_data"
    },
    {
     "data": {
      "application/vnd.jupyter.widget-view+json": {
       "model_id": "e970c6f3523a473ebaa14c3345903327",
       "version_major": 2,
       "version_minor": 0
      },
      "text/plain": [
       "  0%|          | 0/6 [00:00<?, ?it/s]"
      ]
     },
     "metadata": {},
     "output_type": "display_data"
    },
    {
     "data": {
      "application/vnd.jupyter.widget-view+json": {
       "model_id": "35a032d31f4e4158ae1eb0bf35893aff",
       "version_major": 2,
       "version_minor": 0
      },
      "text/plain": [
       "  0%|          | 0/6 [00:00<?, ?it/s]"
      ]
     },
     "metadata": {},
     "output_type": "display_data"
    },
    {
     "data": {
      "application/vnd.jupyter.widget-view+json": {
       "model_id": "d693c34e0448427c921eb839b2bda381",
       "version_major": 2,
       "version_minor": 0
      },
      "text/plain": [
       "  0%|          | 0/6 [00:00<?, ?it/s]"
      ]
     },
     "metadata": {},
     "output_type": "display_data"
    },
    {
     "data": {
      "application/vnd.jupyter.widget-view+json": {
       "model_id": "e24d8a8147924836a3fce6db8e4616b1",
       "version_major": 2,
       "version_minor": 0
      },
      "text/plain": [
       "  0%|          | 0/6 [00:00<?, ?it/s]"
      ]
     },
     "metadata": {},
     "output_type": "display_data"
    },
    {
     "data": {
      "application/vnd.jupyter.widget-view+json": {
       "model_id": "0961bd5a2659490999c6342e9b37c824",
       "version_major": 2,
       "version_minor": 0
      },
      "text/plain": [
       "  0%|          | 0/6 [00:00<?, ?it/s]"
      ]
     },
     "metadata": {},
     "output_type": "display_data"
    },
    {
     "data": {
      "application/vnd.jupyter.widget-view+json": {
       "model_id": "7daffa3153f84715ac08a8cc6cf492a4",
       "version_major": 2,
       "version_minor": 0
      },
      "text/plain": [
       "  0%|          | 0/6 [00:00<?, ?it/s]"
      ]
     },
     "metadata": {},
     "output_type": "display_data"
    },
    {
     "data": {
      "application/vnd.jupyter.widget-view+json": {
       "model_id": "2a7e5903f01b4c8ea425eb48f5de1ca7",
       "version_major": 2,
       "version_minor": 0
      },
      "text/plain": [
       "  0%|          | 0/6 [00:00<?, ?it/s]"
      ]
     },
     "metadata": {},
     "output_type": "display_data"
    },
    {
     "data": {
      "application/vnd.jupyter.widget-view+json": {
       "model_id": "13151e7e5a454aaab4e2a3543afbea67",
       "version_major": 2,
       "version_minor": 0
      },
      "text/plain": [
       "  0%|          | 0/6 [00:00<?, ?it/s]"
      ]
     },
     "metadata": {},
     "output_type": "display_data"
    },
    {
     "data": {
      "application/vnd.jupyter.widget-view+json": {
       "model_id": "af7059f8efd44bceaf0b955b26ae1cf5",
       "version_major": 2,
       "version_minor": 0
      },
      "text/plain": [
       "  0%|          | 0/6 [00:00<?, ?it/s]"
      ]
     },
     "metadata": {},
     "output_type": "display_data"
    },
    {
     "data": {
      "application/vnd.jupyter.widget-view+json": {
       "model_id": "989117e292b34fe3899a3a72d0b0a8e7",
       "version_major": 2,
       "version_minor": 0
      },
      "text/plain": [
       "  0%|          | 0/6 [00:00<?, ?it/s]"
      ]
     },
     "metadata": {},
     "output_type": "display_data"
    },
    {
     "data": {
      "application/vnd.jupyter.widget-view+json": {
       "model_id": "69d82e47f60442cfb3afbfb571344aa2",
       "version_major": 2,
       "version_minor": 0
      },
      "text/plain": [
       "  0%|          | 0/6 [00:00<?, ?it/s]"
      ]
     },
     "metadata": {},
     "output_type": "display_data"
    },
    {
     "data": {
      "application/vnd.jupyter.widget-view+json": {
       "model_id": "6b46f7a803f14eceba37a6a33049ed28",
       "version_major": 2,
       "version_minor": 0
      },
      "text/plain": [
       "  0%|          | 0/6 [00:00<?, ?it/s]"
      ]
     },
     "metadata": {},
     "output_type": "display_data"
    },
    {
     "data": {
      "application/vnd.jupyter.widget-view+json": {
       "model_id": "0e8aef3362054fa3a58265f90f5e4c28",
       "version_major": 2,
       "version_minor": 0
      },
      "text/plain": [
       "  0%|          | 0/6 [00:00<?, ?it/s]"
      ]
     },
     "metadata": {},
     "output_type": "display_data"
    },
    {
     "data": {
      "application/vnd.jupyter.widget-view+json": {
       "model_id": "91950ff1c6e84094be1d29aa0c797391",
       "version_major": 2,
       "version_minor": 0
      },
      "text/plain": [
       "  0%|          | 0/6 [00:00<?, ?it/s]"
      ]
     },
     "metadata": {},
     "output_type": "display_data"
    },
    {
     "data": {
      "application/vnd.jupyter.widget-view+json": {
       "model_id": "a951fa641a8541f4810126e994d0abb8",
       "version_major": 2,
       "version_minor": 0
      },
      "text/plain": [
       "  0%|          | 0/6 [00:00<?, ?it/s]"
      ]
     },
     "metadata": {},
     "output_type": "display_data"
    },
    {
     "data": {
      "application/vnd.jupyter.widget-view+json": {
       "model_id": "98a97033623948d997b10b4acbb9c342",
       "version_major": 2,
       "version_minor": 0
      },
      "text/plain": [
       "  0%|          | 0/6 [00:00<?, ?it/s]"
      ]
     },
     "metadata": {},
     "output_type": "display_data"
    },
    {
     "data": {
      "application/vnd.jupyter.widget-view+json": {
       "model_id": "935e78a2e4644d30ac3c83c59a230365",
       "version_major": 2,
       "version_minor": 0
      },
      "text/plain": [
       "  0%|          | 0/6 [00:00<?, ?it/s]"
      ]
     },
     "metadata": {},
     "output_type": "display_data"
    },
    {
     "data": {
      "application/vnd.jupyter.widget-view+json": {
       "model_id": "8654037f47a14e6c866079045231470b",
       "version_major": 2,
       "version_minor": 0
      },
      "text/plain": [
       "  0%|          | 0/6 [00:00<?, ?it/s]"
      ]
     },
     "metadata": {},
     "output_type": "display_data"
    },
    {
     "data": {
      "application/vnd.jupyter.widget-view+json": {
       "model_id": "655893f5ef4844e1854f167b126266e8",
       "version_major": 2,
       "version_minor": 0
      },
      "text/plain": [
       "  0%|          | 0/6 [00:00<?, ?it/s]"
      ]
     },
     "metadata": {},
     "output_type": "display_data"
    },
    {
     "data": {
      "application/vnd.jupyter.widget-view+json": {
       "model_id": "ec2dbba255ab47bf8dc8b76ec4245fad",
       "version_major": 2,
       "version_minor": 0
      },
      "text/plain": [
       "  0%|          | 0/6 [00:00<?, ?it/s]"
      ]
     },
     "metadata": {},
     "output_type": "display_data"
    },
    {
     "data": {
      "application/vnd.jupyter.widget-view+json": {
       "model_id": "c9dddcc1943e48978c0f2987534fd9d0",
       "version_major": 2,
       "version_minor": 0
      },
      "text/plain": [
       "  0%|          | 0/6 [00:00<?, ?it/s]"
      ]
     },
     "metadata": {},
     "output_type": "display_data"
    },
    {
     "data": {
      "application/vnd.jupyter.widget-view+json": {
       "model_id": "ce0a2b79b18345878410e13da93f16c3",
       "version_major": 2,
       "version_minor": 0
      },
      "text/plain": [
       "  0%|          | 0/6 [00:00<?, ?it/s]"
      ]
     },
     "metadata": {},
     "output_type": "display_data"
    },
    {
     "data": {
      "application/vnd.jupyter.widget-view+json": {
       "model_id": "4c0651d0fdef496ca41246c95b1f0285",
       "version_major": 2,
       "version_minor": 0
      },
      "text/plain": [
       "  0%|          | 0/6 [00:00<?, ?it/s]"
      ]
     },
     "metadata": {},
     "output_type": "display_data"
    },
    {
     "data": {
      "application/vnd.jupyter.widget-view+json": {
       "model_id": "4420cef688c54a408448164e5ce28406",
       "version_major": 2,
       "version_minor": 0
      },
      "text/plain": [
       "  0%|          | 0/6 [00:00<?, ?it/s]"
      ]
     },
     "metadata": {},
     "output_type": "display_data"
    },
    {
     "data": {
      "application/vnd.jupyter.widget-view+json": {
       "model_id": "408c55d376f74a2b98b16448c2fa062a",
       "version_major": 2,
       "version_minor": 0
      },
      "text/plain": [
       "  0%|          | 0/6 [00:00<?, ?it/s]"
      ]
     },
     "metadata": {},
     "output_type": "display_data"
    },
    {
     "data": {
      "application/vnd.jupyter.widget-view+json": {
       "model_id": "ddfa67969adb40f2ba170b71db056e64",
       "version_major": 2,
       "version_minor": 0
      },
      "text/plain": [
       "  0%|          | 0/6 [00:00<?, ?it/s]"
      ]
     },
     "metadata": {},
     "output_type": "display_data"
    },
    {
     "data": {
      "application/vnd.jupyter.widget-view+json": {
       "model_id": "d3e943f7582d4ba0974d860541e21dbb",
       "version_major": 2,
       "version_minor": 0
      },
      "text/plain": [
       "  0%|          | 0/6 [00:00<?, ?it/s]"
      ]
     },
     "metadata": {},
     "output_type": "display_data"
    },
    {
     "data": {
      "application/vnd.jupyter.widget-view+json": {
       "model_id": "29c07d3f9a1d415d9a980333cfc09ca9",
       "version_major": 2,
       "version_minor": 0
      },
      "text/plain": [
       "  0%|          | 0/6 [00:00<?, ?it/s]"
      ]
     },
     "metadata": {},
     "output_type": "display_data"
    },
    {
     "data": {
      "application/vnd.jupyter.widget-view+json": {
       "model_id": "cbf84de15f5e4232b3de1b945fefa500",
       "version_major": 2,
       "version_minor": 0
      },
      "text/plain": [
       "  0%|          | 0/6 [00:00<?, ?it/s]"
      ]
     },
     "metadata": {},
     "output_type": "display_data"
    },
    {
     "data": {
      "application/vnd.jupyter.widget-view+json": {
       "model_id": "493a895775ea41c8b8990d3f7aca5096",
       "version_major": 2,
       "version_minor": 0
      },
      "text/plain": [
       "  0%|          | 0/6 [00:00<?, ?it/s]"
      ]
     },
     "metadata": {},
     "output_type": "display_data"
    },
    {
     "data": {
      "application/vnd.jupyter.widget-view+json": {
       "model_id": "678edf4e2f3b4eeeb901e9558f4a53c9",
       "version_major": 2,
       "version_minor": 0
      },
      "text/plain": [
       "  0%|          | 0/6 [00:00<?, ?it/s]"
      ]
     },
     "metadata": {},
     "output_type": "display_data"
    },
    {
     "data": {
      "application/vnd.jupyter.widget-view+json": {
       "model_id": "83a41cfaa14341408ec95f3130960aa0",
       "version_major": 2,
       "version_minor": 0
      },
      "text/plain": [
       "  0%|          | 0/6 [00:00<?, ?it/s]"
      ]
     },
     "metadata": {},
     "output_type": "display_data"
    },
    {
     "data": {
      "application/vnd.jupyter.widget-view+json": {
       "model_id": "35befc658f144bf99ba2ae835cc9ff5f",
       "version_major": 2,
       "version_minor": 0
      },
      "text/plain": [
       "  0%|          | 0/6 [00:00<?, ?it/s]"
      ]
     },
     "metadata": {},
     "output_type": "display_data"
    },
    {
     "data": {
      "application/vnd.jupyter.widget-view+json": {
       "model_id": "541e59be3b2e41659e59de20ef2c59d0",
       "version_major": 2,
       "version_minor": 0
      },
      "text/plain": [
       "  0%|          | 0/6 [00:00<?, ?it/s]"
      ]
     },
     "metadata": {},
     "output_type": "display_data"
    },
    {
     "data": {
      "application/vnd.jupyter.widget-view+json": {
       "model_id": "9e6070aed9e04b919bcecf27e16cea3a",
       "version_major": 2,
       "version_minor": 0
      },
      "text/plain": [
       "  0%|          | 0/6 [00:00<?, ?it/s]"
      ]
     },
     "metadata": {},
     "output_type": "display_data"
    },
    {
     "data": {
      "application/vnd.jupyter.widget-view+json": {
       "model_id": "f9f0a7e31ab14aaea4b47a6364e20d66",
       "version_major": 2,
       "version_minor": 0
      },
      "text/plain": [
       "  0%|          | 0/6 [00:00<?, ?it/s]"
      ]
     },
     "metadata": {},
     "output_type": "display_data"
    },
    {
     "data": {
      "application/vnd.jupyter.widget-view+json": {
       "model_id": "497e375c2a9d4aab937877abcec7a876",
       "version_major": 2,
       "version_minor": 0
      },
      "text/plain": [
       "  0%|          | 0/6 [00:00<?, ?it/s]"
      ]
     },
     "metadata": {},
     "output_type": "display_data"
    },
    {
     "data": {
      "application/vnd.jupyter.widget-view+json": {
       "model_id": "62cd35033d1a48f181c9287930384081",
       "version_major": 2,
       "version_minor": 0
      },
      "text/plain": [
       "Testing special:   0%|          | 0/50 [00:00<?, ?it/s]"
      ]
     },
     "metadata": {},
     "output_type": "display_data"
    },
    {
     "data": {
      "application/vnd.jupyter.widget-view+json": {
       "model_id": "907ef8deb78544e79153b707124ccb3c",
       "version_major": 2,
       "version_minor": 0
      },
      "text/plain": [
       "  0%|          | 0/6 [00:00<?, ?it/s]"
      ]
     },
     "metadata": {},
     "output_type": "display_data"
    },
    {
     "data": {
      "application/vnd.jupyter.widget-view+json": {
       "model_id": "ad5b42ec4e7a40e78320558a7b8b67a5",
       "version_major": 2,
       "version_minor": 0
      },
      "text/plain": [
       "  0%|          | 0/6 [00:00<?, ?it/s]"
      ]
     },
     "metadata": {},
     "output_type": "display_data"
    },
    {
     "data": {
      "application/vnd.jupyter.widget-view+json": {
       "model_id": "f20725baf564472aa05248a4f8681619",
       "version_major": 2,
       "version_minor": 0
      },
      "text/plain": [
       "  0%|          | 0/6 [00:00<?, ?it/s]"
      ]
     },
     "metadata": {},
     "output_type": "display_data"
    },
    {
     "data": {
      "application/vnd.jupyter.widget-view+json": {
       "model_id": "f365a7a681404aa68ea9e6d6097c2e1b",
       "version_major": 2,
       "version_minor": 0
      },
      "text/plain": [
       "  0%|          | 0/6 [00:00<?, ?it/s]"
      ]
     },
     "metadata": {},
     "output_type": "display_data"
    },
    {
     "data": {
      "application/vnd.jupyter.widget-view+json": {
       "model_id": "f4c984c01ab94a44a445c7ab32d2a9a2",
       "version_major": 2,
       "version_minor": 0
      },
      "text/plain": [
       "  0%|          | 0/6 [00:00<?, ?it/s]"
      ]
     },
     "metadata": {},
     "output_type": "display_data"
    },
    {
     "data": {
      "application/vnd.jupyter.widget-view+json": {
       "model_id": "c91d14d1ac864c1c823f912c0cd1602d",
       "version_major": 2,
       "version_minor": 0
      },
      "text/plain": [
       "  0%|          | 0/6 [00:00<?, ?it/s]"
      ]
     },
     "metadata": {},
     "output_type": "display_data"
    },
    {
     "data": {
      "application/vnd.jupyter.widget-view+json": {
       "model_id": "32876aad0ad347efbbb016d83bc94454",
       "version_major": 2,
       "version_minor": 0
      },
      "text/plain": [
       "  0%|          | 0/6 [00:00<?, ?it/s]"
      ]
     },
     "metadata": {},
     "output_type": "display_data"
    },
    {
     "data": {
      "application/vnd.jupyter.widget-view+json": {
       "model_id": "0eead7577db74377acad7cc2361b7891",
       "version_major": 2,
       "version_minor": 0
      },
      "text/plain": [
       "  0%|          | 0/6 [00:00<?, ?it/s]"
      ]
     },
     "metadata": {},
     "output_type": "display_data"
    },
    {
     "data": {
      "application/vnd.jupyter.widget-view+json": {
       "model_id": "cabfb5525cfb48939535e6162ef5254a",
       "version_major": 2,
       "version_minor": 0
      },
      "text/plain": [
       "  0%|          | 0/6 [00:00<?, ?it/s]"
      ]
     },
     "metadata": {},
     "output_type": "display_data"
    },
    {
     "data": {
      "application/vnd.jupyter.widget-view+json": {
       "model_id": "fd92de1101404e37bf734970705f3165",
       "version_major": 2,
       "version_minor": 0
      },
      "text/plain": [
       "  0%|          | 0/6 [00:00<?, ?it/s]"
      ]
     },
     "metadata": {},
     "output_type": "display_data"
    },
    {
     "data": {
      "application/vnd.jupyter.widget-view+json": {
       "model_id": "96e00e2492844c8abb247a919b86c59c",
       "version_major": 2,
       "version_minor": 0
      },
      "text/plain": [
       "  0%|          | 0/6 [00:00<?, ?it/s]"
      ]
     },
     "metadata": {},
     "output_type": "display_data"
    },
    {
     "data": {
      "application/vnd.jupyter.widget-view+json": {
       "model_id": "898860e1f2ce4527bd500be6f892e6a8",
       "version_major": 2,
       "version_minor": 0
      },
      "text/plain": [
       "  0%|          | 0/6 [00:00<?, ?it/s]"
      ]
     },
     "metadata": {},
     "output_type": "display_data"
    },
    {
     "data": {
      "application/vnd.jupyter.widget-view+json": {
       "model_id": "59b3e4b5e2d24705b3f8de26e4b01773",
       "version_major": 2,
       "version_minor": 0
      },
      "text/plain": [
       "  0%|          | 0/6 [00:00<?, ?it/s]"
      ]
     },
     "metadata": {},
     "output_type": "display_data"
    },
    {
     "data": {
      "application/vnd.jupyter.widget-view+json": {
       "model_id": "d7b995d8ef3f4f76ae11cc8688105e57",
       "version_major": 2,
       "version_minor": 0
      },
      "text/plain": [
       "  0%|          | 0/6 [00:00<?, ?it/s]"
      ]
     },
     "metadata": {},
     "output_type": "display_data"
    },
    {
     "data": {
      "application/vnd.jupyter.widget-view+json": {
       "model_id": "0f4d696595de4d3899e68c5673e0ddea",
       "version_major": 2,
       "version_minor": 0
      },
      "text/plain": [
       "  0%|          | 0/6 [00:00<?, ?it/s]"
      ]
     },
     "metadata": {},
     "output_type": "display_data"
    },
    {
     "data": {
      "application/vnd.jupyter.widget-view+json": {
       "model_id": "72c61b2dd65144bfb09fdd9f6ff39303",
       "version_major": 2,
       "version_minor": 0
      },
      "text/plain": [
       "  0%|          | 0/6 [00:00<?, ?it/s]"
      ]
     },
     "metadata": {},
     "output_type": "display_data"
    },
    {
     "data": {
      "application/vnd.jupyter.widget-view+json": {
       "model_id": "75f187ad451a44b689baf019b4e01406",
       "version_major": 2,
       "version_minor": 0
      },
      "text/plain": [
       "  0%|          | 0/6 [00:00<?, ?it/s]"
      ]
     },
     "metadata": {},
     "output_type": "display_data"
    },
    {
     "data": {
      "application/vnd.jupyter.widget-view+json": {
       "model_id": "7713308c75344a49ac0d3358a759bcdf",
       "version_major": 2,
       "version_minor": 0
      },
      "text/plain": [
       "  0%|          | 0/6 [00:00<?, ?it/s]"
      ]
     },
     "metadata": {},
     "output_type": "display_data"
    },
    {
     "data": {
      "application/vnd.jupyter.widget-view+json": {
       "model_id": "d5b01df09b2d40b3a999d7290c459270",
       "version_major": 2,
       "version_minor": 0
      },
      "text/plain": [
       "  0%|          | 0/6 [00:00<?, ?it/s]"
      ]
     },
     "metadata": {},
     "output_type": "display_data"
    },
    {
     "data": {
      "application/vnd.jupyter.widget-view+json": {
       "model_id": "1278ca498f584560baba6ade0a4c3633",
       "version_major": 2,
       "version_minor": 0
      },
      "text/plain": [
       "  0%|          | 0/6 [00:00<?, ?it/s]"
      ]
     },
     "metadata": {},
     "output_type": "display_data"
    },
    {
     "data": {
      "application/vnd.jupyter.widget-view+json": {
       "model_id": "33a16ba63d4d41b398012dd86d752880",
       "version_major": 2,
       "version_minor": 0
      },
      "text/plain": [
       "  0%|          | 0/6 [00:00<?, ?it/s]"
      ]
     },
     "metadata": {},
     "output_type": "display_data"
    },
    {
     "data": {
      "application/vnd.jupyter.widget-view+json": {
       "model_id": "4ca88560b79b4f70bdf87085998de9c7",
       "version_major": 2,
       "version_minor": 0
      },
      "text/plain": [
       "  0%|          | 0/6 [00:00<?, ?it/s]"
      ]
     },
     "metadata": {},
     "output_type": "display_data"
    },
    {
     "data": {
      "application/vnd.jupyter.widget-view+json": {
       "model_id": "dcc786727bfe4f8bb769791090c48d05",
       "version_major": 2,
       "version_minor": 0
      },
      "text/plain": [
       "  0%|          | 0/6 [00:00<?, ?it/s]"
      ]
     },
     "metadata": {},
     "output_type": "display_data"
    },
    {
     "data": {
      "application/vnd.jupyter.widget-view+json": {
       "model_id": "b9131f1ac7844c98830c739ede0a3edd",
       "version_major": 2,
       "version_minor": 0
      },
      "text/plain": [
       "  0%|          | 0/6 [00:00<?, ?it/s]"
      ]
     },
     "metadata": {},
     "output_type": "display_data"
    },
    {
     "data": {
      "application/vnd.jupyter.widget-view+json": {
       "model_id": "7fa7f5593a094460acc08a91b2a7f0c0",
       "version_major": 2,
       "version_minor": 0
      },
      "text/plain": [
       "  0%|          | 0/6 [00:00<?, ?it/s]"
      ]
     },
     "metadata": {},
     "output_type": "display_data"
    },
    {
     "data": {
      "application/vnd.jupyter.widget-view+json": {
       "model_id": "499056137d9a4e938a89deb31fe4f43e",
       "version_major": 2,
       "version_minor": 0
      },
      "text/plain": [
       "  0%|          | 0/6 [00:00<?, ?it/s]"
      ]
     },
     "metadata": {},
     "output_type": "display_data"
    },
    {
     "data": {
      "application/vnd.jupyter.widget-view+json": {
       "model_id": "dd83256ea3874e31bb46d4bb4defffc4",
       "version_major": 2,
       "version_minor": 0
      },
      "text/plain": [
       "  0%|          | 0/6 [00:00<?, ?it/s]"
      ]
     },
     "metadata": {},
     "output_type": "display_data"
    },
    {
     "data": {
      "application/vnd.jupyter.widget-view+json": {
       "model_id": "53d9e915435a4ba8ad67acfb50283f5e",
       "version_major": 2,
       "version_minor": 0
      },
      "text/plain": [
       "  0%|          | 0/6 [00:00<?, ?it/s]"
      ]
     },
     "metadata": {},
     "output_type": "display_data"
    },
    {
     "data": {
      "application/vnd.jupyter.widget-view+json": {
       "model_id": "ffa5883b85f14210b9b0a58b20034959",
       "version_major": 2,
       "version_minor": 0
      },
      "text/plain": [
       "  0%|          | 0/6 [00:00<?, ?it/s]"
      ]
     },
     "metadata": {},
     "output_type": "display_data"
    },
    {
     "data": {
      "application/vnd.jupyter.widget-view+json": {
       "model_id": "20fb99fec40540688c35924c21d1f258",
       "version_major": 2,
       "version_minor": 0
      },
      "text/plain": [
       "  0%|          | 0/6 [00:00<?, ?it/s]"
      ]
     },
     "metadata": {},
     "output_type": "display_data"
    },
    {
     "data": {
      "application/vnd.jupyter.widget-view+json": {
       "model_id": "68932cf0c6214318ac1a6cffcb01be18",
       "version_major": 2,
       "version_minor": 0
      },
      "text/plain": [
       "  0%|          | 0/6 [00:00<?, ?it/s]"
      ]
     },
     "metadata": {},
     "output_type": "display_data"
    },
    {
     "data": {
      "application/vnd.jupyter.widget-view+json": {
       "model_id": "5b45e8fc60fe4032bc2148fb2053e4c6",
       "version_major": 2,
       "version_minor": 0
      },
      "text/plain": [
       "  0%|          | 0/6 [00:00<?, ?it/s]"
      ]
     },
     "metadata": {},
     "output_type": "display_data"
    },
    {
     "data": {
      "application/vnd.jupyter.widget-view+json": {
       "model_id": "54d645c948634e25a87ec1e949c8730d",
       "version_major": 2,
       "version_minor": 0
      },
      "text/plain": [
       "  0%|          | 0/6 [00:00<?, ?it/s]"
      ]
     },
     "metadata": {},
     "output_type": "display_data"
    },
    {
     "data": {
      "application/vnd.jupyter.widget-view+json": {
       "model_id": "e48beb9519b044189721f0339f6ceb00",
       "version_major": 2,
       "version_minor": 0
      },
      "text/plain": [
       "  0%|          | 0/6 [00:00<?, ?it/s]"
      ]
     },
     "metadata": {},
     "output_type": "display_data"
    },
    {
     "data": {
      "application/vnd.jupyter.widget-view+json": {
       "model_id": "712f60ea08c14b0fad41cfb4830ba662",
       "version_major": 2,
       "version_minor": 0
      },
      "text/plain": [
       "  0%|          | 0/6 [00:00<?, ?it/s]"
      ]
     },
     "metadata": {},
     "output_type": "display_data"
    },
    {
     "data": {
      "application/vnd.jupyter.widget-view+json": {
       "model_id": "b244e2c9af8d41b0b12d089d639940f1",
       "version_major": 2,
       "version_minor": 0
      },
      "text/plain": [
       "  0%|          | 0/6 [00:00<?, ?it/s]"
      ]
     },
     "metadata": {},
     "output_type": "display_data"
    },
    {
     "data": {
      "application/vnd.jupyter.widget-view+json": {
       "model_id": "d46c77df0c4148b68db425d1ecfcfeca",
       "version_major": 2,
       "version_minor": 0
      },
      "text/plain": [
       "  0%|          | 0/6 [00:00<?, ?it/s]"
      ]
     },
     "metadata": {},
     "output_type": "display_data"
    },
    {
     "data": {
      "application/vnd.jupyter.widget-view+json": {
       "model_id": "74475af7994842bbad885a286af0c94a",
       "version_major": 2,
       "version_minor": 0
      },
      "text/plain": [
       "  0%|          | 0/6 [00:00<?, ?it/s]"
      ]
     },
     "metadata": {},
     "output_type": "display_data"
    },
    {
     "data": {
      "application/vnd.jupyter.widget-view+json": {
       "model_id": "f90dc5a09b8f465ab18a27cbd06baf15",
       "version_major": 2,
       "version_minor": 0
      },
      "text/plain": [
       "  0%|          | 0/6 [00:00<?, ?it/s]"
      ]
     },
     "metadata": {},
     "output_type": "display_data"
    },
    {
     "data": {
      "application/vnd.jupyter.widget-view+json": {
       "model_id": "a171f9535b3742c2ade8e07c5123f3fb",
       "version_major": 2,
       "version_minor": 0
      },
      "text/plain": [
       "  0%|          | 0/6 [00:00<?, ?it/s]"
      ]
     },
     "metadata": {},
     "output_type": "display_data"
    },
    {
     "data": {
      "application/vnd.jupyter.widget-view+json": {
       "model_id": "2bda3683538d44cd9683c30cab20a184",
       "version_major": 2,
       "version_minor": 0
      },
      "text/plain": [
       "  0%|          | 0/6 [00:00<?, ?it/s]"
      ]
     },
     "metadata": {},
     "output_type": "display_data"
    },
    {
     "data": {
      "application/vnd.jupyter.widget-view+json": {
       "model_id": "1ec36686565948249ebc8cca05c1bc45",
       "version_major": 2,
       "version_minor": 0
      },
      "text/plain": [
       "  0%|          | 0/6 [00:00<?, ?it/s]"
      ]
     },
     "metadata": {},
     "output_type": "display_data"
    },
    {
     "data": {
      "application/vnd.jupyter.widget-view+json": {
       "model_id": "8c2eca1f24d5453389a6273610d8edc2",
       "version_major": 2,
       "version_minor": 0
      },
      "text/plain": [
       "  0%|          | 0/6 [00:00<?, ?it/s]"
      ]
     },
     "metadata": {},
     "output_type": "display_data"
    },
    {
     "data": {
      "application/vnd.jupyter.widget-view+json": {
       "model_id": "8264335bb195450b9e2657fbcf39d539",
       "version_major": 2,
       "version_minor": 0
      },
      "text/plain": [
       "  0%|          | 0/6 [00:00<?, ?it/s]"
      ]
     },
     "metadata": {},
     "output_type": "display_data"
    },
    {
     "data": {
      "application/vnd.jupyter.widget-view+json": {
       "model_id": "75a1cd46f330403c8112cf6996a12d84",
       "version_major": 2,
       "version_minor": 0
      },
      "text/plain": [
       "  0%|          | 0/6 [00:00<?, ?it/s]"
      ]
     },
     "metadata": {},
     "output_type": "display_data"
    },
    {
     "data": {
      "application/vnd.jupyter.widget-view+json": {
       "model_id": "f21ac7cf3e07416f99c16b178934f3be",
       "version_major": 2,
       "version_minor": 0
      },
      "text/plain": [
       "  0%|          | 0/6 [00:00<?, ?it/s]"
      ]
     },
     "metadata": {},
     "output_type": "display_data"
    },
    {
     "data": {
      "application/vnd.jupyter.widget-view+json": {
       "model_id": "1087a88281f6435c952f4245c0f62845",
       "version_major": 2,
       "version_minor": 0
      },
      "text/plain": [
       "  0%|          | 0/6 [00:00<?, ?it/s]"
      ]
     },
     "metadata": {},
     "output_type": "display_data"
    },
    {
     "data": {
      "application/vnd.jupyter.widget-view+json": {
       "model_id": "04960df022eb45358e368fc4e555b1d1",
       "version_major": 2,
       "version_minor": 0
      },
      "text/plain": [
       "  0%|          | 0/6 [00:00<?, ?it/s]"
      ]
     },
     "metadata": {},
     "output_type": "display_data"
    },
    {
     "data": {
      "application/vnd.jupyter.widget-view+json": {
       "model_id": "f283b1a04ee84acf9b08e60c10ee71ab",
       "version_major": 2,
       "version_minor": 0
      },
      "text/plain": [
       "  0%|          | 0/6 [00:00<?, ?it/s]"
      ]
     },
     "metadata": {},
     "output_type": "display_data"
    },
    {
     "data": {
      "application/vnd.jupyter.widget-view+json": {
       "model_id": "ee37ece7e2e641f5b6ff23031141db4d",
       "version_major": 2,
       "version_minor": 0
      },
      "text/plain": [
       "  0%|          | 0/6 [00:00<?, ?it/s]"
      ]
     },
     "metadata": {},
     "output_type": "display_data"
    }
   ],
   "source": [
    "\n",
    "ablated_results_hub_spoke_all = evaluate_model_with_intervention(\n",
    "    model,\n",
    "    sae,\n",
    "    feature_ids=[12257, 12649],  # Can ablate multiple features\n",
    "    intervention_type=\"ablation\",\n",
    "    n_numeric=50,\n",
    "    n_special=50,\n",
    "    section_counts= {\"basic\": 20, \"numeric\": 20, \"special\": 0, \"zero\": 0}\n",
    ")"
   ]
  },
  {
   "cell_type": "markdown",
   "metadata": {},
   "source": [
    "Compare the effect of ablation of the hub alone both spokes alone hub and both spokes together and both spokes together I hope hub and spokes will be more effective than any of these "
   ]
  },
  {
   "cell_type": "code",
   "execution_count": 85,
   "metadata": {},
   "outputs": [
    {
     "name": "stdout",
     "output_type": "stream",
     "text": [
      "0.0\n",
      "1.0\n",
      "0.0\n",
      "0.62\n"
     ]
    }
   ],
   "source": [
    "print(normal_results[\"numeric_accuracy_strict\"])\n",
    "print(normal_results[\"numeric_accuracy_lenient\"])\n",
    "print(normal_results[\"special_accuracy_strict\"])\n",
    "print(normal_results[\"special_accuracy_lenient\"])\n"
   ]
  },
  {
   "cell_type": "code",
   "execution_count": 79,
   "metadata": {},
   "outputs": [
    {
     "name": "stdout",
     "output_type": "stream",
     "text": [
      "0.0\n",
      "0.74\n",
      "0.0\n",
      "0.6\n"
     ]
    }
   ],
   "source": [
    "print(ablated_results_hub[\"numeric_accuracy_strict\"])\n",
    "print(ablated_results_hub[\"numeric_accuracy_lenient\"])\n",
    "print(ablated_results_hub[\"special_accuracy_strict\"])\n",
    "print(ablated_results_hub[\"special_accuracy_lenient\"])"
   ]
  },
  {
   "cell_type": "code",
   "execution_count": 80,
   "metadata": {},
   "outputs": [
    {
     "name": "stdout",
     "output_type": "stream",
     "text": [
      "0.0\n",
      "0.84\n",
      "0.0\n",
      "0.64\n"
     ]
    }
   ],
   "source": [
    "print(ablated_results_some[\"numeric_accuracy_strict\"])\n",
    "print(ablated_results_some[\"numeric_accuracy_lenient\"])\n",
    "print(ablated_results_some[\"special_accuracy_strict\"])\n",
    "print(ablated_results_some[\"special_accuracy_lenient\"])"
   ]
  },
  {
   "cell_type": "code",
   "execution_count": 81,
   "metadata": {},
   "outputs": [
    {
     "name": "stdout",
     "output_type": "stream",
     "text": [
      "0.0\n",
      "0.9\n",
      "0.0\n",
      "0.64\n"
     ]
    }
   ],
   "source": [
    "print(ablated_results_all[\"numeric_accuracy_strict\"])\n",
    "print(ablated_results_all[\"numeric_accuracy_lenient\"])\n",
    "print(ablated_results_all[\"special_accuracy_strict\"])\n",
    "print(ablated_results_all[\"special_accuracy_lenient\"])"
   ]
  },
  {
   "cell_type": "code",
   "execution_count": 82,
   "metadata": {},
   "outputs": [
    {
     "name": "stdout",
     "output_type": "stream",
     "text": [
      "0.0\n",
      "0.88\n",
      "0.0\n",
      "0.6\n"
     ]
    }
   ],
   "source": [
    "print(ablation_results_spokes[\"numeric_accuracy_strict\"])\n",
    "print(ablation_results_spokes[\"numeric_accuracy_lenient\"])\n",
    "print(ablation_results_spokes[\"special_accuracy_strict\"])\n",
    "print(ablation_results_spokes[\"special_accuracy_lenient\"])\n"
   ]
  },
  {
   "cell_type": "code",
   "execution_count": 83,
   "metadata": {},
   "outputs": [
    {
     "name": "stdout",
     "output_type": "stream",
     "text": [
      "0.0\n",
      "0.86\n",
      "0.0\n",
      "0.68\n"
     ]
    }
   ],
   "source": [
    "print(ablation_results_hub_spoke_some[\"numeric_accuracy_strict\"])\n",
    "print(ablation_results_hub_spoke_some[\"numeric_accuracy_lenient\"])\n",
    "print(ablation_results_hub_spoke_some[\"special_accuracy_strict\"])\n",
    "print(ablation_results_hub_spoke_some[\"special_accuracy_lenient\"])\n"
   ]
  },
  {
   "cell_type": "code",
   "execution_count": 84,
   "metadata": {},
   "outputs": [
    {
     "name": "stdout",
     "output_type": "stream",
     "text": [
      "0.0\n",
      "0.94\n",
      "0.0\n",
      "0.6\n"
     ]
    }
   ],
   "source": [
    "print(ablated_results_hub_spoke_all[\"numeric_accuracy_strict\"])\n",
    "print(ablated_results_hub_spoke_all[\"numeric_accuracy_lenient\"])\n",
    "print(ablated_results_hub_spoke_all[\"special_accuracy_strict\"])\n",
    "print(ablated_results_hub_spoke_all[\"special_accuracy_lenient\"])\n"
   ]
  }
 ],
 "metadata": {
  "kernelspec": {
   "display_name": "sae-cooccurence-DZTJ6ajw-py3.11",
   "language": "python",
   "name": "python3"
  },
  "language_info": {
   "codemirror_mode": {
    "name": "ipython",
    "version": 3
   },
   "file_extension": ".py",
   "mimetype": "text/x-python",
   "name": "python",
   "nbconvert_exporter": "python",
   "pygments_lexer": "ipython3",
   "version": "3.10.12"
  }
 },
 "nbformat": 4,
 "nbformat_minor": 2
}
