{
 "cells": [
  {
   "cell_type": "code",
   "execution_count": 1,
   "metadata": {},
   "outputs": [],
   "source": [
    "import torch\n",
    "from sae_lens import SAE, ActivationsStore\n",
    "from transformer_lens import HookedTransformer"
   ]
  },
  {
   "cell_type": "code",
   "execution_count": 2,
   "metadata": {},
   "outputs": [],
   "source": [
    "def load_model_and_sae(\n",
    "    model_name: str, sae_release: str, sae_id: str, device: str\n",
    ") -> tuple:\n",
    "    model = HookedTransformer.from_pretrained(model_name, device=device)\n",
    "    sae, _, _ = SAE.from_pretrained(release=sae_release, sae_id=sae_id, device=device)\n",
    "    sae.W_dec.norm(dim=-1).mean()\n",
    "    sae.fold_W_dec_norm()\n",
    "    return model, sae"
   ]
  },
  {
   "cell_type": "code",
   "execution_count": 3,
   "metadata": {},
   "outputs": [
    {
     "name": "stderr",
     "output_type": "stream",
     "text": [
      "WARNING:root:You tried to specify center_unembed=True for a model using logit softcap, but this can't be done! Softcapping is not invariant upon adding a constantSetting center_unembed=False instead.\n"
     ]
    },
    {
     "data": {
      "application/vnd.jupyter.widget-view+json": {
       "model_id": "f9e1d80571b547cdaa44a1620159c0c7",
       "version_major": 2,
       "version_minor": 0
      },
      "text/plain": [
       "Loading checkpoint shards:   0%|          | 0/3 [00:00<?, ?it/s]"
      ]
     },
     "metadata": {},
     "output_type": "display_data"
    },
    {
     "name": "stderr",
     "output_type": "stream",
     "text": [
      "WARNING:root:You are not using LayerNorm, so the writing weights can't be centered! Skipping\n"
     ]
    },
    {
     "name": "stdout",
     "output_type": "stream",
     "text": [
      "Loaded pretrained model gemma-2-2b into HookedTransformer\n"
     ]
    }
   ],
   "source": [
    "model_gemma, sae_gemma = load_model_and_sae(\n",
    "    \"gemma-2-2b\",\n",
    "    \"gemma-scope-2b-pt-res-canonical\",\n",
    "    \"layer_18/width_16k/canonical\",\n",
    "    \"mps\",\n",
    ")"
   ]
  },
  {
   "cell_type": "code",
   "execution_count": 4,
   "metadata": {},
   "outputs": [
    {
     "name": "stdout",
     "output_type": "stream",
     "text": [
      "Loaded pretrained model gpt2-small into HookedTransformer\n"
     ]
    },
    {
     "name": "stderr",
     "output_type": "stream",
     "text": [
      "/Users/matthew/Library/Caches/pypoetry/virtualenvs/sae-cooccurence-DZTJ6ajw-py3.11/lib/python3.11/site-packages/sae_lens/sae.py:136: UserWarning: \n",
      "This SAE has non-empty model_from_pretrained_kwargs. \n",
      "For optimal performance, load the model like so:\n",
      "model = HookedSAETransformer.from_pretrained_no_processing(..., **cfg.model_from_pretrained_kwargs)\n",
      "  warnings.warn(\n"
     ]
    }
   ],
   "source": [
    "model_gpt2, sae_gpt2 = load_model_and_sae(\n",
    "    \"gpt2-small\",\n",
    "    \"gpt2-small-res-jb-feature-splitting\",\n",
    "    \"blocks.8.hook_resid_pre_768\",\n",
    "    \"mps\",\n",
    ")"
   ]
  },
  {
   "cell_type": "code",
   "execution_count": 5,
   "metadata": {},
   "outputs": [
    {
     "name": "stderr",
     "output_type": "stream",
     "text": [
      "huggingface/tokenizers: The current process just got forked, after parallelism has already been used. Disabling parallelism to avoid deadlocks...\n",
      "To disable this warning, you can either:\n",
      "\t- Avoid using `tokenizers` before the fork if possible\n",
      "\t- Explicitly set the environment variable TOKENIZERS_PARALLELISM=(true | false)\n",
      "/Users/matthew/Library/Caches/pypoetry/virtualenvs/sae-cooccurence-DZTJ6ajw-py3.11/lib/python3.11/site-packages/sae_lens/training/activations_store.py:245: UserWarning: Dataset is not tokenized. Pre-tokenizing will improve performance and allows for more control over special tokens. See https://jbloomaus.github.io/SAELens/training_saes/#pretokenizing-datasets for more info.\n",
      "  warnings.warn(\n"
     ]
    }
   ],
   "source": [
    "activation_store_gpt2 = ActivationsStore.from_sae(\n",
    "    model=model_gpt2,\n",
    "    sae=sae_gpt2,\n",
    "    streaming=True,\n",
    "    store_batch_size_prompts=8,\n",
    "    train_batch_size_tokens=512,\n",
    "    n_batches_in_buffer=16,\n",
    "    device=\"mps\",\n",
    ")"
   ]
  },
  {
   "cell_type": "code",
   "execution_count": 6,
   "metadata": {},
   "outputs": [
    {
     "data": {
      "application/vnd.jupyter.widget-view+json": {
       "model_id": "1dd533d27b9b4d9a8301b9fcdc99e650",
       "version_major": 2,
       "version_minor": 0
      },
      "text/plain": [
       "Resolving data files:   0%|          | 0/30 [00:00<?, ?it/s]"
      ]
     },
     "metadata": {},
     "output_type": "display_data"
    }
   ],
   "source": [
    "activation_store_gemma = ActivationsStore.from_sae(\n",
    "    model=model_gemma,\n",
    "    sae=sae_gemma,\n",
    "    streaming=True,\n",
    "    store_batch_size_prompts=8,\n",
    "    train_batch_size_tokens=512,\n",
    "    n_batches_in_buffer=16,\n",
    "    device=\"mps\",\n",
    ")"
   ]
  },
  {
   "cell_type": "code",
   "execution_count": 7,
   "metadata": {},
   "outputs": [],
   "source": [
    "def get_feature_activations_for_batch(\n",
    "    activation_store: ActivationsStore, sae: SAE\n",
    ") -> torch.Tensor:\n",
    "    activations_batch = activation_store.next_batch()\n",
    "    feature_acts = sae.encode(activations_batch).squeeze()\n",
    "    return feature_acts"
   ]
  },
  {
   "cell_type": "code",
   "execution_count": null,
   "metadata": {},
   "outputs": [],
   "source": [
    "# def get_feature_activations_for_batch_V2(\n",
    "#     activation_store: ActivationsStore, sae: SAE, remove_bos: bool = False,\n",
    "# ) -> torch.Tensor:\n",
    "# if remove_bos:\n",
    "\n",
    "# else:\n",
    "#     activations_batch = activation_store.next_batch()\n",
    "#     feature_acts = sae.encode(activations_batch).squeeze()\n",
    "#     return feature_acts"
   ]
  },
  {
   "cell_type": "code",
   "execution_count": 8,
   "metadata": {},
   "outputs": [
    {
     "name": "stderr",
     "output_type": "stream",
     "text": [
      "Token indices sequence length is longer than the specified maximum sequence length for this model (1217 > 1024). Running this sequence through the model will result in indexing errors\n"
     ]
    }
   ],
   "source": [
    "feature_acts_gpt2 = get_feature_activations_for_batch(activation_store_gpt2, sae_gpt2)"
   ]
  },
  {
   "cell_type": "code",
   "execution_count": 9,
   "metadata": {},
   "outputs": [],
   "source": [
    "feature_acts_gemma = get_feature_activations_for_batch(\n",
    "    activation_store_gemma, sae_gemma\n",
    ")"
   ]
  },
  {
   "cell_type": "code",
   "execution_count": 21,
   "metadata": {},
   "outputs": [],
   "source": [
    "activation_store_next_tokens_gpt2 = activation_store_gpt2.get_batch_tokens(\n",
    "    512\n",
    ")  # TODO what does the batch size here correspond to compared to activation_store.next_batch()?"
   ]
  },
  {
   "cell_type": "code",
   "execution_count": 38,
   "metadata": {},
   "outputs": [
    {
     "data": {
      "text/plain": [
       "SAEConfig(architecture='standard', d_in=768, d_sae=768, activation_fn_str='relu', apply_b_dec_to_input=True, finetuning_scaling_factor=False, context_size=128, model_name='gpt2-small', hook_name='blocks.8.hook_resid_pre', hook_layer=8, hook_head_index=None, prepend_bos=True, dataset_path='Skylion007/openwebtext', dataset_trust_remote_code=True, normalize_activations='none', dtype='torch.float32', device='mps', sae_lens_training_version=None, activation_fn_kwargs={}, neuronpedia_id='gpt2-small/8-res_fs768-jb', model_from_pretrained_kwargs={'center_writing_weights': True})"
      ]
     },
     "execution_count": 38,
     "metadata": {},
     "output_type": "execute_result"
    }
   ],
   "source": [
    "sae_gpt2.cfg"
   ]
  },
  {
   "cell_type": "code",
   "execution_count": 23,
   "metadata": {},
   "outputs": [
    {
     "data": {
      "text/plain": [
       "torch.Size([512, 1, 768])"
      ]
     },
     "execution_count": 23,
     "metadata": {},
     "output_type": "execute_result"
    }
   ],
   "source": [
    "activation_store_gpt2.next_batch().shape"
   ]
  },
  {
   "cell_type": "code",
   "execution_count": 31,
   "metadata": {},
   "outputs": [
    {
     "data": {
      "text/plain": [
       "torch.Size([512, 768])"
      ]
     },
     "execution_count": 31,
     "metadata": {},
     "output_type": "execute_result"
    }
   ],
   "source": [
    "sae_gpt2.encode(activation_store_gpt2.next_batch()).squeeze().shape"
   ]
  },
  {
   "cell_type": "code",
   "execution_count": 24,
   "metadata": {},
   "outputs": [
    {
     "data": {
      "text/plain": [
       "torch.Size([512, 128])"
      ]
     },
     "execution_count": 24,
     "metadata": {},
     "output_type": "execute_result"
    }
   ],
   "source": [
    "activation_store_next_tokens_gpt2.shape"
   ]
  },
  {
   "cell_type": "code",
   "execution_count": 25,
   "metadata": {},
   "outputs": [],
   "source": [
    "activation_store_next_activations_gpt2 = activation_store_gpt2.get_activations(\n",
    "    activation_store_next_tokens_gpt2\n",
    ")"
   ]
  },
  {
   "cell_type": "code",
   "execution_count": 26,
   "metadata": {},
   "outputs": [
    {
     "data": {
      "text/plain": [
       "torch.Size([512, 128, 1, 768])"
      ]
     },
     "execution_count": 26,
     "metadata": {},
     "output_type": "execute_result"
    }
   ],
   "source": [
    "activation_store_next_activations_gpt2.shape"
   ]
  },
  {
   "cell_type": "code",
   "execution_count": 34,
   "metadata": {},
   "outputs": [
    {
     "data": {
      "text/plain": [
       "torch.Size([512, 128, 768])"
      ]
     },
     "execution_count": 34,
     "metadata": {},
     "output_type": "execute_result"
    }
   ],
   "source": [
    "sae_gpt2.encode(\n",
    "    activation_store_next_activations_gpt2.to(sae_gpt2.device)\n",
    ").squeeze().shape"
   ]
  },
  {
   "cell_type": "markdown",
   "metadata": {},
   "source": [
    "I assume 128 is the context size, but why is that not in activation_store_next_batch"
   ]
  },
  {
   "cell_type": "code",
   "execution_count": 27,
   "metadata": {},
   "outputs": [
    {
     "data": {
      "text/plain": [
       "tensor([[[[-5.0307, -5.0059, -4.4554,  ..., -3.5955, -3.8039, -4.3690]],\n",
       "\n",
       "         [[-2.4923, -2.6130,  2.2372,  ..., -0.0945,  3.0682, -1.8286]],\n",
       "\n",
       "         [[ 2.3606, -1.6244,  2.0544,  ..., -1.6243, -2.7236, -0.8094]],\n",
       "\n",
       "         ...,\n",
       "\n",
       "         [[-0.6191, -3.4665, -3.6182,  ...,  0.4603, -2.6606, -0.2052]],\n",
       "\n",
       "         [[-3.6598, -0.2019, -3.6620,  ..., -0.2777, -0.9004, -0.3089]],\n",
       "\n",
       "         [[-3.0647, -1.1830,  0.9124,  ..., -4.2562, -1.3175, -2.9928]]],\n",
       "\n",
       "\n",
       "        [[[-5.0307, -5.0059, -4.4554,  ..., -3.5955, -3.8039, -4.3690]],\n",
       "\n",
       "         [[-3.1296, -4.9407, -0.2796,  ..., -1.9244,  2.2836,  1.6164]],\n",
       "\n",
       "         [[-1.5940, -0.7976, -0.9975,  ...,  1.4505, -2.4658, -0.9321]],\n",
       "\n",
       "         ...,\n",
       "\n",
       "         [[-6.0024,  1.6994, -4.5665,  ..., -2.0314, -2.3249, -1.0301]],\n",
       "\n",
       "         [[-1.4887, -1.9999, -2.6045,  ..., -1.0688, -1.2606,  0.4393]],\n",
       "\n",
       "         [[-4.3008, -0.3957, -2.8906,  ..., -0.0665, -0.2634, -0.9480]]],\n",
       "\n",
       "\n",
       "        [[[-5.0307, -5.0059, -4.4554,  ..., -3.5955, -3.8039, -4.3690]],\n",
       "\n",
       "         [[ 0.0383,  2.2014, -3.5268,  ..., -0.0389,  3.1132,  1.5941]],\n",
       "\n",
       "         [[ 4.7504, -2.8449,  1.3637,  ..., -2.1550, -3.6058, -2.7454]],\n",
       "\n",
       "         ...,\n",
       "\n",
       "         [[ 0.5002, -2.7028, -0.7023,  ...,  3.9936, -0.8990, -1.9607]],\n",
       "\n",
       "         [[ 0.5751, -0.3823,  2.3819,  ...,  0.4948, -1.7215,  0.4324]],\n",
       "\n",
       "         [[-0.1607, -2.0472,  4.0816,  ..., -6.4058,  2.2663,  3.6239]]],\n",
       "\n",
       "\n",
       "        ...,\n",
       "\n",
       "\n",
       "        [[[-5.0307, -5.0059, -4.4554,  ..., -3.5955, -3.8039, -4.3690]],\n",
       "\n",
       "         [[-2.9941, -2.6083,  0.8387,  ..., -0.4143,  0.8570,  2.3251]],\n",
       "\n",
       "         [[ 4.0467, -4.9071,  2.9284,  ..., -0.5959, -5.5356,  0.9107]],\n",
       "\n",
       "         ...,\n",
       "\n",
       "         [[-0.5047, -3.5578, -2.5690,  ...,  4.0909,  1.5916, -0.4031]],\n",
       "\n",
       "         [[-0.5137, -0.6806, -0.0317,  ...,  5.3013,  0.7471,  2.1731]],\n",
       "\n",
       "         [[ 3.3283, -1.4229, -2.6564,  ...,  1.9601, -0.2902, -2.7739]]],\n",
       "\n",
       "\n",
       "        [[[-5.0307, -5.0059, -4.4554,  ..., -3.5955, -3.8039, -4.3690]],\n",
       "\n",
       "         [[-0.9208, -0.7269,  2.3025,  ...,  1.0521, -0.3418, -1.5928]],\n",
       "\n",
       "         [[-1.7586, -3.5879, -1.2308,  ..., -0.0683,  0.3021,  2.7260]],\n",
       "\n",
       "         ...,\n",
       "\n",
       "         [[-2.5663, -2.5963, -1.1471,  ...,  1.4247, -2.2402, -0.1770]],\n",
       "\n",
       "         [[-0.7742,  1.2384,  0.6794,  ...,  2.5783, -1.6923,  3.7398]],\n",
       "\n",
       "         [[ 1.4385, -2.0667, -3.5163,  ...,  0.6548, -4.0553,  0.7574]]],\n",
       "\n",
       "\n",
       "        [[[-5.0307, -5.0059, -4.4554,  ..., -3.5955, -3.8039, -4.3690]],\n",
       "\n",
       "         [[-4.0818,  0.1780,  2.9692,  ..., -3.4095,  2.3240, -0.6950]],\n",
       "\n",
       "         [[-0.0758,  2.9293, -4.7223,  ..., -1.1630, -1.1909, -2.3457]],\n",
       "\n",
       "         ...,\n",
       "\n",
       "         [[ 5.1316, -0.6942,  5.5945,  ..., -1.2884,  0.0636,  3.0334]],\n",
       "\n",
       "         [[-1.8071,  0.0978,  5.7681,  ...,  0.0444,  4.6414, -2.6848]],\n",
       "\n",
       "         [[-2.5817,  1.5703, -0.8825,  ..., -0.5360,  0.0248,  1.3461]]]])"
      ]
     },
     "execution_count": 27,
     "metadata": {},
     "output_type": "execute_result"
    }
   ],
   "source": [
    "activation_store_next_activations_gpt2"
   ]
  },
  {
   "cell_type": "code",
   "execution_count": 12,
   "metadata": {},
   "outputs": [],
   "source": [
    "# Decode the tokens to get the actual text\n",
    "decoded_tokens_gpt2 = model_gpt2.to_string(activation_store_next_tokens_gpt2)\n",
    "\n",
    "# Print the decoded text\n",
    "# print(\"Decoded tokens from GPT-2 activation store:\")\n",
    "# for text in decoded_tokens_gpt2:\n",
    "#     print(text)\n",
    "#     print(\"-\" * 50)  # Separator between texts"
   ]
  },
  {
   "cell_type": "code",
   "execution_count": 13,
   "metadata": {},
   "outputs": [],
   "source": [
    "activation_store_next_tokens_gemma = activation_store_gemma.get_batch_tokens(8)"
   ]
  },
  {
   "cell_type": "code",
   "execution_count": 14,
   "metadata": {},
   "outputs": [
    {
     "data": {
      "text/plain": [
       "tensor([[     2, 235265,    108,  ...,   1089,   1142,    576],\n",
       "        [     2,  14194,  33591,  ...,  35092,  33576,    752],\n",
       "        [     2,   1208,    614,  ..., 235323,   5356,    697],\n",
       "        ...,\n",
       "        [     2,  10951,   7075,  ...,  20907,    994, 235312],\n",
       "        [     2, 235293, 235274,  ..., 235297, 235298, 235252],\n",
       "        [     2,  97682,  33576,  ...,   2191, 235317, 235284]],\n",
       "       device='mps:0')"
      ]
     },
     "execution_count": 14,
     "metadata": {},
     "output_type": "execute_result"
    }
   ],
   "source": [
    "activation_store_next_tokens_gemma"
   ]
  },
  {
   "cell_type": "code",
   "execution_count": 15,
   "metadata": {},
   "outputs": [],
   "source": [
    "# Decode the tokens to get the actual text\n",
    "decoded_tokens_gemma = model_gemma.to_string(activation_store_next_tokens_gemma)\n",
    "\n",
    "# Print the decoded text\n",
    "# print(\"Decoded tokens from gemma activation store:\")\n",
    "# for text in decoded_tokens_gemma:\n",
    "#     print(text)\n",
    "#     print(\"-\" * 50)  # Separator between texts"
   ]
  },
  {
   "cell_type": "code",
   "execution_count": 16,
   "metadata": {},
   "outputs": [
    {
     "name": "stdout",
     "output_type": "stream",
     "text": [
      "First 10 tokens from GPT-2 activation store:\n",
      "<|endoftext|> of pace back for the Bengals.<|endoftext|>About\n",
      "--------------------------------------------------\n",
      "<|endoftext|> match play and compare your scores to other player\n",
      "--------------------------------------------------\n",
      "<|endoftext|>jack 21, Cheating and Wild West Show\n",
      "--------------------------------------------------\n",
      "<|endoftext|> Worldwide\n",
      "\n",
      "★ 6 Exciting Game Modes\n",
      "--------------------------------------------------\n",
      "<|endoftext|> Blackjack is a program I created because I\n",
      "--------------------------------------------------\n",
      "<|endoftext|>F ancy cars have always been an important\n",
      "--------------------------------------------------\n",
      "<|endoftext|> gained popularity and which have lost favor. An\n",
      "--------------------------------------------------\n",
      "<|endoftext|> specifically the ’64 year model.\n",
      "\n",
      "--------------------------------------------------\n",
      "\n",
      "First 10 tokens from Gemma activation store:\n",
      "<bos>.\n",
      "Others have sought, with varying degrees\n",
      "--------------------------------------------------\n",
      "<bos> continuous scalar polynomials $P_1,\\cdots\n",
      "--------------------------------------------------\n",
      "<bos>}$ be an ultrafilter on $I$,\n",
      "--------------------------------------------------\n",
      "<bos>x_i\\in X_i$\n",
      "--------------------------------------------------\n",
      "<bos> the smallest constant that satisfies (\\[problema\\]\n",
      "--------------------------------------------------\n",
      "<bos>,\\lambda)=\\sum_{l=0}^\n",
      "--------------------------------------------------\n",
      "<bos>=1}^{n} \\Vert P_\n",
      "--------------------------------------------------\n",
      "<bos>)_{\\mathfrak U}$ be any point in $\n",
      "--------------------------------------------------\n"
     ]
    }
   ],
   "source": [
    "# For GPT-2\n",
    "print(\"First 10 tokens from GPT-2 activation store:\")\n",
    "for tokens in activation_store_next_tokens_gpt2[:, :10]:\n",
    "    decoded = model_gpt2.to_string(tokens)\n",
    "    print(decoded)\n",
    "    print(\"-\" * 50)  # Separator between texts\n",
    "\n",
    "# For Gemma\n",
    "print(\"\\nFirst 10 tokens from Gemma activation store:\")\n",
    "for tokens in activation_store_next_tokens_gemma[:, :10]:\n",
    "    decoded = model_gemma.to_string(tokens)\n",
    "    print(decoded)\n",
    "    print(\"-\" * 50)  # Separator between texts"
   ]
  }
 ],
 "metadata": {
  "kernelspec": {
   "display_name": "sae-cooccurence-DZTJ6ajw-py3.11",
   "language": "python",
   "name": "python3"
  },
  "language_info": {
   "codemirror_mode": {
    "name": "ipython",
    "version": 3
   },
   "file_extension": ".py",
   "mimetype": "text/x-python",
   "name": "python",
   "nbconvert_exporter": "python",
   "pygments_lexer": "ipython3",
   "version": "3.11.4"
  }
 },
 "nbformat": 4,
 "nbformat_minor": 2
}
