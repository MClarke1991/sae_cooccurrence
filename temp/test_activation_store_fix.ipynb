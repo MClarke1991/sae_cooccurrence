{
 "cells": [
  {
   "cell_type": "code",
   "execution_count": 1,
   "metadata": {},
   "outputs": [],
   "source": [
    "import torch\n",
    "from sae_lens import SAE, ActivationsStore\n",
    "from transformer_lens import HookedTransformer"
   ]
  },
  {
   "cell_type": "code",
   "execution_count": 2,
   "metadata": {},
   "outputs": [],
   "source": [
    "def load_model_and_sae(\n",
    "    model_name: str, sae_release: str, sae_id: str, device: str\n",
    ") -> tuple:\n",
    "    model = HookedTransformer.from_pretrained(model_name, device=device)\n",
    "    sae, _, _ = SAE.from_pretrained(release=sae_release, sae_id=sae_id, device=device)\n",
    "    sae.W_dec.norm(dim=-1).mean()\n",
    "    sae.fold_W_dec_norm()\n",
    "    return model, sae"
   ]
  },
  {
   "cell_type": "code",
   "execution_count": 3,
   "metadata": {},
   "outputs": [
    {
     "name": "stderr",
     "output_type": "stream",
     "text": [
      "WARNING:root:You tried to specify center_unembed=True for a model using logit softcap, but this can't be done! Softcapping is not invariant upon adding a constantSetting center_unembed=False instead.\n"
     ]
    },
    {
     "data": {
      "application/vnd.jupyter.widget-view+json": {
       "model_id": "7114fa6a1a07490e8d25c05f33343805",
       "version_major": 2,
       "version_minor": 0
      },
      "text/plain": [
       "Loading checkpoint shards:   0%|          | 0/3 [00:00<?, ?it/s]"
      ]
     },
     "metadata": {},
     "output_type": "display_data"
    },
    {
     "name": "stderr",
     "output_type": "stream",
     "text": [
      "WARNING:root:You are not using LayerNorm, so the writing weights can't be centered! Skipping\n"
     ]
    },
    {
     "name": "stdout",
     "output_type": "stream",
     "text": [
      "Loaded pretrained model gemma-2-2b into HookedTransformer\n"
     ]
    }
   ],
   "source": [
    "model_gemma, sae_gemma = load_model_and_sae(\n",
    "    \"gemma-2-2b\",\n",
    "    \"gemma-scope-2b-pt-res-canonical\",\n",
    "    \"layer_18/width_16k/canonical\",\n",
    "    \"mps\",\n",
    ")"
   ]
  },
  {
   "cell_type": "code",
   "execution_count": 6,
   "metadata": {},
   "outputs": [
    {
     "name": "stdout",
     "output_type": "stream",
     "text": [
      "2\n",
      "1\n",
      "0\n"
     ]
    }
   ],
   "source": [
    "print(model_gemma.tokenizer.bos_token_id)\n",
    "print(model_gemma.tokenizer.eos_token_id)\n",
    "print(model_gemma.tokenizer.pad_token_id)"
   ]
  },
  {
   "cell_type": "code",
   "execution_count": 4,
   "metadata": {},
   "outputs": [
    {
     "name": "stdout",
     "output_type": "stream",
     "text": [
      "Loaded pretrained model gpt2-small into HookedTransformer\n"
     ]
    },
    {
     "name": "stderr",
     "output_type": "stream",
     "text": [
      "/Users/matthew/Library/Caches/pypoetry/virtualenvs/sae-cooccurence-DZTJ6ajw-py3.11/lib/python3.11/site-packages/sae_lens/sae.py:136: UserWarning: \n",
      "This SAE has non-empty model_from_pretrained_kwargs. \n",
      "For optimal performance, load the model like so:\n",
      "model = HookedSAETransformer.from_pretrained_no_processing(..., **cfg.model_from_pretrained_kwargs)\n",
      "  warnings.warn(\n"
     ]
    }
   ],
   "source": [
    "model_gpt2, sae_gpt2 = load_model_and_sae(\n",
    "    \"gpt2-small\",\n",
    "    \"gpt2-small-res-jb-feature-splitting\",\n",
    "    \"blocks.8.hook_resid_pre_768\",\n",
    "    \"mps\",\n",
    ")"
   ]
  },
  {
   "cell_type": "code",
   "execution_count": 5,
   "metadata": {},
   "outputs": [
    {
     "name": "stderr",
     "output_type": "stream",
     "text": [
      "huggingface/tokenizers: The current process just got forked, after parallelism has already been used. Disabling parallelism to avoid deadlocks...\n",
      "To disable this warning, you can either:\n",
      "\t- Avoid using `tokenizers` before the fork if possible\n",
      "\t- Explicitly set the environment variable TOKENIZERS_PARALLELISM=(true | false)\n",
      "/Users/matthew/Library/Caches/pypoetry/virtualenvs/sae-cooccurence-DZTJ6ajw-py3.11/lib/python3.11/site-packages/sae_lens/training/activations_store.py:245: UserWarning: Dataset is not tokenized. Pre-tokenizing will improve performance and allows for more control over special tokens. See https://jbloomaus.github.io/SAELens/training_saes/#pretokenizing-datasets for more info.\n",
      "  warnings.warn(\n"
     ]
    }
   ],
   "source": [
    "activation_store_gpt2 = ActivationsStore.from_sae(\n",
    "    model=model_gpt2,\n",
    "    sae=sae_gpt2,\n",
    "    streaming=True,\n",
    "    store_batch_size_prompts=8,\n",
    "    train_batch_size_tokens=512,\n",
    "    n_batches_in_buffer=16,\n",
    "    device=\"mps\",\n",
    ")"
   ]
  },
  {
   "cell_type": "code",
   "execution_count": 4,
   "metadata": {},
   "outputs": [
    {
     "data": {
      "application/vnd.jupyter.widget-view+json": {
       "model_id": "9a46e513728a4b719af894f59fceb1ac",
       "version_major": 2,
       "version_minor": 0
      },
      "text/plain": [
       "Resolving data files:   0%|          | 0/30 [00:00<?, ?it/s]"
      ]
     },
     "metadata": {},
     "output_type": "display_data"
    },
    {
     "name": "stderr",
     "output_type": "stream",
     "text": [
      "huggingface/tokenizers: The current process just got forked, after parallelism has already been used. Disabling parallelism to avoid deadlocks...\n",
      "To disable this warning, you can either:\n",
      "\t- Avoid using `tokenizers` before the fork if possible\n",
      "\t- Explicitly set the environment variable TOKENIZERS_PARALLELISM=(true | false)\n",
      "/Users/matthew/Library/Caches/pypoetry/virtualenvs/sae-cooccurence-DZTJ6ajw-py3.11/lib/python3.11/site-packages/sae_lens/training/activations_store.py:245: UserWarning: Dataset is not tokenized. Pre-tokenizing will improve performance and allows for more control over special tokens. See https://jbloomaus.github.io/SAELens/training_saes/#pretokenizing-datasets for more info.\n",
      "  warnings.warn(\n"
     ]
    }
   ],
   "source": [
    "activation_store_gemma = ActivationsStore.from_sae(\n",
    "    model=model_gemma,\n",
    "    sae=sae_gemma,\n",
    "    streaming=True,\n",
    "    store_batch_size_prompts=8,\n",
    "    train_batch_size_tokens=512,\n",
    "    n_batches_in_buffer=16,\n",
    "    device=\"mps\",\n",
    ")"
   ]
  },
  {
   "cell_type": "code",
   "execution_count": 7,
   "metadata": {},
   "outputs": [],
   "source": [
    "def get_feature_activations_for_batch(\n",
    "    activation_store: ActivationsStore, sae: SAE\n",
    ") -> torch.Tensor:\n",
    "    activations_batch = activation_store.next_batch()\n",
    "    feature_acts = sae.encode(activations_batch).squeeze()\n",
    "    return feature_acts"
   ]
  },
  {
   "cell_type": "code",
   "execution_count": null,
   "metadata": {},
   "outputs": [],
   "source": [
    "# def get_feature_activations_for_batch_V2(\n",
    "#     activation_store: ActivationsStore, sae: SAE, remove_bos: bool = False,\n",
    "# ) -> torch.Tensor:\n",
    "# if remove_bos:\n",
    "\n",
    "# else:\n",
    "#     activations_batch = activation_store.next_batch()\n",
    "#     feature_acts = sae.encode(activations_batch).squeeze()\n",
    "#     return feature_acts"
   ]
  },
  {
   "cell_type": "code",
   "execution_count": 8,
   "metadata": {},
   "outputs": [
    {
     "name": "stderr",
     "output_type": "stream",
     "text": [
      "Token indices sequence length is longer than the specified maximum sequence length for this model (1217 > 1024). Running this sequence through the model will result in indexing errors\n"
     ]
    }
   ],
   "source": [
    "feature_acts_gpt2 = get_feature_activations_for_batch(activation_store_gpt2, sae_gpt2)"
   ]
  },
  {
   "cell_type": "code",
   "execution_count": 9,
   "metadata": {},
   "outputs": [],
   "source": [
    "feature_acts_gemma = get_feature_activations_for_batch(\n",
    "    activation_store_gemma, sae_gemma\n",
    ")"
   ]
  },
  {
   "cell_type": "code",
   "execution_count": 21,
   "metadata": {},
   "outputs": [],
   "source": [
    "activation_store_next_tokens_gpt2 = activation_store_gpt2.get_batch_tokens(\n",
    "    512\n",
    ")  # TODO what does the batch size here correspond to compared to activation_store.next_batch()?"
   ]
  },
  {
   "cell_type": "code",
   "execution_count": 38,
   "metadata": {},
   "outputs": [
    {
     "data": {
      "text/plain": [
       "SAEConfig(architecture='standard', d_in=768, d_sae=768, activation_fn_str='relu', apply_b_dec_to_input=True, finetuning_scaling_factor=False, context_size=128, model_name='gpt2-small', hook_name='blocks.8.hook_resid_pre', hook_layer=8, hook_head_index=None, prepend_bos=True, dataset_path='Skylion007/openwebtext', dataset_trust_remote_code=True, normalize_activations='none', dtype='torch.float32', device='mps', sae_lens_training_version=None, activation_fn_kwargs={}, neuronpedia_id='gpt2-small/8-res_fs768-jb', model_from_pretrained_kwargs={'center_writing_weights': True})"
      ]
     },
     "execution_count": 38,
     "metadata": {},
     "output_type": "execute_result"
    }
   ],
   "source": [
    "sae_gpt2.cfg"
   ]
  },
  {
   "cell_type": "code",
   "execution_count": 23,
   "metadata": {},
   "outputs": [
    {
     "data": {
      "text/plain": [
       "torch.Size([512, 1, 768])"
      ]
     },
     "execution_count": 23,
     "metadata": {},
     "output_type": "execute_result"
    }
   ],
   "source": [
    "activation_store_gpt2.next_batch().shape"
   ]
  },
  {
   "cell_type": "code",
   "execution_count": 43,
   "metadata": {},
   "outputs": [
    {
     "data": {
      "text/plain": [
       "torch.Size([512, 768])"
      ]
     },
     "execution_count": 43,
     "metadata": {},
     "output_type": "execute_result"
    }
   ],
   "source": [
    "sae_gpt2.encode(activation_store_gpt2.next_batch()).squeeze().shape"
   ]
  },
  {
   "cell_type": "code",
   "execution_count": 31,
   "metadata": {},
   "outputs": [
    {
     "data": {
      "text/plain": [
       "torch.Size([512, 768])"
      ]
     },
     "execution_count": 31,
     "metadata": {},
     "output_type": "execute_result"
    }
   ],
   "source": [
    "sae_gpt2.encode(activation_store_gpt2.next_batch()).squeeze().shape"
   ]
  },
  {
   "cell_type": "code",
   "execution_count": 24,
   "metadata": {},
   "outputs": [
    {
     "data": {
      "text/plain": [
       "torch.Size([512, 128])"
      ]
     },
     "execution_count": 24,
     "metadata": {},
     "output_type": "execute_result"
    }
   ],
   "source": [
    "activation_store_next_tokens_gpt2.shape"
   ]
  },
  {
   "cell_type": "code",
   "execution_count": 25,
   "metadata": {},
   "outputs": [],
   "source": [
    "activation_store_next_activations_gpt2 = activation_store_gpt2.get_activations(\n",
    "    activation_store_next_tokens_gpt2\n",
    ")"
   ]
  },
  {
   "cell_type": "code",
   "execution_count": 26,
   "metadata": {},
   "outputs": [
    {
     "data": {
      "text/plain": [
       "torch.Size([512, 128, 1, 768])"
      ]
     },
     "execution_count": 26,
     "metadata": {},
     "output_type": "execute_result"
    }
   ],
   "source": [
    "activation_store_next_activations_gpt2.shape"
   ]
  },
  {
   "cell_type": "code",
   "execution_count": 34,
   "metadata": {},
   "outputs": [
    {
     "data": {
      "text/plain": [
       "torch.Size([512, 128, 768])"
      ]
     },
     "execution_count": 34,
     "metadata": {},
     "output_type": "execute_result"
    }
   ],
   "source": [
    "sae_gpt2.encode(\n",
    "    activation_store_next_activations_gpt2.to(sae_gpt2.device)\n",
    ").squeeze().shape"
   ]
  },
  {
   "cell_type": "markdown",
   "metadata": {},
   "source": [
    "I assume 128 is the context size, but why is that not in activation_store_next_batch"
   ]
  },
  {
   "cell_type": "code",
   "execution_count": 41,
   "metadata": {},
   "outputs": [
    {
     "data": {
      "text/plain": [
       "torch.Size([512, 128, 768])"
      ]
     },
     "execution_count": 41,
     "metadata": {},
     "output_type": "execute_result"
    }
   ],
   "source": [
    "sae_gpt2.encode(\n",
    "    activation_store_next_activations_gpt2.to(sae_gpt2.device)\n",
    ").squeeze().shape\n",
    "# Decode the tokens to get the actual text"
   ]
  },
  {
   "cell_type": "code",
   "execution_count": 12,
   "metadata": {},
   "outputs": [],
   "source": [
    "# Decode the tokens to get the actual text\n",
    "decoded_tokens_gpt2 = model_gpt2.to_string(activation_store_next_tokens_gpt2)\n",
    "\n",
    "# Print the decoded text\n",
    "# print(\"Decoded tokens from GPT-2 activation store:\")\n",
    "# for text in decoded_tokens_gpt2:\n",
    "#     print(text)\n",
    "#     print(\"-\" * 50)  # Separator between texts"
   ]
  },
  {
   "cell_type": "code",
   "execution_count": 5,
   "metadata": {},
   "outputs": [],
   "source": [
    "activation_store_next_tokens_gemma = activation_store_gemma.get_batch_tokens(8)"
   ]
  },
  {
   "cell_type": "code",
   "execution_count": 6,
   "metadata": {},
   "outputs": [
    {
     "data": {
      "text/plain": [
       "tensor([[     2,   1718,    603,  ...,    958,   2839, 235369],\n",
       "        [     2,   4058,    846,  ...,   4297,    573,   2066],\n",
       "        [     2,    576,    573,  ...,    145, 235322,   2863],\n",
       "        ...,\n",
       "        [     2,    573,  13879,  ...,    697, 235294, 235293],\n",
       "        [     2,   7523,  11212,  ...,   1546,  19761,   5398],\n",
       "        [     2,    575,    573,  ...,    793,  28379,    982]],\n",
       "       device='mps:0')"
      ]
     },
     "execution_count": 6,
     "metadata": {},
     "output_type": "execute_result"
    }
   ],
   "source": [
    "activation_store_next_tokens_gemma"
   ]
  },
  {
   "cell_type": "code",
   "execution_count": 15,
   "metadata": {},
   "outputs": [],
   "source": [
    "# Decode the tokens to get the actual text\n",
    "decoded_tokens_gemma = model_gemma.to_string(activation_store_next_tokens_gemma)\n",
    "\n",
    "# Print the decoded text\n",
    "# print(\"Decoded tokens from gemma activation store:\")\n",
    "# for text in decoded_tokens_gemma:\n",
    "#     print(text)\n",
    "#     print(\"-\" * 50)  # Separator between texts"
   ]
  },
  {
   "cell_type": "code",
   "execution_count": 16,
   "metadata": {},
   "outputs": [
    {
     "name": "stdout",
     "output_type": "stream",
     "text": [
      "First 10 tokens from GPT-2 activation store:\n",
      "<|endoftext|> of pace back for the Bengals.<|endoftext|>About\n",
      "--------------------------------------------------\n",
      "<|endoftext|> match play and compare your scores to other player\n",
      "--------------------------------------------------\n",
      "<|endoftext|>jack 21, Cheating and Wild West Show\n",
      "--------------------------------------------------\n",
      "<|endoftext|> Worldwide\n",
      "\n",
      "★ 6 Exciting Game Modes\n",
      "--------------------------------------------------\n",
      "<|endoftext|> Blackjack is a program I created because I\n",
      "--------------------------------------------------\n",
      "<|endoftext|>F ancy cars have always been an important\n",
      "--------------------------------------------------\n",
      "<|endoftext|> gained popularity and which have lost favor. An\n",
      "--------------------------------------------------\n",
      "<|endoftext|> specifically the ’64 year model.\n",
      "\n",
      "--------------------------------------------------\n",
      "\n",
      "First 10 tokens from Gemma activation store:\n",
      "<bos>.\n",
      "Others have sought, with varying degrees\n",
      "--------------------------------------------------\n",
      "<bos> continuous scalar polynomials $P_1,\\cdots\n",
      "--------------------------------------------------\n",
      "<bos>}$ be an ultrafilter on $I$,\n",
      "--------------------------------------------------\n",
      "<bos>x_i\\in X_i$\n",
      "--------------------------------------------------\n",
      "<bos> the smallest constant that satisfies (\\[problema\\]\n",
      "--------------------------------------------------\n",
      "<bos>,\\lambda)=\\sum_{l=0}^\n",
      "--------------------------------------------------\n",
      "<bos>=1}^{n} \\Vert P_\n",
      "--------------------------------------------------\n",
      "<bos>)_{\\mathfrak U}$ be any point in $\n",
      "--------------------------------------------------\n"
     ]
    }
   ],
   "source": [
    "# For GPT-2\n",
    "print(\"First 10 tokens from GPT-2 activation store:\")\n",
    "for tokens in activation_store_next_tokens_gpt2[:, :10]:\n",
    "    decoded = model_gpt2.to_string(tokens)\n",
    "    print(decoded)\n",
    "    print(\"-\" * 50)  # Separator between texts\n",
    "\n",
    "# For Gemma\n",
    "print(\"\\nFirst 10 tokens from Gemma activation store:\")\n",
    "for tokens in activation_store_next_tokens_gemma[:, :10]:\n",
    "    decoded = model_gemma.to_string(tokens)\n",
    "    print(decoded)\n",
    "    print(\"-\" * 50)  # Separator between texts"
   ]
  }
 ],
 "metadata": {
  "kernelspec": {
   "display_name": "sae-cooccurence-DZTJ6ajw-py3.11",
   "language": "python",
   "name": "python3"
  },
  "language_info": {
   "codemirror_mode": {
    "name": "ipython",
    "version": 3
   },
   "file_extension": ".py",
   "mimetype": "text/x-python",
   "name": "python",
   "nbconvert_exporter": "python",
   "pygments_lexer": "ipython3",
   "version": "3.11.4"
  }
 },
 "nbformat": 4,
 "nbformat_minor": 2
}
